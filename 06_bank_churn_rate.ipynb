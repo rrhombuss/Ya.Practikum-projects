{
 "cells": [
  {
   "cell_type": "markdown",
   "metadata": {},
   "source": [
    "# Отток клиентов"
   ]
  },
  {
   "cell_type": "markdown",
   "metadata": {},
   "source": [
    "Из «Бета-Банка» стали уходить клиенты. Каждый месяц. Немного, но заметно. Банковские маркетологи посчитали: сохранять текущих клиентов дешевле, чем привлекать новых.\n",
    "\n",
    "Нужно спрогнозировать, уйдёт клиент из банка в ближайшее время или нет. Вам предоставлены исторические данные о поведении клиентов и расторжении договоров с банком. \n",
    "\n",
    "Постройте модель с предельно большим значением *F1*-меры. Чтобы сдать проект успешно, нужно довести метрику до 0.59. Проверьте *F1*-меру на тестовой выборке самостоятельно.\n",
    "\n",
    "Дополнительно измеряйте *AUC-ROC*, сравнивайте её значение с *F1*-мерой.\n",
    "\n",
    "Источник данных: [https://www.kaggle.com/barelydedicated/bank-customer-churn-modeling](https://www.kaggle.com/barelydedicated/bank-customer-churn-modeling)"
   ]
  },
  {
   "cell_type": "markdown",
   "metadata": {},
   "source": [
    "## Подготовка данных"
   ]
  },
  {
   "cell_type": "code",
   "execution_count": 1,
   "metadata": {},
   "outputs": [],
   "source": [
    "import pandas as pd\n",
    "import numpy as np\n",
    "import seaborn as sns\n",
    "import matplotlib.pyplot as plt\n",
    "from sklearn.tree import DecisionTreeClassifier\n",
    "from sklearn.linear_model import LogisticRegression\n",
    "from sklearn.ensemble import RandomForestClassifier\n",
    "from sklearn.model_selection import train_test_split, GridSearchCV\n",
    "from sklearn.metrics import mean_squared_error, accuracy_score, f1_score, precision_score, recall_score, roc_curve, roc_auc_score\n",
    "from sklearn.preprocessing import StandardScaler\n",
    "from sklearn.utils import shuffle\n",
    "from sklearn.dummy import DummyClassifier\n",
    "import warnings\n"
   ]
  },
  {
   "cell_type": "code",
   "execution_count": 2,
   "metadata": {},
   "outputs": [
    {
     "data": {
      "text/html": [
       "<div>\n",
       "<style scoped>\n",
       "    .dataframe tbody tr th:only-of-type {\n",
       "        vertical-align: middle;\n",
       "    }\n",
       "\n",
       "    .dataframe tbody tr th {\n",
       "        vertical-align: top;\n",
       "    }\n",
       "\n",
       "    .dataframe thead th {\n",
       "        text-align: right;\n",
       "    }\n",
       "</style>\n",
       "<table border=\"1\" class=\"dataframe\">\n",
       "  <thead>\n",
       "    <tr style=\"text-align: right;\">\n",
       "      <th></th>\n",
       "      <th>RowNumber</th>\n",
       "      <th>CustomerId</th>\n",
       "      <th>Surname</th>\n",
       "      <th>CreditScore</th>\n",
       "      <th>Geography</th>\n",
       "      <th>Gender</th>\n",
       "      <th>Age</th>\n",
       "      <th>Tenure</th>\n",
       "      <th>Balance</th>\n",
       "      <th>NumOfProducts</th>\n",
       "      <th>HasCrCard</th>\n",
       "      <th>IsActiveMember</th>\n",
       "      <th>EstimatedSalary</th>\n",
       "      <th>Exited</th>\n",
       "    </tr>\n",
       "  </thead>\n",
       "  <tbody>\n",
       "    <tr>\n",
       "      <th>0</th>\n",
       "      <td>1</td>\n",
       "      <td>15634602</td>\n",
       "      <td>Hargrave</td>\n",
       "      <td>619</td>\n",
       "      <td>France</td>\n",
       "      <td>Female</td>\n",
       "      <td>42</td>\n",
       "      <td>2.0</td>\n",
       "      <td>0.00</td>\n",
       "      <td>1</td>\n",
       "      <td>1</td>\n",
       "      <td>1</td>\n",
       "      <td>101348.88</td>\n",
       "      <td>1</td>\n",
       "    </tr>\n",
       "    <tr>\n",
       "      <th>1</th>\n",
       "      <td>2</td>\n",
       "      <td>15647311</td>\n",
       "      <td>Hill</td>\n",
       "      <td>608</td>\n",
       "      <td>Spain</td>\n",
       "      <td>Female</td>\n",
       "      <td>41</td>\n",
       "      <td>1.0</td>\n",
       "      <td>83807.86</td>\n",
       "      <td>1</td>\n",
       "      <td>0</td>\n",
       "      <td>1</td>\n",
       "      <td>112542.58</td>\n",
       "      <td>0</td>\n",
       "    </tr>\n",
       "    <tr>\n",
       "      <th>2</th>\n",
       "      <td>3</td>\n",
       "      <td>15619304</td>\n",
       "      <td>Onio</td>\n",
       "      <td>502</td>\n",
       "      <td>France</td>\n",
       "      <td>Female</td>\n",
       "      <td>42</td>\n",
       "      <td>8.0</td>\n",
       "      <td>159660.80</td>\n",
       "      <td>3</td>\n",
       "      <td>1</td>\n",
       "      <td>0</td>\n",
       "      <td>113931.57</td>\n",
       "      <td>1</td>\n",
       "    </tr>\n",
       "    <tr>\n",
       "      <th>3</th>\n",
       "      <td>4</td>\n",
       "      <td>15701354</td>\n",
       "      <td>Boni</td>\n",
       "      <td>699</td>\n",
       "      <td>France</td>\n",
       "      <td>Female</td>\n",
       "      <td>39</td>\n",
       "      <td>1.0</td>\n",
       "      <td>0.00</td>\n",
       "      <td>2</td>\n",
       "      <td>0</td>\n",
       "      <td>0</td>\n",
       "      <td>93826.63</td>\n",
       "      <td>0</td>\n",
       "    </tr>\n",
       "    <tr>\n",
       "      <th>4</th>\n",
       "      <td>5</td>\n",
       "      <td>15737888</td>\n",
       "      <td>Mitchell</td>\n",
       "      <td>850</td>\n",
       "      <td>Spain</td>\n",
       "      <td>Female</td>\n",
       "      <td>43</td>\n",
       "      <td>2.0</td>\n",
       "      <td>125510.82</td>\n",
       "      <td>1</td>\n",
       "      <td>1</td>\n",
       "      <td>1</td>\n",
       "      <td>79084.10</td>\n",
       "      <td>0</td>\n",
       "    </tr>\n",
       "  </tbody>\n",
       "</table>\n",
       "</div>"
      ],
      "text/plain": [
       "   RowNumber  CustomerId   Surname  CreditScore Geography  Gender  Age  \\\n",
       "0          1    15634602  Hargrave          619    France  Female   42   \n",
       "1          2    15647311      Hill          608     Spain  Female   41   \n",
       "2          3    15619304      Onio          502    France  Female   42   \n",
       "3          4    15701354      Boni          699    France  Female   39   \n",
       "4          5    15737888  Mitchell          850     Spain  Female   43   \n",
       "\n",
       "   Tenure    Balance  NumOfProducts  HasCrCard  IsActiveMember  \\\n",
       "0     2.0       0.00              1          1               1   \n",
       "1     1.0   83807.86              1          0               1   \n",
       "2     8.0  159660.80              3          1               0   \n",
       "3     1.0       0.00              2          0               0   \n",
       "4     2.0  125510.82              1          1               1   \n",
       "\n",
       "   EstimatedSalary  Exited  \n",
       "0        101348.88       1  \n",
       "1        112542.58       0  \n",
       "2        113931.57       1  \n",
       "3         93826.63       0  \n",
       "4         79084.10       0  "
      ]
     },
     "metadata": {},
     "output_type": "display_data"
    },
    {
     "name": "stdout",
     "output_type": "stream",
     "text": [
      "<class 'pandas.core.frame.DataFrame'>\n",
      "RangeIndex: 10000 entries, 0 to 9999\n",
      "Data columns (total 14 columns):\n",
      " #   Column           Non-Null Count  Dtype  \n",
      "---  ------           --------------  -----  \n",
      " 0   RowNumber        10000 non-null  int64  \n",
      " 1   CustomerId       10000 non-null  int64  \n",
      " 2   Surname          10000 non-null  object \n",
      " 3   CreditScore      10000 non-null  int64  \n",
      " 4   Geography        10000 non-null  object \n",
      " 5   Gender           10000 non-null  object \n",
      " 6   Age              10000 non-null  int64  \n",
      " 7   Tenure           9091 non-null   float64\n",
      " 8   Balance          10000 non-null  float64\n",
      " 9   NumOfProducts    10000 non-null  int64  \n",
      " 10  HasCrCard        10000 non-null  int64  \n",
      " 11  IsActiveMember   10000 non-null  int64  \n",
      " 12  EstimatedSalary  10000 non-null  float64\n",
      " 13  Exited           10000 non-null  int64  \n",
      "dtypes: float64(3), int64(8), object(3)\n",
      "memory usage: 1.1+ MB\n"
     ]
    }
   ],
   "source": [
    "df = pd.read_csv('/datasets/Churn.csv')\n",
    "display(df.head())\n",
    "df.info()"
   ]
  },
  {
   "cell_type": "markdown",
   "metadata": {},
   "source": [
    "Данные предобработаны, есть немного пропусков в колонке Tenure, но в целом готовы для работы"
   ]
  },
  {
   "cell_type": "markdown",
   "metadata": {},
   "source": [
    "## Исследование задачи"
   ]
  },
  {
   "cell_type": "markdown",
   "metadata": {},
   "source": [
    "### Предобработка "
   ]
  },
  {
   "cell_type": "code",
   "execution_count": 3,
   "metadata": {
    "scrolled": true
   },
   "outputs": [
    {
     "data": {
      "text/plain": [
       "0"
      ]
     },
     "execution_count": 3,
     "metadata": {},
     "output_type": "execute_result"
    }
   ],
   "source": [
    "df.duplicated().sum()"
   ]
  },
  {
   "cell_type": "code",
   "execution_count": 4,
   "metadata": {},
   "outputs": [
    {
     "data": {
      "image/png": "[encoded data removed]",
      "text/plain": [
       "<Figure size 1080x1440 with 12 Axes>"
      ]
     },
     "metadata": {
      "needs_background": "light"
     },
     "output_type": "display_data"
    }
   ],
   "source": [
    "df.hist(figsize=(15, 20))\n",
    "plt.show()"
   ]
  },
  {
   "cell_type": "markdown",
   "metadata": {},
   "source": [
    "Дупликатов не наблюдается, есть немного пропусков в колонке 'Tenure', но не критично, аномалии отсутствуют, разве что за исключением большого числа аккаунтов с нулевым балансом"
   ]
  },
  {
   "cell_type": "code",
   "execution_count": 6,
   "metadata": {},
   "outputs": [
    {
     "name": "stdout",
     "output_type": "stream",
     "text": [
      "<class 'pandas.core.frame.DataFrame'>\n",
      "Int64Index: 9091 entries, 0 to 9998\n",
      "Data columns (total 14 columns):\n",
      " #   Column           Non-Null Count  Dtype  \n",
      "---  ------           --------------  -----  \n",
      " 0   RowNumber        9091 non-null   int64  \n",
      " 1   CustomerId       9091 non-null   int64  \n",
      " 2   Surname          9091 non-null   object \n",
      " 3   CreditScore      9091 non-null   int64  \n",
      " 4   Geography        9091 non-null   object \n",
      " 5   Gender           9091 non-null   object \n",
      " 6   Age              9091 non-null   int64  \n",
      " 7   Tenure           9091 non-null   float64\n",
      " 8   Balance          9091 non-null   float64\n",
      " 9   NumOfProducts    9091 non-null   int64  \n",
      " 10  HasCrCard        9091 non-null   int64  \n",
      " 11  IsActiveMember   9091 non-null   int64  \n",
      " 12  EstimatedSalary  9091 non-null   float64\n",
      " 13  Exited           9091 non-null   int64  \n",
      "dtypes: float64(3), int64(8), object(3)\n",
      "memory usage: 1.0+ MB\n"
     ]
    }
   ],
   "source": [
    "df.dropna(subset=['Tenure'], inplace=True)\n",
    "df.info()"
   ]
  },
  {
   "cell_type": "code",
   "execution_count": 7,
   "metadata": {},
   "outputs": [],
   "source": [
    "df = df.drop(['CustomerId', 'RowNumber', 'Surname'], axis=1)\n",
    "df = pd.get_dummies(df, drop_first=True, columns=['Geography', 'Gender', 'Tenure', 'NumOfProducts'])"
   ]
  },
  {
   "cell_type": "markdown",
   "metadata": {},
   "source": [
    "уберем некоторые колонки, которые не пригодятся для обучения модели и только помешают, также приведем таблицу к формату OHE для категориальных данных"
   ]
  },
  {
   "cell_type": "code",
   "execution_count": 8,
   "metadata": {},
   "outputs": [
    {
     "data": {
      "text/html": [
       "<div>\n",
       "<style scoped>\n",
       "    .dataframe tbody tr th:only-of-type {\n",
       "        vertical-align: middle;\n",
       "    }\n",
       "\n",
       "    .dataframe tbody tr th {\n",
       "        vertical-align: top;\n",
       "    }\n",
       "\n",
       "    .dataframe thead th {\n",
       "        text-align: right;\n",
       "    }\n",
       "</style>\n",
       "<table border=\"1\" class=\"dataframe\">\n",
       "  <thead>\n",
       "    <tr style=\"text-align: right;\">\n",
       "      <th></th>\n",
       "      <th>CreditScore</th>\n",
       "      <th>Age</th>\n",
       "      <th>Balance</th>\n",
       "      <th>HasCrCard</th>\n",
       "      <th>IsActiveMember</th>\n",
       "      <th>EstimatedSalary</th>\n",
       "      <th>Exited</th>\n",
       "      <th>Geography_Germany</th>\n",
       "      <th>Geography_Spain</th>\n",
       "      <th>Gender_Male</th>\n",
       "      <th>...</th>\n",
       "      <th>Tenure_4.0</th>\n",
       "      <th>Tenure_5.0</th>\n",
       "      <th>Tenure_6.0</th>\n",
       "      <th>Tenure_7.0</th>\n",
       "      <th>Tenure_8.0</th>\n",
       "      <th>Tenure_9.0</th>\n",
       "      <th>Tenure_10.0</th>\n",
       "      <th>NumOfProducts_2</th>\n",
       "      <th>NumOfProducts_3</th>\n",
       "      <th>NumOfProducts_4</th>\n",
       "    </tr>\n",
       "  </thead>\n",
       "  <tbody>\n",
       "    <tr>\n",
       "      <th>0</th>\n",
       "      <td>619</td>\n",
       "      <td>42</td>\n",
       "      <td>0.00</td>\n",
       "      <td>1</td>\n",
       "      <td>1</td>\n",
       "      <td>101348.88</td>\n",
       "      <td>1</td>\n",
       "      <td>0</td>\n",
       "      <td>0</td>\n",
       "      <td>0</td>\n",
       "      <td>...</td>\n",
       "      <td>0</td>\n",
       "      <td>0</td>\n",
       "      <td>0</td>\n",
       "      <td>0</td>\n",
       "      <td>0</td>\n",
       "      <td>0</td>\n",
       "      <td>0</td>\n",
       "      <td>0</td>\n",
       "      <td>0</td>\n",
       "      <td>0</td>\n",
       "    </tr>\n",
       "    <tr>\n",
       "      <th>1</th>\n",
       "      <td>608</td>\n",
       "      <td>41</td>\n",
       "      <td>83807.86</td>\n",
       "      <td>0</td>\n",
       "      <td>1</td>\n",
       "      <td>112542.58</td>\n",
       "      <td>0</td>\n",
       "      <td>0</td>\n",
       "      <td>1</td>\n",
       "      <td>0</td>\n",
       "      <td>...</td>\n",
       "      <td>0</td>\n",
       "      <td>0</td>\n",
       "      <td>0</td>\n",
       "      <td>0</td>\n",
       "      <td>0</td>\n",
       "      <td>0</td>\n",
       "      <td>0</td>\n",
       "      <td>0</td>\n",
       "      <td>0</td>\n",
       "      <td>0</td>\n",
       "    </tr>\n",
       "    <tr>\n",
       "      <th>2</th>\n",
       "      <td>502</td>\n",
       "      <td>42</td>\n",
       "      <td>159660.80</td>\n",
       "      <td>1</td>\n",
       "      <td>0</td>\n",
       "      <td>113931.57</td>\n",
       "      <td>1</td>\n",
       "      <td>0</td>\n",
       "      <td>0</td>\n",
       "      <td>0</td>\n",
       "      <td>...</td>\n",
       "      <td>0</td>\n",
       "      <td>0</td>\n",
       "      <td>0</td>\n",
       "      <td>0</td>\n",
       "      <td>1</td>\n",
       "      <td>0</td>\n",
       "      <td>0</td>\n",
       "      <td>0</td>\n",
       "      <td>1</td>\n",
       "      <td>0</td>\n",
       "    </tr>\n",
       "    <tr>\n",
       "      <th>3</th>\n",
       "      <td>699</td>\n",
       "      <td>39</td>\n",
       "      <td>0.00</td>\n",
       "      <td>0</td>\n",
       "      <td>0</td>\n",
       "      <td>93826.63</td>\n",
       "      <td>0</td>\n",
       "      <td>0</td>\n",
       "      <td>0</td>\n",
       "      <td>0</td>\n",
       "      <td>...</td>\n",
       "      <td>0</td>\n",
       "      <td>0</td>\n",
       "      <td>0</td>\n",
       "      <td>0</td>\n",
       "      <td>0</td>\n",
       "      <td>0</td>\n",
       "      <td>0</td>\n",
       "      <td>1</td>\n",
       "      <td>0</td>\n",
       "      <td>0</td>\n",
       "    </tr>\n",
       "    <tr>\n",
       "      <th>4</th>\n",
       "      <td>850</td>\n",
       "      <td>43</td>\n",
       "      <td>125510.82</td>\n",
       "      <td>1</td>\n",
       "      <td>1</td>\n",
       "      <td>79084.10</td>\n",
       "      <td>0</td>\n",
       "      <td>0</td>\n",
       "      <td>1</td>\n",
       "      <td>0</td>\n",
       "      <td>...</td>\n",
       "      <td>0</td>\n",
       "      <td>0</td>\n",
       "      <td>0</td>\n",
       "      <td>0</td>\n",
       "      <td>0</td>\n",
       "      <td>0</td>\n",
       "      <td>0</td>\n",
       "      <td>0</td>\n",
       "      <td>0</td>\n",
       "      <td>0</td>\n",
       "    </tr>\n",
       "  </tbody>\n",
       "</table>\n",
       "<p>5 rows × 23 columns</p>\n",
       "</div>"
      ],
      "text/plain": [
       "   CreditScore  Age    Balance  HasCrCard  IsActiveMember  EstimatedSalary  \\\n",
       "0          619   42       0.00          1               1        101348.88   \n",
       "1          608   41   83807.86          0               1        112542.58   \n",
       "2          502   42  159660.80          1               0        113931.57   \n",
       "3          699   39       0.00          0               0         93826.63   \n",
       "4          850   43  125510.82          1               1         79084.10   \n",
       "\n",
       "   Exited  Geography_Germany  Geography_Spain  Gender_Male  ...  Tenure_4.0  \\\n",
       "0       1                  0                0            0  ...           0   \n",
       "1       0                  0                1            0  ...           0   \n",
       "2       1                  0                0            0  ...           0   \n",
       "3       0                  0                0            0  ...           0   \n",
       "4       0                  0                1            0  ...           0   \n",
       "\n",
       "   Tenure_5.0  Tenure_6.0  Tenure_7.0  Tenure_8.0  Tenure_9.0  Tenure_10.0  \\\n",
       "0           0           0           0           0           0            0   \n",
       "1           0           0           0           0           0            0   \n",
       "2           0           0           0           1           0            0   \n",
       "3           0           0           0           0           0            0   \n",
       "4           0           0           0           0           0            0   \n",
       "\n",
       "   NumOfProducts_2  NumOfProducts_3  NumOfProducts_4  \n",
       "0                0                0                0  \n",
       "1                0                0                0  \n",
       "2                0                1                0  \n",
       "3                1                0                0  \n",
       "4                0                0                0  \n",
       "\n",
       "[5 rows x 23 columns]"
      ]
     },
     "metadata": {},
     "output_type": "display_data"
    },
    {
     "name": "stdout",
     "output_type": "stream",
     "text": [
      "<class 'pandas.core.frame.DataFrame'>\n",
      "Int64Index: 9091 entries, 0 to 9998\n",
      "Data columns (total 23 columns):\n",
      " #   Column             Non-Null Count  Dtype  \n",
      "---  ------             --------------  -----  \n",
      " 0   CreditScore        9091 non-null   int64  \n",
      " 1   Age                9091 non-null   int64  \n",
      " 2   Balance            9091 non-null   float64\n",
      " 3   HasCrCard          9091 non-null   int64  \n",
      " 4   IsActiveMember     9091 non-null   int64  \n",
      " 5   EstimatedSalary    9091 non-null   float64\n",
      " 6   Exited             9091 non-null   int64  \n",
      " 7   Geography_Germany  9091 non-null   uint8  \n",
      " 8   Geography_Spain    9091 non-null   uint8  \n",
      " 9   Gender_Male        9091 non-null   uint8  \n",
      " 10  Tenure_1.0         9091 non-null   uint8  \n",
      " 11  Tenure_2.0         9091 non-null   uint8  \n",
      " 12  Tenure_3.0         9091 non-null   uint8  \n",
      " 13  Tenure_4.0         9091 non-null   uint8  \n",
      " 14  Tenure_5.0         9091 non-null   uint8  \n",
      " 15  Tenure_6.0         9091 non-null   uint8  \n",
      " 16  Tenure_7.0         9091 non-null   uint8  \n",
      " 17  Tenure_8.0         9091 non-null   uint8  \n",
      " 18  Tenure_9.0         9091 non-null   uint8  \n",
      " 19  Tenure_10.0        9091 non-null   uint8  \n",
      " 20  NumOfProducts_2    9091 non-null   uint8  \n",
      " 21  NumOfProducts_3    9091 non-null   uint8  \n",
      " 22  NumOfProducts_4    9091 non-null   uint8  \n",
      "dtypes: float64(2), int64(5), uint8(16)\n",
      "memory usage: 710.2 KB\n",
      "\n",
      " \n",
      "value counts of exited:\n",
      "0    7237\n",
      "1    1854\n",
      "Name: Exited, dtype: int64\n",
      "\n",
      "disbalance of classes:\n"
     ]
    },
    {
     "data": {
      "text/plain": [
       "0.2039379606203938"
      ]
     },
     "execution_count": 8,
     "metadata": {},
     "output_type": "execute_result"
    }
   ],
   "source": [
    "display(df.head())\n",
    "df.info()\n",
    "print('\\n \\nvalue counts of exited:')\n",
    "print(df['Exited'].value_counts())\n",
    "print('\\ndisbalance of classes:')\n",
    "df['Exited'].mean()"
   ]
  },
  {
   "cell_type": "markdown",
   "metadata": {},
   "source": [
    "имеется дисбаланс классов, колонки 'Balance', 'EstimatedSalary' номинально сильно больше чем 'CreditScore', 'age'"
   ]
  },
  {
   "cell_type": "code",
   "execution_count": 40,
   "metadata": {},
   "outputs": [
    {
     "name": "stdout",
     "output_type": "stream",
     "text": [
      "number of rows in features_train 5454\n",
      "number of rows in features_test 1819 \n",
      "if the latter is 3 times smaller the division is done correctly\n"
     ]
    }
   ],
   "source": [
    "features = df.drop(['Exited'], axis=1)\n",
    "target = df['Exited']\n",
    "\n",
    "features_train, features_valid_test, target_train, target_valid_test = train_test_split(\n",
    "    features, target, test_size=0.4, random_state=12345)\n",
    "\n",
    "features_test, features_valid, target_test, target_valid = train_test_split(\n",
    "    features_valid_test, target_valid_test, test_size=0.5, random_state=12345)\n",
    "\n",
    "print('number of rows in features_train', len(features_train))\n",
    "print(\n",
    "    'number of rows in features_test', len(features_valid),\n",
    "    '\\nif the latter is 3 times smaller the division is done correctly'\n",
    ")"
   ]
  },
  {
   "cell_type": "code",
   "execution_count": 10,
   "metadata": {},
   "outputs": [],
   "source": [
    "numeric = ['CreditScore', 'Age', 'Balance', 'EstimatedSalary']"
   ]
  },
  {
   "cell_type": "code",
   "execution_count": 11,
   "metadata": {},
   "outputs": [
    {
     "name": "stdout",
     "output_type": "stream",
     "text": [
      "(5454, 22)\n",
      "(1819, 22)\n"
     ]
    }
   ],
   "source": [
    "warnings.filterwarnings('ignore')\n",
    "\n",
    "scaler = StandardScaler()\n",
    "scaler.fit(features_train[numeric])\n",
    "features_train[numeric] = scaler.transform(features_train[numeric])\n",
    "features_valid[numeric] = scaler.transform(features_valid[numeric])\n",
    "features_test[numeric] = scaler.transform(features_test[numeric])\n",
    "\n",
    "print(features_train.shape)\n",
    "print(features_valid.shape)"
   ]
  },
  {
   "cell_type": "code",
   "execution_count": 12,
   "metadata": {},
   "outputs": [
    {
     "data": {
      "text/html": [
       "<div>\n",
       "<style scoped>\n",
       "    .dataframe tbody tr th:only-of-type {\n",
       "        vertical-align: middle;\n",
       "    }\n",
       "\n",
       "    .dataframe tbody tr th {\n",
       "        vertical-align: top;\n",
       "    }\n",
       "\n",
       "    .dataframe thead th {\n",
       "        text-align: right;\n",
       "    }\n",
       "</style>\n",
       "<table border=\"1\" class=\"dataframe\">\n",
       "  <thead>\n",
       "    <tr style=\"text-align: right;\">\n",
       "      <th></th>\n",
       "      <th>CreditScore</th>\n",
       "      <th>Age</th>\n",
       "      <th>Balance</th>\n",
       "      <th>HasCrCard</th>\n",
       "      <th>IsActiveMember</th>\n",
       "      <th>EstimatedSalary</th>\n",
       "      <th>Geography_Germany</th>\n",
       "      <th>Geography_Spain</th>\n",
       "      <th>Gender_Male</th>\n",
       "      <th>Tenure_1.0</th>\n",
       "      <th>...</th>\n",
       "      <th>Tenure_4.0</th>\n",
       "      <th>Tenure_5.0</th>\n",
       "      <th>Tenure_6.0</th>\n",
       "      <th>Tenure_7.0</th>\n",
       "      <th>Tenure_8.0</th>\n",
       "      <th>Tenure_9.0</th>\n",
       "      <th>Tenure_10.0</th>\n",
       "      <th>NumOfProducts_2</th>\n",
       "      <th>NumOfProducts_3</th>\n",
       "      <th>NumOfProducts_4</th>\n",
       "    </tr>\n",
       "  </thead>\n",
       "  <tbody>\n",
       "    <tr>\n",
       "      <th>9344</th>\n",
       "      <td>0.809075</td>\n",
       "      <td>-1.039327</td>\n",
       "      <td>0.554904</td>\n",
       "      <td>1</td>\n",
       "      <td>0</td>\n",
       "      <td>0.019508</td>\n",
       "      <td>0</td>\n",
       "      <td>0</td>\n",
       "      <td>0</td>\n",
       "      <td>0</td>\n",
       "      <td>...</td>\n",
       "      <td>0</td>\n",
       "      <td>0</td>\n",
       "      <td>0</td>\n",
       "      <td>0</td>\n",
       "      <td>0</td>\n",
       "      <td>0</td>\n",
       "      <td>0</td>\n",
       "      <td>0</td>\n",
       "      <td>0</td>\n",
       "      <td>0</td>\n",
       "    </tr>\n",
       "    <tr>\n",
       "      <th>3796</th>\n",
       "      <td>-1.152518</td>\n",
       "      <td>-1.227561</td>\n",
       "      <td>0.480609</td>\n",
       "      <td>0</td>\n",
       "      <td>0</td>\n",
       "      <td>0.056167</td>\n",
       "      <td>0</td>\n",
       "      <td>0</td>\n",
       "      <td>1</td>\n",
       "      <td>0</td>\n",
       "      <td>...</td>\n",
       "      <td>0</td>\n",
       "      <td>0</td>\n",
       "      <td>0</td>\n",
       "      <td>1</td>\n",
       "      <td>0</td>\n",
       "      <td>0</td>\n",
       "      <td>0</td>\n",
       "      <td>0</td>\n",
       "      <td>0</td>\n",
       "      <td>0</td>\n",
       "    </tr>\n",
       "    <tr>\n",
       "      <th>7462</th>\n",
       "      <td>-0.398853</td>\n",
       "      <td>0.090079</td>\n",
       "      <td>-1.237830</td>\n",
       "      <td>1</td>\n",
       "      <td>1</td>\n",
       "      <td>0.848738</td>\n",
       "      <td>0</td>\n",
       "      <td>0</td>\n",
       "      <td>1</td>\n",
       "      <td>0</td>\n",
       "      <td>...</td>\n",
       "      <td>0</td>\n",
       "      <td>0</td>\n",
       "      <td>0</td>\n",
       "      <td>0</td>\n",
       "      <td>0</td>\n",
       "      <td>1</td>\n",
       "      <td>0</td>\n",
       "      <td>0</td>\n",
       "      <td>0</td>\n",
       "      <td>0</td>\n",
       "    </tr>\n",
       "    <tr>\n",
       "      <th>1508</th>\n",
       "      <td>-0.749875</td>\n",
       "      <td>-0.286389</td>\n",
       "      <td>-1.237830</td>\n",
       "      <td>1</td>\n",
       "      <td>1</td>\n",
       "      <td>-0.894953</td>\n",
       "      <td>0</td>\n",
       "      <td>0</td>\n",
       "      <td>1</td>\n",
       "      <td>0</td>\n",
       "      <td>...</td>\n",
       "      <td>0</td>\n",
       "      <td>0</td>\n",
       "      <td>1</td>\n",
       "      <td>0</td>\n",
       "      <td>0</td>\n",
       "      <td>0</td>\n",
       "      <td>0</td>\n",
       "      <td>1</td>\n",
       "      <td>0</td>\n",
       "      <td>0</td>\n",
       "    </tr>\n",
       "    <tr>\n",
       "      <th>4478</th>\n",
       "      <td>-1.028628</td>\n",
       "      <td>-0.756975</td>\n",
       "      <td>-1.237830</td>\n",
       "      <td>0</td>\n",
       "      <td>1</td>\n",
       "      <td>-1.284516</td>\n",
       "      <td>0</td>\n",
       "      <td>0</td>\n",
       "      <td>1</td>\n",
       "      <td>0</td>\n",
       "      <td>...</td>\n",
       "      <td>1</td>\n",
       "      <td>0</td>\n",
       "      <td>0</td>\n",
       "      <td>0</td>\n",
       "      <td>0</td>\n",
       "      <td>0</td>\n",
       "      <td>0</td>\n",
       "      <td>1</td>\n",
       "      <td>0</td>\n",
       "      <td>0</td>\n",
       "    </tr>\n",
       "  </tbody>\n",
       "</table>\n",
       "<p>5 rows × 22 columns</p>\n",
       "</div>"
      ],
      "text/plain": [
       "      CreditScore       Age   Balance  HasCrCard  IsActiveMember  \\\n",
       "9344     0.809075 -1.039327  0.554904          1               0   \n",
       "3796    -1.152518 -1.227561  0.480609          0               0   \n",
       "7462    -0.398853  0.090079 -1.237830          1               1   \n",
       "1508    -0.749875 -0.286389 -1.237830          1               1   \n",
       "4478    -1.028628 -0.756975 -1.237830          0               1   \n",
       "\n",
       "      EstimatedSalary  Geography_Germany  Geography_Spain  Gender_Male  \\\n",
       "9344         0.019508                  0                0            0   \n",
       "3796         0.056167                  0                0            1   \n",
       "7462         0.848738                  0                0            1   \n",
       "1508        -0.894953                  0                0            1   \n",
       "4478        -1.284516                  0                0            1   \n",
       "\n",
       "      Tenure_1.0  ...  Tenure_4.0  Tenure_5.0  Tenure_6.0  Tenure_7.0  \\\n",
       "9344           0  ...           0           0           0           0   \n",
       "3796           0  ...           0           0           0           1   \n",
       "7462           0  ...           0           0           0           0   \n",
       "1508           0  ...           0           0           1           0   \n",
       "4478           0  ...           1           0           0           0   \n",
       "\n",
       "      Tenure_8.0  Tenure_9.0  Tenure_10.0  NumOfProducts_2  NumOfProducts_3  \\\n",
       "9344           0           0            0                0                0   \n",
       "3796           0           0            0                0                0   \n",
       "7462           0           1            0                0                0   \n",
       "1508           0           0            0                1                0   \n",
       "4478           0           0            0                1                0   \n",
       "\n",
       "      NumOfProducts_4  \n",
       "9344                0  \n",
       "3796                0  \n",
       "7462                0  \n",
       "1508                0  \n",
       "4478                0  \n",
       "\n",
       "[5 rows x 22 columns]"
      ]
     },
     "execution_count": 12,
     "metadata": {},
     "output_type": "execute_result"
    }
   ],
   "source": [
    "features_train.head()"
   ]
  },
  {
   "cell_type": "markdown",
   "metadata": {},
   "source": [
    "### Моделирование до балансировки"
   ]
  },
  {
   "cell_type": "code",
   "execution_count": 13,
   "metadata": {},
   "outputs": [
    {
     "name": "stdout",
     "output_type": "stream",
     "text": [
      "f1 наилучшей модели LOG REG на валидационной выборке: 0.4734848484848485 recall: 0.3561253561253561\n"
     ]
    }
   ],
   "source": [
    "model_log = LogisticRegression(random_state=12345)\n",
    "model_log.fit(features_train, target_train)\n",
    "predictions = model_log.predict(features_valid)\n",
    "result = f1_score(target_valid, predictions)\n",
    "recall = recall_score(target_valid, predictions)\n",
    "print(\"f1 наилучшей модели LOG REG на валидационной выборке:\", result, 'recall:', recall)\n"
   ]
  },
  {
   "cell_type": "code",
   "execution_count": 14,
   "metadata": {},
   "outputs": [
    {
     "name": "stdout",
     "output_type": "stream",
     "text": [
      "f1 наилучшей модели TREE CLASS на валидационной выборке: 0.5411764705882351 best recall: 0.3561253561253561 depth: 2\n"
     ]
    }
   ],
   "source": [
    "best_model = None\n",
    "best_result = 0\n",
    "best_depth = 0\n",
    "best_recall = recall_score(target_valid, predictions)\n",
    "for depth in range(1, 15):\n",
    "    model = DecisionTreeClassifier(random_state=12345, max_depth=depth)\n",
    "    model.fit(features_train, target_train)\n",
    "    predictions = model.predict(features_valid)\n",
    "    result = f1_score(target_valid, predictions)\n",
    "    recall = recall_score(target_valid, predictions)\n",
    "    if result > best_result:\n",
    "            best_depth = depth\n",
    "            best_model = model \n",
    "            best_result = result \n",
    "            recall = recall_score(target_valid, predictions)\n",
    "print(\n",
    "    \"f1 наилучшей модели TREE CLASS на валидационной выборке:\", best_result, 'best recall:', best_recall, 'depth:', best_depth\n",
    ")"
   ]
  },
  {
   "cell_type": "code",
   "execution_count": 16,
   "metadata": {},
   "outputs": [
    {
     "name": "stdout",
     "output_type": "stream",
     "text": [
      "best_result 0.5642857142857142\n",
      "best_depth 14\n",
      "best_est 15\n",
      "best_recall 0.45014245014245013\n"
     ]
    }
   ],
   "source": [
    "best_model = None\n",
    "best_result = 0\n",
    "best_depth = 0\n",
    "best_est = 0\n",
    "best_recall = recall_score(target_valid, predictions)\n",
    "\n",
    "for est in [15, 30, 60, 100, 200]:\n",
    "    for depth in [6, 14, 20, 25]:\n",
    "        model = RandomForestClassifier(random_state=12345, n_estimators=est, max_depth=depth)\n",
    "        model.fit(features_train, target_train)\n",
    "        predictions = model.predict(features_valid)\n",
    "        result = f1_score(target_valid, predictions)\n",
    "        recall = recall_score(target_valid, predictions)\n",
    "        \n",
    "        if result > best_result:\n",
    "            best_depth = depth\n",
    "            best_model = model \n",
    "            best_result = result\n",
    "            best_est = est\n",
    "            best_recall = recall\n",
    "            \n",
    "print('best_result', best_result)\n",
    "print('best_depth', best_depth)\n",
    "print('best_est', best_est)\n",
    "print('best_recall', best_recall)"
   ]
  },
  {
   "cell_type": "markdown",
   "metadata": {},
   "source": [
    "по итогу наилучший показатель f1 до балансировки был у модели RandomForestClassifier с показателем около 0.55"
   ]
  },
  {
   "cell_type": "code",
   "execution_count": 17,
   "metadata": {},
   "outputs": [
    {
     "data": {
      "text/plain": [
       "RandomForestClassifier(max_depth=20, n_estimators=30, random_state=12345)"
      ]
     },
     "execution_count": 17,
     "metadata": {},
     "output_type": "execute_result"
    }
   ],
   "source": [
    "best_model = RandomForestClassifier(random_state=12345, max_depth=20, n_estimators=30)\n",
    "best_model.fit(features_train, target_train)"
   ]
  },
  {
   "cell_type": "code",
   "execution_count": 18,
   "metadata": {},
   "outputs": [],
   "source": [
    "probabilities_valid = best_model.predict_proba(features_valid)\n",
    "probabilities_one_valid = probabilities_valid[:, 1]"
   ]
  },
  {
   "cell_type": "code",
   "execution_count": 19,
   "metadata": {},
   "outputs": [
    {
     "data": {
      "text/plain": [
       "0.8462460311915353"
      ]
     },
     "execution_count": 19,
     "metadata": {},
     "output_type": "execute_result"
    }
   ],
   "source": [
    "auc_roc = roc_auc_score(target_valid, probabilities_one_valid)\n",
    "auc_roc"
   ]
  },
  {
   "cell_type": "code",
   "execution_count": 20,
   "metadata": {},
   "outputs": [
    {
     "data": {
      "image/png": "[encoded data removed]",
      "text/plain": [
       "<Figure size 432x288 with 1 Axes>"
      ]
     },
     "metadata": {
      "needs_background": "light"
     },
     "output_type": "display_data"
    }
   ],
   "source": [
    "fpr, tpr, thresholds = roc_curve(target_valid, probabilities_one_valid)\n",
    "\n",
    "plt.figure()\n",
    "\n",
    "plt.plot(fpr, tpr, linestyle='--')\n",
    "\n",
    "plt.plot([0, 1], [0, 1], linestyle='--')\n",
    "plt.xlim(0, 1)\n",
    "plt.ylim(0, 1)\n",
    "\n",
    "plt.xlabel('False Positive Rate')\n",
    "plt.ylabel('True Positive Rate')\n",
    "plt.title('ROC-кривая')\n",
    "\n",
    "plt.show()"
   ]
  },
  {
   "cell_type": "markdown",
   "metadata": {},
   "source": [
    "При работе с данными без балансировки наилучшими гиперпараметрами являются max_depth=20 и n_estimators=100"
   ]
  },
  {
   "cell_type": "markdown",
   "metadata": {},
   "source": [
    "## Борьба с дисбалансом"
   ]
  },
  {
   "cell_type": "code",
   "execution_count": 21,
   "metadata": {},
   "outputs": [
    {
     "data": {
      "text/plain": [
       "0.509963768115942"
      ]
     },
     "execution_count": 21,
     "metadata": {},
     "output_type": "execute_result"
    }
   ],
   "source": [
    "def upsample(features, target, repeat):\n",
    "    features_zeros = features[target == 0]\n",
    "    features_ones = features[target == 1]\n",
    "    target_zeros = target[target == 0]\n",
    "    target_ones = target[target == 1]\n",
    "\n",
    "    features_upsampled = pd.concat([features_zeros] + [features_ones] * repeat)\n",
    "    target_upsampled = pd.concat([target_zeros] + [target_ones] * repeat)\n",
    "    \n",
    "    features_upsampled, target_upsampled = shuffle(\n",
    "        features_upsampled, target_upsampled, random_state=12345)\n",
    "    \n",
    "    return features_upsampled, target_upsampled\n",
    "\n",
    "features_upsampled, target_upsampled = upsample(features_train, target_train, 4)\n",
    "target_upsampled.mean()"
   ]
  },
  {
   "cell_type": "code",
   "execution_count": 22,
   "metadata": {},
   "outputs": [
    {
     "name": "stdout",
     "output_type": "stream",
     "text": [
      "F1 of LOGISTIC REGRESSION UPsampled: 0.558091286307054 recall 0.4358974358974359\n"
     ]
    }
   ],
   "source": [
    "model_log = LogisticRegression(random_state=12345, solver='liblinear')\n",
    "model_log.fit(features_upsampled, target_upsampled)\n",
    "predicted_valid = model_log.predict(features_valid)\n",
    "best_recall = recall_score(target_valid, predictions)\n",
    "\n",
    "print(\"F1 of LOGISTIC REGRESSION UPsampled:\", f1_score(target_valid, predicted_valid), 'recall', best_recall)"
   ]
  },
  {
   "cell_type": "code",
   "execution_count": 23,
   "metadata": {},
   "outputs": [
    {
     "name": "stdout",
     "output_type": "stream",
     "text": [
      "f1 наилучшей модели TREE CLASS UPsampled: 0.5608108108108109 best_recall 0.4358974358974359 depth: 4\n"
     ]
    }
   ],
   "source": [
    "best_model = None\n",
    "best_result = 0\n",
    "best_depth = 0\n",
    "best_recall = recall_score(target_valid, predictions)\n",
    "\n",
    "for depth in range(1, 15):\n",
    "    model = DecisionTreeClassifier(random_state=12345, max_depth=depth)\n",
    "    model.fit(features_upsampled, target_upsampled)\n",
    "    predictions = model.predict(features_valid)\n",
    "    result = f1_score(target_valid, predictions)\n",
    "    recall = recall_score(target_valid, predictions)\n",
    "    \n",
    "    if result > best_result:\n",
    "            best_depth = depth\n",
    "            best_model = model \n",
    "            best_result = result\n",
    "            recall = recall\n",
    "            \n",
    "print(\"f1 наилучшей модели TREE CLASS UPsampled:\", best_result, 'best_recall', best_recall, 'depth:', best_depth)"
   ]
  },
  {
   "cell_type": "code",
   "execution_count": 24,
   "metadata": {},
   "outputs": [
    {
     "name": "stdout",
     "output_type": "stream",
     "text": [
      "best_result of FOREST after UPsampling 0.6163328197226502\n",
      "best_depth 25\n",
      "best_est 200\n",
      "best_recall 0.5698005698005698\n"
     ]
    }
   ],
   "source": [
    "best_model = None\n",
    "best_result = 0\n",
    "best_depth = 0\n",
    "best_est = 0\n",
    "best_recall = recall_score(target_valid, predictions)\n",
    "\n",
    "for est in [10, 20, 30, 60, 100, 200]:\n",
    "    for depth in [3, 6, 14, 20, 25]:\n",
    "        model = RandomForestClassifier(random_state=12345, n_estimators=est, max_depth=depth)\n",
    "        model.fit(features_upsampled, target_upsampled)\n",
    "        predictions = model.predict(features_valid)\n",
    "        result = f1_score(target_valid, predictions)\n",
    "        recall = recall_score(target_valid, predictions)\n",
    "        \n",
    "        if result > best_result:\n",
    "            best_depth = depth\n",
    "            best_model = model \n",
    "            best_result = result\n",
    "            best_est = est\n",
    "            best_recall = recall\n",
    "            \n",
    "print('best_result of FOREST after UPsampling', best_result)\n",
    "print('best_depth', best_depth)\n",
    "print('best_est', best_est)\n",
    "print('best_recall', best_recall)"
   ]
  },
  {
   "cell_type": "markdown",
   "metadata": {},
   "source": [
    "после балансирования данных и апскейлинга лучшими параметрами являются max_depth=14 и n_estimators=60"
   ]
  },
  {
   "cell_type": "code",
   "execution_count": 25,
   "metadata": {},
   "outputs": [
    {
     "data": {
      "text/plain": [
       "0.6163328197226502"
      ]
     },
     "execution_count": 25,
     "metadata": {},
     "output_type": "execute_result"
    }
   ],
   "source": [
    "pred_valid = best_model.predict(features_valid)\n",
    "f1 = f1_score(target_valid, pred_valid)\n",
    "f1"
   ]
  },
  {
   "cell_type": "code",
   "execution_count": 26,
   "metadata": {},
   "outputs": [
    {
     "data": {
      "text/plain": [
       "0.8550860911215133"
      ]
     },
     "execution_count": 26,
     "metadata": {},
     "output_type": "execute_result"
    }
   ],
   "source": [
    "probabilities_valid = best_model.predict_proba(features_valid)\n",
    "probabilities_one_valid = probabilities_valid[:, 1]\n",
    "auc_roc = roc_auc_score(target_valid, probabilities_one_valid)\n",
    "auc_roc"
   ]
  },
  {
   "cell_type": "code",
   "execution_count": 27,
   "metadata": {
    "scrolled": true
   },
   "outputs": [
    {
     "data": {
      "image/png": "[encoded data removed]",
      "text/plain": [
       "<Figure size 432x288 with 1 Axes>"
      ]
     },
     "metadata": {
      "needs_background": "light"
     },
     "output_type": "display_data"
    }
   ],
   "source": [
    "fpr, tpr, thresholds = roc_curve(target_valid, probabilities_one_valid) # < напишите код здесь >\n",
    "\n",
    "plt.figure()\n",
    "plt.plot(fpr, tpr, linestyle='--')\n",
    "plt.plot([0, 1], [0, 1], linestyle='--')\n",
    "plt.xlim(0, 1)\n",
    "plt.ylim(0, 1)\n",
    "\n",
    "plt.xlabel('False Positive Rate')\n",
    "plt.ylabel('True Positive Rate')\n",
    "plt.title('ROC-кривая after UPsampling')\n",
    "\n",
    "plt.show()"
   ]
  },
  {
   "cell_type": "markdown",
   "metadata": {},
   "source": [
    "#### DOWNSAMPLING"
   ]
  },
  {
   "cell_type": "code",
   "execution_count": 28,
   "metadata": {},
   "outputs": [
    {
     "name": "stdout",
     "output_type": "stream",
     "text": [
      "new mean of classes after DOWNsampling\n"
     ]
    },
    {
     "data": {
      "text/plain": [
       "0.509963768115942"
      ]
     },
     "execution_count": 28,
     "metadata": {},
     "output_type": "execute_result"
    }
   ],
   "source": [
    "def downsample(features, target, fraction):\n",
    "    features_zeros = features[target == 0]\n",
    "    features_ones = features[target == 1]\n",
    "    target_zeros = target[target == 0]\n",
    "    target_ones = target[target == 1]\n",
    "\n",
    "    features_downsampled = pd.concat(\n",
    "        [features_zeros.sample(frac=fraction, random_state=12345)] + [features_ones])\n",
    "    target_downsampled = pd.concat(\n",
    "        [target_zeros.sample(frac=fraction, random_state=12345)] + [target_ones])\n",
    "    \n",
    "    features_downsampled, target_downsampled = shuffle(\n",
    "        features_downsampled, target_downsampled, random_state=12345)\n",
    "    \n",
    "    return features_downsampled, target_downsampled\n",
    "\n",
    "features_downsampled, target_downsampled = downsample(features_train, target_train, 0.25)\n",
    "print('new mean of classes after DOWNsampling')\n",
    "target_downsampled.mean()"
   ]
  },
  {
   "cell_type": "code",
   "execution_count": 29,
   "metadata": {},
   "outputs": [
    {
     "name": "stdout",
     "output_type": "stream",
     "text": [
      "F1 of LOGISTIC REGRESSION DOWNsampled: 0.5613682092555332 best_recall 0.5698005698005698\n"
     ]
    }
   ],
   "source": [
    "model_log = LogisticRegression(random_state=12345, solver='liblinear')\n",
    "model.fit(features_downsampled, target_downsampled)\n",
    "predicted_valid = model.predict(features_valid)\n",
    "best_recall = recall_score(target_valid, predictions)\n",
    "\n",
    "print(\"F1 of LOGISTIC REGRESSION DOWNsampled:\", f1_score(target_valid, predicted_valid), 'best_recall', best_recall)"
   ]
  },
  {
   "cell_type": "code",
   "execution_count": 30,
   "metadata": {},
   "outputs": [
    {
     "name": "stdout",
     "output_type": "stream",
     "text": [
      "f1 наилучшей модели TREE CLASS DOWNsampled: 0.5387673956262425 best_recall 0.7720797720797721 depth: 6\n"
     ]
    }
   ],
   "source": [
    "best_model = None\n",
    "best_result = 0\n",
    "best_depth = 0\n",
    "best_recall = recall_score(target_valid, predictions)\n",
    "\n",
    "for depth in range(1, 15):\n",
    "    model = DecisionTreeClassifier(random_state=12345, max_depth=depth)\n",
    "    model.fit(features_downsampled, target_downsampled)\n",
    "    predictions = model.predict(features_valid)\n",
    "    result = f1_score(target_valid, predictions)\n",
    "    recall = recall_score(target_valid, predictions)\n",
    "    \n",
    "    if result > best_result:\n",
    "            best_depth = depth\n",
    "            best_model = model \n",
    "            best_result = result\n",
    "            best_recall = recall\n",
    "            \n",
    "            \n",
    "print(\"f1 наилучшей модели TREE CLASS DOWNsampled:\", best_result, 'best_recall', best_recall, 'depth:', best_depth)"
   ]
  },
  {
   "cell_type": "code",
   "execution_count": 31,
   "metadata": {},
   "outputs": [
    {
     "name": "stdout",
     "output_type": "stream",
     "text": [
      "best_result of FOREST DOWNsampled 0.5708502024291499\n",
      "best_depth 20\n",
      "best_est 60\n",
      "best_recall 0.8034188034188035\n"
     ]
    }
   ],
   "source": [
    "best_model = None\n",
    "best_result = 0\n",
    "best_depth = 0\n",
    "best_est = 0\n",
    "best_recall = recall_score(target_valid, predictions)\n",
    "\n",
    "for est in [5, 10, 20, 30, 60, 100, 200]:\n",
    "    for depth in [3, 6, 14, 20, 25]:\n",
    "        model = RandomForestClassifier(random_state=12345, n_estimators=est, max_depth=depth)\n",
    "        model.fit(features_downsampled, target_downsampled)\n",
    "        predictions = model.predict(features_valid)\n",
    "        result = f1_score(target_valid, predictions)\n",
    "        recall = recall_score(target_valid, predictions)\n",
    "        \n",
    "        if result > best_result:\n",
    "            best_depth = depth\n",
    "            best_model = model \n",
    "            best_result = result\n",
    "            best_est = est\n",
    "            best_recall = recall\n",
    "            \n",
    "print('best_result of FOREST DOWNsampled', best_result)\n",
    "print('best_depth', best_depth)\n",
    "print('best_est', best_est)\n",
    "print('best_recall', best_recall)"
   ]
  },
  {
   "cell_type": "code",
   "execution_count": 32,
   "metadata": {},
   "outputs": [
    {
     "data": {
      "text/plain": [
       "0.8506214241909065"
      ]
     },
     "execution_count": 32,
     "metadata": {},
     "output_type": "execute_result"
    }
   ],
   "source": [
    "probabilities_valid = best_model.predict_proba(features_valid)\n",
    "probabilities_one_valid = probabilities_valid[:, 1]\n",
    "auc_roc = roc_auc_score(target_valid, probabilities_one_valid)\n",
    "auc_roc"
   ]
  },
  {
   "cell_type": "markdown",
   "metadata": {},
   "source": [
    "### взвешивание классов"
   ]
  },
  {
   "cell_type": "code",
   "execution_count": 33,
   "metadata": {},
   "outputs": [
    {
     "name": "stdout",
     "output_type": "stream",
     "text": [
      "F1 of LOGISTIC REGRESSION BALANCED WEIGHT: 0.5483870967741935 best_recall 0.7948717948717948\n"
     ]
    }
   ],
   "source": [
    "model_log = LogisticRegression(random_state=12345, solver='liblinear', class_weight='balanced')\n",
    "model.fit(features_train, target_train)\n",
    "predicted_valid = model.predict(features_valid)\n",
    "best_recall = recall_score(target_valid, predictions)\n",
    "\n",
    "print(\"F1 of LOGISTIC REGRESSION BALANCED WEIGHT:\", f1_score(target_valid, predicted_valid), 'best_recall', best_recall)"
   ]
  },
  {
   "cell_type": "code",
   "execution_count": 34,
   "metadata": {},
   "outputs": [
    {
     "name": "stdout",
     "output_type": "stream",
     "text": [
      "f1 наилучшей модели TREE CLASS BALANCED WEIGHT: 0.5608108108108109 best_recall 0.7094017094017094 depth: 4\n"
     ]
    }
   ],
   "source": [
    "best_model = None\n",
    "best_result = 0\n",
    "best_depth = 0\n",
    "best_recall = recall_score(target_valid, predictions)\n",
    "\n",
    "for depth in range(1, 15):\n",
    "    model = DecisionTreeClassifier(random_state=12345, max_depth=depth, class_weight='balanced')\n",
    "    model.fit(features_train, target_train)\n",
    "    predictions = model.predict(features_valid)\n",
    "    result = f1_score(target_valid, predictions)\n",
    "    recall = recall_score(target_valid, predictions)\n",
    "    \n",
    "    if result > best_result:\n",
    "            best_depth = depth\n",
    "            best_model = model \n",
    "            best_result = result\n",
    "            best_recall = recall\n",
    "            \n",
    "            \n",
    "print(\"f1 наилучшей модели TREE CLASS BALANCED WEIGHT:\", best_result, 'best_recall', best_recall, 'depth:', best_depth)"
   ]
  },
  {
   "cell_type": "code",
   "execution_count": 35,
   "metadata": {},
   "outputs": [
    {
     "name": "stdout",
     "output_type": "stream",
     "text": [
      "best_result of FOREST BALANCED WEIGHT 0.6127527216174184\n",
      "best_recall 0.5612535612535613\n",
      "best_depth 14\n",
      "best_est 100\n"
     ]
    }
   ],
   "source": [
    "best_model = None\n",
    "best_result = 0\n",
    "best_depth = 0\n",
    "best_est = 0\n",
    "best_recall = recall_score(target_valid, predictions)\n",
    "\n",
    "for est in [5, 10, 20, 30, 60, 100, 200]:\n",
    "    for depth in [3, 6, 14, 20, 25]:\n",
    "        model = RandomForestClassifier(random_state=12345, n_estimators=est, max_depth=depth, class_weight='balanced')\n",
    "        model.fit(features_train, target_train)\n",
    "        predictions = model.predict(features_valid)\n",
    "        result = f1_score(target_valid, predictions)\n",
    "        recall = recall_score(target_valid, predictions)\n",
    "        \n",
    "        if result > best_result:\n",
    "            best_depth = depth\n",
    "            best_model = model \n",
    "            best_result = result\n",
    "            best_est = est\n",
    "            best_recall = recall\n",
    "            \n",
    "print('best_result of FOREST BALANCED WEIGHT', best_result)\n",
    "print('best_recall', best_recall)\n",
    "print('best_depth', best_depth)\n",
    "print('best_est', best_est)\n"
   ]
  },
  {
   "cell_type": "code",
   "execution_count": 36,
   "metadata": {},
   "outputs": [
    {
     "data": {
      "text/plain": [
       "0.8603445197450648"
      ]
     },
     "execution_count": 36,
     "metadata": {},
     "output_type": "execute_result"
    }
   ],
   "source": [
    "probabilities_valid = best_model.predict_proba(features_valid)\n",
    "probabilities_one_valid = probabilities_valid[:, 1]\n",
    "auc_roc = roc_auc_score(target_valid, probabilities_one_valid)\n",
    "auc_roc"
   ]
  },
  {
   "cell_type": "markdown",
   "metadata": {},
   "source": [
    "## Краткий вывод:  \n",
    "Наилучшей моделью по f1 метрике оказалась модель RandomForestClassifier с данными после Upsampling, auc_roc после балансировки классов особо не изменился"
   ]
  },
  {
   "cell_type": "markdown",
   "metadata": {},
   "source": [
    "## Тестирование модели"
   ]
  },
  {
   "cell_type": "code",
   "execution_count": 37,
   "metadata": {},
   "outputs": [
    {
     "data": {
      "text/plain": [
       "0.6264367816091955"
      ]
     },
     "execution_count": 37,
     "metadata": {},
     "output_type": "execute_result"
    }
   ],
   "source": [
    "pred_test = best_model.predict(features_test)\n",
    "f1 = f1_score(target_test, pred_test)\n",
    "f1"
   ]
  },
  {
   "cell_type": "code",
   "execution_count": 38,
   "metadata": {},
   "outputs": [
    {
     "name": "stdout",
     "output_type": "stream",
     "text": [
      "f1 of dummy model: 0.34350797266514804\n"
     ]
    }
   ],
   "source": [
    "dummy_model = DummyClassifier(strategy='constant', constant=1)\n",
    "dummy_model.fit(features_train, target_train)\n",
    "f1 = f1_score(dummy_model.predict(features_test), target_test)\n",
    "print('f1 of dummy model:', f1)"
   ]
  },
  {
   "cell_type": "markdown",
   "metadata": {},
   "source": [
    "## Выводы\n",
    "лучшей моделью оказалась RandomForestClassifier после апсампглинга, почти в 2 раза лучше, чем dummy модель, с показателем f1 ~0.63, auc_roc не изменился c показателем в 0.85"
   ]
  }
 ],
 "metadata": {
  "ExecuteTimeLog": [
   {
    "duration": 1561,
    "start_time": "2024-05-14T15:53:25.678Z"
   },
   {
    "duration": 199,
    "start_time": "2024-05-14T15:54:40.988Z"
   },
   {
    "duration": 65,
    "start_time": "2024-05-14T15:59:50.734Z"
   },
   {
    "duration": 131,
    "start_time": "2024-05-14T16:11:36.705Z"
   },
   {
    "duration": 9,
    "start_time": "2024-05-14T16:11:56.185Z"
   },
   {
    "duration": 387,
    "start_time": "2024-05-14T16:12:42.125Z"
   },
   {
    "duration": 372,
    "start_time": "2024-05-14T16:13:34.705Z"
   },
   {
    "duration": 1551,
    "start_time": "2024-05-14T16:14:28.964Z"
   },
   {
    "duration": 76,
    "start_time": "2024-05-14T16:14:30.517Z"
   },
   {
    "duration": 11,
    "start_time": "2024-05-14T16:14:30.596Z"
   },
   {
    "duration": 571,
    "start_time": "2024-05-14T16:14:30.610Z"
   },
   {
    "duration": 0,
    "start_time": "2024-05-14T16:14:31.182Z"
   },
   {
    "duration": 10,
    "start_time": "2024-05-14T16:16:54.984Z"
   },
   {
    "duration": 18,
    "start_time": "2024-05-14T16:16:57.865Z"
   },
   {
    "duration": 375,
    "start_time": "2024-05-14T16:17:01.956Z"
   },
   {
    "duration": 25,
    "start_time": "2024-05-14T16:17:19.760Z"
   },
   {
    "duration": 9,
    "start_time": "2024-05-14T16:17:36.115Z"
   },
   {
    "duration": 15,
    "start_time": "2024-05-14T16:17:37.090Z"
   },
   {
    "duration": 4,
    "start_time": "2024-05-14T16:17:58.275Z"
   },
   {
    "duration": 65,
    "start_time": "2024-05-14T16:17:59.190Z"
   },
   {
    "duration": 9,
    "start_time": "2024-05-14T16:18:03.671Z"
   },
   {
    "duration": 15,
    "start_time": "2024-05-14T16:18:10.066Z"
   },
   {
    "duration": 24,
    "start_time": "2024-05-14T16:18:15.337Z"
   },
   {
    "duration": 4,
    "start_time": "2024-05-14T16:19:00.196Z"
   },
   {
    "duration": 64,
    "start_time": "2024-05-14T16:19:01.934Z"
   },
   {
    "duration": 4,
    "start_time": "2024-05-14T16:19:05.576Z"
   },
   {
    "duration": 19,
    "start_time": "2024-05-14T16:19:06.457Z"
   },
   {
    "duration": 9,
    "start_time": "2024-05-14T16:19:18.904Z"
   },
   {
    "duration": 10,
    "start_time": "2024-05-14T16:19:22.394Z"
   },
   {
    "duration": 18,
    "start_time": "2024-05-14T16:19:23.646Z"
   },
   {
    "duration": 12,
    "start_time": "2024-05-14T16:19:53.676Z"
   },
   {
    "duration": 344,
    "start_time": "2024-05-14T16:20:16.006Z"
   },
   {
    "duration": 29,
    "start_time": "2024-05-14T16:20:52.627Z"
   },
   {
    "duration": 57,
    "start_time": "2024-05-14T16:21:35.608Z"
   },
   {
    "duration": 16,
    "start_time": "2024-05-14T16:21:37.057Z"
   },
   {
    "duration": 8,
    "start_time": "2024-05-14T16:21:38.037Z"
   },
   {
    "duration": 32551,
    "start_time": "2024-05-14T16:21:45.696Z"
   },
   {
    "duration": 33950,
    "start_time": "2024-05-14T16:23:10.648Z"
   },
   {
    "duration": 36981,
    "start_time": "2024-05-14T16:24:23.516Z"
   },
   {
    "duration": 37014,
    "start_time": "2024-05-14T16:27:40.082Z"
   },
   {
    "duration": 1449,
    "start_time": "2024-05-14T16:36:08.737Z"
   },
   {
    "duration": 65,
    "start_time": "2024-05-14T16:36:10.188Z"
   },
   {
    "duration": 13,
    "start_time": "2024-05-14T16:36:10.255Z"
   },
   {
    "duration": 10,
    "start_time": "2024-05-14T16:36:10.270Z"
   },
   {
    "duration": 25,
    "start_time": "2024-05-14T16:36:10.282Z"
   },
   {
    "duration": 33583,
    "start_time": "2024-05-14T16:36:10.308Z"
   },
   {
    "duration": 3,
    "start_time": "2024-05-14T16:36:43.892Z"
   },
   {
    "duration": 122,
    "start_time": "2024-05-14T16:36:43.896Z"
   },
   {
    "duration": 0,
    "start_time": "2024-05-14T16:36:44.020Z"
   },
   {
    "duration": 16,
    "start_time": "2024-05-14T16:37:04.726Z"
   },
   {
    "duration": 14,
    "start_time": "2024-05-14T16:38:41.411Z"
   },
   {
    "duration": 14,
    "start_time": "2024-05-14T16:38:49.626Z"
   },
   {
    "duration": 19,
    "start_time": "2024-05-14T16:43:09.147Z"
   },
   {
    "duration": 20,
    "start_time": "2024-05-14T16:44:21.342Z"
   },
   {
    "duration": 2,
    "start_time": "2024-05-14T16:44:33.207Z"
   },
   {
    "duration": 16,
    "start_time": "2024-05-14T16:44:42.267Z"
   },
   {
    "duration": 11,
    "start_time": "2024-05-14T16:45:04.851Z"
   },
   {
    "duration": 2,
    "start_time": "2024-05-14T16:45:33.597Z"
   },
   {
    "duration": 17,
    "start_time": "2024-05-14T16:45:34.397Z"
   },
   {
    "duration": 33,
    "start_time": "2024-05-14T16:45:35.556Z"
   },
   {
    "duration": 27,
    "start_time": "2024-05-14T16:45:54.407Z"
   },
   {
    "duration": 18,
    "start_time": "2024-05-14T16:46:02.546Z"
   },
   {
    "duration": 18,
    "start_time": "2024-05-14T16:46:26.191Z"
   },
   {
    "duration": 17,
    "start_time": "2024-05-14T16:46:40.962Z"
   },
   {
    "duration": 14,
    "start_time": "2024-05-14T16:48:57.095Z"
   },
   {
    "duration": 13,
    "start_time": "2024-05-14T16:49:14.732Z"
   },
   {
    "duration": 19,
    "start_time": "2024-05-14T16:49:23.547Z"
   },
   {
    "duration": 21,
    "start_time": "2024-05-14T16:49:34.006Z"
   },
   {
    "duration": 13,
    "start_time": "2024-05-14T16:49:40.316Z"
   },
   {
    "duration": 14,
    "start_time": "2024-05-14T16:52:12.477Z"
   },
   {
    "duration": 14,
    "start_time": "2024-05-14T16:53:16.757Z"
   },
   {
    "duration": 16,
    "start_time": "2024-05-14T16:53:57.867Z"
   },
   {
    "duration": 22,
    "start_time": "2024-05-14T16:55:19.177Z"
   },
   {
    "duration": 10,
    "start_time": "2024-05-14T16:55:50.006Z"
   },
   {
    "duration": 4,
    "start_time": "2024-05-14T16:55:55.762Z"
   },
   {
    "duration": 9,
    "start_time": "2024-05-14T16:56:00.627Z"
   },
   {
    "duration": 1416,
    "start_time": "2024-05-14T16:56:26.467Z"
   },
   {
    "duration": 62,
    "start_time": "2024-05-14T16:56:27.885Z"
   },
   {
    "duration": 11,
    "start_time": "2024-05-14T16:56:27.949Z"
   },
   {
    "duration": 12,
    "start_time": "2024-05-14T16:56:27.962Z"
   },
   {
    "duration": 28,
    "start_time": "2024-05-14T16:56:27.975Z"
   },
   {
    "duration": 33118,
    "start_time": "2024-05-14T16:56:28.004Z"
   },
   {
    "duration": 3,
    "start_time": "2024-05-14T16:57:01.123Z"
   },
   {
    "duration": 95,
    "start_time": "2024-05-14T16:57:01.127Z"
   },
   {
    "duration": 55,
    "start_time": "2024-05-14T16:57:01.224Z"
   },
   {
    "duration": 32263,
    "start_time": "2024-05-14T16:57:01.282Z"
   },
   {
    "duration": 31,
    "start_time": "2024-05-14T16:58:04.185Z"
   },
   {
    "duration": 28,
    "start_time": "2024-05-14T16:58:23.165Z"
   },
   {
    "duration": 19,
    "start_time": "2024-05-14T16:58:49.452Z"
   },
   {
    "duration": 32603,
    "start_time": "2024-05-14T17:00:31.777Z"
   },
   {
    "duration": 113,
    "start_time": "2024-05-14T17:05:17.898Z"
   },
   {
    "duration": 568,
    "start_time": "2024-05-14T17:05:53.119Z"
   },
   {
    "duration": 41,
    "start_time": "2024-05-14T17:06:08.509Z"
   },
   {
    "duration": 4,
    "start_time": "2024-05-14T17:07:03.442Z"
   },
   {
    "duration": 60,
    "start_time": "2024-05-14T17:07:12.757Z"
   },
   {
    "duration": 4,
    "start_time": "2024-05-14T17:08:57.517Z"
   },
   {
    "duration": 87,
    "start_time": "2024-05-14T17:09:05.022Z"
   },
   {
    "duration": 1880,
    "start_time": "2024-05-15T16:58:00.225Z"
   },
   {
    "duration": 120,
    "start_time": "2024-05-15T16:58:02.107Z"
   },
   {
    "duration": 17,
    "start_time": "2024-05-15T16:58:02.230Z"
   },
   {
    "duration": 24,
    "start_time": "2024-05-15T16:58:02.248Z"
   },
   {
    "duration": 92,
    "start_time": "2024-05-15T16:58:02.275Z"
   },
   {
    "duration": 38145,
    "start_time": "2024-05-15T16:58:02.368Z"
   },
   {
    "duration": 3,
    "start_time": "2024-05-15T16:58:40.514Z"
   },
   {
    "duration": 24,
    "start_time": "2024-05-15T16:58:40.519Z"
   },
   {
    "duration": 33,
    "start_time": "2024-05-15T16:58:40.544Z"
   },
   {
    "duration": 37916,
    "start_time": "2024-05-15T16:58:40.579Z"
   },
   {
    "duration": 1277,
    "start_time": "2024-05-15T16:59:18.497Z"
   },
   {
    "duration": 123,
    "start_time": "2024-05-15T16:59:19.775Z"
   },
   {
    "duration": 174,
    "start_time": "2024-05-15T16:59:19.899Z"
   },
   {
    "duration": 5,
    "start_time": "2024-05-15T17:00:19.165Z"
   },
   {
    "duration": 122,
    "start_time": "2024-05-15T17:06:32.736Z"
   },
   {
    "duration": 5,
    "start_time": "2024-05-15T17:06:38.378Z"
   },
   {
    "duration": 12,
    "start_time": "2024-05-15T17:06:58.751Z"
   },
   {
    "duration": 17,
    "start_time": "2024-05-15T19:38:22.043Z"
   },
   {
    "duration": 11,
    "start_time": "2024-05-15T19:42:46.607Z"
   },
   {
    "duration": 11,
    "start_time": "2024-05-15T19:43:09.745Z"
   },
   {
    "duration": 1667,
    "start_time": "2024-05-15T19:43:30.431Z"
   },
   {
    "duration": 78,
    "start_time": "2024-05-15T19:43:32.100Z"
   },
   {
    "duration": 52,
    "start_time": "2024-05-15T19:43:32.180Z"
   },
   {
    "duration": 78,
    "start_time": "2024-05-15T19:43:32.235Z"
   },
   {
    "duration": 412,
    "start_time": "2024-05-15T19:43:32.316Z"
   },
   {
    "duration": 37258,
    "start_time": "2024-05-15T19:43:32.730Z"
   },
   {
    "duration": 3,
    "start_time": "2024-05-15T19:44:09.990Z"
   },
   {
    "duration": 44,
    "start_time": "2024-05-15T19:44:09.995Z"
   },
   {
    "duration": 46,
    "start_time": "2024-05-15T19:44:10.041Z"
   },
   {
    "duration": 37206,
    "start_time": "2024-05-15T19:44:10.090Z"
   },
   {
    "duration": 1305,
    "start_time": "2024-05-15T19:44:47.298Z"
   },
   {
    "duration": 120,
    "start_time": "2024-05-15T19:44:48.605Z"
   },
   {
    "duration": 170,
    "start_time": "2024-05-15T19:44:48.728Z"
   },
   {
    "duration": 10,
    "start_time": "2024-05-15T19:44:48.899Z"
   },
   {
    "duration": 13,
    "start_time": "2024-05-15T19:44:48.910Z"
   },
   {
    "duration": 30,
    "start_time": "2024-05-15T19:48:01.899Z"
   },
   {
    "duration": 1416,
    "start_time": "2024-05-15T19:49:56.177Z"
   },
   {
    "duration": 127,
    "start_time": "2024-05-15T19:49:59.216Z"
   },
   {
    "duration": 1508,
    "start_time": "2024-05-15T19:50:07.703Z"
   },
   {
    "duration": 141,
    "start_time": "2024-05-15T19:50:10.198Z"
   },
   {
    "duration": 2555,
    "start_time": "2024-05-15T19:50:20.222Z"
   },
   {
    "duration": 216,
    "start_time": "2024-05-15T19:50:24.011Z"
   },
   {
    "duration": 131,
    "start_time": "2024-05-15T19:51:07.614Z"
   },
   {
    "duration": 14,
    "start_time": "2024-05-15T19:51:20.519Z"
   },
   {
    "duration": 3504,
    "start_time": "2024-05-15T19:52:27.886Z"
   },
   {
    "duration": 3445,
    "start_time": "2024-05-15T19:52:40.157Z"
   },
   {
    "duration": 1651,
    "start_time": "2024-05-15T20:20:14.652Z"
   },
   {
    "duration": 71,
    "start_time": "2024-05-15T20:20:16.305Z"
   },
   {
    "duration": 13,
    "start_time": "2024-05-15T20:20:16.377Z"
   },
   {
    "duration": 10,
    "start_time": "2024-05-15T20:20:16.392Z"
   },
   {
    "duration": 59,
    "start_time": "2024-05-15T20:20:16.404Z"
   },
   {
    "duration": 35434,
    "start_time": "2024-05-15T20:20:16.464Z"
   },
   {
    "duration": 3,
    "start_time": "2024-05-15T20:20:51.900Z"
   },
   {
    "duration": 42,
    "start_time": "2024-05-15T20:20:51.904Z"
   },
   {
    "duration": 30,
    "start_time": "2024-05-15T20:20:51.947Z"
   },
   {
    "duration": 37162,
    "start_time": "2024-05-15T20:20:51.980Z"
   },
   {
    "duration": 1368,
    "start_time": "2024-05-15T20:21:29.143Z"
   },
   {
    "duration": 117,
    "start_time": "2024-05-15T20:21:30.513Z"
   },
   {
    "duration": 211,
    "start_time": "2024-05-15T20:21:30.631Z"
   },
   {
    "duration": 18,
    "start_time": "2024-05-15T20:21:30.844Z"
   },
   {
    "duration": 52,
    "start_time": "2024-05-15T20:21:30.864Z"
   },
   {
    "duration": 106,
    "start_time": "2024-05-15T20:21:30.918Z"
   },
   {
    "duration": 2111,
    "start_time": "2024-05-15T20:21:31.026Z"
   },
   {
    "duration": 42,
    "start_time": "2024-05-15T21:57:20.331Z"
   },
   {
    "duration": 25,
    "start_time": "2024-05-15T21:57:28.682Z"
   },
   {
    "duration": 29,
    "start_time": "2024-05-15T21:57:37.908Z"
   },
   {
    "duration": 1501,
    "start_time": "2024-05-15T22:05:30.210Z"
   },
   {
    "duration": 68,
    "start_time": "2024-05-15T22:05:31.713Z"
   },
   {
    "duration": 53,
    "start_time": "2024-05-15T22:05:31.783Z"
   },
   {
    "duration": 0,
    "start_time": "2024-05-15T22:05:31.839Z"
   },
   {
    "duration": 0,
    "start_time": "2024-05-15T22:05:31.840Z"
   },
   {
    "duration": 0,
    "start_time": "2024-05-15T22:05:31.842Z"
   },
   {
    "duration": 0,
    "start_time": "2024-05-15T22:05:31.843Z"
   },
   {
    "duration": 0,
    "start_time": "2024-05-15T22:05:31.844Z"
   },
   {
    "duration": 0,
    "start_time": "2024-05-15T22:05:31.844Z"
   },
   {
    "duration": 0,
    "start_time": "2024-05-15T22:05:31.846Z"
   },
   {
    "duration": 0,
    "start_time": "2024-05-15T22:05:31.847Z"
   },
   {
    "duration": 0,
    "start_time": "2024-05-15T22:05:31.848Z"
   },
   {
    "duration": 0,
    "start_time": "2024-05-15T22:05:31.849Z"
   },
   {
    "duration": 0,
    "start_time": "2024-05-15T22:05:31.850Z"
   },
   {
    "duration": 0,
    "start_time": "2024-05-15T22:05:31.851Z"
   },
   {
    "duration": 0,
    "start_time": "2024-05-15T22:05:31.852Z"
   },
   {
    "duration": 0,
    "start_time": "2024-05-15T22:05:31.853Z"
   },
   {
    "duration": 1515,
    "start_time": "2024-05-15T22:06:20.404Z"
   },
   {
    "duration": 79,
    "start_time": "2024-05-15T22:06:21.921Z"
   },
   {
    "duration": 14,
    "start_time": "2024-05-15T22:06:22.001Z"
   },
   {
    "duration": 17,
    "start_time": "2024-05-15T22:06:22.017Z"
   },
   {
    "duration": 48,
    "start_time": "2024-05-15T22:06:22.036Z"
   },
   {
    "duration": 35911,
    "start_time": "2024-05-15T22:06:22.085Z"
   },
   {
    "duration": 126,
    "start_time": "2024-05-15T22:06:57.998Z"
   },
   {
    "duration": 0,
    "start_time": "2024-05-15T22:06:58.126Z"
   },
   {
    "duration": 0,
    "start_time": "2024-05-15T22:06:58.127Z"
   },
   {
    "duration": 0,
    "start_time": "2024-05-15T22:06:58.128Z"
   },
   {
    "duration": 0,
    "start_time": "2024-05-15T22:06:58.130Z"
   },
   {
    "duration": 0,
    "start_time": "2024-05-15T22:06:58.131Z"
   },
   {
    "duration": 0,
    "start_time": "2024-05-15T22:06:58.132Z"
   },
   {
    "duration": 0,
    "start_time": "2024-05-15T22:06:58.134Z"
   },
   {
    "duration": 0,
    "start_time": "2024-05-15T22:06:58.136Z"
   },
   {
    "duration": 0,
    "start_time": "2024-05-15T22:06:58.137Z"
   },
   {
    "duration": 1466,
    "start_time": "2024-05-15T22:08:28.741Z"
   },
   {
    "duration": 72,
    "start_time": "2024-05-15T22:08:30.209Z"
   },
   {
    "duration": 14,
    "start_time": "2024-05-15T22:08:30.282Z"
   },
   {
    "duration": 113,
    "start_time": "2024-05-15T22:08:30.299Z"
   },
   {
    "duration": 285,
    "start_time": "2024-05-15T22:08:30.413Z"
   },
   {
    "duration": 36011,
    "start_time": "2024-05-15T22:08:30.700Z"
   },
   {
    "duration": 821,
    "start_time": "2024-05-15T22:09:06.713Z"
   },
   {
    "duration": 3,
    "start_time": "2024-05-15T22:09:07.535Z"
   },
   {
    "duration": 34,
    "start_time": "2024-05-15T22:09:07.540Z"
   },
   {
    "duration": 20,
    "start_time": "2024-05-15T22:09:07.577Z"
   },
   {
    "duration": 35073,
    "start_time": "2024-05-15T22:09:07.599Z"
   },
   {
    "duration": 1214,
    "start_time": "2024-05-15T22:09:42.673Z"
   },
   {
    "duration": 118,
    "start_time": "2024-05-15T22:09:43.888Z"
   },
   {
    "duration": 195,
    "start_time": "2024-05-15T22:09:44.008Z"
   },
   {
    "duration": 11,
    "start_time": "2024-05-15T22:09:44.205Z"
   },
   {
    "duration": 1772,
    "start_time": "2024-05-15T22:09:44.218Z"
   },
   {
    "duration": 1469,
    "start_time": "2024-05-15T22:20:59.150Z"
   },
   {
    "duration": 65,
    "start_time": "2024-05-15T22:21:00.621Z"
   },
   {
    "duration": 48,
    "start_time": "2024-05-15T22:21:00.688Z"
   },
   {
    "duration": 65,
    "start_time": "2024-05-15T22:21:00.737Z"
   },
   {
    "duration": 61,
    "start_time": "2024-05-15T22:21:00.804Z"
   },
   {
    "duration": 35187,
    "start_time": "2024-05-15T22:21:00.866Z"
   },
   {
    "duration": 821,
    "start_time": "2024-05-15T22:21:36.055Z"
   },
   {
    "duration": 3,
    "start_time": "2024-05-15T22:21:36.877Z"
   },
   {
    "duration": 22,
    "start_time": "2024-05-15T22:21:36.881Z"
   },
   {
    "duration": 20,
    "start_time": "2024-05-15T22:21:36.905Z"
   },
   {
    "duration": 35994,
    "start_time": "2024-05-15T22:21:36.926Z"
   },
   {
    "duration": 1246,
    "start_time": "2024-05-15T22:22:12.922Z"
   },
   {
    "duration": 119,
    "start_time": "2024-05-15T22:22:14.170Z"
   },
   {
    "duration": 200,
    "start_time": "2024-05-15T22:22:14.291Z"
   },
   {
    "duration": 13,
    "start_time": "2024-05-15T22:22:14.493Z"
   },
   {
    "duration": 1794,
    "start_time": "2024-05-15T22:22:14.508Z"
   },
   {
    "duration": 1564,
    "start_time": "2024-05-16T12:10:53.300Z"
   },
   {
    "duration": 190,
    "start_time": "2024-05-16T12:10:55.961Z"
   },
   {
    "duration": 14,
    "start_time": "2024-05-16T12:10:59.452Z"
   },
   {
    "duration": 13,
    "start_time": "2024-05-16T12:11:29.761Z"
   },
   {
    "duration": 59,
    "start_time": "2024-05-16T12:12:03.023Z"
   },
   {
    "duration": 10,
    "start_time": "2024-05-16T12:12:12.196Z"
   },
   {
    "duration": 6,
    "start_time": "2024-05-16T12:12:25.354Z"
   },
   {
    "duration": 6,
    "start_time": "2024-05-16T12:12:32.945Z"
   },
   {
    "duration": 17424,
    "start_time": "2024-05-16T12:14:59.359Z"
   },
   {
    "duration": 120,
    "start_time": "2024-05-16T12:19:35.542Z"
   },
   {
    "duration": 1565,
    "start_time": "2024-05-16T12:19:42.519Z"
   },
   {
    "duration": 10,
    "start_time": "2024-05-16T12:22:11.601Z"
   },
   {
    "duration": 12,
    "start_time": "2024-05-16T13:55:21.389Z"
   },
   {
    "duration": 12,
    "start_time": "2024-05-16T13:55:29.992Z"
   },
   {
    "duration": 12,
    "start_time": "2024-05-16T13:57:09.550Z"
   },
   {
    "duration": 21,
    "start_time": "2024-05-16T13:57:51.329Z"
   },
   {
    "duration": 21,
    "start_time": "2024-05-16T13:58:07.102Z"
   },
   {
    "duration": 55,
    "start_time": "2024-05-16T13:58:24.265Z"
   },
   {
    "duration": 13,
    "start_time": "2024-05-16T13:58:31.695Z"
   },
   {
    "duration": 13,
    "start_time": "2024-05-16T13:58:38.458Z"
   },
   {
    "duration": 22,
    "start_time": "2024-05-16T13:58:44.141Z"
   },
   {
    "duration": 8692,
    "start_time": "2024-05-16T13:58:48.312Z"
   },
   {
    "duration": 8629,
    "start_time": "2024-05-16T14:00:40.279Z"
   },
   {
    "duration": 8819,
    "start_time": "2024-05-16T14:01:26.856Z"
   },
   {
    "duration": 1171,
    "start_time": "2024-05-16T14:04:46.988Z"
   },
   {
    "duration": 8819,
    "start_time": "2024-05-16T14:05:06.282Z"
   },
   {
    "duration": 108,
    "start_time": "2024-05-16T14:06:31.611Z"
   },
   {
    "duration": 57,
    "start_time": "2024-05-16T14:06:51.210Z"
   },
   {
    "duration": 3,
    "start_time": "2024-05-16T14:11:26.286Z"
   },
   {
    "duration": 9,
    "start_time": "2024-05-16T14:11:33.534Z"
   },
   {
    "duration": 3,
    "start_time": "2024-05-16T14:11:36.750Z"
   },
   {
    "duration": 18,
    "start_time": "2024-05-16T14:11:42.970Z"
   },
   {
    "duration": 8824,
    "start_time": "2024-05-16T14:13:26.122Z"
   },
   {
    "duration": 8621,
    "start_time": "2024-05-16T14:13:39.233Z"
   },
   {
    "duration": 9353,
    "start_time": "2024-05-16T14:14:08.753Z"
   },
   {
    "duration": 11,
    "start_time": "2024-05-16T14:15:59.774Z"
   },
   {
    "duration": 12015,
    "start_time": "2024-05-16T14:16:54.555Z"
   },
   {
    "duration": 56,
    "start_time": "2024-05-16T14:19:14.152Z"
   },
   {
    "duration": 60,
    "start_time": "2024-05-16T14:19:17.303Z"
   },
   {
    "duration": 179,
    "start_time": "2024-05-16T14:19:17.875Z"
   },
   {
    "duration": 59,
    "start_time": "2024-05-16T14:19:20.705Z"
   },
   {
    "duration": 72,
    "start_time": "2024-05-16T14:19:24.005Z"
   },
   {
    "duration": 68,
    "start_time": "2024-05-16T14:19:24.511Z"
   },
   {
    "duration": 62,
    "start_time": "2024-05-16T14:19:24.971Z"
   },
   {
    "duration": 64,
    "start_time": "2024-05-16T14:19:25.302Z"
   },
   {
    "duration": 64,
    "start_time": "2024-05-16T14:19:25.516Z"
   },
   {
    "duration": 60,
    "start_time": "2024-05-16T14:19:25.699Z"
   },
   {
    "duration": 58,
    "start_time": "2024-05-16T14:19:25.872Z"
   },
   {
    "duration": 146,
    "start_time": "2024-05-16T14:20:14.034Z"
   },
   {
    "duration": 153,
    "start_time": "2024-05-16T14:20:22.202Z"
   },
   {
    "duration": 65,
    "start_time": "2024-05-16T14:20:35.571Z"
   },
   {
    "duration": 1531,
    "start_time": "2024-05-16T14:20:51.041Z"
   },
   {
    "duration": 1053,
    "start_time": "2024-05-16T14:23:18.151Z"
   },
   {
    "duration": 81,
    "start_time": "2024-05-16T14:23:29.031Z"
   },
   {
    "duration": 1174,
    "start_time": "2024-05-16T14:23:46.332Z"
   },
   {
    "duration": 88,
    "start_time": "2024-05-16T14:23:48.306Z"
   },
   {
    "duration": 11849,
    "start_time": "2024-05-16T14:23:59.385Z"
   },
   {
    "duration": 696,
    "start_time": "2024-05-16T14:24:20.197Z"
   },
   {
    "duration": 56,
    "start_time": "2024-05-16T14:24:22.364Z"
   },
   {
    "duration": 1414,
    "start_time": "2024-05-16T14:24:30.269Z"
   },
   {
    "duration": 105,
    "start_time": "2024-05-16T14:24:32.792Z"
   },
   {
    "duration": 1192,
    "start_time": "2024-05-16T14:24:37.156Z"
   },
   {
    "duration": 87,
    "start_time": "2024-05-16T14:24:39.834Z"
   },
   {
    "duration": 11130,
    "start_time": "2024-05-16T14:31:03.355Z"
   },
   {
    "duration": 12787,
    "start_time": "2024-05-16T14:32:31.535Z"
   },
   {
    "duration": 822,
    "start_time": "2024-05-16T14:33:05.135Z"
   },
   {
    "duration": 63,
    "start_time": "2024-05-16T14:33:07.269Z"
   },
   {
    "duration": 63,
    "start_time": "2024-05-16T14:33:25.740Z"
   },
   {
    "duration": 26,
    "start_time": "2024-05-16T14:36:38.098Z"
   },
   {
    "duration": 26,
    "start_time": "2024-05-16T14:37:35.208Z"
   },
   {
    "duration": 34,
    "start_time": "2024-05-16T14:37:47.698Z"
   },
   {
    "duration": 15,
    "start_time": "2024-05-16T14:38:11.319Z"
   },
   {
    "duration": 14463,
    "start_time": "2024-05-16T14:38:13.791Z"
   },
   {
    "duration": 39,
    "start_time": "2024-05-16T14:38:39.586Z"
   },
   {
    "duration": 14097,
    "start_time": "2024-05-16T14:38:51.627Z"
   },
   {
    "duration": 18,
    "start_time": "2024-05-16T14:40:38.796Z"
   },
   {
    "duration": 12,
    "start_time": "2024-05-16T14:40:50.753Z"
   },
   {
    "duration": 13,
    "start_time": "2024-05-16T14:40:56.285Z"
   },
   {
    "duration": 13225,
    "start_time": "2024-05-16T14:40:59.516Z"
   },
   {
    "duration": 59,
    "start_time": "2024-05-16T14:41:22.452Z"
   },
   {
    "duration": 16,
    "start_time": "2024-05-16T14:41:32.053Z"
   },
   {
    "duration": 16961,
    "start_time": "2024-05-16T14:41:35.391Z"
   },
   {
    "duration": 16711,
    "start_time": "2024-05-16T14:42:07.280Z"
   },
   {
    "duration": 13,
    "start_time": "2024-05-16T14:42:46.944Z"
   },
   {
    "duration": 14347,
    "start_time": "2024-05-16T14:42:47.743Z"
   },
   {
    "duration": 52,
    "start_time": "2024-05-16T20:28:10.927Z"
   },
   {
    "duration": 1595,
    "start_time": "2024-05-16T20:28:21.669Z"
   },
   {
    "duration": 195,
    "start_time": "2024-05-16T20:28:23.266Z"
   },
   {
    "duration": 14,
    "start_time": "2024-05-16T20:28:28.200Z"
   },
   {
    "duration": 31,
    "start_time": "2024-05-16T20:28:29.954Z"
   },
   {
    "duration": 16,
    "start_time": "2024-05-16T20:28:34.546Z"
   },
   {
    "duration": 9649,
    "start_time": "2024-05-16T20:28:42.173Z"
   },
   {
    "duration": 182,
    "start_time": "2024-05-16T20:29:49.707Z"
   },
   {
    "duration": 136,
    "start_time": "2024-05-16T20:29:56.216Z"
   },
   {
    "duration": 147,
    "start_time": "2024-05-16T20:30:08.979Z"
   },
   {
    "duration": 152,
    "start_time": "2024-05-16T20:30:35.915Z"
   },
   {
    "duration": 9985,
    "start_time": "2024-05-16T20:31:56.975Z"
   },
   {
    "duration": 95,
    "start_time": "2024-05-16T20:32:12.457Z"
   },
   {
    "duration": 6,
    "start_time": "2024-05-16T20:32:14.313Z"
   },
   {
    "duration": 120,
    "start_time": "2024-05-16T20:32:16.469Z"
   },
   {
    "duration": 59,
    "start_time": "2024-05-16T20:33:52.110Z"
   },
   {
    "duration": 80,
    "start_time": "2024-05-16T20:35:31.528Z"
   },
   {
    "duration": 19,
    "start_time": "2024-05-16T20:35:35.255Z"
   },
   {
    "duration": 11,
    "start_time": "2024-05-16T20:35:49.742Z"
   },
   {
    "duration": 3,
    "start_time": "2024-05-16T20:35:52.576Z"
   },
   {
    "duration": 28,
    "start_time": "2024-05-16T20:35:53.884Z"
   },
   {
    "duration": 13,
    "start_time": "2024-05-16T20:35:57.761Z"
   },
   {
    "duration": 15985,
    "start_time": "2024-05-16T20:36:00.070Z"
   },
   {
    "duration": 37,
    "start_time": "2024-05-16T20:36:20.093Z"
   },
   {
    "duration": 155,
    "start_time": "2024-05-16T20:36:21.683Z"
   },
   {
    "duration": 7,
    "start_time": "2024-05-16T20:36:22.782Z"
   },
   {
    "duration": 192,
    "start_time": "2024-05-16T20:36:26.212Z"
   },
   {
    "duration": 1852,
    "start_time": "2024-05-16T20:37:15.790Z"
   },
   {
    "duration": 1841,
    "start_time": "2024-05-16T20:37:52.440Z"
   },
   {
    "duration": 1920,
    "start_time": "2024-05-16T20:38:22.972Z"
   },
   {
    "duration": 1926,
    "start_time": "2024-05-16T20:38:59.656Z"
   },
   {
    "duration": 1908,
    "start_time": "2024-05-16T20:39:03.329Z"
   },
   {
    "duration": 1442,
    "start_time": "2024-05-16T20:39:14.845Z"
   },
   {
    "duration": 64,
    "start_time": "2024-05-16T20:39:16.289Z"
   },
   {
    "duration": 11,
    "start_time": "2024-05-16T20:39:16.355Z"
   },
   {
    "duration": 1548,
    "start_time": "2024-05-16T20:39:16.368Z"
   },
   {
    "duration": 20,
    "start_time": "2024-05-16T20:39:17.918Z"
   },
   {
    "duration": 38,
    "start_time": "2024-05-16T20:39:17.939Z"
   },
   {
    "duration": 21,
    "start_time": "2024-05-16T20:39:17.979Z"
   },
   {
    "duration": 5,
    "start_time": "2024-05-16T20:39:18.002Z"
   },
   {
    "duration": 9555,
    "start_time": "2024-05-16T20:39:18.008Z"
   },
   {
    "duration": 110,
    "start_time": "2024-05-16T20:39:27.566Z"
   },
   {
    "duration": 6,
    "start_time": "2024-05-16T20:39:27.678Z"
   },
   {
    "duration": 146,
    "start_time": "2024-05-16T20:39:27.685Z"
   },
   {
    "duration": 61,
    "start_time": "2024-05-16T20:39:27.832Z"
   },
   {
    "duration": 3,
    "start_time": "2024-05-16T20:39:27.894Z"
   },
   {
    "duration": 44,
    "start_time": "2024-05-16T20:39:27.898Z"
   },
   {
    "duration": 23,
    "start_time": "2024-05-16T20:39:27.944Z"
   },
   {
    "duration": 16,
    "start_time": "2024-05-16T20:39:27.969Z"
   },
   {
    "duration": 15670,
    "start_time": "2024-05-16T20:39:27.987Z"
   },
   {
    "duration": 37,
    "start_time": "2024-05-16T20:39:43.659Z"
   },
   {
    "duration": 175,
    "start_time": "2024-05-16T20:39:43.697Z"
   },
   {
    "duration": 6,
    "start_time": "2024-05-16T20:39:43.874Z"
   },
   {
    "duration": 147,
    "start_time": "2024-05-16T20:39:43.882Z"
   },
   {
    "duration": 1955,
    "start_time": "2024-05-16T20:39:44.032Z"
   },
   {
    "duration": 1889,
    "start_time": "2024-05-16T20:39:45.989Z"
   },
   {
    "duration": 80,
    "start_time": "2024-05-16T21:28:00.773Z"
   },
   {
    "duration": 7,
    "start_time": "2024-05-16T21:28:05.770Z"
   },
   {
    "duration": 137,
    "start_time": "2024-05-16T21:28:09.316Z"
   },
   {
    "duration": 1464,
    "start_time": "2024-05-16T21:41:11.047Z"
   },
   {
    "duration": 66,
    "start_time": "2024-05-16T21:41:12.513Z"
   },
   {
    "duration": 12,
    "start_time": "2024-05-16T21:41:12.581Z"
   },
   {
    "duration": 1566,
    "start_time": "2024-05-16T21:41:12.596Z"
   },
   {
    "duration": 13,
    "start_time": "2024-05-16T21:41:14.164Z"
   },
   {
    "duration": 55,
    "start_time": "2024-05-16T21:41:14.179Z"
   },
   {
    "duration": 11,
    "start_time": "2024-05-16T21:41:14.235Z"
   },
   {
    "duration": 7,
    "start_time": "2024-05-16T21:41:14.248Z"
   },
   {
    "duration": 9556,
    "start_time": "2024-05-16T21:41:14.257Z"
   },
   {
    "duration": 99,
    "start_time": "2024-05-16T21:41:23.816Z"
   },
   {
    "duration": 14,
    "start_time": "2024-05-16T21:41:23.916Z"
   },
   {
    "duration": 166,
    "start_time": "2024-05-16T21:41:23.931Z"
   },
   {
    "duration": 62,
    "start_time": "2024-05-16T21:41:24.099Z"
   },
   {
    "duration": 3,
    "start_time": "2024-05-16T21:41:24.163Z"
   },
   {
    "duration": 30,
    "start_time": "2024-05-16T21:41:24.167Z"
   },
   {
    "duration": 18,
    "start_time": "2024-05-16T21:41:24.198Z"
   },
   {
    "duration": 149,
    "start_time": "2024-05-16T21:41:24.218Z"
   },
   {
    "duration": 0,
    "start_time": "2024-05-16T21:41:24.369Z"
   },
   {
    "duration": 0,
    "start_time": "2024-05-16T21:41:24.370Z"
   },
   {
    "duration": 0,
    "start_time": "2024-05-16T21:41:24.371Z"
   },
   {
    "duration": 0,
    "start_time": "2024-05-16T21:41:24.372Z"
   },
   {
    "duration": 0,
    "start_time": "2024-05-16T21:41:24.373Z"
   },
   {
    "duration": 0,
    "start_time": "2024-05-16T21:41:24.374Z"
   },
   {
    "duration": 0,
    "start_time": "2024-05-16T21:41:24.375Z"
   },
   {
    "duration": 1420,
    "start_time": "2024-05-16T21:41:45.826Z"
   },
   {
    "duration": 69,
    "start_time": "2024-05-16T21:41:47.248Z"
   },
   {
    "duration": 11,
    "start_time": "2024-05-16T21:41:47.319Z"
   },
   {
    "duration": 1579,
    "start_time": "2024-05-16T21:41:47.332Z"
   },
   {
    "duration": 18,
    "start_time": "2024-05-16T21:41:48.913Z"
   },
   {
    "duration": 29,
    "start_time": "2024-05-16T21:41:48.933Z"
   },
   {
    "duration": 10,
    "start_time": "2024-05-16T21:41:48.964Z"
   },
   {
    "duration": 29,
    "start_time": "2024-05-16T21:41:48.975Z"
   },
   {
    "duration": 9600,
    "start_time": "2024-05-16T21:41:49.006Z"
   },
   {
    "duration": 131,
    "start_time": "2024-05-16T21:41:58.608Z"
   },
   {
    "duration": 6,
    "start_time": "2024-05-16T21:41:58.740Z"
   },
   {
    "duration": 189,
    "start_time": "2024-05-16T21:41:58.748Z"
   },
   {
    "duration": 57,
    "start_time": "2024-05-16T21:41:58.938Z"
   },
   {
    "duration": 2,
    "start_time": "2024-05-16T21:41:58.997Z"
   },
   {
    "duration": 34,
    "start_time": "2024-05-16T21:41:59.000Z"
   },
   {
    "duration": 18,
    "start_time": "2024-05-16T21:41:59.036Z"
   },
   {
    "duration": 15,
    "start_time": "2024-05-16T21:41:59.055Z"
   },
   {
    "duration": 15935,
    "start_time": "2024-05-16T21:41:59.071Z"
   },
   {
    "duration": 44,
    "start_time": "2024-05-16T21:42:15.007Z"
   },
   {
    "duration": 89,
    "start_time": "2024-05-16T21:42:15.053Z"
   },
   {
    "duration": 7,
    "start_time": "2024-05-16T21:42:15.144Z"
   },
   {
    "duration": 145,
    "start_time": "2024-05-16T21:42:15.152Z"
   },
   {
    "duration": 2034,
    "start_time": "2024-05-16T21:42:15.300Z"
   },
   {
    "duration": 1962,
    "start_time": "2024-05-16T21:42:17.335Z"
   },
   {
    "duration": 1877,
    "start_time": "2024-05-16T21:45:26.947Z"
   },
   {
    "duration": 1424,
    "start_time": "2024-05-16T21:46:20.235Z"
   },
   {
    "duration": 67,
    "start_time": "2024-05-16T21:46:21.661Z"
   },
   {
    "duration": 11,
    "start_time": "2024-05-16T21:46:21.730Z"
   },
   {
    "duration": 1568,
    "start_time": "2024-05-16T21:46:21.742Z"
   },
   {
    "duration": 19,
    "start_time": "2024-05-16T21:46:23.311Z"
   },
   {
    "duration": 35,
    "start_time": "2024-05-16T21:46:23.332Z"
   },
   {
    "duration": 13,
    "start_time": "2024-05-16T21:46:23.369Z"
   },
   {
    "duration": 3,
    "start_time": "2024-05-16T21:46:23.386Z"
   },
   {
    "duration": 9570,
    "start_time": "2024-05-16T21:46:23.391Z"
   },
   {
    "duration": 104,
    "start_time": "2024-05-16T21:46:32.963Z"
   },
   {
    "duration": 6,
    "start_time": "2024-05-16T21:46:33.069Z"
   },
   {
    "duration": 138,
    "start_time": "2024-05-16T21:46:33.076Z"
   },
   {
    "duration": 66,
    "start_time": "2024-05-16T21:46:33.216Z"
   },
   {
    "duration": 3,
    "start_time": "2024-05-16T21:46:33.283Z"
   },
   {
    "duration": 32,
    "start_time": "2024-05-16T21:46:33.287Z"
   },
   {
    "duration": 26,
    "start_time": "2024-05-16T21:46:33.321Z"
   },
   {
    "duration": 19,
    "start_time": "2024-05-16T21:46:33.349Z"
   },
   {
    "duration": 14531,
    "start_time": "2024-05-16T21:46:33.370Z"
   },
   {
    "duration": 76,
    "start_time": "2024-05-16T21:46:47.903Z"
   },
   {
    "duration": 107,
    "start_time": "2024-05-16T21:46:47.981Z"
   },
   {
    "duration": 6,
    "start_time": "2024-05-16T21:46:48.089Z"
   },
   {
    "duration": 137,
    "start_time": "2024-05-16T21:46:48.097Z"
   },
   {
    "duration": 1802,
    "start_time": "2024-05-16T21:46:48.236Z"
   },
   {
    "duration": 1781,
    "start_time": "2024-05-16T21:46:50.040Z"
   },
   {
    "duration": 1731,
    "start_time": "2024-05-16T21:47:30.367Z"
   },
   {
    "duration": 107,
    "start_time": "2024-05-16T21:48:08.465Z"
   },
   {
    "duration": 68,
    "start_time": "2024-05-16T21:48:12.434Z"
   },
   {
    "duration": 1444,
    "start_time": "2024-05-16T21:52:12.698Z"
   },
   {
    "duration": 69,
    "start_time": "2024-05-16T21:52:14.144Z"
   },
   {
    "duration": 14,
    "start_time": "2024-05-16T21:52:14.214Z"
   },
   {
    "duration": 1550,
    "start_time": "2024-05-16T21:52:14.231Z"
   },
   {
    "duration": 13,
    "start_time": "2024-05-16T21:52:15.783Z"
   },
   {
    "duration": 46,
    "start_time": "2024-05-16T21:52:15.798Z"
   },
   {
    "duration": 11,
    "start_time": "2024-05-16T21:52:15.846Z"
   },
   {
    "duration": 3,
    "start_time": "2024-05-16T21:52:15.859Z"
   },
   {
    "duration": 9665,
    "start_time": "2024-05-16T21:52:15.864Z"
   },
   {
    "duration": 114,
    "start_time": "2024-05-16T21:52:25.531Z"
   },
   {
    "duration": 6,
    "start_time": "2024-05-16T21:52:25.646Z"
   },
   {
    "duration": 152,
    "start_time": "2024-05-16T21:52:25.654Z"
   },
   {
    "duration": 66,
    "start_time": "2024-05-16T21:52:25.808Z"
   },
   {
    "duration": 3,
    "start_time": "2024-05-16T21:52:25.875Z"
   },
   {
    "duration": 35,
    "start_time": "2024-05-16T21:52:25.879Z"
   },
   {
    "duration": 26,
    "start_time": "2024-05-16T21:52:25.916Z"
   },
   {
    "duration": 15,
    "start_time": "2024-05-16T21:52:25.944Z"
   },
   {
    "duration": 15434,
    "start_time": "2024-05-16T21:52:25.961Z"
   },
   {
    "duration": 41,
    "start_time": "2024-05-16T21:52:41.397Z"
   },
   {
    "duration": 74,
    "start_time": "2024-05-16T21:52:41.440Z"
   },
   {
    "duration": 17,
    "start_time": "2024-05-16T21:52:41.516Z"
   },
   {
    "duration": 134,
    "start_time": "2024-05-16T21:52:41.534Z"
   },
   {
    "duration": 37,
    "start_time": "2024-05-16T21:52:41.670Z"
   },
   {
    "duration": 45,
    "start_time": "2024-05-16T21:52:41.709Z"
   },
   {
    "duration": 1662,
    "start_time": "2024-05-17T10:32:32.819Z"
   },
   {
    "duration": 115,
    "start_time": "2024-05-17T10:32:34.483Z"
   },
   {
    "duration": 12,
    "start_time": "2024-05-17T10:32:34.599Z"
   },
   {
    "duration": 1572,
    "start_time": "2024-05-17T10:32:34.613Z"
   },
   {
    "duration": 13,
    "start_time": "2024-05-17T10:32:36.187Z"
   },
   {
    "duration": 48,
    "start_time": "2024-05-17T10:32:36.202Z"
   },
   {
    "duration": 14,
    "start_time": "2024-05-17T10:32:36.252Z"
   },
   {
    "duration": 2,
    "start_time": "2024-05-17T10:32:36.268Z"
   },
   {
    "duration": 9849,
    "start_time": "2024-05-17T10:32:36.272Z"
   },
   {
    "duration": 102,
    "start_time": "2024-05-17T10:32:46.124Z"
   },
   {
    "duration": 6,
    "start_time": "2024-05-17T10:32:46.227Z"
   },
   {
    "duration": 138,
    "start_time": "2024-05-17T10:32:46.235Z"
   },
   {
    "duration": 60,
    "start_time": "2024-05-17T10:32:46.376Z"
   },
   {
    "duration": 3,
    "start_time": "2024-05-17T10:32:46.437Z"
   },
   {
    "duration": 20,
    "start_time": "2024-05-17T10:32:46.460Z"
   },
   {
    "duration": 20,
    "start_time": "2024-05-17T10:32:46.482Z"
   },
   {
    "duration": 22,
    "start_time": "2024-05-17T10:32:46.504Z"
   },
   {
    "duration": 16217,
    "start_time": "2024-05-17T10:32:46.528Z"
   },
   {
    "duration": 45,
    "start_time": "2024-05-17T10:33:02.747Z"
   },
   {
    "duration": 86,
    "start_time": "2024-05-17T10:33:02.794Z"
   },
   {
    "duration": 8,
    "start_time": "2024-05-17T10:33:02.882Z"
   },
   {
    "duration": 289,
    "start_time": "2024-05-17T10:33:02.892Z"
   },
   {
    "duration": 37,
    "start_time": "2024-05-17T10:33:03.182Z"
   },
   {
    "duration": 110,
    "start_time": "2024-05-17T10:33:03.220Z"
   },
   {
    "duration": 1520,
    "start_time": "2024-05-17T12:01:51.075Z"
   },
   {
    "duration": 67,
    "start_time": "2024-05-17T12:01:52.596Z"
   },
   {
    "duration": 46,
    "start_time": "2024-05-17T12:01:52.665Z"
   },
   {
    "duration": 1563,
    "start_time": "2024-05-17T12:01:52.713Z"
   },
   {
    "duration": 13,
    "start_time": "2024-05-17T12:01:54.278Z"
   },
   {
    "duration": 46,
    "start_time": "2024-05-17T12:01:54.293Z"
   },
   {
    "duration": 26,
    "start_time": "2024-05-17T12:01:54.340Z"
   },
   {
    "duration": 2,
    "start_time": "2024-05-17T12:01:54.368Z"
   },
   {
    "duration": 10077,
    "start_time": "2024-05-17T12:01:54.372Z"
   },
   {
    "duration": 108,
    "start_time": "2024-05-17T12:02:04.451Z"
   },
   {
    "duration": 6,
    "start_time": "2024-05-17T12:02:04.560Z"
   },
   {
    "duration": 138,
    "start_time": "2024-05-17T12:02:04.568Z"
   },
   {
    "duration": 67,
    "start_time": "2024-05-17T12:02:04.708Z"
   },
   {
    "duration": 3,
    "start_time": "2024-05-17T12:02:04.777Z"
   },
   {
    "duration": 23,
    "start_time": "2024-05-17T12:02:04.781Z"
   },
   {
    "duration": 19,
    "start_time": "2024-05-17T12:02:04.806Z"
   },
   {
    "duration": 41,
    "start_time": "2024-05-17T12:02:04.827Z"
   },
   {
    "duration": 16552,
    "start_time": "2024-05-17T12:02:04.869Z"
   },
   {
    "duration": 42,
    "start_time": "2024-05-17T12:02:21.423Z"
   },
   {
    "duration": 138,
    "start_time": "2024-05-17T12:02:21.467Z"
   },
   {
    "duration": 6,
    "start_time": "2024-05-17T12:02:21.607Z"
   },
   {
    "duration": 138,
    "start_time": "2024-05-17T12:02:21.615Z"
   },
   {
    "duration": 39,
    "start_time": "2024-05-17T12:02:21.758Z"
   },
   {
    "duration": 54,
    "start_time": "2024-05-17T12:02:21.799Z"
   },
   {
    "duration": 1949,
    "start_time": "2024-05-17T12:02:55.674Z"
   },
   {
    "duration": 1347,
    "start_time": "2024-05-17T12:03:09.261Z"
   },
   {
    "duration": 9061,
    "start_time": "2024-05-17T12:15:08.160Z"
   },
   {
    "duration": 417,
    "start_time": "2024-05-17T12:15:58.950Z"
   },
   {
    "duration": 215,
    "start_time": "2024-05-17T12:17:38.941Z"
   },
   {
    "duration": 357,
    "start_time": "2024-05-17T12:17:51.502Z"
   },
   {
    "duration": 2,
    "start_time": "2024-05-17T12:17:53.591Z"
   },
   {
    "duration": 337,
    "start_time": "2024-05-17T12:17:56.735Z"
   },
   {
    "duration": 353,
    "start_time": "2024-05-17T12:17:59.332Z"
   },
   {
    "duration": 378,
    "start_time": "2024-05-17T12:18:00.181Z"
   },
   {
    "duration": 351,
    "start_time": "2024-05-17T12:18:02.699Z"
   },
   {
    "duration": 348,
    "start_time": "2024-05-17T12:18:03.455Z"
   },
   {
    "duration": 352,
    "start_time": "2024-05-17T12:18:04.177Z"
   },
   {
    "duration": 345,
    "start_time": "2024-05-17T12:18:04.907Z"
   },
   {
    "duration": 352,
    "start_time": "2024-05-17T12:18:05.600Z"
   },
   {
    "duration": 343,
    "start_time": "2024-05-17T12:18:06.291Z"
   },
   {
    "duration": 369,
    "start_time": "2024-05-17T12:18:07.328Z"
   },
   {
    "duration": 392,
    "start_time": "2024-05-17T12:18:18.864Z"
   },
   {
    "duration": 731,
    "start_time": "2024-05-17T12:18:25.188Z"
   },
   {
    "duration": 1772,
    "start_time": "2024-05-17T12:18:30.916Z"
   },
   {
    "duration": 3670,
    "start_time": "2024-05-17T12:18:39.241Z"
   },
   {
    "duration": 1541,
    "start_time": "2024-05-17T12:18:58.045Z"
   },
   {
    "duration": 345,
    "start_time": "2024-05-17T12:19:07.683Z"
   },
   {
    "duration": 9516,
    "start_time": "2024-05-17T12:21:24.484Z"
   },
   {
    "duration": 125,
    "start_time": "2024-05-17T12:22:30.339Z"
   },
   {
    "duration": 3,
    "start_time": "2024-05-17T12:22:42.560Z"
   },
   {
    "duration": 2,
    "start_time": "2024-05-17T12:22:50.073Z"
   },
   {
    "duration": 13,
    "start_time": "2024-05-17T12:22:51.417Z"
   },
   {
    "duration": 191,
    "start_time": "2024-05-17T12:23:14.420Z"
   },
   {
    "duration": 21,
    "start_time": "2024-05-17T12:23:15.618Z"
   },
   {
    "duration": 6,
    "start_time": "2024-05-17T12:23:17.803Z"
   },
   {
    "duration": 144,
    "start_time": "2024-05-17T12:23:21.144Z"
   },
   {
    "duration": 20,
    "start_time": "2024-05-17T12:26:25.959Z"
   },
   {
    "duration": 11,
    "start_time": "2024-05-17T12:30:46.647Z"
   },
   {
    "duration": 16,
    "start_time": "2024-05-17T12:47:58.721Z"
   },
   {
    "duration": 14,
    "start_time": "2024-05-17T12:48:03.724Z"
   },
   {
    "duration": 17,
    "start_time": "2024-05-17T12:48:07.693Z"
   },
   {
    "duration": 731,
    "start_time": "2024-05-17T12:48:51.576Z"
   },
   {
    "duration": 350,
    "start_time": "2024-05-17T12:49:25.752Z"
   },
   {
    "duration": 537,
    "start_time": "2024-05-17T12:49:37.519Z"
   },
   {
    "duration": 1717,
    "start_time": "2024-05-17T12:49:43.878Z"
   },
   {
    "duration": 1611,
    "start_time": "2024-05-17T12:50:17.045Z"
   },
   {
    "duration": 336,
    "start_time": "2024-05-17T12:50:29.570Z"
   },
   {
    "duration": 332,
    "start_time": "2024-05-17T12:50:46.606Z"
   },
   {
    "duration": 12,
    "start_time": "2024-05-17T12:52:04.621Z"
   },
   {
    "duration": 189,
    "start_time": "2024-05-17T12:52:17.520Z"
   },
   {
    "duration": 6496,
    "start_time": "2024-05-17T12:53:18.406Z"
   },
   {
    "duration": 6682,
    "start_time": "2024-05-17T12:53:37.480Z"
   },
   {
    "duration": 2010,
    "start_time": "2024-05-17T12:56:15.674Z"
   },
   {
    "duration": 443,
    "start_time": "2024-05-17T12:56:51.405Z"
   },
   {
    "duration": 16269,
    "start_time": "2024-05-17T12:57:01.431Z"
   },
   {
    "duration": 1523,
    "start_time": "2024-05-17T12:57:39.045Z"
   },
   {
    "duration": 65,
    "start_time": "2024-05-17T12:57:40.570Z"
   },
   {
    "duration": 12,
    "start_time": "2024-05-17T12:57:40.636Z"
   },
   {
    "duration": 1599,
    "start_time": "2024-05-17T12:57:40.650Z"
   },
   {
    "duration": 14,
    "start_time": "2024-05-17T12:57:42.258Z"
   },
   {
    "duration": 38,
    "start_time": "2024-05-17T12:57:42.274Z"
   },
   {
    "duration": 11,
    "start_time": "2024-05-17T12:57:42.314Z"
   },
   {
    "duration": 17,
    "start_time": "2024-05-17T12:57:42.327Z"
   },
   {
    "duration": 31,
    "start_time": "2024-05-17T12:57:42.345Z"
   },
   {
    "duration": 19,
    "start_time": "2024-05-17T12:57:42.379Z"
   },
   {
    "duration": 147,
    "start_time": "2024-05-17T12:57:42.399Z"
   },
   {
    "duration": 0,
    "start_time": "2024-05-17T12:57:42.548Z"
   },
   {
    "duration": 0,
    "start_time": "2024-05-17T12:57:42.549Z"
   },
   {
    "duration": 0,
    "start_time": "2024-05-17T12:57:42.558Z"
   },
   {
    "duration": 0,
    "start_time": "2024-05-17T12:57:42.559Z"
   },
   {
    "duration": 0,
    "start_time": "2024-05-17T12:57:42.561Z"
   },
   {
    "duration": 0,
    "start_time": "2024-05-17T12:57:42.562Z"
   },
   {
    "duration": 0,
    "start_time": "2024-05-17T12:57:42.563Z"
   },
   {
    "duration": 0,
    "start_time": "2024-05-17T12:57:42.564Z"
   },
   {
    "duration": 0,
    "start_time": "2024-05-17T12:57:42.565Z"
   },
   {
    "duration": 0,
    "start_time": "2024-05-17T12:57:42.566Z"
   },
   {
    "duration": 0,
    "start_time": "2024-05-17T12:57:42.567Z"
   },
   {
    "duration": 0,
    "start_time": "2024-05-17T12:57:42.568Z"
   },
   {
    "duration": 0,
    "start_time": "2024-05-17T12:57:42.569Z"
   },
   {
    "duration": 0,
    "start_time": "2024-05-17T12:57:42.570Z"
   },
   {
    "duration": 0,
    "start_time": "2024-05-17T12:57:42.571Z"
   },
   {
    "duration": 0,
    "start_time": "2024-05-17T12:57:42.572Z"
   },
   {
    "duration": 0,
    "start_time": "2024-05-17T12:57:42.573Z"
   },
   {
    "duration": 0,
    "start_time": "2024-05-17T12:57:42.574Z"
   },
   {
    "duration": 0,
    "start_time": "2024-05-17T12:57:42.575Z"
   },
   {
    "duration": 0,
    "start_time": "2024-05-17T12:57:42.576Z"
   },
   {
    "duration": 0,
    "start_time": "2024-05-17T12:57:42.577Z"
   },
   {
    "duration": 1467,
    "start_time": "2024-05-17T12:58:28.249Z"
   },
   {
    "duration": 64,
    "start_time": "2024-05-17T12:58:29.718Z"
   },
   {
    "duration": 11,
    "start_time": "2024-05-17T12:58:29.784Z"
   },
   {
    "duration": 1638,
    "start_time": "2024-05-17T12:58:29.796Z"
   },
   {
    "duration": 29,
    "start_time": "2024-05-17T12:58:31.435Z"
   },
   {
    "duration": 51,
    "start_time": "2024-05-17T12:58:31.468Z"
   },
   {
    "duration": 25,
    "start_time": "2024-05-17T12:58:31.521Z"
   },
   {
    "duration": 45,
    "start_time": "2024-05-17T12:58:31.547Z"
   },
   {
    "duration": 93,
    "start_time": "2024-05-17T12:58:31.594Z"
   },
   {
    "duration": 164,
    "start_time": "2024-05-17T12:58:31.691Z"
   },
   {
    "duration": 917,
    "start_time": "2024-05-17T12:58:31.856Z"
   },
   {
    "duration": 0,
    "start_time": "2024-05-17T12:58:32.774Z"
   },
   {
    "duration": 0,
    "start_time": "2024-05-17T12:58:32.776Z"
   },
   {
    "duration": 0,
    "start_time": "2024-05-17T12:58:32.777Z"
   },
   {
    "duration": 0,
    "start_time": "2024-05-17T12:58:32.778Z"
   },
   {
    "duration": 0,
    "start_time": "2024-05-17T12:58:32.780Z"
   },
   {
    "duration": 0,
    "start_time": "2024-05-17T12:58:32.781Z"
   },
   {
    "duration": 0,
    "start_time": "2024-05-17T12:58:32.782Z"
   },
   {
    "duration": 0,
    "start_time": "2024-05-17T12:58:32.783Z"
   },
   {
    "duration": 0,
    "start_time": "2024-05-17T12:58:32.784Z"
   },
   {
    "duration": 0,
    "start_time": "2024-05-17T12:58:32.785Z"
   },
   {
    "duration": 0,
    "start_time": "2024-05-17T12:58:32.786Z"
   },
   {
    "duration": 0,
    "start_time": "2024-05-17T12:58:32.787Z"
   },
   {
    "duration": 0,
    "start_time": "2024-05-17T12:58:32.788Z"
   },
   {
    "duration": 0,
    "start_time": "2024-05-17T12:58:32.789Z"
   },
   {
    "duration": 0,
    "start_time": "2024-05-17T12:58:32.790Z"
   },
   {
    "duration": 0,
    "start_time": "2024-05-17T12:58:32.791Z"
   },
   {
    "duration": 0,
    "start_time": "2024-05-17T12:58:32.792Z"
   },
   {
    "duration": 0,
    "start_time": "2024-05-17T12:58:32.793Z"
   },
   {
    "duration": 0,
    "start_time": "2024-05-17T12:58:32.794Z"
   },
   {
    "duration": 0,
    "start_time": "2024-05-17T12:58:32.795Z"
   },
   {
    "duration": 0,
    "start_time": "2024-05-17T12:58:32.796Z"
   },
   {
    "duration": 1575,
    "start_time": "2024-05-17T12:59:00.329Z"
   },
   {
    "duration": 69,
    "start_time": "2024-05-17T12:59:01.906Z"
   },
   {
    "duration": 107,
    "start_time": "2024-05-17T12:59:01.977Z"
   },
   {
    "duration": 1671,
    "start_time": "2024-05-17T12:59:02.086Z"
   },
   {
    "duration": 14,
    "start_time": "2024-05-17T12:59:03.760Z"
   },
   {
    "duration": 32,
    "start_time": "2024-05-17T12:59:03.776Z"
   },
   {
    "duration": 11,
    "start_time": "2024-05-17T12:59:03.810Z"
   },
   {
    "duration": 3,
    "start_time": "2024-05-17T12:59:03.822Z"
   },
   {
    "duration": 28,
    "start_time": "2024-05-17T12:59:03.858Z"
   },
   {
    "duration": 79,
    "start_time": "2024-05-17T12:59:03.888Z"
   },
   {
    "duration": 495,
    "start_time": "2024-05-17T12:59:03.969Z"
   },
   {
    "duration": 516,
    "start_time": "2024-05-17T12:59:04.467Z"
   },
   {
    "duration": 3,
    "start_time": "2024-05-17T12:59:04.985Z"
   },
   {
    "duration": 9837,
    "start_time": "2024-05-17T12:59:04.991Z"
   },
   {
    "duration": 187,
    "start_time": "2024-05-17T12:59:14.830Z"
   },
   {
    "duration": 22,
    "start_time": "2024-05-17T12:59:15.019Z"
   },
   {
    "duration": 60,
    "start_time": "2024-05-17T12:59:15.043Z"
   },
   {
    "duration": 146,
    "start_time": "2024-05-17T12:59:15.105Z"
   },
   {
    "duration": 22,
    "start_time": "2024-05-17T12:59:15.253Z"
   },
   {
    "duration": 91,
    "start_time": "2024-05-17T12:59:15.277Z"
   },
   {
    "duration": 443,
    "start_time": "2024-05-17T12:59:15.461Z"
   },
   {
    "duration": 15149,
    "start_time": "2024-05-17T12:59:15.906Z"
   },
   {
    "duration": 68,
    "start_time": "2024-05-17T12:59:31.056Z"
   },
   {
    "duration": 159,
    "start_time": "2024-05-17T12:59:31.126Z"
   },
   {
    "duration": 7,
    "start_time": "2024-05-17T12:59:31.287Z"
   },
   {
    "duration": 223,
    "start_time": "2024-05-17T12:59:31.296Z"
   },
   {
    "duration": 14,
    "start_time": "2024-05-17T12:59:31.521Z"
   },
   {
    "duration": 770,
    "start_time": "2024-05-17T12:59:31.537Z"
   },
   {
    "duration": 178,
    "start_time": "2024-05-17T12:59:32.309Z"
   },
   {
    "duration": 6632,
    "start_time": "2024-05-17T12:59:32.488Z"
   },
   {
    "duration": 13,
    "start_time": "2024-05-17T12:59:39.122Z"
   },
   {
    "duration": 67,
    "start_time": "2024-05-17T12:59:39.136Z"
   },
   {
    "duration": 1431,
    "start_time": "2024-05-17T13:04:36.965Z"
   },
   {
    "duration": 67,
    "start_time": "2024-05-17T13:04:38.398Z"
   },
   {
    "duration": 18,
    "start_time": "2024-05-17T13:04:38.467Z"
   },
   {
    "duration": 1584,
    "start_time": "2024-05-17T13:04:38.486Z"
   },
   {
    "duration": 14,
    "start_time": "2024-05-17T13:04:40.072Z"
   },
   {
    "duration": 69,
    "start_time": "2024-05-17T13:04:40.088Z"
   },
   {
    "duration": 33,
    "start_time": "2024-05-17T13:04:40.159Z"
   },
   {
    "duration": 3,
    "start_time": "2024-05-17T13:04:40.194Z"
   },
   {
    "duration": 29,
    "start_time": "2024-05-17T13:04:40.199Z"
   },
   {
    "duration": 18,
    "start_time": "2024-05-17T13:04:40.230Z"
   },
   {
    "duration": 415,
    "start_time": "2024-05-17T13:04:40.250Z"
   },
   {
    "duration": 419,
    "start_time": "2024-05-17T13:04:40.758Z"
   },
   {
    "duration": 3,
    "start_time": "2024-05-17T13:04:41.179Z"
   },
   {
    "duration": 9507,
    "start_time": "2024-05-17T13:04:41.186Z"
   },
   {
    "duration": 194,
    "start_time": "2024-05-17T13:04:50.694Z"
   },
   {
    "duration": 22,
    "start_time": "2024-05-17T13:04:50.890Z"
   },
   {
    "duration": 6,
    "start_time": "2024-05-17T13:04:50.913Z"
   },
   {
    "duration": 142,
    "start_time": "2024-05-17T13:04:50.921Z"
   },
   {
    "duration": 14,
    "start_time": "2024-05-17T13:04:51.065Z"
   },
   {
    "duration": 80,
    "start_time": "2024-05-17T13:04:51.081Z"
   },
   {
    "duration": 502,
    "start_time": "2024-05-17T13:04:51.164Z"
   },
   {
    "duration": 15202,
    "start_time": "2024-05-17T13:04:51.668Z"
   },
   {
    "duration": 67,
    "start_time": "2024-05-17T13:05:06.871Z"
   },
   {
    "duration": 76,
    "start_time": "2024-05-17T13:05:06.940Z"
   },
   {
    "duration": 6,
    "start_time": "2024-05-17T13:05:07.018Z"
   },
   {
    "duration": 174,
    "start_time": "2024-05-17T13:05:07.025Z"
   },
   {
    "duration": 15,
    "start_time": "2024-05-17T13:05:07.201Z"
   },
   {
    "duration": 737,
    "start_time": "2024-05-17T13:05:07.218Z"
   },
   {
    "duration": 185,
    "start_time": "2024-05-17T13:05:07.959Z"
   },
   {
    "duration": 6582,
    "start_time": "2024-05-17T13:05:08.145Z"
   },
   {
    "duration": 12,
    "start_time": "2024-05-17T13:05:14.728Z"
   },
   {
    "duration": 35,
    "start_time": "2024-05-17T13:05:14.742Z"
   },
   {
    "duration": 1367,
    "start_time": "2024-05-17T13:19:32.509Z"
   },
   {
    "duration": 338,
    "start_time": "2024-05-17T13:19:33.878Z"
   },
   {
    "duration": 11407,
    "start_time": "2024-05-17T13:19:34.217Z"
   },
   {
    "duration": 69,
    "start_time": "2024-05-17T13:22:20.936Z"
   },
   {
    "duration": 70,
    "start_time": "2024-05-17T13:22:25.607Z"
   },
   {
    "duration": 133,
    "start_time": "2024-05-17T13:23:01.578Z"
   },
   {
    "duration": 10,
    "start_time": "2024-05-17T13:23:27.127Z"
   },
   {
    "duration": 785,
    "start_time": "2024-05-17T13:23:53.675Z"
   },
   {
    "duration": 61,
    "start_time": "2024-05-17T13:23:59.139Z"
   },
   {
    "duration": 443,
    "start_time": "2024-05-17T13:33:35.527Z"
   },
   {
    "duration": 322,
    "start_time": "2024-05-17T13:33:59.648Z"
   },
   {
    "duration": 1492,
    "start_time": "2024-05-17T13:40:33.646Z"
   },
   {
    "duration": 77,
    "start_time": "2024-05-17T13:40:35.140Z"
   },
   {
    "duration": 14,
    "start_time": "2024-05-17T13:40:35.219Z"
   },
   {
    "duration": 1633,
    "start_time": "2024-05-17T13:40:35.236Z"
   },
   {
    "duration": 14,
    "start_time": "2024-05-17T13:40:36.870Z"
   },
   {
    "duration": 34,
    "start_time": "2024-05-17T13:40:36.885Z"
   },
   {
    "duration": 11,
    "start_time": "2024-05-17T13:40:36.921Z"
   },
   {
    "duration": 3,
    "start_time": "2024-05-17T13:40:36.958Z"
   },
   {
    "duration": 24,
    "start_time": "2024-05-17T13:40:36.962Z"
   },
   {
    "duration": 17,
    "start_time": "2024-05-17T13:40:36.989Z"
   },
   {
    "duration": 857,
    "start_time": "2024-05-17T13:40:37.008Z"
   },
   {
    "duration": 454,
    "start_time": "2024-05-17T13:40:37.873Z"
   },
   {
    "duration": 2,
    "start_time": "2024-05-17T13:40:38.329Z"
   },
   {
    "duration": 9701,
    "start_time": "2024-05-17T13:40:38.334Z"
   },
   {
    "duration": 208,
    "start_time": "2024-05-17T13:40:48.037Z"
   },
   {
    "duration": 28,
    "start_time": "2024-05-17T13:40:48.247Z"
   },
   {
    "duration": 33,
    "start_time": "2024-05-17T13:40:48.277Z"
   },
   {
    "duration": 141,
    "start_time": "2024-05-17T13:40:48.311Z"
   },
   {
    "duration": 16,
    "start_time": "2024-05-17T13:40:48.453Z"
   },
   {
    "duration": 194,
    "start_time": "2024-05-17T13:40:48.470Z"
   },
   {
    "duration": 540,
    "start_time": "2024-05-17T13:40:48.666Z"
   },
   {
    "duration": 15302,
    "start_time": "2024-05-17T13:40:49.208Z"
   },
   {
    "duration": 72,
    "start_time": "2024-05-17T13:41:04.511Z"
   },
   {
    "duration": 77,
    "start_time": "2024-05-17T13:41:04.584Z"
   },
   {
    "duration": 6,
    "start_time": "2024-05-17T13:41:04.663Z"
   },
   {
    "duration": 183,
    "start_time": "2024-05-17T13:41:04.671Z"
   },
   {
    "duration": 15,
    "start_time": "2024-05-17T13:41:04.856Z"
   },
   {
    "duration": 755,
    "start_time": "2024-05-17T13:41:04.874Z"
   },
   {
    "duration": 58,
    "start_time": "2024-05-17T13:41:05.631Z"
   },
   {
    "duration": 0,
    "start_time": "2024-05-17T13:41:05.691Z"
   },
   {
    "duration": 0,
    "start_time": "2024-05-17T13:41:05.691Z"
   },
   {
    "duration": 0,
    "start_time": "2024-05-17T13:41:05.693Z"
   },
   {
    "duration": 0,
    "start_time": "2024-05-17T13:41:05.694Z"
   },
   {
    "duration": 0,
    "start_time": "2024-05-17T13:41:05.695Z"
   },
   {
    "duration": 0,
    "start_time": "2024-05-17T13:41:05.696Z"
   },
   {
    "duration": 198,
    "start_time": "2024-05-17T13:42:47.161Z"
   },
   {
    "duration": 6724,
    "start_time": "2024-05-17T13:42:48.202Z"
   },
   {
    "duration": 1364,
    "start_time": "2024-05-17T13:42:54.928Z"
   },
   {
    "duration": 369,
    "start_time": "2024-05-17T13:42:56.294Z"
   },
   {
    "duration": 11428,
    "start_time": "2024-05-17T13:42:56.665Z"
   },
   {
    "duration": 82,
    "start_time": "2024-05-17T13:43:08.094Z"
   },
   {
    "duration": 62,
    "start_time": "2024-05-17T13:43:08.178Z"
   },
   {
    "duration": 1409,
    "start_time": "2024-05-17T13:44:10.908Z"
   },
   {
    "duration": 7,
    "start_time": "2024-05-17T13:47:49.062Z"
   },
   {
    "duration": 76,
    "start_time": "2024-05-17T13:52:17.769Z"
   },
   {
    "duration": 72,
    "start_time": "2024-05-17T13:52:31.235Z"
   },
   {
    "duration": 1550,
    "start_time": "2024-05-17T13:52:36.086Z"
   },
   {
    "duration": 79,
    "start_time": "2024-05-17T13:52:37.638Z"
   },
   {
    "duration": 12,
    "start_time": "2024-05-17T13:52:37.718Z"
   },
   {
    "duration": 1572,
    "start_time": "2024-05-17T13:52:37.732Z"
   },
   {
    "duration": 17,
    "start_time": "2024-05-17T13:52:39.306Z"
   },
   {
    "duration": 78,
    "start_time": "2024-05-17T13:52:39.325Z"
   },
   {
    "duration": 11,
    "start_time": "2024-05-17T13:52:39.404Z"
   },
   {
    "duration": 3,
    "start_time": "2024-05-17T13:52:39.417Z"
   },
   {
    "duration": 23,
    "start_time": "2024-05-17T13:52:39.421Z"
   },
   {
    "duration": 18,
    "start_time": "2024-05-17T13:52:39.458Z"
   },
   {
    "duration": 487,
    "start_time": "2024-05-17T13:52:39.478Z"
   },
   {
    "duration": 447,
    "start_time": "2024-05-17T13:52:39.967Z"
   },
   {
    "duration": 3,
    "start_time": "2024-05-17T13:52:40.416Z"
   },
   {
    "duration": 9643,
    "start_time": "2024-05-17T13:52:40.420Z"
   },
   {
    "duration": 195,
    "start_time": "2024-05-17T13:52:50.064Z"
   },
   {
    "duration": 21,
    "start_time": "2024-05-17T13:52:50.261Z"
   },
   {
    "duration": 41,
    "start_time": "2024-05-17T13:52:50.283Z"
   },
   {
    "duration": 142,
    "start_time": "2024-05-17T13:52:50.325Z"
   },
   {
    "duration": 15,
    "start_time": "2024-05-17T13:52:50.469Z"
   },
   {
    "duration": 159,
    "start_time": "2024-05-17T13:52:50.486Z"
   },
   {
    "duration": 577,
    "start_time": "2024-05-17T13:52:50.660Z"
   },
   {
    "duration": 15404,
    "start_time": "2024-05-17T13:52:51.239Z"
   },
   {
    "duration": 79,
    "start_time": "2024-05-17T13:53:06.645Z"
   },
   {
    "duration": 122,
    "start_time": "2024-05-17T13:53:06.726Z"
   },
   {
    "duration": 129,
    "start_time": "2024-05-17T13:53:06.850Z"
   },
   {
    "duration": 15,
    "start_time": "2024-05-17T13:53:06.980Z"
   },
   {
    "duration": 750,
    "start_time": "2024-05-17T13:53:06.996Z"
   },
   {
    "duration": 204,
    "start_time": "2024-05-17T13:53:07.750Z"
   },
   {
    "duration": 6660,
    "start_time": "2024-05-17T13:53:07.959Z"
   },
   {
    "duration": 12,
    "start_time": "2024-05-17T13:53:14.620Z"
   },
   {
    "duration": 1476,
    "start_time": "2024-05-17T13:53:14.633Z"
   },
   {
    "duration": 389,
    "start_time": "2024-05-17T13:53:16.112Z"
   },
   {
    "duration": 11677,
    "start_time": "2024-05-17T13:53:16.503Z"
   },
   {
    "duration": 78,
    "start_time": "2024-05-17T13:53:28.182Z"
   },
   {
    "duration": 60,
    "start_time": "2024-05-17T13:53:28.262Z"
   },
   {
    "duration": 11,
    "start_time": "2024-05-17T13:53:28.323Z"
   },
   {
    "duration": 7,
    "start_time": "2024-05-17T13:56:40.873Z"
   },
   {
    "duration": 1496,
    "start_time": "2024-05-17T14:03:05.436Z"
   },
   {
    "duration": 67,
    "start_time": "2024-05-17T14:03:06.934Z"
   },
   {
    "duration": 11,
    "start_time": "2024-05-17T14:03:07.003Z"
   },
   {
    "duration": 1589,
    "start_time": "2024-05-17T14:03:07.016Z"
   },
   {
    "duration": 14,
    "start_time": "2024-05-17T14:03:08.606Z"
   },
   {
    "duration": 109,
    "start_time": "2024-05-17T14:03:08.622Z"
   },
   {
    "duration": 10,
    "start_time": "2024-05-17T14:03:08.733Z"
   },
   {
    "duration": 62,
    "start_time": "2024-05-17T14:03:08.744Z"
   },
   {
    "duration": 21,
    "start_time": "2024-05-17T14:03:08.807Z"
   },
   {
    "duration": 18,
    "start_time": "2024-05-17T14:03:08.831Z"
   },
   {
    "duration": 416,
    "start_time": "2024-05-17T14:03:08.850Z"
   },
   {
    "duration": 529,
    "start_time": "2024-05-17T14:03:09.268Z"
   },
   {
    "duration": 3,
    "start_time": "2024-05-17T14:03:09.799Z"
   },
   {
    "duration": 9603,
    "start_time": "2024-05-17T14:03:09.803Z"
   },
   {
    "duration": 198,
    "start_time": "2024-05-17T14:03:19.407Z"
   },
   {
    "duration": 21,
    "start_time": "2024-05-17T14:03:19.607Z"
   },
   {
    "duration": 7,
    "start_time": "2024-05-17T14:03:19.630Z"
   },
   {
    "duration": 154,
    "start_time": "2024-05-17T14:03:19.638Z"
   },
   {
    "duration": 15,
    "start_time": "2024-05-17T14:03:19.794Z"
   },
   {
    "duration": 149,
    "start_time": "2024-05-17T14:03:19.811Z"
   },
   {
    "duration": 523,
    "start_time": "2024-05-17T14:03:19.963Z"
   },
   {
    "duration": 15472,
    "start_time": "2024-05-17T14:03:20.487Z"
   },
   {
    "duration": 65,
    "start_time": "2024-05-17T14:03:35.961Z"
   },
   {
    "duration": 77,
    "start_time": "2024-05-17T14:03:36.028Z"
   },
   {
    "duration": 133,
    "start_time": "2024-05-17T14:03:36.106Z"
   },
   {
    "duration": 23,
    "start_time": "2024-05-17T14:03:36.241Z"
   },
   {
    "duration": 759,
    "start_time": "2024-05-17T14:03:36.266Z"
   },
   {
    "duration": 225,
    "start_time": "2024-05-17T14:03:37.029Z"
   },
   {
    "duration": 6667,
    "start_time": "2024-05-17T14:03:37.256Z"
   },
   {
    "duration": 13,
    "start_time": "2024-05-17T14:03:43.924Z"
   },
   {
    "duration": 1391,
    "start_time": "2024-05-17T14:03:43.938Z"
   },
   {
    "duration": 383,
    "start_time": "2024-05-17T14:03:45.331Z"
   },
   {
    "duration": 11375,
    "start_time": "2024-05-17T14:03:45.715Z"
   },
   {
    "duration": 73,
    "start_time": "2024-05-17T14:03:57.092Z"
   },
   {
    "duration": 64,
    "start_time": "2024-05-17T14:03:57.166Z"
   },
   {
    "duration": 6,
    "start_time": "2024-05-17T14:03:57.232Z"
   },
   {
    "duration": 1361,
    "start_time": "2024-05-19T05:28:59.464Z"
   },
   {
    "duration": 192,
    "start_time": "2024-05-19T05:29:00.827Z"
   },
   {
    "duration": 11,
    "start_time": "2024-05-19T05:29:01.021Z"
   },
   {
    "duration": 1461,
    "start_time": "2024-05-19T05:29:01.033Z"
   },
   {
    "duration": 12,
    "start_time": "2024-05-19T05:29:02.496Z"
   },
   {
    "duration": 27,
    "start_time": "2024-05-19T05:29:02.509Z"
   },
   {
    "duration": 37,
    "start_time": "2024-05-19T05:29:02.537Z"
   },
   {
    "duration": 120,
    "start_time": "2024-05-19T05:29:02.575Z"
   },
   {
    "duration": 4,
    "start_time": "2024-05-19T05:29:25.454Z"
   },
   {
    "duration": 72,
    "start_time": "2024-05-19T05:29:25.459Z"
   },
   {
    "duration": 9,
    "start_time": "2024-05-19T05:29:25.533Z"
   },
   {
    "duration": 1291,
    "start_time": "2024-05-19T05:29:25.544Z"
   },
   {
    "duration": 5,
    "start_time": "2024-05-19T05:29:26.837Z"
   },
   {
    "duration": 1763,
    "start_time": "2024-05-19T21:53:34.056Z"
   },
   {
    "duration": 122,
    "start_time": "2024-05-19T21:53:39.784Z"
   },
   {
    "duration": 5,
    "start_time": "2024-05-19T21:53:46.432Z"
   },
   {
    "duration": 18,
    "start_time": "2024-05-19T21:53:47.440Z"
   },
   {
    "duration": 22,
    "start_time": "2024-05-19T21:53:59.322Z"
   },
   {
    "duration": 60,
    "start_time": "2024-05-19T21:54:26.582Z"
   },
   {
    "duration": 11,
    "start_time": "2024-05-19T21:54:31.974Z"
   },
   {
    "duration": 6,
    "start_time": "2024-05-19T21:54:35.125Z"
   },
   {
    "duration": 17,
    "start_time": "2024-05-19T21:54:57.445Z"
   },
   {
    "duration": 30,
    "start_time": "2024-05-19T21:55:02.536Z"
   },
   {
    "duration": 13,
    "start_time": "2024-05-19T21:55:06.905Z"
   },
   {
    "duration": 17,
    "start_time": "2024-05-19T21:55:09.718Z"
   },
   {
    "duration": 14,
    "start_time": "2024-05-19T21:55:15.819Z"
   },
   {
    "duration": 19,
    "start_time": "2024-05-19T21:55:19.931Z"
   },
   {
    "duration": 1440,
    "start_time": "2024-05-19T21:58:57.053Z"
   },
   {
    "duration": 67,
    "start_time": "2024-05-19T21:58:58.495Z"
   },
   {
    "duration": 13,
    "start_time": "2024-05-19T21:58:58.564Z"
   },
   {
    "duration": 1515,
    "start_time": "2024-05-19T21:58:58.579Z"
   },
   {
    "duration": 5,
    "start_time": "2024-05-19T21:59:00.095Z"
   },
   {
    "duration": 62,
    "start_time": "2024-05-19T21:59:00.101Z"
   },
   {
    "duration": 79,
    "start_time": "2024-05-19T21:59:00.165Z"
   },
   {
    "duration": 57,
    "start_time": "2024-05-19T21:59:00.245Z"
   },
   {
    "duration": 216,
    "start_time": "2024-05-19T21:59:00.304Z"
   },
   {
    "duration": 60,
    "start_time": "2024-05-19T21:59:00.524Z"
   },
   {
    "duration": 69,
    "start_time": "2024-05-19T21:59:00.586Z"
   },
   {
    "duration": 58,
    "start_time": "2024-05-19T21:59:00.657Z"
   },
   {
    "duration": 567,
    "start_time": "2024-05-19T21:59:00.716Z"
   },
   {
    "duration": 401,
    "start_time": "2024-05-19T21:59:01.285Z"
   },
   {
    "duration": 2,
    "start_time": "2024-05-19T21:59:01.688Z"
   },
   {
    "duration": 8598,
    "start_time": "2024-05-19T21:59:01.692Z"
   },
   {
    "duration": 178,
    "start_time": "2024-05-19T21:59:10.292Z"
   },
   {
    "duration": 27,
    "start_time": "2024-05-19T21:59:10.472Z"
   },
   {
    "duration": 7,
    "start_time": "2024-05-19T21:59:10.501Z"
   },
   {
    "duration": 132,
    "start_time": "2024-05-19T21:59:10.510Z"
   },
   {
    "duration": 13,
    "start_time": "2024-05-19T21:59:10.644Z"
   },
   {
    "duration": 55,
    "start_time": "2024-05-19T21:59:10.658Z"
   },
   {
    "duration": 545,
    "start_time": "2024-05-19T21:59:10.779Z"
   },
   {
    "duration": 13752,
    "start_time": "2024-05-19T21:59:11.325Z"
   },
   {
    "duration": 111,
    "start_time": "2024-05-19T21:59:25.080Z"
   },
   {
    "duration": 115,
    "start_time": "2024-05-19T21:59:25.192Z"
   },
   {
    "duration": 136,
    "start_time": "2024-05-19T21:59:25.309Z"
   },
   {
    "duration": 15,
    "start_time": "2024-05-19T21:59:25.450Z"
   },
   {
    "duration": 673,
    "start_time": "2024-05-19T21:59:25.481Z"
   },
   {
    "duration": 183,
    "start_time": "2024-05-19T21:59:26.156Z"
   },
   {
    "duration": 6158,
    "start_time": "2024-05-19T21:59:26.341Z"
   },
   {
    "duration": 38,
    "start_time": "2024-05-19T21:59:32.500Z"
   },
   {
    "duration": 1580,
    "start_time": "2024-05-19T21:59:32.540Z"
   },
   {
    "duration": 351,
    "start_time": "2024-05-19T21:59:34.122Z"
   },
   {
    "duration": 10062,
    "start_time": "2024-05-19T21:59:34.475Z"
   },
   {
    "duration": 64,
    "start_time": "2024-05-19T21:59:44.539Z"
   },
   {
    "duration": 61,
    "start_time": "2024-05-19T21:59:44.604Z"
   },
   {
    "duration": 17,
    "start_time": "2024-05-19T21:59:44.667Z"
   },
   {
    "duration": 56,
    "start_time": "2024-05-19T22:12:02.345Z"
   },
   {
    "duration": 129,
    "start_time": "2024-05-19T22:12:06.478Z"
   },
   {
    "duration": 165,
    "start_time": "2024-05-19T22:12:56.621Z"
   },
   {
    "duration": 50,
    "start_time": "2024-05-19T22:13:05.818Z"
   },
   {
    "duration": 120,
    "start_time": "2024-05-19T22:13:10.349Z"
   },
   {
    "duration": 1469,
    "start_time": "2024-05-19T22:13:22.652Z"
   },
   {
    "duration": 64,
    "start_time": "2024-05-19T22:13:24.122Z"
   },
   {
    "duration": 11,
    "start_time": "2024-05-19T22:13:24.188Z"
   },
   {
    "duration": 1482,
    "start_time": "2024-05-19T22:13:24.201Z"
   },
   {
    "duration": 4,
    "start_time": "2024-05-19T22:13:25.684Z"
   },
   {
    "duration": 49,
    "start_time": "2024-05-19T22:13:25.689Z"
   },
   {
    "duration": 11,
    "start_time": "2024-05-19T22:13:25.740Z"
   },
   {
    "duration": 33,
    "start_time": "2024-05-19T22:13:25.752Z"
   },
   {
    "duration": 10,
    "start_time": "2024-05-19T22:13:25.786Z"
   },
   {
    "duration": 20,
    "start_time": "2024-05-19T22:13:25.798Z"
   },
   {
    "duration": 32,
    "start_time": "2024-05-19T22:13:25.820Z"
   },
   {
    "duration": 15,
    "start_time": "2024-05-19T22:13:25.854Z"
   },
   {
    "duration": 512,
    "start_time": "2024-05-19T22:13:25.870Z"
   },
   {
    "duration": 405,
    "start_time": "2024-05-19T22:13:26.385Z"
   },
   {
    "duration": 3,
    "start_time": "2024-05-19T22:13:26.792Z"
   },
   {
    "duration": 8505,
    "start_time": "2024-05-19T22:13:26.796Z"
   },
   {
    "duration": 190,
    "start_time": "2024-05-19T22:13:35.302Z"
   },
   {
    "duration": 19,
    "start_time": "2024-05-19T22:13:35.493Z"
   },
   {
    "duration": 19,
    "start_time": "2024-05-19T22:13:35.514Z"
   },
   {
    "duration": 114,
    "start_time": "2024-05-19T22:13:35.535Z"
   },
   {
    "duration": 13,
    "start_time": "2024-05-19T22:13:35.650Z"
   },
   {
    "duration": 117,
    "start_time": "2024-05-19T22:13:35.665Z"
   },
   {
    "duration": 474,
    "start_time": "2024-05-19T22:13:35.783Z"
   },
   {
    "duration": 13240,
    "start_time": "2024-05-19T22:13:36.259Z"
   },
   {
    "duration": 113,
    "start_time": "2024-05-19T22:13:49.500Z"
   },
   {
    "duration": 114,
    "start_time": "2024-05-19T22:13:49.614Z"
   },
   {
    "duration": 145,
    "start_time": "2024-05-19T22:13:49.730Z"
   },
   {
    "duration": 20,
    "start_time": "2024-05-19T22:13:49.888Z"
   },
   {
    "duration": 738,
    "start_time": "2024-05-19T22:13:49.911Z"
   },
   {
    "duration": 180,
    "start_time": "2024-05-19T22:13:50.650Z"
   },
   {
    "duration": 5990,
    "start_time": "2024-05-19T22:13:50.831Z"
   },
   {
    "duration": 35,
    "start_time": "2024-05-19T22:13:56.822Z"
   },
   {
    "duration": 1176,
    "start_time": "2024-05-19T22:13:56.858Z"
   },
   {
    "duration": 318,
    "start_time": "2024-05-19T22:13:58.036Z"
   },
   {
    "duration": 10190,
    "start_time": "2024-05-19T22:13:58.356Z"
   },
   {
    "duration": 73,
    "start_time": "2024-05-19T22:14:08.547Z"
   },
   {
    "duration": 61,
    "start_time": "2024-05-19T22:14:08.622Z"
   },
   {
    "duration": 7,
    "start_time": "2024-05-19T22:14:08.685Z"
   },
   {
    "duration": 1438,
    "start_time": "2024-05-29T18:23:47.443Z"
   },
   {
    "duration": 193,
    "start_time": "2024-05-29T18:23:48.882Z"
   },
   {
    "duration": 11,
    "start_time": "2024-05-29T18:23:49.076Z"
   },
   {
    "duration": 1488,
    "start_time": "2024-05-29T18:23:49.089Z"
   },
   {
    "duration": 5,
    "start_time": "2024-05-29T18:23:50.579Z"
   },
   {
    "duration": 28,
    "start_time": "2024-05-29T18:23:50.586Z"
   },
   {
    "duration": 34,
    "start_time": "2024-05-29T18:23:50.615Z"
   },
   {
    "duration": 33,
    "start_time": "2024-05-29T18:23:50.650Z"
   },
   {
    "duration": 10,
    "start_time": "2024-05-29T18:23:50.685Z"
   },
   {
    "duration": 3,
    "start_time": "2024-05-29T18:23:50.699Z"
   },
   {
    "duration": 45,
    "start_time": "2024-05-29T18:23:50.703Z"
   },
   {
    "duration": 17,
    "start_time": "2024-05-29T18:23:50.750Z"
   },
   {
    "duration": 378,
    "start_time": "2024-05-29T18:23:50.769Z"
   },
   {
    "duration": 412,
    "start_time": "2024-05-29T18:23:51.150Z"
   },
   {
    "duration": 3,
    "start_time": "2024-05-29T18:23:51.563Z"
   },
   {
    "duration": 8648,
    "start_time": "2024-05-29T18:23:51.568Z"
   },
   {
    "duration": 182,
    "start_time": "2024-05-29T18:24:00.218Z"
   },
   {
    "duration": 20,
    "start_time": "2024-05-29T18:24:00.402Z"
   },
   {
    "duration": 56,
    "start_time": "2024-05-29T18:24:00.423Z"
   },
   {
    "duration": 202,
    "start_time": "2024-05-29T18:24:00.481Z"
   },
   {
    "duration": 14,
    "start_time": "2024-05-29T18:24:00.685Z"
   },
   {
    "duration": 84,
    "start_time": "2024-05-29T18:24:00.700Z"
   },
   {
    "duration": 559,
    "start_time": "2024-05-29T18:24:00.786Z"
   },
   {
    "duration": 13426,
    "start_time": "2024-05-29T18:24:01.346Z"
   },
   {
    "duration": 112,
    "start_time": "2024-05-29T18:24:14.774Z"
   },
   {
    "duration": 117,
    "start_time": "2024-05-29T18:24:14.888Z"
   },
   {
    "duration": 140,
    "start_time": "2024-05-29T18:24:15.007Z"
   },
   {
    "duration": 13,
    "start_time": "2024-05-29T18:24:15.150Z"
   },
   {
    "duration": 636,
    "start_time": "2024-05-29T18:24:15.165Z"
   },
   {
    "duration": 185,
    "start_time": "2024-05-29T18:24:15.803Z"
   },
   {
    "duration": 5910,
    "start_time": "2024-05-29T18:24:15.989Z"
   },
   {
    "duration": 32,
    "start_time": "2024-05-29T18:24:21.901Z"
   },
   {
    "duration": 1160,
    "start_time": "2024-05-29T18:24:21.935Z"
   },
   {
    "duration": 306,
    "start_time": "2024-05-29T18:24:23.097Z"
   },
   {
    "duration": 9839,
    "start_time": "2024-05-29T18:24:23.405Z"
   },
   {
    "duration": 50,
    "start_time": "2024-05-29T18:24:33.246Z"
   },
   {
    "duration": 65,
    "start_time": "2024-05-29T18:24:33.298Z"
   },
   {
    "duration": 6,
    "start_time": "2024-05-29T18:24:33.364Z"
   },
   {
    "duration": 51,
    "start_time": "2024-05-29T18:24:33.372Z"
   },
   {
    "duration": 62,
    "start_time": "2024-05-29T18:24:33.426Z"
   }
  ],
  "kernelspec": {
   "display_name": "Python 3 (ipykernel)",
   "language": "python",
   "name": "python3"
  },
  "language_info": {
   "codemirror_mode": {
    "name": "ipython",
    "version": 3
   },
   "file_extension": ".py",
   "mimetype": "text/x-python",
   "name": "python",
   "nbconvert_exporter": "python",
   "pygments_lexer": "ipython3",
   "version": "3.9.5"
  },
  "toc": {
   "base_numbering": 1,
   "nav_menu": {},
   "number_sections": true,
   "sideBar": true,
   "skip_h1_title": true,
   "title_cell": "Содержание",
   "title_sidebar": "Contents",
   "toc_cell": true,
   "toc_position": {},
   "toc_section_display": true,
   "toc_window_display": false
  }
 },
 "nbformat": 4,
 "nbformat_minor": 2
}
