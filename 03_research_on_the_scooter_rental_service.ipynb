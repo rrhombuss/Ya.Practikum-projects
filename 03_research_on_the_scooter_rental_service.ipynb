{
 "cells": [
  {
   "cell_type": "markdown",
   "id": "7e61c000",
   "metadata": {},
   "source": [
    "## Определение перспективного тарифа для аренды самокатов\n",
    "Имеются данные из сервиса аренды самокатов GoFast о некоторых пользователях из нескольких городов, а также об их поездках. Нужно проанализировать данные и проверить некоторые гипотезы, которые могут помочь бизнесу вырасти.\n",
    "Чтобы совершать поездки по городу, пользователи сервиса GoFast пользуются мобильным приложением. Сервисом можно пользоваться:\n",
    "\n",
    "без подписки  \n",
    "абонентская плата отсутствует;  \n",
    "стоимость одной минуты поездки — 8 рублей;  \n",
    "стоимость старта (начала поездки) — 50 рублей;  \n",
    "\n",
    "с подпиской Ultra  \n",
    "абонентская плата — 199 рублей в месяц;  \n",
    "стоимость одной минуты поездки — 6 рублей;  \n",
    "стоимость старта — бесплатно.  "
   ]
  },
  {
   "cell_type": "code",
   "execution_count": 1,
   "id": "27d2e8e7",
   "metadata": {},
   "outputs": [],
   "source": [
    "import pandas as pd\n",
    "import seaborn as sns\n",
    "import matplotlib.pyplot as plt\n",
    "import numpy as np\n",
    "from scipy import stats as st\n",
    "from scipy.stats import binom, norm\n",
    "from math import sqrt"
   ]
  },
  {
   "cell_type": "markdown",
   "id": "b6e06fa2",
   "metadata": {},
   "source": [
    "#### Шаг 1. Загрузка данных"
   ]
  },
  {
   "cell_type": "code",
   "execution_count": 2,
   "id": "bbea742c",
   "metadata": {},
   "outputs": [
    {
     "name": "stdout",
     "output_type": "stream",
     "text": [
      "таблица users:\n"
     ]
    },
    {
     "data": {
      "text/html": [
       "<div>\n",
       "<style scoped>\n",
       "    .dataframe tbody tr th:only-of-type {\n",
       "        vertical-align: middle;\n",
       "    }\n",
       "\n",
       "    .dataframe tbody tr th {\n",
       "        vertical-align: top;\n",
       "    }\n",
       "\n",
       "    .dataframe thead th {\n",
       "        text-align: right;\n",
       "    }\n",
       "</style>\n",
       "<table border=\"1\" class=\"dataframe\">\n",
       "  <thead>\n",
       "    <tr style=\"text-align: right;\">\n",
       "      <th></th>\n",
       "      <th>user_id</th>\n",
       "      <th>name</th>\n",
       "      <th>age</th>\n",
       "      <th>city</th>\n",
       "      <th>subscription_type</th>\n",
       "    </tr>\n",
       "  </thead>\n",
       "  <tbody>\n",
       "    <tr>\n",
       "      <th>0</th>\n",
       "      <td>1</td>\n",
       "      <td>Кира</td>\n",
       "      <td>22</td>\n",
       "      <td>Тюмень</td>\n",
       "      <td>ultra</td>\n",
       "    </tr>\n",
       "    <tr>\n",
       "      <th>1</th>\n",
       "      <td>2</td>\n",
       "      <td>Станислав</td>\n",
       "      <td>31</td>\n",
       "      <td>Омск</td>\n",
       "      <td>ultra</td>\n",
       "    </tr>\n",
       "    <tr>\n",
       "      <th>2</th>\n",
       "      <td>3</td>\n",
       "      <td>Алексей</td>\n",
       "      <td>20</td>\n",
       "      <td>Москва</td>\n",
       "      <td>ultra</td>\n",
       "    </tr>\n",
       "    <tr>\n",
       "      <th>3</th>\n",
       "      <td>4</td>\n",
       "      <td>Константин</td>\n",
       "      <td>26</td>\n",
       "      <td>Ростов-на-Дону</td>\n",
       "      <td>ultra</td>\n",
       "    </tr>\n",
       "    <tr>\n",
       "      <th>4</th>\n",
       "      <td>5</td>\n",
       "      <td>Адель</td>\n",
       "      <td>28</td>\n",
       "      <td>Омск</td>\n",
       "      <td>ultra</td>\n",
       "    </tr>\n",
       "  </tbody>\n",
       "</table>\n",
       "</div>"
      ],
      "text/plain": [
       "   user_id        name  age            city subscription_type\n",
       "0        1        Кира   22          Тюмень             ultra\n",
       "1        2   Станислав   31            Омск             ultra\n",
       "2        3     Алексей   20          Москва             ultra\n",
       "3        4  Константин   26  Ростов-на-Дону             ultra\n",
       "4        5       Адель   28            Омск             ultra"
      ]
     },
     "metadata": {},
     "output_type": "display_data"
    },
    {
     "name": "stdout",
     "output_type": "stream",
     "text": [
      "\n",
      " таблица rides:\n"
     ]
    },
    {
     "data": {
      "text/html": [
       "<div>\n",
       "<style scoped>\n",
       "    .dataframe tbody tr th:only-of-type {\n",
       "        vertical-align: middle;\n",
       "    }\n",
       "\n",
       "    .dataframe tbody tr th {\n",
       "        vertical-align: top;\n",
       "    }\n",
       "\n",
       "    .dataframe thead th {\n",
       "        text-align: right;\n",
       "    }\n",
       "</style>\n",
       "<table border=\"1\" class=\"dataframe\">\n",
       "  <thead>\n",
       "    <tr style=\"text-align: right;\">\n",
       "      <th></th>\n",
       "      <th>user_id</th>\n",
       "      <th>distance</th>\n",
       "      <th>duration</th>\n",
       "      <th>date</th>\n",
       "    </tr>\n",
       "  </thead>\n",
       "  <tbody>\n",
       "    <tr>\n",
       "      <th>0</th>\n",
       "      <td>1</td>\n",
       "      <td>4409.919140</td>\n",
       "      <td>25.599769</td>\n",
       "      <td>2021-01-01</td>\n",
       "    </tr>\n",
       "    <tr>\n",
       "      <th>1</th>\n",
       "      <td>1</td>\n",
       "      <td>2617.592153</td>\n",
       "      <td>15.816871</td>\n",
       "      <td>2021-01-18</td>\n",
       "    </tr>\n",
       "    <tr>\n",
       "      <th>2</th>\n",
       "      <td>1</td>\n",
       "      <td>754.159807</td>\n",
       "      <td>6.232113</td>\n",
       "      <td>2021-04-20</td>\n",
       "    </tr>\n",
       "    <tr>\n",
       "      <th>3</th>\n",
       "      <td>1</td>\n",
       "      <td>2694.783254</td>\n",
       "      <td>18.511000</td>\n",
       "      <td>2021-08-11</td>\n",
       "    </tr>\n",
       "    <tr>\n",
       "      <th>4</th>\n",
       "      <td>1</td>\n",
       "      <td>4028.687306</td>\n",
       "      <td>26.265803</td>\n",
       "      <td>2021-08-28</td>\n",
       "    </tr>\n",
       "  </tbody>\n",
       "</table>\n",
       "</div>"
      ],
      "text/plain": [
       "   user_id     distance   duration        date\n",
       "0        1  4409.919140  25.599769  2021-01-01\n",
       "1        1  2617.592153  15.816871  2021-01-18\n",
       "2        1   754.159807   6.232113  2021-04-20\n",
       "3        1  2694.783254  18.511000  2021-08-11\n",
       "4        1  4028.687306  26.265803  2021-08-28"
      ]
     },
     "metadata": {},
     "output_type": "display_data"
    },
    {
     "name": "stdout",
     "output_type": "stream",
     "text": [
      "\n",
      " таблица subscriptions\n"
     ]
    },
    {
     "data": {
      "text/html": [
       "<div>\n",
       "<style scoped>\n",
       "    .dataframe tbody tr th:only-of-type {\n",
       "        vertical-align: middle;\n",
       "    }\n",
       "\n",
       "    .dataframe tbody tr th {\n",
       "        vertical-align: top;\n",
       "    }\n",
       "\n",
       "    .dataframe thead th {\n",
       "        text-align: right;\n",
       "    }\n",
       "</style>\n",
       "<table border=\"1\" class=\"dataframe\">\n",
       "  <thead>\n",
       "    <tr style=\"text-align: right;\">\n",
       "      <th></th>\n",
       "      <th>subscription_type</th>\n",
       "      <th>minute_price</th>\n",
       "      <th>start_ride_price</th>\n",
       "      <th>subscription_fee</th>\n",
       "    </tr>\n",
       "  </thead>\n",
       "  <tbody>\n",
       "    <tr>\n",
       "      <th>0</th>\n",
       "      <td>free</td>\n",
       "      <td>8</td>\n",
       "      <td>50</td>\n",
       "      <td>0</td>\n",
       "    </tr>\n",
       "    <tr>\n",
       "      <th>1</th>\n",
       "      <td>ultra</td>\n",
       "      <td>6</td>\n",
       "      <td>0</td>\n",
       "      <td>199</td>\n",
       "    </tr>\n",
       "  </tbody>\n",
       "</table>\n",
       "</div>"
      ],
      "text/plain": [
       "  subscription_type  minute_price  start_ride_price  subscription_fee\n",
       "0              free             8                50                 0\n",
       "1             ultra             6                 0               199"
      ]
     },
     "metadata": {},
     "output_type": "display_data"
    },
    {
     "name": "stdout",
     "output_type": "stream",
     "text": [
      "\n",
      "\n",
      "<class 'pandas.core.frame.DataFrame'>\n",
      "RangeIndex: 1565 entries, 0 to 1564\n",
      "Data columns (total 5 columns):\n",
      " #   Column             Non-Null Count  Dtype \n",
      "---  ------             --------------  ----- \n",
      " 0   user_id            1565 non-null   int64 \n",
      " 1   name               1565 non-null   object\n",
      " 2   age                1565 non-null   int64 \n",
      " 3   city               1565 non-null   object\n",
      " 4   subscription_type  1565 non-null   object\n",
      "dtypes: int64(2), object(3)\n",
      "memory usage: 61.3+ KB\n",
      "инфо об users: \n",
      " None\n",
      "<class 'pandas.core.frame.DataFrame'>\n",
      "RangeIndex: 18068 entries, 0 to 18067\n",
      "Data columns (total 4 columns):\n",
      " #   Column    Non-Null Count  Dtype  \n",
      "---  ------    --------------  -----  \n",
      " 0   user_id   18068 non-null  int64  \n",
      " 1   distance  18068 non-null  float64\n",
      " 2   duration  18068 non-null  float64\n",
      " 3   date      18068 non-null  object \n",
      "dtypes: float64(2), int64(1), object(1)\n",
      "memory usage: 564.8+ KB\n",
      "инфо об rides: \n",
      " None\n",
      "<class 'pandas.core.frame.DataFrame'>\n",
      "RangeIndex: 2 entries, 0 to 1\n",
      "Data columns (total 4 columns):\n",
      " #   Column             Non-Null Count  Dtype \n",
      "---  ------             --------------  ----- \n",
      " 0   subscription_type  2 non-null      object\n",
      " 1   minute_price       2 non-null      int64 \n",
      " 2   start_ride_price   2 non-null      int64 \n",
      " 3   subscription_fee   2 non-null      int64 \n",
      "dtypes: int64(3), object(1)\n",
      "memory usage: 192.0+ bytes\n",
      "инфо об subscribers: \n",
      " None\n"
     ]
    }
   ],
   "source": [
    "users = pd.read_csv('/datasets/users_go.csv')\n",
    "rides = pd.read_csv('/datasets/rides_go.csv')\n",
    "subscriptions = pd.read_csv('/datasets/subscriptions_go.csv')\n",
    "print('таблица users:')\n",
    "display(users.head())\n",
    "print('\\n', 'таблица rides:')\n",
    "display(rides.head())\n",
    "print('\\n', 'таблица subscriptions')\n",
    "display(subscriptions)\n",
    "print('\\n')\n",
    "print('инфо об users:', '\\n', users.info())\n",
    "print('инфо об rides:', '\\n', rides.info())\n",
    "print('инфо об subscribers:', '\\n', subscriptions.info())"
   ]
  },
  {
   "cell_type": "markdown",
   "id": "a46147d9",
   "metadata": {},
   "source": [
    "По первичному знакомству с данными можно сказать, что в них нет пропусков в значениях, таблицы можно было бы обьеденить в одну\n",
    "\n",
    "столбцы проименованны корректно, кроме стоблца date типы данных верны"
   ]
  },
  {
   "cell_type": "markdown",
   "id": "5fbee20d",
   "metadata": {},
   "source": [
    "#### Шаг 2. Предобработка данных"
   ]
  },
  {
   "cell_type": "code",
   "execution_count": 3,
   "id": "e6cbe46e",
   "metadata": {},
   "outputs": [
    {
     "name": "stdout",
     "output_type": "stream",
     "text": [
      "<class 'pandas.core.frame.DataFrame'>\n",
      "RangeIndex: 18068 entries, 0 to 18067\n",
      "Data columns (total 4 columns):\n",
      " #   Column    Non-Null Count  Dtype         \n",
      "---  ------    --------------  -----         \n",
      " 0   user_id   18068 non-null  int64         \n",
      " 1   distance  18068 non-null  float64       \n",
      " 2   duration  18068 non-null  float64       \n",
      " 3   date      18068 non-null  datetime64[ns]\n",
      "dtypes: datetime64[ns](1), float64(2), int64(1)\n",
      "memory usage: 564.8 KB\n"
     ]
    }
   ],
   "source": [
    "rides['date'] = pd.to_datetime(rides['date'])\n",
    "rides.info()"
   ]
  },
  {
   "cell_type": "code",
   "execution_count": 4,
   "id": "768fc24d",
   "metadata": {},
   "outputs": [
    {
     "data": {
      "text/html": [
       "<div>\n",
       "<style scoped>\n",
       "    .dataframe tbody tr th:only-of-type {\n",
       "        vertical-align: middle;\n",
       "    }\n",
       "\n",
       "    .dataframe tbody tr th {\n",
       "        vertical-align: top;\n",
       "    }\n",
       "\n",
       "    .dataframe thead th {\n",
       "        text-align: right;\n",
       "    }\n",
       "</style>\n",
       "<table border=\"1\" class=\"dataframe\">\n",
       "  <thead>\n",
       "    <tr style=\"text-align: right;\">\n",
       "      <th></th>\n",
       "      <th>user_id</th>\n",
       "      <th>distance</th>\n",
       "      <th>duration</th>\n",
       "      <th>date</th>\n",
       "      <th>month</th>\n",
       "    </tr>\n",
       "  </thead>\n",
       "  <tbody>\n",
       "    <tr>\n",
       "      <th>0</th>\n",
       "      <td>1</td>\n",
       "      <td>4409.919140</td>\n",
       "      <td>25.599769</td>\n",
       "      <td>2021-01-01</td>\n",
       "      <td>1</td>\n",
       "    </tr>\n",
       "    <tr>\n",
       "      <th>1</th>\n",
       "      <td>1</td>\n",
       "      <td>2617.592153</td>\n",
       "      <td>15.816871</td>\n",
       "      <td>2021-01-18</td>\n",
       "      <td>1</td>\n",
       "    </tr>\n",
       "    <tr>\n",
       "      <th>2</th>\n",
       "      <td>1</td>\n",
       "      <td>754.159807</td>\n",
       "      <td>6.232113</td>\n",
       "      <td>2021-04-20</td>\n",
       "      <td>4</td>\n",
       "    </tr>\n",
       "    <tr>\n",
       "      <th>3</th>\n",
       "      <td>1</td>\n",
       "      <td>2694.783254</td>\n",
       "      <td>18.511000</td>\n",
       "      <td>2021-08-11</td>\n",
       "      <td>8</td>\n",
       "    </tr>\n",
       "    <tr>\n",
       "      <th>4</th>\n",
       "      <td>1</td>\n",
       "      <td>4028.687306</td>\n",
       "      <td>26.265803</td>\n",
       "      <td>2021-08-28</td>\n",
       "      <td>8</td>\n",
       "    </tr>\n",
       "  </tbody>\n",
       "</table>\n",
       "</div>"
      ],
      "text/plain": [
       "   user_id     distance   duration       date  month\n",
       "0        1  4409.919140  25.599769 2021-01-01      1\n",
       "1        1  2617.592153  15.816871 2021-01-18      1\n",
       "2        1   754.159807   6.232113 2021-04-20      4\n",
       "3        1  2694.783254  18.511000 2021-08-11      8\n",
       "4        1  4028.687306  26.265803 2021-08-28      8"
      ]
     },
     "metadata": {},
     "output_type": "display_data"
    },
    {
     "name": "stdout",
     "output_type": "stream",
     "text": [
      "Данные имеются в периоде с: 2021-01-01 00:00:00 по: 2021-12-30 00:00:00\n"
     ]
    }
   ],
   "source": [
    "rides['month'] = pd.DatetimeIndex(rides['date']).month\n",
    "display(rides.head())\n",
    "print('Данные имеются в периоде с:', rides['date'].min(), 'по:', rides['date'].max())"
   ]
  },
  {
   "cell_type": "code",
   "execution_count": 5,
   "id": "cb56cbe2",
   "metadata": {},
   "outputs": [
    {
     "name": "stdout",
     "output_type": "stream",
     "text": [
      "31\n",
      "0\n",
      "['Тюмень' 'Омск' 'Москва' 'Ростов-на-Дону' 'Краснодар' 'Пятигорск'\n",
      " 'Екатеринбург' 'Сочи']\n"
     ]
    },
    {
     "data": {
      "text/plain": [
       "0"
      ]
     },
     "execution_count": 5,
     "metadata": {},
     "output_type": "execute_result"
    }
   ],
   "source": [
    "print(users.duplicated().sum())\n",
    "print(rides.duplicated().sum())\n",
    "print(users['city'].unique())\n",
    "users = users.drop_duplicates().reset_index()\n",
    "users.duplicated().sum()"
   ]
  },
  {
   "cell_type": "markdown",
   "id": "eb4cfd04",
   "metadata": {},
   "source": [
    "По итогам предобработке данных в таблице users столбец date был приведен к формату datetime, был добавлен столбец month с индексом месяца каждой поездки и были удалены явные дубликаты в таблице users, в остальных таблицах не было найдено"
   ]
  },
  {
   "cell_type": "markdown",
   "id": "d36cec7f",
   "metadata": {},
   "source": [
    "#### Шаг 3. Исследовательский анализ данных"
   ]
  },
  {
   "cell_type": "code",
   "execution_count": 6,
   "id": "e45a0373",
   "metadata": {
    "scrolled": true
   },
   "outputs": [],
   "source": [
    "cities = users['city'].value_counts()\n",
    "subscriptions_counts = users['subscription_type'].value_counts()\n",
    "ages = users['age'].value_counts()"
   ]
  },
  {
   "cell_type": "code",
   "execution_count": 7,
   "id": "e20bc1f9",
   "metadata": {},
   "outputs": [
    {
     "data": {
      "image/png": "[encoded data removed]",
      "text/plain": [
       "<Figure size 864x432 with 1 Axes>"
      ]
     },
     "metadata": {
      "needs_background": "light"
     },
     "output_type": "display_data"
    }
   ],
   "source": [
    "plt.figure(figsize=(12, 6))\n",
    "sns.barplot(y=cities.values, x=cities.index)\n",
    "# plt.axis('equal')\n",
    "plt.title('соотношение пользователей по городам')\n",
    "plt.show()"
   ]
  },
  {
   "cell_type": "markdown",
   "id": "46138fda",
   "metadata": {},
   "source": [
    "По данным графикам видно, что больше всего пользователей в Пятигорске, далее количество плавно спадает в порядке: Екатеринбург, Ростов-на-дону, Краснодар, Сочи, Омск, Тюмень, и меньше всего пользователей в Москве"
   ]
  },
  {
   "cell_type": "code",
   "execution_count": 8,
   "id": "cfeef8d9",
   "metadata": {},
   "outputs": [
    {
     "data": {
      "image/png": "[encoded data removed]",
      "text/plain": [
       "<Figure size 432x288 with 1 Axes>"
      ]
     },
     "metadata": {},
     "output_type": "display_data"
    }
   ],
   "source": [
    "def absolute_value(val):\n",
    "    a  = np.round(val/100.*subscriptions_counts.values.sum(), 0)\n",
    "    return a\n",
    "\n",
    "plt.pie(subscriptions_counts.values, labels=subscriptions_counts.index,\n",
    "        autopct=absolute_value)\n",
    "\n",
    "plt.axis('equal')\n",
    "plt.show()\n"
   ]
  },
  {
   "cell_type": "markdown",
   "id": "d86ff614",
   "metadata": {},
   "source": [
    "Пользователей без подписки 835 и без нее почти 700, разница в почти 5%"
   ]
  },
  {
   "cell_type": "code",
   "execution_count": 9,
   "id": "ce267fba",
   "metadata": {},
   "outputs": [
    {
     "data": {
      "image/png": "[encoded data removed]",
      "text/plain": [
       "<Figure size 864x432 with 1 Axes>"
      ]
     },
     "metadata": {
      "needs_background": "light"
     },
     "output_type": "display_data"
    }
   ],
   "source": [
    "plt.figure(figsize=(12, 6))\n",
    "sns.barplot(x=ages.index, y=ages.values)\n",
    "plt.xlabel('Возраст')\n",
    "plt.ylabel('Количество пользователей')\n",
    "plt.title('Пользователи по возрастам')\n",
    "plt.show()"
   ]
  },
  {
   "cell_type": "markdown",
   "id": "b0297338",
   "metadata": {},
   "source": [
    "График возраста пользователей напоминает нормальное распределение и больше всего пользователей в возрасте от 21 до 28, также стоит отметить что пользуются сервисом и несовершеннолетние"
   ]
  },
  {
   "cell_type": "code",
   "execution_count": 10,
   "id": "e3da892f",
   "metadata": {},
   "outputs": [
    {
     "data": {
      "image/png": "[encoded data removed]",
      "text/plain": [
       "<Figure size 864x432 with 1 Axes>"
      ]
     },
     "metadata": {
      "needs_background": "light"
     },
     "output_type": "display_data"
    }
   ],
   "source": [
    "plt.figure(figsize=(12, 6))\n",
    "rides['duration'].hist(bins=50)\n",
    "plt.xlabel('минуты')\n",
    "plt.ylabel('количество')\n",
    "plt.title('длительность в минутах')\n",
    "plt.show()"
   ]
  },
  {
   "cell_type": "markdown",
   "id": "a0e3a30d",
   "metadata": {},
   "source": [
    "График длительности поездки напоминает нормальное распределение и больше всего поездок от 12 до 22 минут, также стоит отметить выброс с 0.5 минутами, в этом случае вероятно случился же баг системы или какая то запланированная акция"
   ]
  },
  {
   "cell_type": "code",
   "execution_count": 11,
   "id": "d9dc46e4",
   "metadata": {},
   "outputs": [
    {
     "data": {
      "image/png": "[encoded data removed]",
      "text/plain": [
       "<Figure size 864x432 with 1 Axes>"
      ]
     },
     "metadata": {
      "needs_background": "light"
     },
     "output_type": "display_data"
    }
   ],
   "source": [
    "plt.figure(figsize=(12, 6))\n",
    "rides['distance'].hist(bins=50)\n",
    "plt.xlabel('метры')\n",
    "plt.ylabel('количество')\n",
    "plt.title('расстояние в метрах')\n",
    "plt.show()"
   ]
  },
  {
   "cell_type": "markdown",
   "id": "2c889b28",
   "metadata": {},
   "source": [
    "График расстояния поездки напоминает 2 нормальных распределения вместе, где первое значительно меньше, первый пик в районе 800м и второй в районе 3000м"
   ]
  },
  {
   "cell_type": "code",
   "execution_count": 12,
   "id": "0069936a",
   "metadata": {},
   "outputs": [
    {
     "data": {
      "text/html": [
       "<div>\n",
       "<style scoped>\n",
       "    .dataframe tbody tr th:only-of-type {\n",
       "        vertical-align: middle;\n",
       "    }\n",
       "\n",
       "    .dataframe tbody tr th {\n",
       "        vertical-align: top;\n",
       "    }\n",
       "\n",
       "    .dataframe thead th {\n",
       "        text-align: right;\n",
       "    }\n",
       "</style>\n",
       "<table border=\"1\" class=\"dataframe\">\n",
       "  <thead>\n",
       "    <tr style=\"text-align: right;\">\n",
       "      <th></th>\n",
       "      <th>user_id</th>\n",
       "      <th>distance</th>\n",
       "      <th>duration</th>\n",
       "      <th>date</th>\n",
       "      <th>month</th>\n",
       "    </tr>\n",
       "  </thead>\n",
       "  <tbody>\n",
       "    <tr>\n",
       "      <th>6531</th>\n",
       "      <td>701</td>\n",
       "      <td>4196.445201</td>\n",
       "      <td>0.5</td>\n",
       "      <td>2021-08-31</td>\n",
       "      <td>8</td>\n",
       "    </tr>\n",
       "    <tr>\n",
       "      <th>6570</th>\n",
       "      <td>704</td>\n",
       "      <td>4830.824371</td>\n",
       "      <td>0.5</td>\n",
       "      <td>2021-10-14</td>\n",
       "      <td>10</td>\n",
       "    </tr>\n",
       "    <tr>\n",
       "      <th>6680</th>\n",
       "      <td>712</td>\n",
       "      <td>4684.004397</td>\n",
       "      <td>0.5</td>\n",
       "      <td>2021-03-04</td>\n",
       "      <td>3</td>\n",
       "    </tr>\n",
       "    <tr>\n",
       "      <th>6695</th>\n",
       "      <td>713</td>\n",
       "      <td>5215.642710</td>\n",
       "      <td>0.5</td>\n",
       "      <td>2021-02-25</td>\n",
       "      <td>2</td>\n",
       "    </tr>\n",
       "    <tr>\n",
       "      <th>6768</th>\n",
       "      <td>718</td>\n",
       "      <td>5197.436649</td>\n",
       "      <td>0.5</td>\n",
       "      <td>2021-02-11</td>\n",
       "      <td>2</td>\n",
       "    </tr>\n",
       "  </tbody>\n",
       "</table>\n",
       "</div>"
      ],
      "text/plain": [
       "      user_id     distance  duration       date  month\n",
       "6531      701  4196.445201       0.5 2021-08-31      8\n",
       "6570      704  4830.824371       0.5 2021-10-14     10\n",
       "6680      712  4684.004397       0.5 2021-03-04      3\n",
       "6695      713  5215.642710       0.5 2021-02-25      2\n",
       "6768      718  5197.436649       0.5 2021-02-11      2"
      ]
     },
     "execution_count": 12,
     "metadata": {},
     "output_type": "execute_result"
    }
   ],
   "source": [
    "rides.query('duration < 1').head()"
   ]
  },
  {
   "cell_type": "markdown",
   "id": "f5090ac6",
   "metadata": {},
   "source": [
    "Вероятно два пика на графике дистанций поездок обусловлены тем, что самокаты берут на либо на короткие расстояния (от метро до дома или работы) или на длинные просто чтобы покататься для удовольствия, либо на расстоянии от 1000м до 2000м выгоднее воспользоваться общественным транспортом"
   ]
  },
  {
   "cell_type": "markdown",
   "id": "80495dab",
   "metadata": {},
   "source": [
    "#### Шаг 4. Объединение данных"
   ]
  },
  {
   "cell_type": "code",
   "execution_count": 14,
   "id": "70cb1a7d",
   "metadata": {},
   "outputs": [
    {
     "data": {
      "text/html": [
       "<div>\n",
       "<style scoped>\n",
       "    .dataframe tbody tr th:only-of-type {\n",
       "        vertical-align: middle;\n",
       "    }\n",
       "\n",
       "    .dataframe tbody tr th {\n",
       "        vertical-align: top;\n",
       "    }\n",
       "\n",
       "    .dataframe thead th {\n",
       "        text-align: right;\n",
       "    }\n",
       "</style>\n",
       "<table border=\"1\" class=\"dataframe\">\n",
       "  <thead>\n",
       "    <tr style=\"text-align: right;\">\n",
       "      <th></th>\n",
       "      <th>index</th>\n",
       "      <th>user_id</th>\n",
       "      <th>name</th>\n",
       "      <th>age</th>\n",
       "      <th>city</th>\n",
       "      <th>subscription_type</th>\n",
       "      <th>distance</th>\n",
       "      <th>duration</th>\n",
       "      <th>date</th>\n",
       "      <th>month</th>\n",
       "      <th>minute_price</th>\n",
       "      <th>start_ride_price</th>\n",
       "      <th>subscription_fee</th>\n",
       "    </tr>\n",
       "  </thead>\n",
       "  <tbody>\n",
       "    <tr>\n",
       "      <th>0</th>\n",
       "      <td>0</td>\n",
       "      <td>1</td>\n",
       "      <td>Кира</td>\n",
       "      <td>22</td>\n",
       "      <td>Тюмень</td>\n",
       "      <td>ultra</td>\n",
       "      <td>4409.919140</td>\n",
       "      <td>25.599769</td>\n",
       "      <td>2021-01-01</td>\n",
       "      <td>1</td>\n",
       "      <td>6</td>\n",
       "      <td>0</td>\n",
       "      <td>199</td>\n",
       "    </tr>\n",
       "    <tr>\n",
       "      <th>1</th>\n",
       "      <td>0</td>\n",
       "      <td>1</td>\n",
       "      <td>Кира</td>\n",
       "      <td>22</td>\n",
       "      <td>Тюмень</td>\n",
       "      <td>ultra</td>\n",
       "      <td>2617.592153</td>\n",
       "      <td>15.816871</td>\n",
       "      <td>2021-01-18</td>\n",
       "      <td>1</td>\n",
       "      <td>6</td>\n",
       "      <td>0</td>\n",
       "      <td>199</td>\n",
       "    </tr>\n",
       "    <tr>\n",
       "      <th>2</th>\n",
       "      <td>0</td>\n",
       "      <td>1</td>\n",
       "      <td>Кира</td>\n",
       "      <td>22</td>\n",
       "      <td>Тюмень</td>\n",
       "      <td>ultra</td>\n",
       "      <td>754.159807</td>\n",
       "      <td>6.232113</td>\n",
       "      <td>2021-04-20</td>\n",
       "      <td>4</td>\n",
       "      <td>6</td>\n",
       "      <td>0</td>\n",
       "      <td>199</td>\n",
       "    </tr>\n",
       "    <tr>\n",
       "      <th>3</th>\n",
       "      <td>0</td>\n",
       "      <td>1</td>\n",
       "      <td>Кира</td>\n",
       "      <td>22</td>\n",
       "      <td>Тюмень</td>\n",
       "      <td>ultra</td>\n",
       "      <td>2694.783254</td>\n",
       "      <td>18.511000</td>\n",
       "      <td>2021-08-11</td>\n",
       "      <td>8</td>\n",
       "      <td>6</td>\n",
       "      <td>0</td>\n",
       "      <td>199</td>\n",
       "    </tr>\n",
       "    <tr>\n",
       "      <th>4</th>\n",
       "      <td>0</td>\n",
       "      <td>1</td>\n",
       "      <td>Кира</td>\n",
       "      <td>22</td>\n",
       "      <td>Тюмень</td>\n",
       "      <td>ultra</td>\n",
       "      <td>4028.687306</td>\n",
       "      <td>26.265803</td>\n",
       "      <td>2021-08-28</td>\n",
       "      <td>8</td>\n",
       "      <td>6</td>\n",
       "      <td>0</td>\n",
       "      <td>199</td>\n",
       "    </tr>\n",
       "  </tbody>\n",
       "</table>\n",
       "</div>"
      ],
      "text/plain": [
       "   index  user_id  name  age    city subscription_type     distance  \\\n",
       "0      0        1  Кира   22  Тюмень             ultra  4409.919140   \n",
       "1      0        1  Кира   22  Тюмень             ultra  2617.592153   \n",
       "2      0        1  Кира   22  Тюмень             ultra   754.159807   \n",
       "3      0        1  Кира   22  Тюмень             ultra  2694.783254   \n",
       "4      0        1  Кира   22  Тюмень             ultra  4028.687306   \n",
       "\n",
       "    duration       date  month  minute_price  start_ride_price  \\\n",
       "0  25.599769 2021-01-01      1             6                 0   \n",
       "1  15.816871 2021-01-18      1             6                 0   \n",
       "2   6.232113 2021-04-20      4             6                 0   \n",
       "3  18.511000 2021-08-11      8             6                 0   \n",
       "4  26.265803 2021-08-28      8             6                 0   \n",
       "\n",
       "   subscription_fee  \n",
       "0               199  \n",
       "1               199  \n",
       "2               199  \n",
       "3               199  \n",
       "4               199  "
      ]
     },
     "execution_count": 14,
     "metadata": {},
     "output_type": "execute_result"
    }
   ],
   "source": [
    "data = users.merge(rides, on='user_id')\n",
    "data = data.merge(subscriptions, on='subscription_type')\n",
    "data.head()"
   ]
  },
  {
   "cell_type": "code",
   "execution_count": 15,
   "id": "471619cb",
   "metadata": {},
   "outputs": [
    {
     "data": {
      "text/html": [
       "<div>\n",
       "<style scoped>\n",
       "    .dataframe tbody tr th:only-of-type {\n",
       "        vertical-align: middle;\n",
       "    }\n",
       "\n",
       "    .dataframe tbody tr th {\n",
       "        vertical-align: top;\n",
       "    }\n",
       "\n",
       "    .dataframe thead th {\n",
       "        text-align: right;\n",
       "    }\n",
       "</style>\n",
       "<table border=\"1\" class=\"dataframe\">\n",
       "  <thead>\n",
       "    <tr style=\"text-align: right;\">\n",
       "      <th></th>\n",
       "      <th>index</th>\n",
       "      <th>user_id</th>\n",
       "      <th>name</th>\n",
       "      <th>age</th>\n",
       "      <th>city</th>\n",
       "      <th>subscription_type</th>\n",
       "      <th>distance</th>\n",
       "      <th>duration</th>\n",
       "      <th>date</th>\n",
       "      <th>month</th>\n",
       "      <th>minute_price</th>\n",
       "      <th>start_ride_price</th>\n",
       "      <th>subscription_fee</th>\n",
       "    </tr>\n",
       "  </thead>\n",
       "  <tbody>\n",
       "    <tr>\n",
       "      <th>6500</th>\n",
       "      <td>699</td>\n",
       "      <td>700</td>\n",
       "      <td>Айдар</td>\n",
       "      <td>22</td>\n",
       "      <td>Омск</td>\n",
       "      <td>free</td>\n",
       "      <td>2515.690719</td>\n",
       "      <td>14.944286</td>\n",
       "      <td>2021-01-02</td>\n",
       "      <td>1</td>\n",
       "      <td>8</td>\n",
       "      <td>50</td>\n",
       "      <td>0</td>\n",
       "    </tr>\n",
       "    <tr>\n",
       "      <th>6501</th>\n",
       "      <td>699</td>\n",
       "      <td>700</td>\n",
       "      <td>Айдар</td>\n",
       "      <td>22</td>\n",
       "      <td>Омск</td>\n",
       "      <td>free</td>\n",
       "      <td>846.932642</td>\n",
       "      <td>16.234663</td>\n",
       "      <td>2021-02-01</td>\n",
       "      <td>2</td>\n",
       "      <td>8</td>\n",
       "      <td>50</td>\n",
       "      <td>0</td>\n",
       "    </tr>\n",
       "    <tr>\n",
       "      <th>6502</th>\n",
       "      <td>699</td>\n",
       "      <td>700</td>\n",
       "      <td>Айдар</td>\n",
       "      <td>22</td>\n",
       "      <td>Омск</td>\n",
       "      <td>free</td>\n",
       "      <td>4004.434142</td>\n",
       "      <td>20.016628</td>\n",
       "      <td>2021-02-04</td>\n",
       "      <td>2</td>\n",
       "      <td>8</td>\n",
       "      <td>50</td>\n",
       "      <td>0</td>\n",
       "    </tr>\n",
       "    <tr>\n",
       "      <th>6503</th>\n",
       "      <td>699</td>\n",
       "      <td>700</td>\n",
       "      <td>Айдар</td>\n",
       "      <td>22</td>\n",
       "      <td>Омск</td>\n",
       "      <td>free</td>\n",
       "      <td>1205.911290</td>\n",
       "      <td>9.782872</td>\n",
       "      <td>2021-02-10</td>\n",
       "      <td>2</td>\n",
       "      <td>8</td>\n",
       "      <td>50</td>\n",
       "      <td>0</td>\n",
       "    </tr>\n",
       "    <tr>\n",
       "      <th>6504</th>\n",
       "      <td>699</td>\n",
       "      <td>700</td>\n",
       "      <td>Айдар</td>\n",
       "      <td>22</td>\n",
       "      <td>Омск</td>\n",
       "      <td>free</td>\n",
       "      <td>3047.379435</td>\n",
       "      <td>17.427673</td>\n",
       "      <td>2021-02-14</td>\n",
       "      <td>2</td>\n",
       "      <td>8</td>\n",
       "      <td>50</td>\n",
       "      <td>0</td>\n",
       "    </tr>\n",
       "  </tbody>\n",
       "</table>\n",
       "</div>"
      ],
      "text/plain": [
       "      index  user_id   name  age  city subscription_type     distance  \\\n",
       "6500    699      700  Айдар   22  Омск              free  2515.690719   \n",
       "6501    699      700  Айдар   22  Омск              free   846.932642   \n",
       "6502    699      700  Айдар   22  Омск              free  4004.434142   \n",
       "6503    699      700  Айдар   22  Омск              free  1205.911290   \n",
       "6504    699      700  Айдар   22  Омск              free  3047.379435   \n",
       "\n",
       "       duration       date  month  minute_price  start_ride_price  \\\n",
       "6500  14.944286 2021-01-02      1             8                50   \n",
       "6501  16.234663 2021-02-01      2             8                50   \n",
       "6502  20.016628 2021-02-04      2             8                50   \n",
       "6503   9.782872 2021-02-10      2             8                50   \n",
       "6504  17.427673 2021-02-14      2             8                50   \n",
       "\n",
       "      subscription_fee  \n",
       "6500                 0  \n",
       "6501                 0  \n",
       "6502                 0  \n",
       "6503                 0  \n",
       "6504                 0  "
      ]
     },
     "metadata": {},
     "output_type": "display_data"
    },
    {
     "data": {
      "text/html": [
       "<div>\n",
       "<style scoped>\n",
       "    .dataframe tbody tr th:only-of-type {\n",
       "        vertical-align: middle;\n",
       "    }\n",
       "\n",
       "    .dataframe tbody tr th {\n",
       "        vertical-align: top;\n",
       "    }\n",
       "\n",
       "    .dataframe thead th {\n",
       "        text-align: right;\n",
       "    }\n",
       "</style>\n",
       "<table border=\"1\" class=\"dataframe\">\n",
       "  <thead>\n",
       "    <tr style=\"text-align: right;\">\n",
       "      <th></th>\n",
       "      <th>index</th>\n",
       "      <th>user_id</th>\n",
       "      <th>name</th>\n",
       "      <th>age</th>\n",
       "      <th>city</th>\n",
       "      <th>subscription_type</th>\n",
       "      <th>distance</th>\n",
       "      <th>duration</th>\n",
       "      <th>date</th>\n",
       "      <th>month</th>\n",
       "      <th>minute_price</th>\n",
       "      <th>start_ride_price</th>\n",
       "      <th>subscription_fee</th>\n",
       "    </tr>\n",
       "  </thead>\n",
       "  <tbody>\n",
       "    <tr>\n",
       "      <th>0</th>\n",
       "      <td>0</td>\n",
       "      <td>1</td>\n",
       "      <td>Кира</td>\n",
       "      <td>22</td>\n",
       "      <td>Тюмень</td>\n",
       "      <td>ultra</td>\n",
       "      <td>4409.919140</td>\n",
       "      <td>25.599769</td>\n",
       "      <td>2021-01-01</td>\n",
       "      <td>1</td>\n",
       "      <td>6</td>\n",
       "      <td>0</td>\n",
       "      <td>199</td>\n",
       "    </tr>\n",
       "    <tr>\n",
       "      <th>1</th>\n",
       "      <td>0</td>\n",
       "      <td>1</td>\n",
       "      <td>Кира</td>\n",
       "      <td>22</td>\n",
       "      <td>Тюмень</td>\n",
       "      <td>ultra</td>\n",
       "      <td>2617.592153</td>\n",
       "      <td>15.816871</td>\n",
       "      <td>2021-01-18</td>\n",
       "      <td>1</td>\n",
       "      <td>6</td>\n",
       "      <td>0</td>\n",
       "      <td>199</td>\n",
       "    </tr>\n",
       "    <tr>\n",
       "      <th>2</th>\n",
       "      <td>0</td>\n",
       "      <td>1</td>\n",
       "      <td>Кира</td>\n",
       "      <td>22</td>\n",
       "      <td>Тюмень</td>\n",
       "      <td>ultra</td>\n",
       "      <td>754.159807</td>\n",
       "      <td>6.232113</td>\n",
       "      <td>2021-04-20</td>\n",
       "      <td>4</td>\n",
       "      <td>6</td>\n",
       "      <td>0</td>\n",
       "      <td>199</td>\n",
       "    </tr>\n",
       "    <tr>\n",
       "      <th>3</th>\n",
       "      <td>0</td>\n",
       "      <td>1</td>\n",
       "      <td>Кира</td>\n",
       "      <td>22</td>\n",
       "      <td>Тюмень</td>\n",
       "      <td>ultra</td>\n",
       "      <td>2694.783254</td>\n",
       "      <td>18.511000</td>\n",
       "      <td>2021-08-11</td>\n",
       "      <td>8</td>\n",
       "      <td>6</td>\n",
       "      <td>0</td>\n",
       "      <td>199</td>\n",
       "    </tr>\n",
       "    <tr>\n",
       "      <th>4</th>\n",
       "      <td>0</td>\n",
       "      <td>1</td>\n",
       "      <td>Кира</td>\n",
       "      <td>22</td>\n",
       "      <td>Тюмень</td>\n",
       "      <td>ultra</td>\n",
       "      <td>4028.687306</td>\n",
       "      <td>26.265803</td>\n",
       "      <td>2021-08-28</td>\n",
       "      <td>8</td>\n",
       "      <td>6</td>\n",
       "      <td>0</td>\n",
       "      <td>199</td>\n",
       "    </tr>\n",
       "  </tbody>\n",
       "</table>\n",
       "</div>"
      ],
      "text/plain": [
       "   index  user_id  name  age    city subscription_type     distance  \\\n",
       "0      0        1  Кира   22  Тюмень             ultra  4409.919140   \n",
       "1      0        1  Кира   22  Тюмень             ultra  2617.592153   \n",
       "2      0        1  Кира   22  Тюмень             ultra   754.159807   \n",
       "3      0        1  Кира   22  Тюмень             ultra  2694.783254   \n",
       "4      0        1  Кира   22  Тюмень             ultra  4028.687306   \n",
       "\n",
       "    duration       date  month  minute_price  start_ride_price  \\\n",
       "0  25.599769 2021-01-01      1             6                 0   \n",
       "1  15.816871 2021-01-18      1             6                 0   \n",
       "2   6.232113 2021-04-20      4             6                 0   \n",
       "3  18.511000 2021-08-11      8             6                 0   \n",
       "4  26.265803 2021-08-28      8             6                 0   \n",
       "\n",
       "   subscription_fee  \n",
       "0               199  \n",
       "1               199  \n",
       "2               199  \n",
       "3               199  \n",
       "4               199  "
      ]
     },
     "metadata": {},
     "output_type": "display_data"
    }
   ],
   "source": [
    "yes_subscribers = data[data['subscription_type'] == 'ultra']\n",
    "non_subscribers = data[data['subscription_type'] == 'free']\n",
    "display(non_subscribers.head())\n",
    "display(yes_subscribers.head())"
   ]
  },
  {
   "cell_type": "code",
   "execution_count": 16,
   "id": "03ce8424",
   "metadata": {
    "scrolled": false
   },
   "outputs": [
    {
     "data": {
      "image/png": "[encoded data removed]",
      "text/plain": [
       "<Figure size 720x432 with 1 Axes>"
      ]
     },
     "metadata": {
      "needs_background": "light"
     },
     "output_type": "display_data"
    }
   ],
   "source": [
    "plt.figure(figsize=(10, 6))\n",
    "plt.hist(yes_subscribers['duration'], color='blue', alpha=0.5, label='ultra', bins=50)\n",
    "plt.hist(non_subscribers['duration'], color='red', alpha=0.5, label='free', bins=50)\n",
    "\n",
    "plt.xlabel('Время')\n",
    "plt.ylabel('Частота')\n",
    "plt.title('Время поездки пользователей С и БЕЗ подписки')\n",
    "plt.legend()\n",
    "\n",
    "plt.show()"
   ]
  },
  {
   "cell_type": "markdown",
   "id": "4899739d",
   "metadata": {},
   "source": [
    "По графику как будто бы можно сказать что клиенты с подпиской в прицнипе меньше катаются, как будто бы непропорционально меньше, чем 5%, но характер распределения то же"
   ]
  },
  {
   "cell_type": "code",
   "execution_count": 17,
   "id": "4e70f981",
   "metadata": {},
   "outputs": [
    {
     "data": {
      "image/png": "[encoded data removed]",
      "text/plain": [
       "<Figure size 720x432 with 1 Axes>"
      ]
     },
     "metadata": {
      "needs_background": "light"
     },
     "output_type": "display_data"
    }
   ],
   "source": [
    "plt.figure(figsize=(10, 6))\n",
    "plt.hist(yes_subscribers['distance'], color='blue', alpha=0.5, label='ultra', bins=50)\n",
    "plt.hist(non_subscribers['distance'], color='red', alpha=0.5, label='free', bins=50)\n",
    "\n",
    "plt.xlabel('Дистанция')\n",
    "plt.ylabel('Частота')\n",
    "plt.title('Дистанция поездки пользователей С и БЕЗ подписки')\n",
    "plt.legend()\n",
    "\n",
    "plt.show()"
   ]
  },
  {
   "cell_type": "markdown",
   "id": "909096a5",
   "metadata": {},
   "source": [
    "По графику видно, что по первому пику без подписки чаще берут на меньшую дистанцию, чем пользователи с подпиской  \n",
    "А по второму пику видно, что дисперсия пользователей с подпиской сильно меньше, чем без нее, но пик в том же месте"
   ]
  },
  {
   "cell_type": "markdown",
   "id": "d25f3d6c",
   "metadata": {},
   "source": [
    "Заметно, что графики С и БЕЗ подписок похожи, однако похоже что стандартное отклонение у пользователей без подписки немного выше"
   ]
  },
  {
   "cell_type": "markdown",
   "id": "f161cfbe",
   "metadata": {},
   "source": [
    "#### Шаг 5. Подсчёт выручки"
   ]
  },
  {
   "cell_type": "code",
   "execution_count": 18,
   "id": "200945c6",
   "metadata": {},
   "outputs": [
    {
     "data": {
      "text/html": [
       "<div>\n",
       "<style scoped>\n",
       "    .dataframe tbody tr th:only-of-type {\n",
       "        vertical-align: middle;\n",
       "    }\n",
       "\n",
       "    .dataframe tbody tr th {\n",
       "        vertical-align: top;\n",
       "    }\n",
       "\n",
       "    .dataframe thead th {\n",
       "        text-align: right;\n",
       "    }\n",
       "</style>\n",
       "<table border=\"1\" class=\"dataframe\">\n",
       "  <thead>\n",
       "    <tr style=\"text-align: right;\">\n",
       "      <th></th>\n",
       "      <th>index</th>\n",
       "      <th>user_id</th>\n",
       "      <th>name</th>\n",
       "      <th>age</th>\n",
       "      <th>city</th>\n",
       "      <th>subscription_type</th>\n",
       "      <th>distance</th>\n",
       "      <th>duration</th>\n",
       "      <th>date</th>\n",
       "      <th>month</th>\n",
       "      <th>minute_price</th>\n",
       "      <th>start_ride_price</th>\n",
       "      <th>subscription_fee</th>\n",
       "    </tr>\n",
       "  </thead>\n",
       "  <tbody>\n",
       "    <tr>\n",
       "      <th>0</th>\n",
       "      <td>0</td>\n",
       "      <td>1</td>\n",
       "      <td>Кира</td>\n",
       "      <td>22</td>\n",
       "      <td>Тюмень</td>\n",
       "      <td>ultra</td>\n",
       "      <td>4409.919140</td>\n",
       "      <td>26.0</td>\n",
       "      <td>2021-01-01</td>\n",
       "      <td>1</td>\n",
       "      <td>6</td>\n",
       "      <td>0</td>\n",
       "      <td>199</td>\n",
       "    </tr>\n",
       "    <tr>\n",
       "      <th>1</th>\n",
       "      <td>0</td>\n",
       "      <td>1</td>\n",
       "      <td>Кира</td>\n",
       "      <td>22</td>\n",
       "      <td>Тюмень</td>\n",
       "      <td>ultra</td>\n",
       "      <td>2617.592153</td>\n",
       "      <td>16.0</td>\n",
       "      <td>2021-01-18</td>\n",
       "      <td>1</td>\n",
       "      <td>6</td>\n",
       "      <td>0</td>\n",
       "      <td>199</td>\n",
       "    </tr>\n",
       "    <tr>\n",
       "      <th>2</th>\n",
       "      <td>0</td>\n",
       "      <td>1</td>\n",
       "      <td>Кира</td>\n",
       "      <td>22</td>\n",
       "      <td>Тюмень</td>\n",
       "      <td>ultra</td>\n",
       "      <td>754.159807</td>\n",
       "      <td>7.0</td>\n",
       "      <td>2021-04-20</td>\n",
       "      <td>4</td>\n",
       "      <td>6</td>\n",
       "      <td>0</td>\n",
       "      <td>199</td>\n",
       "    </tr>\n",
       "    <tr>\n",
       "      <th>3</th>\n",
       "      <td>0</td>\n",
       "      <td>1</td>\n",
       "      <td>Кира</td>\n",
       "      <td>22</td>\n",
       "      <td>Тюмень</td>\n",
       "      <td>ultra</td>\n",
       "      <td>2694.783254</td>\n",
       "      <td>19.0</td>\n",
       "      <td>2021-08-11</td>\n",
       "      <td>8</td>\n",
       "      <td>6</td>\n",
       "      <td>0</td>\n",
       "      <td>199</td>\n",
       "    </tr>\n",
       "    <tr>\n",
       "      <th>4</th>\n",
       "      <td>0</td>\n",
       "      <td>1</td>\n",
       "      <td>Кира</td>\n",
       "      <td>22</td>\n",
       "      <td>Тюмень</td>\n",
       "      <td>ultra</td>\n",
       "      <td>4028.687306</td>\n",
       "      <td>27.0</td>\n",
       "      <td>2021-08-28</td>\n",
       "      <td>8</td>\n",
       "      <td>6</td>\n",
       "      <td>0</td>\n",
       "      <td>199</td>\n",
       "    </tr>\n",
       "    <tr>\n",
       "      <th>...</th>\n",
       "      <td>...</td>\n",
       "      <td>...</td>\n",
       "      <td>...</td>\n",
       "      <td>...</td>\n",
       "      <td>...</td>\n",
       "      <td>...</td>\n",
       "      <td>...</td>\n",
       "      <td>...</td>\n",
       "      <td>...</td>\n",
       "      <td>...</td>\n",
       "      <td>...</td>\n",
       "      <td>...</td>\n",
       "      <td>...</td>\n",
       "    </tr>\n",
       "    <tr>\n",
       "      <th>18063</th>\n",
       "      <td>1533</td>\n",
       "      <td>1534</td>\n",
       "      <td>Альберт</td>\n",
       "      <td>25</td>\n",
       "      <td>Краснодар</td>\n",
       "      <td>free</td>\n",
       "      <td>3781.098080</td>\n",
       "      <td>20.0</td>\n",
       "      <td>2021-11-04</td>\n",
       "      <td>11</td>\n",
       "      <td>8</td>\n",
       "      <td>50</td>\n",
       "      <td>0</td>\n",
       "    </tr>\n",
       "    <tr>\n",
       "      <th>18064</th>\n",
       "      <td>1533</td>\n",
       "      <td>1534</td>\n",
       "      <td>Альберт</td>\n",
       "      <td>25</td>\n",
       "      <td>Краснодар</td>\n",
       "      <td>free</td>\n",
       "      <td>2840.423057</td>\n",
       "      <td>22.0</td>\n",
       "      <td>2021-11-16</td>\n",
       "      <td>11</td>\n",
       "      <td>8</td>\n",
       "      <td>50</td>\n",
       "      <td>0</td>\n",
       "    </tr>\n",
       "    <tr>\n",
       "      <th>18065</th>\n",
       "      <td>1533</td>\n",
       "      <td>1534</td>\n",
       "      <td>Альберт</td>\n",
       "      <td>25</td>\n",
       "      <td>Краснодар</td>\n",
       "      <td>free</td>\n",
       "      <td>3826.185507</td>\n",
       "      <td>19.0</td>\n",
       "      <td>2021-11-18</td>\n",
       "      <td>11</td>\n",
       "      <td>8</td>\n",
       "      <td>50</td>\n",
       "      <td>0</td>\n",
       "    </tr>\n",
       "    <tr>\n",
       "      <th>18066</th>\n",
       "      <td>1533</td>\n",
       "      <td>1534</td>\n",
       "      <td>Альберт</td>\n",
       "      <td>25</td>\n",
       "      <td>Краснодар</td>\n",
       "      <td>free</td>\n",
       "      <td>2902.308661</td>\n",
       "      <td>17.0</td>\n",
       "      <td>2021-11-27</td>\n",
       "      <td>11</td>\n",
       "      <td>8</td>\n",
       "      <td>50</td>\n",
       "      <td>0</td>\n",
       "    </tr>\n",
       "    <tr>\n",
       "      <th>18067</th>\n",
       "      <td>1533</td>\n",
       "      <td>1534</td>\n",
       "      <td>Альберт</td>\n",
       "      <td>25</td>\n",
       "      <td>Краснодар</td>\n",
       "      <td>free</td>\n",
       "      <td>2371.711192</td>\n",
       "      <td>16.0</td>\n",
       "      <td>2021-12-29</td>\n",
       "      <td>12</td>\n",
       "      <td>8</td>\n",
       "      <td>50</td>\n",
       "      <td>0</td>\n",
       "    </tr>\n",
       "  </tbody>\n",
       "</table>\n",
       "<p>18068 rows × 13 columns</p>\n",
       "</div>"
      ],
      "text/plain": [
       "       index  user_id     name  age       city subscription_type     distance  \\\n",
       "0          0        1     Кира   22     Тюмень             ultra  4409.919140   \n",
       "1          0        1     Кира   22     Тюмень             ultra  2617.592153   \n",
       "2          0        1     Кира   22     Тюмень             ultra   754.159807   \n",
       "3          0        1     Кира   22     Тюмень             ultra  2694.783254   \n",
       "4          0        1     Кира   22     Тюмень             ultra  4028.687306   \n",
       "...      ...      ...      ...  ...        ...               ...          ...   \n",
       "18063   1533     1534  Альберт   25  Краснодар              free  3781.098080   \n",
       "18064   1533     1534  Альберт   25  Краснодар              free  2840.423057   \n",
       "18065   1533     1534  Альберт   25  Краснодар              free  3826.185507   \n",
       "18066   1533     1534  Альберт   25  Краснодар              free  2902.308661   \n",
       "18067   1533     1534  Альберт   25  Краснодар              free  2371.711192   \n",
       "\n",
       "       duration       date  month  minute_price  start_ride_price  \\\n",
       "0          26.0 2021-01-01      1             6                 0   \n",
       "1          16.0 2021-01-18      1             6                 0   \n",
       "2           7.0 2021-04-20      4             6                 0   \n",
       "3          19.0 2021-08-11      8             6                 0   \n",
       "4          27.0 2021-08-28      8             6                 0   \n",
       "...         ...        ...    ...           ...               ...   \n",
       "18063      20.0 2021-11-04     11             8                50   \n",
       "18064      22.0 2021-11-16     11             8                50   \n",
       "18065      19.0 2021-11-18     11             8                50   \n",
       "18066      17.0 2021-11-27     11             8                50   \n",
       "18067      16.0 2021-12-29     12             8                50   \n",
       "\n",
       "       subscription_fee  \n",
       "0                   199  \n",
       "1                   199  \n",
       "2                   199  \n",
       "3                   199  \n",
       "4                   199  \n",
       "...                 ...  \n",
       "18063                 0  \n",
       "18064                 0  \n",
       "18065                 0  \n",
       "18066                 0  \n",
       "18067                 0  \n",
       "\n",
       "[18068 rows x 13 columns]"
      ]
     },
     "execution_count": 18,
     "metadata": {},
     "output_type": "execute_result"
    }
   ],
   "source": [
    "data['duration'] = np.ceil(data['duration'])\n",
    "data"
   ]
  },
  {
   "cell_type": "code",
   "execution_count": 19,
   "id": "1b49df7b",
   "metadata": {},
   "outputs": [
    {
     "data": {
      "text/html": [
       "<div>\n",
       "<style scoped>\n",
       "    .dataframe tbody tr th:only-of-type {\n",
       "        vertical-align: middle;\n",
       "    }\n",
       "\n",
       "    .dataframe tbody tr th {\n",
       "        vertical-align: top;\n",
       "    }\n",
       "\n",
       "    .dataframe thead th {\n",
       "        text-align: right;\n",
       "    }\n",
       "</style>\n",
       "<table border=\"1\" class=\"dataframe\">\n",
       "  <thead>\n",
       "    <tr style=\"text-align: right;\">\n",
       "      <th></th>\n",
       "      <th>index</th>\n",
       "      <th>user_id</th>\n",
       "      <th>name</th>\n",
       "      <th>age</th>\n",
       "      <th>city</th>\n",
       "      <th>subscription_type</th>\n",
       "      <th>distance</th>\n",
       "      <th>duration</th>\n",
       "      <th>date</th>\n",
       "      <th>month</th>\n",
       "      <th>minute_price</th>\n",
       "      <th>start_ride_price</th>\n",
       "      <th>subscription_fee</th>\n",
       "      <th>revenue_per_ride</th>\n",
       "      <th>revenue_per_ride2</th>\n",
       "    </tr>\n",
       "  </thead>\n",
       "  <tbody>\n",
       "    <tr>\n",
       "      <th>0</th>\n",
       "      <td>0</td>\n",
       "      <td>1</td>\n",
       "      <td>Кира</td>\n",
       "      <td>22</td>\n",
       "      <td>Тюмень</td>\n",
       "      <td>ultra</td>\n",
       "      <td>4409.919140</td>\n",
       "      <td>26.0</td>\n",
       "      <td>2021-01-01</td>\n",
       "      <td>1</td>\n",
       "      <td>6</td>\n",
       "      <td>0</td>\n",
       "      <td>199</td>\n",
       "      <td>NaN</td>\n",
       "      <td>156.0</td>\n",
       "    </tr>\n",
       "    <tr>\n",
       "      <th>1</th>\n",
       "      <td>0</td>\n",
       "      <td>1</td>\n",
       "      <td>Кира</td>\n",
       "      <td>22</td>\n",
       "      <td>Тюмень</td>\n",
       "      <td>ultra</td>\n",
       "      <td>2617.592153</td>\n",
       "      <td>16.0</td>\n",
       "      <td>2021-01-18</td>\n",
       "      <td>1</td>\n",
       "      <td>6</td>\n",
       "      <td>0</td>\n",
       "      <td>199</td>\n",
       "      <td>NaN</td>\n",
       "      <td>96.0</td>\n",
       "    </tr>\n",
       "    <tr>\n",
       "      <th>2</th>\n",
       "      <td>0</td>\n",
       "      <td>1</td>\n",
       "      <td>Кира</td>\n",
       "      <td>22</td>\n",
       "      <td>Тюмень</td>\n",
       "      <td>ultra</td>\n",
       "      <td>754.159807</td>\n",
       "      <td>7.0</td>\n",
       "      <td>2021-04-20</td>\n",
       "      <td>4</td>\n",
       "      <td>6</td>\n",
       "      <td>0</td>\n",
       "      <td>199</td>\n",
       "      <td>NaN</td>\n",
       "      <td>42.0</td>\n",
       "    </tr>\n",
       "    <tr>\n",
       "      <th>3</th>\n",
       "      <td>0</td>\n",
       "      <td>1</td>\n",
       "      <td>Кира</td>\n",
       "      <td>22</td>\n",
       "      <td>Тюмень</td>\n",
       "      <td>ultra</td>\n",
       "      <td>2694.783254</td>\n",
       "      <td>19.0</td>\n",
       "      <td>2021-08-11</td>\n",
       "      <td>8</td>\n",
       "      <td>6</td>\n",
       "      <td>0</td>\n",
       "      <td>199</td>\n",
       "      <td>NaN</td>\n",
       "      <td>114.0</td>\n",
       "    </tr>\n",
       "    <tr>\n",
       "      <th>4</th>\n",
       "      <td>0</td>\n",
       "      <td>1</td>\n",
       "      <td>Кира</td>\n",
       "      <td>22</td>\n",
       "      <td>Тюмень</td>\n",
       "      <td>ultra</td>\n",
       "      <td>4028.687306</td>\n",
       "      <td>27.0</td>\n",
       "      <td>2021-08-28</td>\n",
       "      <td>8</td>\n",
       "      <td>6</td>\n",
       "      <td>0</td>\n",
       "      <td>199</td>\n",
       "      <td>NaN</td>\n",
       "      <td>162.0</td>\n",
       "    </tr>\n",
       "    <tr>\n",
       "      <th>...</th>\n",
       "      <td>...</td>\n",
       "      <td>...</td>\n",
       "      <td>...</td>\n",
       "      <td>...</td>\n",
       "      <td>...</td>\n",
       "      <td>...</td>\n",
       "      <td>...</td>\n",
       "      <td>...</td>\n",
       "      <td>...</td>\n",
       "      <td>...</td>\n",
       "      <td>...</td>\n",
       "      <td>...</td>\n",
       "      <td>...</td>\n",
       "      <td>...</td>\n",
       "      <td>...</td>\n",
       "    </tr>\n",
       "    <tr>\n",
       "      <th>18063</th>\n",
       "      <td>1533</td>\n",
       "      <td>1534</td>\n",
       "      <td>Альберт</td>\n",
       "      <td>25</td>\n",
       "      <td>Краснодар</td>\n",
       "      <td>free</td>\n",
       "      <td>3781.098080</td>\n",
       "      <td>20.0</td>\n",
       "      <td>2021-11-04</td>\n",
       "      <td>11</td>\n",
       "      <td>8</td>\n",
       "      <td>50</td>\n",
       "      <td>0</td>\n",
       "      <td>210.0</td>\n",
       "      <td>NaN</td>\n",
       "    </tr>\n",
       "    <tr>\n",
       "      <th>18064</th>\n",
       "      <td>1533</td>\n",
       "      <td>1534</td>\n",
       "      <td>Альберт</td>\n",
       "      <td>25</td>\n",
       "      <td>Краснодар</td>\n",
       "      <td>free</td>\n",
       "      <td>2840.423057</td>\n",
       "      <td>22.0</td>\n",
       "      <td>2021-11-16</td>\n",
       "      <td>11</td>\n",
       "      <td>8</td>\n",
       "      <td>50</td>\n",
       "      <td>0</td>\n",
       "      <td>226.0</td>\n",
       "      <td>NaN</td>\n",
       "    </tr>\n",
       "    <tr>\n",
       "      <th>18065</th>\n",
       "      <td>1533</td>\n",
       "      <td>1534</td>\n",
       "      <td>Альберт</td>\n",
       "      <td>25</td>\n",
       "      <td>Краснодар</td>\n",
       "      <td>free</td>\n",
       "      <td>3826.185507</td>\n",
       "      <td>19.0</td>\n",
       "      <td>2021-11-18</td>\n",
       "      <td>11</td>\n",
       "      <td>8</td>\n",
       "      <td>50</td>\n",
       "      <td>0</td>\n",
       "      <td>202.0</td>\n",
       "      <td>NaN</td>\n",
       "    </tr>\n",
       "    <tr>\n",
       "      <th>18066</th>\n",
       "      <td>1533</td>\n",
       "      <td>1534</td>\n",
       "      <td>Альберт</td>\n",
       "      <td>25</td>\n",
       "      <td>Краснодар</td>\n",
       "      <td>free</td>\n",
       "      <td>2902.308661</td>\n",
       "      <td>17.0</td>\n",
       "      <td>2021-11-27</td>\n",
       "      <td>11</td>\n",
       "      <td>8</td>\n",
       "      <td>50</td>\n",
       "      <td>0</td>\n",
       "      <td>186.0</td>\n",
       "      <td>NaN</td>\n",
       "    </tr>\n",
       "    <tr>\n",
       "      <th>18067</th>\n",
       "      <td>1533</td>\n",
       "      <td>1534</td>\n",
       "      <td>Альберт</td>\n",
       "      <td>25</td>\n",
       "      <td>Краснодар</td>\n",
       "      <td>free</td>\n",
       "      <td>2371.711192</td>\n",
       "      <td>16.0</td>\n",
       "      <td>2021-12-29</td>\n",
       "      <td>12</td>\n",
       "      <td>8</td>\n",
       "      <td>50</td>\n",
       "      <td>0</td>\n",
       "      <td>178.0</td>\n",
       "      <td>NaN</td>\n",
       "    </tr>\n",
       "  </tbody>\n",
       "</table>\n",
       "<p>18068 rows × 15 columns</p>\n",
       "</div>"
      ],
      "text/plain": [
       "       index  user_id     name  age       city subscription_type     distance  \\\n",
       "0          0        1     Кира   22     Тюмень             ultra  4409.919140   \n",
       "1          0        1     Кира   22     Тюмень             ultra  2617.592153   \n",
       "2          0        1     Кира   22     Тюмень             ultra   754.159807   \n",
       "3          0        1     Кира   22     Тюмень             ultra  2694.783254   \n",
       "4          0        1     Кира   22     Тюмень             ultra  4028.687306   \n",
       "...      ...      ...      ...  ...        ...               ...          ...   \n",
       "18063   1533     1534  Альберт   25  Краснодар              free  3781.098080   \n",
       "18064   1533     1534  Альберт   25  Краснодар              free  2840.423057   \n",
       "18065   1533     1534  Альберт   25  Краснодар              free  3826.185507   \n",
       "18066   1533     1534  Альберт   25  Краснодар              free  2902.308661   \n",
       "18067   1533     1534  Альберт   25  Краснодар              free  2371.711192   \n",
       "\n",
       "       duration       date  month  minute_price  start_ride_price  \\\n",
       "0          26.0 2021-01-01      1             6                 0   \n",
       "1          16.0 2021-01-18      1             6                 0   \n",
       "2           7.0 2021-04-20      4             6                 0   \n",
       "3          19.0 2021-08-11      8             6                 0   \n",
       "4          27.0 2021-08-28      8             6                 0   \n",
       "...         ...        ...    ...           ...               ...   \n",
       "18063      20.0 2021-11-04     11             8                50   \n",
       "18064      22.0 2021-11-16     11             8                50   \n",
       "18065      19.0 2021-11-18     11             8                50   \n",
       "18066      17.0 2021-11-27     11             8                50   \n",
       "18067      16.0 2021-12-29     12             8                50   \n",
       "\n",
       "       subscription_fee  revenue_per_ride  revenue_per_ride2  \n",
       "0                   199               NaN              156.0  \n",
       "1                   199               NaN               96.0  \n",
       "2                   199               NaN               42.0  \n",
       "3                   199               NaN              114.0  \n",
       "4                   199               NaN              162.0  \n",
       "...                 ...               ...                ...  \n",
       "18063                 0             210.0                NaN  \n",
       "18064                 0             226.0                NaN  \n",
       "18065                 0             202.0                NaN  \n",
       "18066                 0             186.0                NaN  \n",
       "18067                 0             178.0                NaN  \n",
       "\n",
       "[18068 rows x 15 columns]"
      ]
     },
     "execution_count": 19,
     "metadata": {},
     "output_type": "execute_result"
    }
   ],
   "source": [
    "data['revenue_per_ride'] = data.query('subscription_type == \"free\"')['duration'] \\\n",
    "* data.query('subscription_type == \"free\"')['minute_price'] + data.query('subscription_type == \"free\"')['start_ride_price']\n",
    "\n",
    "summered_data = data.groupby(['user_id', 'month', 'subscription_type']).agg(\n",
    "    revenue=('revenue_per_ride', 'sum'),\n",
    "    duration=('duration', 'sum'),\n",
    "    count=('duration', 'count')\n",
    ").reset_index()\n",
    "\n",
    "\n",
    "\n",
    "data.loc[data['subscription_type'] == 'ultra', 'revenue_per_ride2'] = data['duration'] * data['minute_price']\n",
    "summered_data.loc[summered_data['subscription_type'] == 'ultra', 'revenue'] = data.query('subscription_type == \"ultra\"')['subscription_fee'] +  summered_data.query('subscription_type == \"ultra\"')['duration'] * data.query('subscription_type == \"ultra\"')['minute_price']\n",
    "\n",
    "data\n",
    "\n",
    "\n",
    "\n",
    "summered_data\n",
    "data"
   ]
  },
  {
   "cell_type": "markdown",
   "id": "2fa0de00",
   "metadata": {},
   "source": [
    "#### Шаг 6. Проверка гипотез"
   ]
  },
  {
   "cell_type": "markdown",
   "id": "d7b4db68",
   "metadata": {},
   "source": [
    "\n",
    "Важно понять, тратят ли пользователи с подпиской больше времени на поездки? Если да, то пользователи с подпиской могут быть «выгоднее» для компании. Проверьте гипотезу. Используйте исходные данные о продолжительности каждой сессии — отдельно для подписчиков и тех, у кого нет подписки.\n",
    "\n",
    "Нулевая гипотеза: пользователи с подпиской и без тратят одинаковое время на поездки   \n",
    "Альтернативная гипотеза: пользователи с подпиской тратят больше времени на поездки  "
   ]
  },
  {
   "cell_type": "code",
   "execution_count": 21,
   "id": "e8577ad8",
   "metadata": {},
   "outputs": [
    {
     "name": "stdout",
     "output_type": "stream",
     "text": [
      "pvalue: 1.2804098316645618e-34\n",
      "отвергаем нулевую гипотезу\n",
      "\n",
      "active subscribers mean duration: 18.54198516280583 \n",
      "non subscribers mean duration: 17.39090929866399\n"
     ]
    }
   ],
   "source": [
    "alpha = 0.05\n",
    "results = st.ttest_ind(yes_subscribers['duration'], non_subscribers['duration'], alternative='greater')\n",
    "print('pvalue:', results.pvalue)\n",
    "if results.pvalue < alpha:\n",
    "    print('отвергаем нулевую гипотезу')\n",
    "else:\n",
    "    print('НЕ отвергаем нулевую гипотезу')\n",
    "    \n",
    "print(\n",
    "    '\\n'\n",
    "    'active subscribers mean duration:', yes_subscribers['duration'].mean(), '\\n'\n",
    "    'non subscribers mean duration:', non_subscribers['duration'].mean(),\n",
    "    \n",
    ")"
   ]
  },
  {
   "cell_type": "markdown",
   "id": "d2ac593d",
   "metadata": {},
   "source": [
    "По итогу проверки гипотезы можно сказать, что пользователи с подпиской в среднем тратят больше времени на поездки"
   ]
  },
  {
   "cell_type": "markdown",
   "id": "1792db17",
   "metadata": {},
   "source": [
    "\n",
    "Расстояние одной поездки в 3130 метров — оптимальное с точки зрения износа самоката. Можно ли сказать, что среднее расстояние, которое проезжают пользователи с подпиской за одну поездку, не превышает 3130 метров? Проверьте гипотезу и сделайте выводы.\n",
    "\n",
    "Нулевая гипотеза: пользователи с подпиской проезжают за одну поездку 3130 метров    \n",
    "Альтернативная гипотеза: пользователи с подпиской проезжают за одну поезду больше 3130 метров"
   ]
  },
  {
   "cell_type": "code",
   "execution_count": 22,
   "id": "ea8935b2",
   "metadata": {},
   "outputs": [
    {
     "name": "stdout",
     "output_type": "stream",
     "text": [
      "pvalue: 0.9195368847849785\n",
      "НЕ отвергаем нулевую гипотезу\n"
     ]
    }
   ],
   "source": [
    "alpha = 0.05\n",
    "results = st.ttest_1samp(yes_subscribers['distance'], 3130, alternative='greater')\n",
    "print('pvalue:', results.pvalue)\n",
    "if results.pvalue < alpha:\n",
    "    print('отвергаем нулевую гипотезу')\n",
    "else:\n",
    "    print('НЕ отвергаем нулевую гипотезу')"
   ]
  },
  {
   "cell_type": "markdown",
   "id": "bb2b3bce",
   "metadata": {},
   "source": [
    "Можно сказать, что среднее расстояние, которое проезжают пользователи с подпиской за одну поездку не превышает 3130 метров"
   ]
  },
  {
   "cell_type": "markdown",
   "id": "9d77cff3",
   "metadata": {},
   "source": [
    "\n",
    "Проверьте гипотезу о том, будет ли помесячная выручка от пользователей с подпиской по месяцам выше, чем выручка от пользователей без подписки. Сделайте вывод.  \n",
    "\n",
    "Нулевая гипотеза: пользователи с подпиской приносят такую же выручку в месяц, что и без подписки\n",
    "Альтернативная гипотеза: пользователи с подпиской приносят больше выручки, нежели пользователи без подписки"
   ]
  },
  {
   "cell_type": "code",
   "execution_count": 23,
   "id": "4a8cd0be",
   "metadata": {},
   "outputs": [
    {
     "name": "stdout",
     "output_type": "stream",
     "text": [
      "pvalue: 1.8850394384715216e-31\n",
      "отвергаем нулевую гипотезу\n",
      "\n",
      "active subscribers mean revenue by month: 362.7921906022502 \n",
      "non subscribers mean revenue by month: 328.6413651073845\n"
     ]
    }
   ],
   "source": [
    "alpha = 0.05\n",
    "results = st.ttest_ind(\n",
    "    summered_data.query('subscription_type==\"ultra\"')['revenue'],\n",
    "    summered_data.query('subscription_type==\"free\"')['revenue'], alternative='greater'\n",
    ")\n",
    "print('pvalue:', results.pvalue)\n",
    "if results.pvalue < alpha:\n",
    "    print('отвергаем нулевую гипотезу')\n",
    "else:\n",
    "    print('НЕ отвергаем нулевую гипотезу')\n",
    "    \n",
    "    \n",
    "print(\n",
    "    '\\n'\n",
    "    'active subscribers mean revenue by month:', summered_data.query('subscription_type==\"ultra\"')['revenue'].mean(), '\\n'\n",
    "    'non subscribers mean revenue by month:', summered_data.query('subscription_type==\"free\"')['revenue'].mean(),\n",
    ")"
   ]
  },
  {
   "cell_type": "markdown",
   "id": "a9942272",
   "metadata": {},
   "source": [
    "Помесячная выручка от пользователей с подпиской выше, чем без"
   ]
  },
  {
   "cell_type": "markdown",
   "id": "5e4f0b08",
   "metadata": {},
   "source": [
    "\n",
    "Представьте такую ситуацию: техническая команда сервиса обновила сервера, с которыми взаимодействует мобильное приложение. Она надеется, что из-за этого количество обращений в техподдержку значимо снизилось. Некоторый файл содержит для каждого пользователя данные о количестве обращений до обновления и после него. Какой тест вам понадобился бы для проверки этой гипотезы?"
   ]
  },
  {
   "cell_type": "markdown",
   "id": "b17db5fb",
   "metadata": {},
   "source": [
    "в такой ситуации понадобится тест для зависимых выборок  \n",
    "для подсчета пригодится метод  \n",
    "`st.ttest_rel(data_before, data_after, alternative='greater')`"
   ]
  },
  {
   "cell_type": "markdown",
   "id": "731d3f03",
   "metadata": {},
   "source": [
    "#### Шаг 7. Распределения"
   ]
  },
  {
   "cell_type": "code",
   "execution_count": 24,
   "id": "185710a3",
   "metadata": {},
   "outputs": [
    {
     "data": {
      "image/png": "[encoded data removed]",
      "text/plain": [
       "<Figure size 432x288 with 1 Axes>"
      ]
     },
     "metadata": {
      "needs_background": "light"
     },
     "output_type": "display_data"
    },
    {
     "data": {
      "text/plain": [
       "0.04971489312694162"
      ]
     },
     "execution_count": 24,
     "metadata": {},
     "output_type": "execute_result"
    }
   ],
   "source": [
    "n = 1169\n",
    "p = 0.1\n",
    "mu = n*p\n",
    "sigma = sqrt((n*p*(1-p)))\n",
    "distr = st.norm(mu, sigma)\n",
    " \n",
    "# зададим функцию, которая выдаёт <num> чисел,\n",
    "# равномерно распределённых от <start> до <stop>\n",
    "# (понадобится для визуализации нормального распределения)\n",
    "def linspace(start, stop, num):\n",
    "    step = (stop - start) / (num - 1)\n",
    "    result = []\n",
    "    for i in range(num):\n",
    "        result.append(start + step * i)\n",
    "    return result\n",
    "\n",
    "# границы промежутка, в котором будем строить аппроксимацию -\n",
    "# от n*p минус 4 ст.отклонения бином.распределения\n",
    "# до n*p плюс 4 ст.отклонения бином.распределения\n",
    "# (там, где вероятности значений почти не равны нулю)\n",
    "left = int(n * p - 4 * sqrt(n * p * (1 - p)))\n",
    "right = int(n * p + 4 * sqrt(n * p * (1 - p)))\n",
    " \n",
    "# зададим набор значений биномиальной величины на выбранном промежутке:\n",
    "# все неотрицательные целые числа от left до right\n",
    "x = list(range(max(0, left), right))\n",
    "# рисуем график биномиального распределения\n",
    "ax = plt.subplot()\n",
    "\n",
    "# используем синие о-образные маркеры и размер маркера 5\n",
    "ax.plot(x, binom.pmf(x, n, p), 'bo', ms=5, label='вероятности биномиального распределения')\n",
    "\n",
    "# зададим мат.ожидание и ст.отклонение нормального распределения равными\n",
    "# мат.ожиданию и ст.отклонению биномиального распределения\n",
    " \n",
    "# рисуем график нормального распределения:\n",
    "# получим список из 100 чисел от left до right\n",
    "x = linspace(left, right, 100)\n",
    "# используем красную линию ширины 3 и прозрачности 0.3\n",
    "ax.plot(x, norm.pdf(x, mu, sigma), 'r-', lw=3, alpha=0.3, label='плотность вероятности нормального распределения')\n",
    " \n",
    "# зададим подписи по оси x в пределах ± 3 ст.отклонений от мат.ожидания\n",
    "# (последний аргумент в методе range - интервал между подписями)\n",
    "x_ticks = list(range(int(mu - 3 * sigma), int(mu + 3 * sigma), 10))\n",
    "ax.set_xticks(x_ticks)\n",
    "ax.legend(loc='best')\n",
    "plt.show()\n",
    "distr.cdf(100)"
   ]
  },
  {
   "cell_type": "markdown",
   "id": "8ed6e2b5",
   "metadata": {},
   "source": [
    "Чтобы шанс, что после подарочного месяца возобновило подписку меньше 100 людей, был 5% нужно раздать 1169 промокодов"
   ]
  },
  {
   "cell_type": "code",
   "execution_count": 26,
   "id": "63e46981",
   "metadata": {},
   "outputs": [
    {
     "data": {
      "image/png": "[encoded data removed]",
      "text/plain": [
       "<Figure size 432x288 with 1 Axes>"
      ]
     },
     "metadata": {
      "needs_background": "light"
     },
     "output_type": "display_data"
    },
    {
     "data": {
      "text/plain": [
       "0.15371708296369768"
      ]
     },
     "execution_count": 26,
     "metadata": {},
     "output_type": "execute_result"
    }
   ],
   "source": [
    "n = 1000000\n",
    "p = 0.4\n",
    "mu = n*p\n",
    "sigma = sqrt((n*p*(1-p)))\n",
    "distr = st.norm(mu, sigma)\n",
    "\n",
    " \n",
    "# зададим функцию, которая выдаёт <num> чисел,\n",
    "# равномерно распределённых от <start> до <stop>\n",
    "# (понадобится для визуализации нормального распределения)\n",
    "def linspace(start, stop, num):\n",
    "    step = (stop - start) / (num - 1)\n",
    "    result = []\n",
    "    for i in range(num):\n",
    "        result.append(start + step * i)\n",
    "    return result\n",
    "\n",
    "# границы промежутка, в котором будем строить аппроксимацию -\n",
    "# от n*p минус 4 ст.отклонения бином.распределения\n",
    "# до n*p плюс 4 ст.отклонения бином.распределения\n",
    "# (там, где вероятности значений почти не равны нулю)\n",
    "left = int(n * p - 4 * sqrt(n * p * (1 - p)))\n",
    "right = int(n * p + 4 * sqrt(n * p * (1 - p)))\n",
    " \n",
    "# зададим набор значений биномиальной величины на выбранном промежутке:\n",
    "# все неотрицательные целые числа от left до right\n",
    "x = list(range(max(0, left), right))\n",
    "# рисуем график биномиального распределения\n",
    "ax = plt.subplot()\n",
    "# используем синие о-образные маркеры и размер маркера 5\n",
    "ax.plot(x, binom.pmf(x, n, p), 'bo', ms=5, label='вероятности биномиального распределения')\n",
    "\n",
    "# зададим мат.ожидание и ст.отклонение нормального распределения равными\n",
    "# мат.ожиданию и ст.отклонению биномиального распределения\n",
    " \n",
    "# рисуем график нормального распределения:\n",
    "# получим список из 100 чисел от left до right\n",
    "x = linspace(left, right, 100)\n",
    "# используем красную линию ширины 3 и прозрачности 0.3\n",
    "ax.plot(x, norm.pdf(x, mu, sigma), 'r-', lw=3, alpha=0.3, label='плотность вероятности нормального распределения')\n",
    " \n",
    "# зададим подписи по оси x в пределах ± 3 ст.отклонений от мат.ожидания\n",
    "# (последний аргумент в методе range - интервал между подписями)\n",
    "\n",
    "\n",
    "# настраиваем оптимальное расположение легенды и выводим график\n",
    "ax.legend(loc='best')\n",
    "plt.show()\n",
    "distr.cdf(399500)"
   ]
  },
  {
   "cell_type": "markdown",
   "id": "70dcc32d",
   "metadata": {},
   "source": [
    "вероятность того, что уведомление откроют не более 399,5 тыс. пользователей примерно равна 15.37%"
   ]
  },
  {
   "cell_type": "markdown",
   "id": "8b33d4fa",
   "metadata": {},
   "source": [
    "### Общий вывод"
   ]
  },
  {
   "cell_type": "markdown",
   "id": "0d659718",
   "metadata": {},
   "source": [
    "**Краткий обзор проведенной работы.**  \n",
    "Были удалены дубликаты  \n",
    "Проведен анализ времени в поездке, расстоянии, количества пользователей, и возраста клиентов с и без подписки  \n",
    "Вычислена прибыл, которую принесла каждая поездка и был сделан анализ по прибыли для клиентов с и без подписки  \n",
    "Были проверены гипотезы относительно пользователей с и без подписки: кто больше приносит прибыли, больше тратит времени на поездки, и ездят ли пользователи с подпиской больше 3130м за проездку  \n",
    "\n",
    "\n",
    "**Главные выводы.**\n",
    "Пользователи с подпиской являются более выгодными для компании, они дольше ездят на самокатах, приносят больше прибыли, чем пользователи без подписок  \n",
    "Типичный пользователь это клиент от 21 до 28 лет  \n",
    "Типичная поездка от 12 до 22 минут  \n",
    "\n",
    "\n",
    "**Рекомендации.**\n",
    "Чтобы не было дубликатов и пропусков значений стоит проверить програмное обеспечение на наличие багов, и исправность работы геолокации"
   ]
  }
 ],
 "metadata": {
  "ExecuteTimeLog": [
   {
    "duration": 92,
    "start_time": "2024-04-03T07:09:53.322Z"
   },
   {
    "duration": 1367,
    "start_time": "2024-04-03T07:10:00.280Z"
   },
   {
    "duration": 335,
    "start_time": "2024-04-03T07:10:01.916Z"
   },
   {
    "duration": 131,
    "start_time": "2024-04-03T07:10:10.220Z"
   },
   {
    "duration": 72,
    "start_time": "2024-04-03T07:10:19.713Z"
   },
   {
    "duration": 69,
    "start_time": "2024-04-03T07:10:28.313Z"
   },
   {
    "duration": 69,
    "start_time": "2024-04-03T07:10:48.071Z"
   },
   {
    "duration": 72,
    "start_time": "2024-04-03T07:11:27.601Z"
   },
   {
    "duration": 67,
    "start_time": "2024-04-03T07:11:47.416Z"
   },
   {
    "duration": 67,
    "start_time": "2024-04-03T07:11:59.273Z"
   },
   {
    "duration": 69,
    "start_time": "2024-04-03T07:12:03.349Z"
   },
   {
    "duration": 68,
    "start_time": "2024-04-03T07:12:10.945Z"
   },
   {
    "duration": 66,
    "start_time": "2024-04-03T07:12:31.882Z"
   },
   {
    "duration": 66,
    "start_time": "2024-04-03T07:12:45.557Z"
   },
   {
    "duration": 67,
    "start_time": "2024-04-03T07:13:55.585Z"
   },
   {
    "duration": 69,
    "start_time": "2024-04-03T07:14:04.046Z"
   },
   {
    "duration": 69,
    "start_time": "2024-04-03T07:14:17.418Z"
   },
   {
    "duration": 83,
    "start_time": "2024-04-03T07:14:37.353Z"
   },
   {
    "duration": 82,
    "start_time": "2024-04-03T07:14:54.793Z"
   },
   {
    "duration": 74,
    "start_time": "2024-04-03T07:15:04.029Z"
   },
   {
    "duration": 76,
    "start_time": "2024-04-03T07:15:18.750Z"
   },
   {
    "duration": 80,
    "start_time": "2024-04-03T07:15:31.396Z"
   },
   {
    "duration": 76,
    "start_time": "2024-04-03T07:15:52.730Z"
   },
   {
    "duration": 9,
    "start_time": "2024-04-03T07:28:19.726Z"
   },
   {
    "duration": 8,
    "start_time": "2024-04-03T07:28:43.509Z"
   },
   {
    "duration": 15,
    "start_time": "2024-04-03T07:28:45.286Z"
   },
   {
    "duration": 29,
    "start_time": "2024-04-03T07:28:50.874Z"
   },
   {
    "duration": 21,
    "start_time": "2024-04-03T07:28:58.383Z"
   },
   {
    "duration": 20,
    "start_time": "2024-04-03T07:29:17.351Z"
   },
   {
    "duration": 8,
    "start_time": "2024-04-03T07:42:04.353Z"
   },
   {
    "duration": 24,
    "start_time": "2024-04-03T07:42:09.085Z"
   },
   {
    "duration": 14,
    "start_time": "2024-04-03T07:42:24.411Z"
   },
   {
    "duration": 8,
    "start_time": "2024-04-03T07:43:51.813Z"
   },
   {
    "duration": 6,
    "start_time": "2024-04-03T07:44:04.348Z"
   },
   {
    "duration": 8,
    "start_time": "2024-04-03T07:44:12.098Z"
   },
   {
    "duration": 21,
    "start_time": "2024-04-03T07:44:37.976Z"
   },
   {
    "duration": 25,
    "start_time": "2024-04-03T07:51:15.129Z"
   },
   {
    "duration": 11,
    "start_time": "2024-04-03T07:51:56.011Z"
   },
   {
    "duration": 12,
    "start_time": "2024-04-03T07:52:16.564Z"
   },
   {
    "duration": 13,
    "start_time": "2024-04-03T07:52:24.890Z"
   },
   {
    "duration": 21,
    "start_time": "2024-04-03T07:59:16.991Z"
   },
   {
    "duration": 129,
    "start_time": "2024-04-03T07:59:31.529Z"
   },
   {
    "duration": 127,
    "start_time": "2024-04-03T07:59:47.055Z"
   },
   {
    "duration": 140,
    "start_time": "2024-04-03T07:59:54.989Z"
   },
   {
    "duration": 6,
    "start_time": "2024-04-03T09:31:56.521Z"
   },
   {
    "duration": 4,
    "start_time": "2024-04-03T09:31:58.087Z"
   },
   {
    "duration": 6,
    "start_time": "2024-04-03T09:32:03.714Z"
   },
   {
    "duration": 6,
    "start_time": "2024-04-03T09:32:12.092Z"
   },
   {
    "duration": 7,
    "start_time": "2024-04-03T09:32:19.846Z"
   },
   {
    "duration": 5,
    "start_time": "2024-04-03T09:32:43.579Z"
   },
   {
    "duration": 6,
    "start_time": "2024-04-03T09:32:53.115Z"
   },
   {
    "duration": 18,
    "start_time": "2024-04-03T09:33:22.431Z"
   },
   {
    "duration": 3,
    "start_time": "2024-04-03T09:33:26.391Z"
   },
   {
    "duration": 152,
    "start_time": "2024-04-03T09:33:28.142Z"
   },
   {
    "duration": 257,
    "start_time": "2024-04-03T09:33:52.995Z"
   },
   {
    "duration": 8,
    "start_time": "2024-04-03T09:36:48.580Z"
   },
   {
    "duration": 13,
    "start_time": "2024-04-03T09:36:52.502Z"
   },
   {
    "duration": 420,
    "start_time": "2024-04-03T09:43:47.342Z"
   },
   {
    "duration": 2,
    "start_time": "2024-04-03T09:44:03.367Z"
   },
   {
    "duration": 180,
    "start_time": "2024-04-03T09:44:16.921Z"
   },
   {
    "duration": 2,
    "start_time": "2024-04-03T09:44:42.608Z"
   },
   {
    "duration": 675,
    "start_time": "2024-04-03T09:44:45.546Z"
   },
   {
    "duration": 755,
    "start_time": "2024-04-03T09:45:33.948Z"
   },
   {
    "duration": 736,
    "start_time": "2024-04-03T09:47:40.293Z"
   },
   {
    "duration": 710,
    "start_time": "2024-04-03T09:48:17.894Z"
   },
   {
    "duration": 80,
    "start_time": "2024-04-03T09:49:02.758Z"
   },
   {
    "duration": 2568,
    "start_time": "2024-04-03T09:50:07.302Z"
   },
   {
    "duration": 855,
    "start_time": "2024-04-03T09:50:25.374Z"
   },
   {
    "duration": 1123,
    "start_time": "2024-04-03T09:50:37.797Z"
   },
   {
    "duration": 400,
    "start_time": "2024-04-03T09:52:08.512Z"
   },
   {
    "duration": 238,
    "start_time": "2024-04-03T09:53:21.014Z"
   },
   {
    "duration": 417,
    "start_time": "2024-04-03T09:54:24.647Z"
   },
   {
    "duration": 412,
    "start_time": "2024-04-03T09:54:47.618Z"
   },
   {
    "duration": 452,
    "start_time": "2024-04-03T09:55:26.783Z"
   },
   {
    "duration": 592,
    "start_time": "2024-04-03T09:56:11.191Z"
   },
   {
    "duration": 482,
    "start_time": "2024-04-03T09:56:29.689Z"
   },
   {
    "duration": 262,
    "start_time": "2024-04-03T09:57:49.674Z"
   },
   {
    "duration": 477,
    "start_time": "2024-04-03T10:00:31.924Z"
   },
   {
    "duration": 477,
    "start_time": "2024-04-03T10:00:42.717Z"
   },
   {
    "duration": 518,
    "start_time": "2024-04-03T10:00:48.737Z"
   },
   {
    "duration": 606,
    "start_time": "2024-04-03T10:01:43.332Z"
   },
   {
    "duration": 242,
    "start_time": "2024-04-03T10:03:18.154Z"
   },
   {
    "duration": 484,
    "start_time": "2024-04-03T10:03:36.725Z"
   },
   {
    "duration": 254,
    "start_time": "2024-04-03T10:04:40.408Z"
   },
   {
    "duration": 257,
    "start_time": "2024-04-03T10:04:59.985Z"
   },
   {
    "duration": 1228,
    "start_time": "2024-04-03T10:05:09.448Z"
   },
   {
    "duration": 81,
    "start_time": "2024-04-03T10:05:10.678Z"
   },
   {
    "duration": 14,
    "start_time": "2024-04-03T10:05:10.760Z"
   },
   {
    "duration": 13,
    "start_time": "2024-04-03T10:05:10.775Z"
   },
   {
    "duration": 8,
    "start_time": "2024-04-03T10:05:10.790Z"
   },
   {
    "duration": 304,
    "start_time": "2024-04-03T10:05:10.800Z"
   },
   {
    "duration": 191,
    "start_time": "2024-04-03T10:05:27.875Z"
   },
   {
    "duration": 182,
    "start_time": "2024-04-03T10:10:17.722Z"
   },
   {
    "duration": 380,
    "start_time": "2024-04-03T10:10:30.633Z"
   },
   {
    "duration": 1245,
    "start_time": "2024-04-03T10:11:05.424Z"
   },
   {
    "duration": 1159,
    "start_time": "2024-04-03T10:11:17.397Z"
   },
   {
    "duration": 1240,
    "start_time": "2024-04-03T10:22:54.701Z"
   },
   {
    "duration": 1143,
    "start_time": "2024-04-03T10:23:05.999Z"
   },
   {
    "duration": 1210,
    "start_time": "2024-04-03T10:23:53.083Z"
   },
   {
    "duration": 1130,
    "start_time": "2024-04-03T10:24:05.830Z"
   },
   {
    "duration": 1246,
    "start_time": "2024-04-03T10:24:20.456Z"
   },
   {
    "duration": 1187,
    "start_time": "2024-04-03T10:24:59.649Z"
   },
   {
    "duration": 1321,
    "start_time": "2024-04-03T10:25:39.726Z"
   },
   {
    "duration": 1232,
    "start_time": "2024-04-03T10:25:46.274Z"
   },
   {
    "duration": 1129,
    "start_time": "2024-04-03T10:25:52.575Z"
   },
   {
    "duration": 1295,
    "start_time": "2024-04-03T10:25:59.216Z"
   },
   {
    "duration": 1161,
    "start_time": "2024-04-03T11:02:06.482Z"
   },
   {
    "duration": 6,
    "start_time": "2024-04-03T11:15:20.600Z"
   },
   {
    "duration": 15,
    "start_time": "2024-04-03T11:15:31.928Z"
   },
   {
    "duration": 18,
    "start_time": "2024-04-03T11:15:41.319Z"
   },
   {
    "duration": 13,
    "start_time": "2024-04-03T11:37:29.309Z"
   },
   {
    "duration": 21,
    "start_time": "2024-04-03T11:37:36.461Z"
   },
   {
    "duration": 19,
    "start_time": "2024-04-03T11:37:52.826Z"
   },
   {
    "duration": 18,
    "start_time": "2024-04-03T11:45:32.392Z"
   },
   {
    "duration": 17,
    "start_time": "2024-04-03T11:45:40.143Z"
   },
   {
    "duration": 17,
    "start_time": "2024-04-03T11:46:03.396Z"
   },
   {
    "duration": 1215,
    "start_time": "2024-04-03T11:50:03.940Z"
   },
   {
    "duration": 1109,
    "start_time": "2024-04-03T11:52:05.096Z"
   },
   {
    "duration": 1069,
    "start_time": "2024-04-03T12:01:42.461Z"
   },
   {
    "duration": 10,
    "start_time": "2024-04-03T12:26:53.698Z"
   },
   {
    "duration": 15,
    "start_time": "2024-04-03T12:26:57.379Z"
   },
   {
    "duration": 18,
    "start_time": "2024-04-03T12:27:25.923Z"
   },
   {
    "duration": 3,
    "start_time": "2024-04-03T12:32:14.268Z"
   },
   {
    "duration": 19,
    "start_time": "2024-04-03T12:33:54.669Z"
   },
   {
    "duration": 15,
    "start_time": "2024-04-03T12:45:01.329Z"
   },
   {
    "duration": 20,
    "start_time": "2024-04-03T12:45:10.223Z"
   },
   {
    "duration": 31,
    "start_time": "2024-04-03T12:49:27.691Z"
   },
   {
    "duration": 35,
    "start_time": "2024-04-03T12:49:46.314Z"
   },
   {
    "duration": 36,
    "start_time": "2024-04-03T12:49:59.227Z"
   },
   {
    "duration": 39,
    "start_time": "2024-04-03T12:57:30.971Z"
   },
   {
    "duration": 12,
    "start_time": "2024-04-03T13:04:36.263Z"
   },
   {
    "duration": 10,
    "start_time": "2024-04-03T13:04:52.550Z"
   },
   {
    "duration": 10,
    "start_time": "2024-04-03T13:05:03.351Z"
   },
   {
    "duration": 1236,
    "start_time": "2024-04-03T13:05:18.488Z"
   },
   {
    "duration": 84,
    "start_time": "2024-04-03T13:05:19.726Z"
   },
   {
    "duration": 14,
    "start_time": "2024-04-03T13:05:19.812Z"
   },
   {
    "duration": 28,
    "start_time": "2024-04-03T13:05:19.829Z"
   },
   {
    "duration": 59,
    "start_time": "2024-04-03T13:05:19.859Z"
   },
   {
    "duration": 1274,
    "start_time": "2024-04-03T13:05:19.921Z"
   },
   {
    "duration": 23,
    "start_time": "2024-04-03T13:05:21.197Z"
   },
   {
    "duration": 26,
    "start_time": "2024-04-03T13:05:21.222Z"
   },
   {
    "duration": 42,
    "start_time": "2024-04-03T13:05:21.250Z"
   },
   {
    "duration": 1145,
    "start_time": "2024-04-03T13:05:21.296Z"
   },
   {
    "duration": 103,
    "start_time": "2024-04-03T13:05:22.443Z"
   },
   {
    "duration": 1695,
    "start_time": "2024-04-03T13:05:58.899Z"
   },
   {
    "duration": 167,
    "start_time": "2024-04-03T13:06:17.760Z"
   },
   {
    "duration": 169,
    "start_time": "2024-04-03T13:07:23.917Z"
   },
   {
    "duration": 4,
    "start_time": "2024-04-03T15:02:09.626Z"
   },
   {
    "duration": 6,
    "start_time": "2024-04-03T15:05:26.665Z"
   },
   {
    "duration": 5,
    "start_time": "2024-04-03T15:08:44.785Z"
   },
   {
    "duration": 5,
    "start_time": "2024-04-03T15:09:32.437Z"
   },
   {
    "duration": 5,
    "start_time": "2024-04-03T15:09:34.138Z"
   },
   {
    "duration": 5,
    "start_time": "2024-04-03T15:10:21.588Z"
   },
   {
    "duration": 1546,
    "start_time": "2024-04-03T15:12:47.257Z"
   },
   {
    "duration": 16,
    "start_time": "2024-04-03T15:14:06.018Z"
   },
   {
    "duration": 10,
    "start_time": "2024-04-03T15:14:24.778Z"
   },
   {
    "duration": 14,
    "start_time": "2024-04-03T15:15:13.065Z"
   },
   {
    "duration": 10,
    "start_time": "2024-04-03T15:15:20.172Z"
   },
   {
    "duration": 6,
    "start_time": "2024-04-03T16:36:29.118Z"
   },
   {
    "duration": 5,
    "start_time": "2024-04-03T16:36:37.675Z"
   },
   {
    "duration": 5,
    "start_time": "2024-04-03T16:36:43.854Z"
   },
   {
    "duration": 6,
    "start_time": "2024-04-03T16:36:59.115Z"
   },
   {
    "duration": 98,
    "start_time": "2024-04-03T16:38:55.995Z"
   },
   {
    "duration": 95,
    "start_time": "2024-04-03T16:39:09.895Z"
   },
   {
    "duration": 96,
    "start_time": "2024-04-03T16:39:12.805Z"
   },
   {
    "duration": 11,
    "start_time": "2024-04-03T16:39:25.145Z"
   },
   {
    "duration": 8,
    "start_time": "2024-04-03T16:40:09.894Z"
   },
   {
    "duration": 10,
    "start_time": "2024-04-03T16:40:12.449Z"
   },
   {
    "duration": 11,
    "start_time": "2024-04-03T16:41:30.496Z"
   },
   {
    "duration": 6,
    "start_time": "2024-04-03T16:41:43.700Z"
   },
   {
    "duration": 6,
    "start_time": "2024-04-03T16:41:55.341Z"
   },
   {
    "duration": 7,
    "start_time": "2024-04-03T16:42:00.962Z"
   },
   {
    "duration": 6,
    "start_time": "2024-04-03T16:42:05.647Z"
   },
   {
    "duration": 6,
    "start_time": "2024-04-03T16:42:09.028Z"
   },
   {
    "duration": 7,
    "start_time": "2024-04-03T16:42:13.957Z"
   },
   {
    "duration": 8,
    "start_time": "2024-04-03T16:42:17.937Z"
   },
   {
    "duration": 8,
    "start_time": "2024-04-03T16:42:21.523Z"
   },
   {
    "duration": 9,
    "start_time": "2024-04-03T16:42:25.917Z"
   },
   {
    "duration": 9,
    "start_time": "2024-04-03T16:42:30.085Z"
   },
   {
    "duration": 8,
    "start_time": "2024-04-03T16:42:33.802Z"
   },
   {
    "duration": 6,
    "start_time": "2024-04-03T16:42:37.703Z"
   },
   {
    "duration": 6,
    "start_time": "2024-04-03T16:42:42.496Z"
   },
   {
    "duration": 6,
    "start_time": "2024-04-03T16:42:46.214Z"
   },
   {
    "duration": 6,
    "start_time": "2024-04-03T16:43:03.688Z"
   },
   {
    "duration": 1801,
    "start_time": "2024-04-03T16:53:01.269Z"
   },
   {
    "duration": 3,
    "start_time": "2024-04-03T16:55:50.925Z"
   },
   {
    "duration": 1867,
    "start_time": "2024-04-03T16:59:23.770Z"
   },
   {
    "duration": 1798,
    "start_time": "2024-04-03T16:59:33.104Z"
   },
   {
    "duration": 1195,
    "start_time": "2024-04-03T16:59:42.421Z"
   },
   {
    "duration": 81,
    "start_time": "2024-04-03T16:59:43.617Z"
   },
   {
    "duration": 13,
    "start_time": "2024-04-03T16:59:43.700Z"
   },
   {
    "duration": 14,
    "start_time": "2024-04-03T16:59:43.715Z"
   },
   {
    "duration": 8,
    "start_time": "2024-04-03T16:59:43.731Z"
   },
   {
    "duration": 1180,
    "start_time": "2024-04-03T16:59:43.740Z"
   },
   {
    "duration": 15,
    "start_time": "2024-04-03T16:59:44.922Z"
   },
   {
    "duration": 31,
    "start_time": "2024-04-03T16:59:44.938Z"
   },
   {
    "duration": 20,
    "start_time": "2024-04-03T16:59:44.971Z"
   },
   {
    "duration": 1050,
    "start_time": "2024-04-03T16:59:44.993Z"
   },
   {
    "duration": 169,
    "start_time": "2024-04-03T16:59:46.045Z"
   },
   {
    "duration": 6,
    "start_time": "2024-04-03T16:59:46.216Z"
   },
   {
    "duration": 11,
    "start_time": "2024-04-03T16:59:46.224Z"
   },
   {
    "duration": 10,
    "start_time": "2024-04-03T16:59:46.238Z"
   },
   {
    "duration": 1803,
    "start_time": "2024-04-03T16:59:46.249Z"
   },
   {
    "duration": 1850,
    "start_time": "2024-04-03T16:59:59.699Z"
   },
   {
    "duration": 1809,
    "start_time": "2024-04-03T17:00:21.113Z"
   },
   {
    "duration": 1846,
    "start_time": "2024-04-03T17:01:36.677Z"
   },
   {
    "duration": 1878,
    "start_time": "2024-04-03T17:01:44.707Z"
   },
   {
    "duration": 1143,
    "start_time": "2024-04-03T17:24:32.224Z"
   },
   {
    "duration": 84,
    "start_time": "2024-04-03T17:24:33.369Z"
   },
   {
    "duration": 14,
    "start_time": "2024-04-03T17:24:33.455Z"
   },
   {
    "duration": 16,
    "start_time": "2024-04-03T17:24:33.470Z"
   },
   {
    "duration": 10,
    "start_time": "2024-04-03T17:24:33.488Z"
   },
   {
    "duration": 1196,
    "start_time": "2024-04-03T17:24:33.500Z"
   },
   {
    "duration": 16,
    "start_time": "2024-04-03T17:24:34.697Z"
   },
   {
    "duration": 18,
    "start_time": "2024-04-03T17:24:34.714Z"
   },
   {
    "duration": 41,
    "start_time": "2024-04-03T17:24:34.734Z"
   },
   {
    "duration": 1081,
    "start_time": "2024-04-03T17:24:34.776Z"
   },
   {
    "duration": 176,
    "start_time": "2024-04-03T17:24:35.858Z"
   },
   {
    "duration": 6,
    "start_time": "2024-04-03T17:24:36.035Z"
   },
   {
    "duration": 7,
    "start_time": "2024-04-03T17:24:36.043Z"
   },
   {
    "duration": 24,
    "start_time": "2024-04-03T17:24:36.070Z"
   },
   {
    "duration": 1873,
    "start_time": "2024-04-03T17:24:36.096Z"
   },
   {
    "duration": 93077,
    "start_time": "2024-04-03T17:24:37.971Z"
   },
   {
    "duration": 2731,
    "start_time": "2024-04-03T17:26:37.117Z"
   },
   {
    "duration": 111,
    "start_time": "2024-04-03T17:36:51.796Z"
   },
   {
    "duration": 1099,
    "start_time": "2024-04-04T00:58:42.200Z"
   },
   {
    "duration": 311,
    "start_time": "2024-04-04T00:58:43.301Z"
   },
   {
    "duration": 13,
    "start_time": "2024-04-04T00:58:43.614Z"
   },
   {
    "duration": 11,
    "start_time": "2024-04-04T00:58:43.628Z"
   },
   {
    "duration": 7,
    "start_time": "2024-04-04T00:58:43.641Z"
   },
   {
    "duration": 1080,
    "start_time": "2024-04-04T00:58:43.649Z"
   },
   {
    "duration": 14,
    "start_time": "2024-04-04T00:58:44.730Z"
   },
   {
    "duration": 29,
    "start_time": "2024-04-04T00:58:44.746Z"
   },
   {
    "duration": 15,
    "start_time": "2024-04-04T00:58:44.777Z"
   },
   {
    "duration": 1000,
    "start_time": "2024-04-04T00:58:44.794Z"
   },
   {
    "duration": 155,
    "start_time": "2024-04-04T00:58:45.796Z"
   },
   {
    "duration": 5,
    "start_time": "2024-04-04T00:58:45.953Z"
   },
   {
    "duration": 33,
    "start_time": "2024-04-04T00:58:45.969Z"
   },
   {
    "duration": 25,
    "start_time": "2024-04-04T00:58:46.005Z"
   },
   {
    "duration": 1718,
    "start_time": "2024-04-04T00:58:46.032Z"
   },
   {
    "duration": 2561,
    "start_time": "2024-04-04T00:58:47.752Z"
   },
   {
    "duration": 6,
    "start_time": "2024-04-04T01:09:35.920Z"
   },
   {
    "duration": 1162,
    "start_time": "2024-04-04T01:18:21.043Z"
   },
   {
    "duration": 82,
    "start_time": "2024-04-04T01:18:22.207Z"
   },
   {
    "duration": 12,
    "start_time": "2024-04-04T01:18:22.291Z"
   },
   {
    "duration": 12,
    "start_time": "2024-04-04T01:18:22.305Z"
   },
   {
    "duration": 7,
    "start_time": "2024-04-04T01:18:22.319Z"
   },
   {
    "duration": 1090,
    "start_time": "2024-04-04T01:18:22.328Z"
   },
   {
    "duration": 15,
    "start_time": "2024-04-04T01:18:23.420Z"
   },
   {
    "duration": 38,
    "start_time": "2024-04-04T01:18:23.437Z"
   },
   {
    "duration": 17,
    "start_time": "2024-04-04T01:18:23.477Z"
   },
   {
    "duration": 995,
    "start_time": "2024-04-04T01:18:23.495Z"
   },
   {
    "duration": 174,
    "start_time": "2024-04-04T01:18:24.491Z"
   },
   {
    "duration": 5,
    "start_time": "2024-04-04T01:18:24.667Z"
   },
   {
    "duration": 4,
    "start_time": "2024-04-04T01:18:24.673Z"
   },
   {
    "duration": 16,
    "start_time": "2024-04-04T01:18:24.679Z"
   },
   {
    "duration": 1738,
    "start_time": "2024-04-04T01:18:24.696Z"
   },
   {
    "duration": 2507,
    "start_time": "2024-04-04T01:18:26.436Z"
   },
   {
    "duration": 48,
    "start_time": "2024-04-04T06:55:48.119Z"
   },
   {
    "duration": 7,
    "start_time": "2024-04-04T06:55:51.223Z"
   },
   {
    "duration": 1491,
    "start_time": "2024-04-04T06:56:51.680Z"
   },
   {
    "duration": 271,
    "start_time": "2024-04-04T06:56:53.173Z"
   },
   {
    "duration": 41,
    "start_time": "2024-04-04T06:56:53.446Z"
   },
   {
    "duration": 13,
    "start_time": "2024-04-04T06:56:53.490Z"
   },
   {
    "duration": 12,
    "start_time": "2024-04-04T06:56:53.505Z"
   },
   {
    "duration": 1233,
    "start_time": "2024-04-04T06:56:53.519Z"
   },
   {
    "duration": 29,
    "start_time": "2024-04-04T06:56:54.754Z"
   },
   {
    "duration": 17,
    "start_time": "2024-04-04T06:56:54.784Z"
   },
   {
    "duration": 18,
    "start_time": "2024-04-04T06:56:54.802Z"
   },
   {
    "duration": 1059,
    "start_time": "2024-04-04T06:56:54.823Z"
   },
   {
    "duration": 172,
    "start_time": "2024-04-04T06:56:55.883Z"
   },
   {
    "duration": 5,
    "start_time": "2024-04-04T06:56:56.057Z"
   },
   {
    "duration": 20,
    "start_time": "2024-04-04T06:56:56.063Z"
   },
   {
    "duration": 9,
    "start_time": "2024-04-04T06:56:56.084Z"
   },
   {
    "duration": 1879,
    "start_time": "2024-04-04T06:56:56.095Z"
   },
   {
    "duration": 2772,
    "start_time": "2024-04-04T06:56:57.982Z"
   },
   {
    "duration": 139,
    "start_time": "2024-04-04T06:57:56.542Z"
   },
   {
    "duration": 159,
    "start_time": "2024-04-04T06:58:10.187Z"
   },
   {
    "duration": 108,
    "start_time": "2024-04-04T07:00:39.217Z"
   },
   {
    "duration": 107,
    "start_time": "2024-04-04T07:01:20.216Z"
   },
   {
    "duration": 114,
    "start_time": "2024-04-04T07:03:02.724Z"
   },
   {
    "duration": 98,
    "start_time": "2024-04-04T07:08:22.423Z"
   },
   {
    "duration": 105,
    "start_time": "2024-04-04T07:09:27.310Z"
   },
   {
    "duration": 17,
    "start_time": "2024-04-04T07:11:17.526Z"
   },
   {
    "duration": 31,
    "start_time": "2024-04-04T07:15:13.644Z"
   },
   {
    "duration": 18,
    "start_time": "2024-04-04T07:15:26.589Z"
   },
   {
    "duration": 1205,
    "start_time": "2024-04-04T07:15:39.348Z"
   },
   {
    "duration": 133,
    "start_time": "2024-04-04T07:15:40.555Z"
   },
   {
    "duration": 14,
    "start_time": "2024-04-04T07:15:40.690Z"
   },
   {
    "duration": 13,
    "start_time": "2024-04-04T07:15:40.705Z"
   },
   {
    "duration": 14,
    "start_time": "2024-04-04T07:15:40.719Z"
   },
   {
    "duration": 1330,
    "start_time": "2024-04-04T07:15:40.735Z"
   },
   {
    "duration": 34,
    "start_time": "2024-04-04T07:15:42.066Z"
   },
   {
    "duration": 39,
    "start_time": "2024-04-04T07:15:42.102Z"
   },
   {
    "duration": 16,
    "start_time": "2024-04-04T07:15:42.142Z"
   },
   {
    "duration": 1139,
    "start_time": "2024-04-04T07:15:42.161Z"
   },
   {
    "duration": 189,
    "start_time": "2024-04-04T07:15:43.302Z"
   },
   {
    "duration": 7,
    "start_time": "2024-04-04T07:15:43.493Z"
   },
   {
    "duration": 7,
    "start_time": "2024-04-04T07:15:43.502Z"
   },
   {
    "duration": 31,
    "start_time": "2024-04-04T07:15:43.511Z"
   },
   {
    "duration": 2038,
    "start_time": "2024-04-04T07:15:43.544Z"
   },
   {
    "duration": 2812,
    "start_time": "2024-04-04T07:15:45.584Z"
   },
   {
    "duration": 7,
    "start_time": "2024-04-04T07:16:15.205Z"
   },
   {
    "duration": 13,
    "start_time": "2024-04-04T07:16:25.499Z"
   },
   {
    "duration": 16,
    "start_time": "2024-04-04T07:16:31.249Z"
   },
   {
    "duration": 15,
    "start_time": "2024-04-04T07:16:36.511Z"
   },
   {
    "duration": 127,
    "start_time": "2024-04-04T07:19:28.698Z"
   },
   {
    "duration": 22,
    "start_time": "2024-04-04T07:19:38.398Z"
   },
   {
    "duration": 1174,
    "start_time": "2024-04-04T07:19:46.970Z"
   },
   {
    "duration": 105,
    "start_time": "2024-04-04T07:19:48.145Z"
   },
   {
    "duration": 13,
    "start_time": "2024-04-04T07:19:48.254Z"
   },
   {
    "duration": 26,
    "start_time": "2024-04-04T07:19:48.268Z"
   },
   {
    "duration": 19,
    "start_time": "2024-04-04T07:19:48.296Z"
   },
   {
    "duration": 1189,
    "start_time": "2024-04-04T07:19:48.316Z"
   },
   {
    "duration": 16,
    "start_time": "2024-04-04T07:19:49.506Z"
   },
   {
    "duration": 17,
    "start_time": "2024-04-04T07:19:49.524Z"
   },
   {
    "duration": 47,
    "start_time": "2024-04-04T07:19:49.544Z"
   },
   {
    "duration": 1031,
    "start_time": "2024-04-04T07:19:49.592Z"
   },
   {
    "duration": 168,
    "start_time": "2024-04-04T07:19:50.625Z"
   },
   {
    "duration": 5,
    "start_time": "2024-04-04T07:19:50.794Z"
   },
   {
    "duration": 15,
    "start_time": "2024-04-04T07:19:50.801Z"
   },
   {
    "duration": 13,
    "start_time": "2024-04-04T07:19:50.817Z"
   },
   {
    "duration": 1906,
    "start_time": "2024-04-04T07:19:50.832Z"
   },
   {
    "duration": 2717,
    "start_time": "2024-04-04T07:19:52.740Z"
   },
   {
    "duration": 319,
    "start_time": "2024-04-04T07:40:24.521Z"
   },
   {
    "duration": 158,
    "start_time": "2024-04-04T07:41:55.181Z"
   },
   {
    "duration": 150,
    "start_time": "2024-04-04T07:42:03.911Z"
   },
   {
    "duration": 252,
    "start_time": "2024-04-04T07:42:16.457Z"
   },
   {
    "duration": 81,
    "start_time": "2024-04-04T07:42:53.482Z"
   },
   {
    "duration": 87,
    "start_time": "2024-04-04T07:43:02.844Z"
   },
   {
    "duration": 351,
    "start_time": "2024-04-04T07:43:44.186Z"
   },
   {
    "duration": 374,
    "start_time": "2024-04-04T07:45:18.605Z"
   },
   {
    "duration": 274,
    "start_time": "2024-04-04T07:45:37.049Z"
   },
   {
    "duration": 271,
    "start_time": "2024-04-04T07:45:42.046Z"
   },
   {
    "duration": 77,
    "start_time": "2024-04-04T08:07:24.354Z"
   },
   {
    "duration": 280,
    "start_time": "2024-04-04T08:07:30.535Z"
   },
   {
    "duration": 160,
    "start_time": "2024-04-04T08:07:33.249Z"
   },
   {
    "duration": 86,
    "start_time": "2024-04-04T08:07:40.182Z"
   },
   {
    "duration": 69,
    "start_time": "2024-04-04T08:10:30.452Z"
   },
   {
    "duration": 71,
    "start_time": "2024-04-04T08:10:40.020Z"
   },
   {
    "duration": 91,
    "start_time": "2024-04-04T08:11:45.942Z"
   },
   {
    "duration": 87,
    "start_time": "2024-04-04T08:21:51.460Z"
   },
   {
    "duration": 88,
    "start_time": "2024-04-04T08:21:54.969Z"
   },
   {
    "duration": 230,
    "start_time": "2024-04-04T08:27:38.298Z"
   },
   {
    "duration": 0,
    "start_time": "2024-04-04T08:27:38.532Z"
   },
   {
    "duration": 87,
    "start_time": "2024-04-04T08:27:40.527Z"
   },
   {
    "duration": 234,
    "start_time": "2024-04-04T08:28:15.881Z"
   },
   {
    "duration": 129,
    "start_time": "2024-04-04T08:28:28.681Z"
   },
   {
    "duration": 95,
    "start_time": "2024-04-04T08:28:38.413Z"
   },
   {
    "duration": 78,
    "start_time": "2024-04-04T08:28:52.586Z"
   },
   {
    "duration": 95,
    "start_time": "2024-04-04T08:28:57.305Z"
   },
   {
    "duration": 230,
    "start_time": "2024-04-04T08:29:32.328Z"
   },
   {
    "duration": 93,
    "start_time": "2024-04-04T08:29:50.644Z"
   },
   {
    "duration": 350,
    "start_time": "2024-04-04T08:38:42.208Z"
   },
   {
    "duration": 22,
    "start_time": "2024-04-04T08:47:26.673Z"
   },
   {
    "duration": 1146,
    "start_time": "2024-04-04T08:49:06.276Z"
   },
   {
    "duration": 109,
    "start_time": "2024-04-04T08:49:07.424Z"
   },
   {
    "duration": 13,
    "start_time": "2024-04-04T08:49:07.535Z"
   },
   {
    "duration": 35,
    "start_time": "2024-04-04T08:49:07.550Z"
   },
   {
    "duration": 15,
    "start_time": "2024-04-04T08:49:07.587Z"
   },
   {
    "duration": 6,
    "start_time": "2024-04-04T08:49:07.603Z"
   },
   {
    "duration": 178,
    "start_time": "2024-04-04T08:49:07.610Z"
   },
   {
    "duration": 73,
    "start_time": "2024-04-04T08:49:07.791Z"
   },
   {
    "duration": 318,
    "start_time": "2024-04-04T08:49:07.865Z"
   },
   {
    "duration": 203,
    "start_time": "2024-04-04T08:49:08.186Z"
   },
   {
    "duration": 200,
    "start_time": "2024-04-04T08:49:08.390Z"
   },
   {
    "duration": 13,
    "start_time": "2024-04-04T08:49:08.592Z"
   },
   {
    "duration": 5,
    "start_time": "2024-04-04T08:49:08.606Z"
   },
   {
    "duration": 130,
    "start_time": "2024-04-04T08:49:08.612Z"
   },
   {
    "duration": 0,
    "start_time": "2024-04-04T08:49:08.743Z"
   },
   {
    "duration": 0,
    "start_time": "2024-04-04T08:49:08.745Z"
   },
   {
    "duration": 0,
    "start_time": "2024-04-04T08:49:08.745Z"
   },
   {
    "duration": 0,
    "start_time": "2024-04-04T08:49:08.746Z"
   },
   {
    "duration": 0,
    "start_time": "2024-04-04T08:49:08.748Z"
   },
   {
    "duration": 0,
    "start_time": "2024-04-04T08:49:08.748Z"
   },
   {
    "duration": 0,
    "start_time": "2024-04-04T08:49:08.749Z"
   },
   {
    "duration": 0,
    "start_time": "2024-04-04T08:49:08.751Z"
   },
   {
    "duration": 17,
    "start_time": "2024-04-04T08:51:45.324Z"
   },
   {
    "duration": 1990,
    "start_time": "2024-04-04T08:53:58.959Z"
   },
   {
    "duration": 112,
    "start_time": "2024-04-04T08:54:00.951Z"
   },
   {
    "duration": 26,
    "start_time": "2024-04-04T08:54:01.067Z"
   },
   {
    "duration": 35,
    "start_time": "2024-04-04T08:54:01.096Z"
   },
   {
    "duration": 58,
    "start_time": "2024-04-04T08:54:01.133Z"
   },
   {
    "duration": 25,
    "start_time": "2024-04-04T08:54:01.193Z"
   },
   {
    "duration": 180,
    "start_time": "2024-04-04T08:54:01.220Z"
   },
   {
    "duration": 94,
    "start_time": "2024-04-04T08:54:01.402Z"
   },
   {
    "duration": 292,
    "start_time": "2024-04-04T08:54:01.498Z"
   },
   {
    "duration": 217,
    "start_time": "2024-04-04T08:54:01.792Z"
   },
   {
    "duration": 212,
    "start_time": "2024-04-04T08:54:02.011Z"
   },
   {
    "duration": 13,
    "start_time": "2024-04-04T08:54:02.224Z"
   },
   {
    "duration": 31,
    "start_time": "2024-04-04T08:54:02.240Z"
   },
   {
    "duration": 121,
    "start_time": "2024-04-04T08:54:02.283Z"
   },
   {
    "duration": 0,
    "start_time": "2024-04-04T08:54:02.405Z"
   },
   {
    "duration": 0,
    "start_time": "2024-04-04T08:54:02.407Z"
   },
   {
    "duration": 0,
    "start_time": "2024-04-04T08:54:02.408Z"
   },
   {
    "duration": 0,
    "start_time": "2024-04-04T08:54:02.409Z"
   },
   {
    "duration": 0,
    "start_time": "2024-04-04T08:54:02.410Z"
   },
   {
    "duration": 0,
    "start_time": "2024-04-04T08:54:02.410Z"
   },
   {
    "duration": 0,
    "start_time": "2024-04-04T08:54:02.412Z"
   },
   {
    "duration": 0,
    "start_time": "2024-04-04T08:54:02.413Z"
   },
   {
    "duration": 26,
    "start_time": "2024-04-04T08:54:32.461Z"
   },
   {
    "duration": 12,
    "start_time": "2024-04-04T09:16:41.721Z"
   },
   {
    "duration": 1135,
    "start_time": "2024-04-04T09:16:47.905Z"
   },
   {
    "duration": 111,
    "start_time": "2024-04-04T09:16:49.042Z"
   },
   {
    "duration": 28,
    "start_time": "2024-04-04T09:16:49.157Z"
   },
   {
    "duration": 12,
    "start_time": "2024-04-04T09:16:49.187Z"
   },
   {
    "duration": 15,
    "start_time": "2024-04-04T09:16:49.201Z"
   },
   {
    "duration": 5,
    "start_time": "2024-04-04T09:16:49.217Z"
   },
   {
    "duration": 189,
    "start_time": "2024-04-04T09:16:49.224Z"
   },
   {
    "duration": 76,
    "start_time": "2024-04-04T09:16:49.414Z"
   },
   {
    "duration": 287,
    "start_time": "2024-04-04T09:16:49.493Z"
   },
   {
    "duration": 234,
    "start_time": "2024-04-04T09:16:49.782Z"
   },
   {
    "duration": 235,
    "start_time": "2024-04-04T09:16:50.018Z"
   },
   {
    "duration": 13,
    "start_time": "2024-04-04T09:16:50.254Z"
   },
   {
    "duration": 14,
    "start_time": "2024-04-04T09:16:50.268Z"
   },
   {
    "duration": 44,
    "start_time": "2024-04-04T09:16:50.283Z"
   },
   {
    "duration": 18,
    "start_time": "2024-04-04T09:16:50.329Z"
   },
   {
    "duration": 340,
    "start_time": "2024-04-04T09:16:50.348Z"
   },
   {
    "duration": 174,
    "start_time": "2024-04-04T09:16:50.689Z"
   },
   {
    "duration": 6,
    "start_time": "2024-04-04T09:16:50.864Z"
   },
   {
    "duration": 11,
    "start_time": "2024-04-04T09:16:50.871Z"
   },
   {
    "duration": 10,
    "start_time": "2024-04-04T09:16:50.883Z"
   },
   {
    "duration": 833,
    "start_time": "2024-04-04T09:16:50.895Z"
   },
   {
    "duration": 1162,
    "start_time": "2024-04-04T09:16:51.729Z"
   },
   {
    "duration": 249,
    "start_time": "2024-04-04T09:17:33.247Z"
   },
   {
    "duration": 220,
    "start_time": "2024-04-04T09:18:56.479Z"
   },
   {
    "duration": 196,
    "start_time": "2024-04-04T10:25:57.212Z"
   },
   {
    "duration": 182,
    "start_time": "2024-04-04T10:28:44.957Z"
   },
   {
    "duration": 189,
    "start_time": "2024-04-04T10:29:56.048Z"
   },
   {
    "duration": 430,
    "start_time": "2024-04-04T10:31:27.010Z"
   },
   {
    "duration": 319,
    "start_time": "2024-04-04T10:32:18.744Z"
   },
   {
    "duration": 44,
    "start_time": "2024-04-04T11:55:18.184Z"
   },
   {
    "duration": 663,
    "start_time": "2024-04-04T12:01:15.979Z"
   },
   {
    "duration": 737,
    "start_time": "2024-04-04T12:02:31.988Z"
   },
   {
    "duration": 313,
    "start_time": "2024-04-04T12:05:11.895Z"
   },
   {
    "duration": 308,
    "start_time": "2024-04-04T12:06:47.045Z"
   },
   {
    "duration": 4,
    "start_time": "2024-04-04T13:04:02.179Z"
   },
   {
    "duration": 4,
    "start_time": "2024-04-04T13:04:05.171Z"
   },
   {
    "duration": 6,
    "start_time": "2024-04-04T13:04:10.394Z"
   },
   {
    "duration": 7,
    "start_time": "2024-04-04T13:04:27.429Z"
   },
   {
    "duration": 91,
    "start_time": "2024-04-04T13:05:37.301Z"
   },
   {
    "duration": 3,
    "start_time": "2024-04-04T13:05:50.376Z"
   },
   {
    "duration": 6,
    "start_time": "2024-04-04T13:05:54.162Z"
   },
   {
    "duration": 9,
    "start_time": "2024-04-04T13:06:12.065Z"
   },
   {
    "duration": 112,
    "start_time": "2024-04-04T13:08:35.590Z"
   },
   {
    "duration": 19,
    "start_time": "2024-04-04T13:10:47.748Z"
   },
   {
    "duration": 17,
    "start_time": "2024-04-04T13:10:50.936Z"
   },
   {
    "duration": 9,
    "start_time": "2024-04-04T13:11:43.237Z"
   },
   {
    "duration": 7,
    "start_time": "2024-04-04T13:12:18.268Z"
   },
   {
    "duration": 16,
    "start_time": "2024-04-04T13:15:56.721Z"
   },
   {
    "duration": 13,
    "start_time": "2024-04-04T13:16:18.146Z"
   },
   {
    "duration": 7,
    "start_time": "2024-04-04T13:17:16.919Z"
   },
   {
    "duration": 6,
    "start_time": "2024-04-04T13:17:20.296Z"
   },
   {
    "duration": 13,
    "start_time": "2024-04-04T13:17:24.559Z"
   },
   {
    "duration": 4,
    "start_time": "2024-04-04T13:17:43.142Z"
   },
   {
    "duration": 18,
    "start_time": "2024-04-04T13:17:44.371Z"
   },
   {
    "duration": 1138,
    "start_time": "2024-04-04T13:18:11.277Z"
   },
   {
    "duration": 110,
    "start_time": "2024-04-04T13:18:12.417Z"
   },
   {
    "duration": 13,
    "start_time": "2024-04-04T13:18:12.529Z"
   },
   {
    "duration": 40,
    "start_time": "2024-04-04T13:18:12.544Z"
   },
   {
    "duration": 16,
    "start_time": "2024-04-04T13:18:12.586Z"
   },
   {
    "duration": 5,
    "start_time": "2024-04-04T13:18:12.603Z"
   },
   {
    "duration": 166,
    "start_time": "2024-04-04T13:18:12.609Z"
   },
   {
    "duration": 66,
    "start_time": "2024-04-04T13:18:12.776Z"
   },
   {
    "duration": 316,
    "start_time": "2024-04-04T13:18:12.844Z"
   },
   {
    "duration": 205,
    "start_time": "2024-04-04T13:18:13.163Z"
   },
   {
    "duration": 205,
    "start_time": "2024-04-04T13:18:13.369Z"
   },
   {
    "duration": 13,
    "start_time": "2024-04-04T13:18:13.581Z"
   },
   {
    "duration": 2,
    "start_time": "2024-04-04T13:18:13.595Z"
   },
   {
    "duration": 28,
    "start_time": "2024-04-04T13:18:13.599Z"
   },
   {
    "duration": 55,
    "start_time": "2024-04-04T13:18:13.628Z"
   },
   {
    "duration": 393,
    "start_time": "2024-04-04T13:18:13.685Z"
   },
   {
    "duration": 303,
    "start_time": "2024-04-04T13:18:14.081Z"
   },
   {
    "duration": 4,
    "start_time": "2024-04-04T13:18:14.385Z"
   },
   {
    "duration": 119,
    "start_time": "2024-04-04T13:18:14.390Z"
   },
   {
    "duration": 0,
    "start_time": "2024-04-04T13:18:14.511Z"
   },
   {
    "duration": 0,
    "start_time": "2024-04-04T13:18:14.513Z"
   },
   {
    "duration": 0,
    "start_time": "2024-04-04T13:18:14.514Z"
   },
   {
    "duration": 0,
    "start_time": "2024-04-04T13:18:14.515Z"
   },
   {
    "duration": 0,
    "start_time": "2024-04-04T13:18:14.516Z"
   },
   {
    "duration": 0,
    "start_time": "2024-04-04T13:18:14.517Z"
   },
   {
    "duration": 15,
    "start_time": "2024-04-04T13:25:02.931Z"
   },
   {
    "duration": 12,
    "start_time": "2024-04-04T13:27:13.018Z"
   },
   {
    "duration": 25,
    "start_time": "2024-04-04T13:27:29.706Z"
   },
   {
    "duration": 0,
    "start_time": "2024-04-04T13:28:12.294Z"
   },
   {
    "duration": 0,
    "start_time": "2024-04-04T13:28:12.294Z"
   },
   {
    "duration": 0,
    "start_time": "2024-04-04T13:28:12.296Z"
   },
   {
    "duration": 0,
    "start_time": "2024-04-04T13:28:12.296Z"
   },
   {
    "duration": 0,
    "start_time": "2024-04-04T13:28:12.297Z"
   },
   {
    "duration": 0,
    "start_time": "2024-04-04T13:28:12.298Z"
   },
   {
    "duration": 0,
    "start_time": "2024-04-04T13:28:12.299Z"
   },
   {
    "duration": 0,
    "start_time": "2024-04-04T13:28:12.300Z"
   },
   {
    "duration": 0,
    "start_time": "2024-04-04T13:28:12.301Z"
   },
   {
    "duration": 0,
    "start_time": "2024-04-04T13:28:12.302Z"
   },
   {
    "duration": 0,
    "start_time": "2024-04-04T13:28:12.303Z"
   },
   {
    "duration": 0,
    "start_time": "2024-04-04T13:28:12.304Z"
   },
   {
    "duration": 0,
    "start_time": "2024-04-04T13:28:12.305Z"
   },
   {
    "duration": 0,
    "start_time": "2024-04-04T13:28:12.306Z"
   },
   {
    "duration": 0,
    "start_time": "2024-04-04T13:28:12.307Z"
   },
   {
    "duration": 0,
    "start_time": "2024-04-04T13:28:12.308Z"
   },
   {
    "duration": 0,
    "start_time": "2024-04-04T13:28:12.309Z"
   },
   {
    "duration": 0,
    "start_time": "2024-04-04T13:28:12.310Z"
   },
   {
    "duration": 0,
    "start_time": "2024-04-04T13:28:12.311Z"
   },
   {
    "duration": 0,
    "start_time": "2024-04-04T13:28:12.312Z"
   },
   {
    "duration": 0,
    "start_time": "2024-04-04T13:28:12.313Z"
   },
   {
    "duration": 0,
    "start_time": "2024-04-04T13:28:12.314Z"
   },
   {
    "duration": 0,
    "start_time": "2024-04-04T13:28:12.316Z"
   },
   {
    "duration": 0,
    "start_time": "2024-04-04T13:28:12.317Z"
   },
   {
    "duration": 0,
    "start_time": "2024-04-04T13:28:12.318Z"
   },
   {
    "duration": 1251,
    "start_time": "2024-04-04T13:29:49.154Z"
   },
   {
    "duration": 111,
    "start_time": "2024-04-04T13:29:50.408Z"
   },
   {
    "duration": 15,
    "start_time": "2024-04-04T13:29:50.521Z"
   },
   {
    "duration": 44,
    "start_time": "2024-04-04T13:29:50.538Z"
   },
   {
    "duration": 17,
    "start_time": "2024-04-04T13:29:50.584Z"
   },
   {
    "duration": 16,
    "start_time": "2024-04-04T13:29:50.602Z"
   },
   {
    "duration": 173,
    "start_time": "2024-04-04T13:29:50.620Z"
   },
   {
    "duration": 90,
    "start_time": "2024-04-04T13:29:50.794Z"
   },
   {
    "duration": 308,
    "start_time": "2024-04-04T13:29:50.885Z"
   },
   {
    "duration": 218,
    "start_time": "2024-04-04T13:29:51.196Z"
   },
   {
    "duration": 229,
    "start_time": "2024-04-04T13:29:51.416Z"
   },
   {
    "duration": 14,
    "start_time": "2024-04-04T13:29:51.647Z"
   },
   {
    "duration": 3,
    "start_time": "2024-04-04T13:29:51.663Z"
   },
   {
    "duration": 46,
    "start_time": "2024-04-04T13:29:51.667Z"
   },
   {
    "duration": 37,
    "start_time": "2024-04-04T13:29:51.715Z"
   },
   {
    "duration": 432,
    "start_time": "2024-04-04T13:29:51.754Z"
   },
   {
    "duration": 349,
    "start_time": "2024-04-04T13:29:52.188Z"
   },
   {
    "duration": 17,
    "start_time": "2024-04-04T13:29:52.540Z"
   },
   {
    "duration": 132,
    "start_time": "2024-04-04T13:29:52.559Z"
   },
   {
    "duration": 0,
    "start_time": "2024-04-04T13:29:52.692Z"
   },
   {
    "duration": 0,
    "start_time": "2024-04-04T13:29:52.693Z"
   },
   {
    "duration": 0,
    "start_time": "2024-04-04T13:29:52.694Z"
   },
   {
    "duration": 0,
    "start_time": "2024-04-04T13:29:52.695Z"
   },
   {
    "duration": 0,
    "start_time": "2024-04-04T13:29:52.696Z"
   },
   {
    "duration": 0,
    "start_time": "2024-04-04T13:29:52.697Z"
   },
   {
    "duration": 17,
    "start_time": "2024-04-04T13:30:15.048Z"
   },
   {
    "duration": 19,
    "start_time": "2024-04-04T13:35:34.110Z"
   },
   {
    "duration": 10,
    "start_time": "2024-04-04T13:35:45.044Z"
   },
   {
    "duration": 9,
    "start_time": "2024-04-04T13:36:35.923Z"
   },
   {
    "duration": 11,
    "start_time": "2024-04-04T13:36:42.733Z"
   },
   {
    "duration": 1214,
    "start_time": "2024-04-04T13:42:21.999Z"
   },
   {
    "duration": 20,
    "start_time": "2024-04-04T13:42:41.536Z"
   },
   {
    "duration": 192,
    "start_time": "2024-04-04T13:46:45.084Z"
   },
   {
    "duration": 1232,
    "start_time": "2024-04-04T13:50:19.250Z"
   },
   {
    "duration": 135,
    "start_time": "2024-04-04T13:50:20.486Z"
   },
   {
    "duration": 21,
    "start_time": "2024-04-04T13:50:20.623Z"
   },
   {
    "duration": 41,
    "start_time": "2024-04-04T13:50:20.648Z"
   },
   {
    "duration": 26,
    "start_time": "2024-04-04T13:50:20.692Z"
   },
   {
    "duration": 7,
    "start_time": "2024-04-04T13:50:20.720Z"
   },
   {
    "duration": 248,
    "start_time": "2024-04-04T13:50:20.728Z"
   },
   {
    "duration": 128,
    "start_time": "2024-04-04T13:50:20.983Z"
   },
   {
    "duration": 395,
    "start_time": "2024-04-04T13:50:21.116Z"
   },
   {
    "duration": 231,
    "start_time": "2024-04-04T13:50:21.514Z"
   },
   {
    "duration": 322,
    "start_time": "2024-04-04T13:50:21.746Z"
   },
   {
    "duration": 26,
    "start_time": "2024-04-04T13:50:22.070Z"
   },
   {
    "duration": 3,
    "start_time": "2024-04-04T13:50:22.098Z"
   },
   {
    "duration": 36,
    "start_time": "2024-04-04T13:50:22.103Z"
   },
   {
    "duration": 54,
    "start_time": "2024-04-04T13:50:22.140Z"
   },
   {
    "duration": 574,
    "start_time": "2024-04-04T13:50:22.196Z"
   },
   {
    "duration": 451,
    "start_time": "2024-04-04T13:50:22.775Z"
   },
   {
    "duration": 5,
    "start_time": "2024-04-04T13:50:23.228Z"
   },
   {
    "duration": 201,
    "start_time": "2024-04-04T13:50:23.235Z"
   },
   {
    "duration": 3,
    "start_time": "2024-04-04T13:50:23.437Z"
   },
   {
    "duration": 13,
    "start_time": "2024-04-04T13:50:23.442Z"
   },
   {
    "duration": 17,
    "start_time": "2024-04-04T13:50:23.457Z"
   },
   {
    "duration": 29,
    "start_time": "2024-04-04T13:50:23.476Z"
   },
   {
    "duration": 846,
    "start_time": "2024-04-04T13:50:23.507Z"
   },
   {
    "duration": 1296,
    "start_time": "2024-04-04T13:50:24.355Z"
   },
   {
    "duration": 48,
    "start_time": "2024-04-04T13:56:33.921Z"
   },
   {
    "duration": 8,
    "start_time": "2024-04-04T13:58:16.081Z"
   },
   {
    "duration": 8,
    "start_time": "2024-04-04T13:58:24.052Z"
   },
   {
    "duration": 9,
    "start_time": "2024-04-04T13:58:42.245Z"
   },
   {
    "duration": 1320,
    "start_time": "2024-04-04T14:09:14.539Z"
   },
   {
    "duration": 24,
    "start_time": "2024-04-04T14:10:36.332Z"
   },
   {
    "duration": 32,
    "start_time": "2024-04-04T14:11:05.592Z"
   },
   {
    "duration": 17,
    "start_time": "2024-04-04T14:11:36.959Z"
   },
   {
    "duration": 168,
    "start_time": "2024-04-04T14:26:35.998Z"
   },
   {
    "duration": 172,
    "start_time": "2024-04-04T14:26:42.220Z"
   },
   {
    "duration": 179,
    "start_time": "2024-04-04T14:28:11.335Z"
   },
   {
    "duration": 171,
    "start_time": "2024-04-04T14:28:23.555Z"
   },
   {
    "duration": 274,
    "start_time": "2024-04-04T14:28:31.892Z"
   },
   {
    "duration": 173,
    "start_time": "2024-04-04T14:28:38.303Z"
   },
   {
    "duration": 120,
    "start_time": "2024-04-04T14:29:46.729Z"
   },
   {
    "duration": 34,
    "start_time": "2024-04-04T14:30:04.349Z"
   },
   {
    "duration": 170,
    "start_time": "2024-04-04T14:30:25.632Z"
   },
   {
    "duration": 226,
    "start_time": "2024-04-04T14:31:01.885Z"
   },
   {
    "duration": 36322,
    "start_time": "2024-04-04T14:33:47.819Z"
   },
   {
    "duration": 317,
    "start_time": "2024-04-04T15:20:02.445Z"
   },
   {
    "duration": 290,
    "start_time": "2024-04-04T15:20:07.142Z"
   },
   {
    "duration": 200,
    "start_time": "2024-04-04T15:20:23.242Z"
   },
   {
    "duration": 205,
    "start_time": "2024-04-04T15:20:32.290Z"
   },
   {
    "duration": 1129,
    "start_time": "2024-04-04T15:34:34.129Z"
   },
   {
    "duration": 132,
    "start_time": "2024-04-04T15:34:35.260Z"
   },
   {
    "duration": 13,
    "start_time": "2024-04-04T15:34:35.394Z"
   },
   {
    "duration": 33,
    "start_time": "2024-04-04T15:34:35.409Z"
   },
   {
    "duration": 16,
    "start_time": "2024-04-04T15:34:35.443Z"
   },
   {
    "duration": 5,
    "start_time": "2024-04-04T15:34:35.460Z"
   },
   {
    "duration": 151,
    "start_time": "2024-04-04T15:34:35.466Z"
   },
   {
    "duration": 77,
    "start_time": "2024-04-04T15:34:35.619Z"
   },
   {
    "duration": 322,
    "start_time": "2024-04-04T15:34:35.698Z"
   },
   {
    "duration": 221,
    "start_time": "2024-04-04T15:34:36.024Z"
   },
   {
    "duration": 227,
    "start_time": "2024-04-04T15:34:36.247Z"
   },
   {
    "duration": 14,
    "start_time": "2024-04-04T15:34:36.482Z"
   },
   {
    "duration": 3,
    "start_time": "2024-04-04T15:34:36.497Z"
   },
   {
    "duration": 27,
    "start_time": "2024-04-04T15:34:36.501Z"
   },
   {
    "duration": 26,
    "start_time": "2024-04-04T15:34:36.530Z"
   },
   {
    "duration": 404,
    "start_time": "2024-04-04T15:34:36.581Z"
   },
   {
    "duration": 319,
    "start_time": "2024-04-04T15:34:36.986Z"
   },
   {
    "duration": 19,
    "start_time": "2024-04-04T15:34:37.306Z"
   },
   {
    "duration": 30,
    "start_time": "2024-04-04T15:34:37.326Z"
   },
   {
    "duration": 28,
    "start_time": "2024-04-04T15:34:37.358Z"
   },
   {
    "duration": 6,
    "start_time": "2024-04-04T15:34:37.388Z"
   },
   {
    "duration": 21,
    "start_time": "2024-04-04T15:34:37.396Z"
   },
   {
    "duration": 72,
    "start_time": "2024-04-04T15:34:37.419Z"
   },
   {
    "duration": 0,
    "start_time": "2024-04-04T15:34:37.493Z"
   },
   {
    "duration": 0,
    "start_time": "2024-04-04T15:34:37.495Z"
   },
   {
    "duration": 1172,
    "start_time": "2024-04-04T15:35:23.834Z"
   },
   {
    "duration": 119,
    "start_time": "2024-04-04T15:35:25.008Z"
   },
   {
    "duration": 15,
    "start_time": "2024-04-04T15:35:25.129Z"
   },
   {
    "duration": 44,
    "start_time": "2024-04-04T15:35:25.146Z"
   },
   {
    "duration": 19,
    "start_time": "2024-04-04T15:35:25.192Z"
   },
   {
    "duration": 5,
    "start_time": "2024-04-04T15:35:25.213Z"
   },
   {
    "duration": 168,
    "start_time": "2024-04-04T15:35:25.220Z"
   },
   {
    "duration": 64,
    "start_time": "2024-04-04T15:35:25.390Z"
   },
   {
    "duration": 316,
    "start_time": "2024-04-04T15:35:25.456Z"
   },
   {
    "duration": 234,
    "start_time": "2024-04-04T15:35:25.775Z"
   },
   {
    "duration": 218,
    "start_time": "2024-04-04T15:35:26.010Z"
   },
   {
    "duration": 13,
    "start_time": "2024-04-04T15:35:26.229Z"
   },
   {
    "duration": 10,
    "start_time": "2024-04-04T15:35:26.243Z"
   },
   {
    "duration": 34,
    "start_time": "2024-04-04T15:35:26.254Z"
   },
   {
    "duration": 30,
    "start_time": "2024-04-04T15:35:26.290Z"
   },
   {
    "duration": 413,
    "start_time": "2024-04-04T15:35:26.322Z"
   },
   {
    "duration": 314,
    "start_time": "2024-04-04T15:35:26.736Z"
   },
   {
    "duration": 18,
    "start_time": "2024-04-04T15:35:27.052Z"
   },
   {
    "duration": 49,
    "start_time": "2024-04-04T15:35:27.071Z"
   },
   {
    "duration": 7,
    "start_time": "2024-04-04T15:35:27.122Z"
   },
   {
    "duration": 5,
    "start_time": "2024-04-04T15:35:27.130Z"
   },
   {
    "duration": 24,
    "start_time": "2024-04-04T15:35:27.136Z"
   },
   {
    "duration": 178,
    "start_time": "2024-04-04T15:35:27.162Z"
   },
   {
    "duration": 207,
    "start_time": "2024-04-04T15:35:27.342Z"
   },
   {
    "duration": 1280,
    "start_time": "2024-04-04T16:21:38.891Z"
   },
   {
    "duration": 118,
    "start_time": "2024-04-04T16:21:40.173Z"
   },
   {
    "duration": 14,
    "start_time": "2024-04-04T16:21:40.293Z"
   },
   {
    "duration": 13,
    "start_time": "2024-04-04T16:21:40.308Z"
   },
   {
    "duration": 17,
    "start_time": "2024-04-04T16:21:40.322Z"
   },
   {
    "duration": 5,
    "start_time": "2024-04-04T16:21:40.340Z"
   },
   {
    "duration": 184,
    "start_time": "2024-04-04T16:21:40.347Z"
   },
   {
    "duration": 79,
    "start_time": "2024-04-04T16:21:40.532Z"
   },
   {
    "duration": 316,
    "start_time": "2024-04-04T16:21:40.612Z"
   },
   {
    "duration": 234,
    "start_time": "2024-04-04T16:21:40.931Z"
   },
   {
    "duration": 251,
    "start_time": "2024-04-04T16:21:41.167Z"
   },
   {
    "duration": 14,
    "start_time": "2024-04-04T16:21:41.420Z"
   },
   {
    "duration": 3,
    "start_time": "2024-04-04T16:21:41.436Z"
   },
   {
    "duration": 54,
    "start_time": "2024-04-04T16:21:41.440Z"
   },
   {
    "duration": 29,
    "start_time": "2024-04-04T16:21:41.496Z"
   },
   {
    "duration": 402,
    "start_time": "2024-04-04T16:21:41.527Z"
   },
   {
    "duration": 326,
    "start_time": "2024-04-04T16:21:41.931Z"
   },
   {
    "duration": 30,
    "start_time": "2024-04-04T16:21:42.258Z"
   },
   {
    "duration": 37,
    "start_time": "2024-04-04T16:21:42.290Z"
   },
   {
    "duration": 7,
    "start_time": "2024-04-04T16:21:42.329Z"
   },
   {
    "duration": 12,
    "start_time": "2024-04-04T16:21:42.337Z"
   },
   {
    "duration": 17,
    "start_time": "2024-04-04T16:21:42.351Z"
   },
   {
    "duration": 186,
    "start_time": "2024-04-04T16:21:42.388Z"
   },
   {
    "duration": 232,
    "start_time": "2024-04-04T16:21:42.576Z"
   },
   {
    "duration": 7,
    "start_time": "2024-04-04T16:27:21.593Z"
   },
   {
    "duration": 146,
    "start_time": "2024-04-04T16:30:45.711Z"
   },
   {
    "duration": 262,
    "start_time": "2024-04-04T16:51:29.759Z"
   },
   {
    "duration": 153,
    "start_time": "2024-04-04T16:52:13.977Z"
   },
   {
    "duration": 137,
    "start_time": "2024-04-04T16:52:22.205Z"
   },
   {
    "duration": 173,
    "start_time": "2024-04-04T16:52:27.773Z"
   },
   {
    "duration": 137,
    "start_time": "2024-04-04T16:52:34.991Z"
   },
   {
    "duration": 147,
    "start_time": "2024-04-04T16:52:41.984Z"
   },
   {
    "duration": 259,
    "start_time": "2024-04-04T16:52:46.580Z"
   },
   {
    "duration": 88,
    "start_time": "2024-04-04T16:56:12.689Z"
   },
   {
    "duration": 97,
    "start_time": "2024-04-04T16:58:36.003Z"
   },
   {
    "duration": 87,
    "start_time": "2024-04-04T16:58:44.066Z"
   },
   {
    "duration": 83,
    "start_time": "2024-04-04T16:58:52.116Z"
   },
   {
    "duration": 64,
    "start_time": "2024-04-04T17:00:43.838Z"
   },
   {
    "duration": 61,
    "start_time": "2024-04-04T17:00:56.097Z"
   },
   {
    "duration": 13,
    "start_time": "2024-04-04T17:01:02.323Z"
   },
   {
    "duration": 96,
    "start_time": "2024-04-04T17:01:08.984Z"
   },
   {
    "duration": 12,
    "start_time": "2024-04-04T17:01:48.494Z"
   },
   {
    "duration": 63,
    "start_time": "2024-04-04T17:01:55.934Z"
   },
   {
    "duration": 283,
    "start_time": "2024-04-04T17:05:30.575Z"
   },
   {
    "duration": 278,
    "start_time": "2024-04-04T17:05:36.073Z"
   },
   {
    "duration": 385,
    "start_time": "2024-04-04T17:06:29.497Z"
   },
   {
    "duration": 319,
    "start_time": "2024-04-04T17:08:21.049Z"
   },
   {
    "duration": 48,
    "start_time": "2024-04-04T17:42:45.611Z"
   },
   {
    "duration": 46,
    "start_time": "2024-04-04T17:44:26.685Z"
   },
   {
    "duration": 1177,
    "start_time": "2024-04-04T17:45:13.479Z"
   },
   {
    "duration": 128,
    "start_time": "2024-04-04T17:45:14.658Z"
   },
   {
    "duration": 23,
    "start_time": "2024-04-04T17:45:14.792Z"
   },
   {
    "duration": 21,
    "start_time": "2024-04-04T17:45:14.818Z"
   },
   {
    "duration": 51,
    "start_time": "2024-04-04T17:45:14.841Z"
   },
   {
    "duration": 12,
    "start_time": "2024-04-04T17:45:14.895Z"
   },
   {
    "duration": 193,
    "start_time": "2024-04-04T17:45:14.909Z"
   },
   {
    "duration": 85,
    "start_time": "2024-04-04T17:45:15.104Z"
   },
   {
    "duration": 345,
    "start_time": "2024-04-04T17:45:15.190Z"
   },
   {
    "duration": 231,
    "start_time": "2024-04-04T17:45:15.538Z"
   },
   {
    "duration": 237,
    "start_time": "2024-04-04T17:45:15.771Z"
   },
   {
    "duration": 15,
    "start_time": "2024-04-04T17:45:16.010Z"
   },
   {
    "duration": 7,
    "start_time": "2024-04-04T17:45:16.026Z"
   },
   {
    "duration": 23,
    "start_time": "2024-04-04T17:45:16.034Z"
   },
   {
    "duration": 62,
    "start_time": "2024-04-04T17:45:16.059Z"
   },
   {
    "duration": 479,
    "start_time": "2024-04-04T17:45:16.123Z"
   },
   {
    "duration": 334,
    "start_time": "2024-04-04T17:45:16.604Z"
   },
   {
    "duration": 19,
    "start_time": "2024-04-04T17:45:16.939Z"
   },
   {
    "duration": 140,
    "start_time": "2024-04-04T17:45:16.960Z"
   },
   {
    "duration": 0,
    "start_time": "2024-04-04T17:45:17.102Z"
   },
   {
    "duration": 0,
    "start_time": "2024-04-04T17:45:17.103Z"
   },
   {
    "duration": 0,
    "start_time": "2024-04-04T17:45:17.105Z"
   },
   {
    "duration": 0,
    "start_time": "2024-04-04T17:45:17.106Z"
   },
   {
    "duration": 0,
    "start_time": "2024-04-04T17:45:17.107Z"
   },
   {
    "duration": 0,
    "start_time": "2024-04-04T17:45:17.108Z"
   },
   {
    "duration": 15,
    "start_time": "2024-04-04T17:45:39.460Z"
   },
   {
    "duration": 33,
    "start_time": "2024-04-04T17:45:49.116Z"
   },
   {
    "duration": 12,
    "start_time": "2024-04-04T17:46:47.329Z"
   },
   {
    "duration": 28,
    "start_time": "2024-04-04T17:47:10.617Z"
   },
   {
    "duration": 33,
    "start_time": "2024-04-04T17:47:32.592Z"
   },
   {
    "duration": 25,
    "start_time": "2024-04-04T17:47:49.579Z"
   },
   {
    "duration": 40,
    "start_time": "2024-04-04T17:48:45.905Z"
   },
   {
    "duration": 67,
    "start_time": "2024-04-04T17:51:25.100Z"
   },
   {
    "duration": 1057,
    "start_time": "2024-04-04T17:51:47.164Z"
   },
   {
    "duration": 1094,
    "start_time": "2024-04-04T17:52:27.661Z"
   },
   {
    "duration": 54,
    "start_time": "2024-04-04T17:53:10.142Z"
   },
   {
    "duration": 45,
    "start_time": "2024-04-04T17:54:26.938Z"
   },
   {
    "duration": 32,
    "start_time": "2024-04-04T17:54:44.875Z"
   },
   {
    "duration": 32,
    "start_time": "2024-04-04T17:54:48.510Z"
   },
   {
    "duration": 34,
    "start_time": "2024-04-04T17:54:53.220Z"
   },
   {
    "duration": 34,
    "start_time": "2024-04-04T17:55:04.660Z"
   },
   {
    "duration": 37,
    "start_time": "2024-04-04T17:55:24.262Z"
   },
   {
    "duration": 40,
    "start_time": "2024-04-04T17:56:11.577Z"
   },
   {
    "duration": 47,
    "start_time": "2024-04-04T17:58:41.710Z"
   },
   {
    "duration": 44,
    "start_time": "2024-04-04T17:58:48.544Z"
   },
   {
    "duration": 3,
    "start_time": "2024-04-04T17:59:13.839Z"
   },
   {
    "duration": 105,
    "start_time": "2024-04-04T17:59:13.843Z"
   },
   {
    "duration": 13,
    "start_time": "2024-04-04T17:59:13.950Z"
   },
   {
    "duration": 27,
    "start_time": "2024-04-04T17:59:13.964Z"
   },
   {
    "duration": 16,
    "start_time": "2024-04-04T17:59:13.992Z"
   },
   {
    "duration": 5,
    "start_time": "2024-04-04T17:59:14.009Z"
   },
   {
    "duration": 193,
    "start_time": "2024-04-04T17:59:14.016Z"
   },
   {
    "duration": 79,
    "start_time": "2024-04-04T17:59:14.210Z"
   },
   {
    "duration": 309,
    "start_time": "2024-04-04T17:59:59.168Z"
   },
   {
    "duration": 41,
    "start_time": "2024-04-04T18:01:05.508Z"
   },
   {
    "duration": 39,
    "start_time": "2024-04-04T18:01:20.599Z"
   },
   {
    "duration": 41,
    "start_time": "2024-04-04T18:01:23.769Z"
   },
   {
    "duration": 43,
    "start_time": "2024-04-04T18:04:18.097Z"
   },
   {
    "duration": 1101,
    "start_time": "2024-04-04T18:04:24.932Z"
   },
   {
    "duration": 108,
    "start_time": "2024-04-04T18:04:26.034Z"
   },
   {
    "duration": 13,
    "start_time": "2024-04-04T18:04:26.144Z"
   },
   {
    "duration": 32,
    "start_time": "2024-04-04T18:04:26.159Z"
   },
   {
    "duration": 16,
    "start_time": "2024-04-04T18:04:26.193Z"
   },
   {
    "duration": 6,
    "start_time": "2024-04-04T18:04:26.211Z"
   },
   {
    "duration": 187,
    "start_time": "2024-04-04T18:04:26.218Z"
   },
   {
    "duration": 77,
    "start_time": "2024-04-04T18:04:26.407Z"
   },
   {
    "duration": 288,
    "start_time": "2024-04-04T18:04:26.485Z"
   },
   {
    "duration": 224,
    "start_time": "2024-04-04T18:04:26.776Z"
   },
   {
    "duration": 217,
    "start_time": "2024-04-04T18:04:27.002Z"
   },
   {
    "duration": 14,
    "start_time": "2024-04-04T18:04:27.221Z"
   },
   {
    "duration": 3,
    "start_time": "2024-04-04T18:04:27.236Z"
   },
   {
    "duration": 50,
    "start_time": "2024-04-04T18:04:27.240Z"
   },
   {
    "duration": 26,
    "start_time": "2024-04-04T18:04:27.292Z"
   },
   {
    "duration": 394,
    "start_time": "2024-04-04T18:04:27.320Z"
   },
   {
    "duration": 335,
    "start_time": "2024-04-04T18:04:27.716Z"
   },
   {
    "duration": 31,
    "start_time": "2024-04-04T18:04:28.052Z"
   },
   {
    "duration": 43,
    "start_time": "2024-04-04T18:04:28.084Z"
   },
   {
    "duration": 6,
    "start_time": "2024-04-04T18:04:28.128Z"
   },
   {
    "duration": 5,
    "start_time": "2024-04-04T18:04:28.136Z"
   },
   {
    "duration": 51,
    "start_time": "2024-04-04T18:04:28.142Z"
   },
   {
    "duration": 191,
    "start_time": "2024-04-04T18:04:28.194Z"
   },
   {
    "duration": 41,
    "start_time": "2024-04-04T18:04:47.327Z"
   },
   {
    "duration": 48,
    "start_time": "2024-04-04T18:05:19.862Z"
   },
   {
    "duration": 56,
    "start_time": "2024-04-04T18:06:34.039Z"
   },
   {
    "duration": 127,
    "start_time": "2024-04-04T18:09:02.162Z"
   },
   {
    "duration": 133,
    "start_time": "2024-04-04T18:09:28.452Z"
   },
   {
    "duration": 171,
    "start_time": "2024-04-04T18:10:24.084Z"
   },
   {
    "duration": 169,
    "start_time": "2024-04-04T18:10:39.904Z"
   },
   {
    "duration": 173,
    "start_time": "2024-04-04T18:11:08.187Z"
   },
   {
    "duration": 187,
    "start_time": "2024-04-04T18:11:14.032Z"
   },
   {
    "duration": 162,
    "start_time": "2024-04-04T18:12:27.544Z"
   },
   {
    "duration": 169,
    "start_time": "2024-04-04T18:12:33.695Z"
   },
   {
    "duration": 260,
    "start_time": "2024-04-04T18:12:39.044Z"
   },
   {
    "duration": 1165,
    "start_time": "2024-04-04T18:17:39.476Z"
   },
   {
    "duration": 111,
    "start_time": "2024-04-04T18:17:40.644Z"
   },
   {
    "duration": 13,
    "start_time": "2024-04-04T18:17:40.757Z"
   },
   {
    "duration": 13,
    "start_time": "2024-04-04T18:17:40.782Z"
   },
   {
    "duration": 15,
    "start_time": "2024-04-04T18:17:40.797Z"
   },
   {
    "duration": 4,
    "start_time": "2024-04-04T18:17:40.814Z"
   },
   {
    "duration": 193,
    "start_time": "2024-04-04T18:17:40.820Z"
   },
   {
    "duration": 75,
    "start_time": "2024-04-04T18:17:41.015Z"
   },
   {
    "duration": 304,
    "start_time": "2024-04-04T18:17:41.092Z"
   },
   {
    "duration": 225,
    "start_time": "2024-04-04T18:17:41.399Z"
   },
   {
    "duration": 221,
    "start_time": "2024-04-04T18:17:41.625Z"
   },
   {
    "duration": 13,
    "start_time": "2024-04-04T18:17:41.848Z"
   },
   {
    "duration": 19,
    "start_time": "2024-04-04T18:17:41.863Z"
   },
   {
    "duration": 24,
    "start_time": "2024-04-04T18:17:41.884Z"
   },
   {
    "duration": 27,
    "start_time": "2024-04-04T18:17:41.910Z"
   },
   {
    "duration": 414,
    "start_time": "2024-04-04T18:17:41.939Z"
   },
   {
    "duration": 346,
    "start_time": "2024-04-04T18:17:42.354Z"
   },
   {
    "duration": 22,
    "start_time": "2024-04-04T18:17:42.702Z"
   },
   {
    "duration": 71,
    "start_time": "2024-04-04T18:17:42.726Z"
   },
   {
    "duration": 6,
    "start_time": "2024-04-04T18:17:42.799Z"
   },
   {
    "duration": 15,
    "start_time": "2024-04-04T18:17:42.806Z"
   },
   {
    "duration": 23,
    "start_time": "2024-04-04T18:17:42.823Z"
   },
   {
    "duration": 178,
    "start_time": "2024-04-04T18:17:42.847Z"
   },
   {
    "duration": 173,
    "start_time": "2024-04-04T18:17:43.027Z"
   },
   {
    "duration": 211,
    "start_time": "2024-04-04T18:17:43.202Z"
   },
   {
    "duration": 1284,
    "start_time": "2024-04-05T10:30:46.258Z"
   },
   {
    "duration": 616,
    "start_time": "2024-04-05T10:30:47.544Z"
   },
   {
    "duration": 24,
    "start_time": "2024-04-05T10:30:48.162Z"
   },
   {
    "duration": 14,
    "start_time": "2024-04-05T10:30:48.191Z"
   },
   {
    "duration": 29,
    "start_time": "2024-04-05T10:30:48.207Z"
   },
   {
    "duration": 6,
    "start_time": "2024-04-05T10:30:48.238Z"
   },
   {
    "duration": 201,
    "start_time": "2024-04-05T10:30:48.245Z"
   },
   {
    "duration": 79,
    "start_time": "2024-04-05T10:30:48.448Z"
   },
   {
    "duration": 355,
    "start_time": "2024-04-05T10:30:48.530Z"
   },
   {
    "duration": 237,
    "start_time": "2024-04-05T10:30:48.889Z"
   },
   {
    "duration": 240,
    "start_time": "2024-04-05T10:30:49.127Z"
   },
   {
    "duration": 22,
    "start_time": "2024-04-05T10:30:49.372Z"
   },
   {
    "duration": 6,
    "start_time": "2024-04-05T10:30:49.396Z"
   },
   {
    "duration": 27,
    "start_time": "2024-04-05T10:30:49.403Z"
   },
   {
    "duration": 52,
    "start_time": "2024-04-05T10:30:49.431Z"
   },
   {
    "duration": 437,
    "start_time": "2024-04-05T10:30:49.487Z"
   },
   {
    "duration": 362,
    "start_time": "2024-04-05T10:30:49.925Z"
   },
   {
    "duration": 19,
    "start_time": "2024-04-05T10:30:50.289Z"
   },
   {
    "duration": 70,
    "start_time": "2024-04-05T10:30:50.310Z"
   },
   {
    "duration": 7,
    "start_time": "2024-04-05T10:30:50.385Z"
   },
   {
    "duration": 16,
    "start_time": "2024-04-05T10:30:50.394Z"
   },
   {
    "duration": 19,
    "start_time": "2024-04-05T10:30:50.412Z"
   },
   {
    "duration": 192,
    "start_time": "2024-04-05T10:30:50.433Z"
   },
   {
    "duration": 165,
    "start_time": "2024-04-05T10:30:50.627Z"
   },
   {
    "duration": 239,
    "start_time": "2024-04-05T10:30:50.794Z"
   },
   {
    "duration": 71,
    "start_time": "2024-04-05T10:39:59.621Z"
   },
   {
    "duration": 6,
    "start_time": "2024-04-05T10:42:59.606Z"
   },
   {
    "duration": 221,
    "start_time": "2024-04-05T10:48:37.713Z"
   },
   {
    "duration": 215,
    "start_time": "2024-04-05T10:48:43.165Z"
   },
   {
    "duration": 179,
    "start_time": "2024-04-05T10:48:52.233Z"
   },
   {
    "duration": 64,
    "start_time": "2024-04-05T11:42:07.318Z"
   },
   {
    "duration": 1438,
    "start_time": "2024-04-05T11:42:13.245Z"
   },
   {
    "duration": 267,
    "start_time": "2024-04-05T11:42:14.685Z"
   },
   {
    "duration": 16,
    "start_time": "2024-04-05T11:42:14.954Z"
   },
   {
    "duration": 14,
    "start_time": "2024-04-05T11:42:14.972Z"
   },
   {
    "duration": 16,
    "start_time": "2024-04-05T11:42:15.015Z"
   },
   {
    "duration": 68,
    "start_time": "2024-04-05T11:42:15.032Z"
   },
   {
    "duration": 202,
    "start_time": "2024-04-05T11:42:15.101Z"
   },
   {
    "duration": 77,
    "start_time": "2024-04-05T11:42:15.305Z"
   },
   {
    "duration": 347,
    "start_time": "2024-04-05T11:42:15.385Z"
   },
   {
    "duration": 252,
    "start_time": "2024-04-05T11:42:15.736Z"
   },
   {
    "duration": 262,
    "start_time": "2024-04-05T11:42:15.990Z"
   },
   {
    "duration": 16,
    "start_time": "2024-04-05T11:42:16.254Z"
   },
   {
    "duration": 2,
    "start_time": "2024-04-05T11:42:16.272Z"
   },
   {
    "duration": 41,
    "start_time": "2024-04-05T11:42:16.276Z"
   },
   {
    "duration": 29,
    "start_time": "2024-04-05T11:42:16.319Z"
   },
   {
    "duration": 428,
    "start_time": "2024-04-05T11:42:16.349Z"
   },
   {
    "duration": 355,
    "start_time": "2024-04-05T11:42:16.778Z"
   },
   {
    "duration": 20,
    "start_time": "2024-04-05T11:42:17.135Z"
   },
   {
    "duration": 291,
    "start_time": "2024-04-05T11:42:17.157Z"
   },
   {
    "duration": 8,
    "start_time": "2024-04-05T11:42:17.450Z"
   },
   {
    "duration": 35,
    "start_time": "2024-04-05T11:42:17.460Z"
   },
   {
    "duration": 26,
    "start_time": "2024-04-05T11:42:17.498Z"
   },
   {
    "duration": 205,
    "start_time": "2024-04-05T11:42:17.527Z"
   },
   {
    "duration": 157,
    "start_time": "2024-04-05T11:42:17.734Z"
   },
   {
    "duration": 239,
    "start_time": "2024-04-05T11:42:17.893Z"
   },
   {
    "duration": 4,
    "start_time": "2024-04-05T11:46:12.527Z"
   },
   {
    "duration": 4,
    "start_time": "2024-04-05T11:46:24.215Z"
   },
   {
    "duration": 84,
    "start_time": "2024-04-05T12:13:35.004Z"
   },
   {
    "duration": 208,
    "start_time": "2024-04-05T12:13:53.988Z"
   },
   {
    "duration": 194,
    "start_time": "2024-04-05T12:16:45.176Z"
   },
   {
    "duration": 206,
    "start_time": "2024-04-05T12:17:24.168Z"
   },
   {
    "duration": 185,
    "start_time": "2024-04-05T12:17:41.860Z"
   },
   {
    "duration": 195,
    "start_time": "2024-04-05T12:18:46.887Z"
   },
   {
    "duration": 205,
    "start_time": "2024-04-05T12:20:14.049Z"
   },
   {
    "duration": 208,
    "start_time": "2024-04-05T12:20:39.420Z"
   },
   {
    "duration": 203,
    "start_time": "2024-04-05T12:21:10.611Z"
   },
   {
    "duration": 191,
    "start_time": "2024-04-05T12:21:46.238Z"
   },
   {
    "duration": 62,
    "start_time": "2024-04-05T12:22:32.072Z"
   },
   {
    "duration": 56,
    "start_time": "2024-04-05T12:22:54.663Z"
   },
   {
    "duration": 56,
    "start_time": "2024-04-05T12:23:07.201Z"
   },
   {
    "duration": 56,
    "start_time": "2024-04-05T12:24:35.606Z"
   },
   {
    "duration": 62,
    "start_time": "2024-04-05T12:25:03.133Z"
   },
   {
    "duration": 55,
    "start_time": "2024-04-05T12:25:11.356Z"
   },
   {
    "duration": 1086,
    "start_time": "2024-04-05T13:36:05.351Z"
   },
   {
    "duration": 108,
    "start_time": "2024-04-05T13:36:06.440Z"
   },
   {
    "duration": 13,
    "start_time": "2024-04-05T13:36:06.550Z"
   },
   {
    "duration": 12,
    "start_time": "2024-04-05T13:36:06.565Z"
   },
   {
    "duration": 48,
    "start_time": "2024-04-05T13:36:06.579Z"
   },
   {
    "duration": 5,
    "start_time": "2024-04-05T13:36:06.629Z"
   },
   {
    "duration": 195,
    "start_time": "2024-04-05T13:36:06.636Z"
   },
   {
    "duration": 65,
    "start_time": "2024-04-05T13:36:06.832Z"
   },
   {
    "duration": 336,
    "start_time": "2024-04-05T13:36:06.899Z"
   },
   {
    "duration": 215,
    "start_time": "2024-04-05T13:36:07.238Z"
   },
   {
    "duration": 218,
    "start_time": "2024-04-05T13:36:07.455Z"
   },
   {
    "duration": 13,
    "start_time": "2024-04-05T13:36:07.675Z"
   },
   {
    "duration": 3,
    "start_time": "2024-04-05T13:36:07.689Z"
   },
   {
    "duration": 40,
    "start_time": "2024-04-05T13:36:07.693Z"
   },
   {
    "duration": 25,
    "start_time": "2024-04-05T13:36:07.735Z"
   },
   {
    "duration": 414,
    "start_time": "2024-04-05T13:36:07.762Z"
   },
   {
    "duration": 326,
    "start_time": "2024-04-05T13:36:08.178Z"
   },
   {
    "duration": 29,
    "start_time": "2024-04-05T13:36:08.505Z"
   },
   {
    "duration": 83,
    "start_time": "2024-04-05T13:36:08.536Z"
   },
   {
    "duration": 3,
    "start_time": "2024-04-05T13:36:08.621Z"
   },
   {
    "duration": 7,
    "start_time": "2024-04-05T13:36:08.626Z"
   },
   {
    "duration": 4,
    "start_time": "2024-04-05T13:36:08.635Z"
   },
   {
    "duration": 17,
    "start_time": "2024-04-05T13:36:08.641Z"
   },
   {
    "duration": 191,
    "start_time": "2024-04-05T13:36:08.660Z"
   },
   {
    "duration": 142,
    "start_time": "2024-04-05T13:36:08.853Z"
   },
   {
    "duration": 207,
    "start_time": "2024-04-05T13:36:08.997Z"
   },
   {
    "duration": 6,
    "start_time": "2024-04-05T13:37:13.683Z"
   },
   {
    "duration": 51,
    "start_time": "2024-04-05T14:00:57.454Z"
   },
   {
    "duration": 1378,
    "start_time": "2024-04-05T14:01:01.672Z"
   },
   {
    "duration": 367,
    "start_time": "2024-04-05T14:01:03.052Z"
   },
   {
    "duration": 15,
    "start_time": "2024-04-05T14:01:03.420Z"
   },
   {
    "duration": 13,
    "start_time": "2024-04-05T14:01:03.437Z"
   },
   {
    "duration": 15,
    "start_time": "2024-04-05T14:01:03.451Z"
   },
   {
    "duration": 5,
    "start_time": "2024-04-05T14:01:03.488Z"
   },
   {
    "duration": 180,
    "start_time": "2024-04-05T14:01:03.495Z"
   },
   {
    "duration": 85,
    "start_time": "2024-04-05T14:01:03.676Z"
   },
   {
    "duration": 334,
    "start_time": "2024-04-05T14:01:03.763Z"
   },
   {
    "duration": 225,
    "start_time": "2024-04-05T14:01:04.099Z"
   },
   {
    "duration": 257,
    "start_time": "2024-04-05T14:01:04.326Z"
   },
   {
    "duration": 14,
    "start_time": "2024-04-05T14:01:04.584Z"
   },
   {
    "duration": 3,
    "start_time": "2024-04-05T14:01:04.599Z"
   },
   {
    "duration": 29,
    "start_time": "2024-04-05T14:01:04.603Z"
   },
   {
    "duration": 28,
    "start_time": "2024-04-05T14:01:04.633Z"
   },
   {
    "duration": 417,
    "start_time": "2024-04-05T14:01:04.663Z"
   },
   {
    "duration": 359,
    "start_time": "2024-04-05T14:01:05.081Z"
   },
   {
    "duration": 20,
    "start_time": "2024-04-05T14:01:05.442Z"
   },
   {
    "duration": 85,
    "start_time": "2024-04-05T14:01:05.463Z"
   },
   {
    "duration": 3,
    "start_time": "2024-04-05T14:01:05.550Z"
   },
   {
    "duration": 10,
    "start_time": "2024-04-05T14:01:05.555Z"
   },
   {
    "duration": 6,
    "start_time": "2024-04-05T14:01:05.567Z"
   },
   {
    "duration": 16,
    "start_time": "2024-04-05T14:01:05.587Z"
   },
   {
    "duration": 185,
    "start_time": "2024-04-05T14:01:05.604Z"
   },
   {
    "duration": 153,
    "start_time": "2024-04-05T14:01:05.791Z"
   },
   {
    "duration": 206,
    "start_time": "2024-04-05T14:01:05.946Z"
   },
   {
    "duration": 1103,
    "start_time": "2024-04-12T14:14:40.620Z"
   },
   {
    "duration": 337,
    "start_time": "2024-04-12T14:14:41.725Z"
   },
   {
    "duration": 15,
    "start_time": "2024-04-12T14:14:42.063Z"
   },
   {
    "duration": 12,
    "start_time": "2024-04-12T14:14:42.081Z"
   },
   {
    "duration": 16,
    "start_time": "2024-04-12T14:14:42.095Z"
   },
   {
    "duration": 9,
    "start_time": "2024-04-12T14:14:42.113Z"
   },
   {
    "duration": 209,
    "start_time": "2024-04-12T14:14:42.124Z"
   },
   {
    "duration": 75,
    "start_time": "2024-04-12T14:14:42.335Z"
   },
   {
    "duration": 310,
    "start_time": "2024-04-12T14:14:42.413Z"
   },
   {
    "duration": 226,
    "start_time": "2024-04-12T14:14:42.726Z"
   },
   {
    "duration": 219,
    "start_time": "2024-04-12T14:14:42.954Z"
   },
   {
    "duration": 14,
    "start_time": "2024-04-12T14:14:43.174Z"
   },
   {
    "duration": 2,
    "start_time": "2024-04-12T14:14:43.190Z"
   },
   {
    "duration": 32,
    "start_time": "2024-04-12T14:14:43.194Z"
   },
   {
    "duration": 46,
    "start_time": "2024-04-12T14:14:43.228Z"
   },
   {
    "duration": 391,
    "start_time": "2024-04-12T14:14:43.276Z"
   },
   {
    "duration": 306,
    "start_time": "2024-04-12T14:14:43.669Z"
   },
   {
    "duration": 20,
    "start_time": "2024-04-12T14:14:43.977Z"
   },
   {
    "duration": 82,
    "start_time": "2024-04-12T14:14:43.998Z"
   },
   {
    "duration": 4,
    "start_time": "2024-04-12T14:14:44.082Z"
   },
   {
    "duration": 24,
    "start_time": "2024-04-12T14:14:44.088Z"
   },
   {
    "duration": 10,
    "start_time": "2024-04-12T14:14:44.113Z"
   },
   {
    "duration": 14,
    "start_time": "2024-04-12T14:14:44.124Z"
   },
   {
    "duration": 169,
    "start_time": "2024-04-12T14:14:44.139Z"
   },
   {
    "duration": 135,
    "start_time": "2024-04-12T14:14:44.309Z"
   },
   {
    "duration": 212,
    "start_time": "2024-04-12T14:14:44.446Z"
   }
  ],
  "kernelspec": {
   "display_name": "Python 3 (ipykernel)",
   "language": "python",
   "name": "python3"
  },
  "language_info": {
   "codemirror_mode": {
    "name": "ipython",
    "version": 3
   },
   "file_extension": ".py",
   "mimetype": "text/x-python",
   "name": "python",
   "nbconvert_exporter": "python",
   "pygments_lexer": "ipython3",
   "version": "3.9.5"
  },
  "toc": {
   "base_numbering": 1,
   "nav_menu": {},
   "number_sections": true,
   "sideBar": true,
   "skip_h1_title": true,
   "title_cell": "Table of Contents",
   "title_sidebar": "Contents",
   "toc_cell": false,
   "toc_position": {},
   "toc_section_display": true,
   "toc_window_display": false
  }
 },
 "nbformat": 4,
 "nbformat_minor": 5
}
