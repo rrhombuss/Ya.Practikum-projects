{
 "cells": [
  {
   "cell_type": "markdown",
   "metadata": {
    "toc": true
   },
   "source": [
    "<h1>Содержание<span class=\"tocSkip\"></span></h1>\n",
    "<div class=\"toc\"><ul class=\"toc-item\"><li><span><a href=\"#Загрузка-данных\" data-toc-modified-id=\"Загрузка-данных-1\"><span class=\"toc-item-num\">1&nbsp;&nbsp;</span>Загрузка данных</a></span></li><li><span><a href=\"#Умножение-матриц\" data-toc-modified-id=\"Умножение-матриц-2\"><span class=\"toc-item-num\">2&nbsp;&nbsp;</span>Умножение матриц</a></span></li><li><span><a href=\"#Алгоритм-преобразования\" data-toc-modified-id=\"Алгоритм-преобразования-3\"><span class=\"toc-item-num\">3&nbsp;&nbsp;</span>Алгоритм преобразования</a></span></li><li><span><a href=\"#Проверка-алгоритма\" data-toc-modified-id=\"Проверка-алгоритма-4\"><span class=\"toc-item-num\">4&nbsp;&nbsp;</span>Проверка алгоритма</a></span></li><li><span><a href=\"#Итоги\" data-toc-modified-id=\"Итоги-5\"><span class=\"toc-item-num\">5&nbsp;&nbsp;</span>Итоги</a></span></li><li><span><a href=\"#Чек-лист-проверки\" data-toc-modified-id=\"Чек-лист-проверки-6\"><span class=\"toc-item-num\">6&nbsp;&nbsp;</span>Чек-лист проверки</a></span></li></ul></div>"
   ]
  },
  {
   "cell_type": "markdown",
   "metadata": {},
   "source": [
    "# Защита персональных данных клиентов"
   ]
  },
  {
   "cell_type": "markdown",
   "metadata": {},
   "source": [
    "Вам нужно защитить данные клиентов страховой компании «Хоть потоп». Разработайте такой метод преобразования данных, чтобы по ним было сложно восстановить персональную информацию. Обоснуйте корректность его работы.\n",
    "\n",
    "Нужно защитить данные, чтобы при преобразовании качество моделей машинного обучения не ухудшилось. Подбирать наилучшую модель не требуется."
   ]
  },
  {
   "cell_type": "markdown",
   "metadata": {},
   "source": [
    "## Загрузка данных"
   ]
  },
  {
   "cell_type": "code",
   "execution_count": 1,
   "metadata": {},
   "outputs": [],
   "source": [
    "import pandas as pd\n",
    "import numpy as np\n",
    "import matplotlib.pyplot as plt\n",
    "from sklearn.linear_model import LogisticRegression, LinearRegression\n",
    "from sklearn.model_selection import train_test_split\n",
    "from sklearn.metrics import r2_score\n",
    "from sklearn.preprocessing import StandardScaler\n",
    "\n"
   ]
  },
  {
   "cell_type": "code",
   "execution_count": 3,
   "metadata": {},
   "outputs": [],
   "source": [
    "df = pd.read_csv('/datasets/insurance.csv')"
   ]
  },
  {
   "cell_type": "code",
   "execution_count": 4,
   "metadata": {},
   "outputs": [
    {
     "data": {
      "text/html": [
       "<div>\n",
       "<style scoped>\n",
       "    .dataframe tbody tr th:only-of-type {\n",
       "        vertical-align: middle;\n",
       "    }\n",
       "\n",
       "    .dataframe tbody tr th {\n",
       "        vertical-align: top;\n",
       "    }\n",
       "\n",
       "    .dataframe thead th {\n",
       "        text-align: right;\n",
       "    }\n",
       "</style>\n",
       "<table border=\"1\" class=\"dataframe\">\n",
       "  <thead>\n",
       "    <tr style=\"text-align: right;\">\n",
       "      <th></th>\n",
       "      <th>Пол</th>\n",
       "      <th>Возраст</th>\n",
       "      <th>Зарплата</th>\n",
       "      <th>Члены семьи</th>\n",
       "      <th>Страховые выплаты</th>\n",
       "    </tr>\n",
       "  </thead>\n",
       "  <tbody>\n",
       "    <tr>\n",
       "      <th>0</th>\n",
       "      <td>1</td>\n",
       "      <td>41.0</td>\n",
       "      <td>49600.0</td>\n",
       "      <td>1</td>\n",
       "      <td>0</td>\n",
       "    </tr>\n",
       "    <tr>\n",
       "      <th>1</th>\n",
       "      <td>0</td>\n",
       "      <td>46.0</td>\n",
       "      <td>38000.0</td>\n",
       "      <td>1</td>\n",
       "      <td>1</td>\n",
       "    </tr>\n",
       "    <tr>\n",
       "      <th>2</th>\n",
       "      <td>0</td>\n",
       "      <td>29.0</td>\n",
       "      <td>21000.0</td>\n",
       "      <td>0</td>\n",
       "      <td>0</td>\n",
       "    </tr>\n",
       "    <tr>\n",
       "      <th>3</th>\n",
       "      <td>0</td>\n",
       "      <td>21.0</td>\n",
       "      <td>41700.0</td>\n",
       "      <td>2</td>\n",
       "      <td>0</td>\n",
       "    </tr>\n",
       "    <tr>\n",
       "      <th>4</th>\n",
       "      <td>1</td>\n",
       "      <td>28.0</td>\n",
       "      <td>26100.0</td>\n",
       "      <td>0</td>\n",
       "      <td>0</td>\n",
       "    </tr>\n",
       "  </tbody>\n",
       "</table>\n",
       "</div>"
      ],
      "text/plain": [
       "   Пол  Возраст  Зарплата  Члены семьи  Страховые выплаты\n",
       "0    1     41.0   49600.0            1                  0\n",
       "1    0     46.0   38000.0            1                  1\n",
       "2    0     29.0   21000.0            0                  0\n",
       "3    0     21.0   41700.0            2                  0\n",
       "4    1     28.0   26100.0            0                  0"
      ]
     },
     "execution_count": 4,
     "metadata": {},
     "output_type": "execute_result"
    }
   ],
   "source": [
    "df.head()"
   ]
  },
  {
   "cell_type": "code",
   "execution_count": 5,
   "metadata": {},
   "outputs": [
    {
     "name": "stdout",
     "output_type": "stream",
     "text": [
      "<class 'pandas.core.frame.DataFrame'>\n",
      "RangeIndex: 5000 entries, 0 to 4999\n",
      "Data columns (total 5 columns):\n",
      " #   Column             Non-Null Count  Dtype  \n",
      "---  ------             --------------  -----  \n",
      " 0   Пол                5000 non-null   int64  \n",
      " 1   Возраст            5000 non-null   float64\n",
      " 2   Зарплата           5000 non-null   float64\n",
      " 3   Члены семьи        5000 non-null   int64  \n",
      " 4   Страховые выплаты  5000 non-null   int64  \n",
      "dtypes: float64(2), int64(3)\n",
      "memory usage: 195.4 KB\n"
     ]
    }
   ],
   "source": [
    "df.info()"
   ]
  },
  {
   "cell_type": "code",
   "execution_count": 6,
   "metadata": {},
   "outputs": [
    {
     "data": {
      "text/html": [
       "<div>\n",
       "<style scoped>\n",
       "    .dataframe tbody tr th:only-of-type {\n",
       "        vertical-align: middle;\n",
       "    }\n",
       "\n",
       "    .dataframe tbody tr th {\n",
       "        vertical-align: top;\n",
       "    }\n",
       "\n",
       "    .dataframe thead th {\n",
       "        text-align: right;\n",
       "    }\n",
       "</style>\n",
       "<table border=\"1\" class=\"dataframe\">\n",
       "  <thead>\n",
       "    <tr style=\"text-align: right;\">\n",
       "      <th></th>\n",
       "      <th>Пол</th>\n",
       "      <th>Возраст</th>\n",
       "      <th>Зарплата</th>\n",
       "      <th>Члены семьи</th>\n",
       "      <th>Страховые выплаты</th>\n",
       "    </tr>\n",
       "  </thead>\n",
       "  <tbody>\n",
       "    <tr>\n",
       "      <th>281</th>\n",
       "      <td>1</td>\n",
       "      <td>39.0</td>\n",
       "      <td>48100.0</td>\n",
       "      <td>1</td>\n",
       "      <td>0</td>\n",
       "    </tr>\n",
       "    <tr>\n",
       "      <th>488</th>\n",
       "      <td>1</td>\n",
       "      <td>24.0</td>\n",
       "      <td>32900.0</td>\n",
       "      <td>1</td>\n",
       "      <td>0</td>\n",
       "    </tr>\n",
       "    <tr>\n",
       "      <th>513</th>\n",
       "      <td>0</td>\n",
       "      <td>31.0</td>\n",
       "      <td>37400.0</td>\n",
       "      <td>2</td>\n",
       "      <td>0</td>\n",
       "    </tr>\n",
       "    <tr>\n",
       "      <th>718</th>\n",
       "      <td>1</td>\n",
       "      <td>22.0</td>\n",
       "      <td>32600.0</td>\n",
       "      <td>1</td>\n",
       "      <td>0</td>\n",
       "    </tr>\n",
       "    <tr>\n",
       "      <th>785</th>\n",
       "      <td>0</td>\n",
       "      <td>20.0</td>\n",
       "      <td>35800.0</td>\n",
       "      <td>0</td>\n",
       "      <td>0</td>\n",
       "    </tr>\n",
       "  </tbody>\n",
       "</table>\n",
       "</div>"
      ],
      "text/plain": [
       "     Пол  Возраст  Зарплата  Члены семьи  Страховые выплаты\n",
       "281    1     39.0   48100.0            1                  0\n",
       "488    1     24.0   32900.0            1                  0\n",
       "513    0     31.0   37400.0            2                  0\n",
       "718    1     22.0   32600.0            1                  0\n",
       "785    0     20.0   35800.0            0                  0"
      ]
     },
     "execution_count": 6,
     "metadata": {},
     "output_type": "execute_result"
    }
   ],
   "source": [
    "df[df.duplicated()].head()"
   ]
  },
  {
   "cell_type": "markdown",
   "metadata": {},
   "source": [
    "данные без пропусков, готовы к работе"
   ]
  },
  {
   "cell_type": "markdown",
   "metadata": {},
   "source": [
    "## Умножение матриц"
   ]
  },
  {
   "cell_type": "markdown",
   "metadata": {},
   "source": [
    "В этом задании вы можете записывать формулы в *Jupyter Notebook.*\n",
    "\n",
    "Чтобы записать формулу внутри текста, окружите её символами доллара \\\\$; если снаружи —  двойными символами \\\\$\\\\$. Эти формулы записываются на языке вёрстки *LaTeX.* \n",
    "\n",
    "Для примера мы записали формулы линейной регрессии. Можете их скопировать и отредактировать, чтобы решить задачу.\n",
    "\n",
    "Работать в *LaTeX* необязательно."
   ]
  },
  {
   "cell_type": "markdown",
   "metadata": {},
   "source": [
    "Обозначения:\n",
    "\n",
    "- $X$ — матрица признаков (нулевой столбец состоит из единиц)\n",
    "\n",
    "- $y$ — вектор целевого признака\n",
    "\n",
    "- $P$ — матрица, на которую умножаются признаки\n",
    "\n",
    "- $w$ — вектор весов линейной регрессии (нулевой элемент равен сдвигу)"
   ]
  },
  {
   "cell_type": "markdown",
   "metadata": {},
   "source": [
    "Предсказания:\n",
    "\n",
    "$$\n",
    "a = Xw\n",
    "$$\n",
    "\n",
    "Задача обучения:\n",
    "\n",
    "$$\n",
    "w = \\arg\\min_w MSE(Xw, y)\n",
    "$$\n",
    "\n",
    "Формула обучения:\n",
    "\n",
    "$$\n",
    "w = (X^T X)^{-1} X^T y\n",
    "$$"
   ]
  },
  {
   "cell_type": "markdown",
   "metadata": {},
   "source": [
    "**Ответ:** качество линейной регрессии не изменится\n",
    "\n",
    "**Обоснование:**  \n",
    "$ a = Xw $  \n",
    "$ w = (X^T X)^{-1} X^T y $  \n",
    "\n",
    "$$\n",
    "a = yw\n",
    "$$\n",
    "\n",
    "\n",
    "$ a = XPw $  \n",
    "$ w_P = ((XP)^T XP)^{-1} (XP)^T y $  \n",
    "$ w_p = P^{-1} (X^T X)^{-1} (P^T)^{-1} P^T X^T y $  \n",
    "$ w_p = P^{-1} (X^T X)^{-1} X^T y $  \n",
    "\n",
    "\n",
    "\n",
    "$$\n",
    "a = yw\n",
    "$$\n",
    "\n",
    "\n",
    "\n",
    "$$\n",
    "w_p = P^{-1} w\n",
    "$$  \n",
    "$$\n",
    "a_p = a\n",
    "$$"
   ]
  },
  {
   "cell_type": "markdown",
   "metadata": {},
   "source": [
    "## Алгоритм преобразования"
   ]
  },
  {
   "cell_type": "markdown",
   "metadata": {},
   "source": [
    "**Алгоритм**\n",
    "\n",
    "генерируем случайные матрицы со стороной, меньшей у исходных данных до тех пор, пока не выйдет обратимая (тк при умножении на необратимую матрицу пострадает качество модели)  \n",
    "получаем произведение сгенерированной матрицы и исходных данных  \n",
    "обучаем модель\n",
    "генерируем предсказание\n"
   ]
  },
  {
   "cell_type": "code",
   "execution_count": 7,
   "metadata": {},
   "outputs": [],
   "source": [
    "def generate_inv_matrix(siz):\n",
    "    state = np.random.RandomState(12345)\n",
    "    matrix = state.random(size=(siz, siz))\n",
    "    if np.linalg.det(matrix) != 0:\n",
    "            return matrix"
   ]
  },
  {
   "cell_type": "code",
   "execution_count": 8,
   "metadata": {},
   "outputs": [],
   "source": [
    "features = df.drop(['Страховые выплаты'], axis=1)\n",
    "target = df['Страховые выплаты']"
   ]
  },
  {
   "cell_type": "code",
   "execution_count": 9,
   "metadata": {},
   "outputs": [
    {
     "name": "stdout",
     "output_type": "stream",
     "text": [
      "(3750, 4)\n",
      "(1250,)\n",
      "if the latter is 3 times smaller than the former, the division is done correctly\n"
     ]
    }
   ],
   "source": [
    "features_train, features_valid, target_train, target_valid = train_test_split(\n",
    "    features, target, test_size=0.25, random_state=12345)\n",
    "print(features_train.shape)\n",
    "print(target_valid.shape)\n",
    "print('if the latter is 3 times smaller than the former, the division is done correctly')\n"
   ]
  },
  {
   "cell_type": "code",
   "execution_count": 10,
   "metadata": {},
   "outputs": [
    {
     "data": {
      "text/plain": [
       "0.43522757127026546"
      ]
     },
     "execution_count": 10,
     "metadata": {},
     "output_type": "execute_result"
    }
   ],
   "source": [
    "model_orig = LinearRegression()\n",
    "model_orig.fit(features_train, target_train)\n",
    "prediction = model_orig.predict(features_valid)\n",
    "r2 = r2_score(target_valid, prediction)\n",
    "r2 "
   ]
  },
  {
   "cell_type": "code",
   "execution_count": 11,
   "metadata": {},
   "outputs": [],
   "source": [
    "multiplication_matrix = generate_inv_matrix(features_train.shape[1])\n",
    "features_train1 = features_train @ multiplication_matrix\n",
    "features_valid1 = features_valid @ multiplication_matrix"
   ]
  },
  {
   "cell_type": "code",
   "execution_count": 12,
   "metadata": {},
   "outputs": [
    {
     "data": {
      "text/plain": [
       "0.4352275712706788"
      ]
     },
     "execution_count": 12,
     "metadata": {},
     "output_type": "execute_result"
    }
   ],
   "source": [
    "model_inv = LinearRegression()\n",
    "model_inv.fit(features_train1, target_train)\n",
    "prediction = model_inv.predict(features_valid1)\n",
    "r2 = r2_score(target_valid, prediction)\n",
    "r2 "
   ]
  },
  {
   "cell_type": "markdown",
   "metadata": {},
   "source": [
    "## Проверка алгоритма"
   ]
  },
  {
   "cell_type": "code",
   "execution_count": 13,
   "metadata": {},
   "outputs": [
    {
     "data": {
      "text/plain": [
       "0.43522757127026546"
      ]
     },
     "execution_count": 13,
     "metadata": {},
     "output_type": "execute_result"
    }
   ],
   "source": [
    "prediction = model_orig.predict(features_valid)\n",
    "r2 = r2_score(target_valid, prediction)\n",
    "r2 "
   ]
  },
  {
   "cell_type": "code",
   "execution_count": 14,
   "metadata": {},
   "outputs": [
    {
     "data": {
      "text/plain": [
       "0.4352275712706788"
      ]
     },
     "execution_count": 14,
     "metadata": {},
     "output_type": "execute_result"
    }
   ],
   "source": [
    "prediction = model_inv.predict(features_valid1)\n",
    "r2 = r2_score(target_valid, prediction)\n",
    "r2"
   ]
  },
  {
   "cell_type": "code",
   "execution_count": 15,
   "metadata": {},
   "outputs": [
    {
     "data": {
      "text/html": [
       "<div>\n",
       "<style scoped>\n",
       "    .dataframe tbody tr th:only-of-type {\n",
       "        vertical-align: middle;\n",
       "    }\n",
       "\n",
       "    .dataframe tbody tr th {\n",
       "        vertical-align: top;\n",
       "    }\n",
       "\n",
       "    .dataframe thead th {\n",
       "        text-align: right;\n",
       "    }\n",
       "</style>\n",
       "<table border=\"1\" class=\"dataframe\">\n",
       "  <thead>\n",
       "    <tr style=\"text-align: right;\">\n",
       "      <th></th>\n",
       "      <th>Пол</th>\n",
       "      <th>Возраст</th>\n",
       "      <th>Зарплата</th>\n",
       "      <th>Члены семьи</th>\n",
       "    </tr>\n",
       "  </thead>\n",
       "  <tbody>\n",
       "    <tr>\n",
       "      <th>3369</th>\n",
       "      <td>1</td>\n",
       "      <td>43.0</td>\n",
       "      <td>36200.0</td>\n",
       "      <td>1</td>\n",
       "    </tr>\n",
       "    <tr>\n",
       "      <th>1441</th>\n",
       "      <td>1</td>\n",
       "      <td>34.0</td>\n",
       "      <td>57600.0</td>\n",
       "      <td>0</td>\n",
       "    </tr>\n",
       "    <tr>\n",
       "      <th>571</th>\n",
       "      <td>0</td>\n",
       "      <td>32.0</td>\n",
       "      <td>41100.0</td>\n",
       "      <td>1</td>\n",
       "    </tr>\n",
       "    <tr>\n",
       "      <th>225</th>\n",
       "      <td>0</td>\n",
       "      <td>36.0</td>\n",
       "      <td>45100.0</td>\n",
       "      <td>1</td>\n",
       "    </tr>\n",
       "    <tr>\n",
       "      <th>2558</th>\n",
       "      <td>0</td>\n",
       "      <td>33.0</td>\n",
       "      <td>50600.0</td>\n",
       "      <td>2</td>\n",
       "    </tr>\n",
       "    <tr>\n",
       "      <th>...</th>\n",
       "      <td>...</td>\n",
       "      <td>...</td>\n",
       "      <td>...</td>\n",
       "      <td>...</td>\n",
       "    </tr>\n",
       "    <tr>\n",
       "      <th>3497</th>\n",
       "      <td>0</td>\n",
       "      <td>42.0</td>\n",
       "      <td>32100.0</td>\n",
       "      <td>0</td>\n",
       "    </tr>\n",
       "    <tr>\n",
       "      <th>3492</th>\n",
       "      <td>0</td>\n",
       "      <td>28.0</td>\n",
       "      <td>22700.0</td>\n",
       "      <td>4</td>\n",
       "    </tr>\n",
       "    <tr>\n",
       "      <th>2177</th>\n",
       "      <td>1</td>\n",
       "      <td>41.0</td>\n",
       "      <td>44700.0</td>\n",
       "      <td>1</td>\n",
       "    </tr>\n",
       "    <tr>\n",
       "      <th>3557</th>\n",
       "      <td>0</td>\n",
       "      <td>22.0</td>\n",
       "      <td>50100.0</td>\n",
       "      <td>4</td>\n",
       "    </tr>\n",
       "    <tr>\n",
       "      <th>4578</th>\n",
       "      <td>0</td>\n",
       "      <td>19.0</td>\n",
       "      <td>40800.0</td>\n",
       "      <td>0</td>\n",
       "    </tr>\n",
       "  </tbody>\n",
       "</table>\n",
       "<p>3750 rows × 4 columns</p>\n",
       "</div>"
      ],
      "text/plain": [
       "      Пол  Возраст  Зарплата  Члены семьи\n",
       "3369    1     43.0   36200.0            1\n",
       "1441    1     34.0   57600.0            0\n",
       "571     0     32.0   41100.0            1\n",
       "225     0     36.0   45100.0            1\n",
       "2558    0     33.0   50600.0            2\n",
       "...   ...      ...       ...          ...\n",
       "3497    0     42.0   32100.0            0\n",
       "3492    0     28.0   22700.0            4\n",
       "2177    1     41.0   44700.0            1\n",
       "3557    0     22.0   50100.0            4\n",
       "4578    0     19.0   40800.0            0\n",
       "\n",
       "[3750 rows x 4 columns]"
      ]
     },
     "execution_count": 15,
     "metadata": {},
     "output_type": "execute_result"
    }
   ],
   "source": [
    "features_train"
   ]
  },
  {
   "cell_type": "code",
   "execution_count": 23,
   "metadata": {},
   "outputs": [
    {
     "data": {
      "text/plain": [
       "3369   -0.0\n",
       "1441    0.0\n",
       "571    -0.0\n",
       "225     0.0\n",
       "2558    0.0\n",
       "4990    0.0\n",
       "3044    0.0\n",
       "3703   -0.0\n",
       "260     0.0\n",
       "4399   -0.0\n",
       "4628   -0.0\n",
       "3939   -0.0\n",
       "283     0.0\n",
       "4020   -0.0\n",
       "3226    0.0\n",
       "dtype: float64"
      ]
     },
     "execution_count": 23,
     "metadata": {},
     "output_type": "execute_result"
    }
   ],
   "source": [
    "reverse = features_train1 @ np.linalg.inv(multiplication_matrix)\n",
    "round(reverse[0] - features_train['Пол'], 5).head(15)"
   ]
  },
  {
   "cell_type": "code",
   "execution_count": 24,
   "metadata": {},
   "outputs": [
    {
     "data": {
      "text/plain": [
       "3369   -3.849254e-12\n",
       "1441    1.216227e-11\n",
       "571    -9.053519e-12\n",
       "225     5.720367e-12\n",
       "2558    6.816910e-12\n",
       "            ...     \n",
       "3497    1.440139e-12\n",
       "3492   -4.283398e-12\n",
       "2177   -1.146949e-11\n",
       "3557    3.059548e-13\n",
       "4578    2.187879e-12\n",
       "Length: 3750, dtype: float64"
      ]
     },
     "execution_count": 24,
     "metadata": {},
     "output_type": "execute_result"
    }
   ],
   "source": [
    "reverse[0] - features_train['Пол']"
   ]
  },
  {
   "cell_type": "markdown",
   "metadata": {},
   "source": [
    "## Итоги"
   ]
  },
  {
   "cell_type": "markdown",
   "metadata": {},
   "source": [
    "Данные изначально были чистые, готовые  \n",
    "Вроде как математически вывел, что умножение исходных данных на коэффициент на качество предсказания Линейной модели не влияет  \n",
    "Сгенерировал случайную обратимую матрицу, на нее умножил исходные данные, для отмерения результата использовал r2 метрику  \n",
    "По итогу качество метрики r2 между оригинальными данными и зашифрованными не изменилось\n"
   ]
  }
 ],
 "metadata": {
  "ExecuteTimeLog": [
   {
    "duration": 2988,
    "start_time": "2024-06-12T17:37:17.822Z"
   },
   {
    "duration": 2,
    "start_time": "2024-06-12T17:37:20.812Z"
   },
   {
    "duration": 117,
    "start_time": "2024-06-12T17:37:20.815Z"
   },
   {
    "duration": 9,
    "start_time": "2024-06-12T17:37:20.934Z"
   },
   {
    "duration": 31,
    "start_time": "2024-06-12T17:37:20.944Z"
   },
   {
    "duration": 8,
    "start_time": "2024-06-12T17:37:20.976Z"
   },
   {
    "duration": 3,
    "start_time": "2024-06-12T17:37:20.985Z"
   },
   {
    "duration": 7,
    "start_time": "2024-06-12T17:37:20.989Z"
   },
   {
    "duration": 32,
    "start_time": "2024-06-12T17:37:20.997Z"
   },
   {
    "duration": 127,
    "start_time": "2024-06-12T17:37:21.031Z"
   },
   {
    "duration": 8,
    "start_time": "2024-06-12T17:37:21.159Z"
   },
   {
    "duration": 32,
    "start_time": "2024-06-12T17:37:21.169Z"
   },
   {
    "duration": 20,
    "start_time": "2024-06-12T17:37:21.202Z"
   },
   {
    "duration": 92,
    "start_time": "2024-06-12T17:37:21.223Z"
   },
   {
    "duration": 5,
    "start_time": "2024-06-12T17:37:21.316Z"
   },
   {
    "duration": 6,
    "start_time": "2024-06-12T17:37:21.322Z"
   },
   {
    "duration": 51,
    "start_time": "2024-06-12T18:45:02.436Z"
   },
   {
    "duration": 1625,
    "start_time": "2024-06-12T18:45:07.233Z"
   },
   {
    "duration": 3,
    "start_time": "2024-06-12T18:45:08.860Z"
   },
   {
    "duration": 112,
    "start_time": "2024-06-12T18:45:08.864Z"
   },
   {
    "duration": 14,
    "start_time": "2024-06-12T18:45:08.978Z"
   },
   {
    "duration": 15,
    "start_time": "2024-06-12T18:45:08.994Z"
   },
   {
    "duration": 16,
    "start_time": "2024-06-12T18:45:09.011Z"
   },
   {
    "duration": 4,
    "start_time": "2024-06-12T18:45:09.028Z"
   },
   {
    "duration": 13,
    "start_time": "2024-06-12T18:45:09.034Z"
   },
   {
    "duration": 8,
    "start_time": "2024-06-12T18:45:09.049Z"
   },
   {
    "duration": 204,
    "start_time": "2024-06-12T18:45:09.059Z"
   },
   {
    "duration": 12,
    "start_time": "2024-06-12T18:45:09.264Z"
   },
   {
    "duration": 18,
    "start_time": "2024-06-12T18:45:09.277Z"
   },
   {
    "duration": 7,
    "start_time": "2024-06-12T18:45:09.296Z"
   },
   {
    "duration": 138,
    "start_time": "2024-06-12T18:45:09.304Z"
   },
   {
    "duration": 8,
    "start_time": "2024-06-12T18:45:09.443Z"
   },
   {
    "duration": 8,
    "start_time": "2024-06-12T18:45:09.453Z"
   },
   {
    "duration": 196,
    "start_time": "2024-06-12T18:47:44.743Z"
   },
   {
    "duration": 201,
    "start_time": "2024-06-12T18:47:50.950Z"
   },
   {
    "duration": 203,
    "start_time": "2024-06-12T18:47:55.975Z"
   },
   {
    "duration": 194,
    "start_time": "2024-06-12T18:48:06.014Z"
   },
   {
    "duration": 201,
    "start_time": "2024-06-12T18:48:24.271Z"
   },
   {
    "duration": 191,
    "start_time": "2024-06-12T18:51:22.749Z"
   },
   {
    "duration": 210,
    "start_time": "2024-06-12T18:51:25.818Z"
   },
   {
    "duration": 1414,
    "start_time": "2024-06-12T20:03:47.453Z"
   },
   {
    "duration": 2,
    "start_time": "2024-06-12T20:03:48.869Z"
   },
   {
    "duration": 36,
    "start_time": "2024-06-12T20:03:48.873Z"
   },
   {
    "duration": 104,
    "start_time": "2024-06-12T20:03:48.911Z"
   },
   {
    "duration": 0,
    "start_time": "2024-06-12T20:03:49.018Z"
   },
   {
    "duration": 0,
    "start_time": "2024-06-12T20:03:49.019Z"
   },
   {
    "duration": 0,
    "start_time": "2024-06-12T20:03:49.021Z"
   },
   {
    "duration": 0,
    "start_time": "2024-06-12T20:03:49.022Z"
   },
   {
    "duration": 0,
    "start_time": "2024-06-12T20:03:49.024Z"
   },
   {
    "duration": 0,
    "start_time": "2024-06-12T20:03:49.025Z"
   },
   {
    "duration": 0,
    "start_time": "2024-06-12T20:03:49.027Z"
   },
   {
    "duration": 0,
    "start_time": "2024-06-12T20:03:49.028Z"
   },
   {
    "duration": 0,
    "start_time": "2024-06-12T20:03:49.029Z"
   },
   {
    "duration": 0,
    "start_time": "2024-06-12T20:03:49.031Z"
   },
   {
    "duration": 0,
    "start_time": "2024-06-12T20:03:49.033Z"
   },
   {
    "duration": 0,
    "start_time": "2024-06-12T20:03:49.034Z"
   },
   {
    "duration": 0,
    "start_time": "2024-06-12T20:03:49.036Z"
   },
   {
    "duration": 1357,
    "start_time": "2024-06-12T20:04:19.149Z"
   },
   {
    "duration": 3,
    "start_time": "2024-06-12T20:04:20.508Z"
   },
   {
    "duration": 45,
    "start_time": "2024-06-12T20:04:20.513Z"
   },
   {
    "duration": 8,
    "start_time": "2024-06-12T20:04:20.560Z"
   },
   {
    "duration": 235,
    "start_time": "2024-06-12T20:04:20.570Z"
   },
   {
    "duration": 0,
    "start_time": "2024-06-12T20:04:20.807Z"
   },
   {
    "duration": 0,
    "start_time": "2024-06-12T20:04:20.808Z"
   },
   {
    "duration": 0,
    "start_time": "2024-06-12T20:04:20.809Z"
   },
   {
    "duration": 0,
    "start_time": "2024-06-12T20:04:20.810Z"
   },
   {
    "duration": 0,
    "start_time": "2024-06-12T20:04:20.811Z"
   },
   {
    "duration": 0,
    "start_time": "2024-06-12T20:04:20.812Z"
   },
   {
    "duration": 0,
    "start_time": "2024-06-12T20:04:20.814Z"
   },
   {
    "duration": 0,
    "start_time": "2024-06-12T20:04:20.815Z"
   },
   {
    "duration": 0,
    "start_time": "2024-06-12T20:04:20.816Z"
   },
   {
    "duration": 0,
    "start_time": "2024-06-12T20:04:20.817Z"
   },
   {
    "duration": 0,
    "start_time": "2024-06-12T20:04:20.818Z"
   },
   {
    "duration": 0,
    "start_time": "2024-06-12T20:04:20.819Z"
   },
   {
    "duration": 1411,
    "start_time": "2024-06-12T20:05:01.334Z"
   },
   {
    "duration": 3,
    "start_time": "2024-06-12T20:05:02.747Z"
   },
   {
    "duration": 47,
    "start_time": "2024-06-12T20:05:02.751Z"
   },
   {
    "duration": 13,
    "start_time": "2024-06-12T20:05:02.800Z"
   },
   {
    "duration": 21,
    "start_time": "2024-06-12T20:05:02.815Z"
   },
   {
    "duration": 17,
    "start_time": "2024-06-12T20:05:02.838Z"
   },
   {
    "duration": 16,
    "start_time": "2024-06-12T20:05:02.857Z"
   },
   {
    "duration": 25,
    "start_time": "2024-06-12T20:05:02.874Z"
   },
   {
    "duration": 11,
    "start_time": "2024-06-12T20:05:02.901Z"
   },
   {
    "duration": 196,
    "start_time": "2024-06-12T20:05:02.914Z"
   },
   {
    "duration": 12,
    "start_time": "2024-06-12T20:05:03.112Z"
   },
   {
    "duration": 6,
    "start_time": "2024-06-12T20:05:03.127Z"
   },
   {
    "duration": 8,
    "start_time": "2024-06-12T20:05:03.134Z"
   },
   {
    "duration": 190,
    "start_time": "2024-06-12T20:05:03.144Z"
   },
   {
    "duration": 8,
    "start_time": "2024-06-12T20:05:03.336Z"
   },
   {
    "duration": 8,
    "start_time": "2024-06-12T20:05:03.346Z"
   },
   {
    "duration": 1421,
    "start_time": "2024-06-12T21:39:24.695Z"
   },
   {
    "duration": 3,
    "start_time": "2024-06-12T21:39:26.118Z"
   },
   {
    "duration": 40,
    "start_time": "2024-06-12T21:39:26.123Z"
   },
   {
    "duration": 13,
    "start_time": "2024-06-12T21:39:26.165Z"
   },
   {
    "duration": 22,
    "start_time": "2024-06-12T21:39:26.179Z"
   },
   {
    "duration": 10,
    "start_time": "2024-06-12T21:39:26.202Z"
   },
   {
    "duration": 4,
    "start_time": "2024-06-12T21:39:26.213Z"
   },
   {
    "duration": 8,
    "start_time": "2024-06-12T21:39:26.218Z"
   },
   {
    "duration": 16,
    "start_time": "2024-06-12T21:39:26.227Z"
   },
   {
    "duration": 207,
    "start_time": "2024-06-12T21:39:26.245Z"
   },
   {
    "duration": 13,
    "start_time": "2024-06-12T21:39:26.453Z"
   },
   {
    "duration": 19,
    "start_time": "2024-06-12T21:39:26.468Z"
   },
   {
    "duration": 22,
    "start_time": "2024-06-12T21:39:26.489Z"
   },
   {
    "duration": 161,
    "start_time": "2024-06-12T21:39:26.513Z"
   },
   {
    "duration": 7,
    "start_time": "2024-06-12T21:39:26.676Z"
   },
   {
    "duration": 15,
    "start_time": "2024-06-12T21:39:26.685Z"
   },
   {
    "duration": 3,
    "start_time": "2024-06-12T21:41:05.579Z"
   },
   {
    "duration": 3,
    "start_time": "2024-06-12T21:41:10.411Z"
   },
   {
    "duration": 1488,
    "start_time": "2024-06-12T21:42:20.991Z"
   },
   {
    "duration": 3,
    "start_time": "2024-06-12T21:42:22.480Z"
   },
   {
    "duration": 34,
    "start_time": "2024-06-12T21:42:22.485Z"
   },
   {
    "duration": 14,
    "start_time": "2024-06-12T21:42:22.521Z"
   },
   {
    "duration": 27,
    "start_time": "2024-06-12T21:42:22.537Z"
   },
   {
    "duration": 49,
    "start_time": "2024-06-12T21:42:22.566Z"
   },
   {
    "duration": 3,
    "start_time": "2024-06-12T21:42:22.618Z"
   },
   {
    "duration": 8,
    "start_time": "2024-06-12T21:42:22.623Z"
   },
   {
    "duration": 12,
    "start_time": "2024-06-12T21:42:22.632Z"
   },
   {
    "duration": 28,
    "start_time": "2024-06-12T21:42:22.646Z"
   },
   {
    "duration": 176,
    "start_time": "2024-06-12T21:42:22.676Z"
   },
   {
    "duration": 3,
    "start_time": "2024-06-12T21:42:22.854Z"
   },
   {
    "duration": 18,
    "start_time": "2024-06-12T21:42:22.859Z"
   },
   {
    "duration": 6,
    "start_time": "2024-06-12T21:42:22.892Z"
   },
   {
    "duration": 16,
    "start_time": "2024-06-12T21:42:22.900Z"
   },
   {
    "duration": 13,
    "start_time": "2024-06-12T21:42:22.918Z"
   },
   {
    "duration": 144,
    "start_time": "2024-06-12T21:42:22.932Z"
   },
   {
    "duration": 5,
    "start_time": "2024-06-12T21:42:23.077Z"
   },
   {
    "duration": 23,
    "start_time": "2024-06-12T21:42:23.084Z"
   },
   {
    "duration": 7,
    "start_time": "2024-06-12T21:42:36.612Z"
   },
   {
    "duration": 1352,
    "start_time": "2024-06-12T21:43:05.099Z"
   },
   {
    "duration": 2,
    "start_time": "2024-06-12T21:43:06.453Z"
   },
   {
    "duration": 33,
    "start_time": "2024-06-12T21:43:06.457Z"
   },
   {
    "duration": 12,
    "start_time": "2024-06-12T21:43:06.492Z"
   },
   {
    "duration": 23,
    "start_time": "2024-06-12T21:43:06.506Z"
   },
   {
    "duration": 10,
    "start_time": "2024-06-12T21:43:06.531Z"
   },
   {
    "duration": 3,
    "start_time": "2024-06-12T21:43:06.543Z"
   },
   {
    "duration": 7,
    "start_time": "2024-06-12T21:43:06.547Z"
   },
   {
    "duration": 32,
    "start_time": "2024-06-12T21:43:06.555Z"
   },
   {
    "duration": 102,
    "start_time": "2024-06-12T21:43:06.590Z"
   },
   {
    "duration": 0,
    "start_time": "2024-06-12T21:43:06.694Z"
   },
   {
    "duration": 0,
    "start_time": "2024-06-12T21:43:06.695Z"
   },
   {
    "duration": 0,
    "start_time": "2024-06-12T21:43:06.696Z"
   },
   {
    "duration": 0,
    "start_time": "2024-06-12T21:43:06.697Z"
   },
   {
    "duration": 0,
    "start_time": "2024-06-12T21:43:06.698Z"
   },
   {
    "duration": 0,
    "start_time": "2024-06-12T21:43:06.700Z"
   },
   {
    "duration": 0,
    "start_time": "2024-06-12T21:43:06.701Z"
   },
   {
    "duration": 0,
    "start_time": "2024-06-12T21:43:06.702Z"
   },
   {
    "duration": 0,
    "start_time": "2024-06-12T21:43:06.703Z"
   },
   {
    "duration": 1400,
    "start_time": "2024-06-12T21:43:18.309Z"
   },
   {
    "duration": 4,
    "start_time": "2024-06-12T21:43:19.711Z"
   },
   {
    "duration": 33,
    "start_time": "2024-06-12T21:43:19.717Z"
   },
   {
    "duration": 15,
    "start_time": "2024-06-12T21:43:19.752Z"
   },
   {
    "duration": 13,
    "start_time": "2024-06-12T21:43:19.770Z"
   },
   {
    "duration": 56,
    "start_time": "2024-06-12T21:43:19.785Z"
   },
   {
    "duration": 15,
    "start_time": "2024-06-12T21:43:19.843Z"
   },
   {
    "duration": 8,
    "start_time": "2024-06-12T21:43:19.862Z"
   },
   {
    "duration": 13,
    "start_time": "2024-06-12T21:43:19.872Z"
   },
   {
    "duration": 18,
    "start_time": "2024-06-12T21:43:19.887Z"
   },
   {
    "duration": 153,
    "start_time": "2024-06-12T21:43:19.908Z"
   },
   {
    "duration": 3,
    "start_time": "2024-06-12T21:43:20.063Z"
   },
   {
    "duration": 44,
    "start_time": "2024-06-12T21:43:20.067Z"
   },
   {
    "duration": 19,
    "start_time": "2024-06-12T21:43:20.114Z"
   },
   {
    "duration": 12,
    "start_time": "2024-06-12T21:43:20.135Z"
   },
   {
    "duration": 28,
    "start_time": "2024-06-12T21:43:20.149Z"
   },
   {
    "duration": 132,
    "start_time": "2024-06-12T21:43:20.179Z"
   },
   {
    "duration": 5,
    "start_time": "2024-06-12T21:43:20.313Z"
   },
   {
    "duration": 21,
    "start_time": "2024-06-12T21:43:20.319Z"
   },
   {
    "duration": 6,
    "start_time": "2024-06-12T21:51:00.185Z"
   },
   {
    "duration": 7,
    "start_time": "2024-06-12T21:51:05.143Z"
   },
   {
    "duration": 1370,
    "start_time": "2024-06-12T21:59:22.861Z"
   },
   {
    "duration": 2,
    "start_time": "2024-06-12T21:59:24.233Z"
   },
   {
    "duration": 36,
    "start_time": "2024-06-12T21:59:24.237Z"
   },
   {
    "duration": 16,
    "start_time": "2024-06-12T21:59:24.275Z"
   },
   {
    "duration": 16,
    "start_time": "2024-06-12T21:59:24.293Z"
   },
   {
    "duration": 19,
    "start_time": "2024-06-12T21:59:24.311Z"
   },
   {
    "duration": 4,
    "start_time": "2024-06-12T21:59:24.332Z"
   },
   {
    "duration": 5,
    "start_time": "2024-06-12T21:59:24.337Z"
   },
   {
    "duration": 27,
    "start_time": "2024-06-12T21:59:24.344Z"
   },
   {
    "duration": 22,
    "start_time": "2024-06-12T21:59:24.373Z"
   },
   {
    "duration": 171,
    "start_time": "2024-06-12T21:59:24.396Z"
   },
   {
    "duration": 3,
    "start_time": "2024-06-12T21:59:24.569Z"
   },
   {
    "duration": 32,
    "start_time": "2024-06-12T21:59:24.574Z"
   },
   {
    "duration": 4,
    "start_time": "2024-06-12T21:59:24.608Z"
   },
   {
    "duration": 9,
    "start_time": "2024-06-12T21:59:24.613Z"
   },
   {
    "duration": 11,
    "start_time": "2024-06-12T21:59:24.624Z"
   },
   {
    "duration": 181,
    "start_time": "2024-06-12T21:59:24.637Z"
   },
   {
    "duration": 5,
    "start_time": "2024-06-12T21:59:24.820Z"
   },
   {
    "duration": 9,
    "start_time": "2024-06-12T21:59:24.827Z"
   },
   {
    "duration": 1370,
    "start_time": "2024-06-12T22:01:28.279Z"
   },
   {
    "duration": 3,
    "start_time": "2024-06-12T22:01:29.650Z"
   },
   {
    "duration": 42,
    "start_time": "2024-06-12T22:01:29.654Z"
   },
   {
    "duration": 12,
    "start_time": "2024-06-12T22:01:29.698Z"
   },
   {
    "duration": 18,
    "start_time": "2024-06-12T22:01:29.712Z"
   },
   {
    "duration": 11,
    "start_time": "2024-06-12T22:01:29.731Z"
   },
   {
    "duration": 9,
    "start_time": "2024-06-12T22:01:29.743Z"
   },
   {
    "duration": 5,
    "start_time": "2024-06-12T22:01:29.754Z"
   },
   {
    "duration": 8,
    "start_time": "2024-06-12T22:01:29.761Z"
   },
   {
    "duration": 39,
    "start_time": "2024-06-12T22:01:29.794Z"
   },
   {
    "duration": 168,
    "start_time": "2024-06-12T22:01:29.835Z"
   },
   {
    "duration": 4,
    "start_time": "2024-06-12T22:01:30.005Z"
   },
   {
    "duration": 87,
    "start_time": "2024-06-12T22:01:30.011Z"
   },
   {
    "duration": 13,
    "start_time": "2024-06-12T22:01:30.100Z"
   },
   {
    "duration": 73,
    "start_time": "2024-06-12T22:01:30.116Z"
   },
   {
    "duration": 70,
    "start_time": "2024-06-12T22:01:30.191Z"
   },
   {
    "duration": 453,
    "start_time": "2024-06-12T22:01:30.263Z"
   },
   {
    "duration": 182,
    "start_time": "2024-06-12T22:01:30.719Z"
   },
   {
    "duration": 58,
    "start_time": "2024-06-12T22:01:30.904Z"
   },
   {
    "duration": 34,
    "start_time": "2024-06-12T22:02:04.154Z"
   },
   {
    "duration": 4,
    "start_time": "2024-06-12T22:02:11.725Z"
   },
   {
    "duration": 3,
    "start_time": "2024-06-12T22:02:21.345Z"
   },
   {
    "duration": 2,
    "start_time": "2024-06-12T22:02:28.515Z"
   },
   {
    "duration": 1504,
    "start_time": "2024-06-12T22:14:20.176Z"
   },
   {
    "duration": 2,
    "start_time": "2024-06-12T22:14:21.682Z"
   },
   {
    "duration": 114,
    "start_time": "2024-06-12T22:14:21.688Z"
   },
   {
    "duration": 18,
    "start_time": "2024-06-12T22:14:21.805Z"
   },
   {
    "duration": 14,
    "start_time": "2024-06-12T22:14:21.825Z"
   },
   {
    "duration": 13,
    "start_time": "2024-06-12T22:14:21.841Z"
   },
   {
    "duration": 3,
    "start_time": "2024-06-12T22:14:21.856Z"
   },
   {
    "duration": 6,
    "start_time": "2024-06-12T22:14:21.860Z"
   },
   {
    "duration": 23,
    "start_time": "2024-06-12T22:14:21.869Z"
   },
   {
    "duration": 11,
    "start_time": "2024-06-12T22:14:21.893Z"
   },
   {
    "duration": 167,
    "start_time": "2024-06-12T22:14:21.906Z"
   },
   {
    "duration": 3,
    "start_time": "2024-06-12T22:14:22.075Z"
   },
   {
    "duration": 13,
    "start_time": "2024-06-12T22:14:22.091Z"
   },
   {
    "duration": 5,
    "start_time": "2024-06-12T22:14:22.106Z"
   },
   {
    "duration": 7,
    "start_time": "2024-06-12T22:14:22.113Z"
   },
   {
    "duration": 9,
    "start_time": "2024-06-12T22:14:22.122Z"
   },
   {
    "duration": 129,
    "start_time": "2024-06-12T22:14:22.133Z"
   },
   {
    "duration": 4,
    "start_time": "2024-06-12T22:14:22.264Z"
   },
   {
    "duration": 6,
    "start_time": "2024-06-12T22:14:22.270Z"
   },
   {
    "duration": 3587,
    "start_time": "2024-06-13T04:33:23.745Z"
   },
   {
    "duration": 3,
    "start_time": "2024-06-13T04:33:27.333Z"
   },
   {
    "duration": 120,
    "start_time": "2024-06-13T04:33:27.337Z"
   },
   {
    "duration": 12,
    "start_time": "2024-06-13T04:33:27.459Z"
   },
   {
    "duration": 22,
    "start_time": "2024-06-13T04:33:27.473Z"
   },
   {
    "duration": 16,
    "start_time": "2024-06-13T04:33:27.497Z"
   },
   {
    "duration": 3,
    "start_time": "2024-06-13T04:33:27.515Z"
   },
   {
    "duration": 16,
    "start_time": "2024-06-13T04:33:27.519Z"
   },
   {
    "duration": 29,
    "start_time": "2024-06-13T04:33:27.537Z"
   },
   {
    "duration": 28,
    "start_time": "2024-06-13T04:33:27.568Z"
   },
   {
    "duration": 147,
    "start_time": "2024-06-13T04:33:27.598Z"
   },
   {
    "duration": 8,
    "start_time": "2024-06-13T04:33:27.747Z"
   },
   {
    "duration": 18,
    "start_time": "2024-06-13T04:33:27.757Z"
   },
   {
    "duration": 2,
    "start_time": "2024-06-13T04:33:27.777Z"
   },
   {
    "duration": 7,
    "start_time": "2024-06-13T04:33:27.781Z"
   },
   {
    "duration": 10,
    "start_time": "2024-06-13T04:33:27.790Z"
   },
   {
    "duration": 174,
    "start_time": "2024-06-13T04:33:27.801Z"
   },
   {
    "duration": 6,
    "start_time": "2024-06-13T04:33:27.976Z"
   },
   {
    "duration": 13,
    "start_time": "2024-06-13T04:33:27.983Z"
   },
   {
    "duration": 5,
    "start_time": "2024-06-13T04:33:45.451Z"
   },
   {
    "duration": 4,
    "start_time": "2024-06-13T04:33:54.538Z"
   },
   {
    "duration": 13,
    "start_time": "2024-06-13T04:34:08.906Z"
   },
   {
    "duration": 13,
    "start_time": "2024-06-13T04:34:17.826Z"
   },
   {
    "duration": 1373,
    "start_time": "2024-06-14T14:17:32.600Z"
   },
   {
    "duration": 2,
    "start_time": "2024-06-14T14:17:33.975Z"
   },
   {
    "duration": 110,
    "start_time": "2024-06-14T14:17:33.979Z"
   },
   {
    "duration": 11,
    "start_time": "2024-06-14T14:17:34.091Z"
   },
   {
    "duration": 16,
    "start_time": "2024-06-14T14:17:34.103Z"
   },
   {
    "duration": 8,
    "start_time": "2024-06-14T14:17:34.120Z"
   },
   {
    "duration": 7,
    "start_time": "2024-06-14T14:17:34.129Z"
   },
   {
    "duration": 6,
    "start_time": "2024-06-14T14:17:34.137Z"
   },
   {
    "duration": 7,
    "start_time": "2024-06-14T14:17:34.144Z"
   },
   {
    "duration": 10,
    "start_time": "2024-06-14T14:17:34.153Z"
   },
   {
    "duration": 110,
    "start_time": "2024-06-14T14:17:34.165Z"
   },
   {
    "duration": 2,
    "start_time": "2024-06-14T14:17:34.277Z"
   },
   {
    "duration": 20,
    "start_time": "2024-06-14T14:17:34.280Z"
   },
   {
    "duration": 9,
    "start_time": "2024-06-14T14:17:34.302Z"
   },
   {
    "duration": 10,
    "start_time": "2024-06-14T14:17:34.312Z"
   },
   {
    "duration": 17,
    "start_time": "2024-06-14T14:17:34.323Z"
   },
   {
    "duration": 108,
    "start_time": "2024-06-14T14:17:34.341Z"
   },
   {
    "duration": 4,
    "start_time": "2024-06-14T14:17:34.450Z"
   },
   {
    "duration": 5,
    "start_time": "2024-06-14T14:17:34.456Z"
   },
   {
    "duration": 1318,
    "start_time": "2024-06-14T14:17:41.562Z"
   },
   {
    "duration": 2,
    "start_time": "2024-06-14T14:17:42.881Z"
   },
   {
    "duration": 34,
    "start_time": "2024-06-14T14:17:42.887Z"
   },
   {
    "duration": 11,
    "start_time": "2024-06-14T14:17:42.922Z"
   },
   {
    "duration": 22,
    "start_time": "2024-06-14T14:17:42.934Z"
   },
   {
    "duration": 31,
    "start_time": "2024-06-14T14:17:42.957Z"
   },
   {
    "duration": 13,
    "start_time": "2024-06-14T14:17:42.990Z"
   },
   {
    "duration": 28,
    "start_time": "2024-06-14T14:17:43.004Z"
   },
   {
    "duration": 28,
    "start_time": "2024-06-14T14:17:43.034Z"
   },
   {
    "duration": 18,
    "start_time": "2024-06-14T14:17:43.063Z"
   },
   {
    "duration": 109,
    "start_time": "2024-06-14T14:17:43.082Z"
   },
   {
    "duration": 3,
    "start_time": "2024-06-14T14:17:43.192Z"
   },
   {
    "duration": 31,
    "start_time": "2024-06-14T14:17:43.196Z"
   },
   {
    "duration": 22,
    "start_time": "2024-06-14T14:17:43.229Z"
   },
   {
    "duration": 36,
    "start_time": "2024-06-14T14:17:43.253Z"
   },
   {
    "duration": 13,
    "start_time": "2024-06-14T14:17:43.290Z"
   },
   {
    "duration": 145,
    "start_time": "2024-06-14T14:17:43.304Z"
   },
   {
    "duration": 4,
    "start_time": "2024-06-14T14:17:43.450Z"
   },
   {
    "duration": 24,
    "start_time": "2024-06-14T14:17:43.456Z"
   },
   {
    "duration": 3,
    "start_time": "2024-06-14T14:19:05.813Z"
   },
   {
    "duration": 1187,
    "start_time": "2024-06-14T14:19:08.787Z"
   },
   {
    "duration": 2,
    "start_time": "2024-06-14T14:19:09.976Z"
   },
   {
    "duration": 55,
    "start_time": "2024-06-14T14:19:09.979Z"
   },
   {
    "duration": 11,
    "start_time": "2024-06-14T14:19:10.036Z"
   },
   {
    "duration": 19,
    "start_time": "2024-06-14T14:19:10.048Z"
   },
   {
    "duration": 15,
    "start_time": "2024-06-14T14:19:10.068Z"
   },
   {
    "duration": 9,
    "start_time": "2024-06-14T14:19:10.085Z"
   },
   {
    "duration": 30,
    "start_time": "2024-06-14T14:19:10.095Z"
   },
   {
    "duration": 28,
    "start_time": "2024-06-14T14:19:10.127Z"
   },
   {
    "duration": 24,
    "start_time": "2024-06-14T14:19:10.156Z"
   },
   {
    "duration": 117,
    "start_time": "2024-06-14T14:19:10.182Z"
   },
   {
    "duration": 2,
    "start_time": "2024-06-14T14:19:10.300Z"
   },
   {
    "duration": 16,
    "start_time": "2024-06-14T14:19:10.304Z"
   },
   {
    "duration": 19,
    "start_time": "2024-06-14T14:19:10.321Z"
   },
   {
    "duration": 15,
    "start_time": "2024-06-14T14:19:10.341Z"
   },
   {
    "duration": 26,
    "start_time": "2024-06-14T14:19:10.357Z"
   },
   {
    "duration": 116,
    "start_time": "2024-06-14T14:19:10.385Z"
   },
   {
    "duration": 4,
    "start_time": "2024-06-14T14:19:10.502Z"
   },
   {
    "duration": 23,
    "start_time": "2024-06-14T14:19:10.507Z"
   },
   {
    "duration": 1135,
    "start_time": "2024-06-14T14:19:15.007Z"
   },
   {
    "duration": 2,
    "start_time": "2024-06-14T14:19:16.144Z"
   },
   {
    "duration": 30,
    "start_time": "2024-06-14T14:19:16.147Z"
   },
   {
    "duration": 10,
    "start_time": "2024-06-14T14:19:16.179Z"
   },
   {
    "duration": 14,
    "start_time": "2024-06-14T14:19:16.190Z"
   },
   {
    "duration": 8,
    "start_time": "2024-06-14T14:19:16.205Z"
   },
   {
    "duration": 3,
    "start_time": "2024-06-14T14:19:16.214Z"
   },
   {
    "duration": 4,
    "start_time": "2024-06-14T14:19:16.218Z"
   },
   {
    "duration": 5,
    "start_time": "2024-06-14T14:19:16.223Z"
   },
   {
    "duration": 8,
    "start_time": "2024-06-14T14:19:16.230Z"
   },
   {
    "duration": 114,
    "start_time": "2024-06-14T14:19:16.239Z"
   },
   {
    "duration": 2,
    "start_time": "2024-06-14T14:19:16.354Z"
   },
   {
    "duration": 12,
    "start_time": "2024-06-14T14:19:16.358Z"
   },
   {
    "duration": 13,
    "start_time": "2024-06-14T14:19:16.371Z"
   },
   {
    "duration": 6,
    "start_time": "2024-06-14T14:19:16.386Z"
   },
   {
    "duration": 8,
    "start_time": "2024-06-14T14:19:16.393Z"
   },
   {
    "duration": 109,
    "start_time": "2024-06-14T14:19:16.402Z"
   },
   {
    "duration": 5,
    "start_time": "2024-06-14T14:19:16.512Z"
   },
   {
    "duration": 4,
    "start_time": "2024-06-14T14:19:16.518Z"
   },
   {
    "duration": 1161,
    "start_time": "2024-06-14T14:22:28.671Z"
   },
   {
    "duration": 2,
    "start_time": "2024-06-14T14:22:29.833Z"
   },
   {
    "duration": 30,
    "start_time": "2024-06-14T14:22:29.837Z"
   },
   {
    "duration": 12,
    "start_time": "2024-06-14T14:22:29.869Z"
   },
   {
    "duration": 11,
    "start_time": "2024-06-14T14:22:29.884Z"
   },
   {
    "duration": 8,
    "start_time": "2024-06-14T14:22:29.897Z"
   },
   {
    "duration": 2,
    "start_time": "2024-06-14T14:22:29.907Z"
   },
   {
    "duration": 4,
    "start_time": "2024-06-14T14:22:29.910Z"
   },
   {
    "duration": 5,
    "start_time": "2024-06-14T14:22:29.915Z"
   },
   {
    "duration": 9,
    "start_time": "2024-06-14T14:22:29.921Z"
   },
   {
    "duration": 127,
    "start_time": "2024-06-14T14:22:29.932Z"
   },
   {
    "duration": 2,
    "start_time": "2024-06-14T14:22:30.060Z"
   },
   {
    "duration": 21,
    "start_time": "2024-06-14T14:22:30.064Z"
   },
   {
    "duration": 16,
    "start_time": "2024-06-14T14:22:30.087Z"
   },
   {
    "duration": 35,
    "start_time": "2024-06-14T14:22:30.105Z"
   },
   {
    "duration": 49,
    "start_time": "2024-06-14T14:22:30.141Z"
   },
   {
    "duration": 127,
    "start_time": "2024-06-14T14:22:30.192Z"
   },
   {
    "duration": 0,
    "start_time": "2024-06-14T14:22:30.321Z"
   },
   {
    "duration": 0,
    "start_time": "2024-06-14T14:22:30.322Z"
   },
   {
    "duration": 0,
    "start_time": "2024-06-14T14:22:30.323Z"
   },
   {
    "duration": 1206,
    "start_time": "2024-06-14T14:23:04.876Z"
   },
   {
    "duration": 2,
    "start_time": "2024-06-14T14:23:06.084Z"
   },
   {
    "duration": 30,
    "start_time": "2024-06-14T14:23:06.090Z"
   },
   {
    "duration": 10,
    "start_time": "2024-06-14T14:23:06.121Z"
   },
   {
    "duration": 19,
    "start_time": "2024-06-14T14:23:06.132Z"
   },
   {
    "duration": 27,
    "start_time": "2024-06-14T14:23:06.153Z"
   },
   {
    "duration": 3,
    "start_time": "2024-06-14T14:23:06.181Z"
   },
   {
    "duration": 7,
    "start_time": "2024-06-14T14:23:06.185Z"
   },
   {
    "duration": 13,
    "start_time": "2024-06-14T14:23:06.194Z"
   },
   {
    "duration": 14,
    "start_time": "2024-06-14T14:23:06.208Z"
   },
   {
    "duration": 93,
    "start_time": "2024-06-14T14:23:06.223Z"
   },
   {
    "duration": 2,
    "start_time": "2024-06-14T14:23:06.317Z"
   },
   {
    "duration": 15,
    "start_time": "2024-06-14T14:23:06.321Z"
   },
   {
    "duration": 26,
    "start_time": "2024-06-14T14:23:06.337Z"
   },
   {
    "duration": 24,
    "start_time": "2024-06-14T14:23:06.364Z"
   },
   {
    "duration": 3,
    "start_time": "2024-06-14T14:23:06.389Z"
   },
   {
    "duration": 22,
    "start_time": "2024-06-14T14:23:06.393Z"
   },
   {
    "duration": 66,
    "start_time": "2024-06-14T14:23:06.416Z"
   },
   {
    "duration": 4,
    "start_time": "2024-06-14T14:23:06.483Z"
   },
   {
    "duration": 5,
    "start_time": "2024-06-14T14:23:06.488Z"
   },
   {
    "duration": 1156,
    "start_time": "2024-06-14T14:30:38.176Z"
   },
   {
    "duration": 2,
    "start_time": "2024-06-14T14:30:39.333Z"
   },
   {
    "duration": 27,
    "start_time": "2024-06-14T14:30:39.337Z"
   },
   {
    "duration": 10,
    "start_time": "2024-06-14T14:30:39.365Z"
   },
   {
    "duration": 11,
    "start_time": "2024-06-14T14:30:39.376Z"
   },
   {
    "duration": 7,
    "start_time": "2024-06-14T14:30:39.388Z"
   },
   {
    "duration": 3,
    "start_time": "2024-06-14T14:30:39.396Z"
   },
   {
    "duration": 4,
    "start_time": "2024-06-14T14:30:39.400Z"
   },
   {
    "duration": 6,
    "start_time": "2024-06-14T14:30:39.405Z"
   },
   {
    "duration": 9,
    "start_time": "2024-06-14T14:30:39.412Z"
   },
   {
    "duration": 126,
    "start_time": "2024-06-14T14:30:39.422Z"
   },
   {
    "duration": 3,
    "start_time": "2024-06-14T14:30:39.550Z"
   },
   {
    "duration": 31,
    "start_time": "2024-06-14T14:30:39.554Z"
   },
   {
    "duration": 2,
    "start_time": "2024-06-14T14:30:39.587Z"
   },
   {
    "duration": 7,
    "start_time": "2024-06-14T14:30:39.591Z"
   },
   {
    "duration": 14,
    "start_time": "2024-06-14T14:30:39.600Z"
   },
   {
    "duration": 8,
    "start_time": "2024-06-14T14:30:39.616Z"
   },
   {
    "duration": 80,
    "start_time": "2024-06-14T14:30:39.625Z"
   },
   {
    "duration": 5,
    "start_time": "2024-06-14T14:30:39.706Z"
   },
   {
    "duration": 29,
    "start_time": "2024-06-14T14:30:39.712Z"
   },
   {
    "duration": 1122,
    "start_time": "2024-06-14T14:30:55.256Z"
   },
   {
    "duration": 2,
    "start_time": "2024-06-14T14:30:56.380Z"
   },
   {
    "duration": 33,
    "start_time": "2024-06-14T14:30:56.383Z"
   },
   {
    "duration": 9,
    "start_time": "2024-06-14T14:30:56.418Z"
   },
   {
    "duration": 23,
    "start_time": "2024-06-14T14:30:56.428Z"
   },
   {
    "duration": 7,
    "start_time": "2024-06-14T14:30:56.452Z"
   },
   {
    "duration": 2,
    "start_time": "2024-06-14T14:30:56.461Z"
   },
   {
    "duration": 4,
    "start_time": "2024-06-14T14:30:56.464Z"
   },
   {
    "duration": 6,
    "start_time": "2024-06-14T14:30:56.469Z"
   },
   {
    "duration": 8,
    "start_time": "2024-06-14T14:30:56.477Z"
   },
   {
    "duration": 101,
    "start_time": "2024-06-14T14:30:56.486Z"
   },
   {
    "duration": 3,
    "start_time": "2024-06-14T14:30:56.588Z"
   },
   {
    "duration": 11,
    "start_time": "2024-06-14T14:30:56.592Z"
   },
   {
    "duration": 2,
    "start_time": "2024-06-14T14:30:56.604Z"
   },
   {
    "duration": 7,
    "start_time": "2024-06-14T14:30:56.607Z"
   },
   {
    "duration": 5,
    "start_time": "2024-06-14T14:30:56.615Z"
   },
   {
    "duration": 9,
    "start_time": "2024-06-14T14:30:56.621Z"
   },
   {
    "duration": 87,
    "start_time": "2024-06-14T14:30:56.631Z"
   },
   {
    "duration": 5,
    "start_time": "2024-06-14T14:30:56.719Z"
   },
   {
    "duration": 14,
    "start_time": "2024-06-14T14:30:56.725Z"
   },
   {
    "duration": 1223,
    "start_time": "2024-06-14T14:39:18.657Z"
   },
   {
    "duration": 2,
    "start_time": "2024-06-14T14:39:19.881Z"
   },
   {
    "duration": 27,
    "start_time": "2024-06-14T14:39:19.884Z"
   },
   {
    "duration": 10,
    "start_time": "2024-06-14T14:39:19.913Z"
   },
   {
    "duration": 11,
    "start_time": "2024-06-14T14:39:19.924Z"
   },
   {
    "duration": 8,
    "start_time": "2024-06-14T14:39:19.936Z"
   },
   {
    "duration": 2,
    "start_time": "2024-06-14T14:39:19.945Z"
   },
   {
    "duration": 6,
    "start_time": "2024-06-14T14:39:19.948Z"
   },
   {
    "duration": 5,
    "start_time": "2024-06-14T14:39:19.955Z"
   },
   {
    "duration": 8,
    "start_time": "2024-06-14T14:39:19.962Z"
   },
   {
    "duration": 99,
    "start_time": "2024-06-14T14:39:19.971Z"
   },
   {
    "duration": 0,
    "start_time": "2024-06-14T14:39:20.071Z"
   },
   {
    "duration": 0,
    "start_time": "2024-06-14T14:39:20.072Z"
   },
   {
    "duration": 0,
    "start_time": "2024-06-14T14:39:20.072Z"
   },
   {
    "duration": 0,
    "start_time": "2024-06-14T14:39:20.073Z"
   },
   {
    "duration": 0,
    "start_time": "2024-06-14T14:39:20.074Z"
   },
   {
    "duration": 0,
    "start_time": "2024-06-14T14:39:20.075Z"
   },
   {
    "duration": 0,
    "start_time": "2024-06-14T14:39:20.084Z"
   },
   {
    "duration": 0,
    "start_time": "2024-06-14T14:39:20.085Z"
   },
   {
    "duration": 0,
    "start_time": "2024-06-14T14:39:20.086Z"
   },
   {
    "duration": 1216,
    "start_time": "2024-06-14T14:39:39.874Z"
   },
   {
    "duration": 3,
    "start_time": "2024-06-14T14:39:41.091Z"
   },
   {
    "duration": 36,
    "start_time": "2024-06-14T14:39:41.095Z"
   },
   {
    "duration": 10,
    "start_time": "2024-06-14T14:39:41.133Z"
   },
   {
    "duration": 9,
    "start_time": "2024-06-14T14:39:41.145Z"
   },
   {
    "duration": 7,
    "start_time": "2024-06-14T14:39:41.155Z"
   },
   {
    "duration": 3,
    "start_time": "2024-06-14T14:39:41.163Z"
   },
   {
    "duration": 10,
    "start_time": "2024-06-14T14:39:41.167Z"
   },
   {
    "duration": 5,
    "start_time": "2024-06-14T14:39:41.178Z"
   },
   {
    "duration": 14,
    "start_time": "2024-06-14T14:39:41.185Z"
   },
   {
    "duration": 6,
    "start_time": "2024-06-14T14:39:41.200Z"
   },
   {
    "duration": 11,
    "start_time": "2024-06-14T14:39:41.207Z"
   },
   {
    "duration": 19,
    "start_time": "2024-06-14T14:39:41.219Z"
   },
   {
    "duration": 2,
    "start_time": "2024-06-14T14:39:41.239Z"
   },
   {
    "duration": 9,
    "start_time": "2024-06-14T14:39:41.242Z"
   },
   {
    "duration": 7,
    "start_time": "2024-06-14T14:39:41.253Z"
   },
   {
    "duration": 8,
    "start_time": "2024-06-14T14:39:41.261Z"
   },
   {
    "duration": 15,
    "start_time": "2024-06-14T14:39:41.270Z"
   },
   {
    "duration": 5,
    "start_time": "2024-06-14T14:39:41.286Z"
   },
   {
    "duration": 8,
    "start_time": "2024-06-14T14:39:41.292Z"
   },
   {
    "duration": 1161,
    "start_time": "2024-06-14T14:40:48.733Z"
   },
   {
    "duration": 2,
    "start_time": "2024-06-14T14:40:49.895Z"
   },
   {
    "duration": 28,
    "start_time": "2024-06-14T14:40:49.898Z"
   },
   {
    "duration": 10,
    "start_time": "2024-06-14T14:40:49.927Z"
   },
   {
    "duration": 10,
    "start_time": "2024-06-14T14:40:49.938Z"
   },
   {
    "duration": 10,
    "start_time": "2024-06-14T14:40:49.950Z"
   },
   {
    "duration": 2,
    "start_time": "2024-06-14T14:40:49.962Z"
   },
   {
    "duration": 3,
    "start_time": "2024-06-14T14:40:49.966Z"
   },
   {
    "duration": 8,
    "start_time": "2024-06-14T14:40:49.970Z"
   },
   {
    "duration": 8,
    "start_time": "2024-06-14T14:40:49.984Z"
   },
   {
    "duration": 5,
    "start_time": "2024-06-14T14:40:49.993Z"
   },
   {
    "duration": 2,
    "start_time": "2024-06-14T14:40:49.999Z"
   },
   {
    "duration": 22,
    "start_time": "2024-06-14T14:40:50.003Z"
   },
   {
    "duration": 6,
    "start_time": "2024-06-14T14:40:50.026Z"
   },
   {
    "duration": 7,
    "start_time": "2024-06-14T14:40:50.033Z"
   },
   {
    "duration": 5,
    "start_time": "2024-06-14T14:40:50.041Z"
   },
   {
    "duration": 13,
    "start_time": "2024-06-14T14:40:50.047Z"
   },
   {
    "duration": 12,
    "start_time": "2024-06-14T14:40:50.061Z"
   },
   {
    "duration": 5,
    "start_time": "2024-06-14T14:40:50.075Z"
   },
   {
    "duration": 13,
    "start_time": "2024-06-14T14:40:50.084Z"
   },
   {
    "duration": 1199,
    "start_time": "2024-06-14T14:44:25.138Z"
   },
   {
    "duration": 3,
    "start_time": "2024-06-14T14:44:26.338Z"
   },
   {
    "duration": 44,
    "start_time": "2024-06-14T14:44:26.342Z"
   },
   {
    "duration": 11,
    "start_time": "2024-06-14T14:44:26.387Z"
   },
   {
    "duration": 22,
    "start_time": "2024-06-14T14:44:26.399Z"
   },
   {
    "duration": 11,
    "start_time": "2024-06-14T14:44:26.422Z"
   },
   {
    "duration": 4,
    "start_time": "2024-06-14T14:44:26.435Z"
   },
   {
    "duration": 7,
    "start_time": "2024-06-14T14:44:26.440Z"
   },
   {
    "duration": 19,
    "start_time": "2024-06-14T14:44:26.448Z"
   },
   {
    "duration": 34,
    "start_time": "2024-06-14T14:44:26.469Z"
   },
   {
    "duration": 116,
    "start_time": "2024-06-14T14:44:26.505Z"
   },
   {
    "duration": 3,
    "start_time": "2024-06-14T14:44:26.623Z"
   },
   {
    "duration": 37,
    "start_time": "2024-06-14T14:44:26.627Z"
   },
   {
    "duration": 28,
    "start_time": "2024-06-14T14:44:26.667Z"
   },
   {
    "duration": 27,
    "start_time": "2024-06-14T14:44:26.697Z"
   },
   {
    "duration": 40,
    "start_time": "2024-06-14T14:44:26.725Z"
   },
   {
    "duration": 27,
    "start_time": "2024-06-14T14:44:26.767Z"
   },
   {
    "duration": 70,
    "start_time": "2024-06-14T14:44:26.795Z"
   },
   {
    "duration": 5,
    "start_time": "2024-06-14T14:44:26.866Z"
   },
   {
    "duration": 23,
    "start_time": "2024-06-14T14:44:26.873Z"
   },
   {
    "duration": 1210,
    "start_time": "2024-06-14T14:45:17.294Z"
   },
   {
    "duration": 2,
    "start_time": "2024-06-14T14:45:18.506Z"
   },
   {
    "duration": 27,
    "start_time": "2024-06-14T14:45:18.511Z"
   },
   {
    "duration": 9,
    "start_time": "2024-06-14T14:45:18.539Z"
   },
   {
    "duration": 10,
    "start_time": "2024-06-14T14:45:18.549Z"
   },
   {
    "duration": 8,
    "start_time": "2024-06-14T14:45:18.560Z"
   },
   {
    "duration": 2,
    "start_time": "2024-06-14T14:45:18.569Z"
   },
   {
    "duration": 11,
    "start_time": "2024-06-14T14:45:18.572Z"
   },
   {
    "duration": 5,
    "start_time": "2024-06-14T14:45:18.586Z"
   },
   {
    "duration": 28,
    "start_time": "2024-06-14T14:45:18.592Z"
   },
   {
    "duration": 107,
    "start_time": "2024-06-14T14:45:18.622Z"
   },
   {
    "duration": 3,
    "start_time": "2024-06-14T14:45:18.730Z"
   },
   {
    "duration": 13,
    "start_time": "2024-06-14T14:45:18.734Z"
   },
   {
    "duration": 2,
    "start_time": "2024-06-14T14:45:18.748Z"
   },
   {
    "duration": 6,
    "start_time": "2024-06-14T14:45:18.752Z"
   },
   {
    "duration": 3,
    "start_time": "2024-06-14T14:45:18.759Z"
   },
   {
    "duration": 26,
    "start_time": "2024-06-14T14:45:18.763Z"
   },
   {
    "duration": 70,
    "start_time": "2024-06-14T14:45:18.790Z"
   },
   {
    "duration": 4,
    "start_time": "2024-06-14T14:45:18.862Z"
   },
   {
    "duration": 19,
    "start_time": "2024-06-14T14:45:18.868Z"
   },
   {
    "duration": 1068,
    "start_time": "2024-06-14T14:45:58.022Z"
   },
   {
    "duration": 2,
    "start_time": "2024-06-14T14:45:59.091Z"
   },
   {
    "duration": 28,
    "start_time": "2024-06-14T14:45:59.094Z"
   },
   {
    "duration": 10,
    "start_time": "2024-06-14T14:45:59.123Z"
   },
   {
    "duration": 9,
    "start_time": "2024-06-14T14:45:59.135Z"
   },
   {
    "duration": 8,
    "start_time": "2024-06-14T14:45:59.146Z"
   },
   {
    "duration": 3,
    "start_time": "2024-06-14T14:45:59.155Z"
   },
   {
    "duration": 5,
    "start_time": "2024-06-14T14:45:59.159Z"
   },
   {
    "duration": 5,
    "start_time": "2024-06-14T14:45:59.165Z"
   },
   {
    "duration": 17,
    "start_time": "2024-06-14T14:45:59.172Z"
   },
   {
    "duration": 108,
    "start_time": "2024-06-14T14:45:59.191Z"
   },
   {
    "duration": 2,
    "start_time": "2024-06-14T14:45:59.301Z"
   },
   {
    "duration": 10,
    "start_time": "2024-06-14T14:45:59.304Z"
   },
   {
    "duration": 2,
    "start_time": "2024-06-14T14:45:59.316Z"
   },
   {
    "duration": 4,
    "start_time": "2024-06-14T14:45:59.319Z"
   },
   {
    "duration": 5,
    "start_time": "2024-06-14T14:45:59.325Z"
   },
   {
    "duration": 10,
    "start_time": "2024-06-14T14:45:59.331Z"
   },
   {
    "duration": 5,
    "start_time": "2024-06-14T14:45:59.342Z"
   },
   {
    "duration": 4,
    "start_time": "2024-06-14T14:45:59.348Z"
   },
   {
    "duration": 32,
    "start_time": "2024-06-14T14:45:59.353Z"
   },
   {
    "duration": 1161,
    "start_time": "2024-06-14T14:48:32.241Z"
   },
   {
    "duration": 2,
    "start_time": "2024-06-14T14:48:33.404Z"
   },
   {
    "duration": 27,
    "start_time": "2024-06-14T14:48:33.407Z"
   },
   {
    "duration": 10,
    "start_time": "2024-06-14T14:48:33.436Z"
   },
   {
    "duration": 10,
    "start_time": "2024-06-14T14:48:33.447Z"
   },
   {
    "duration": 7,
    "start_time": "2024-06-14T14:48:33.458Z"
   },
   {
    "duration": 2,
    "start_time": "2024-06-14T14:48:33.467Z"
   },
   {
    "duration": 4,
    "start_time": "2024-06-14T14:48:33.470Z"
   },
   {
    "duration": 10,
    "start_time": "2024-06-14T14:48:33.475Z"
   },
   {
    "duration": 8,
    "start_time": "2024-06-14T14:48:33.487Z"
   },
   {
    "duration": 110,
    "start_time": "2024-06-14T14:48:33.496Z"
   },
   {
    "duration": 2,
    "start_time": "2024-06-14T14:48:33.607Z"
   },
   {
    "duration": 17,
    "start_time": "2024-06-14T14:48:33.611Z"
   },
   {
    "duration": 11,
    "start_time": "2024-06-14T14:48:33.630Z"
   },
   {
    "duration": 17,
    "start_time": "2024-06-14T14:48:33.642Z"
   },
   {
    "duration": 4,
    "start_time": "2024-06-14T14:48:33.660Z"
   },
   {
    "duration": 21,
    "start_time": "2024-06-14T14:48:33.666Z"
   },
   {
    "duration": 6,
    "start_time": "2024-06-14T14:48:33.689Z"
   },
   {
    "duration": 4,
    "start_time": "2024-06-14T14:48:33.697Z"
   },
   {
    "duration": 5,
    "start_time": "2024-06-14T14:48:33.703Z"
   },
   {
    "duration": 1656,
    "start_time": "2024-06-15T14:46:11.615Z"
   },
   {
    "duration": 3,
    "start_time": "2024-06-15T14:46:13.273Z"
   },
   {
    "duration": 110,
    "start_time": "2024-06-15T14:46:13.278Z"
   },
   {
    "duration": 17,
    "start_time": "2024-06-15T14:46:13.391Z"
   },
   {
    "duration": 17,
    "start_time": "2024-06-15T14:46:13.410Z"
   },
   {
    "duration": 19,
    "start_time": "2024-06-15T14:46:13.429Z"
   },
   {
    "duration": 5,
    "start_time": "2024-06-15T14:46:13.450Z"
   },
   {
    "duration": 15,
    "start_time": "2024-06-15T14:46:13.457Z"
   },
   {
    "duration": 7,
    "start_time": "2024-06-15T14:46:13.492Z"
   },
   {
    "duration": 31,
    "start_time": "2024-06-15T14:46:13.504Z"
   },
   {
    "duration": 156,
    "start_time": "2024-06-15T14:46:13.536Z"
   },
   {
    "duration": 3,
    "start_time": "2024-06-15T14:46:13.694Z"
   },
   {
    "duration": 6,
    "start_time": "2024-06-15T14:46:13.699Z"
   },
   {
    "duration": 9,
    "start_time": "2024-06-15T14:46:13.706Z"
   },
   {
    "duration": 8,
    "start_time": "2024-06-15T14:46:13.716Z"
   },
   {
    "duration": 4,
    "start_time": "2024-06-15T14:46:13.726Z"
   },
   {
    "duration": 13,
    "start_time": "2024-06-15T14:46:13.732Z"
   },
   {
    "duration": 155,
    "start_time": "2024-06-15T14:46:13.746Z"
   },
   {
    "duration": 6,
    "start_time": "2024-06-15T14:46:13.903Z"
   },
   {
    "duration": 6,
    "start_time": "2024-06-15T14:46:13.911Z"
   },
   {
    "duration": 1442,
    "start_time": "2024-06-15T14:48:27.155Z"
   },
   {
    "duration": 4,
    "start_time": "2024-06-15T14:48:28.599Z"
   },
   {
    "duration": 40,
    "start_time": "2024-06-15T14:48:28.606Z"
   },
   {
    "duration": 20,
    "start_time": "2024-06-15T14:48:28.648Z"
   },
   {
    "duration": 15,
    "start_time": "2024-06-15T14:48:28.671Z"
   },
   {
    "duration": 38,
    "start_time": "2024-06-15T14:48:28.687Z"
   },
   {
    "duration": 4,
    "start_time": "2024-06-15T14:48:28.727Z"
   },
   {
    "duration": 9,
    "start_time": "2024-06-15T14:48:28.733Z"
   },
   {
    "duration": 17,
    "start_time": "2024-06-15T14:48:28.744Z"
   },
   {
    "duration": 13,
    "start_time": "2024-06-15T14:48:28.763Z"
   },
   {
    "duration": 8,
    "start_time": "2024-06-15T14:48:28.777Z"
   },
   {
    "duration": 8,
    "start_time": "2024-06-15T14:48:28.787Z"
   },
   {
    "duration": 6,
    "start_time": "2024-06-15T14:48:28.797Z"
   },
   {
    "duration": 10,
    "start_time": "2024-06-15T14:48:28.806Z"
   },
   {
    "duration": 37,
    "start_time": "2024-06-15T14:48:28.817Z"
   },
   {
    "duration": 11,
    "start_time": "2024-06-15T14:48:28.856Z"
   },
   {
    "duration": 20,
    "start_time": "2024-06-15T14:48:28.869Z"
   },
   {
    "duration": 22,
    "start_time": "2024-06-15T14:48:28.890Z"
   },
   {
    "duration": 7,
    "start_time": "2024-06-15T14:48:28.914Z"
   },
   {
    "duration": 8,
    "start_time": "2024-06-15T14:48:28.922Z"
   },
   {
    "duration": 1308,
    "start_time": "2024-06-16T11:08:53.777Z"
   },
   {
    "duration": 2,
    "start_time": "2024-06-16T11:08:55.087Z"
   },
   {
    "duration": 113,
    "start_time": "2024-06-16T11:08:55.090Z"
   },
   {
    "duration": 10,
    "start_time": "2024-06-16T11:08:55.205Z"
   },
   {
    "duration": 11,
    "start_time": "2024-06-16T11:08:55.216Z"
   },
   {
    "duration": 13,
    "start_time": "2024-06-16T11:08:55.228Z"
   },
   {
    "duration": 18,
    "start_time": "2024-06-16T11:08:55.242Z"
   },
   {
    "duration": 8,
    "start_time": "2024-06-16T11:08:55.261Z"
   },
   {
    "duration": 19,
    "start_time": "2024-06-16T11:08:55.270Z"
   },
   {
    "duration": 11,
    "start_time": "2024-06-16T11:08:55.291Z"
   },
   {
    "duration": 5,
    "start_time": "2024-06-16T11:08:55.303Z"
   },
   {
    "duration": 2,
    "start_time": "2024-06-16T11:08:55.309Z"
   },
   {
    "duration": 16,
    "start_time": "2024-06-16T11:08:55.312Z"
   },
   {
    "duration": 3,
    "start_time": "2024-06-16T11:08:55.330Z"
   },
   {
    "duration": 9,
    "start_time": "2024-06-16T11:08:55.334Z"
   },
   {
    "duration": 7,
    "start_time": "2024-06-16T11:08:55.344Z"
   },
   {
    "duration": 10,
    "start_time": "2024-06-16T11:08:55.352Z"
   },
   {
    "duration": 23,
    "start_time": "2024-06-16T11:08:55.363Z"
   },
   {
    "duration": 4,
    "start_time": "2024-06-16T11:08:55.387Z"
   },
   {
    "duration": 9,
    "start_time": "2024-06-16T11:08:55.392Z"
   },
   {
    "duration": 5,
    "start_time": "2024-06-16T11:09:26.594Z"
   },
   {
    "duration": 2985,
    "start_time": "2024-06-16T11:57:05.848Z"
   },
   {
    "duration": 3,
    "start_time": "2024-06-16T11:57:08.835Z"
   },
   {
    "duration": 79,
    "start_time": "2024-06-16T11:57:08.840Z"
   },
   {
    "duration": 17,
    "start_time": "2024-06-16T11:57:08.926Z"
   },
   {
    "duration": 13,
    "start_time": "2024-06-16T11:57:08.945Z"
   },
   {
    "duration": 18,
    "start_time": "2024-06-16T11:57:08.960Z"
   },
   {
    "duration": 4,
    "start_time": "2024-06-16T11:57:08.980Z"
   },
   {
    "duration": 6,
    "start_time": "2024-06-16T11:57:08.986Z"
   },
   {
    "duration": 8,
    "start_time": "2024-06-16T11:57:08.994Z"
   },
   {
    "duration": 12,
    "start_time": "2024-06-16T11:57:09.005Z"
   },
   {
    "duration": 6,
    "start_time": "2024-06-16T11:57:09.019Z"
   },
   {
    "duration": 3,
    "start_time": "2024-06-16T11:57:09.026Z"
   },
   {
    "duration": 35,
    "start_time": "2024-06-16T11:57:09.030Z"
   },
   {
    "duration": 9,
    "start_time": "2024-06-16T11:57:09.067Z"
   },
   {
    "duration": 10,
    "start_time": "2024-06-16T11:57:09.077Z"
   },
   {
    "duration": 4,
    "start_time": "2024-06-16T11:57:09.088Z"
   },
   {
    "duration": 13,
    "start_time": "2024-06-16T11:57:09.094Z"
   },
   {
    "duration": 6,
    "start_time": "2024-06-16T11:57:09.108Z"
   },
   {
    "duration": 6,
    "start_time": "2024-06-16T11:57:09.116Z"
   },
   {
    "duration": 13,
    "start_time": "2024-06-16T11:57:09.123Z"
   },
   {
    "duration": 1502,
    "start_time": "2024-06-16T12:33:55.739Z"
   },
   {
    "duration": 3,
    "start_time": "2024-06-16T12:33:57.243Z"
   },
   {
    "duration": 110,
    "start_time": "2024-06-16T12:33:57.248Z"
   },
   {
    "duration": 12,
    "start_time": "2024-06-16T12:33:57.361Z"
   },
   {
    "duration": 12,
    "start_time": "2024-06-16T12:33:57.375Z"
   },
   {
    "duration": 13,
    "start_time": "2024-06-16T12:33:57.389Z"
   },
   {
    "duration": 3,
    "start_time": "2024-06-16T12:33:57.404Z"
   },
   {
    "duration": 5,
    "start_time": "2024-06-16T12:33:57.409Z"
   },
   {
    "duration": 8,
    "start_time": "2024-06-16T12:33:57.416Z"
   },
   {
    "duration": 13,
    "start_time": "2024-06-16T12:33:57.427Z"
   },
   {
    "duration": 6,
    "start_time": "2024-06-16T12:33:57.441Z"
   },
   {
    "duration": 4,
    "start_time": "2024-06-16T12:33:57.449Z"
   },
   {
    "duration": 6,
    "start_time": "2024-06-16T12:33:57.454Z"
   },
   {
    "duration": 7,
    "start_time": "2024-06-16T12:33:57.462Z"
   },
   {
    "duration": 6,
    "start_time": "2024-06-16T12:33:57.500Z"
   },
   {
    "duration": 17,
    "start_time": "2024-06-16T12:33:57.507Z"
   },
   {
    "duration": 7,
    "start_time": "2024-06-16T12:33:57.526Z"
   },
   {
    "duration": 12,
    "start_time": "2024-06-16T12:33:57.536Z"
   },
   {
    "duration": 1435,
    "start_time": "2024-06-16T12:34:03.774Z"
   },
   {
    "duration": 2,
    "start_time": "2024-06-16T12:34:05.211Z"
   },
   {
    "duration": 48,
    "start_time": "2024-06-16T12:34:05.215Z"
   },
   {
    "duration": 13,
    "start_time": "2024-06-16T12:34:05.265Z"
   },
   {
    "duration": 13,
    "start_time": "2024-06-16T12:34:05.280Z"
   },
   {
    "duration": 16,
    "start_time": "2024-06-16T12:34:05.294Z"
   },
   {
    "duration": 3,
    "start_time": "2024-06-16T12:34:05.312Z"
   },
   {
    "duration": 5,
    "start_time": "2024-06-16T12:34:05.316Z"
   },
   {
    "duration": 9,
    "start_time": "2024-06-16T12:34:05.323Z"
   },
   {
    "duration": 10,
    "start_time": "2024-06-16T12:34:05.333Z"
   },
   {
    "duration": 3,
    "start_time": "2024-06-16T12:34:05.344Z"
   },
   {
    "duration": 3,
    "start_time": "2024-06-16T12:34:05.349Z"
   },
   {
    "duration": 5,
    "start_time": "2024-06-16T12:34:05.353Z"
   },
   {
    "duration": 7,
    "start_time": "2024-06-16T12:34:05.360Z"
   },
   {
    "duration": 4,
    "start_time": "2024-06-16T12:34:05.399Z"
   },
   {
    "duration": 9,
    "start_time": "2024-06-16T12:34:05.405Z"
   },
   {
    "duration": 10,
    "start_time": "2024-06-16T12:34:05.416Z"
   },
   {
    "duration": 6,
    "start_time": "2024-06-16T12:34:05.428Z"
   },
   {
    "duration": 6,
    "start_time": "2024-06-16T12:35:33.142Z"
   },
   {
    "duration": 1302,
    "start_time": "2024-06-16T12:35:49.618Z"
   },
   {
    "duration": 3,
    "start_time": "2024-06-16T12:35:50.922Z"
   },
   {
    "duration": 34,
    "start_time": "2024-06-16T12:35:50.926Z"
   },
   {
    "duration": 13,
    "start_time": "2024-06-16T12:35:50.962Z"
   },
   {
    "duration": 13,
    "start_time": "2024-06-16T12:35:50.977Z"
   },
   {
    "duration": 13,
    "start_time": "2024-06-16T12:35:50.991Z"
   },
   {
    "duration": 3,
    "start_time": "2024-06-16T12:35:51.006Z"
   },
   {
    "duration": 4,
    "start_time": "2024-06-16T12:35:51.011Z"
   },
   {
    "duration": 7,
    "start_time": "2024-06-16T12:35:51.017Z"
   },
   {
    "duration": 10,
    "start_time": "2024-06-16T12:35:51.027Z"
   },
   {
    "duration": 4,
    "start_time": "2024-06-16T12:35:51.038Z"
   },
   {
    "duration": 7,
    "start_time": "2024-06-16T12:35:51.043Z"
   },
   {
    "duration": 4,
    "start_time": "2024-06-16T12:35:51.051Z"
   },
   {
    "duration": 151,
    "start_time": "2024-06-16T12:35:51.057Z"
   },
   {
    "duration": 0,
    "start_time": "2024-06-16T12:35:51.210Z"
   },
   {
    "duration": 0,
    "start_time": "2024-06-16T12:35:51.211Z"
   },
   {
    "duration": 0,
    "start_time": "2024-06-16T12:35:51.212Z"
   },
   {
    "duration": 0,
    "start_time": "2024-06-16T12:35:51.213Z"
   },
   {
    "duration": 1440,
    "start_time": "2024-06-16T12:36:03.396Z"
   },
   {
    "duration": 3,
    "start_time": "2024-06-16T12:36:04.838Z"
   },
   {
    "duration": 31,
    "start_time": "2024-06-16T12:36:04.842Z"
   },
   {
    "duration": 12,
    "start_time": "2024-06-16T12:36:04.875Z"
   },
   {
    "duration": 13,
    "start_time": "2024-06-16T12:36:04.889Z"
   },
   {
    "duration": 11,
    "start_time": "2024-06-16T12:36:04.904Z"
   },
   {
    "duration": 3,
    "start_time": "2024-06-16T12:36:04.916Z"
   },
   {
    "duration": 4,
    "start_time": "2024-06-16T12:36:04.921Z"
   },
   {
    "duration": 7,
    "start_time": "2024-06-16T12:36:04.926Z"
   },
   {
    "duration": 12,
    "start_time": "2024-06-16T12:36:04.934Z"
   },
   {
    "duration": 3,
    "start_time": "2024-06-16T12:36:04.947Z"
   },
   {
    "duration": 48,
    "start_time": "2024-06-16T12:36:04.952Z"
   },
   {
    "duration": 3,
    "start_time": "2024-06-16T12:36:05.002Z"
   },
   {
    "duration": 5,
    "start_time": "2024-06-16T12:36:05.007Z"
   },
   {
    "duration": 4,
    "start_time": "2024-06-16T12:36:05.013Z"
   },
   {
    "duration": 9,
    "start_time": "2024-06-16T12:36:05.018Z"
   },
   {
    "duration": 6,
    "start_time": "2024-06-16T12:36:05.029Z"
   },
   {
    "duration": 8,
    "start_time": "2024-06-16T12:36:05.036Z"
   },
   {
    "duration": 1264,
    "start_time": "2024-06-16T12:43:02.627Z"
   },
   {
    "duration": 3,
    "start_time": "2024-06-16T12:43:03.892Z"
   },
   {
    "duration": 31,
    "start_time": "2024-06-16T12:43:03.896Z"
   },
   {
    "duration": 12,
    "start_time": "2024-06-16T12:43:03.928Z"
   },
   {
    "duration": 14,
    "start_time": "2024-06-16T12:43:03.942Z"
   },
   {
    "duration": 9,
    "start_time": "2024-06-16T12:43:03.958Z"
   },
   {
    "duration": 3,
    "start_time": "2024-06-16T12:43:03.968Z"
   },
   {
    "duration": 7,
    "start_time": "2024-06-16T12:43:03.972Z"
   },
   {
    "duration": 8,
    "start_time": "2024-06-16T12:43:03.980Z"
   },
   {
    "duration": 11,
    "start_time": "2024-06-16T12:43:03.989Z"
   },
   {
    "duration": 2,
    "start_time": "2024-06-16T12:43:04.002Z"
   },
   {
    "duration": 2,
    "start_time": "2024-06-16T12:43:04.006Z"
   },
   {
    "duration": 16,
    "start_time": "2024-06-16T12:43:04.009Z"
   },
   {
    "duration": 7,
    "start_time": "2024-06-16T12:43:04.028Z"
   },
   {
    "duration": 2,
    "start_time": "2024-06-16T12:43:04.037Z"
   },
   {
    "duration": 4,
    "start_time": "2024-06-16T12:43:04.041Z"
   },
   {
    "duration": 9,
    "start_time": "2024-06-16T12:43:04.047Z"
   },
   {
    "duration": 6,
    "start_time": "2024-06-16T12:43:04.057Z"
   },
   {
    "duration": 9,
    "start_time": "2024-06-16T12:43:04.100Z"
   },
   {
    "duration": 1432,
    "start_time": "2024-06-16T12:43:35.376Z"
   },
   {
    "duration": 3,
    "start_time": "2024-06-16T12:43:36.809Z"
   },
   {
    "duration": 30,
    "start_time": "2024-06-16T12:43:36.814Z"
   },
   {
    "duration": 13,
    "start_time": "2024-06-16T12:43:36.847Z"
   },
   {
    "duration": 13,
    "start_time": "2024-06-16T12:43:36.862Z"
   },
   {
    "duration": 26,
    "start_time": "2024-06-16T12:43:36.876Z"
   },
   {
    "duration": 3,
    "start_time": "2024-06-16T12:43:36.904Z"
   },
   {
    "duration": 5,
    "start_time": "2024-06-16T12:43:36.910Z"
   },
   {
    "duration": 8,
    "start_time": "2024-06-16T12:43:36.916Z"
   },
   {
    "duration": 10,
    "start_time": "2024-06-16T12:43:36.928Z"
   },
   {
    "duration": 3,
    "start_time": "2024-06-16T12:43:36.939Z"
   },
   {
    "duration": 3,
    "start_time": "2024-06-16T12:43:36.944Z"
   },
   {
    "duration": 143,
    "start_time": "2024-06-16T12:43:36.949Z"
   },
   {
    "duration": 0,
    "start_time": "2024-06-16T12:43:37.094Z"
   },
   {
    "duration": 0,
    "start_time": "2024-06-16T12:43:37.099Z"
   },
   {
    "duration": 0,
    "start_time": "2024-06-16T12:43:37.101Z"
   },
   {
    "duration": 0,
    "start_time": "2024-06-16T12:43:37.102Z"
   },
   {
    "duration": 0,
    "start_time": "2024-06-16T12:43:37.103Z"
   },
   {
    "duration": 0,
    "start_time": "2024-06-16T12:43:37.105Z"
   },
   {
    "duration": 1331,
    "start_time": "2024-06-16T12:43:52.198Z"
   },
   {
    "duration": 2,
    "start_time": "2024-06-16T12:43:53.531Z"
   },
   {
    "duration": 37,
    "start_time": "2024-06-16T12:43:53.534Z"
   },
   {
    "duration": 12,
    "start_time": "2024-06-16T12:43:53.573Z"
   },
   {
    "duration": 13,
    "start_time": "2024-06-16T12:43:53.586Z"
   },
   {
    "duration": 10,
    "start_time": "2024-06-16T12:43:53.601Z"
   },
   {
    "duration": 3,
    "start_time": "2024-06-16T12:43:53.612Z"
   },
   {
    "duration": 4,
    "start_time": "2024-06-16T12:43:53.616Z"
   },
   {
    "duration": 5,
    "start_time": "2024-06-16T12:43:53.622Z"
   },
   {
    "duration": 9,
    "start_time": "2024-06-16T12:43:53.629Z"
   },
   {
    "duration": 2,
    "start_time": "2024-06-16T12:43:53.639Z"
   },
   {
    "duration": 2,
    "start_time": "2024-06-16T12:43:53.643Z"
   },
   {
    "duration": 16,
    "start_time": "2024-06-16T12:43:53.646Z"
   },
   {
    "duration": 40,
    "start_time": "2024-06-16T12:43:53.663Z"
   },
   {
    "duration": 2,
    "start_time": "2024-06-16T12:43:53.705Z"
   },
   {
    "duration": 3,
    "start_time": "2024-06-16T12:43:53.709Z"
   },
   {
    "duration": 9,
    "start_time": "2024-06-16T12:43:53.714Z"
   },
   {
    "duration": 6,
    "start_time": "2024-06-16T12:43:53.724Z"
   },
   {
    "duration": 5,
    "start_time": "2024-06-16T12:43:53.731Z"
   },
   {
    "duration": 1342,
    "start_time": "2024-06-16T12:53:39.668Z"
   },
   {
    "duration": 3,
    "start_time": "2024-06-16T12:53:41.012Z"
   },
   {
    "duration": 31,
    "start_time": "2024-06-16T12:53:41.016Z"
   },
   {
    "duration": 12,
    "start_time": "2024-06-16T12:53:41.048Z"
   },
   {
    "duration": 12,
    "start_time": "2024-06-16T12:53:41.062Z"
   },
   {
    "duration": 10,
    "start_time": "2024-06-16T12:53:41.076Z"
   },
   {
    "duration": 2,
    "start_time": "2024-06-16T12:53:41.088Z"
   },
   {
    "duration": 4,
    "start_time": "2024-06-16T12:53:41.099Z"
   },
   {
    "duration": 12,
    "start_time": "2024-06-16T12:53:41.104Z"
   },
   {
    "duration": 9,
    "start_time": "2024-06-16T12:53:41.118Z"
   },
   {
    "duration": 12,
    "start_time": "2024-06-16T12:53:41.129Z"
   },
   {
    "duration": 2,
    "start_time": "2024-06-16T12:53:41.142Z"
   },
   {
    "duration": 6,
    "start_time": "2024-06-16T12:53:41.146Z"
   },
   {
    "duration": 3,
    "start_time": "2024-06-16T12:53:41.154Z"
   },
   {
    "duration": 6,
    "start_time": "2024-06-16T12:53:41.159Z"
   },
   {
    "duration": 41,
    "start_time": "2024-06-16T12:53:41.166Z"
   },
   {
    "duration": 7,
    "start_time": "2024-06-16T12:53:41.208Z"
   },
   {
    "duration": 6,
    "start_time": "2024-06-16T12:53:41.216Z"
   },
   {
    "duration": 1434,
    "start_time": "2024-06-16T12:55:30.188Z"
   },
   {
    "duration": 2,
    "start_time": "2024-06-16T12:55:31.624Z"
   },
   {
    "duration": 41,
    "start_time": "2024-06-16T12:55:31.628Z"
   },
   {
    "duration": 14,
    "start_time": "2024-06-16T12:55:31.672Z"
   },
   {
    "duration": 29,
    "start_time": "2024-06-16T12:55:31.687Z"
   },
   {
    "duration": 12,
    "start_time": "2024-06-16T12:55:31.718Z"
   },
   {
    "duration": 7,
    "start_time": "2024-06-16T12:55:31.732Z"
   },
   {
    "duration": 13,
    "start_time": "2024-06-16T12:55:31.740Z"
   },
   {
    "duration": 19,
    "start_time": "2024-06-16T12:55:31.755Z"
   },
   {
    "duration": 33,
    "start_time": "2024-06-16T12:55:31.777Z"
   },
   {
    "duration": 29,
    "start_time": "2024-06-16T12:55:31.811Z"
   },
   {
    "duration": 132,
    "start_time": "2024-06-16T12:55:31.842Z"
   },
   {
    "duration": 0,
    "start_time": "2024-06-16T12:55:31.975Z"
   },
   {
    "duration": 0,
    "start_time": "2024-06-16T12:55:31.977Z"
   },
   {
    "duration": 0,
    "start_time": "2024-06-16T12:55:31.978Z"
   },
   {
    "duration": 0,
    "start_time": "2024-06-16T12:55:31.979Z"
   },
   {
    "duration": 0,
    "start_time": "2024-06-16T12:55:31.980Z"
   },
   {
    "duration": 0,
    "start_time": "2024-06-16T12:55:31.981Z"
   },
   {
    "duration": 1384,
    "start_time": "2024-06-16T12:56:05.420Z"
   },
   {
    "duration": 2,
    "start_time": "2024-06-16T12:56:06.806Z"
   },
   {
    "duration": 39,
    "start_time": "2024-06-16T12:56:06.810Z"
   },
   {
    "duration": 12,
    "start_time": "2024-06-16T12:56:06.851Z"
   },
   {
    "duration": 12,
    "start_time": "2024-06-16T12:56:06.865Z"
   },
   {
    "duration": 10,
    "start_time": "2024-06-16T12:56:06.879Z"
   },
   {
    "duration": 3,
    "start_time": "2024-06-16T12:56:06.890Z"
   },
   {
    "duration": 7,
    "start_time": "2024-06-16T12:56:06.894Z"
   },
   {
    "duration": 6,
    "start_time": "2024-06-16T12:56:06.902Z"
   },
   {
    "duration": 10,
    "start_time": "2024-06-16T12:56:06.910Z"
   },
   {
    "duration": 13,
    "start_time": "2024-06-16T12:56:06.921Z"
   },
   {
    "duration": 10,
    "start_time": "2024-06-16T12:56:06.936Z"
   },
   {
    "duration": 10,
    "start_time": "2024-06-16T12:56:06.947Z"
   },
   {
    "duration": 2,
    "start_time": "2024-06-16T12:56:06.963Z"
   },
   {
    "duration": 33,
    "start_time": "2024-06-16T12:56:06.967Z"
   },
   {
    "duration": 9,
    "start_time": "2024-06-16T12:56:07.002Z"
   },
   {
    "duration": 6,
    "start_time": "2024-06-16T12:56:07.012Z"
   },
   {
    "duration": 7,
    "start_time": "2024-06-16T12:56:07.019Z"
   },
   {
    "duration": 1444,
    "start_time": "2024-06-16T12:58:17.787Z"
   },
   {
    "duration": 3,
    "start_time": "2024-06-16T12:58:19.233Z"
   },
   {
    "duration": 33,
    "start_time": "2024-06-16T12:58:19.241Z"
   },
   {
    "duration": 13,
    "start_time": "2024-06-16T12:58:19.275Z"
   },
   {
    "duration": 13,
    "start_time": "2024-06-16T12:58:19.290Z"
   },
   {
    "duration": 15,
    "start_time": "2024-06-16T12:58:19.305Z"
   },
   {
    "duration": 3,
    "start_time": "2024-06-16T12:58:19.322Z"
   },
   {
    "duration": 6,
    "start_time": "2024-06-16T12:58:19.327Z"
   },
   {
    "duration": 7,
    "start_time": "2024-06-16T12:58:19.336Z"
   },
   {
    "duration": 12,
    "start_time": "2024-06-16T12:58:19.345Z"
   },
   {
    "duration": 49,
    "start_time": "2024-06-16T12:58:19.358Z"
   },
   {
    "duration": 12,
    "start_time": "2024-06-16T12:58:19.408Z"
   },
   {
    "duration": 6,
    "start_time": "2024-06-16T12:58:19.422Z"
   },
   {
    "duration": 7,
    "start_time": "2024-06-16T12:58:19.429Z"
   },
   {
    "duration": 3,
    "start_time": "2024-06-16T12:58:19.437Z"
   },
   {
    "duration": 11,
    "start_time": "2024-06-16T12:58:19.442Z"
   },
   {
    "duration": 7,
    "start_time": "2024-06-16T12:58:19.454Z"
   },
   {
    "duration": 39,
    "start_time": "2024-06-16T12:58:19.462Z"
   },
   {
    "duration": 1426,
    "start_time": "2024-06-16T16:59:50.030Z"
   },
   {
    "duration": 2,
    "start_time": "2024-06-16T16:59:51.458Z"
   },
   {
    "duration": 83,
    "start_time": "2024-06-16T16:59:51.461Z"
   },
   {
    "duration": 12,
    "start_time": "2024-06-16T16:59:51.546Z"
   },
   {
    "duration": 21,
    "start_time": "2024-06-16T16:59:51.559Z"
   },
   {
    "duration": 10,
    "start_time": "2024-06-16T16:59:51.581Z"
   },
   {
    "duration": 8,
    "start_time": "2024-06-16T16:59:51.592Z"
   },
   {
    "duration": 12,
    "start_time": "2024-06-16T16:59:51.601Z"
   },
   {
    "duration": 14,
    "start_time": "2024-06-16T16:59:51.615Z"
   },
   {
    "duration": 15,
    "start_time": "2024-06-16T16:59:51.631Z"
   },
   {
    "duration": 24,
    "start_time": "2024-06-16T16:59:51.647Z"
   },
   {
    "duration": 8,
    "start_time": "2024-06-16T16:59:51.672Z"
   },
   {
    "duration": 19,
    "start_time": "2024-06-16T16:59:51.681Z"
   },
   {
    "duration": 25,
    "start_time": "2024-06-16T16:59:51.701Z"
   },
   {
    "duration": 16,
    "start_time": "2024-06-16T16:59:51.728Z"
   },
   {
    "duration": 134,
    "start_time": "2024-06-16T16:59:51.746Z"
   },
   {
    "duration": 0,
    "start_time": "2024-06-16T16:59:51.881Z"
   },
   {
    "duration": 0,
    "start_time": "2024-06-16T16:59:51.882Z"
   },
   {
    "duration": 1286,
    "start_time": "2024-06-16T17:01:40.466Z"
   },
   {
    "duration": 3,
    "start_time": "2024-06-16T17:01:41.753Z"
   },
   {
    "duration": 32,
    "start_time": "2024-06-16T17:01:41.758Z"
   },
   {
    "duration": 12,
    "start_time": "2024-06-16T17:01:41.792Z"
   },
   {
    "duration": 16,
    "start_time": "2024-06-16T17:01:41.805Z"
   },
   {
    "duration": 17,
    "start_time": "2024-06-16T17:01:41.822Z"
   },
   {
    "duration": 3,
    "start_time": "2024-06-16T17:01:41.841Z"
   },
   {
    "duration": 16,
    "start_time": "2024-06-16T17:01:41.846Z"
   },
   {
    "duration": 12,
    "start_time": "2024-06-16T17:01:41.863Z"
   },
   {
    "duration": 13,
    "start_time": "2024-06-16T17:01:41.877Z"
   },
   {
    "duration": 12,
    "start_time": "2024-06-16T17:01:41.891Z"
   },
   {
    "duration": 4,
    "start_time": "2024-06-16T17:01:41.904Z"
   },
   {
    "duration": 21,
    "start_time": "2024-06-16T17:01:41.909Z"
   },
   {
    "duration": 22,
    "start_time": "2024-06-16T17:01:41.932Z"
   },
   {
    "duration": 9,
    "start_time": "2024-06-16T17:01:41.956Z"
   },
   {
    "duration": 9,
    "start_time": "2024-06-16T17:01:41.967Z"
   },
   {
    "duration": 6,
    "start_time": "2024-06-16T17:01:41.977Z"
   },
   {
    "duration": 6,
    "start_time": "2024-06-16T17:01:41.984Z"
   },
   {
    "duration": 99,
    "start_time": "2024-06-16T17:12:44.140Z"
   },
   {
    "duration": 9,
    "start_time": "2024-06-16T17:13:12.129Z"
   },
   {
    "duration": 9,
    "start_time": "2024-06-16T17:13:22.649Z"
   },
   {
    "duration": 1279,
    "start_time": "2024-06-16T17:14:08.238Z"
   },
   {
    "duration": 3,
    "start_time": "2024-06-16T17:14:09.518Z"
   },
   {
    "duration": 34,
    "start_time": "2024-06-16T17:14:09.522Z"
   },
   {
    "duration": 10,
    "start_time": "2024-06-16T17:14:09.557Z"
   },
   {
    "duration": 10,
    "start_time": "2024-06-16T17:14:09.569Z"
   },
   {
    "duration": 8,
    "start_time": "2024-06-16T17:14:09.581Z"
   },
   {
    "duration": 3,
    "start_time": "2024-06-16T17:14:09.590Z"
   },
   {
    "duration": 4,
    "start_time": "2024-06-16T17:14:09.594Z"
   },
   {
    "duration": 7,
    "start_time": "2024-06-16T17:14:09.600Z"
   },
   {
    "duration": 10,
    "start_time": "2024-06-16T17:14:09.609Z"
   },
   {
    "duration": 12,
    "start_time": "2024-06-16T17:14:09.621Z"
   },
   {
    "duration": 2,
    "start_time": "2024-06-16T17:14:09.634Z"
   },
   {
    "duration": 5,
    "start_time": "2024-06-16T17:14:09.666Z"
   },
   {
    "duration": 5,
    "start_time": "2024-06-16T17:14:09.672Z"
   },
   {
    "duration": 5,
    "start_time": "2024-06-16T17:14:09.678Z"
   },
   {
    "duration": 8,
    "start_time": "2024-06-16T17:14:09.684Z"
   },
   {
    "duration": 6,
    "start_time": "2024-06-16T17:14:09.693Z"
   },
   {
    "duration": 6,
    "start_time": "2024-06-16T17:14:09.700Z"
   },
   {
    "duration": 1245,
    "start_time": "2024-06-16T17:16:52.276Z"
   },
   {
    "duration": 2,
    "start_time": "2024-06-16T17:16:53.523Z"
   },
   {
    "duration": 30,
    "start_time": "2024-06-16T17:16:53.527Z"
   },
   {
    "duration": 11,
    "start_time": "2024-06-16T17:16:53.558Z"
   },
   {
    "duration": 10,
    "start_time": "2024-06-16T17:16:53.571Z"
   },
   {
    "duration": 10,
    "start_time": "2024-06-16T17:16:53.582Z"
   },
   {
    "duration": 3,
    "start_time": "2024-06-16T17:16:53.593Z"
   },
   {
    "duration": 4,
    "start_time": "2024-06-16T17:16:53.597Z"
   },
   {
    "duration": 6,
    "start_time": "2024-06-16T17:16:53.602Z"
   },
   {
    "duration": 9,
    "start_time": "2024-06-16T17:16:53.612Z"
   },
   {
    "duration": 2,
    "start_time": "2024-06-16T17:16:53.623Z"
   },
   {
    "duration": 42,
    "start_time": "2024-06-16T17:16:53.627Z"
   },
   {
    "duration": 13,
    "start_time": "2024-06-16T17:16:53.670Z"
   },
   {
    "duration": 10,
    "start_time": "2024-06-16T17:16:53.685Z"
   },
   {
    "duration": 11,
    "start_time": "2024-06-16T17:16:53.696Z"
   },
   {
    "duration": 17,
    "start_time": "2024-06-16T17:16:53.708Z"
   },
   {
    "duration": 6,
    "start_time": "2024-06-16T17:16:53.726Z"
   },
   {
    "duration": 7,
    "start_time": "2024-06-16T17:16:53.733Z"
   },
   {
    "duration": 1283,
    "start_time": "2024-06-16T17:16:59.127Z"
   },
   {
    "duration": 2,
    "start_time": "2024-06-16T17:17:00.412Z"
   },
   {
    "duration": 87,
    "start_time": "2024-06-16T17:17:00.416Z"
   },
   {
    "duration": 62,
    "start_time": "2024-06-16T17:17:00.505Z"
   },
   {
    "duration": 78,
    "start_time": "2024-06-16T17:17:00.568Z"
   },
   {
    "duration": 35,
    "start_time": "2024-06-16T17:17:00.648Z"
   },
   {
    "duration": 35,
    "start_time": "2024-06-16T17:17:00.685Z"
   },
   {
    "duration": 60,
    "start_time": "2024-06-16T17:17:00.722Z"
   },
   {
    "duration": 36,
    "start_time": "2024-06-16T17:17:00.784Z"
   },
   {
    "duration": 48,
    "start_time": "2024-06-16T17:17:00.822Z"
   },
   {
    "duration": 44,
    "start_time": "2024-06-16T17:17:00.872Z"
   },
   {
    "duration": 49,
    "start_time": "2024-06-16T17:17:00.917Z"
   },
   {
    "duration": 132,
    "start_time": "2024-06-16T17:17:00.967Z"
   },
   {
    "duration": 64,
    "start_time": "2024-06-16T17:17:01.101Z"
   },
   {
    "duration": 40,
    "start_time": "2024-06-16T17:17:01.166Z"
   },
   {
    "duration": 107,
    "start_time": "2024-06-16T17:17:01.208Z"
   },
   {
    "duration": 37,
    "start_time": "2024-06-16T17:17:01.317Z"
   },
   {
    "duration": 141,
    "start_time": "2024-06-16T17:17:01.355Z"
   },
   {
    "duration": 3,
    "start_time": "2024-06-16T17:22:02.881Z"
   },
   {
    "duration": 1295,
    "start_time": "2024-06-16T17:22:06.788Z"
   },
   {
    "duration": 2,
    "start_time": "2024-06-16T17:22:08.086Z"
   },
   {
    "duration": 84,
    "start_time": "2024-06-16T17:22:08.092Z"
   },
   {
    "duration": 49,
    "start_time": "2024-06-16T17:22:08.178Z"
   },
   {
    "duration": 37,
    "start_time": "2024-06-16T17:22:08.228Z"
   },
   {
    "duration": 41,
    "start_time": "2024-06-16T17:22:08.266Z"
   },
   {
    "duration": 30,
    "start_time": "2024-06-16T17:22:08.309Z"
   },
   {
    "duration": 46,
    "start_time": "2024-06-16T17:22:08.341Z"
   },
   {
    "duration": 49,
    "start_time": "2024-06-16T17:22:08.390Z"
   },
   {
    "duration": 78,
    "start_time": "2024-06-16T17:22:08.441Z"
   },
   {
    "duration": 47,
    "start_time": "2024-06-16T17:22:08.521Z"
   },
   {
    "duration": 45,
    "start_time": "2024-06-16T17:22:08.569Z"
   },
   {
    "duration": 39,
    "start_time": "2024-06-16T17:22:08.615Z"
   },
   {
    "duration": 35,
    "start_time": "2024-06-16T17:22:08.655Z"
   },
   {
    "duration": 18,
    "start_time": "2024-06-16T17:22:08.691Z"
   },
   {
    "duration": 55,
    "start_time": "2024-06-16T17:22:08.711Z"
   },
   {
    "duration": 62,
    "start_time": "2024-06-16T17:22:08.767Z"
   },
   {
    "duration": 67,
    "start_time": "2024-06-16T17:22:08.830Z"
   },
   {
    "duration": 3,
    "start_time": "2024-06-16T17:22:44.094Z"
   },
   {
    "duration": 1271,
    "start_time": "2024-06-16T17:22:47.157Z"
   },
   {
    "duration": 2,
    "start_time": "2024-06-16T17:22:48.429Z"
   },
   {
    "duration": 44,
    "start_time": "2024-06-16T17:22:48.432Z"
   },
   {
    "duration": 11,
    "start_time": "2024-06-16T17:22:48.478Z"
   },
   {
    "duration": 12,
    "start_time": "2024-06-16T17:22:48.490Z"
   },
   {
    "duration": 10,
    "start_time": "2024-06-16T17:22:48.503Z"
   },
   {
    "duration": 3,
    "start_time": "2024-06-16T17:22:48.514Z"
   },
   {
    "duration": 4,
    "start_time": "2024-06-16T17:22:48.519Z"
   },
   {
    "duration": 8,
    "start_time": "2024-06-16T17:22:48.524Z"
   },
   {
    "duration": 36,
    "start_time": "2024-06-16T17:22:48.535Z"
   },
   {
    "duration": 2,
    "start_time": "2024-06-16T17:22:48.573Z"
   },
   {
    "duration": 4,
    "start_time": "2024-06-16T17:22:48.577Z"
   },
   {
    "duration": 5,
    "start_time": "2024-06-16T17:22:48.582Z"
   },
   {
    "duration": 4,
    "start_time": "2024-06-16T17:22:48.589Z"
   },
   {
    "duration": 7,
    "start_time": "2024-06-16T17:22:48.594Z"
   },
   {
    "duration": 9,
    "start_time": "2024-06-16T17:22:48.603Z"
   },
   {
    "duration": 5,
    "start_time": "2024-06-16T17:22:48.614Z"
   },
   {
    "duration": 7,
    "start_time": "2024-06-16T17:22:48.621Z"
   },
   {
    "duration": 1324,
    "start_time": "2024-06-16T17:26:01.949Z"
   },
   {
    "duration": 2,
    "start_time": "2024-06-16T17:26:03.276Z"
   },
   {
    "duration": 61,
    "start_time": "2024-06-16T17:26:03.279Z"
   },
   {
    "duration": 12,
    "start_time": "2024-06-16T17:26:03.342Z"
   },
   {
    "duration": 13,
    "start_time": "2024-06-16T17:26:03.356Z"
   },
   {
    "duration": 67,
    "start_time": "2024-06-16T17:26:03.370Z"
   },
   {
    "duration": 7,
    "start_time": "2024-06-16T17:26:03.439Z"
   },
   {
    "duration": 15,
    "start_time": "2024-06-16T17:26:03.448Z"
   },
   {
    "duration": 7,
    "start_time": "2024-06-16T17:26:03.464Z"
   },
   {
    "duration": 12,
    "start_time": "2024-06-16T17:26:03.472Z"
   },
   {
    "duration": 4,
    "start_time": "2024-06-16T17:26:03.486Z"
   },
   {
    "duration": 10,
    "start_time": "2024-06-16T17:26:03.491Z"
   },
   {
    "duration": 7,
    "start_time": "2024-06-16T17:26:03.502Z"
   },
   {
    "duration": 9,
    "start_time": "2024-06-16T17:26:03.511Z"
   },
   {
    "duration": 1282,
    "start_time": "2024-06-16T17:26:10.261Z"
   },
   {
    "duration": 2,
    "start_time": "2024-06-16T17:26:11.545Z"
   },
   {
    "duration": 33,
    "start_time": "2024-06-16T17:26:11.549Z"
   },
   {
    "duration": 14,
    "start_time": "2024-06-16T17:26:11.585Z"
   },
   {
    "duration": 12,
    "start_time": "2024-06-16T17:26:11.600Z"
   },
   {
    "duration": 12,
    "start_time": "2024-06-16T17:26:11.614Z"
   },
   {
    "duration": 3,
    "start_time": "2024-06-16T17:26:11.628Z"
   },
   {
    "duration": 7,
    "start_time": "2024-06-16T17:26:11.632Z"
   },
   {
    "duration": 9,
    "start_time": "2024-06-16T17:26:11.641Z"
   },
   {
    "duration": 10,
    "start_time": "2024-06-16T17:26:11.664Z"
   },
   {
    "duration": 4,
    "start_time": "2024-06-16T17:26:11.676Z"
   },
   {
    "duration": 21,
    "start_time": "2024-06-16T17:26:11.681Z"
   },
   {
    "duration": 14,
    "start_time": "2024-06-16T17:26:11.703Z"
   },
   {
    "duration": 11,
    "start_time": "2024-06-16T17:26:11.718Z"
   },
   {
    "duration": 1283,
    "start_time": "2024-06-16T17:26:33.971Z"
   },
   {
    "duration": 2,
    "start_time": "2024-06-16T17:26:35.256Z"
   },
   {
    "duration": 44,
    "start_time": "2024-06-16T17:26:35.260Z"
   },
   {
    "duration": 12,
    "start_time": "2024-06-16T17:26:35.306Z"
   },
   {
    "duration": 15,
    "start_time": "2024-06-16T17:26:35.319Z"
   },
   {
    "duration": 18,
    "start_time": "2024-06-16T17:26:35.335Z"
   },
   {
    "duration": 3,
    "start_time": "2024-06-16T17:26:35.354Z"
   },
   {
    "duration": 9,
    "start_time": "2024-06-16T17:26:35.358Z"
   },
   {
    "duration": 73,
    "start_time": "2024-06-16T17:26:35.368Z"
   },
   {
    "duration": 9,
    "start_time": "2024-06-16T17:26:35.443Z"
   },
   {
    "duration": 4,
    "start_time": "2024-06-16T17:26:35.454Z"
   },
   {
    "duration": 11,
    "start_time": "2024-06-16T17:26:35.459Z"
   },
   {
    "duration": 6,
    "start_time": "2024-06-16T17:26:35.472Z"
   },
   {
    "duration": 10,
    "start_time": "2024-06-16T17:26:35.479Z"
   },
   {
    "duration": 52,
    "start_time": "2024-06-17T11:57:36.108Z"
   },
   {
    "duration": 1690,
    "start_time": "2024-06-17T11:57:51.915Z"
   },
   {
    "duration": 3,
    "start_time": "2024-06-17T11:57:53.607Z"
   },
   {
    "duration": 118,
    "start_time": "2024-06-17T11:57:53.611Z"
   },
   {
    "duration": 15,
    "start_time": "2024-06-17T11:57:53.731Z"
   },
   {
    "duration": 19,
    "start_time": "2024-06-17T11:57:53.747Z"
   },
   {
    "duration": 24,
    "start_time": "2024-06-17T11:57:53.768Z"
   },
   {
    "duration": 3,
    "start_time": "2024-06-17T11:57:53.795Z"
   },
   {
    "duration": 8,
    "start_time": "2024-06-17T11:57:53.800Z"
   },
   {
    "duration": 19,
    "start_time": "2024-06-17T11:57:53.809Z"
   },
   {
    "duration": 14,
    "start_time": "2024-06-17T11:57:53.832Z"
   },
   {
    "duration": 6,
    "start_time": "2024-06-17T11:57:53.848Z"
   },
   {
    "duration": 16,
    "start_time": "2024-06-17T11:57:53.856Z"
   },
   {
    "duration": 8,
    "start_time": "2024-06-17T11:57:53.891Z"
   },
   {
    "duration": 9,
    "start_time": "2024-06-17T11:57:53.900Z"
   },
   {
    "duration": 28,
    "start_time": "2024-06-17T11:57:53.911Z"
   },
   {
    "duration": 1843,
    "start_time": "2024-06-17T12:18:23.821Z"
   },
   {
    "duration": 2,
    "start_time": "2024-06-17T12:18:25.666Z"
   },
   {
    "duration": 47,
    "start_time": "2024-06-17T12:18:25.670Z"
   },
   {
    "duration": 13,
    "start_time": "2024-06-17T12:18:25.719Z"
   },
   {
    "duration": 24,
    "start_time": "2024-06-17T12:18:25.734Z"
   },
   {
    "duration": 24,
    "start_time": "2024-06-17T12:18:25.760Z"
   },
   {
    "duration": 3,
    "start_time": "2024-06-17T12:18:25.786Z"
   },
   {
    "duration": 31,
    "start_time": "2024-06-17T12:18:25.791Z"
   },
   {
    "duration": 11,
    "start_time": "2024-06-17T12:18:25.824Z"
   },
   {
    "duration": 31,
    "start_time": "2024-06-17T12:18:25.837Z"
   },
   {
    "duration": 19,
    "start_time": "2024-06-17T12:18:25.869Z"
   },
   {
    "duration": 26,
    "start_time": "2024-06-17T12:18:25.890Z"
   },
   {
    "duration": 20,
    "start_time": "2024-06-17T12:18:25.918Z"
   },
   {
    "duration": 33,
    "start_time": "2024-06-17T12:18:25.941Z"
   },
   {
    "duration": 49,
    "start_time": "2024-06-17T12:18:25.976Z"
   },
   {
    "duration": 64,
    "start_time": "2024-06-17T12:18:26.027Z"
   },
   {
    "duration": 8,
    "start_time": "2024-06-17T12:21:27.197Z"
   },
   {
    "duration": 232,
    "start_time": "2024-06-17T12:21:47.571Z"
   },
   {
    "duration": 9,
    "start_time": "2024-06-17T12:21:59.264Z"
   },
   {
    "duration": 10,
    "start_time": "2024-06-17T12:23:09.322Z"
   },
   {
    "duration": 8,
    "start_time": "2024-06-17T12:23:18.192Z"
   },
   {
    "duration": 10,
    "start_time": "2024-06-17T12:23:23.264Z"
   },
   {
    "duration": 10,
    "start_time": "2024-06-17T12:23:30.775Z"
   },
   {
    "duration": 7,
    "start_time": "2024-06-17T12:23:44.995Z"
   },
   {
    "duration": 796,
    "start_time": "2024-06-27T20:24:27.329Z"
   },
   {
    "duration": 126,
    "start_time": "2024-06-27T20:24:28.763Z"
   },
   {
    "duration": 97,
    "start_time": "2024-06-27T20:24:53.153Z"
   },
   {
    "duration": 47,
    "start_time": "2024-06-27T20:26:10.494Z"
   },
   {
    "duration": 11,
    "start_time": "2024-06-27T20:26:10.875Z"
   },
   {
    "duration": 6,
    "start_time": "2024-06-27T20:26:11.198Z"
   },
   {
    "duration": 5,
    "start_time": "2024-06-27T20:26:11.373Z"
   },
   {
    "duration": 134,
    "start_time": "2024-06-27T20:26:11.545Z"
   },
   {
    "duration": 894,
    "start_time": "2024-06-27T20:26:11.726Z"
   },
   {
    "duration": 854,
    "start_time": "2024-06-27T20:26:30.952Z"
   },
   {
    "duration": 96,
    "start_time": "2024-06-27T20:26:32.726Z"
   },
   {
    "duration": 10,
    "start_time": "2024-06-27T20:26:33.398Z"
   },
   {
    "duration": 7,
    "start_time": "2024-06-27T20:26:33.919Z"
   },
   {
    "duration": 5,
    "start_time": "2024-06-27T20:26:34.433Z"
   },
   {
    "duration": 134,
    "start_time": "2024-06-27T20:26:38.080Z"
   },
   {
    "duration": 783,
    "start_time": "2024-06-27T20:26:38.662Z"
   },
   {
    "duration": 48,
    "start_time": "2024-06-27T20:27:04.897Z"
   },
   {
    "duration": 657,
    "start_time": "2024-06-27T20:27:08.580Z"
   },
   {
    "duration": 100,
    "start_time": "2024-06-27T20:27:09.772Z"
   },
   {
    "duration": 10,
    "start_time": "2024-06-27T20:27:10.084Z"
   },
   {
    "duration": 8,
    "start_time": "2024-06-27T20:27:10.249Z"
   },
   {
    "duration": 4,
    "start_time": "2024-06-27T20:27:10.421Z"
   },
   {
    "duration": 135,
    "start_time": "2024-06-27T20:27:11.510Z"
   },
   {
    "duration": 774,
    "start_time": "2024-06-27T20:27:12.935Z"
   },
   {
    "duration": 4819,
    "start_time": "2024-06-27T20:27:15.676Z"
   },
   {
    "duration": 54,
    "start_time": "2024-06-27T20:28:26.033Z"
   },
   {
    "duration": 627,
    "start_time": "2024-06-27T20:28:29.444Z"
   },
   {
    "duration": 95,
    "start_time": "2024-06-27T20:28:35.817Z"
   },
   {
    "duration": 9,
    "start_time": "2024-06-27T20:28:36.228Z"
   },
   {
    "duration": 9,
    "start_time": "2024-06-27T20:28:36.514Z"
   },
   {
    "duration": 5,
    "start_time": "2024-06-27T20:28:36.958Z"
   },
   {
    "duration": 136,
    "start_time": "2024-06-27T20:28:37.552Z"
   },
   {
    "duration": 709,
    "start_time": "2024-06-27T20:28:38.620Z"
   },
   {
    "duration": 5229,
    "start_time": "2024-06-27T20:28:41.070Z"
   },
   {
    "duration": 5,
    "start_time": "2024-06-27T20:28:52.311Z"
   },
   {
    "duration": 4,
    "start_time": "2024-06-27T20:29:01.839Z"
   },
   {
    "duration": 4,
    "start_time": "2024-06-27T20:29:08.368Z"
   },
   {
    "duration": 4,
    "start_time": "2024-06-27T20:29:12.951Z"
   },
   {
    "duration": 3,
    "start_time": "2024-06-27T20:29:32.482Z"
   },
   {
    "duration": 46,
    "start_time": "2024-06-27T20:29:33.150Z"
   },
   {
    "duration": 7,
    "start_time": "2024-06-27T20:29:33.480Z"
   },
   {
    "duration": 5,
    "start_time": "2024-06-27T20:29:33.857Z"
   },
   {
    "duration": 4,
    "start_time": "2024-06-27T20:29:34.364Z"
   },
   {
    "duration": 24,
    "start_time": "2024-06-27T20:29:36.004Z"
   },
   {
    "duration": 511,
    "start_time": "2024-06-27T20:29:36.805Z"
   },
   {
    "duration": 559,
    "start_time": "2024-06-27T20:29:40.530Z"
   },
   {
    "duration": 4,
    "start_time": "2024-06-27T20:29:42.875Z"
   },
   {
    "duration": 376,
    "start_time": "2024-06-27T20:29:44.652Z"
   },
   {
    "duration": 1075,
    "start_time": "2024-06-27T20:29:54.896Z"
   },
   {
    "duration": 4,
    "start_time": "2024-06-27T20:30:23.277Z"
   },
   {
    "duration": 3,
    "start_time": "2024-06-27T20:30:40.618Z"
   },
   {
    "duration": 44,
    "start_time": "2024-06-27T20:30:41.048Z"
   },
   {
    "duration": 7,
    "start_time": "2024-06-27T20:30:41.279Z"
   },
   {
    "duration": 6,
    "start_time": "2024-06-27T20:30:41.436Z"
   },
   {
    "duration": 4,
    "start_time": "2024-06-27T20:30:41.615Z"
   },
   {
    "duration": 4,
    "start_time": "2024-06-27T20:30:41.765Z"
   },
   {
    "duration": 39,
    "start_time": "2024-06-27T20:30:42.074Z"
   },
   {
    "duration": 600,
    "start_time": "2024-06-27T20:30:42.711Z"
   },
   {
    "duration": 433,
    "start_time": "2024-06-27T20:30:48.357Z"
   },
   {
    "duration": 4,
    "start_time": "2024-06-27T20:30:51.433Z"
   },
   {
    "duration": 408,
    "start_time": "2024-06-27T20:30:51.926Z"
   },
   {
    "duration": 1186,
    "start_time": "2024-06-27T20:30:54.798Z"
   },
   {
    "duration": 294,
    "start_time": "2024-06-27T20:30:59.503Z"
   },
   {
    "duration": 7,
    "start_time": "2024-06-27T20:31:01.645Z"
   },
   {
    "duration": 177928,
    "start_time": "2024-06-27T20:31:06.402Z"
   },
   {
    "duration": 59,
    "start_time": "2024-06-27T20:38:56.526Z"
   },
   {
    "duration": 4,
    "start_time": "2024-06-27T20:39:29.439Z"
   },
   {
    "duration": 4,
    "start_time": "2024-06-27T20:39:44.788Z"
   },
   {
    "duration": 146,
    "start_time": "2024-06-27T20:39:46.121Z"
   },
   {
    "duration": 63,
    "start_time": "2024-06-27T20:39:47.115Z"
   },
   {
    "duration": 139,
    "start_time": "2024-06-27T20:40:59.103Z"
   },
   {
    "duration": 11,
    "start_time": "2024-06-27T20:41:43.459Z"
   },
   {
    "duration": 256,
    "start_time": "2024-06-27T20:41:56.512Z"
   },
   {
    "duration": 588,
    "start_time": "2024-06-27T20:42:06.011Z"
   },
   {
    "duration": 62,
    "start_time": "2024-06-27T20:43:07.099Z"
   },
   {
    "duration": 686,
    "start_time": "2024-06-27T20:43:21.686Z"
   },
   {
    "duration": 449,
    "start_time": "2024-06-27T20:43:23.614Z"
   },
   {
    "duration": 516,
    "start_time": "2024-06-27T20:44:05.785Z"
   },
   {
    "duration": 521,
    "start_time": "2024-06-27T20:45:08.241Z"
   },
   {
    "duration": 451,
    "start_time": "2024-06-27T20:45:38.453Z"
   },
   {
    "duration": 449,
    "start_time": "2024-06-27T20:46:14.997Z"
   },
   {
    "duration": 960,
    "start_time": "2024-06-27T20:49:46.468Z"
   },
   {
    "duration": 1170,
    "start_time": "2024-06-27T20:51:43.512Z"
   },
   {
    "duration": 424,
    "start_time": "2024-06-27T20:52:09.616Z"
   }
  ],
  "kernelspec": {
   "display_name": "Python 3 (ipykernel)",
   "language": "python",
   "name": "python3"
  },
  "language_info": {
   "codemirror_mode": {
    "name": "ipython",
    "version": 3
   },
   "file_extension": ".py",
   "mimetype": "text/x-python",
   "name": "python",
   "nbconvert_exporter": "python",
   "pygments_lexer": "ipython3",
   "version": "3.9.5"
  },
  "toc": {
   "base_numbering": 1,
   "nav_menu": {},
   "number_sections": true,
   "sideBar": true,
   "skip_h1_title": true,
   "title_cell": "Содержание",
   "title_sidebar": "Contents",
   "toc_cell": true,
   "toc_position": {
    "height": "calc(100% - 180px)",
    "left": "10px",
    "top": "150px",
    "width": "196.818px"
   },
   "toc_section_display": true,
   "toc_window_display": true
  }
 },
 "nbformat": 4,
 "nbformat_minor": 2
}
