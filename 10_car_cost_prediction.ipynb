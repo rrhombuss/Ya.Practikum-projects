{
 "cells": [
  {
   "cell_type": "markdown",
   "metadata": {},
   "source": [
    "# Определение стоимости автомобилей"
   ]
  },
  {
   "cell_type": "markdown",
   "metadata": {},
   "source": [
    "Сервис по продаже автомобилей с пробегом «Не бит, не крашен» разрабатывает приложение для привлечения новых клиентов. В нём можно быстро узнать рыночную стоимость своего автомобиля. В вашем распоряжении исторические данные: технические характеристики, комплектации и цены автомобилей. Вам нужно построить модель для определения стоимости. \n",
    "\n",
    "Заказчику важны:\n",
    "\n",
    "- качество предсказания;\n",
    "- скорость предсказания;\n",
    "- время обучения."
   ]
  },
  {
   "cell_type": "markdown",
   "metadata": {},
   "source": [
    "## Предобработка данных"
   ]
  },
  {
   "cell_type": "code",
   "execution_count": 1,
   "metadata": {},
   "outputs": [],
   "source": [
    "import pandas as pd\n",
    "import numpy as np\n",
    "import seaborn as sns\n",
    "from scipy import stats as st\n",
    "import matplotlib.pyplot as plt\n",
    "from sklearn.model_selection import cross_val_score\n",
    "from sklearn.linear_model import LinearRegression\n",
    "from sklearn.model_selection import train_test_split, GridSearchCV\n",
    "from sklearn.metrics import mean_squared_error, accuracy_score, f1_score\n",
    "from sklearn.preprocessing import StandardScaler\n",
    "from sklearn.utils import shuffle\n",
    "from sklearn.dummy import DummyRegressor\n",
    "from sklearn.ensemble import RandomForestRegressor\n",
    "import warnings\n",
    "from sklearn.metrics import make_scorer\n",
    "from sklearn.metrics import r2_score\n",
    "from sklearn.pipeline import Pipeline\n",
    "from sklearn.preprocessing import OrdinalEncoder\n",
    "import lightgbm as lgb\n",
    "import catboost\n",
    "from category_encoders import TargetEncoder"
   ]
  },
  {
   "cell_type": "code",
   "execution_count": 2,
   "metadata": {},
   "outputs": [
    {
     "data": {
      "text/html": [
       "<div>\n",
       "<style scoped>\n",
       "    .dataframe tbody tr th:only-of-type {\n",
       "        vertical-align: middle;\n",
       "    }\n",
       "\n",
       "    .dataframe tbody tr th {\n",
       "        vertical-align: top;\n",
       "    }\n",
       "\n",
       "    .dataframe thead th {\n",
       "        text-align: right;\n",
       "    }\n",
       "</style>\n",
       "<table border=\"1\" class=\"dataframe\">\n",
       "  <thead>\n",
       "    <tr style=\"text-align: right;\">\n",
       "      <th></th>\n",
       "      <th>DateCrawled</th>\n",
       "      <th>Price</th>\n",
       "      <th>VehicleType</th>\n",
       "      <th>RegistrationYear</th>\n",
       "      <th>Gearbox</th>\n",
       "      <th>Power</th>\n",
       "      <th>Model</th>\n",
       "      <th>Kilometer</th>\n",
       "      <th>RegistrationMonth</th>\n",
       "      <th>FuelType</th>\n",
       "      <th>Brand</th>\n",
       "      <th>Repaired</th>\n",
       "      <th>DateCreated</th>\n",
       "      <th>NumberOfPictures</th>\n",
       "      <th>PostalCode</th>\n",
       "      <th>LastSeen</th>\n",
       "    </tr>\n",
       "  </thead>\n",
       "  <tbody>\n",
       "    <tr>\n",
       "      <th>0</th>\n",
       "      <td>2016-03-24 11:52:17</td>\n",
       "      <td>480</td>\n",
       "      <td>NaN</td>\n",
       "      <td>1993</td>\n",
       "      <td>manual</td>\n",
       "      <td>0</td>\n",
       "      <td>golf</td>\n",
       "      <td>150000</td>\n",
       "      <td>0</td>\n",
       "      <td>petrol</td>\n",
       "      <td>volkswagen</td>\n",
       "      <td>NaN</td>\n",
       "      <td>2016-03-24 00:00:00</td>\n",
       "      <td>0</td>\n",
       "      <td>70435</td>\n",
       "      <td>2016-04-07 03:16:57</td>\n",
       "    </tr>\n",
       "    <tr>\n",
       "      <th>1</th>\n",
       "      <td>2016-03-24 10:58:45</td>\n",
       "      <td>18300</td>\n",
       "      <td>coupe</td>\n",
       "      <td>2011</td>\n",
       "      <td>manual</td>\n",
       "      <td>190</td>\n",
       "      <td>NaN</td>\n",
       "      <td>125000</td>\n",
       "      <td>5</td>\n",
       "      <td>gasoline</td>\n",
       "      <td>audi</td>\n",
       "      <td>yes</td>\n",
       "      <td>2016-03-24 00:00:00</td>\n",
       "      <td>0</td>\n",
       "      <td>66954</td>\n",
       "      <td>2016-04-07 01:46:50</td>\n",
       "    </tr>\n",
       "    <tr>\n",
       "      <th>2</th>\n",
       "      <td>2016-03-14 12:52:21</td>\n",
       "      <td>9800</td>\n",
       "      <td>suv</td>\n",
       "      <td>2004</td>\n",
       "      <td>auto</td>\n",
       "      <td>163</td>\n",
       "      <td>grand</td>\n",
       "      <td>125000</td>\n",
       "      <td>8</td>\n",
       "      <td>gasoline</td>\n",
       "      <td>jeep</td>\n",
       "      <td>NaN</td>\n",
       "      <td>2016-03-14 00:00:00</td>\n",
       "      <td>0</td>\n",
       "      <td>90480</td>\n",
       "      <td>2016-04-05 12:47:46</td>\n",
       "    </tr>\n",
       "    <tr>\n",
       "      <th>3</th>\n",
       "      <td>2016-03-17 16:54:04</td>\n",
       "      <td>1500</td>\n",
       "      <td>small</td>\n",
       "      <td>2001</td>\n",
       "      <td>manual</td>\n",
       "      <td>75</td>\n",
       "      <td>golf</td>\n",
       "      <td>150000</td>\n",
       "      <td>6</td>\n",
       "      <td>petrol</td>\n",
       "      <td>volkswagen</td>\n",
       "      <td>no</td>\n",
       "      <td>2016-03-17 00:00:00</td>\n",
       "      <td>0</td>\n",
       "      <td>91074</td>\n",
       "      <td>2016-03-17 17:40:17</td>\n",
       "    </tr>\n",
       "    <tr>\n",
       "      <th>4</th>\n",
       "      <td>2016-03-31 17:25:20</td>\n",
       "      <td>3600</td>\n",
       "      <td>small</td>\n",
       "      <td>2008</td>\n",
       "      <td>manual</td>\n",
       "      <td>69</td>\n",
       "      <td>fabia</td>\n",
       "      <td>90000</td>\n",
       "      <td>7</td>\n",
       "      <td>gasoline</td>\n",
       "      <td>skoda</td>\n",
       "      <td>no</td>\n",
       "      <td>2016-03-31 00:00:00</td>\n",
       "      <td>0</td>\n",
       "      <td>60437</td>\n",
       "      <td>2016-04-06 10:17:21</td>\n",
       "    </tr>\n",
       "  </tbody>\n",
       "</table>\n",
       "</div>"
      ],
      "text/plain": [
       "           DateCrawled  Price VehicleType  RegistrationYear Gearbox  Power  \\\n",
       "0  2016-03-24 11:52:17    480         NaN              1993  manual      0   \n",
       "1  2016-03-24 10:58:45  18300       coupe              2011  manual    190   \n",
       "2  2016-03-14 12:52:21   9800         suv              2004    auto    163   \n",
       "3  2016-03-17 16:54:04   1500       small              2001  manual     75   \n",
       "4  2016-03-31 17:25:20   3600       small              2008  manual     69   \n",
       "\n",
       "   Model  Kilometer  RegistrationMonth  FuelType       Brand Repaired  \\\n",
       "0   golf     150000                  0    petrol  volkswagen      NaN   \n",
       "1    NaN     125000                  5  gasoline        audi      yes   \n",
       "2  grand     125000                  8  gasoline        jeep      NaN   \n",
       "3   golf     150000                  6    petrol  volkswagen       no   \n",
       "4  fabia      90000                  7  gasoline       skoda       no   \n",
       "\n",
       "           DateCreated  NumberOfPictures  PostalCode             LastSeen  \n",
       "0  2016-03-24 00:00:00                 0       70435  2016-04-07 03:16:57  \n",
       "1  2016-03-24 00:00:00                 0       66954  2016-04-07 01:46:50  \n",
       "2  2016-03-14 00:00:00                 0       90480  2016-04-05 12:47:46  \n",
       "3  2016-03-17 00:00:00                 0       91074  2016-03-17 17:40:17  \n",
       "4  2016-03-31 00:00:00                 0       60437  2016-04-06 10:17:21  "
      ]
     },
     "execution_count": 2,
     "metadata": {},
     "output_type": "execute_result"
    }
   ],
   "source": [
    "df = pd.read_csv('C:/datasc/pracfiles/autos.csv')\n",
    "df.head()"
   ]
  },
  {
   "cell_type": "code",
   "execution_count": 3,
   "metadata": {},
   "outputs": [
    {
     "name": "stdout",
     "output_type": "stream",
     "text": [
      "4\n"
     ]
    }
   ],
   "source": [
    "print(len(df[df.duplicated()]))\n",
    "df = df.drop_duplicates()"
   ]
  },
  {
   "cell_type": "code",
   "execution_count": 4,
   "metadata": {},
   "outputs": [
    {
     "data": {
      "text/plain": [
       "0"
      ]
     },
     "execution_count": 4,
     "metadata": {},
     "output_type": "execute_result"
    }
   ],
   "source": [
    "len(df[df.duplicated()])"
   ]
  },
  {
   "cell_type": "code",
   "execution_count": 5,
   "metadata": {
    "scrolled": true
   },
   "outputs": [
    {
     "data": {
      "text/html": [
       "<div>\n",
       "<style scoped>\n",
       "    .dataframe tbody tr th:only-of-type {\n",
       "        vertical-align: middle;\n",
       "    }\n",
       "\n",
       "    .dataframe tbody tr th {\n",
       "        vertical-align: top;\n",
       "    }\n",
       "\n",
       "    .dataframe thead th {\n",
       "        text-align: right;\n",
       "    }\n",
       "</style>\n",
       "<table border=\"1\" class=\"dataframe\">\n",
       "  <thead>\n",
       "    <tr style=\"text-align: right;\">\n",
       "      <th></th>\n",
       "      <th>Price</th>\n",
       "      <th>VehicleType</th>\n",
       "      <th>RegistrationYear</th>\n",
       "      <th>Gearbox</th>\n",
       "      <th>Power</th>\n",
       "      <th>Model</th>\n",
       "      <th>Kilometer</th>\n",
       "      <th>FuelType</th>\n",
       "      <th>Repaired</th>\n",
       "    </tr>\n",
       "  </thead>\n",
       "  <tbody>\n",
       "    <tr>\n",
       "      <th>0</th>\n",
       "      <td>480</td>\n",
       "      <td>NaN</td>\n",
       "      <td>1993</td>\n",
       "      <td>manual</td>\n",
       "      <td>0</td>\n",
       "      <td>golf</td>\n",
       "      <td>150000</td>\n",
       "      <td>petrol</td>\n",
       "      <td>NaN</td>\n",
       "    </tr>\n",
       "    <tr>\n",
       "      <th>1</th>\n",
       "      <td>18300</td>\n",
       "      <td>coupe</td>\n",
       "      <td>2011</td>\n",
       "      <td>manual</td>\n",
       "      <td>190</td>\n",
       "      <td>NaN</td>\n",
       "      <td>125000</td>\n",
       "      <td>gasoline</td>\n",
       "      <td>yes</td>\n",
       "    </tr>\n",
       "    <tr>\n",
       "      <th>2</th>\n",
       "      <td>9800</td>\n",
       "      <td>suv</td>\n",
       "      <td>2004</td>\n",
       "      <td>auto</td>\n",
       "      <td>163</td>\n",
       "      <td>grand</td>\n",
       "      <td>125000</td>\n",
       "      <td>gasoline</td>\n",
       "      <td>NaN</td>\n",
       "    </tr>\n",
       "    <tr>\n",
       "      <th>3</th>\n",
       "      <td>1500</td>\n",
       "      <td>small</td>\n",
       "      <td>2001</td>\n",
       "      <td>manual</td>\n",
       "      <td>75</td>\n",
       "      <td>golf</td>\n",
       "      <td>150000</td>\n",
       "      <td>petrol</td>\n",
       "      <td>no</td>\n",
       "    </tr>\n",
       "    <tr>\n",
       "      <th>4</th>\n",
       "      <td>3600</td>\n",
       "      <td>small</td>\n",
       "      <td>2008</td>\n",
       "      <td>manual</td>\n",
       "      <td>69</td>\n",
       "      <td>fabia</td>\n",
       "      <td>90000</td>\n",
       "      <td>gasoline</td>\n",
       "      <td>no</td>\n",
       "    </tr>\n",
       "  </tbody>\n",
       "</table>\n",
       "</div>"
      ],
      "text/plain": [
       "   Price VehicleType  RegistrationYear Gearbox  Power  Model  Kilometer  \\\n",
       "0    480         NaN              1993  manual      0   golf     150000   \n",
       "1  18300       coupe              2011  manual    190    NaN     125000   \n",
       "2   9800         suv              2004    auto    163  grand     125000   \n",
       "3   1500       small              2001  manual     75   golf     150000   \n",
       "4   3600       small              2008  manual     69  fabia      90000   \n",
       "\n",
       "   FuelType Repaired  \n",
       "0    petrol      NaN  \n",
       "1  gasoline      yes  \n",
       "2  gasoline      NaN  \n",
       "3    petrol       no  \n",
       "4  gasoline       no  "
      ]
     },
     "execution_count": 5,
     "metadata": {},
     "output_type": "execute_result"
    }
   ],
   "source": [
    "df = df.drop(['DateCrawled', 'RegistrationMonth', 'DateCreated', 'NumberOfPictures', 'PostalCode', 'LastSeen', 'Brand'], axis=1)\n",
    "df.head()"
   ]
  },
  {
   "cell_type": "code",
   "execution_count": 6,
   "metadata": {},
   "outputs": [
    {
     "name": "stdout",
     "output_type": "stream",
     "text": [
      "<class 'pandas.core.frame.DataFrame'>\n",
      "Int64Index: 354365 entries, 0 to 354368\n",
      "Data columns (total 9 columns):\n",
      " #   Column            Non-Null Count   Dtype \n",
      "---  ------            --------------   ----- \n",
      " 0   Price             354365 non-null  int64 \n",
      " 1   VehicleType       316875 non-null  object\n",
      " 2   RegistrationYear  354365 non-null  int64 \n",
      " 3   Gearbox           334532 non-null  object\n",
      " 4   Power             354365 non-null  int64 \n",
      " 5   Model             334660 non-null  object\n",
      " 6   Kilometer         354365 non-null  int64 \n",
      " 7   FuelType          321470 non-null  object\n",
      " 8   Repaired          283211 non-null  object\n",
      "dtypes: int64(4), object(5)\n",
      "memory usage: 27.0+ MB\n"
     ]
    }
   ],
   "source": [
    "df.info()"
   ]
  },
  {
   "cell_type": "code",
   "execution_count": 7,
   "metadata": {},
   "outputs": [
    {
     "data": {
      "text/plain": [
       "array(['manual', 'auto', nan], dtype=object)"
      ]
     },
     "execution_count": 7,
     "metadata": {},
     "output_type": "execute_result"
    }
   ],
   "source": [
    "df['Gearbox'].unique()"
   ]
  },
  {
   "cell_type": "code",
   "execution_count": 8,
   "metadata": {},
   "outputs": [
    {
     "data": {
      "text/plain": [
       "array([nan, 'coupe', 'suv', 'small', 'sedan', 'convertible', 'bus',\n",
       "       'wagon', 'other'], dtype=object)"
      ]
     },
     "execution_count": 8,
     "metadata": {},
     "output_type": "execute_result"
    }
   ],
   "source": [
    "df['VehicleType'].unique()"
   ]
  },
  {
   "cell_type": "code",
   "execution_count": 9,
   "metadata": {
    "scrolled": true
   },
   "outputs": [
    {
     "data": {
      "text/plain": [
       "array(['golf', nan, 'grand', 'fabia', '3er', '2_reihe', 'other', 'c_max',\n",
       "       '3_reihe', 'passat', 'navara', 'ka', 'polo', 'twingo', 'a_klasse',\n",
       "       'scirocco', '5er', 'meriva', 'arosa', 'c4', 'civic', 'transporter',\n",
       "       'punto', 'e_klasse', 'clio', 'kadett', 'kangoo', 'corsa', 'one',\n",
       "       'fortwo', '1er', 'b_klasse', 'signum', 'astra', 'a8', 'jetta',\n",
       "       'fiesta', 'c_klasse', 'micra', 'vito', 'sprinter', '156', 'escort',\n",
       "       'forester', 'xc_reihe', 'scenic', 'a4', 'a1', 'insignia', 'combo',\n",
       "       'focus', 'tt', 'a6', 'jazz', 'omega', 'slk', '7er', '80', '147',\n",
       "       '100', 'z_reihe', 'sportage', 'sorento', 'v40', 'ibiza', 'mustang',\n",
       "       'eos', 'touran', 'getz', 'a3', 'almera', 'megane', 'lupo', 'r19',\n",
       "       'zafira', 'caddy', 'mondeo', 'cordoba', 'colt', 'impreza',\n",
       "       'vectra', 'berlingo', 'tiguan', 'i_reihe', 'espace', 'sharan',\n",
       "       '6_reihe', 'panda', 'up', 'seicento', 'ceed', '5_reihe', 'yeti',\n",
       "       'octavia', 'mii', 'rx_reihe', '6er', 'modus', 'fox', 'matiz',\n",
       "       'beetle', 'c1', 'rio', 'touareg', 'logan', 'spider', 'cuore',\n",
       "       's_max', 'a2', 'galaxy', 'c3', 'viano', 's_klasse', '1_reihe',\n",
       "       'avensis', 'roomster', 'sl', 'kaefer', 'santa', 'cooper', 'leon',\n",
       "       '4_reihe', 'a5', '500', 'laguna', 'ptcruiser', 'clk', 'primera',\n",
       "       'x_reihe', 'exeo', '159', 'transit', 'juke', 'qashqai', 'carisma',\n",
       "       'accord', 'corolla', 'lanos', 'phaeton', 'verso', 'swift', 'rav',\n",
       "       'picanto', 'boxster', 'kalos', 'superb', 'stilo', 'alhambra',\n",
       "       'mx_reihe', 'roadster', 'ypsilon', 'cayenne', 'galant', 'justy',\n",
       "       '90', 'sirion', 'crossfire', 'agila', 'duster', 'cr_reihe', 'v50',\n",
       "       'c_reihe', 'v_klasse', 'm_klasse', 'yaris', 'c5', 'aygo', 'cc',\n",
       "       'carnival', 'fusion', '911', 'bora', 'forfour', 'm_reihe', 'cl',\n",
       "       'tigra', '300c', 'spark', 'v70', 'kuga', 'x_type', 'ducato',\n",
       "       's_type', 'x_trail', 'toledo', 'altea', 'voyager', 'calibra',\n",
       "       'bravo', 'antara', 'tucson', 'citigo', 'jimny', 'wrangler',\n",
       "       'lybra', 'q7', 'lancer', 'captiva', 'c2', 'discovery',\n",
       "       'freelander', 'sandero', 'note', '900', 'cherokee', 'clubman',\n",
       "       'samara', 'defender', '601', 'cx_reihe', 'legacy', 'pajero',\n",
       "       'auris', 'niva', 's60', 'nubira', 'vivaro', 'g_klasse', 'lodgy',\n",
       "       '850', 'range_rover', 'q3', 'serie_2', 'glk', 'charade', 'croma',\n",
       "       'outlander', 'doblo', 'musa', 'move', '9000', 'v60', '145', 'aveo',\n",
       "       '200', 'b_max', 'range_rover_sport', 'terios', 'rangerover', 'q5',\n",
       "       'range_rover_evoque', 'materia', 'delta', 'gl', 'kalina', 'amarok',\n",
       "       'elefantino', 'i3', 'kappa', 'serie_3', 'serie_1'], dtype=object)"
      ]
     },
     "execution_count": 9,
     "metadata": {},
     "output_type": "execute_result"
    }
   ],
   "source": [
    "df['Model'].unique()\n"
   ]
  },
  {
   "cell_type": "code",
   "execution_count": 10,
   "metadata": {},
   "outputs": [
    {
     "data": {
      "text/plain": [
       "array(['petrol', 'gasoline', nan, 'lpg', 'other', 'hybrid', 'cng',\n",
       "       'electric'], dtype=object)"
      ]
     },
     "execution_count": 10,
     "metadata": {},
     "output_type": "execute_result"
    }
   ],
   "source": [
    "df['FuelType'].unique()\n"
   ]
  },
  {
   "cell_type": "code",
   "execution_count": 11,
   "metadata": {},
   "outputs": [
    {
     "data": {
      "text/plain": [
       "Price                   0\n",
       "VehicleType         37490\n",
       "RegistrationYear        0\n",
       "Gearbox             19833\n",
       "Power                   0\n",
       "Model               19705\n",
       "Kilometer               0\n",
       "FuelType            32895\n",
       "Repaired            71154\n",
       "dtype: int64"
      ]
     },
     "execution_count": 11,
     "metadata": {},
     "output_type": "execute_result"
    }
   ],
   "source": [
    "df.isna().sum()"
   ]
  },
  {
   "cell_type": "code",
   "execution_count": 12,
   "metadata": {},
   "outputs": [
    {
     "data": {
      "text/plain": [
       "19705"
      ]
     },
     "execution_count": 12,
     "metadata": {},
     "output_type": "execute_result"
    }
   ],
   "source": [
    "df['Model'].isna().sum()"
   ]
  },
  {
   "cell_type": "code",
   "execution_count": 13,
   "metadata": {},
   "outputs": [
    {
     "data": {
      "text/plain": [
       "array([nan, 'yes', 'no'], dtype=object)"
      ]
     },
     "execution_count": 13,
     "metadata": {},
     "output_type": "execute_result"
    }
   ],
   "source": [
    "df['Repaired'].unique()"
   ]
  },
  {
   "cell_type": "code",
   "execution_count": 14,
   "metadata": {},
   "outputs": [
    {
     "data": {
      "text/plain": [
       "0    petrol/gasoline\n",
       "1    petrol/gasoline\n",
       "2    petrol/gasoline\n",
       "3    petrol/gasoline\n",
       "4    petrol/gasoline\n",
       "Name: FuelType, dtype: object"
      ]
     },
     "execution_count": 14,
     "metadata": {},
     "output_type": "execute_result"
    }
   ],
   "source": [
    "df['FuelType'] = df['FuelType'].replace(['petrol', 'gasoline', \\\n",
    "       float('NaN')], ['petrol/gasoline', 'petrol/gasoline', 'unknown'])\n",
    "df['FuelType'].head()"
   ]
  },
  {
   "cell_type": "code",
   "execution_count": 15,
   "metadata": {},
   "outputs": [
    {
     "data": {
      "text/plain": [
       "Price                   0\n",
       "VehicleType         37490\n",
       "RegistrationYear        0\n",
       "Gearbox             19833\n",
       "Power                   0\n",
       "Model               19705\n",
       "Kilometer               0\n",
       "FuelType                0\n",
       "Repaired            71154\n",
       "dtype: int64"
      ]
     },
     "execution_count": 15,
     "metadata": {},
     "output_type": "execute_result"
    }
   ],
   "source": [
    "df.isna().sum()"
   ]
  },
  {
   "cell_type": "code",
   "execution_count": 16,
   "metadata": {},
   "outputs": [
    {
     "data": {
      "text/html": [
       "<div>\n",
       "<style scoped>\n",
       "    .dataframe tbody tr th:only-of-type {\n",
       "        vertical-align: middle;\n",
       "    }\n",
       "\n",
       "    .dataframe tbody tr th {\n",
       "        vertical-align: top;\n",
       "    }\n",
       "\n",
       "    .dataframe thead th {\n",
       "        text-align: right;\n",
       "    }\n",
       "</style>\n",
       "<table border=\"1\" class=\"dataframe\">\n",
       "  <thead>\n",
       "    <tr style=\"text-align: right;\">\n",
       "      <th></th>\n",
       "      <th>Price</th>\n",
       "      <th>VehicleType</th>\n",
       "      <th>RegistrationYear</th>\n",
       "      <th>Gearbox</th>\n",
       "      <th>Power</th>\n",
       "      <th>Model</th>\n",
       "      <th>Kilometer</th>\n",
       "      <th>FuelType</th>\n",
       "      <th>Repaired</th>\n",
       "    </tr>\n",
       "  </thead>\n",
       "  <tbody>\n",
       "    <tr>\n",
       "      <th>0</th>\n",
       "      <td>480</td>\n",
       "      <td>small</td>\n",
       "      <td>1993</td>\n",
       "      <td>manual</td>\n",
       "      <td>0</td>\n",
       "      <td>golf</td>\n",
       "      <td>150000</td>\n",
       "      <td>petrol/gasoline</td>\n",
       "      <td>NaN</td>\n",
       "    </tr>\n",
       "    <tr>\n",
       "      <th>1</th>\n",
       "      <td>1500</td>\n",
       "      <td>small</td>\n",
       "      <td>2001</td>\n",
       "      <td>manual</td>\n",
       "      <td>75</td>\n",
       "      <td>golf</td>\n",
       "      <td>150000</td>\n",
       "      <td>petrol/gasoline</td>\n",
       "      <td>no</td>\n",
       "    </tr>\n",
       "    <tr>\n",
       "      <th>2</th>\n",
       "      <td>999</td>\n",
       "      <td>small</td>\n",
       "      <td>1998</td>\n",
       "      <td>manual</td>\n",
       "      <td>101</td>\n",
       "      <td>golf</td>\n",
       "      <td>150000</td>\n",
       "      <td>unknown</td>\n",
       "      <td>NaN</td>\n",
       "    </tr>\n",
       "    <tr>\n",
       "      <th>3</th>\n",
       "      <td>245</td>\n",
       "      <td>sedan</td>\n",
       "      <td>1994</td>\n",
       "      <td>NaN</td>\n",
       "      <td>0</td>\n",
       "      <td>golf</td>\n",
       "      <td>150000</td>\n",
       "      <td>petrol/gasoline</td>\n",
       "      <td>no</td>\n",
       "    </tr>\n",
       "    <tr>\n",
       "      <th>4</th>\n",
       "      <td>350</td>\n",
       "      <td>small</td>\n",
       "      <td>2016</td>\n",
       "      <td>manual</td>\n",
       "      <td>75</td>\n",
       "      <td>golf</td>\n",
       "      <td>150000</td>\n",
       "      <td>petrol/gasoline</td>\n",
       "      <td>no</td>\n",
       "    </tr>\n",
       "  </tbody>\n",
       "</table>\n",
       "</div>"
      ],
      "text/plain": [
       "   Price VehicleType  RegistrationYear Gearbox  Power Model  Kilometer  \\\n",
       "0    480       small              1993  manual      0  golf     150000   \n",
       "1   1500       small              2001  manual     75  golf     150000   \n",
       "2    999       small              1998  manual    101  golf     150000   \n",
       "3    245       sedan              1994     NaN      0  golf     150000   \n",
       "4    350       small              2016  manual     75  golf     150000   \n",
       "\n",
       "          FuelType Repaired  \n",
       "0  petrol/gasoline      NaN  \n",
       "1  petrol/gasoline       no  \n",
       "2          unknown      NaN  \n",
       "3  petrol/gasoline       no  \n",
       "4  petrol/gasoline       no  "
      ]
     },
     "execution_count": 16,
     "metadata": {},
     "output_type": "execute_result"
    }
   ],
   "source": [
    "model_info = df.groupby('Model').agg({\n",
    "    'VehicleType': 'first',\n",
    "}).reset_index()\n",
    "\n",
    "df = df.merge(model_info, on='Model', suffixes=('', '_model'))\n",
    "\n",
    "df['VehicleType'] = df['VehicleType'].fillna(df['VehicleType_model'])\n",
    "\n",
    "df = df.drop(columns=['VehicleType_model'])\n",
    "df.head()"
   ]
  },
  {
   "cell_type": "code",
   "execution_count": 17,
   "metadata": {},
   "outputs": [
    {
     "data": {
      "text/plain": [
       "Price                   0\n",
       "VehicleType             0\n",
       "RegistrationYear        0\n",
       "Gearbox             15702\n",
       "Power                   0\n",
       "Model                   0\n",
       "Kilometer               0\n",
       "FuelType                0\n",
       "Repaired            62100\n",
       "dtype: int64"
      ]
     },
     "execution_count": 17,
     "metadata": {},
     "output_type": "execute_result"
    }
   ],
   "source": [
    "df.isna().sum()"
   ]
  },
  {
   "cell_type": "markdown",
   "metadata": {},
   "source": [
    "## Предварительный анализ"
   ]
  },
  {
   "cell_type": "code",
   "execution_count": 18,
   "metadata": {},
   "outputs": [
    {
     "data": {
      "image/png": "[encoded data removed]",
      "text/plain": [
       "<Figure size 1000x1200 with 4 Axes>"
      ]
     },
     "metadata": {},
     "output_type": "display_data"
    }
   ],
   "source": [
    "df.hist(figsize=(10, 12), bins=20)\n",
    "plt.show()"
   ]
  },
  {
   "cell_type": "code",
   "execution_count": 19,
   "metadata": {},
   "outputs": [],
   "source": [
    "df = df[(df['RegistrationYear'] <= 2016) & (df['RegistrationYear'] > 1850)]"
   ]
  },
  {
   "cell_type": "code",
   "execution_count": 20,
   "metadata": {},
   "outputs": [],
   "source": [
    "df = df[(df['Power']  <= 1500)]"
   ]
  },
  {
   "cell_type": "code",
   "execution_count": 21,
   "metadata": {},
   "outputs": [],
   "source": [
    "df = df[df['Price'] > 50]"
   ]
  },
  {
   "cell_type": "code",
   "execution_count": 22,
   "metadata": {},
   "outputs": [
    {
     "data": {
      "image/png": "[encoded data removed]",
      "text/plain": [
       "<Figure size 1000x1200 with 4 Axes>"
      ]
     },
     "metadata": {},
     "output_type": "display_data"
    }
   ],
   "source": [
    "df.hist(figsize=(10, 12), bins=20)\n",
    "plt.show()"
   ]
  },
  {
   "cell_type": "code",
   "execution_count": 23,
   "metadata": {
    "scrolled": true
   },
   "outputs": [
    {
     "name": "stdout",
     "output_type": "stream",
     "text": [
      "<class 'pandas.core.frame.DataFrame'>\n",
      "Int64Index: 312472 entries, 0 to 334658\n",
      "Data columns (total 9 columns):\n",
      " #   Column            Non-Null Count   Dtype \n",
      "---  ------            --------------   ----- \n",
      " 0   Price             312472 non-null  int64 \n",
      " 1   VehicleType       312472 non-null  object\n",
      " 2   RegistrationYear  312472 non-null  int64 \n",
      " 3   Gearbox           300105 non-null  object\n",
      " 4   Power             312472 non-null  int64 \n",
      " 5   Model             312472 non-null  object\n",
      " 6   Kilometer         312472 non-null  int64 \n",
      " 7   FuelType          312472 non-null  object\n",
      " 8   Repaired          260158 non-null  object\n",
      "dtypes: int64(4), object(5)\n",
      "memory usage: 23.8+ MB\n"
     ]
    }
   ],
   "source": [
    "df.info()"
   ]
  },
  {
   "cell_type": "markdown",
   "metadata": {},
   "source": [
    "## Подготовка для моделей"
   ]
  },
  {
   "cell_type": "code",
   "execution_count": 24,
   "metadata": {},
   "outputs": [
    {
     "data": {
      "text/plain": [
       "Price               0\n",
       "VehicleType         0\n",
       "RegistrationYear    0\n",
       "Gearbox             0\n",
       "Power               0\n",
       "Model               0\n",
       "Kilometer           0\n",
       "FuelType            0\n",
       "Repaired            0\n",
       "dtype: int64"
      ]
     },
     "execution_count": 24,
     "metadata": {},
     "output_type": "execute_result"
    }
   ],
   "source": [
    "df = df.dropna()\n",
    "df.isna().sum()"
   ]
  },
  {
   "cell_type": "code",
   "execution_count": 25,
   "metadata": {},
   "outputs": [],
   "source": [
    "features = df.drop(['Price'], axis=1)\n",
    "target = df['Price']"
   ]
  },
  {
   "cell_type": "code",
   "execution_count": 26,
   "metadata": {},
   "outputs": [
    {
     "name": "stdout",
     "output_type": "stream",
     "text": [
      "(203663, 8)\n",
      "(50916,)\n",
      "(152747, 8)\n",
      "(50916,)\n"
     ]
    }
   ],
   "source": [
    "features_train_val, features_test, target_train_val, target_test = train_test_split(\n",
    "    features, target, test_size=0.2, random_state=12345)\n",
    "print(features_train_val.shape)\n",
    "print(target_test.shape)\n",
    "features_train, features_valid, target_train, target_valid = train_test_split(\n",
    "    features_train_val, target_train_val, test_size=0.25, random_state=12345)\n",
    "print(features_train.shape)\n",
    "print(target_valid.shape)"
   ]
  },
  {
   "cell_type": "code",
   "execution_count": 27,
   "metadata": {},
   "outputs": [],
   "source": [
    "numeric = ['VehicleType', 'Model', 'Repaired', 'Gearbox', 'FuelType']"
   ]
  },
  {
   "cell_type": "code",
   "execution_count": 28,
   "metadata": {},
   "outputs": [
    {
     "name": "stderr",
     "output_type": "stream",
     "text": [
      "c:\\intrptr\\envs\\practicum\\lib\\site-packages\\pandas\\core\\frame.py:3191: SettingWithCopyWarning: \n",
      "A value is trying to be set on a copy of a slice from a DataFrame.\n",
      "Try using .loc[row_indexer,col_indexer] = value instead\n",
      "\n",
      "See the caveats in the documentation: https://pandas.pydata.org/pandas-docs/stable/user_guide/indexing.html#returning-a-view-versus-a-copy\n",
      "  self[k1] = value[k2]\n"
     ]
    }
   ],
   "source": [
    "target_encoder = TargetEncoder()\n",
    "target_encoder.fit(features_train[numeric], target_train)\n",
    "features_train[numeric] = target_encoder.transform(features_train[numeric])\n",
    "features_valid[numeric] = target_encoder.transform(features_valid[numeric])\n",
    "features_test[numeric] = target_encoder.transform(features_test[numeric])"
   ]
  },
  {
   "cell_type": "code",
   "execution_count": 29,
   "metadata": {},
   "outputs": [
    {
     "data": {
      "text/html": [
       "<div>\n",
       "<style scoped>\n",
       "    .dataframe tbody tr th:only-of-type {\n",
       "        vertical-align: middle;\n",
       "    }\n",
       "\n",
       "    .dataframe tbody tr th {\n",
       "        vertical-align: top;\n",
       "    }\n",
       "\n",
       "    .dataframe thead th {\n",
       "        text-align: right;\n",
       "    }\n",
       "</style>\n",
       "<table border=\"1\" class=\"dataframe\">\n",
       "  <thead>\n",
       "    <tr style=\"text-align: right;\">\n",
       "      <th></th>\n",
       "      <th>VehicleType</th>\n",
       "      <th>RegistrationYear</th>\n",
       "      <th>Gearbox</th>\n",
       "      <th>Power</th>\n",
       "      <th>Model</th>\n",
       "      <th>Kilometer</th>\n",
       "      <th>FuelType</th>\n",
       "      <th>Repaired</th>\n",
       "    </tr>\n",
       "  </thead>\n",
       "  <tbody>\n",
       "    <tr>\n",
       "      <th>1</th>\n",
       "      <td>small</td>\n",
       "      <td>2001</td>\n",
       "      <td>manual</td>\n",
       "      <td>75</td>\n",
       "      <td>golf</td>\n",
       "      <td>150000</td>\n",
       "      <td>petrol/gasoline</td>\n",
       "      <td>no</td>\n",
       "    </tr>\n",
       "    <tr>\n",
       "      <th>4</th>\n",
       "      <td>small</td>\n",
       "      <td>2016</td>\n",
       "      <td>manual</td>\n",
       "      <td>75</td>\n",
       "      <td>golf</td>\n",
       "      <td>150000</td>\n",
       "      <td>petrol/gasoline</td>\n",
       "      <td>no</td>\n",
       "    </tr>\n",
       "    <tr>\n",
       "      <th>6</th>\n",
       "      <td>sedan</td>\n",
       "      <td>1998</td>\n",
       "      <td>manual</td>\n",
       "      <td>101</td>\n",
       "      <td>golf</td>\n",
       "      <td>150000</td>\n",
       "      <td>petrol/gasoline</td>\n",
       "      <td>no</td>\n",
       "    </tr>\n",
       "    <tr>\n",
       "      <th>7</th>\n",
       "      <td>sedan</td>\n",
       "      <td>2006</td>\n",
       "      <td>manual</td>\n",
       "      <td>105</td>\n",
       "      <td>golf</td>\n",
       "      <td>150000</td>\n",
       "      <td>petrol/gasoline</td>\n",
       "      <td>no</td>\n",
       "    </tr>\n",
       "    <tr>\n",
       "      <th>10</th>\n",
       "      <td>sedan</td>\n",
       "      <td>2002</td>\n",
       "      <td>manual</td>\n",
       "      <td>265</td>\n",
       "      <td>golf</td>\n",
       "      <td>150000</td>\n",
       "      <td>petrol/gasoline</td>\n",
       "      <td>no</td>\n",
       "    </tr>\n",
       "  </tbody>\n",
       "</table>\n",
       "</div>"
      ],
      "text/plain": [
       "   VehicleType  RegistrationYear Gearbox  Power Model  Kilometer  \\\n",
       "1        small              2001  manual     75  golf     150000   \n",
       "4        small              2016  manual     75  golf     150000   \n",
       "6        sedan              1998  manual    101  golf     150000   \n",
       "7        sedan              2006  manual    105  golf     150000   \n",
       "10       sedan              2002  manual    265  golf     150000   \n",
       "\n",
       "           FuelType Repaired  \n",
       "1   petrol/gasoline       no  \n",
       "4   petrol/gasoline       no  \n",
       "6   petrol/gasoline       no  \n",
       "7   petrol/gasoline       no  \n",
       "10  petrol/gasoline       no  "
      ]
     },
     "execution_count": 29,
     "metadata": {},
     "output_type": "execute_result"
    }
   ],
   "source": [
    "scaler = StandardScaler()\n",
    "scaler.fit(features_train)\n",
    "features_train = scaler.transform(features_train)\n",
    "features_valid = scaler.transform(features_valid)\n",
    "features_test = scaler.transform(features_test)\n",
    "features.head()"
   ]
  },
  {
   "cell_type": "markdown",
   "metadata": {},
   "source": [
    "## Модели"
   ]
  },
  {
   "cell_type": "code",
   "execution_count": 30,
   "metadata": {},
   "outputs": [
    {
     "name": "stdout",
     "output_type": "stream",
     "text": [
      "CPU times: total: 62.5 ms\n",
      "Wall time: 59.8 ms\n"
     ]
    },
    {
     "data": {
      "text/plain": [
       "LinearRegression()"
      ]
     },
     "execution_count": 30,
     "metadata": {},
     "output_type": "execute_result"
    }
   ],
   "source": [
    "%%time\n",
    "linear_model = LinearRegression()\n",
    "linear_model.fit(features_train, target_train)"
   ]
  },
  {
   "cell_type": "code",
   "execution_count": 31,
   "metadata": {},
   "outputs": [
    {
     "name": "stdout",
     "output_type": "stream",
     "text": [
      "rmse: 2842.570464091625\n",
      "CPU times: total: 0 ns\n",
      "Wall time: 10.1 ms\n"
     ]
    }
   ],
   "source": [
    "%%time\n",
    "pred = linear_model.predict(features_valid)\n",
    "rmse = mean_squared_error(target_valid, pred) ** 0.5\n",
    "print(f'rmse: {rmse}')\n"
   ]
  },
  {
   "cell_type": "code",
   "execution_count": 32,
   "metadata": {},
   "outputs": [
    {
     "name": "stdout",
     "output_type": "stream",
     "text": [
      "CPU times: total: 1.36 s\n",
      "Wall time: 1.13 s\n"
     ]
    },
    {
     "data": {
      "text/plain": [
       "LGBMRegressor(verbose=-1)"
      ]
     },
     "execution_count": 32,
     "metadata": {},
     "output_type": "execute_result"
    }
   ],
   "source": [
    "%%time\n",
    "lgb_model = lgb.LGBMRegressor(verbose=-1)\n",
    "lgb_model.fit(features_train, target_train)"
   ]
  },
  {
   "cell_type": "code",
   "execution_count": 33,
   "metadata": {},
   "outputs": [
    {
     "name": "stdout",
     "output_type": "stream",
     "text": [
      "rmse: 1680.821860508318\n",
      "VehicleType: 260\n",
      "RegistrationYear: 715\n",
      "Gearbox: 49\n",
      "Power: 714\n",
      "Model: 866\n",
      "Kilometer: 261\n",
      "FuelType: 30\n",
      "Repaired: 105\n"
     ]
    },
    {
     "data": {
      "image/png": "[encoded data removed]",
      "text/plain": [
       "<Figure size 1000x600 with 1 Axes>"
      ]
     },
     "metadata": {},
     "output_type": "display_data"
    },
    {
     "name": "stdout",
     "output_type": "stream",
     "text": [
      "CPU times: total: 656 ms\n",
      "Wall time: 448 ms\n"
     ]
    }
   ],
   "source": [
    "%%time\n",
    "pred = lgb_model.predict(features_valid)\n",
    "rmse = mean_squared_error(target_valid, pred) ** 0.5\n",
    "print(f'rmse: {rmse}')\n",
    "\n",
    "feature_importances = lgb_model.feature_importances_\n",
    "feature_names = features.columns\n",
    "\n",
    "for name, importance in zip(feature_names, feature_importances):\n",
    "    print(f'{name}: {importance}')\n",
    "\n",
    "plt.figure(figsize=(10, 6))\n",
    "plt.barh(feature_names, feature_importances)\n",
    "plt.xlabel('feature importance')\n",
    "plt.title('feature importances in lgb model')\n",
    "plt.show()"
   ]
  },
  {
   "cell_type": "code",
   "execution_count": 34,
   "metadata": {},
   "outputs": [
    {
     "name": "stdout",
     "output_type": "stream",
     "text": [
      "CPU times: total: 1min 6s\n",
      "Wall time: 24.3 s\n"
     ]
    },
    {
     "data": {
      "text/plain": [
       "<catboost.core.CatBoostRegressor at 0x18c8022d4f0>"
      ]
     },
     "execution_count": 34,
     "metadata": {},
     "output_type": "execute_result"
    }
   ],
   "source": [
    "%%time\n",
    "cat_model = catboost.CatBoostRegressor(silent=True)\n",
    "cat_model.fit(features_train, target_train)\n"
   ]
  },
  {
   "cell_type": "code",
   "execution_count": 35,
   "metadata": {},
   "outputs": [
    {
     "name": "stdout",
     "output_type": "stream",
     "text": [
      "rmse: 1608.0437729992068\n",
      "\n",
      "VehicleType: 4.627646641807664\n",
      "RegistrationYear: 40.82241803956053\n",
      "Gearbox: 0.8529699389838636\n",
      "Power: 24.392630147706658\n",
      "Model: 17.91534767448854\n",
      "Kilometer: 8.594037296536483\n",
      "FuelType: 0.1552649090333373\n",
      "Repaired: 2.639685351882924\n"
     ]
    },
    {
     "data": {
      "image/png": "[encoded data removed]",
      "text/plain": [
       "<Figure size 1000x600 with 1 Axes>"
      ]
     },
     "metadata": {},
     "output_type": "display_data"
    },
    {
     "name": "stdout",
     "output_type": "stream",
     "text": [
      "CPU times: total: 344 ms\n",
      "Wall time: 322 ms\n"
     ]
    }
   ],
   "source": [
    "%%time\n",
    "pred = cat_model.predict(features_valid)\n",
    "rmse = mean_squared_error(target_valid, pred) ** 0.5\n",
    "print(f'rmse: {rmse}\\n')\n",
    "\n",
    "feature_importances = cat_model.feature_importances_\n",
    "feature_names = features.columns\n",
    "\n",
    "for name, importance in zip(feature_names, feature_importances):\n",
    "    print(f'{name}: {importance}')\n",
    "\n",
    "plt.figure(figsize=(10, 6))\n",
    "plt.barh(feature_names, feature_importances)\n",
    "plt.xlabel('feature importance')\n",
    "plt.title('feature importances in catboost model')\n",
    "plt.show()"
   ]
  },
  {
   "cell_type": "markdown",
   "metadata": {},
   "source": [
    "## Тестирование"
   ]
  },
  {
   "cell_type": "code",
   "execution_count": 37,
   "metadata": {},
   "outputs": [],
   "source": [
    "X = np.concatenate([features_train, features_valid])\n",
    "y = np.concatenate([target_train, target_valid])"
   ]
  },
  {
   "cell_type": "code",
   "execution_count": 38,
   "metadata": {},
   "outputs": [
    {
     "data": {
      "text/plain": [
       "<catboost.core.CatBoostRegressor at 0x18c81feba60>"
      ]
     },
     "execution_count": 38,
     "metadata": {},
     "output_type": "execute_result"
    }
   ],
   "source": [
    "model = catboost.CatBoostRegressor(silent=True)\n",
    "model.fit(X, y) "
   ]
  },
  {
   "cell_type": "code",
   "execution_count": 39,
   "metadata": {
    "scrolled": true
   },
   "outputs": [
    {
     "name": "stdout",
     "output_type": "stream",
     "text": [
      "rmse: 1625.6138651702577\n"
     ]
    }
   ],
   "source": [
    "pred = model.predict(features_test)\n",
    "rmse = mean_squared_error(target_test, pred) ** 0.5\n",
    "print(f'rmse: {rmse}')"
   ]
  },
  {
   "cell_type": "markdown",
   "metadata": {},
   "source": [
    "## Итоги  \n",
    "Обработал изначальные данные, очистил от аномалий и пропусков  \n",
    "Протестировал модели регрессии: линейную от sklearn, lgb и от catboost  \n",
    "Самой точной оказалась модель CatBoostRegressor c rmse ~1608, однако время ее обучения как минимум у меня заняло 1.5 минуты, а модель LGBMRegressor заняла всего 5 секунл, но результат был несильно хуже, порядка rmse ~1682, когда время предсказаний у всех обученных моделей меньше секунды"
   ]
  }
 ],
 "metadata": {
  "ExecuteTimeLog": [
   {
    "duration": 1560,
    "start_time": "2024-06-21T10:36:59.224Z"
   },
   {
    "duration": 141,
    "start_time": "2024-06-21T10:37:00.786Z"
   },
   {
    "duration": 0,
    "start_time": "2024-06-21T10:37:00.929Z"
   },
   {
    "duration": 0,
    "start_time": "2024-06-21T10:37:00.930Z"
   },
   {
    "duration": 0,
    "start_time": "2024-06-21T10:37:00.931Z"
   },
   {
    "duration": 0,
    "start_time": "2024-06-21T10:37:00.932Z"
   },
   {
    "duration": 0,
    "start_time": "2024-06-21T10:37:00.933Z"
   },
   {
    "duration": 0,
    "start_time": "2024-06-21T10:37:00.934Z"
   },
   {
    "duration": 0,
    "start_time": "2024-06-21T10:37:00.934Z"
   },
   {
    "duration": 0,
    "start_time": "2024-06-21T10:37:00.935Z"
   },
   {
    "duration": 0,
    "start_time": "2024-06-21T10:37:00.936Z"
   },
   {
    "duration": 0,
    "start_time": "2024-06-21T10:37:00.937Z"
   },
   {
    "duration": 0,
    "start_time": "2024-06-21T10:37:00.938Z"
   },
   {
    "duration": 0,
    "start_time": "2024-06-21T10:37:00.938Z"
   },
   {
    "duration": 0,
    "start_time": "2024-06-21T10:37:00.939Z"
   },
   {
    "duration": 0,
    "start_time": "2024-06-21T10:37:00.940Z"
   },
   {
    "duration": 0,
    "start_time": "2024-06-21T10:37:00.941Z"
   },
   {
    "duration": 0,
    "start_time": "2024-06-21T10:37:00.941Z"
   },
   {
    "duration": 0,
    "start_time": "2024-06-21T10:37:00.942Z"
   },
   {
    "duration": 0,
    "start_time": "2024-06-21T10:37:00.943Z"
   },
   {
    "duration": 0,
    "start_time": "2024-06-21T10:37:00.943Z"
   },
   {
    "duration": 0,
    "start_time": "2024-06-21T10:37:00.944Z"
   },
   {
    "duration": 0,
    "start_time": "2024-06-21T10:37:00.945Z"
   },
   {
    "duration": 0,
    "start_time": "2024-06-21T10:37:00.945Z"
   },
   {
    "duration": 0,
    "start_time": "2024-06-21T10:37:00.946Z"
   },
   {
    "duration": 0,
    "start_time": "2024-06-21T10:37:00.947Z"
   },
   {
    "duration": 0,
    "start_time": "2024-06-21T10:37:00.948Z"
   },
   {
    "duration": 0,
    "start_time": "2024-06-21T10:37:00.948Z"
   },
   {
    "duration": 0,
    "start_time": "2024-06-21T10:37:00.950Z"
   },
   {
    "duration": 0,
    "start_time": "2024-06-21T10:37:00.950Z"
   },
   {
    "duration": 0,
    "start_time": "2024-06-21T10:37:00.951Z"
   },
   {
    "duration": 0,
    "start_time": "2024-06-21T10:37:00.952Z"
   },
   {
    "duration": 0,
    "start_time": "2024-06-21T10:37:00.953Z"
   },
   {
    "duration": 0,
    "start_time": "2024-06-21T10:37:00.954Z"
   },
   {
    "duration": 0,
    "start_time": "2024-06-21T10:37:00.954Z"
   },
   {
    "duration": 0,
    "start_time": "2024-06-21T10:40:56.325Z"
   },
   {
    "duration": 0,
    "start_time": "2024-06-21T10:40:56.326Z"
   },
   {
    "duration": 0,
    "start_time": "2024-06-21T10:40:56.327Z"
   },
   {
    "duration": 0,
    "start_time": "2024-06-21T10:40:56.328Z"
   },
   {
    "duration": 0,
    "start_time": "2024-06-21T10:40:56.329Z"
   },
   {
    "duration": 0,
    "start_time": "2024-06-21T10:40:56.330Z"
   },
   {
    "duration": 0,
    "start_time": "2024-06-21T10:40:56.331Z"
   },
   {
    "duration": 0,
    "start_time": "2024-06-21T10:40:56.332Z"
   },
   {
    "duration": 0,
    "start_time": "2024-06-21T10:40:56.332Z"
   },
   {
    "duration": 0,
    "start_time": "2024-06-21T10:40:56.333Z"
   },
   {
    "duration": 0,
    "start_time": "2024-06-21T10:40:56.334Z"
   },
   {
    "duration": 0,
    "start_time": "2024-06-21T10:40:56.335Z"
   },
   {
    "duration": 0,
    "start_time": "2024-06-21T10:40:56.336Z"
   },
   {
    "duration": 0,
    "start_time": "2024-06-21T10:40:56.337Z"
   },
   {
    "duration": 0,
    "start_time": "2024-06-21T10:40:56.338Z"
   },
   {
    "duration": 0,
    "start_time": "2024-06-21T10:40:56.339Z"
   },
   {
    "duration": 0,
    "start_time": "2024-06-21T10:40:56.340Z"
   },
   {
    "duration": 0,
    "start_time": "2024-06-21T10:40:56.340Z"
   },
   {
    "duration": 0,
    "start_time": "2024-06-21T10:40:56.341Z"
   },
   {
    "duration": 0,
    "start_time": "2024-06-21T10:40:56.342Z"
   },
   {
    "duration": 0,
    "start_time": "2024-06-21T10:40:56.343Z"
   },
   {
    "duration": 0,
    "start_time": "2024-06-21T10:40:56.343Z"
   },
   {
    "duration": 0,
    "start_time": "2024-06-21T10:40:56.344Z"
   },
   {
    "duration": 0,
    "start_time": "2024-06-21T10:40:56.346Z"
   },
   {
    "duration": 0,
    "start_time": "2024-06-21T10:40:56.409Z"
   },
   {
    "duration": 0,
    "start_time": "2024-06-21T10:40:56.410Z"
   },
   {
    "duration": 0,
    "start_time": "2024-06-21T10:40:56.411Z"
   },
   {
    "duration": 0,
    "start_time": "2024-06-21T10:40:56.412Z"
   },
   {
    "duration": 0,
    "start_time": "2024-06-21T10:40:56.413Z"
   },
   {
    "duration": 0,
    "start_time": "2024-06-21T10:40:56.414Z"
   },
   {
    "duration": 0,
    "start_time": "2024-06-21T10:40:56.415Z"
   },
   {
    "duration": 0,
    "start_time": "2024-06-21T10:40:56.416Z"
   },
   {
    "duration": 0,
    "start_time": "2024-06-21T10:40:56.417Z"
   },
   {
    "duration": 0,
    "start_time": "2024-06-21T10:40:56.417Z"
   },
   {
    "duration": 0,
    "start_time": "2024-06-21T10:40:56.418Z"
   },
   {
    "duration": 1352,
    "start_time": "2024-06-21T10:41:17.731Z"
   },
   {
    "duration": 765,
    "start_time": "2024-06-21T10:41:19.084Z"
   },
   {
    "duration": 815,
    "start_time": "2024-06-21T10:41:19.850Z"
   },
   {
    "duration": 382,
    "start_time": "2024-06-21T10:41:20.667Z"
   },
   {
    "duration": 39,
    "start_time": "2024-06-21T10:41:21.050Z"
   },
   {
    "duration": 77,
    "start_time": "2024-06-21T10:41:21.090Z"
   },
   {
    "duration": 20,
    "start_time": "2024-06-21T10:41:21.168Z"
   },
   {
    "duration": 23,
    "start_time": "2024-06-21T10:41:21.189Z"
   },
   {
    "duration": 22,
    "start_time": "2024-06-21T10:41:21.214Z"
   },
   {
    "duration": 35,
    "start_time": "2024-06-21T10:41:21.238Z"
   },
   {
    "duration": 74,
    "start_time": "2024-06-21T10:41:21.274Z"
   },
   {
    "duration": 14,
    "start_time": "2024-06-21T10:41:21.349Z"
   },
   {
    "duration": 28,
    "start_time": "2024-06-21T10:41:21.364Z"
   },
   {
    "duration": 114,
    "start_time": "2024-06-21T10:41:21.393Z"
   },
   {
    "duration": 152,
    "start_time": "2024-06-21T10:41:21.509Z"
   },
   {
    "duration": 97,
    "start_time": "2024-06-21T10:41:21.663Z"
   },
   {
    "duration": 27,
    "start_time": "2024-06-21T10:41:21.762Z"
   },
   {
    "duration": 196,
    "start_time": "2024-06-21T10:41:21.791Z"
   },
   {
    "duration": 28,
    "start_time": "2024-06-21T10:41:21.989Z"
   },
   {
    "duration": 837,
    "start_time": "2024-06-21T10:41:22.018Z"
   },
   {
    "duration": 15,
    "start_time": "2024-06-21T10:41:22.856Z"
   },
   {
    "duration": 15,
    "start_time": "2024-06-21T10:41:22.872Z"
   },
   {
    "duration": 28,
    "start_time": "2024-06-21T10:41:22.889Z"
   },
   {
    "duration": 789,
    "start_time": "2024-06-21T10:41:22.918Z"
   },
   {
    "duration": 27,
    "start_time": "2024-06-21T10:41:23.708Z"
   },
   {
    "duration": 14,
    "start_time": "2024-06-21T10:41:23.736Z"
   },
   {
    "duration": 320,
    "start_time": "2024-06-21T10:41:23.751Z"
   },
   {
    "duration": 39,
    "start_time": "2024-06-21T10:41:24.074Z"
   },
   {
    "duration": 10,
    "start_time": "2024-06-21T10:41:24.114Z"
   },
   {
    "duration": 23,
    "start_time": "2024-06-21T10:41:24.126Z"
   },
   {
    "duration": 76,
    "start_time": "2024-06-21T10:41:24.150Z"
   },
   {
    "duration": 90,
    "start_time": "2024-06-21T10:41:24.227Z"
   },
   {
    "duration": 7491,
    "start_time": "2024-06-21T10:41:24.318Z"
   },
   {
    "duration": 29043,
    "start_time": "2024-06-21T10:41:31.811Z"
   },
   {
    "duration": 113,
    "start_time": "2024-06-21T10:42:00.855Z"
   },
   {
    "duration": 1330,
    "start_time": "2024-06-21T10:42:52.320Z"
   },
   {
    "duration": 739,
    "start_time": "2024-06-21T10:42:53.652Z"
   },
   {
    "duration": 812,
    "start_time": "2024-06-21T10:42:54.392Z"
   },
   {
    "duration": 420,
    "start_time": "2024-06-21T10:42:55.205Z"
   },
   {
    "duration": 38,
    "start_time": "2024-06-21T10:42:55.626Z"
   },
   {
    "duration": 72,
    "start_time": "2024-06-21T10:42:55.666Z"
   },
   {
    "duration": 18,
    "start_time": "2024-06-21T10:42:55.739Z"
   },
   {
    "duration": 27,
    "start_time": "2024-06-21T10:42:55.758Z"
   },
   {
    "duration": 31,
    "start_time": "2024-06-21T10:42:55.787Z"
   },
   {
    "duration": 19,
    "start_time": "2024-06-21T10:42:55.821Z"
   },
   {
    "duration": 58,
    "start_time": "2024-06-21T10:42:55.841Z"
   },
   {
    "duration": 16,
    "start_time": "2024-06-21T10:42:55.901Z"
   },
   {
    "duration": 19,
    "start_time": "2024-06-21T10:42:55.918Z"
   },
   {
    "duration": 115,
    "start_time": "2024-06-21T10:42:55.939Z"
   },
   {
    "duration": 147,
    "start_time": "2024-06-21T10:42:56.055Z"
   },
   {
    "duration": 95,
    "start_time": "2024-06-21T10:42:56.203Z"
   },
   {
    "duration": 37,
    "start_time": "2024-06-21T10:42:56.299Z"
   },
   {
    "duration": 181,
    "start_time": "2024-06-21T10:42:56.338Z"
   },
   {
    "duration": 26,
    "start_time": "2024-06-21T10:42:56.520Z"
   },
   {
    "duration": 837,
    "start_time": "2024-06-21T10:42:56.547Z"
   },
   {
    "duration": 24,
    "start_time": "2024-06-21T10:42:57.385Z"
   },
   {
    "duration": 17,
    "start_time": "2024-06-21T10:42:57.410Z"
   },
   {
    "duration": 14,
    "start_time": "2024-06-21T10:42:57.428Z"
   },
   {
    "duration": 743,
    "start_time": "2024-06-21T10:42:57.444Z"
   },
   {
    "duration": 31,
    "start_time": "2024-06-21T10:42:58.188Z"
   },
   {
    "duration": 2,
    "start_time": "2024-06-21T10:42:58.220Z"
   },
   {
    "duration": 151,
    "start_time": "2024-06-21T10:42:58.224Z"
   },
   {
    "duration": 20,
    "start_time": "2024-06-21T10:42:58.378Z"
   },
   {
    "duration": 10,
    "start_time": "2024-06-21T10:42:58.408Z"
   },
   {
    "duration": 38,
    "start_time": "2024-06-21T10:42:58.419Z"
   },
   {
    "duration": 45,
    "start_time": "2024-06-21T10:42:58.458Z"
   },
   {
    "duration": 205,
    "start_time": "2024-06-21T10:42:58.504Z"
   },
   {
    "duration": 6515,
    "start_time": "2024-06-21T10:42:58.711Z"
   },
   {
    "duration": 24908,
    "start_time": "2024-06-21T10:43:05.228Z"
   },
   {
    "duration": 1011836,
    "start_time": "2024-06-21T10:43:30.138Z"
   },
   {
    "duration": 39,
    "start_time": "2024-06-21T11:56:36.496Z"
   },
   {
    "duration": 1356,
    "start_time": "2024-06-21T11:57:07.410Z"
   },
   {
    "duration": 743,
    "start_time": "2024-06-21T11:57:08.768Z"
   },
   {
    "duration": 838,
    "start_time": "2024-06-21T11:57:09.512Z"
   },
   {
    "duration": 370,
    "start_time": "2024-06-21T11:57:10.351Z"
   },
   {
    "duration": 35,
    "start_time": "2024-06-21T11:57:10.723Z"
   },
   {
    "duration": 74,
    "start_time": "2024-06-21T11:57:10.760Z"
   },
   {
    "duration": 19,
    "start_time": "2024-06-21T11:57:10.836Z"
   },
   {
    "duration": 20,
    "start_time": "2024-06-21T11:57:10.856Z"
   },
   {
    "duration": 36,
    "start_time": "2024-06-21T11:57:10.877Z"
   },
   {
    "duration": 27,
    "start_time": "2024-06-21T11:57:10.914Z"
   },
   {
    "duration": 93,
    "start_time": "2024-06-21T11:57:10.942Z"
   },
   {
    "duration": 32,
    "start_time": "2024-06-21T11:57:11.037Z"
   },
   {
    "duration": 19,
    "start_time": "2024-06-21T11:57:11.071Z"
   },
   {
    "duration": 112,
    "start_time": "2024-06-21T11:57:11.092Z"
   },
   {
    "duration": 152,
    "start_time": "2024-06-21T11:57:11.209Z"
   },
   {
    "duration": 104,
    "start_time": "2024-06-21T11:57:11.362Z"
   },
   {
    "duration": 31,
    "start_time": "2024-06-21T11:57:11.467Z"
   },
   {
    "duration": 192,
    "start_time": "2024-06-21T11:57:11.510Z"
   },
   {
    "duration": 30,
    "start_time": "2024-06-21T11:57:11.704Z"
   },
   {
    "duration": 833,
    "start_time": "2024-06-21T11:57:11.736Z"
   },
   {
    "duration": 19,
    "start_time": "2024-06-21T11:57:12.571Z"
   },
   {
    "duration": 29,
    "start_time": "2024-06-21T11:57:12.591Z"
   },
   {
    "duration": 14,
    "start_time": "2024-06-21T11:57:12.621Z"
   },
   {
    "duration": 803,
    "start_time": "2024-06-21T11:57:12.636Z"
   },
   {
    "duration": 37,
    "start_time": "2024-06-21T11:57:13.441Z"
   },
   {
    "duration": 10,
    "start_time": "2024-06-21T11:57:13.479Z"
   },
   {
    "duration": 158,
    "start_time": "2024-06-21T11:57:13.490Z"
   },
   {
    "duration": 22,
    "start_time": "2024-06-21T11:57:13.650Z"
   },
   {
    "duration": 9,
    "start_time": "2024-06-21T11:57:13.673Z"
   },
   {
    "duration": 81,
    "start_time": "2024-06-21T11:57:13.683Z"
   },
   {
    "duration": 44,
    "start_time": "2024-06-21T11:57:13.766Z"
   },
   {
    "duration": 26,
    "start_time": "2024-06-21T11:57:13.812Z"
   },
   {
    "duration": 8777,
    "start_time": "2024-06-21T11:57:13.840Z"
   },
   {
    "duration": 20384,
    "start_time": "2024-06-21T11:57:22.620Z"
   },
   {
    "duration": 850883,
    "start_time": "2024-06-21T11:57:43.005Z"
   },
   {
    "duration": 1512,
    "start_time": "2024-06-21T12:51:11.706Z"
   },
   {
    "duration": 0,
    "start_time": "2024-06-21T12:51:13.221Z"
   },
   {
    "duration": 0,
    "start_time": "2024-06-21T12:51:13.222Z"
   },
   {
    "duration": 0,
    "start_time": "2024-06-21T12:51:13.223Z"
   },
   {
    "duration": 0,
    "start_time": "2024-06-21T12:51:13.223Z"
   },
   {
    "duration": 0,
    "start_time": "2024-06-21T12:51:13.224Z"
   },
   {
    "duration": 0,
    "start_time": "2024-06-21T12:51:13.225Z"
   },
   {
    "duration": 0,
    "start_time": "2024-06-21T12:51:13.226Z"
   },
   {
    "duration": 0,
    "start_time": "2024-06-21T12:51:13.227Z"
   },
   {
    "duration": 0,
    "start_time": "2024-06-21T12:51:13.228Z"
   },
   {
    "duration": 0,
    "start_time": "2024-06-21T12:51:13.229Z"
   },
   {
    "duration": 0,
    "start_time": "2024-06-21T12:51:13.230Z"
   },
   {
    "duration": 0,
    "start_time": "2024-06-21T12:51:13.231Z"
   },
   {
    "duration": 0,
    "start_time": "2024-06-21T12:51:13.232Z"
   },
   {
    "duration": 0,
    "start_time": "2024-06-21T12:51:13.233Z"
   },
   {
    "duration": 0,
    "start_time": "2024-06-21T12:51:13.233Z"
   },
   {
    "duration": 0,
    "start_time": "2024-06-21T12:51:13.234Z"
   },
   {
    "duration": 0,
    "start_time": "2024-06-21T12:51:13.235Z"
   },
   {
    "duration": 0,
    "start_time": "2024-06-21T12:51:13.236Z"
   },
   {
    "duration": 0,
    "start_time": "2024-06-21T12:51:13.237Z"
   },
   {
    "duration": 0,
    "start_time": "2024-06-21T12:51:13.238Z"
   },
   {
    "duration": 0,
    "start_time": "2024-06-21T12:51:13.239Z"
   },
   {
    "duration": 0,
    "start_time": "2024-06-21T12:51:13.240Z"
   },
   {
    "duration": 0,
    "start_time": "2024-06-21T12:51:13.240Z"
   },
   {
    "duration": 0,
    "start_time": "2024-06-21T12:51:13.241Z"
   },
   {
    "duration": 0,
    "start_time": "2024-06-21T12:51:13.242Z"
   },
   {
    "duration": 0,
    "start_time": "2024-06-21T12:51:13.243Z"
   },
   {
    "duration": 0,
    "start_time": "2024-06-21T12:51:13.244Z"
   },
   {
    "duration": 0,
    "start_time": "2024-06-21T12:51:13.245Z"
   },
   {
    "duration": 0,
    "start_time": "2024-06-21T12:51:13.246Z"
   },
   {
    "duration": 0,
    "start_time": "2024-06-21T12:51:13.246Z"
   },
   {
    "duration": 0,
    "start_time": "2024-06-21T12:51:13.247Z"
   },
   {
    "duration": 0,
    "start_time": "2024-06-21T12:51:13.248Z"
   },
   {
    "duration": 0,
    "start_time": "2024-06-21T12:51:13.249Z"
   },
   {
    "duration": 0,
    "start_time": "2024-06-21T12:51:13.250Z"
   },
   {
    "duration": 0,
    "start_time": "2024-06-21T12:51:13.250Z"
   },
   {
    "duration": 13,
    "start_time": "2024-06-21T12:54:52.534Z"
   },
   {
    "duration": 1502,
    "start_time": "2024-06-21T21:43:44.254Z"
   },
   {
    "duration": 0,
    "start_time": "2024-06-21T21:43:45.759Z"
   },
   {
    "duration": 0,
    "start_time": "2024-06-21T21:43:45.759Z"
   },
   {
    "duration": 0,
    "start_time": "2024-06-21T21:43:45.761Z"
   },
   {
    "duration": 0,
    "start_time": "2024-06-21T21:43:45.762Z"
   },
   {
    "duration": 0,
    "start_time": "2024-06-21T21:43:45.763Z"
   },
   {
    "duration": 0,
    "start_time": "2024-06-21T21:43:45.764Z"
   },
   {
    "duration": 0,
    "start_time": "2024-06-21T21:43:45.764Z"
   },
   {
    "duration": 0,
    "start_time": "2024-06-21T21:43:45.766Z"
   },
   {
    "duration": 0,
    "start_time": "2024-06-21T21:43:45.766Z"
   },
   {
    "duration": 0,
    "start_time": "2024-06-21T21:43:45.767Z"
   },
   {
    "duration": 0,
    "start_time": "2024-06-21T21:43:45.768Z"
   },
   {
    "duration": 0,
    "start_time": "2024-06-21T21:43:45.769Z"
   },
   {
    "duration": 0,
    "start_time": "2024-06-21T21:43:45.770Z"
   },
   {
    "duration": 0,
    "start_time": "2024-06-21T21:43:45.770Z"
   },
   {
    "duration": 0,
    "start_time": "2024-06-21T21:43:45.771Z"
   },
   {
    "duration": 0,
    "start_time": "2024-06-21T21:43:45.772Z"
   },
   {
    "duration": 0,
    "start_time": "2024-06-21T21:43:45.773Z"
   },
   {
    "duration": 0,
    "start_time": "2024-06-21T21:43:45.774Z"
   },
   {
    "duration": 0,
    "start_time": "2024-06-21T21:43:45.804Z"
   },
   {
    "duration": 0,
    "start_time": "2024-06-21T21:43:45.804Z"
   },
   {
    "duration": 0,
    "start_time": "2024-06-21T21:43:45.805Z"
   },
   {
    "duration": 0,
    "start_time": "2024-06-21T21:43:45.806Z"
   },
   {
    "duration": 0,
    "start_time": "2024-06-21T21:43:45.807Z"
   },
   {
    "duration": 0,
    "start_time": "2024-06-21T21:43:45.808Z"
   },
   {
    "duration": 0,
    "start_time": "2024-06-21T21:43:45.809Z"
   },
   {
    "duration": 1,
    "start_time": "2024-06-21T21:43:45.809Z"
   },
   {
    "duration": 0,
    "start_time": "2024-06-21T21:43:45.810Z"
   },
   {
    "duration": 0,
    "start_time": "2024-06-21T21:43:45.811Z"
   },
   {
    "duration": 0,
    "start_time": "2024-06-21T21:43:45.812Z"
   },
   {
    "duration": 0,
    "start_time": "2024-06-21T21:43:45.813Z"
   },
   {
    "duration": 0,
    "start_time": "2024-06-21T21:43:45.813Z"
   },
   {
    "duration": 0,
    "start_time": "2024-06-21T21:43:45.814Z"
   },
   {
    "duration": 0,
    "start_time": "2024-06-21T21:43:45.815Z"
   },
   {
    "duration": 0,
    "start_time": "2024-06-21T21:43:45.816Z"
   },
   {
    "duration": 0,
    "start_time": "2024-06-21T21:43:45.816Z"
   },
   {
    "duration": 0,
    "start_time": "2024-06-21T21:43:45.817Z"
   },
   {
    "duration": 0,
    "start_time": "2024-06-21T21:43:45.819Z"
   },
   {
    "duration": 0,
    "start_time": "2024-06-21T21:43:45.819Z"
   }
  ],
  "kernelspec": {
   "display_name": "Python 3 (ipykernel)",
   "language": "python",
   "name": "python3"
  },
  "language_info": {
   "codemirror_mode": {
    "name": "ipython",
    "version": 3
   },
   "file_extension": ".py",
   "mimetype": "text/x-python",
   "name": "python",
   "nbconvert_exporter": "python",
   "pygments_lexer": "ipython3",
   "version": "3.9.5"
  },
  "toc": {
   "base_numbering": 1,
   "nav_menu": {},
   "number_sections": true,
   "sideBar": true,
   "skip_h1_title": true,
   "title_cell": "Table of Contents",
   "title_sidebar": "Contents",
   "toc_cell": false,
   "toc_position": {},
   "toc_section_display": true,
   "toc_window_display": false
  }
 },
 "nbformat": 4,
 "nbformat_minor": 4
}
