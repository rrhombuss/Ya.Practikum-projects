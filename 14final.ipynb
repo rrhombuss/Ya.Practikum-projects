{
 "cells": [
  {
   "cell_type": "markdown",
   "metadata": {},
   "source": [
    "# Отток клиентов\n",
    "Оператор связи «ТелеДом» хочет бороться с оттоком клиентов. Для этого его сотрудники начнут предлагать промокоды и специальные условия всем, кто планирует отказаться от услуг связи. Чтобы заранее находить таких пользователей, «ТелеДому» нужна модель, которая будет предсказывать, разорвёт ли абонент договор. Команда оператора собрала персональные данные о некоторых клиентах, информацию об их тарифах и услугах. Ваша задача — обучить на этих данных модель для прогноза оттока клиентов."
   ]
  },
  {
   "cell_type": "code",
   "execution_count": 1,
   "metadata": {},
   "outputs": [],
   "source": [
    "import os\n",
    "import pandas as pd\n",
    "import numpy as np\n",
    "import matplotlib.pyplot as plt\n",
    "from sklearn.linear_model import LogisticRegression\n",
    "from sklearn.model_selection import train_test_split, cross_val_score, RandomizedSearchCV\n",
    "from sklearn.metrics import roc_auc_score, confusion_matrix, recall_score, precision_score\n",
    "from sklearn.ensemble import RandomForestClassifier\n",
    "from catboost import CatBoostClassifier\n",
    "from sklearn.naive_bayes import GaussianNB\n",
    "from sklearn.preprocessing import StandardScaler, OneHotEncoder\n",
    "from scipy.stats import randint, uniform\n",
    "from sklearn.metrics import confusion_matrix\n",
    "from tqdm import tqdm"
   ]
  },
  {
   "cell_type": "code",
   "execution_count": 2,
   "metadata": {},
   "outputs": [],
   "source": [
    "file_list = [\n",
    "    \"C:\\datasc\\pracfiles\\contract_new.csv\",\n",
    "    \"C:\\datasc\\pracfiles\\internet_new.csv\",\n",
    "    \"C:\\datasc\\pracfiles\\personal_new.csv\",\n",
    "    \"C:\\datasc\\pracfiles\\phone_new.csv\"\n",
    "]\n",
    "\n",
    "file_list1 = [\n",
    "    \"/datasets/contract_new.csv\",\n",
    "    \"/datasets/internet_new.csv\",\n",
    "    \"/datasets/personal_new.csv\",\n",
    "    \"/datasets/phone_new.csv\"\n",
    "]"
   ]
  },
  {
   "cell_type": "code",
   "execution_count": 3,
   "metadata": {},
   "outputs": [],
   "source": [
    "if os.path.exists(file_list[0]):\n",
    "    for i, file_path in enumerate(file_list):\n",
    "        if os.path.exists(file_path):\n",
    "            df_name = f'df{i+1}'\n",
    "            globals()[df_name] = pd.read_csv(file_path)\n",
    "        else:\n",
    "            print('something is wrong, check the local file paths')\n",
    "\n",
    "elif os.path.exists(file_list1[0]):\n",
    "    for i, file_path in enumerate(file_list1):\n",
    "        if os.path.exists(file_path):\n",
    "            df_name = f'df{i+1}'\n",
    "            globals()[df_name] = pd.read_csv(file_path)\n",
    "        else:\n",
    "            print('something is wrong, check the platform file paths')\n",
    "else:\n",
    "    print('something is wrong, none of the files work')"
   ]
  },
  {
   "cell_type": "code",
   "execution_count": 4,
   "metadata": {},
   "outputs": [
    {
     "name": "stdout",
     "output_type": "stream",
     "text": [
      "<class 'pandas.core.frame.DataFrame'>\n",
      "RangeIndex: 7043 entries, 0 to 7042\n",
      "Data columns (total 8 columns):\n",
      " #   Column            Non-Null Count  Dtype  \n",
      "---  ------            --------------  -----  \n",
      " 0   customerID        7043 non-null   object \n",
      " 1   BeginDate         7043 non-null   object \n",
      " 2   EndDate           7043 non-null   object \n",
      " 3   Type              7043 non-null   object \n",
      " 4   PaperlessBilling  7043 non-null   object \n",
      " 5   PaymentMethod     7043 non-null   object \n",
      " 6   MonthlyCharges    7043 non-null   float64\n",
      " 7   TotalCharges      7043 non-null   object \n",
      "dtypes: float64(1), object(7)\n",
      "memory usage: 440.3+ KB\n",
      "<class 'pandas.core.frame.DataFrame'>\n",
      "RangeIndex: 5517 entries, 0 to 5516\n",
      "Data columns (total 8 columns):\n",
      " #   Column            Non-Null Count  Dtype \n",
      "---  ------            --------------  ----- \n",
      " 0   customerID        5517 non-null   object\n",
      " 1   InternetService   5517 non-null   object\n",
      " 2   OnlineSecurity    5517 non-null   object\n",
      " 3   OnlineBackup      5517 non-null   object\n",
      " 4   DeviceProtection  5517 non-null   object\n",
      " 5   TechSupport       5517 non-null   object\n",
      " 6   StreamingTV       5517 non-null   object\n",
      " 7   StreamingMovies   5517 non-null   object\n",
      "dtypes: object(8)\n",
      "memory usage: 344.9+ KB\n",
      "<class 'pandas.core.frame.DataFrame'>\n",
      "RangeIndex: 7043 entries, 0 to 7042\n",
      "Data columns (total 5 columns):\n",
      " #   Column         Non-Null Count  Dtype \n",
      "---  ------         --------------  ----- \n",
      " 0   customerID     7043 non-null   object\n",
      " 1   gender         7043 non-null   object\n",
      " 2   SeniorCitizen  7043 non-null   int64 \n",
      " 3   Partner        7043 non-null   object\n",
      " 4   Dependents     7043 non-null   object\n",
      "dtypes: int64(1), object(4)\n",
      "memory usage: 275.2+ KB\n",
      "<class 'pandas.core.frame.DataFrame'>\n",
      "RangeIndex: 6361 entries, 0 to 6360\n",
      "Data columns (total 2 columns):\n",
      " #   Column         Non-Null Count  Dtype \n",
      "---  ------         --------------  ----- \n",
      " 0   customerID     6361 non-null   object\n",
      " 1   MultipleLines  6361 non-null   object\n",
      "dtypes: object(2)\n",
      "memory usage: 99.5+ KB\n"
     ]
    },
    {
     "data": {
      "text/plain": [
       "None"
      ]
     },
     "metadata": {},
     "output_type": "display_data"
    },
    {
     "data": {
      "text/plain": [
       "None"
      ]
     },
     "metadata": {},
     "output_type": "display_data"
    },
    {
     "data": {
      "text/plain": [
       "None"
      ]
     },
     "metadata": {},
     "output_type": "display_data"
    },
    {
     "data": {
      "text/plain": [
       "None"
      ]
     },
     "metadata": {},
     "output_type": "display_data"
    }
   ],
   "source": [
    "display(\n",
    "    df1.info(),\n",
    "    df2.info(),\n",
    "    df3.info(),\n",
    "    df4.info()\n",
    ")"
   ]
  },
  {
   "cell_type": "markdown",
   "metadata": {},
   "source": [
    "Не во всех таблицах количество записей одинаковые, это скорее всего связано с тем, что не все пользователи оформили все варианты контрактов, для облегчения работы можно их смержить в одну по primary key = customerID, также для более плотного анализа требуется привести данные к нужным типам"
   ]
  },
  {
   "cell_type": "code",
   "execution_count": 5,
   "metadata": {},
   "outputs": [],
   "source": [
    "df = pd.merge(df1, df3, on='customerID', how='left')\n",
    "df = pd.merge(df, df2, on='customerID', how='left')\n",
    "df = pd.merge(df, df4, on='customerID', how='left')"
   ]
  },
  {
   "cell_type": "code",
   "execution_count": 6,
   "metadata": {},
   "outputs": [
    {
     "data": {
      "text/html": [
       "<div>\n",
       "<style scoped>\n",
       "    .dataframe tbody tr th:only-of-type {\n",
       "        vertical-align: middle;\n",
       "    }\n",
       "\n",
       "    .dataframe tbody tr th {\n",
       "        vertical-align: top;\n",
       "    }\n",
       "\n",
       "    .dataframe thead th {\n",
       "        text-align: right;\n",
       "    }\n",
       "</style>\n",
       "<table border=\"1\" class=\"dataframe\">\n",
       "  <thead>\n",
       "    <tr style=\"text-align: right;\">\n",
       "      <th></th>\n",
       "      <th>customerID</th>\n",
       "      <th>BeginDate</th>\n",
       "      <th>EndDate</th>\n",
       "      <th>Type</th>\n",
       "      <th>PaperlessBilling</th>\n",
       "      <th>PaymentMethod</th>\n",
       "      <th>MonthlyCharges</th>\n",
       "      <th>TotalCharges</th>\n",
       "      <th>gender</th>\n",
       "      <th>SeniorCitizen</th>\n",
       "      <th>Partner</th>\n",
       "      <th>Dependents</th>\n",
       "      <th>InternetService</th>\n",
       "      <th>OnlineSecurity</th>\n",
       "      <th>OnlineBackup</th>\n",
       "      <th>DeviceProtection</th>\n",
       "      <th>TechSupport</th>\n",
       "      <th>StreamingTV</th>\n",
       "      <th>StreamingMovies</th>\n",
       "      <th>MultipleLines</th>\n",
       "    </tr>\n",
       "  </thead>\n",
       "  <tbody>\n",
       "    <tr>\n",
       "      <th>0</th>\n",
       "      <td>7590-VHVEG</td>\n",
       "      <td>2020-01-01</td>\n",
       "      <td>No</td>\n",
       "      <td>Month-to-month</td>\n",
       "      <td>Yes</td>\n",
       "      <td>Electronic check</td>\n",
       "      <td>29.85</td>\n",
       "      <td>31.04</td>\n",
       "      <td>Female</td>\n",
       "      <td>0</td>\n",
       "      <td>Yes</td>\n",
       "      <td>No</td>\n",
       "      <td>DSL</td>\n",
       "      <td>No</td>\n",
       "      <td>Yes</td>\n",
       "      <td>No</td>\n",
       "      <td>No</td>\n",
       "      <td>No</td>\n",
       "      <td>No</td>\n",
       "      <td>NaN</td>\n",
       "    </tr>\n",
       "    <tr>\n",
       "      <th>1</th>\n",
       "      <td>5575-GNVDE</td>\n",
       "      <td>2017-04-01</td>\n",
       "      <td>No</td>\n",
       "      <td>One year</td>\n",
       "      <td>No</td>\n",
       "      <td>Mailed check</td>\n",
       "      <td>56.95</td>\n",
       "      <td>2071.84</td>\n",
       "      <td>Male</td>\n",
       "      <td>0</td>\n",
       "      <td>No</td>\n",
       "      <td>No</td>\n",
       "      <td>DSL</td>\n",
       "      <td>Yes</td>\n",
       "      <td>No</td>\n",
       "      <td>Yes</td>\n",
       "      <td>No</td>\n",
       "      <td>No</td>\n",
       "      <td>No</td>\n",
       "      <td>No</td>\n",
       "    </tr>\n",
       "    <tr>\n",
       "      <th>2</th>\n",
       "      <td>3668-QPYBK</td>\n",
       "      <td>2019-10-01</td>\n",
       "      <td>No</td>\n",
       "      <td>Month-to-month</td>\n",
       "      <td>Yes</td>\n",
       "      <td>Mailed check</td>\n",
       "      <td>53.85</td>\n",
       "      <td>226.17</td>\n",
       "      <td>Male</td>\n",
       "      <td>0</td>\n",
       "      <td>No</td>\n",
       "      <td>No</td>\n",
       "      <td>DSL</td>\n",
       "      <td>Yes</td>\n",
       "      <td>Yes</td>\n",
       "      <td>No</td>\n",
       "      <td>No</td>\n",
       "      <td>No</td>\n",
       "      <td>No</td>\n",
       "      <td>No</td>\n",
       "    </tr>\n",
       "    <tr>\n",
       "      <th>3</th>\n",
       "      <td>7795-CFOCW</td>\n",
       "      <td>2016-05-01</td>\n",
       "      <td>No</td>\n",
       "      <td>One year</td>\n",
       "      <td>No</td>\n",
       "      <td>Bank transfer (automatic)</td>\n",
       "      <td>42.30</td>\n",
       "      <td>1960.6</td>\n",
       "      <td>Male</td>\n",
       "      <td>0</td>\n",
       "      <td>No</td>\n",
       "      <td>No</td>\n",
       "      <td>DSL</td>\n",
       "      <td>Yes</td>\n",
       "      <td>No</td>\n",
       "      <td>Yes</td>\n",
       "      <td>Yes</td>\n",
       "      <td>No</td>\n",
       "      <td>No</td>\n",
       "      <td>NaN</td>\n",
       "    </tr>\n",
       "    <tr>\n",
       "      <th>4</th>\n",
       "      <td>9237-HQITU</td>\n",
       "      <td>2019-09-01</td>\n",
       "      <td>No</td>\n",
       "      <td>Month-to-month</td>\n",
       "      <td>Yes</td>\n",
       "      <td>Electronic check</td>\n",
       "      <td>70.70</td>\n",
       "      <td>353.5</td>\n",
       "      <td>Female</td>\n",
       "      <td>0</td>\n",
       "      <td>No</td>\n",
       "      <td>No</td>\n",
       "      <td>Fiber optic</td>\n",
       "      <td>No</td>\n",
       "      <td>No</td>\n",
       "      <td>No</td>\n",
       "      <td>No</td>\n",
       "      <td>No</td>\n",
       "      <td>No</td>\n",
       "      <td>No</td>\n",
       "    </tr>\n",
       "  </tbody>\n",
       "</table>\n",
       "</div>"
      ],
      "text/plain": [
       "   customerID   BeginDate EndDate            Type PaperlessBilling  \\\n",
       "0  7590-VHVEG  2020-01-01      No  Month-to-month              Yes   \n",
       "1  5575-GNVDE  2017-04-01      No        One year               No   \n",
       "2  3668-QPYBK  2019-10-01      No  Month-to-month              Yes   \n",
       "3  7795-CFOCW  2016-05-01      No        One year               No   \n",
       "4  9237-HQITU  2019-09-01      No  Month-to-month              Yes   \n",
       "\n",
       "               PaymentMethod  MonthlyCharges TotalCharges  gender  \\\n",
       "0           Electronic check           29.85        31.04  Female   \n",
       "1               Mailed check           56.95      2071.84    Male   \n",
       "2               Mailed check           53.85       226.17    Male   \n",
       "3  Bank transfer (automatic)           42.30       1960.6    Male   \n",
       "4           Electronic check           70.70        353.5  Female   \n",
       "\n",
       "   SeniorCitizen Partner Dependents InternetService OnlineSecurity  \\\n",
       "0              0     Yes         No             DSL             No   \n",
       "1              0      No         No             DSL            Yes   \n",
       "2              0      No         No             DSL            Yes   \n",
       "3              0      No         No             DSL            Yes   \n",
       "4              0      No         No     Fiber optic             No   \n",
       "\n",
       "  OnlineBackup DeviceProtection TechSupport StreamingTV StreamingMovies  \\\n",
       "0          Yes               No          No          No              No   \n",
       "1           No              Yes          No          No              No   \n",
       "2          Yes               No          No          No              No   \n",
       "3           No              Yes         Yes          No              No   \n",
       "4           No               No          No          No              No   \n",
       "\n",
       "  MultipleLines  \n",
       "0           NaN  \n",
       "1            No  \n",
       "2            No  \n",
       "3           NaN  \n",
       "4            No  "
      ]
     },
     "execution_count": 6,
     "metadata": {},
     "output_type": "execute_result"
    }
   ],
   "source": [
    "df.head()"
   ]
  },
  {
   "cell_type": "code",
   "execution_count": 7,
   "metadata": {},
   "outputs": [
    {
     "name": "stdout",
     "output_type": "stream",
     "text": [
      "<class 'pandas.core.frame.DataFrame'>\n",
      "Int64Index: 7043 entries, 0 to 7042\n",
      "Data columns (total 20 columns):\n",
      " #   Column            Non-Null Count  Dtype  \n",
      "---  ------            --------------  -----  \n",
      " 0   customerID        7043 non-null   object \n",
      " 1   BeginDate         7043 non-null   object \n",
      " 2   EndDate           7043 non-null   object \n",
      " 3   Type              7043 non-null   object \n",
      " 4   PaperlessBilling  7043 non-null   object \n",
      " 5   PaymentMethod     7043 non-null   object \n",
      " 6   MonthlyCharges    7043 non-null   float64\n",
      " 7   TotalCharges      7043 non-null   object \n",
      " 8   gender            7043 non-null   object \n",
      " 9   SeniorCitizen     7043 non-null   int64  \n",
      " 10  Partner           7043 non-null   object \n",
      " 11  Dependents        7043 non-null   object \n",
      " 12  InternetService   5517 non-null   object \n",
      " 13  OnlineSecurity    5517 non-null   object \n",
      " 14  OnlineBackup      5517 non-null   object \n",
      " 15  DeviceProtection  5517 non-null   object \n",
      " 16  TechSupport       5517 non-null   object \n",
      " 17  StreamingTV       5517 non-null   object \n",
      " 18  StreamingMovies   5517 non-null   object \n",
      " 19  MultipleLines     6361 non-null   object \n",
      "dtypes: float64(1), int64(1), object(18)\n",
      "memory usage: 1.1+ MB\n"
     ]
    }
   ],
   "source": [
    "df.info()"
   ]
  },
  {
   "cell_type": "markdown",
   "metadata": {},
   "source": [
    "Поле customerID не несет ценной информации для нас и для моделей будет только мешаться, его можно сразу убрать  \n",
    "Поле BeginDate нужно привести из типа object в тип datetime  \n",
    "\n",
    "Из поля Closed стоит сделать таргет, те записи, где стоит какая либо дата можно обозначить как 1 (закрылся договор), там где стоит No, поставить 0 (еще активен), также из этого же поля следует сделать финальную дату тех контрактов, которые закрылись (уже стоит дата), а те, что еще активны поставить дату выгрузки данных (01 февраля 2020г)  \n",
    "\n",
    "Также стоит сделать фичу, указывающую как долго длился(длится) контракт, для этого из даты финальной вычтем дату начала контракта и приведем в дни    \n",
    "\n",
    "В данных, где много где отмечено не использование каким либо услугами значением No, поэтому касательно интернета и телефона, записи которые отсутствуют было бы логично заполнить тем же No для каждого пользователя, где стоит пустота"
   ]
  },
  {
   "cell_type": "code",
   "execution_count": 8,
   "metadata": {},
   "outputs": [],
   "source": [
    "df = df.drop(['customerID'], axis=1)"
   ]
  },
  {
   "cell_type": "code",
   "execution_count": 9,
   "metadata": {},
   "outputs": [],
   "source": [
    "df['BeginDate'] = pd.to_datetime(df['BeginDate'])"
   ]
  },
  {
   "cell_type": "code",
   "execution_count": 10,
   "metadata": {},
   "outputs": [],
   "source": [
    "df['Closed'] = np.where(df['EndDate'] == 'No', 0, 1)"
   ]
  },
  {
   "cell_type": "code",
   "execution_count": 11,
   "metadata": {},
   "outputs": [],
   "source": [
    "df = df.fillna('No')"
   ]
  },
  {
   "cell_type": "code",
   "execution_count": 12,
   "metadata": {},
   "outputs": [
    {
     "name": "stdout",
     "output_type": "stream",
     "text": [
      "<class 'pandas.core.frame.DataFrame'>\n",
      "Int64Index: 7043 entries, 0 to 7042\n",
      "Data columns (total 20 columns):\n",
      " #   Column            Non-Null Count  Dtype         \n",
      "---  ------            --------------  -----         \n",
      " 0   BeginDate         7043 non-null   datetime64[ns]\n",
      " 1   EndDate           7043 non-null   object        \n",
      " 2   Type              7043 non-null   object        \n",
      " 3   PaperlessBilling  7043 non-null   object        \n",
      " 4   PaymentMethod     7043 non-null   object        \n",
      " 5   MonthlyCharges    7043 non-null   float64       \n",
      " 6   TotalCharges      7043 non-null   object        \n",
      " 7   gender            7043 non-null   object        \n",
      " 8   SeniorCitizen     7043 non-null   int64         \n",
      " 9   Partner           7043 non-null   object        \n",
      " 10  Dependents        7043 non-null   object        \n",
      " 11  InternetService   7043 non-null   object        \n",
      " 12  OnlineSecurity    7043 non-null   object        \n",
      " 13  OnlineBackup      7043 non-null   object        \n",
      " 14  DeviceProtection  7043 non-null   object        \n",
      " 15  TechSupport       7043 non-null   object        \n",
      " 16  StreamingTV       7043 non-null   object        \n",
      " 17  StreamingMovies   7043 non-null   object        \n",
      " 18  MultipleLines     7043 non-null   object        \n",
      " 19  Closed            7043 non-null   int64         \n",
      "dtypes: datetime64[ns](1), float64(1), int64(2), object(16)\n",
      "memory usage: 1.1+ MB\n"
     ]
    }
   ],
   "source": [
    "df.info()"
   ]
  },
  {
   "cell_type": "code",
   "execution_count": 13,
   "metadata": {},
   "outputs": [],
   "source": [
    "df['LastDate'] = np.where(df['EndDate'] == 'No', '2020-02-01', df['EndDate'])\n",
    "df['LastDate'] = pd.to_datetime(df['LastDate'])"
   ]
  },
  {
   "cell_type": "code",
   "execution_count": 14,
   "metadata": {},
   "outputs": [],
   "source": [
    "df['ServiceSpan'] = df['LastDate'] - df['BeginDate']\n",
    "df['ServiceSpan'] = df['ServiceSpan'].dt.days"
   ]
  },
  {
   "cell_type": "markdown",
   "metadata": {},
   "source": [
    "Видимо строки с пользователями, где в TotalCharges стоит \" \" еще не заполнены тк пользователи новые, имеет смысл перенести в них нынешние MonthlyCharges  \n",
    "И привести TotalCharges к численному типу "
   ]
  },
  {
   "cell_type": "code",
   "execution_count": 15,
   "metadata": {},
   "outputs": [
    {
     "data": {
      "text/html": [
       "<div>\n",
       "<style scoped>\n",
       "    .dataframe tbody tr th:only-of-type {\n",
       "        vertical-align: middle;\n",
       "    }\n",
       "\n",
       "    .dataframe tbody tr th {\n",
       "        vertical-align: top;\n",
       "    }\n",
       "\n",
       "    .dataframe thead th {\n",
       "        text-align: right;\n",
       "    }\n",
       "</style>\n",
       "<table border=\"1\" class=\"dataframe\">\n",
       "  <thead>\n",
       "    <tr style=\"text-align: right;\">\n",
       "      <th></th>\n",
       "      <th>BeginDate</th>\n",
       "      <th>EndDate</th>\n",
       "      <th>Type</th>\n",
       "      <th>PaperlessBilling</th>\n",
       "      <th>PaymentMethod</th>\n",
       "      <th>MonthlyCharges</th>\n",
       "      <th>TotalCharges</th>\n",
       "      <th>gender</th>\n",
       "      <th>SeniorCitizen</th>\n",
       "      <th>Partner</th>\n",
       "      <th>...</th>\n",
       "      <th>OnlineSecurity</th>\n",
       "      <th>OnlineBackup</th>\n",
       "      <th>DeviceProtection</th>\n",
       "      <th>TechSupport</th>\n",
       "      <th>StreamingTV</th>\n",
       "      <th>StreamingMovies</th>\n",
       "      <th>MultipleLines</th>\n",
       "      <th>Closed</th>\n",
       "      <th>LastDate</th>\n",
       "      <th>ServiceSpan</th>\n",
       "    </tr>\n",
       "  </thead>\n",
       "  <tbody>\n",
       "    <tr>\n",
       "      <th>487</th>\n",
       "      <td>2014-02-01</td>\n",
       "      <td>No</td>\n",
       "      <td>Two year</td>\n",
       "      <td>Yes</td>\n",
       "      <td>Bank transfer (automatic)</td>\n",
       "      <td>88.60</td>\n",
       "      <td>6953.33</td>\n",
       "      <td>Male</td>\n",
       "      <td>0</td>\n",
       "      <td>No</td>\n",
       "      <td>...</td>\n",
       "      <td>No</td>\n",
       "      <td>Yes</td>\n",
       "      <td>Yes</td>\n",
       "      <td>Yes</td>\n",
       "      <td>Yes</td>\n",
       "      <td>Yes</td>\n",
       "      <td>Yes</td>\n",
       "      <td>0</td>\n",
       "      <td>2020-02-01</td>\n",
       "      <td>2191</td>\n",
       "    </tr>\n",
       "    <tr>\n",
       "      <th>488</th>\n",
       "      <td>2020-02-01</td>\n",
       "      <td>No</td>\n",
       "      <td>Two year</td>\n",
       "      <td>Yes</td>\n",
       "      <td>Bank transfer (automatic)</td>\n",
       "      <td>52.55</td>\n",
       "      <td></td>\n",
       "      <td>Female</td>\n",
       "      <td>0</td>\n",
       "      <td>Yes</td>\n",
       "      <td>...</td>\n",
       "      <td>Yes</td>\n",
       "      <td>No</td>\n",
       "      <td>Yes</td>\n",
       "      <td>Yes</td>\n",
       "      <td>Yes</td>\n",
       "      <td>No</td>\n",
       "      <td>No</td>\n",
       "      <td>0</td>\n",
       "      <td>2020-02-01</td>\n",
       "      <td>0</td>\n",
       "    </tr>\n",
       "    <tr>\n",
       "      <th>489</th>\n",
       "      <td>2019-09-01</td>\n",
       "      <td>No</td>\n",
       "      <td>Month-to-month</td>\n",
       "      <td>Yes</td>\n",
       "      <td>Electronic check</td>\n",
       "      <td>74.35</td>\n",
       "      <td>382.9</td>\n",
       "      <td>Male</td>\n",
       "      <td>0</td>\n",
       "      <td>No</td>\n",
       "      <td>...</td>\n",
       "      <td>No</td>\n",
       "      <td>No</td>\n",
       "      <td>No</td>\n",
       "      <td>No</td>\n",
       "      <td>No</td>\n",
       "      <td>No</td>\n",
       "      <td>Yes</td>\n",
       "      <td>0</td>\n",
       "      <td>2020-02-01</td>\n",
       "      <td>153</td>\n",
       "    </tr>\n",
       "  </tbody>\n",
       "</table>\n",
       "<p>3 rows × 22 columns</p>\n",
       "</div>"
      ],
      "text/plain": [
       "     BeginDate EndDate            Type PaperlessBilling  \\\n",
       "487 2014-02-01      No        Two year              Yes   \n",
       "488 2020-02-01      No        Two year              Yes   \n",
       "489 2019-09-01      No  Month-to-month              Yes   \n",
       "\n",
       "                 PaymentMethod  MonthlyCharges TotalCharges  gender  \\\n",
       "487  Bank transfer (automatic)           88.60      6953.33    Male   \n",
       "488  Bank transfer (automatic)           52.55               Female   \n",
       "489           Electronic check           74.35        382.9    Male   \n",
       "\n",
       "     SeniorCitizen Partner  ... OnlineSecurity OnlineBackup DeviceProtection  \\\n",
       "487              0      No  ...             No          Yes              Yes   \n",
       "488              0     Yes  ...            Yes           No              Yes   \n",
       "489              0      No  ...             No           No               No   \n",
       "\n",
       "    TechSupport StreamingTV StreamingMovies MultipleLines Closed   LastDate  \\\n",
       "487         Yes         Yes             Yes           Yes      0 2020-02-01   \n",
       "488         Yes         Yes              No            No      0 2020-02-01   \n",
       "489          No          No              No           Yes      0 2020-02-01   \n",
       "\n",
       "     ServiceSpan  \n",
       "487         2191  \n",
       "488            0  \n",
       "489          153  \n",
       "\n",
       "[3 rows x 22 columns]"
      ]
     },
     "metadata": {},
     "output_type": "display_data"
    },
    {
     "data": {
      "text/html": [
       "<div>\n",
       "<style scoped>\n",
       "    .dataframe tbody tr th:only-of-type {\n",
       "        vertical-align: middle;\n",
       "    }\n",
       "\n",
       "    .dataframe tbody tr th {\n",
       "        vertical-align: top;\n",
       "    }\n",
       "\n",
       "    .dataframe thead th {\n",
       "        text-align: right;\n",
       "    }\n",
       "</style>\n",
       "<table border=\"1\" class=\"dataframe\">\n",
       "  <thead>\n",
       "    <tr style=\"text-align: right;\">\n",
       "      <th></th>\n",
       "      <th>BeginDate</th>\n",
       "      <th>EndDate</th>\n",
       "      <th>Type</th>\n",
       "      <th>PaperlessBilling</th>\n",
       "      <th>PaymentMethod</th>\n",
       "      <th>MonthlyCharges</th>\n",
       "      <th>TotalCharges</th>\n",
       "      <th>gender</th>\n",
       "      <th>SeniorCitizen</th>\n",
       "      <th>Partner</th>\n",
       "      <th>...</th>\n",
       "      <th>OnlineSecurity</th>\n",
       "      <th>OnlineBackup</th>\n",
       "      <th>DeviceProtection</th>\n",
       "      <th>TechSupport</th>\n",
       "      <th>StreamingTV</th>\n",
       "      <th>StreamingMovies</th>\n",
       "      <th>MultipleLines</th>\n",
       "      <th>Closed</th>\n",
       "      <th>LastDate</th>\n",
       "      <th>ServiceSpan</th>\n",
       "    </tr>\n",
       "  </thead>\n",
       "  <tbody>\n",
       "    <tr>\n",
       "      <th>487</th>\n",
       "      <td>2014-02-01</td>\n",
       "      <td>No</td>\n",
       "      <td>Two year</td>\n",
       "      <td>Yes</td>\n",
       "      <td>Bank transfer (automatic)</td>\n",
       "      <td>88.60</td>\n",
       "      <td>6953.33</td>\n",
       "      <td>Male</td>\n",
       "      <td>0</td>\n",
       "      <td>No</td>\n",
       "      <td>...</td>\n",
       "      <td>No</td>\n",
       "      <td>Yes</td>\n",
       "      <td>Yes</td>\n",
       "      <td>Yes</td>\n",
       "      <td>Yes</td>\n",
       "      <td>Yes</td>\n",
       "      <td>Yes</td>\n",
       "      <td>0</td>\n",
       "      <td>2020-02-01</td>\n",
       "      <td>2191</td>\n",
       "    </tr>\n",
       "    <tr>\n",
       "      <th>488</th>\n",
       "      <td>2020-02-01</td>\n",
       "      <td>No</td>\n",
       "      <td>Two year</td>\n",
       "      <td>Yes</td>\n",
       "      <td>Bank transfer (automatic)</td>\n",
       "      <td>52.55</td>\n",
       "      <td>52.55</td>\n",
       "      <td>Female</td>\n",
       "      <td>0</td>\n",
       "      <td>Yes</td>\n",
       "      <td>...</td>\n",
       "      <td>Yes</td>\n",
       "      <td>No</td>\n",
       "      <td>Yes</td>\n",
       "      <td>Yes</td>\n",
       "      <td>Yes</td>\n",
       "      <td>No</td>\n",
       "      <td>No</td>\n",
       "      <td>0</td>\n",
       "      <td>2020-02-01</td>\n",
       "      <td>0</td>\n",
       "    </tr>\n",
       "    <tr>\n",
       "      <th>489</th>\n",
       "      <td>2019-09-01</td>\n",
       "      <td>No</td>\n",
       "      <td>Month-to-month</td>\n",
       "      <td>Yes</td>\n",
       "      <td>Electronic check</td>\n",
       "      <td>74.35</td>\n",
       "      <td>382.9</td>\n",
       "      <td>Male</td>\n",
       "      <td>0</td>\n",
       "      <td>No</td>\n",
       "      <td>...</td>\n",
       "      <td>No</td>\n",
       "      <td>No</td>\n",
       "      <td>No</td>\n",
       "      <td>No</td>\n",
       "      <td>No</td>\n",
       "      <td>No</td>\n",
       "      <td>Yes</td>\n",
       "      <td>0</td>\n",
       "      <td>2020-02-01</td>\n",
       "      <td>153</td>\n",
       "    </tr>\n",
       "  </tbody>\n",
       "</table>\n",
       "<p>3 rows × 22 columns</p>\n",
       "</div>"
      ],
      "text/plain": [
       "     BeginDate EndDate            Type PaperlessBilling  \\\n",
       "487 2014-02-01      No        Two year              Yes   \n",
       "488 2020-02-01      No        Two year              Yes   \n",
       "489 2019-09-01      No  Month-to-month              Yes   \n",
       "\n",
       "                 PaymentMethod  MonthlyCharges TotalCharges  gender  \\\n",
       "487  Bank transfer (automatic)           88.60      6953.33    Male   \n",
       "488  Bank transfer (automatic)           52.55        52.55  Female   \n",
       "489           Electronic check           74.35        382.9    Male   \n",
       "\n",
       "     SeniorCitizen Partner  ... OnlineSecurity OnlineBackup DeviceProtection  \\\n",
       "487              0      No  ...             No          Yes              Yes   \n",
       "488              0     Yes  ...            Yes           No              Yes   \n",
       "489              0      No  ...             No           No               No   \n",
       "\n",
       "    TechSupport StreamingTV StreamingMovies MultipleLines Closed   LastDate  \\\n",
       "487         Yes         Yes             Yes           Yes      0 2020-02-01   \n",
       "488         Yes         Yes              No            No      0 2020-02-01   \n",
       "489          No          No              No           Yes      0 2020-02-01   \n",
       "\n",
       "     ServiceSpan  \n",
       "487         2191  \n",
       "488            0  \n",
       "489          153  \n",
       "\n",
       "[3 rows x 22 columns]"
      ]
     },
     "execution_count": 15,
     "metadata": {},
     "output_type": "execute_result"
    }
   ],
   "source": [
    "display(df.iloc[487:490])\n",
    "def replace_if_blank(row):\n",
    "    if row['TotalCharges'] == ' ':\n",
    "        return row['MonthlyCharges']\n",
    "    else:\n",
    "        return row['TotalCharges']\n",
    "\n",
    "df['TotalCharges'] = df.apply(replace_if_blank, axis=1)\n",
    "df.iloc[487:490]"
   ]
  },
  {
   "cell_type": "code",
   "execution_count": 16,
   "metadata": {},
   "outputs": [],
   "source": [
    "df['TotalCharges'] = pd.to_numeric(df['TotalCharges']) "
   ]
  },
  {
   "cell_type": "code",
   "execution_count": 17,
   "metadata": {},
   "outputs": [
    {
     "name": "stdout",
     "output_type": "stream",
     "text": [
      "<class 'pandas.core.frame.DataFrame'>\n",
      "Int64Index: 7043 entries, 0 to 7042\n",
      "Data columns (total 22 columns):\n",
      " #   Column            Non-Null Count  Dtype         \n",
      "---  ------            --------------  -----         \n",
      " 0   BeginDate         7043 non-null   datetime64[ns]\n",
      " 1   EndDate           7043 non-null   object        \n",
      " 2   Type              7043 non-null   object        \n",
      " 3   PaperlessBilling  7043 non-null   object        \n",
      " 4   PaymentMethod     7043 non-null   object        \n",
      " 5   MonthlyCharges    7043 non-null   float64       \n",
      " 6   TotalCharges      7043 non-null   float64       \n",
      " 7   gender            7043 non-null   object        \n",
      " 8   SeniorCitizen     7043 non-null   int64         \n",
      " 9   Partner           7043 non-null   object        \n",
      " 10  Dependents        7043 non-null   object        \n",
      " 11  InternetService   7043 non-null   object        \n",
      " 12  OnlineSecurity    7043 non-null   object        \n",
      " 13  OnlineBackup      7043 non-null   object        \n",
      " 14  DeviceProtection  7043 non-null   object        \n",
      " 15  TechSupport       7043 non-null   object        \n",
      " 16  StreamingTV       7043 non-null   object        \n",
      " 17  StreamingMovies   7043 non-null   object        \n",
      " 18  MultipleLines     7043 non-null   object        \n",
      " 19  Closed            7043 non-null   int64         \n",
      " 20  LastDate          7043 non-null   datetime64[ns]\n",
      " 21  ServiceSpan       7043 non-null   int64         \n",
      "dtypes: datetime64[ns](2), float64(2), int64(3), object(15)\n",
      "memory usage: 1.2+ MB\n"
     ]
    }
   ],
   "source": [
    "df.info()"
   ]
  },
  {
   "cell_type": "code",
   "execution_count": 18,
   "metadata": {},
   "outputs": [],
   "source": [
    "exclude_columns = ['ServiceSpan', 'LastDate', 'Closed', 'SeniorCitizen', 'BeginDate', 'EndDate', 'MonthlyCharges', 'TotalCharges']\n",
    "columns = [col for col in df.columns if col not in exclude_columns]"
   ]
  },
  {
   "cell_type": "code",
   "execution_count": 19,
   "metadata": {},
   "outputs": [
    {
     "data": {
      "text/html": [
       "<div>\n",
       "<style scoped>\n",
       "    .dataframe tbody tr th:only-of-type {\n",
       "        vertical-align: middle;\n",
       "    }\n",
       "\n",
       "    .dataframe tbody tr th {\n",
       "        vertical-align: top;\n",
       "    }\n",
       "\n",
       "    .dataframe thead th {\n",
       "        text-align: right;\n",
       "    }\n",
       "</style>\n",
       "<table border=\"1\" class=\"dataframe\">\n",
       "  <thead>\n",
       "    <tr style=\"text-align: right;\">\n",
       "      <th></th>\n",
       "      <th>BeginDate</th>\n",
       "      <th>EndDate</th>\n",
       "      <th>Type</th>\n",
       "      <th>PaperlessBilling</th>\n",
       "      <th>PaymentMethod</th>\n",
       "      <th>MonthlyCharges</th>\n",
       "      <th>TotalCharges</th>\n",
       "      <th>gender</th>\n",
       "      <th>SeniorCitizen</th>\n",
       "      <th>Partner</th>\n",
       "      <th>...</th>\n",
       "      <th>OnlineSecurity</th>\n",
       "      <th>OnlineBackup</th>\n",
       "      <th>DeviceProtection</th>\n",
       "      <th>TechSupport</th>\n",
       "      <th>StreamingTV</th>\n",
       "      <th>StreamingMovies</th>\n",
       "      <th>MultipleLines</th>\n",
       "      <th>Closed</th>\n",
       "      <th>LastDate</th>\n",
       "      <th>ServiceSpan</th>\n",
       "    </tr>\n",
       "  </thead>\n",
       "  <tbody>\n",
       "    <tr>\n",
       "      <th>0</th>\n",
       "      <td>2020-01-01</td>\n",
       "      <td>No</td>\n",
       "      <td>Month-to-month</td>\n",
       "      <td>Yes</td>\n",
       "      <td>Electronic check</td>\n",
       "      <td>29.85</td>\n",
       "      <td>31.04</td>\n",
       "      <td>Female</td>\n",
       "      <td>0</td>\n",
       "      <td>Yes</td>\n",
       "      <td>...</td>\n",
       "      <td>No</td>\n",
       "      <td>Yes</td>\n",
       "      <td>No</td>\n",
       "      <td>No</td>\n",
       "      <td>No</td>\n",
       "      <td>No</td>\n",
       "      <td>No</td>\n",
       "      <td>0</td>\n",
       "      <td>2020-02-01</td>\n",
       "      <td>31</td>\n",
       "    </tr>\n",
       "    <tr>\n",
       "      <th>1</th>\n",
       "      <td>2017-04-01</td>\n",
       "      <td>No</td>\n",
       "      <td>One year</td>\n",
       "      <td>No</td>\n",
       "      <td>Mailed check</td>\n",
       "      <td>56.95</td>\n",
       "      <td>2071.84</td>\n",
       "      <td>Male</td>\n",
       "      <td>0</td>\n",
       "      <td>No</td>\n",
       "      <td>...</td>\n",
       "      <td>Yes</td>\n",
       "      <td>No</td>\n",
       "      <td>Yes</td>\n",
       "      <td>No</td>\n",
       "      <td>No</td>\n",
       "      <td>No</td>\n",
       "      <td>No</td>\n",
       "      <td>0</td>\n",
       "      <td>2020-02-01</td>\n",
       "      <td>1036</td>\n",
       "    </tr>\n",
       "    <tr>\n",
       "      <th>2</th>\n",
       "      <td>2019-10-01</td>\n",
       "      <td>No</td>\n",
       "      <td>Month-to-month</td>\n",
       "      <td>Yes</td>\n",
       "      <td>Mailed check</td>\n",
       "      <td>53.85</td>\n",
       "      <td>226.17</td>\n",
       "      <td>Male</td>\n",
       "      <td>0</td>\n",
       "      <td>No</td>\n",
       "      <td>...</td>\n",
       "      <td>Yes</td>\n",
       "      <td>Yes</td>\n",
       "      <td>No</td>\n",
       "      <td>No</td>\n",
       "      <td>No</td>\n",
       "      <td>No</td>\n",
       "      <td>No</td>\n",
       "      <td>0</td>\n",
       "      <td>2020-02-01</td>\n",
       "      <td>123</td>\n",
       "    </tr>\n",
       "    <tr>\n",
       "      <th>3</th>\n",
       "      <td>2016-05-01</td>\n",
       "      <td>No</td>\n",
       "      <td>One year</td>\n",
       "      <td>No</td>\n",
       "      <td>Bank transfer (automatic)</td>\n",
       "      <td>42.30</td>\n",
       "      <td>1960.60</td>\n",
       "      <td>Male</td>\n",
       "      <td>0</td>\n",
       "      <td>No</td>\n",
       "      <td>...</td>\n",
       "      <td>Yes</td>\n",
       "      <td>No</td>\n",
       "      <td>Yes</td>\n",
       "      <td>Yes</td>\n",
       "      <td>No</td>\n",
       "      <td>No</td>\n",
       "      <td>No</td>\n",
       "      <td>0</td>\n",
       "      <td>2020-02-01</td>\n",
       "      <td>1371</td>\n",
       "    </tr>\n",
       "    <tr>\n",
       "      <th>4</th>\n",
       "      <td>2019-09-01</td>\n",
       "      <td>No</td>\n",
       "      <td>Month-to-month</td>\n",
       "      <td>Yes</td>\n",
       "      <td>Electronic check</td>\n",
       "      <td>70.70</td>\n",
       "      <td>353.50</td>\n",
       "      <td>Female</td>\n",
       "      <td>0</td>\n",
       "      <td>No</td>\n",
       "      <td>...</td>\n",
       "      <td>No</td>\n",
       "      <td>No</td>\n",
       "      <td>No</td>\n",
       "      <td>No</td>\n",
       "      <td>No</td>\n",
       "      <td>No</td>\n",
       "      <td>No</td>\n",
       "      <td>0</td>\n",
       "      <td>2020-02-01</td>\n",
       "      <td>153</td>\n",
       "    </tr>\n",
       "  </tbody>\n",
       "</table>\n",
       "<p>5 rows × 22 columns</p>\n",
       "</div>"
      ],
      "text/plain": [
       "   BeginDate EndDate            Type PaperlessBilling  \\\n",
       "0 2020-01-01      No  Month-to-month              Yes   \n",
       "1 2017-04-01      No        One year               No   \n",
       "2 2019-10-01      No  Month-to-month              Yes   \n",
       "3 2016-05-01      No        One year               No   \n",
       "4 2019-09-01      No  Month-to-month              Yes   \n",
       "\n",
       "               PaymentMethod  MonthlyCharges  TotalCharges  gender  \\\n",
       "0           Electronic check           29.85         31.04  Female   \n",
       "1               Mailed check           56.95       2071.84    Male   \n",
       "2               Mailed check           53.85        226.17    Male   \n",
       "3  Bank transfer (automatic)           42.30       1960.60    Male   \n",
       "4           Electronic check           70.70        353.50  Female   \n",
       "\n",
       "   SeniorCitizen Partner  ... OnlineSecurity OnlineBackup DeviceProtection  \\\n",
       "0              0     Yes  ...             No          Yes               No   \n",
       "1              0      No  ...            Yes           No              Yes   \n",
       "2              0      No  ...            Yes          Yes               No   \n",
       "3              0      No  ...            Yes           No              Yes   \n",
       "4              0      No  ...             No           No               No   \n",
       "\n",
       "  TechSupport StreamingTV StreamingMovies MultipleLines Closed   LastDate  \\\n",
       "0          No          No              No            No      0 2020-02-01   \n",
       "1          No          No              No            No      0 2020-02-01   \n",
       "2          No          No              No            No      0 2020-02-01   \n",
       "3         Yes          No              No            No      0 2020-02-01   \n",
       "4          No          No              No            No      0 2020-02-01   \n",
       "\n",
       "   ServiceSpan  \n",
       "0           31  \n",
       "1         1036  \n",
       "2          123  \n",
       "3         1371  \n",
       "4          153  \n",
       "\n",
       "[5 rows x 22 columns]"
      ]
     },
     "execution_count": 19,
     "metadata": {},
     "output_type": "execute_result"
    }
   ],
   "source": [
    "df.head()"
   ]
  },
  {
   "cell_type": "code",
   "execution_count": 20,
   "metadata": {},
   "outputs": [
    {
     "data": {
      "image/png": "[encoded data removed]",
      "text/plain": [
       "<Figure size 1440x1080 with 9 Axes>"
      ]
     },
     "metadata": {
      "needs_background": "light"
     },
     "output_type": "display_data"
    }
   ],
   "source": [
    "df.hist(bins=15, figsize=(20, 15), grid=False)\n",
    "\n",
    "plt.tight_layout(pad=2.0)\n",
    "plt.show()"
   ]
  },
  {
   "cell_type": "code",
   "execution_count": 21,
   "metadata": {},
   "outputs": [
    {
     "data": {
      "image/png": "[encoded data removed]",
      "text/plain": [
       "<Figure size 1440x1080 with 9 Axes>"
      ]
     },
     "metadata": {
      "needs_background": "light"
     },
     "output_type": "display_data"
    }
   ],
   "source": [
    "df[df['Closed'] == 1].hist(bins=15, figsize=(20, 15), grid=False)\n",
    "\n",
    "plt.tight_layout(pad=2.0)\n",
    "plt.show()"
   ]
  },
  {
   "cell_type": "markdown",
   "metadata": {},
   "source": [
    "Типичный ушедший клиент отличается от обычного клиента отличается этим:  \n",
    "-В среднем пользовался сервисом больше (порядка 1000 дней, когда обычный клиент порядка 0-500)  \n",
    "-Является клиентом уже несколько лет, когда обычные клиенты подключились недавно (видимо недавно была большая рекламная кампания)  \n",
    "-В месяц и тотально тратит больше денег, чем оставшиеся клиенты"
   ]
  },
  {
   "cell_type": "code",
   "execution_count": 22,
   "metadata": {},
   "outputs": [
    {
     "data": {
      "text/html": [
       "<div>\n",
       "<style scoped>\n",
       "    .dataframe tbody tr th:only-of-type {\n",
       "        vertical-align: middle;\n",
       "    }\n",
       "\n",
       "    .dataframe tbody tr th {\n",
       "        vertical-align: top;\n",
       "    }\n",
       "\n",
       "    .dataframe thead th {\n",
       "        text-align: right;\n",
       "    }\n",
       "</style>\n",
       "<table border=\"1\" class=\"dataframe\">\n",
       "  <thead>\n",
       "    <tr style=\"text-align: right;\">\n",
       "      <th></th>\n",
       "      <th>BeginDate</th>\n",
       "      <th>EndDate</th>\n",
       "      <th>Type</th>\n",
       "      <th>PaperlessBilling</th>\n",
       "      <th>PaymentMethod</th>\n",
       "      <th>MonthlyCharges</th>\n",
       "      <th>TotalCharges</th>\n",
       "      <th>gender</th>\n",
       "      <th>SeniorCitizen</th>\n",
       "      <th>Partner</th>\n",
       "      <th>...</th>\n",
       "      <th>OnlineSecurity</th>\n",
       "      <th>OnlineBackup</th>\n",
       "      <th>DeviceProtection</th>\n",
       "      <th>TechSupport</th>\n",
       "      <th>StreamingTV</th>\n",
       "      <th>StreamingMovies</th>\n",
       "      <th>MultipleLines</th>\n",
       "      <th>Closed</th>\n",
       "      <th>LastDate</th>\n",
       "      <th>ServiceSpan</th>\n",
       "    </tr>\n",
       "  </thead>\n",
       "  <tbody>\n",
       "    <tr>\n",
       "      <th>0</th>\n",
       "      <td>2020-01-01</td>\n",
       "      <td>No</td>\n",
       "      <td>Month-to-month</td>\n",
       "      <td>Yes</td>\n",
       "      <td>Electronic check</td>\n",
       "      <td>29.85</td>\n",
       "      <td>31.04</td>\n",
       "      <td>Female</td>\n",
       "      <td>0</td>\n",
       "      <td>Yes</td>\n",
       "      <td>...</td>\n",
       "      <td>No</td>\n",
       "      <td>Yes</td>\n",
       "      <td>No</td>\n",
       "      <td>No</td>\n",
       "      <td>No</td>\n",
       "      <td>No</td>\n",
       "      <td>No</td>\n",
       "      <td>0</td>\n",
       "      <td>2020-02-01</td>\n",
       "      <td>31</td>\n",
       "    </tr>\n",
       "    <tr>\n",
       "      <th>1</th>\n",
       "      <td>2017-04-01</td>\n",
       "      <td>No</td>\n",
       "      <td>One year</td>\n",
       "      <td>No</td>\n",
       "      <td>Mailed check</td>\n",
       "      <td>56.95</td>\n",
       "      <td>2071.84</td>\n",
       "      <td>Male</td>\n",
       "      <td>0</td>\n",
       "      <td>No</td>\n",
       "      <td>...</td>\n",
       "      <td>Yes</td>\n",
       "      <td>No</td>\n",
       "      <td>Yes</td>\n",
       "      <td>No</td>\n",
       "      <td>No</td>\n",
       "      <td>No</td>\n",
       "      <td>No</td>\n",
       "      <td>0</td>\n",
       "      <td>2020-02-01</td>\n",
       "      <td>1036</td>\n",
       "    </tr>\n",
       "    <tr>\n",
       "      <th>2</th>\n",
       "      <td>2019-10-01</td>\n",
       "      <td>No</td>\n",
       "      <td>Month-to-month</td>\n",
       "      <td>Yes</td>\n",
       "      <td>Mailed check</td>\n",
       "      <td>53.85</td>\n",
       "      <td>226.17</td>\n",
       "      <td>Male</td>\n",
       "      <td>0</td>\n",
       "      <td>No</td>\n",
       "      <td>...</td>\n",
       "      <td>Yes</td>\n",
       "      <td>Yes</td>\n",
       "      <td>No</td>\n",
       "      <td>No</td>\n",
       "      <td>No</td>\n",
       "      <td>No</td>\n",
       "      <td>No</td>\n",
       "      <td>0</td>\n",
       "      <td>2020-02-01</td>\n",
       "      <td>123</td>\n",
       "    </tr>\n",
       "    <tr>\n",
       "      <th>3</th>\n",
       "      <td>2016-05-01</td>\n",
       "      <td>No</td>\n",
       "      <td>One year</td>\n",
       "      <td>No</td>\n",
       "      <td>Bank transfer (automatic)</td>\n",
       "      <td>42.30</td>\n",
       "      <td>1960.60</td>\n",
       "      <td>Male</td>\n",
       "      <td>0</td>\n",
       "      <td>No</td>\n",
       "      <td>...</td>\n",
       "      <td>Yes</td>\n",
       "      <td>No</td>\n",
       "      <td>Yes</td>\n",
       "      <td>Yes</td>\n",
       "      <td>No</td>\n",
       "      <td>No</td>\n",
       "      <td>No</td>\n",
       "      <td>0</td>\n",
       "      <td>2020-02-01</td>\n",
       "      <td>1371</td>\n",
       "    </tr>\n",
       "    <tr>\n",
       "      <th>4</th>\n",
       "      <td>2019-09-01</td>\n",
       "      <td>No</td>\n",
       "      <td>Month-to-month</td>\n",
       "      <td>Yes</td>\n",
       "      <td>Electronic check</td>\n",
       "      <td>70.70</td>\n",
       "      <td>353.50</td>\n",
       "      <td>Female</td>\n",
       "      <td>0</td>\n",
       "      <td>No</td>\n",
       "      <td>...</td>\n",
       "      <td>No</td>\n",
       "      <td>No</td>\n",
       "      <td>No</td>\n",
       "      <td>No</td>\n",
       "      <td>No</td>\n",
       "      <td>No</td>\n",
       "      <td>No</td>\n",
       "      <td>0</td>\n",
       "      <td>2020-02-01</td>\n",
       "      <td>153</td>\n",
       "    </tr>\n",
       "  </tbody>\n",
       "</table>\n",
       "<p>5 rows × 22 columns</p>\n",
       "</div>"
      ],
      "text/plain": [
       "   BeginDate EndDate            Type PaperlessBilling  \\\n",
       "0 2020-01-01      No  Month-to-month              Yes   \n",
       "1 2017-04-01      No        One year               No   \n",
       "2 2019-10-01      No  Month-to-month              Yes   \n",
       "3 2016-05-01      No        One year               No   \n",
       "4 2019-09-01      No  Month-to-month              Yes   \n",
       "\n",
       "               PaymentMethod  MonthlyCharges  TotalCharges  gender  \\\n",
       "0           Electronic check           29.85         31.04  Female   \n",
       "1               Mailed check           56.95       2071.84    Male   \n",
       "2               Mailed check           53.85        226.17    Male   \n",
       "3  Bank transfer (automatic)           42.30       1960.60    Male   \n",
       "4           Electronic check           70.70        353.50  Female   \n",
       "\n",
       "   SeniorCitizen Partner  ... OnlineSecurity OnlineBackup DeviceProtection  \\\n",
       "0              0     Yes  ...             No          Yes               No   \n",
       "1              0      No  ...            Yes           No              Yes   \n",
       "2              0      No  ...            Yes          Yes               No   \n",
       "3              0      No  ...            Yes           No              Yes   \n",
       "4              0      No  ...             No           No               No   \n",
       "\n",
       "  TechSupport StreamingTV StreamingMovies MultipleLines Closed   LastDate  \\\n",
       "0          No          No              No            No      0 2020-02-01   \n",
       "1          No          No              No            No      0 2020-02-01   \n",
       "2          No          No              No            No      0 2020-02-01   \n",
       "3         Yes          No              No            No      0 2020-02-01   \n",
       "4          No          No              No            No      0 2020-02-01   \n",
       "\n",
       "   ServiceSpan  \n",
       "0           31  \n",
       "1         1036  \n",
       "2          123  \n",
       "3         1371  \n",
       "4          153  \n",
       "\n",
       "[5 rows x 22 columns]"
      ]
     },
     "execution_count": 22,
     "metadata": {},
     "output_type": "execute_result"
    }
   ],
   "source": [
    "df.head()"
   ]
  },
  {
   "cell_type": "markdown",
   "metadata": {},
   "source": [
    "## Подготовка к моделированию"
   ]
  },
  {
   "cell_type": "code",
   "execution_count": 23,
   "metadata": {},
   "outputs": [],
   "source": [
    "features = df.drop(['Closed', 'BeginDate', 'EndDate', 'LastDate'], axis=1)\n",
    "target = df['Closed']"
   ]
  },
  {
   "cell_type": "code",
   "execution_count": 24,
   "metadata": {},
   "outputs": [
    {
     "name": "stdout",
     "output_type": "stream",
     "text": [
      "(5282, 18)\n",
      "(1761,)\n"
     ]
    }
   ],
   "source": [
    "features_train, features_test, target_train, target_test = train_test_split(\n",
    "    features, target, test_size=0.25, random_state=20824, stratify=target)\n",
    "print(features_train.shape)\n",
    "print(target_test.shape)"
   ]
  },
  {
   "cell_type": "code",
   "execution_count": 25,
   "metadata": {},
   "outputs": [],
   "source": [
    "transformer = OneHotEncoder(handle_unknown='ignore')\n",
    "\n",
    "transformed_train = transformer.fit_transform(features_train)\n",
    "transformed_test = transformer.transform(features_test)\n",
    "transformed_train_dense = transformed_train.toarray()\n",
    "transformed_test_dense = transformed_test.toarray()"
   ]
  },
  {
   "cell_type": "code",
   "execution_count": 26,
   "metadata": {},
   "outputs": [],
   "source": [
    "original_feature_names = features.columns\n",
    "transformer.feature_names_out_ = [f\"{col}_{val}\" for col, vals in zip(original_feature_names, transformer.categories_) for val in vals]\n",
    "feature_names = transformer.get_feature_names(input_features=features.columns)\n",
    "\n",
    "features_train_ohe = pd.DataFrame(transformed_train_dense, columns=feature_names)\n",
    "features_test_ohe = pd.DataFrame(transformed_test_dense, columns=feature_names)"
   ]
  },
  {
   "cell_type": "code",
   "execution_count": 27,
   "metadata": {
    "scrolled": true
   },
   "outputs": [
    {
     "data": {
      "text/html": [
       "<div>\n",
       "<style scoped>\n",
       "    .dataframe tbody tr th:only-of-type {\n",
       "        vertical-align: middle;\n",
       "    }\n",
       "\n",
       "    .dataframe tbody tr th {\n",
       "        vertical-align: top;\n",
       "    }\n",
       "\n",
       "    .dataframe thead th {\n",
       "        text-align: right;\n",
       "    }\n",
       "</style>\n",
       "<table border=\"1\" class=\"dataframe\">\n",
       "  <thead>\n",
       "    <tr style=\"text-align: right;\">\n",
       "      <th></th>\n",
       "      <th>Type_Month-to-month</th>\n",
       "      <th>Type_One year</th>\n",
       "      <th>Type_Two year</th>\n",
       "      <th>PaperlessBilling_No</th>\n",
       "      <th>PaperlessBilling_Yes</th>\n",
       "      <th>PaymentMethod_Bank transfer (automatic)</th>\n",
       "      <th>PaymentMethod_Credit card (automatic)</th>\n",
       "      <th>PaymentMethod_Electronic check</th>\n",
       "      <th>PaymentMethod_Mailed check</th>\n",
       "      <th>MonthlyCharges_18.25</th>\n",
       "      <th>...</th>\n",
       "      <th>ServiceSpan_2040</th>\n",
       "      <th>ServiceSpan_2041</th>\n",
       "      <th>ServiceSpan_2071</th>\n",
       "      <th>ServiceSpan_2102</th>\n",
       "      <th>ServiceSpan_2132</th>\n",
       "      <th>ServiceSpan_2163</th>\n",
       "      <th>ServiceSpan_2191</th>\n",
       "      <th>ServiceSpan_2253</th>\n",
       "      <th>ServiceSpan_2283</th>\n",
       "      <th>ServiceSpan_2314</th>\n",
       "    </tr>\n",
       "  </thead>\n",
       "  <tbody>\n",
       "    <tr>\n",
       "      <th>0</th>\n",
       "      <td>0.0</td>\n",
       "      <td>0.0</td>\n",
       "      <td>1.0</td>\n",
       "      <td>1.0</td>\n",
       "      <td>0.0</td>\n",
       "      <td>0.0</td>\n",
       "      <td>0.0</td>\n",
       "      <td>0.0</td>\n",
       "      <td>1.0</td>\n",
       "      <td>0.0</td>\n",
       "      <td>...</td>\n",
       "      <td>0.0</td>\n",
       "      <td>0.0</td>\n",
       "      <td>0.0</td>\n",
       "      <td>0.0</td>\n",
       "      <td>0.0</td>\n",
       "      <td>0.0</td>\n",
       "      <td>0.0</td>\n",
       "      <td>0.0</td>\n",
       "      <td>0.0</td>\n",
       "      <td>0.0</td>\n",
       "    </tr>\n",
       "    <tr>\n",
       "      <th>1</th>\n",
       "      <td>1.0</td>\n",
       "      <td>0.0</td>\n",
       "      <td>0.0</td>\n",
       "      <td>1.0</td>\n",
       "      <td>0.0</td>\n",
       "      <td>0.0</td>\n",
       "      <td>0.0</td>\n",
       "      <td>1.0</td>\n",
       "      <td>0.0</td>\n",
       "      <td>0.0</td>\n",
       "      <td>...</td>\n",
       "      <td>0.0</td>\n",
       "      <td>0.0</td>\n",
       "      <td>0.0</td>\n",
       "      <td>0.0</td>\n",
       "      <td>0.0</td>\n",
       "      <td>0.0</td>\n",
       "      <td>0.0</td>\n",
       "      <td>0.0</td>\n",
       "      <td>0.0</td>\n",
       "      <td>0.0</td>\n",
       "    </tr>\n",
       "    <tr>\n",
       "      <th>2</th>\n",
       "      <td>1.0</td>\n",
       "      <td>0.0</td>\n",
       "      <td>0.0</td>\n",
       "      <td>0.0</td>\n",
       "      <td>1.0</td>\n",
       "      <td>0.0</td>\n",
       "      <td>0.0</td>\n",
       "      <td>0.0</td>\n",
       "      <td>1.0</td>\n",
       "      <td>0.0</td>\n",
       "      <td>...</td>\n",
       "      <td>0.0</td>\n",
       "      <td>0.0</td>\n",
       "      <td>0.0</td>\n",
       "      <td>0.0</td>\n",
       "      <td>0.0</td>\n",
       "      <td>0.0</td>\n",
       "      <td>0.0</td>\n",
       "      <td>0.0</td>\n",
       "      <td>0.0</td>\n",
       "      <td>0.0</td>\n",
       "    </tr>\n",
       "    <tr>\n",
       "      <th>3</th>\n",
       "      <td>1.0</td>\n",
       "      <td>0.0</td>\n",
       "      <td>0.0</td>\n",
       "      <td>0.0</td>\n",
       "      <td>1.0</td>\n",
       "      <td>0.0</td>\n",
       "      <td>0.0</td>\n",
       "      <td>1.0</td>\n",
       "      <td>0.0</td>\n",
       "      <td>0.0</td>\n",
       "      <td>...</td>\n",
       "      <td>0.0</td>\n",
       "      <td>0.0</td>\n",
       "      <td>0.0</td>\n",
       "      <td>0.0</td>\n",
       "      <td>0.0</td>\n",
       "      <td>0.0</td>\n",
       "      <td>0.0</td>\n",
       "      <td>0.0</td>\n",
       "      <td>0.0</td>\n",
       "      <td>0.0</td>\n",
       "    </tr>\n",
       "    <tr>\n",
       "      <th>4</th>\n",
       "      <td>1.0</td>\n",
       "      <td>0.0</td>\n",
       "      <td>0.0</td>\n",
       "      <td>0.0</td>\n",
       "      <td>1.0</td>\n",
       "      <td>0.0</td>\n",
       "      <td>1.0</td>\n",
       "      <td>0.0</td>\n",
       "      <td>0.0</td>\n",
       "      <td>0.0</td>\n",
       "      <td>...</td>\n",
       "      <td>0.0</td>\n",
       "      <td>0.0</td>\n",
       "      <td>0.0</td>\n",
       "      <td>0.0</td>\n",
       "      <td>0.0</td>\n",
       "      <td>0.0</td>\n",
       "      <td>0.0</td>\n",
       "      <td>0.0</td>\n",
       "      <td>0.0</td>\n",
       "      <td>0.0</td>\n",
       "    </tr>\n",
       "  </tbody>\n",
       "</table>\n",
       "<p>5 rows × 6807 columns</p>\n",
       "</div>"
      ],
      "text/plain": [
       "   Type_Month-to-month  Type_One year  Type_Two year  PaperlessBilling_No  \\\n",
       "0                  0.0            0.0            1.0                  1.0   \n",
       "1                  1.0            0.0            0.0                  1.0   \n",
       "2                  1.0            0.0            0.0                  0.0   \n",
       "3                  1.0            0.0            0.0                  0.0   \n",
       "4                  1.0            0.0            0.0                  0.0   \n",
       "\n",
       "   PaperlessBilling_Yes  PaymentMethod_Bank transfer (automatic)  \\\n",
       "0                   0.0                                      0.0   \n",
       "1                   0.0                                      0.0   \n",
       "2                   1.0                                      0.0   \n",
       "3                   1.0                                      0.0   \n",
       "4                   1.0                                      0.0   \n",
       "\n",
       "   PaymentMethod_Credit card (automatic)  PaymentMethod_Electronic check  \\\n",
       "0                                    0.0                             0.0   \n",
       "1                                    0.0                             1.0   \n",
       "2                                    0.0                             0.0   \n",
       "3                                    0.0                             1.0   \n",
       "4                                    1.0                             0.0   \n",
       "\n",
       "   PaymentMethod_Mailed check  MonthlyCharges_18.25  ...  ServiceSpan_2040  \\\n",
       "0                         1.0                   0.0  ...               0.0   \n",
       "1                         0.0                   0.0  ...               0.0   \n",
       "2                         1.0                   0.0  ...               0.0   \n",
       "3                         0.0                   0.0  ...               0.0   \n",
       "4                         0.0                   0.0  ...               0.0   \n",
       "\n",
       "   ServiceSpan_2041  ServiceSpan_2071  ServiceSpan_2102  ServiceSpan_2132  \\\n",
       "0               0.0               0.0               0.0               0.0   \n",
       "1               0.0               0.0               0.0               0.0   \n",
       "2               0.0               0.0               0.0               0.0   \n",
       "3               0.0               0.0               0.0               0.0   \n",
       "4               0.0               0.0               0.0               0.0   \n",
       "\n",
       "   ServiceSpan_2163  ServiceSpan_2191  ServiceSpan_2253  ServiceSpan_2283  \\\n",
       "0               0.0               0.0               0.0               0.0   \n",
       "1               0.0               0.0               0.0               0.0   \n",
       "2               0.0               0.0               0.0               0.0   \n",
       "3               0.0               0.0               0.0               0.0   \n",
       "4               0.0               0.0               0.0               0.0   \n",
       "\n",
       "   ServiceSpan_2314  \n",
       "0               0.0  \n",
       "1               0.0  \n",
       "2               0.0  \n",
       "3               0.0  \n",
       "4               0.0  \n",
       "\n",
       "[5 rows x 6807 columns]"
      ]
     },
     "execution_count": 27,
     "metadata": {},
     "output_type": "execute_result"
    }
   ],
   "source": [
    "features_train_ohe.head()"
   ]
  },
  {
   "cell_type": "code",
   "execution_count": 28,
   "metadata": {},
   "outputs": [
    {
     "data": {
      "text/html": [
       "<div>\n",
       "<style scoped>\n",
       "    .dataframe tbody tr th:only-of-type {\n",
       "        vertical-align: middle;\n",
       "    }\n",
       "\n",
       "    .dataframe tbody tr th {\n",
       "        vertical-align: top;\n",
       "    }\n",
       "\n",
       "    .dataframe thead th {\n",
       "        text-align: right;\n",
       "    }\n",
       "</style>\n",
       "<table border=\"1\" class=\"dataframe\">\n",
       "  <thead>\n",
       "    <tr style=\"text-align: right;\">\n",
       "      <th></th>\n",
       "      <th>Type_Month-to-month</th>\n",
       "      <th>Type_One year</th>\n",
       "      <th>Type_Two year</th>\n",
       "      <th>PaperlessBilling_No</th>\n",
       "      <th>PaperlessBilling_Yes</th>\n",
       "      <th>PaymentMethod_Bank transfer (automatic)</th>\n",
       "      <th>PaymentMethod_Credit card (automatic)</th>\n",
       "      <th>PaymentMethod_Electronic check</th>\n",
       "      <th>PaymentMethod_Mailed check</th>\n",
       "      <th>MonthlyCharges_18.25</th>\n",
       "      <th>...</th>\n",
       "      <th>ServiceSpan_2040</th>\n",
       "      <th>ServiceSpan_2041</th>\n",
       "      <th>ServiceSpan_2071</th>\n",
       "      <th>ServiceSpan_2102</th>\n",
       "      <th>ServiceSpan_2132</th>\n",
       "      <th>ServiceSpan_2163</th>\n",
       "      <th>ServiceSpan_2191</th>\n",
       "      <th>ServiceSpan_2253</th>\n",
       "      <th>ServiceSpan_2283</th>\n",
       "      <th>ServiceSpan_2314</th>\n",
       "    </tr>\n",
       "  </thead>\n",
       "  <tbody>\n",
       "    <tr>\n",
       "      <th>0</th>\n",
       "      <td>0.000000</td>\n",
       "      <td>0.0</td>\n",
       "      <td>2.340001</td>\n",
       "      <td>2.03373</td>\n",
       "      <td>0.00000</td>\n",
       "      <td>0.0</td>\n",
       "      <td>0.000000</td>\n",
       "      <td>0.000000</td>\n",
       "      <td>2.363309</td>\n",
       "      <td>0.0</td>\n",
       "      <td>...</td>\n",
       "      <td>0.0</td>\n",
       "      <td>0.0</td>\n",
       "      <td>0.0</td>\n",
       "      <td>0.0</td>\n",
       "      <td>0.0</td>\n",
       "      <td>0.0</td>\n",
       "      <td>0.0</td>\n",
       "      <td>0.0</td>\n",
       "      <td>0.0</td>\n",
       "      <td>0.0</td>\n",
       "    </tr>\n",
       "    <tr>\n",
       "      <th>1</th>\n",
       "      <td>2.010145</td>\n",
       "      <td>0.0</td>\n",
       "      <td>0.000000</td>\n",
       "      <td>2.03373</td>\n",
       "      <td>0.00000</td>\n",
       "      <td>0.0</td>\n",
       "      <td>0.000000</td>\n",
       "      <td>2.115877</td>\n",
       "      <td>0.000000</td>\n",
       "      <td>0.0</td>\n",
       "      <td>...</td>\n",
       "      <td>0.0</td>\n",
       "      <td>0.0</td>\n",
       "      <td>0.0</td>\n",
       "      <td>0.0</td>\n",
       "      <td>0.0</td>\n",
       "      <td>0.0</td>\n",
       "      <td>0.0</td>\n",
       "      <td>0.0</td>\n",
       "      <td>0.0</td>\n",
       "      <td>0.0</td>\n",
       "    </tr>\n",
       "    <tr>\n",
       "      <th>2</th>\n",
       "      <td>2.010145</td>\n",
       "      <td>0.0</td>\n",
       "      <td>0.000000</td>\n",
       "      <td>0.00000</td>\n",
       "      <td>2.03373</td>\n",
       "      <td>0.0</td>\n",
       "      <td>0.000000</td>\n",
       "      <td>0.000000</td>\n",
       "      <td>2.363309</td>\n",
       "      <td>0.0</td>\n",
       "      <td>...</td>\n",
       "      <td>0.0</td>\n",
       "      <td>0.0</td>\n",
       "      <td>0.0</td>\n",
       "      <td>0.0</td>\n",
       "      <td>0.0</td>\n",
       "      <td>0.0</td>\n",
       "      <td>0.0</td>\n",
       "      <td>0.0</td>\n",
       "      <td>0.0</td>\n",
       "      <td>0.0</td>\n",
       "    </tr>\n",
       "    <tr>\n",
       "      <th>3</th>\n",
       "      <td>2.010145</td>\n",
       "      <td>0.0</td>\n",
       "      <td>0.000000</td>\n",
       "      <td>0.00000</td>\n",
       "      <td>2.03373</td>\n",
       "      <td>0.0</td>\n",
       "      <td>0.000000</td>\n",
       "      <td>2.115877</td>\n",
       "      <td>0.000000</td>\n",
       "      <td>0.0</td>\n",
       "      <td>...</td>\n",
       "      <td>0.0</td>\n",
       "      <td>0.0</td>\n",
       "      <td>0.0</td>\n",
       "      <td>0.0</td>\n",
       "      <td>0.0</td>\n",
       "      <td>0.0</td>\n",
       "      <td>0.0</td>\n",
       "      <td>0.0</td>\n",
       "      <td>0.0</td>\n",
       "      <td>0.0</td>\n",
       "    </tr>\n",
       "    <tr>\n",
       "      <th>4</th>\n",
       "      <td>2.010145</td>\n",
       "      <td>0.0</td>\n",
       "      <td>0.000000</td>\n",
       "      <td>0.00000</td>\n",
       "      <td>2.03373</td>\n",
       "      <td>0.0</td>\n",
       "      <td>2.439329</td>\n",
       "      <td>0.000000</td>\n",
       "      <td>0.000000</td>\n",
       "      <td>0.0</td>\n",
       "      <td>...</td>\n",
       "      <td>0.0</td>\n",
       "      <td>0.0</td>\n",
       "      <td>0.0</td>\n",
       "      <td>0.0</td>\n",
       "      <td>0.0</td>\n",
       "      <td>0.0</td>\n",
       "      <td>0.0</td>\n",
       "      <td>0.0</td>\n",
       "      <td>0.0</td>\n",
       "      <td>0.0</td>\n",
       "    </tr>\n",
       "  </tbody>\n",
       "</table>\n",
       "<p>5 rows × 6807 columns</p>\n",
       "</div>"
      ],
      "text/plain": [
       "   Type_Month-to-month  Type_One year  Type_Two year  PaperlessBilling_No  \\\n",
       "0             0.000000            0.0       2.340001              2.03373   \n",
       "1             2.010145            0.0       0.000000              2.03373   \n",
       "2             2.010145            0.0       0.000000              0.00000   \n",
       "3             2.010145            0.0       0.000000              0.00000   \n",
       "4             2.010145            0.0       0.000000              0.00000   \n",
       "\n",
       "   PaperlessBilling_Yes  PaymentMethod_Bank transfer (automatic)  \\\n",
       "0               0.00000                                      0.0   \n",
       "1               0.00000                                      0.0   \n",
       "2               2.03373                                      0.0   \n",
       "3               2.03373                                      0.0   \n",
       "4               2.03373                                      0.0   \n",
       "\n",
       "   PaymentMethod_Credit card (automatic)  PaymentMethod_Electronic check  \\\n",
       "0                               0.000000                        0.000000   \n",
       "1                               0.000000                        2.115877   \n",
       "2                               0.000000                        0.000000   \n",
       "3                               0.000000                        2.115877   \n",
       "4                               2.439329                        0.000000   \n",
       "\n",
       "   PaymentMethod_Mailed check  MonthlyCharges_18.25  ...  ServiceSpan_2040  \\\n",
       "0                    2.363309                   0.0  ...               0.0   \n",
       "1                    0.000000                   0.0  ...               0.0   \n",
       "2                    2.363309                   0.0  ...               0.0   \n",
       "3                    0.000000                   0.0  ...               0.0   \n",
       "4                    0.000000                   0.0  ...               0.0   \n",
       "\n",
       "   ServiceSpan_2041  ServiceSpan_2071  ServiceSpan_2102  ServiceSpan_2132  \\\n",
       "0               0.0               0.0               0.0               0.0   \n",
       "1               0.0               0.0               0.0               0.0   \n",
       "2               0.0               0.0               0.0               0.0   \n",
       "3               0.0               0.0               0.0               0.0   \n",
       "4               0.0               0.0               0.0               0.0   \n",
       "\n",
       "   ServiceSpan_2163  ServiceSpan_2191  ServiceSpan_2253  ServiceSpan_2283  \\\n",
       "0               0.0               0.0               0.0               0.0   \n",
       "1               0.0               0.0               0.0               0.0   \n",
       "2               0.0               0.0               0.0               0.0   \n",
       "3               0.0               0.0               0.0               0.0   \n",
       "4               0.0               0.0               0.0               0.0   \n",
       "\n",
       "   ServiceSpan_2314  \n",
       "0               0.0  \n",
       "1               0.0  \n",
       "2               0.0  \n",
       "3               0.0  \n",
       "4               0.0  \n",
       "\n",
       "[5 rows x 6807 columns]"
      ]
     },
     "execution_count": 28,
     "metadata": {},
     "output_type": "execute_result"
    }
   ],
   "source": [
    "scaler = StandardScaler(with_mean=False)\n",
    "scaler.fit(transformed_train)\n",
    "features_train_sc = scaler.transform(features_train_ohe)\n",
    "features_test_sc = scaler.transform(features_test_ohe)\n",
    "\n",
    "features_train_sc_df = pd.DataFrame(features_train_sc, columns=features_train_ohe.columns)\n",
    "features_test_sc_df = pd.DataFrame(features_test_sc, columns=features_train_ohe.columns)\n",
    "features_train_sc_df.head()"
   ]
  },
  {
   "cell_type": "markdown",
   "metadata": {},
   "source": [
    "## Моделирование"
   ]
  },
  {
   "cell_type": "code",
   "execution_count": 29,
   "metadata": {},
   "outputs": [
    {
     "data": {
      "text/plain": [
       "0.1563801590306702"
      ]
     },
     "execution_count": 29,
     "metadata": {},
     "output_type": "execute_result"
    }
   ],
   "source": [
    "target_train.mean()"
   ]
  },
  {
   "cell_type": "code",
   "execution_count": 30,
   "metadata": {},
   "outputs": [
    {
     "data": {
      "text/plain": [
       "0.5"
      ]
     },
     "execution_count": 30,
     "metadata": {},
     "output_type": "execute_result"
    }
   ],
   "source": [
    "roc_auc_score(target_train, [0 for x in range(target_train.shape[0])])"
   ]
  },
  {
   "cell_type": "code",
   "execution_count": 31,
   "metadata": {},
   "outputs": [
    {
     "name": "stderr",
     "output_type": "stream",
     "text": [
      "/opt/conda/lib/python3.9/site-packages/sklearn/linear_model/_logistic.py:763: ConvergenceWarning: lbfgs failed to converge (status=1):\n",
      "STOP: TOTAL NO. of ITERATIONS REACHED LIMIT.\n",
      "\n",
      "Increase the number of iterations (max_iter) or scale the data as shown in:\n",
      "    https://scikit-learn.org/stable/modules/preprocessing.html\n",
      "Please also refer to the documentation for alternative solver options:\n",
      "    https://scikit-learn.org/stable/modules/linear_model.html#logistic-regression\n",
      "  n_iter_i = _check_optimize_result(\n",
      "/opt/conda/lib/python3.9/site-packages/sklearn/linear_model/_logistic.py:763: ConvergenceWarning: lbfgs failed to converge (status=1):\n",
      "STOP: TOTAL NO. of ITERATIONS REACHED LIMIT.\n",
      "\n",
      "Increase the number of iterations (max_iter) or scale the data as shown in:\n",
      "    https://scikit-learn.org/stable/modules/preprocessing.html\n",
      "Please also refer to the documentation for alternative solver options:\n",
      "    https://scikit-learn.org/stable/modules/linear_model.html#logistic-regression\n",
      "  n_iter_i = _check_optimize_result(\n",
      "/opt/conda/lib/python3.9/site-packages/sklearn/linear_model/_logistic.py:763: ConvergenceWarning: lbfgs failed to converge (status=1):\n",
      "STOP: TOTAL NO. of ITERATIONS REACHED LIMIT.\n",
      "\n",
      "Increase the number of iterations (max_iter) or scale the data as shown in:\n",
      "    https://scikit-learn.org/stable/modules/preprocessing.html\n",
      "Please also refer to the documentation for alternative solver options:\n",
      "    https://scikit-learn.org/stable/modules/linear_model.html#logistic-regression\n",
      "  n_iter_i = _check_optimize_result(\n",
      "/opt/conda/lib/python3.9/site-packages/sklearn/linear_model/_logistic.py:763: ConvergenceWarning: lbfgs failed to converge (status=1):\n",
      "STOP: TOTAL NO. of ITERATIONS REACHED LIMIT.\n",
      "\n",
      "Increase the number of iterations (max_iter) or scale the data as shown in:\n",
      "    https://scikit-learn.org/stable/modules/preprocessing.html\n",
      "Please also refer to the documentation for alternative solver options:\n",
      "    https://scikit-learn.org/stable/modules/linear_model.html#logistic-regression\n",
      "  n_iter_i = _check_optimize_result(\n",
      "/opt/conda/lib/python3.9/site-packages/sklearn/linear_model/_logistic.py:763: ConvergenceWarning: lbfgs failed to converge (status=1):\n",
      "STOP: TOTAL NO. of ITERATIONS REACHED LIMIT.\n",
      "\n",
      "Increase the number of iterations (max_iter) or scale the data as shown in:\n",
      "    https://scikit-learn.org/stable/modules/preprocessing.html\n",
      "Please also refer to the documentation for alternative solver options:\n",
      "    https://scikit-learn.org/stable/modules/linear_model.html#logistic-regression\n",
      "  n_iter_i = _check_optimize_result(\n"
     ]
    },
    {
     "data": {
      "text/plain": [
       "0.8811557001455771"
      ]
     },
     "execution_count": 31,
     "metadata": {},
     "output_type": "execute_result"
    }
   ],
   "source": [
    "model = LogisticRegression(class_weight='balanced')\n",
    "sum(cross_val_score(model, features_train_sc, target_train, scoring='roc_auc', verbose=0)) / 5"
   ]
  },
  {
   "cell_type": "code",
   "execution_count": 32,
   "metadata": {},
   "outputs": [
    {
     "name": "stdout",
     "output_type": "stream",
     "text": [
      "roc auc наилучшей модели на валидационной выборке: 0.8231597774497598 \n",
      "Количество деревьев: 400 Максимальная глубина: 200\n"
     ]
    }
   ],
   "source": [
    "best_model = None  \n",
    "best_result = 0\n",
    "best_est = 0\n",
    "best_depth = 0\n",
    "for est in [50, 100, 200, 400]:\n",
    "    for depth in [10, 20, 40, 80, 200]:\n",
    "\n",
    "        model = RandomForestClassifier(random_state=20824, n_estimators=est, max_depth=depth, class_weight='balanced')\n",
    "        roc_auc = sum(cross_val_score(model, features_train_sc, target_train, scoring='roc_auc')) / 5\n",
    "        if roc_auc > best_result:\n",
    "            best_est = est\n",
    "            best_depth = depth\n",
    "            best_result = roc_auc\n",
    "print(\"roc auc наилучшей модели на валидационной выборке:\", best_result, \"\\nКоличество деревьев:\", best_est, \"Максимальная глубина:\", best_depth)\n"
   ]
  },
  {
   "cell_type": "code",
   "execution_count": 33,
   "metadata": {},
   "outputs": [
    {
     "name": "stdout",
     "output_type": "stream",
     "text": [
      "Fitting 5 folds for each of 50 candidates, totalling 250 fits\n",
      "best parameters:  {'bootstrap_type': 'MVS', 'border_count': 41, 'depth': 4, 'iterations': 1450, 'l2_leaf_reg': 1, 'learning_rate': 0.2617227327457667, 'one_hot_max_size': 5, 'random_strength': 0.30873936156125326}\n"
     ]
    },
    {
     "data": {
      "text/plain": [
       "0.9331174015822462"
      ]
     },
     "execution_count": 33,
     "metadata": {},
     "output_type": "execute_result"
    }
   ],
   "source": [
    "model = CatBoostClassifier(verbose=0, random_state=20824)\n",
    "\n",
    "param_dist = {\n",
    "    'depth': randint(3, 10),\n",
    "    'learning_rate': uniform(0.01, 0.3),\n",
    "    'l2_leaf_reg': [1, 3, 5, 7, 9],\n",
    "    'iterations': randint(100, 1500),\n",
    "    'border_count': randint(32, 255),\n",
    "    'bootstrap_type': ['Bayesian', 'Bernoulli', 'MVS'],\n",
    "    'random_strength': uniform(0, 10),\n",
    "    'one_hot_max_size': randint(1, 20)\n",
    "}\n",
    "\n",
    "random_search = RandomizedSearchCV(\n",
    "    model,\n",
    "    param_distributions=param_dist,\n",
    "    n_iter=50,\n",
    "    scoring='roc_auc',\n",
    "    n_jobs=-1,\n",
    "    cv=5,\n",
    "    verbose=1,\n",
    "    random_state=20824\n",
    ")\n",
    "\n",
    "random_search.fit(features_train_sc_df, target_train)\n",
    "\n",
    "best_params = random_search.best_params_\n",
    "print(\"best parameters: \", best_params)\n",
    "\n",
    "bmodel = CatBoostClassifier(verbose=0, random_state=20824, **best_params)\n",
    "sum(cross_val_score(bmodel, features_train_sc_df, target_train, scoring='roc_auc')) / 5"
   ]
  },
  {
   "cell_type": "code",
   "execution_count": 34,
   "metadata": {},
   "outputs": [
    {
     "name": "stdout",
     "output_type": "stream",
     "text": [
      "best parameters:  {'bootstrap_type': 'MVS', 'border_count': 41, 'depth': 4, 'iterations': 1450, 'l2_leaf_reg': 1, 'learning_rate': 0.2617227327457667, 'one_hot_max_size': 5, 'random_strength': 0.30873936156125326}\n"
     ]
    },
    {
     "data": {
      "text/plain": [
       "0.9331174015822462"
      ]
     },
     "execution_count": 34,
     "metadata": {},
     "output_type": "execute_result"
    }
   ],
   "source": [
    "best_params = random_search.best_params_\n",
    "print(\"best parameters: \", best_params)\n",
    "bmodel = CatBoostClassifier(verbose=0, random_state=20824, **best_params)\n",
    "sum(cross_val_score(bmodel, features_train_sc_df, target_train, scoring='roc_auc')) / 5"
   ]
  },
  {
   "cell_type": "markdown",
   "metadata": {},
   "source": [
    "По результатам кросс-валидации лучшей моделью по метрике auc_roc оказалась catboost"
   ]
  },
  {
   "cell_type": "markdown",
   "metadata": {},
   "source": [
    "## Финальная тестировка"
   ]
  },
  {
   "cell_type": "code",
   "execution_count": 35,
   "metadata": {},
   "outputs": [
    {
     "data": {
      "text/plain": [
       "0.9170977609201028"
      ]
     },
     "execution_count": 35,
     "metadata": {},
     "output_type": "execute_result"
    }
   ],
   "source": [
    "bmodel.fit(features_train_sc_df, target_train)\n",
    "probs = bmodel.predict_proba(features_test_sc_df)\n",
    "\n",
    "pred_probs = probs[:, 1]\n",
    "roc_auc_score(target_test, pred_probs)"
   ]
  },
  {
   "cell_type": "code",
   "execution_count": 36,
   "metadata": {},
   "outputs": [
    {
     "name": "stdout",
     "output_type": "stream",
     "text": [
      "confusion matrix:\n",
      " [[1474   12]\n",
      " [ 126  149]] \n",
      "recall: 0.5418181818181819 \n",
      "precision: 0.9254658385093167\n"
     ]
    }
   ],
   "source": [
    "print(\n",
    "    'confusion matrix:\\n', confusion_matrix(target_test, [1 if prob >= 0.5 else 0 for prob in pred_probs]),\n",
    "    '\\nrecall:', recall_score(target_test, [1 if prob >= 0.5 else 0 for prob in pred_probs]),\n",
    "    '\\nprecision:', precision_score(target_test, [1 if prob >= 0.5 else 0 for prob in pred_probs])\n",
    ")"
   ]
  },
  {
   "cell_type": "code",
   "execution_count": 37,
   "metadata": {},
   "outputs": [],
   "source": [
    "feature_importances = bmodel.feature_importances_\n",
    "feature_names = features_train_sc_df.columns"
   ]
  },
  {
   "cell_type": "code",
   "execution_count": 38,
   "metadata": {},
   "outputs": [],
   "source": [
    "imp = pd.DataFrame({\n",
    "    'orig_name': feature_names,\n",
    "    'importance': feature_importances\n",
    "})\n",
    "\n",
    "imp['orig_name'] = imp['orig_name'].str.split('_').str[0]\n",
    "\n",
    "aggregated_importances = imp.groupby('orig_name')['importance'].sum().reset_index()\n",
    "\n",
    "aggregated_importances = aggregated_importances.sort_values(by='importance', ascending=True)"
   ]
  },
  {
   "cell_type": "code",
   "execution_count": 39,
   "metadata": {},
   "outputs": [
    {
     "data": {
      "image/png": "[encoded data removed]",
      "text/plain": [
       "<Figure size 720x432 with 1 Axes>"
      ]
     },
     "metadata": {
      "needs_background": "light"
     },
     "output_type": "display_data"
    }
   ],
   "source": [
    "plt.figure(figsize=(10, 6))\n",
    "plt.barh(aggregated_importances['orig_name'], aggregated_importances['importance'])\n",
    "plt.xlabel('feature importance')\n",
    "plt.title('feature importances in catboost model')\n",
    "plt.show()\n"
   ]
  },
  {
   "cell_type": "markdown",
   "metadata": {},
   "source": [
    "## Итог"
   ]
  },
  {
   "cell_type": "markdown",
   "metadata": {},
   "source": [
    "Данные были объеденины с сохранением каждого клиента, заполнены пропуски, переведены типы данных, обработаны исключения, создана колонка \"ServiceSpan\" (Длина подписки на сегодня) - это количество дней между началом договора и его закрытием, если есть и датой выгрузки данных если не закрыт договор (1 февраля 2020г)"
   ]
  },
  {
   "cell_type": "markdown",
   "metadata": {},
   "source": [
    "Лучшей моделью оказалась catboost, на тестовой выборке набрала 0.76 по метрике auc roc, у нее довольно низкий recall и высокий precision, то есть довольно плохо предсказывает клиентов, которые уходят, но хорошо предсказывает тех, кто не уходит  \n",
    "\n",
    "Самой важной характеристекой в предсказании ухода клиента является длина подписки на сегодняшний день (порядка 60+%), далее на 2 и 3 месте по значимости характеристиками являются месячные и итоговые расходы (порядка 10+% каждый)\n"
   ]
  },
  {
   "cell_type": "markdown",
   "metadata": {},
   "source": [
    "Портрет клиента-отточника выглядит примерно таким образом:  \n",
    "-является клиентом уже от 500 до 1300 дней (что самое важное исходя из моделирования)  \n",
    "-в месяц тратит обычно либо минимум (20) либо от 80 до 110  \n",
    "-всего потратил до 3000  \n",
    "-не является пенсионером  \n",
    "-давно стал клиентом (до 2016 года) (скорее связано с характеристикой продолжительности контракта)"
   ]
  }
 ],
 "metadata": {
  "ExecuteTimeLog": [
   {
    "duration": 1194,
    "start_time": "2024-08-06T21:53:59.698Z"
   },
   {
    "duration": 3,
    "start_time": "2024-08-06T21:54:00.894Z"
   },
   {
    "duration": 437,
    "start_time": "2024-08-06T21:54:02.519Z"
   },
   {
    "duration": 123,
    "start_time": "2024-08-06T21:54:42.769Z"
   },
   {
    "duration": 1714,
    "start_time": "2024-08-06T22:29:35.155Z"
   },
   {
    "duration": 3,
    "start_time": "2024-08-06T22:29:39.435Z"
   },
   {
    "duration": 406,
    "start_time": "2024-08-06T22:29:42.421Z"
   },
   {
    "duration": 27,
    "start_time": "2024-08-06T22:30:03.152Z"
   },
   {
    "duration": 147,
    "start_time": "2024-08-06T22:30:17.390Z"
   },
   {
    "duration": 140,
    "start_time": "2024-08-06T22:30:24.344Z"
   },
   {
    "duration": 139,
    "start_time": "2024-08-06T22:30:39.549Z"
   },
   {
    "duration": 151,
    "start_time": "2024-08-06T22:30:51.784Z"
   },
   {
    "duration": 134,
    "start_time": "2024-08-06T22:30:56.588Z"
   },
   {
    "duration": 142,
    "start_time": "2024-08-06T22:31:19.315Z"
   },
   {
    "duration": 3,
    "start_time": "2024-08-06T22:32:36.371Z"
   },
   {
    "duration": 213,
    "start_time": "2024-08-06T22:32:37.472Z"
   },
   {
    "duration": 35,
    "start_time": "2024-08-06T22:32:41.811Z"
   },
   {
    "duration": 4,
    "start_time": "2024-08-06T22:35:15.735Z"
   },
   {
    "duration": 3,
    "start_time": "2024-08-06T22:35:16.243Z"
   },
   {
    "duration": 136,
    "start_time": "2024-08-06T22:35:16.688Z"
   },
   {
    "duration": 26,
    "start_time": "2024-08-06T22:35:18.763Z"
   },
   {
    "duration": 8,
    "start_time": "2024-08-06T22:36:26.359Z"
   },
   {
    "duration": 5,
    "start_time": "2024-08-06T22:36:47.696Z"
   },
   {
    "duration": 22,
    "start_time": "2024-08-06T22:37:27.076Z"
   },
   {
    "duration": 2811,
    "start_time": "2024-08-07T05:55:15.998Z"
   },
   {
    "duration": 3,
    "start_time": "2024-08-07T05:55:18.811Z"
   },
   {
    "duration": 486,
    "start_time": "2024-08-07T05:55:18.815Z"
   },
   {
    "duration": 52,
    "start_time": "2024-08-07T05:55:24.927Z"
   },
   {
    "duration": 1523,
    "start_time": "2024-08-07T10:43:36.767Z"
   },
   {
    "duration": 3,
    "start_time": "2024-08-07T10:43:38.292Z"
   },
   {
    "duration": 401,
    "start_time": "2024-08-07T10:43:38.297Z"
   },
   {
    "duration": 36,
    "start_time": "2024-08-07T10:43:38.699Z"
   },
   {
    "duration": 25,
    "start_time": "2024-08-07T10:43:38.736Z"
   },
   {
    "duration": 23,
    "start_time": "2024-08-07T10:43:38.762Z"
   },
   {
    "duration": 17,
    "start_time": "2024-08-07T10:43:38.786Z"
   },
   {
    "duration": 6,
    "start_time": "2024-08-07T10:43:38.805Z"
   },
   {
    "duration": 21,
    "start_time": "2024-08-07T10:43:38.812Z"
   },
   {
    "duration": 20,
    "start_time": "2024-08-07T10:43:38.835Z"
   },
   {
    "duration": 26,
    "start_time": "2024-08-07T10:43:38.856Z"
   },
   {
    "duration": 20,
    "start_time": "2024-08-07T10:43:38.883Z"
   },
   {
    "duration": 6,
    "start_time": "2024-08-07T10:43:38.904Z"
   },
   {
    "duration": 13,
    "start_time": "2024-08-07T10:43:38.911Z"
   },
   {
    "duration": 134,
    "start_time": "2024-08-07T10:43:38.925Z"
   },
   {
    "duration": 5,
    "start_time": "2024-08-07T10:43:39.060Z"
   },
   {
    "duration": 23,
    "start_time": "2024-08-07T10:43:39.066Z"
   },
   {
    "duration": 2,
    "start_time": "2024-08-07T10:43:39.091Z"
   },
   {
    "duration": 20,
    "start_time": "2024-08-07T10:43:39.095Z"
   },
   {
    "duration": 1253,
    "start_time": "2024-08-07T10:43:39.116Z"
   },
   {
    "duration": 1170,
    "start_time": "2024-08-07T10:43:40.370Z"
   },
   {
    "duration": 19,
    "start_time": "2024-08-07T10:43:41.542Z"
   },
   {
    "duration": 19,
    "start_time": "2024-08-07T10:43:41.563Z"
   },
   {
    "duration": 11,
    "start_time": "2024-08-07T10:43:41.583Z"
   },
   {
    "duration": 32,
    "start_time": "2024-08-07T10:43:41.595Z"
   },
   {
    "duration": 17,
    "start_time": "2024-08-07T10:43:41.628Z"
   },
   {
    "duration": 4,
    "start_time": "2024-08-07T10:43:41.646Z"
   },
   {
    "duration": 31,
    "start_time": "2024-08-07T10:43:41.653Z"
   },
   {
    "duration": 817,
    "start_time": "2024-08-07T10:43:41.686Z"
   },
   {
    "duration": 171524,
    "start_time": "2024-08-07T10:43:42.505Z"
   },
   {
    "duration": 0,
    "start_time": "2024-08-07T10:46:34.031Z"
   },
   {
    "duration": 0,
    "start_time": "2024-08-07T10:46:34.032Z"
   },
   {
    "duration": 0,
    "start_time": "2024-08-07T10:46:34.033Z"
   },
   {
    "duration": 0,
    "start_time": "2024-08-07T10:46:34.034Z"
   },
   {
    "duration": 0,
    "start_time": "2024-08-07T10:46:34.035Z"
   },
   {
    "duration": 0,
    "start_time": "2024-08-07T10:46:34.037Z"
   },
   {
    "duration": 50,
    "start_time": "2024-08-07T10:51:09.010Z"
   },
   {
    "duration": 9,
    "start_time": "2024-08-07T10:51:16.251Z"
   },
   {
    "duration": 1360,
    "start_time": "2024-08-07T10:51:38.993Z"
   },
   {
    "duration": 3,
    "start_time": "2024-08-07T10:51:40.355Z"
   },
   {
    "duration": 162,
    "start_time": "2024-08-07T10:51:40.359Z"
   },
   {
    "duration": 37,
    "start_time": "2024-08-07T10:51:40.523Z"
   },
   {
    "duration": 36,
    "start_time": "2024-08-07T10:51:40.561Z"
   },
   {
    "duration": 18,
    "start_time": "2024-08-07T10:51:40.598Z"
   },
   {
    "duration": 16,
    "start_time": "2024-08-07T10:51:40.618Z"
   },
   {
    "duration": 11,
    "start_time": "2024-08-07T10:51:40.635Z"
   },
   {
    "duration": 5,
    "start_time": "2024-08-07T10:51:40.682Z"
   },
   {
    "duration": 6,
    "start_time": "2024-08-07T10:51:40.690Z"
   },
   {
    "duration": 10,
    "start_time": "2024-08-07T10:51:40.697Z"
   },
   {
    "duration": 19,
    "start_time": "2024-08-07T10:51:40.709Z"
   },
   {
    "duration": 7,
    "start_time": "2024-08-07T10:51:40.729Z"
   },
   {
    "duration": 13,
    "start_time": "2024-08-07T10:51:40.738Z"
   },
   {
    "duration": 159,
    "start_time": "2024-08-07T10:51:40.753Z"
   },
   {
    "duration": 6,
    "start_time": "2024-08-07T10:51:40.913Z"
   },
   {
    "duration": 21,
    "start_time": "2024-08-07T10:51:40.920Z"
   },
   {
    "duration": 3,
    "start_time": "2024-08-07T10:51:40.943Z"
   },
   {
    "duration": 37,
    "start_time": "2024-08-07T10:51:40.948Z"
   },
   {
    "duration": 1154,
    "start_time": "2024-08-07T10:51:40.986Z"
   },
   {
    "duration": 1205,
    "start_time": "2024-08-07T10:51:42.142Z"
   },
   {
    "duration": 20,
    "start_time": "2024-08-07T10:51:43.349Z"
   },
   {
    "duration": 5,
    "start_time": "2024-08-07T10:51:43.381Z"
   },
   {
    "duration": 39,
    "start_time": "2024-08-07T10:51:43.387Z"
   },
   {
    "duration": 32,
    "start_time": "2024-08-07T10:51:43.428Z"
   },
   {
    "duration": 108,
    "start_time": "2024-08-07T10:51:43.462Z"
   },
   {
    "duration": 0,
    "start_time": "2024-08-07T10:51:43.571Z"
   },
   {
    "duration": 0,
    "start_time": "2024-08-07T10:51:43.572Z"
   },
   {
    "duration": 0,
    "start_time": "2024-08-07T10:51:43.573Z"
   },
   {
    "duration": 0,
    "start_time": "2024-08-07T10:51:43.581Z"
   },
   {
    "duration": 0,
    "start_time": "2024-08-07T10:51:43.582Z"
   },
   {
    "duration": 0,
    "start_time": "2024-08-07T10:51:43.583Z"
   },
   {
    "duration": 0,
    "start_time": "2024-08-07T10:51:43.584Z"
   },
   {
    "duration": 0,
    "start_time": "2024-08-07T10:51:43.585Z"
   },
   {
    "duration": 0,
    "start_time": "2024-08-07T10:51:43.585Z"
   },
   {
    "duration": 0,
    "start_time": "2024-08-07T10:51:43.586Z"
   },
   {
    "duration": 19,
    "start_time": "2024-08-07T11:01:16.350Z"
   },
   {
    "duration": 1333,
    "start_time": "2024-08-07T11:01:24.208Z"
   },
   {
    "duration": 3,
    "start_time": "2024-08-07T11:01:25.543Z"
   },
   {
    "duration": 126,
    "start_time": "2024-08-07T11:01:25.548Z"
   },
   {
    "duration": 34,
    "start_time": "2024-08-07T11:01:25.676Z"
   },
   {
    "duration": 23,
    "start_time": "2024-08-07T11:01:25.712Z"
   },
   {
    "duration": 17,
    "start_time": "2024-08-07T11:01:25.736Z"
   },
   {
    "duration": 36,
    "start_time": "2024-08-07T11:01:25.754Z"
   },
   {
    "duration": 8,
    "start_time": "2024-08-07T11:01:25.791Z"
   },
   {
    "duration": 5,
    "start_time": "2024-08-07T11:01:25.801Z"
   },
   {
    "duration": 6,
    "start_time": "2024-08-07T11:01:25.808Z"
   },
   {
    "duration": 11,
    "start_time": "2024-08-07T11:01:25.815Z"
   },
   {
    "duration": 17,
    "start_time": "2024-08-07T11:01:25.827Z"
   },
   {
    "duration": 6,
    "start_time": "2024-08-07T11:01:25.846Z"
   },
   {
    "duration": 31,
    "start_time": "2024-08-07T11:01:25.853Z"
   },
   {
    "duration": 127,
    "start_time": "2024-08-07T11:01:25.885Z"
   },
   {
    "duration": 5,
    "start_time": "2024-08-07T11:01:26.014Z"
   },
   {
    "duration": 18,
    "start_time": "2024-08-07T11:01:26.020Z"
   },
   {
    "duration": 3,
    "start_time": "2024-08-07T11:01:26.039Z"
   },
   {
    "duration": 20,
    "start_time": "2024-08-07T11:01:26.043Z"
   },
   {
    "duration": 1172,
    "start_time": "2024-08-07T11:01:26.064Z"
   },
   {
    "duration": 1180,
    "start_time": "2024-08-07T11:01:27.237Z"
   },
   {
    "duration": 20,
    "start_time": "2024-08-07T11:01:28.419Z"
   },
   {
    "duration": 9,
    "start_time": "2024-08-07T11:01:28.441Z"
   },
   {
    "duration": 10,
    "start_time": "2024-08-07T11:01:28.451Z"
   },
   {
    "duration": 49,
    "start_time": "2024-08-07T11:01:28.462Z"
   },
   {
    "duration": 17,
    "start_time": "2024-08-07T11:01:28.513Z"
   },
   {
    "duration": 3,
    "start_time": "2024-08-07T11:01:28.531Z"
   },
   {
    "duration": 5,
    "start_time": "2024-08-07T11:01:28.537Z"
   },
   {
    "duration": 130,
    "start_time": "2024-08-07T11:01:28.544Z"
   },
   {
    "duration": 0,
    "start_time": "2024-08-07T11:01:28.675Z"
   },
   {
    "duration": 0,
    "start_time": "2024-08-07T11:01:28.676Z"
   },
   {
    "duration": 0,
    "start_time": "2024-08-07T11:01:28.677Z"
   },
   {
    "duration": 0,
    "start_time": "2024-08-07T11:01:28.681Z"
   },
   {
    "duration": 0,
    "start_time": "2024-08-07T11:01:28.683Z"
   },
   {
    "duration": 0,
    "start_time": "2024-08-07T11:01:28.683Z"
   },
   {
    "duration": 0,
    "start_time": "2024-08-07T11:01:28.684Z"
   },
   {
    "duration": 4,
    "start_time": "2024-08-07T11:12:21.719Z"
   },
   {
    "duration": 9,
    "start_time": "2024-08-07T11:12:29.971Z"
   },
   {
    "duration": 800,
    "start_time": "2024-08-07T11:12:39.394Z"
   },
   {
    "duration": 10,
    "start_time": "2024-08-07T11:12:41.142Z"
   },
   {
    "duration": 332564,
    "start_time": "2024-08-07T11:12:54.809Z"
   },
   {
    "duration": 19,
    "start_time": "2024-08-07T11:18:27.375Z"
   },
   {
    "duration": 56,
    "start_time": "2024-08-07T11:18:27.395Z"
   },
   {
    "duration": 0,
    "start_time": "2024-08-07T11:18:27.452Z"
   },
   {
    "duration": 0,
    "start_time": "2024-08-07T11:18:27.453Z"
   },
   {
    "duration": 0,
    "start_time": "2024-08-07T11:18:27.454Z"
   },
   {
    "duration": 0,
    "start_time": "2024-08-07T11:18:27.455Z"
   },
   {
    "duration": 50,
    "start_time": "2024-08-07T11:25:58.452Z"
   },
   {
    "duration": 60561,
    "start_time": "2024-08-07T11:26:14.748Z"
   },
   {
    "duration": 22,
    "start_time": "2024-08-07T12:46:59.597Z"
   },
   {
    "duration": 4,
    "start_time": "2024-08-07T12:47:08.043Z"
   },
   {
    "duration": 4,
    "start_time": "2024-08-07T12:47:13.462Z"
   },
   {
    "duration": 4,
    "start_time": "2024-08-07T12:47:19.422Z"
   },
   {
    "duration": 9,
    "start_time": "2024-08-07T12:47:43.759Z"
   },
   {
    "duration": 15,
    "start_time": "2024-08-07T12:48:11.422Z"
   },
   {
    "duration": 4,
    "start_time": "2024-08-07T12:50:30.051Z"
   },
   {
    "duration": 18,
    "start_time": "2024-08-07T12:51:07.841Z"
   },
   {
    "duration": 14,
    "start_time": "2024-08-07T12:51:18.723Z"
   },
   {
    "duration": 15,
    "start_time": "2024-08-07T12:52:29.647Z"
   },
   {
    "duration": 61,
    "start_time": "2024-08-08T18:24:41.622Z"
   },
   {
    "duration": 1611,
    "start_time": "2024-08-08T18:24:50.051Z"
   },
   {
    "duration": 4,
    "start_time": "2024-08-08T18:24:52.835Z"
   },
   {
    "duration": 405,
    "start_time": "2024-08-08T18:24:53.264Z"
   },
   {
    "duration": 41,
    "start_time": "2024-08-08T18:24:53.948Z"
   },
   {
    "duration": 27,
    "start_time": "2024-08-08T18:24:55.017Z"
   },
   {
    "duration": 19,
    "start_time": "2024-08-08T18:24:55.157Z"
   },
   {
    "duration": 19,
    "start_time": "2024-08-08T18:24:55.329Z"
   },
   {
    "duration": 8,
    "start_time": "2024-08-08T18:24:56.140Z"
   },
   {
    "duration": 7,
    "start_time": "2024-08-08T18:24:56.341Z"
   },
   {
    "duration": 5,
    "start_time": "2024-08-08T18:24:56.505Z"
   },
   {
    "duration": 11,
    "start_time": "2024-08-08T18:24:57.047Z"
   },
   {
    "duration": 19,
    "start_time": "2024-08-08T18:24:57.416Z"
   },
   {
    "duration": 7,
    "start_time": "2024-08-08T18:24:57.613Z"
   },
   {
    "duration": 6,
    "start_time": "2024-08-08T18:24:57.820Z"
   },
   {
    "duration": 147,
    "start_time": "2024-08-08T18:24:58.832Z"
   },
   {
    "duration": 6,
    "start_time": "2024-08-08T18:25:00.170Z"
   },
   {
    "duration": 17,
    "start_time": "2024-08-08T18:25:00.448Z"
   },
   {
    "duration": 3,
    "start_time": "2024-08-08T18:25:01.106Z"
   },
   {
    "duration": 22,
    "start_time": "2024-08-08T18:25:03.871Z"
   },
   {
    "duration": 1352,
    "start_time": "2024-08-08T18:25:04.776Z"
   },
   {
    "duration": 1358,
    "start_time": "2024-08-08T18:25:06.130Z"
   },
   {
    "duration": 34,
    "start_time": "2024-08-08T18:25:09.024Z"
   },
   {
    "duration": 4,
    "start_time": "2024-08-08T18:25:11.067Z"
   },
   {
    "duration": 10,
    "start_time": "2024-08-08T18:25:12.753Z"
   },
   {
    "duration": 41,
    "start_time": "2024-08-08T18:25:16.939Z"
   },
   {
    "duration": 351,
    "start_time": "2024-08-08T18:26:21.524Z"
   },
   {
    "duration": 10,
    "start_time": "2024-08-08T18:26:55.967Z"
   },
   {
    "duration": 4,
    "start_time": "2024-08-08T18:27:15.188Z"
   },
   {
    "duration": 5,
    "start_time": "2024-08-08T18:27:21.370Z"
   },
   {
    "duration": 3,
    "start_time": "2024-08-08T18:27:28.684Z"
   },
   {
    "duration": 9,
    "start_time": "2024-08-08T18:27:43.863Z"
   },
   {
    "duration": 9,
    "start_time": "2024-08-08T18:27:48.120Z"
   },
   {
    "duration": 13,
    "start_time": "2024-08-08T18:28:09.239Z"
   },
   {
    "duration": 8,
    "start_time": "2024-08-08T18:28:15.498Z"
   },
   {
    "duration": 9,
    "start_time": "2024-08-08T18:28:30.065Z"
   },
   {
    "duration": 9,
    "start_time": "2024-08-08T18:31:31.513Z"
   },
   {
    "duration": 18,
    "start_time": "2024-08-08T18:31:39.704Z"
   },
   {
    "duration": 384,
    "start_time": "2024-08-08T18:32:02.981Z"
   },
   {
    "duration": 9,
    "start_time": "2024-08-08T18:32:44.885Z"
   },
   {
    "duration": 4,
    "start_time": "2024-08-08T18:32:53.965Z"
   },
   {
    "duration": 9,
    "start_time": "2024-08-08T18:33:05.502Z"
   },
   {
    "duration": 210,
    "start_time": "2024-08-08T23:38:55.581Z"
   },
   {
    "duration": 204,
    "start_time": "2024-08-08T23:41:25.397Z"
   },
   {
    "duration": 54,
    "start_time": "2024-08-08T23:41:32.336Z"
   },
   {
    "duration": 23,
    "start_time": "2024-08-08T23:42:10.513Z"
   },
   {
    "duration": 20062,
    "start_time": "2024-08-08T23:45:34.172Z"
   },
   {
    "duration": 20306,
    "start_time": "2024-08-08T23:46:19.643Z"
   },
   {
    "duration": 200,
    "start_time": "2024-08-08T23:46:45.124Z"
   },
   {
    "duration": 4,
    "start_time": "2024-08-08T23:47:06.037Z"
   },
   {
    "duration": 4,
    "start_time": "2024-08-08T23:47:12.567Z"
   },
   {
    "duration": 4,
    "start_time": "2024-08-08T23:47:19.150Z"
   },
   {
    "duration": 3,
    "start_time": "2024-08-08T23:47:25.445Z"
   },
   {
    "duration": 8,
    "start_time": "2024-08-08T23:47:48.298Z"
   },
   {
    "duration": 96690,
    "start_time": "2024-08-08T23:47:56.072Z"
   },
   {
    "duration": 15,
    "start_time": "2024-08-08T23:51:38.121Z"
   },
   {
    "duration": 9,
    "start_time": "2024-08-08T23:51:59.260Z"
   },
   {
    "duration": 4,
    "start_time": "2024-08-08T23:52:04.542Z"
   },
   {
    "duration": 17,
    "start_time": "2024-08-08T23:52:13.176Z"
   },
   {
    "duration": 19,
    "start_time": "2024-08-08T23:56:28.849Z"
   },
   {
    "duration": 27,
    "start_time": "2024-08-08T23:56:32.324Z"
   },
   {
    "duration": 22,
    "start_time": "2024-08-08T23:58:55.442Z"
   },
   {
    "duration": 23,
    "start_time": "2024-08-09T00:18:22.264Z"
   },
   {
    "duration": 34,
    "start_time": "2024-08-09T00:20:14.536Z"
   },
   {
    "duration": 14,
    "start_time": "2024-08-09T00:36:32.253Z"
   },
   {
    "duration": 8,
    "start_time": "2024-08-09T00:36:47.516Z"
   },
   {
    "duration": 24,
    "start_time": "2024-08-09T00:37:04.145Z"
   },
   {
    "duration": 290,
    "start_time": "2024-08-09T00:41:48.450Z"
   },
   {
    "duration": 311,
    "start_time": "2024-08-09T00:42:05.498Z"
   },
   {
    "duration": 308,
    "start_time": "2024-08-09T00:42:11.864Z"
   },
   {
    "duration": 34,
    "start_time": "2024-08-09T00:51:01.685Z"
   },
   {
    "duration": 27,
    "start_time": "2024-08-09T00:51:07.484Z"
   },
   {
    "duration": 25,
    "start_time": "2024-08-09T00:51:13.790Z"
   },
   {
    "duration": 25,
    "start_time": "2024-08-09T00:51:19.502Z"
   },
   {
    "duration": 24,
    "start_time": "2024-08-09T00:52:17.102Z"
   },
   {
    "duration": 227,
    "start_time": "2024-08-09T00:53:16.967Z"
   },
   {
    "duration": 31,
    "start_time": "2024-08-09T00:53:42.825Z"
   },
   {
    "duration": 225,
    "start_time": "2024-08-09T00:53:45.020Z"
   },
   {
    "duration": 19671,
    "start_time": "2024-08-09T00:55:44.243Z"
   },
   {
    "duration": 319,
    "start_time": "2024-08-09T00:56:29.914Z"
   },
   {
    "duration": 20961,
    "start_time": "2024-08-09T00:56:50.646Z"
   },
   {
    "duration": 8,
    "start_time": "2024-08-09T00:57:16.712Z"
   },
   {
    "duration": 29,
    "start_time": "2024-08-09T00:57:17.269Z"
   },
   {
    "duration": 239,
    "start_time": "2024-08-09T00:57:17.829Z"
   },
   {
    "duration": 13,
    "start_time": "2024-08-09T00:59:14.057Z"
   },
   {
    "duration": 1507,
    "start_time": "2024-08-09T01:09:50.206Z"
   },
   {
    "duration": 2,
    "start_time": "2024-08-09T01:09:51.715Z"
   },
   {
    "duration": 174,
    "start_time": "2024-08-09T01:09:51.719Z"
   },
   {
    "duration": 40,
    "start_time": "2024-08-09T01:09:51.895Z"
   },
   {
    "duration": 30,
    "start_time": "2024-08-09T01:09:51.937Z"
   },
   {
    "duration": 39,
    "start_time": "2024-08-09T01:09:51.968Z"
   },
   {
    "duration": 19,
    "start_time": "2024-08-09T01:09:52.008Z"
   },
   {
    "duration": 13,
    "start_time": "2024-08-09T01:09:52.028Z"
   },
   {
    "duration": 37,
    "start_time": "2024-08-09T01:09:52.042Z"
   },
   {
    "duration": 20,
    "start_time": "2024-08-09T01:09:52.082Z"
   },
   {
    "duration": 22,
    "start_time": "2024-08-09T01:09:52.103Z"
   },
   {
    "duration": 19,
    "start_time": "2024-08-09T01:09:52.126Z"
   },
   {
    "duration": 7,
    "start_time": "2024-08-09T01:09:52.146Z"
   },
   {
    "duration": 11,
    "start_time": "2024-08-09T01:09:52.154Z"
   },
   {
    "duration": 159,
    "start_time": "2024-08-09T01:09:52.166Z"
   },
   {
    "duration": 6,
    "start_time": "2024-08-09T01:09:52.327Z"
   },
   {
    "duration": 25,
    "start_time": "2024-08-09T01:09:52.334Z"
   },
   {
    "duration": 19,
    "start_time": "2024-08-09T01:09:52.360Z"
   },
   {
    "duration": 29,
    "start_time": "2024-08-09T01:09:52.380Z"
   },
   {
    "duration": 1337,
    "start_time": "2024-08-09T01:09:52.410Z"
   },
   {
    "duration": 1366,
    "start_time": "2024-08-09T01:09:53.748Z"
   },
   {
    "duration": 29,
    "start_time": "2024-08-09T01:09:55.116Z"
   },
   {
    "duration": 20,
    "start_time": "2024-08-09T01:09:55.147Z"
   },
   {
    "duration": 28,
    "start_time": "2024-08-09T01:09:55.169Z"
   },
   {
    "duration": 161,
    "start_time": "2024-08-09T01:09:55.199Z"
   },
   {
    "duration": 8,
    "start_time": "2024-08-09T01:09:55.362Z"
   },
   {
    "duration": 40,
    "start_time": "2024-08-09T01:09:55.371Z"
   },
   {
    "duration": 414,
    "start_time": "2024-08-09T01:09:55.414Z"
   },
   {
    "duration": 3,
    "start_time": "2024-08-09T01:09:55.830Z"
   },
   {
    "duration": 7,
    "start_time": "2024-08-09T01:09:55.835Z"
   },
   {
    "duration": 85163,
    "start_time": "2024-08-09T01:09:55.844Z"
   },
   {
    "duration": 1971,
    "start_time": "2024-08-09T01:11:21.014Z"
   },
   {
    "duration": 0,
    "start_time": "2024-08-09T01:11:22.986Z"
   },
   {
    "duration": 0,
    "start_time": "2024-08-09T01:11:22.988Z"
   },
   {
    "duration": 0,
    "start_time": "2024-08-09T01:11:22.989Z"
   },
   {
    "duration": 0,
    "start_time": "2024-08-09T01:11:22.990Z"
   },
   {
    "duration": 0,
    "start_time": "2024-08-09T01:11:22.992Z"
   },
   {
    "duration": 0,
    "start_time": "2024-08-09T01:11:23.007Z"
   },
   {
    "duration": 0,
    "start_time": "2024-08-09T01:11:23.009Z"
   },
   {
    "duration": 1510,
    "start_time": "2024-08-09T01:11:31.077Z"
   },
   {
    "duration": 3,
    "start_time": "2024-08-09T01:11:32.589Z"
   },
   {
    "duration": 135,
    "start_time": "2024-08-09T01:11:32.593Z"
   },
   {
    "duration": 39,
    "start_time": "2024-08-09T01:11:32.729Z"
   },
   {
    "duration": 26,
    "start_time": "2024-08-09T01:11:32.770Z"
   },
   {
    "duration": 19,
    "start_time": "2024-08-09T01:11:32.806Z"
   },
   {
    "duration": 25,
    "start_time": "2024-08-09T01:11:32.827Z"
   },
   {
    "duration": 7,
    "start_time": "2024-08-09T01:11:32.853Z"
   },
   {
    "duration": 7,
    "start_time": "2024-08-09T01:11:32.861Z"
   },
   {
    "duration": 49,
    "start_time": "2024-08-09T01:11:32.870Z"
   },
   {
    "duration": 26,
    "start_time": "2024-08-09T01:11:32.921Z"
   },
   {
    "duration": 31,
    "start_time": "2024-08-09T01:11:32.948Z"
   },
   {
    "duration": 21,
    "start_time": "2024-08-09T01:11:32.981Z"
   },
   {
    "duration": 34,
    "start_time": "2024-08-09T01:11:33.006Z"
   },
   {
    "duration": 174,
    "start_time": "2024-08-09T01:11:33.042Z"
   },
   {
    "duration": 6,
    "start_time": "2024-08-09T01:11:33.218Z"
   },
   {
    "duration": 36,
    "start_time": "2024-08-09T01:11:33.226Z"
   },
   {
    "duration": 4,
    "start_time": "2024-08-09T01:11:33.264Z"
   },
   {
    "duration": 28,
    "start_time": "2024-08-09T01:11:33.270Z"
   },
   {
    "duration": 1295,
    "start_time": "2024-08-09T01:11:33.300Z"
   },
   {
    "duration": 1396,
    "start_time": "2024-08-09T01:11:34.596Z"
   },
   {
    "duration": 31,
    "start_time": "2024-08-09T01:11:35.994Z"
   },
   {
    "duration": 9,
    "start_time": "2024-08-09T01:11:36.027Z"
   },
   {
    "duration": 21,
    "start_time": "2024-08-09T01:11:36.037Z"
   },
   {
    "duration": 162,
    "start_time": "2024-08-09T01:11:36.060Z"
   },
   {
    "duration": 9,
    "start_time": "2024-08-09T01:11:36.224Z"
   },
   {
    "duration": 29,
    "start_time": "2024-08-09T01:11:36.234Z"
   },
   {
    "duration": 423,
    "start_time": "2024-08-09T01:11:36.264Z"
   },
   {
    "duration": 4,
    "start_time": "2024-08-09T01:11:36.689Z"
   },
   {
    "duration": 18,
    "start_time": "2024-08-09T01:11:36.694Z"
   },
   {
    "duration": 1469,
    "start_time": "2024-08-09T01:12:08.672Z"
   },
   {
    "duration": 3,
    "start_time": "2024-08-09T01:12:10.143Z"
   },
   {
    "duration": 135,
    "start_time": "2024-08-09T01:12:10.147Z"
   },
   {
    "duration": 43,
    "start_time": "2024-08-09T01:12:10.284Z"
   },
   {
    "duration": 27,
    "start_time": "2024-08-09T01:12:10.329Z"
   },
   {
    "duration": 20,
    "start_time": "2024-08-09T01:12:10.357Z"
   },
   {
    "duration": 41,
    "start_time": "2024-08-09T01:12:10.379Z"
   },
   {
    "duration": 7,
    "start_time": "2024-08-09T01:12:10.422Z"
   },
   {
    "duration": 7,
    "start_time": "2024-08-09T01:12:10.431Z"
   },
   {
    "duration": 5,
    "start_time": "2024-08-09T01:12:10.441Z"
   },
   {
    "duration": 12,
    "start_time": "2024-08-09T01:12:10.448Z"
   },
   {
    "duration": 57,
    "start_time": "2024-08-09T01:12:10.461Z"
   },
   {
    "duration": 8,
    "start_time": "2024-08-09T01:12:10.520Z"
   },
   {
    "duration": 6,
    "start_time": "2024-08-09T01:12:10.529Z"
   },
   {
    "duration": 176,
    "start_time": "2024-08-09T01:12:10.537Z"
   },
   {
    "duration": 7,
    "start_time": "2024-08-09T01:12:10.715Z"
   },
   {
    "duration": 23,
    "start_time": "2024-08-09T01:12:10.723Z"
   },
   {
    "duration": 4,
    "start_time": "2024-08-09T01:12:10.748Z"
   },
   {
    "duration": 40,
    "start_time": "2024-08-09T01:12:10.753Z"
   },
   {
    "duration": 1297,
    "start_time": "2024-08-09T01:12:10.796Z"
   },
   {
    "duration": 1394,
    "start_time": "2024-08-09T01:12:12.095Z"
   },
   {
    "duration": 33,
    "start_time": "2024-08-09T01:12:13.491Z"
   },
   {
    "duration": 9,
    "start_time": "2024-08-09T01:12:13.526Z"
   },
   {
    "duration": 23,
    "start_time": "2024-08-09T01:12:13.536Z"
   },
   {
    "duration": 168,
    "start_time": "2024-08-09T01:12:13.561Z"
   },
   {
    "duration": 9,
    "start_time": "2024-08-09T01:12:13.730Z"
   },
   {
    "duration": 37,
    "start_time": "2024-08-09T01:12:13.740Z"
   },
   {
    "duration": 408,
    "start_time": "2024-08-09T01:12:13.780Z"
   },
   {
    "duration": 4,
    "start_time": "2024-08-09T01:12:14.189Z"
   },
   {
    "duration": 18,
    "start_time": "2024-08-09T01:12:14.195Z"
   },
   {
    "duration": 83302,
    "start_time": "2024-08-09T01:12:14.215Z"
   },
   {
    "duration": 178354,
    "start_time": "2024-08-09T01:13:37.518Z"
   },
   {
    "duration": 0,
    "start_time": "2024-08-09T01:16:35.874Z"
   },
   {
    "duration": 0,
    "start_time": "2024-08-09T01:16:35.875Z"
   },
   {
    "duration": 0,
    "start_time": "2024-08-09T01:16:35.877Z"
   },
   {
    "duration": 0,
    "start_time": "2024-08-09T01:16:35.878Z"
   },
   {
    "duration": 0,
    "start_time": "2024-08-09T01:16:35.879Z"
   },
   {
    "duration": 0,
    "start_time": "2024-08-09T01:16:35.880Z"
   },
   {
    "duration": 0,
    "start_time": "2024-08-09T01:16:35.881Z"
   },
   {
    "duration": 1473,
    "start_time": "2024-08-09T01:16:46.070Z"
   },
   {
    "duration": 3,
    "start_time": "2024-08-09T01:16:47.545Z"
   },
   {
    "duration": 139,
    "start_time": "2024-08-09T01:16:47.550Z"
   },
   {
    "duration": 42,
    "start_time": "2024-08-09T01:16:47.691Z"
   },
   {
    "duration": 33,
    "start_time": "2024-08-09T01:16:47.735Z"
   },
   {
    "duration": 43,
    "start_time": "2024-08-09T01:16:47.770Z"
   },
   {
    "duration": 20,
    "start_time": "2024-08-09T01:16:47.815Z"
   },
   {
    "duration": 7,
    "start_time": "2024-08-09T01:16:47.836Z"
   },
   {
    "duration": 11,
    "start_time": "2024-08-09T01:16:47.844Z"
   },
   {
    "duration": 6,
    "start_time": "2024-08-09T01:16:47.857Z"
   },
   {
    "duration": 30,
    "start_time": "2024-08-09T01:16:47.865Z"
   },
   {
    "duration": 24,
    "start_time": "2024-08-09T01:16:47.896Z"
   },
   {
    "duration": 7,
    "start_time": "2024-08-09T01:16:47.922Z"
   },
   {
    "duration": 8,
    "start_time": "2024-08-09T01:16:47.931Z"
   },
   {
    "duration": 166,
    "start_time": "2024-08-09T01:16:47.940Z"
   },
   {
    "duration": 6,
    "start_time": "2024-08-09T01:16:48.108Z"
   },
   {
    "duration": 43,
    "start_time": "2024-08-09T01:16:48.116Z"
   },
   {
    "duration": 3,
    "start_time": "2024-08-09T01:16:48.160Z"
   },
   {
    "duration": 44,
    "start_time": "2024-08-09T01:16:48.165Z"
   },
   {
    "duration": 1289,
    "start_time": "2024-08-09T01:16:48.211Z"
   },
   {
    "duration": 1377,
    "start_time": "2024-08-09T01:16:49.502Z"
   },
   {
    "duration": 35,
    "start_time": "2024-08-09T01:16:50.880Z"
   },
   {
    "duration": 4,
    "start_time": "2024-08-09T01:16:50.917Z"
   },
   {
    "duration": 36,
    "start_time": "2024-08-09T01:16:50.923Z"
   },
   {
    "duration": 154,
    "start_time": "2024-08-09T01:16:50.960Z"
   },
   {
    "duration": 8,
    "start_time": "2024-08-09T01:16:51.116Z"
   },
   {
    "duration": 33,
    "start_time": "2024-08-09T01:16:51.125Z"
   },
   {
    "duration": 416,
    "start_time": "2024-08-09T01:16:51.162Z"
   },
   {
    "duration": 5,
    "start_time": "2024-08-09T01:16:51.579Z"
   },
   {
    "duration": 29,
    "start_time": "2024-08-09T01:16:51.585Z"
   },
   {
    "duration": 82493,
    "start_time": "2024-08-09T01:16:51.616Z"
   },
   {
    "duration": 942799,
    "start_time": "2024-08-09T01:18:14.111Z"
   },
   {
    "duration": 4504770,
    "start_time": "2024-08-09T01:33:56.911Z"
   },
   {
    "duration": 60100,
    "start_time": "2024-08-09T02:49:01.682Z"
   },
   {
    "duration": 13713,
    "start_time": "2024-08-09T02:50:01.783Z"
   },
   {
    "duration": 13,
    "start_time": "2024-08-09T02:50:15.497Z"
   },
   {
    "duration": 18,
    "start_time": "2024-08-09T02:50:15.511Z"
   },
   {
    "duration": 27,
    "start_time": "2024-08-09T02:50:15.531Z"
   },
   {
    "duration": 202,
    "start_time": "2024-08-09T02:50:15.560Z"
   },
   {
    "duration": 47,
    "start_time": "2024-08-09T06:11:11.514Z"
   },
   {
    "duration": 1779,
    "start_time": "2024-08-09T06:11:47.812Z"
   },
   {
    "duration": 3,
    "start_time": "2024-08-09T06:11:49.593Z"
   },
   {
    "duration": 478,
    "start_time": "2024-08-09T06:11:49.598Z"
   },
   {
    "duration": 46,
    "start_time": "2024-08-09T06:11:50.079Z"
   },
   {
    "duration": 24,
    "start_time": "2024-08-09T06:11:50.127Z"
   },
   {
    "duration": 25,
    "start_time": "2024-08-09T06:11:50.153Z"
   },
   {
    "duration": 18,
    "start_time": "2024-08-09T06:11:50.180Z"
   },
   {
    "duration": 6,
    "start_time": "2024-08-09T06:11:50.199Z"
   },
   {
    "duration": 21,
    "start_time": "2024-08-09T06:11:50.207Z"
   },
   {
    "duration": 5,
    "start_time": "2024-08-09T06:11:50.230Z"
   },
   {
    "duration": 19,
    "start_time": "2024-08-09T06:11:50.236Z"
   },
   {
    "duration": 36,
    "start_time": "2024-08-09T06:11:50.257Z"
   },
   {
    "duration": 7,
    "start_time": "2024-08-09T06:11:50.295Z"
   },
   {
    "duration": 15,
    "start_time": "2024-08-09T06:11:50.303Z"
   },
   {
    "duration": 159,
    "start_time": "2024-08-09T06:11:50.320Z"
   },
   {
    "duration": 5,
    "start_time": "2024-08-09T06:11:50.482Z"
   },
   {
    "duration": 17,
    "start_time": "2024-08-09T06:11:50.489Z"
   },
   {
    "duration": 4,
    "start_time": "2024-08-09T06:11:50.508Z"
   },
   {
    "duration": 38,
    "start_time": "2024-08-09T06:11:50.513Z"
   },
   {
    "duration": 1415,
    "start_time": "2024-08-09T06:11:50.565Z"
   },
   {
    "duration": 1370,
    "start_time": "2024-08-09T06:11:51.982Z"
   },
   {
    "duration": 31,
    "start_time": "2024-08-09T06:11:53.354Z"
   },
   {
    "duration": 9,
    "start_time": "2024-08-09T06:11:53.387Z"
   },
   {
    "duration": 9,
    "start_time": "2024-08-09T06:11:53.398Z"
   },
   {
    "duration": 200,
    "start_time": "2024-08-09T06:11:53.409Z"
   },
   {
    "duration": 9,
    "start_time": "2024-08-09T06:11:53.610Z"
   },
   {
    "duration": 28,
    "start_time": "2024-08-09T06:11:53.620Z"
   },
   {
    "duration": 425,
    "start_time": "2024-08-09T06:11:53.651Z"
   },
   {
    "duration": 4,
    "start_time": "2024-08-09T06:11:54.078Z"
   },
   {
    "duration": 14,
    "start_time": "2024-08-09T06:11:54.084Z"
   },
   {
    "duration": 70465,
    "start_time": "2024-08-09T06:11:54.100Z"
   },
   {
    "duration": 991926,
    "start_time": "2024-08-09T06:13:04.568Z"
   },
   {
    "duration": 1708432,
    "start_time": "2024-08-09T06:29:36.496Z"
   },
   {
    "duration": 0,
    "start_time": "2024-08-09T06:58:04.930Z"
   },
   {
    "duration": 0,
    "start_time": "2024-08-09T06:58:04.932Z"
   },
   {
    "duration": 0,
    "start_time": "2024-08-09T06:58:04.934Z"
   },
   {
    "duration": 0,
    "start_time": "2024-08-09T06:58:04.935Z"
   },
   {
    "duration": 0,
    "start_time": "2024-08-09T06:58:04.937Z"
   },
   {
    "duration": 0,
    "start_time": "2024-08-09T06:58:04.938Z"
   },
   {
    "duration": 5,
    "start_time": "2024-08-09T06:59:34.850Z"
   },
   {
    "duration": 1457,
    "start_time": "2024-08-09T07:01:10.989Z"
   },
   {
    "duration": 3,
    "start_time": "2024-08-09T07:01:12.448Z"
   },
   {
    "duration": 169,
    "start_time": "2024-08-09T07:01:12.453Z"
   },
   {
    "duration": 53,
    "start_time": "2024-08-09T07:01:12.625Z"
   },
   {
    "duration": 30,
    "start_time": "2024-08-09T07:01:12.679Z"
   },
   {
    "duration": 33,
    "start_time": "2024-08-09T07:01:12.711Z"
   },
   {
    "duration": 19,
    "start_time": "2024-08-09T07:01:12.765Z"
   },
   {
    "duration": 7,
    "start_time": "2024-08-09T07:01:12.786Z"
   },
   {
    "duration": 88,
    "start_time": "2024-08-09T07:01:12.795Z"
   },
   {
    "duration": 7,
    "start_time": "2024-08-09T07:01:12.886Z"
   },
   {
    "duration": 35,
    "start_time": "2024-08-09T07:01:12.895Z"
   },
   {
    "duration": 27,
    "start_time": "2024-08-09T07:01:12.932Z"
   },
   {
    "duration": 23,
    "start_time": "2024-08-09T07:01:12.961Z"
   },
   {
    "duration": 31,
    "start_time": "2024-08-09T07:01:12.986Z"
   },
   {
    "duration": 155,
    "start_time": "2024-08-09T07:01:13.019Z"
   },
   {
    "duration": 7,
    "start_time": "2024-08-09T07:01:13.177Z"
   },
   {
    "duration": 27,
    "start_time": "2024-08-09T07:01:13.187Z"
   },
   {
    "duration": 18,
    "start_time": "2024-08-09T07:01:13.215Z"
   },
   {
    "duration": 28,
    "start_time": "2024-08-09T07:01:13.235Z"
   },
   {
    "duration": 1339,
    "start_time": "2024-08-09T07:01:13.265Z"
   },
   {
    "duration": 1352,
    "start_time": "2024-08-09T07:01:14.606Z"
   },
   {
    "duration": 26,
    "start_time": "2024-08-09T07:01:15.959Z"
   },
   {
    "duration": 5,
    "start_time": "2024-08-09T07:01:15.987Z"
   },
   {
    "duration": 10,
    "start_time": "2024-08-09T07:01:15.993Z"
   },
   {
    "duration": 165,
    "start_time": "2024-08-09T07:01:16.005Z"
   },
   {
    "duration": 17,
    "start_time": "2024-08-09T07:01:16.171Z"
   },
   {
    "duration": 27,
    "start_time": "2024-08-09T07:01:16.190Z"
   },
   {
    "duration": 414,
    "start_time": "2024-08-09T07:01:16.220Z"
   },
   {
    "duration": 4,
    "start_time": "2024-08-09T07:01:16.636Z"
   },
   {
    "duration": 8,
    "start_time": "2024-08-09T07:01:16.642Z"
   },
   {
    "duration": 71225,
    "start_time": "2024-08-09T07:01:16.651Z"
   },
   {
    "duration": 993639,
    "start_time": "2024-08-09T07:02:27.972Z"
   },
   {
    "duration": 4599846,
    "start_time": "2024-08-09T07:19:01.612Z"
   },
   {
    "duration": 63310,
    "start_time": "2024-08-09T08:35:41.460Z"
   },
   {
    "duration": 13790,
    "start_time": "2024-08-09T08:36:44.772Z"
   },
   {
    "duration": 12,
    "start_time": "2024-08-09T08:36:58.564Z"
   },
   {
    "duration": 3,
    "start_time": "2024-08-09T08:36:58.577Z"
   },
   {
    "duration": 24,
    "start_time": "2024-08-09T08:36:58.582Z"
   },
   {
    "duration": 238,
    "start_time": "2024-08-09T08:36:58.608Z"
   }
  ],
  "kernelspec": {
   "display_name": "Python 3 (ipykernel)",
   "language": "python",
   "name": "python3"
  },
  "language_info": {
   "codemirror_mode": {
    "name": "ipython",
    "version": 3
   },
   "file_extension": ".py",
   "mimetype": "text/x-python",
   "name": "python",
   "nbconvert_exporter": "python",
   "pygments_lexer": "ipython3",
   "version": "3.9.5"
  },
  "toc": {
   "base_numbering": 1,
   "nav_menu": {},
   "number_sections": true,
   "sideBar": true,
   "skip_h1_title": true,
   "title_cell": "Table of Contents",
   "title_sidebar": "Contents",
   "toc_cell": false,
   "toc_position": {},
   "toc_section_display": true,
   "toc_window_display": false
  }
 },
 "nbformat": 4,
 "nbformat_minor": 4
}
