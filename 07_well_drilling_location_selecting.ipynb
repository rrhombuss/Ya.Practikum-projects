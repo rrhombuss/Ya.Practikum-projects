{
 "cells": [
  {
   "cell_type": "markdown",
   "metadata": {},
   "source": [
    "# Выбор локации для скважины"
   ]
  },
  {
   "cell_type": "markdown",
   "metadata": {},
   "source": [
    "Допустим, вы работаете в добывающей компании «ГлавРосГосНефть». Нужно решить, где бурить новую скважину.\n",
    "\n",
    "Вам предоставлены пробы нефти в трёх регионах: в каждом 10 000 месторождений, где измерили качество нефти и объём её запасов. Постройте модель машинного обучения, которая поможет определить регион, где добыча принесёт наибольшую прибыль. Проанализируйте возможную прибыль и риски техникой *Bootstrap.*\n",
    "\n",
    "Шаги для выбора локации:\n",
    "\n",
    "- В избранном регионе ищут месторождения, для каждого определяют значения признаков;\n",
    "- Строят модель и оценивают объём запасов;\n",
    "- Выбирают месторождения с самым высокими оценками значений. Количество месторождений зависит от бюджета компании и стоимости разработки одной скважины;\n",
    "- Прибыль равна суммарной прибыли отобранных месторождений."
   ]
  },
  {
   "cell_type": "markdown",
   "metadata": {},
   "source": [
    "## Загрузка и подготовка данных"
   ]
  },
  {
   "cell_type": "code",
   "execution_count": 1,
   "metadata": {},
   "outputs": [],
   "source": [
    "import pandas as pd\n",
    "import numpy as np\n",
    "import seaborn as sns\n",
    "import matplotlib.pyplot as plt\n",
    "from sklearn.linear_model import LinearRegression\n",
    "from sklearn.model_selection import train_test_split, GridSearchCV\n",
    "from sklearn.metrics import mean_squared_error, accuracy_score, f1_score\n",
    "from sklearn.preprocessing import StandardScaler\n",
    "from sklearn.utils import shuffle\n",
    "from sklearn.dummy import DummyClassifier\n",
    "import warnings\n",
    "from sklearn.metrics import r2_score"
   ]
  },
  {
   "cell_type": "code",
   "execution_count": 2,
   "metadata": {},
   "outputs": [],
   "source": [
    "df0 = pd.read_csv('/datasets/geo_data_0.csv')\n",
    "df1 = pd.read_csv('/datasets/geo_data_1.csv')\n",
    "df2 = pd.read_csv('/datasets/geo_data_2.csv')"
   ]
  },
  {
   "cell_type": "code",
   "execution_count": 3,
   "metadata": {},
   "outputs": [
    {
     "data": {
      "text/html": [
       "<div>\n",
       "<style scoped>\n",
       "    .dataframe tbody tr th:only-of-type {\n",
       "        vertical-align: middle;\n",
       "    }\n",
       "\n",
       "    .dataframe tbody tr th {\n",
       "        vertical-align: top;\n",
       "    }\n",
       "\n",
       "    .dataframe thead th {\n",
       "        text-align: right;\n",
       "    }\n",
       "</style>\n",
       "<table border=\"1\" class=\"dataframe\">\n",
       "  <thead>\n",
       "    <tr style=\"text-align: right;\">\n",
       "      <th></th>\n",
       "      <th>id</th>\n",
       "      <th>f0</th>\n",
       "      <th>f1</th>\n",
       "      <th>f2</th>\n",
       "      <th>product</th>\n",
       "    </tr>\n",
       "  </thead>\n",
       "  <tbody>\n",
       "    <tr>\n",
       "      <th>0</th>\n",
       "      <td>txEyH</td>\n",
       "      <td>0.705745</td>\n",
       "      <td>-0.497823</td>\n",
       "      <td>1.221170</td>\n",
       "      <td>105.280062</td>\n",
       "    </tr>\n",
       "    <tr>\n",
       "      <th>1</th>\n",
       "      <td>2acmU</td>\n",
       "      <td>1.334711</td>\n",
       "      <td>-0.340164</td>\n",
       "      <td>4.365080</td>\n",
       "      <td>73.037750</td>\n",
       "    </tr>\n",
       "    <tr>\n",
       "      <th>2</th>\n",
       "      <td>409Wp</td>\n",
       "      <td>1.022732</td>\n",
       "      <td>0.151990</td>\n",
       "      <td>1.419926</td>\n",
       "      <td>85.265647</td>\n",
       "    </tr>\n",
       "    <tr>\n",
       "      <th>3</th>\n",
       "      <td>iJLyR</td>\n",
       "      <td>-0.032172</td>\n",
       "      <td>0.139033</td>\n",
       "      <td>2.978566</td>\n",
       "      <td>168.620776</td>\n",
       "    </tr>\n",
       "    <tr>\n",
       "      <th>4</th>\n",
       "      <td>Xdl7t</td>\n",
       "      <td>1.988431</td>\n",
       "      <td>0.155413</td>\n",
       "      <td>4.751769</td>\n",
       "      <td>154.036647</td>\n",
       "    </tr>\n",
       "  </tbody>\n",
       "</table>\n",
       "</div>"
      ],
      "text/plain": [
       "      id        f0        f1        f2     product\n",
       "0  txEyH  0.705745 -0.497823  1.221170  105.280062\n",
       "1  2acmU  1.334711 -0.340164  4.365080   73.037750\n",
       "2  409Wp  1.022732  0.151990  1.419926   85.265647\n",
       "3  iJLyR -0.032172  0.139033  2.978566  168.620776\n",
       "4  Xdl7t  1.988431  0.155413  4.751769  154.036647"
      ]
     },
     "metadata": {},
     "output_type": "display_data"
    },
    {
     "name": "stdout",
     "output_type": "stream",
     "text": [
      "<class 'pandas.core.frame.DataFrame'>\n",
      "RangeIndex: 100000 entries, 0 to 99999\n",
      "Data columns (total 5 columns):\n",
      " #   Column   Non-Null Count   Dtype  \n",
      "---  ------   --------------   -----  \n",
      " 0   id       100000 non-null  object \n",
      " 1   f0       100000 non-null  float64\n",
      " 2   f1       100000 non-null  float64\n",
      " 3   f2       100000 non-null  float64\n",
      " 4   product  100000 non-null  float64\n",
      "dtypes: float64(4), object(1)\n",
      "memory usage: 3.8+ MB\n"
     ]
    },
    {
     "data": {
      "text/plain": [
       "None"
      ]
     },
     "metadata": {},
     "output_type": "display_data"
    },
    {
     "data": {
      "text/html": [
       "<div>\n",
       "<style scoped>\n",
       "    .dataframe tbody tr th:only-of-type {\n",
       "        vertical-align: middle;\n",
       "    }\n",
       "\n",
       "    .dataframe tbody tr th {\n",
       "        vertical-align: top;\n",
       "    }\n",
       "\n",
       "    .dataframe thead th {\n",
       "        text-align: right;\n",
       "    }\n",
       "</style>\n",
       "<table border=\"1\" class=\"dataframe\">\n",
       "  <thead>\n",
       "    <tr style=\"text-align: right;\">\n",
       "      <th></th>\n",
       "      <th>id</th>\n",
       "      <th>f0</th>\n",
       "      <th>f1</th>\n",
       "      <th>f2</th>\n",
       "      <th>product</th>\n",
       "    </tr>\n",
       "  </thead>\n",
       "  <tbody>\n",
       "    <tr>\n",
       "      <th>0</th>\n",
       "      <td>kBEdx</td>\n",
       "      <td>-15.001348</td>\n",
       "      <td>-8.276000</td>\n",
       "      <td>-0.005876</td>\n",
       "      <td>3.179103</td>\n",
       "    </tr>\n",
       "    <tr>\n",
       "      <th>1</th>\n",
       "      <td>62mP7</td>\n",
       "      <td>14.272088</td>\n",
       "      <td>-3.475083</td>\n",
       "      <td>0.999183</td>\n",
       "      <td>26.953261</td>\n",
       "    </tr>\n",
       "    <tr>\n",
       "      <th>2</th>\n",
       "      <td>vyE1P</td>\n",
       "      <td>6.263187</td>\n",
       "      <td>-5.948386</td>\n",
       "      <td>5.001160</td>\n",
       "      <td>134.766305</td>\n",
       "    </tr>\n",
       "    <tr>\n",
       "      <th>3</th>\n",
       "      <td>KcrkZ</td>\n",
       "      <td>-13.081196</td>\n",
       "      <td>-11.506057</td>\n",
       "      <td>4.999415</td>\n",
       "      <td>137.945408</td>\n",
       "    </tr>\n",
       "    <tr>\n",
       "      <th>4</th>\n",
       "      <td>AHL4O</td>\n",
       "      <td>12.702195</td>\n",
       "      <td>-8.147433</td>\n",
       "      <td>5.004363</td>\n",
       "      <td>134.766305</td>\n",
       "    </tr>\n",
       "  </tbody>\n",
       "</table>\n",
       "</div>"
      ],
      "text/plain": [
       "      id         f0         f1        f2     product\n",
       "0  kBEdx -15.001348  -8.276000 -0.005876    3.179103\n",
       "1  62mP7  14.272088  -3.475083  0.999183   26.953261\n",
       "2  vyE1P   6.263187  -5.948386  5.001160  134.766305\n",
       "3  KcrkZ -13.081196 -11.506057  4.999415  137.945408\n",
       "4  AHL4O  12.702195  -8.147433  5.004363  134.766305"
      ]
     },
     "metadata": {},
     "output_type": "display_data"
    },
    {
     "name": "stdout",
     "output_type": "stream",
     "text": [
      "<class 'pandas.core.frame.DataFrame'>\n",
      "RangeIndex: 100000 entries, 0 to 99999\n",
      "Data columns (total 5 columns):\n",
      " #   Column   Non-Null Count   Dtype  \n",
      "---  ------   --------------   -----  \n",
      " 0   id       100000 non-null  object \n",
      " 1   f0       100000 non-null  float64\n",
      " 2   f1       100000 non-null  float64\n",
      " 3   f2       100000 non-null  float64\n",
      " 4   product  100000 non-null  float64\n",
      "dtypes: float64(4), object(1)\n",
      "memory usage: 3.8+ MB\n"
     ]
    },
    {
     "data": {
      "text/plain": [
       "None"
      ]
     },
     "metadata": {},
     "output_type": "display_data"
    },
    {
     "data": {
      "text/html": [
       "<div>\n",
       "<style scoped>\n",
       "    .dataframe tbody tr th:only-of-type {\n",
       "        vertical-align: middle;\n",
       "    }\n",
       "\n",
       "    .dataframe tbody tr th {\n",
       "        vertical-align: top;\n",
       "    }\n",
       "\n",
       "    .dataframe thead th {\n",
       "        text-align: right;\n",
       "    }\n",
       "</style>\n",
       "<table border=\"1\" class=\"dataframe\">\n",
       "  <thead>\n",
       "    <tr style=\"text-align: right;\">\n",
       "      <th></th>\n",
       "      <th>id</th>\n",
       "      <th>f0</th>\n",
       "      <th>f1</th>\n",
       "      <th>f2</th>\n",
       "      <th>product</th>\n",
       "    </tr>\n",
       "  </thead>\n",
       "  <tbody>\n",
       "    <tr>\n",
       "      <th>0</th>\n",
       "      <td>fwXo0</td>\n",
       "      <td>-1.146987</td>\n",
       "      <td>0.963328</td>\n",
       "      <td>-0.828965</td>\n",
       "      <td>27.758673</td>\n",
       "    </tr>\n",
       "    <tr>\n",
       "      <th>1</th>\n",
       "      <td>WJtFt</td>\n",
       "      <td>0.262778</td>\n",
       "      <td>0.269839</td>\n",
       "      <td>-2.530187</td>\n",
       "      <td>56.069697</td>\n",
       "    </tr>\n",
       "    <tr>\n",
       "      <th>2</th>\n",
       "      <td>ovLUW</td>\n",
       "      <td>0.194587</td>\n",
       "      <td>0.289035</td>\n",
       "      <td>-5.586433</td>\n",
       "      <td>62.871910</td>\n",
       "    </tr>\n",
       "    <tr>\n",
       "      <th>3</th>\n",
       "      <td>q6cA6</td>\n",
       "      <td>2.236060</td>\n",
       "      <td>-0.553760</td>\n",
       "      <td>0.930038</td>\n",
       "      <td>114.572842</td>\n",
       "    </tr>\n",
       "    <tr>\n",
       "      <th>4</th>\n",
       "      <td>WPMUX</td>\n",
       "      <td>-0.515993</td>\n",
       "      <td>1.716266</td>\n",
       "      <td>5.899011</td>\n",
       "      <td>149.600746</td>\n",
       "    </tr>\n",
       "  </tbody>\n",
       "</table>\n",
       "</div>"
      ],
      "text/plain": [
       "      id        f0        f1        f2     product\n",
       "0  fwXo0 -1.146987  0.963328 -0.828965   27.758673\n",
       "1  WJtFt  0.262778  0.269839 -2.530187   56.069697\n",
       "2  ovLUW  0.194587  0.289035 -5.586433   62.871910\n",
       "3  q6cA6  2.236060 -0.553760  0.930038  114.572842\n",
       "4  WPMUX -0.515993  1.716266  5.899011  149.600746"
      ]
     },
     "metadata": {},
     "output_type": "display_data"
    },
    {
     "name": "stdout",
     "output_type": "stream",
     "text": [
      "<class 'pandas.core.frame.DataFrame'>\n",
      "RangeIndex: 100000 entries, 0 to 99999\n",
      "Data columns (total 5 columns):\n",
      " #   Column   Non-Null Count   Dtype  \n",
      "---  ------   --------------   -----  \n",
      " 0   id       100000 non-null  object \n",
      " 1   f0       100000 non-null  float64\n",
      " 2   f1       100000 non-null  float64\n",
      " 3   f2       100000 non-null  float64\n",
      " 4   product  100000 non-null  float64\n",
      "dtypes: float64(4), object(1)\n",
      "memory usage: 3.8+ MB\n"
     ]
    },
    {
     "data": {
      "text/plain": [
       "None"
      ]
     },
     "metadata": {},
     "output_type": "display_data"
    }
   ],
   "source": [
    "for df in [df0, df1, df2]:\n",
    "    display(df.head())\n",
    "    display(df.info())"
   ]
  },
  {
   "cell_type": "code",
   "execution_count": 4,
   "metadata": {},
   "outputs": [
    {
     "data": {
      "text/plain": [
       "0"
      ]
     },
     "metadata": {},
     "output_type": "display_data"
    },
    {
     "name": "stdout",
     "output_type": "stream",
     "text": [
      "<class 'pandas.core.frame.DataFrame'>\n",
      "RangeIndex: 100000 entries, 0 to 99999\n",
      "Data columns (total 4 columns):\n",
      " #   Column   Non-Null Count   Dtype  \n",
      "---  ------   --------------   -----  \n",
      " 0   f0       100000 non-null  float64\n",
      " 1   f1       100000 non-null  float64\n",
      " 2   f2       100000 non-null  float64\n",
      " 3   product  100000 non-null  float64\n",
      "dtypes: float64(4)\n",
      "memory usage: 3.1 MB\n"
     ]
    }
   ],
   "source": [
    "df0 = df0.drop(['id'], axis=1)\n",
    "display(df0.duplicated().sum())\n",
    "df0.info()"
   ]
  },
  {
   "cell_type": "code",
   "execution_count": 5,
   "metadata": {},
   "outputs": [
    {
     "data": {
      "text/plain": [
       "0"
      ]
     },
     "metadata": {},
     "output_type": "display_data"
    },
    {
     "name": "stdout",
     "output_type": "stream",
     "text": [
      "<class 'pandas.core.frame.DataFrame'>\n",
      "RangeIndex: 100000 entries, 0 to 99999\n",
      "Data columns (total 4 columns):\n",
      " #   Column   Non-Null Count   Dtype  \n",
      "---  ------   --------------   -----  \n",
      " 0   f0       100000 non-null  float64\n",
      " 1   f1       100000 non-null  float64\n",
      " 2   f2       100000 non-null  float64\n",
      " 3   product  100000 non-null  float64\n",
      "dtypes: float64(4)\n",
      "memory usage: 3.1 MB\n"
     ]
    }
   ],
   "source": [
    "df1 = df1.drop(['id'], axis=1)\n",
    "display(df1.duplicated().sum())\n",
    "df1.info()"
   ]
  },
  {
   "cell_type": "code",
   "execution_count": 6,
   "metadata": {},
   "outputs": [
    {
     "data": {
      "text/plain": [
       "0"
      ]
     },
     "metadata": {},
     "output_type": "display_data"
    },
    {
     "name": "stdout",
     "output_type": "stream",
     "text": [
      "<class 'pandas.core.frame.DataFrame'>\n",
      "RangeIndex: 100000 entries, 0 to 99999\n",
      "Data columns (total 4 columns):\n",
      " #   Column   Non-Null Count   Dtype  \n",
      "---  ------   --------------   -----  \n",
      " 0   f0       100000 non-null  float64\n",
      " 1   f1       100000 non-null  float64\n",
      " 2   f2       100000 non-null  float64\n",
      " 3   product  100000 non-null  float64\n",
      "dtypes: float64(4)\n",
      "memory usage: 3.1 MB\n"
     ]
    }
   ],
   "source": [
    "df2 = df2.drop(['id'], axis=1)\n",
    "display(df2.duplicated().sum())\n",
    "df2.info()"
   ]
  },
  {
   "cell_type": "markdown",
   "metadata": {},
   "source": [
    "Данные полные, отстутствуют дубликаты"
   ]
  },
  {
   "cell_type": "code",
   "execution_count": 7,
   "metadata": {},
   "outputs": [
    {
     "data": {
      "image/png": "[encoded data removed]",
      "text/plain": [
       "<Figure size 504x504 with 4 Axes>"
      ]
     },
     "metadata": {
      "needs_background": "light"
     },
     "output_type": "display_data"
    }
   ],
   "source": [
    "df.hist(figsize=(7, 7))\n",
    "plt.show()"
   ]
  },
  {
   "cell_type": "markdown",
   "metadata": {},
   "source": [
    "Аномалии вроде бы тоже отсуствуют"
   ]
  },
  {
   "cell_type": "code",
   "execution_count": 8,
   "metadata": {},
   "outputs": [],
   "source": [
    "features0 = df0.drop(['product'], axis=1)\n",
    "target0 = df0['product']"
   ]
  },
  {
   "cell_type": "code",
   "execution_count": 9,
   "metadata": {},
   "outputs": [],
   "source": [
    "features1 = df1.drop(['product'], axis=1)\n",
    "target1 = df1['product']"
   ]
  },
  {
   "cell_type": "code",
   "execution_count": 10,
   "metadata": {},
   "outputs": [],
   "source": [
    "features2 = df2.drop(['product'], axis=1)\n",
    "target2 = df2['product']"
   ]
  },
  {
   "cell_type": "code",
   "execution_count": 11,
   "metadata": {},
   "outputs": [
    {
     "name": "stdout",
     "output_type": "stream",
     "text": [
      "(75000, 3)\n",
      "(25000,)\n",
      "if the latter is 3 times smaller than the former, the division is done correctly\n"
     ]
    }
   ],
   "source": [
    "features_train0, features_valid0, target_train0, target_valid0 = train_test_split(\n",
    "    features0, target0, test_size=0.25, random_state=12345)\n",
    "print(features_train0.shape)\n",
    "print(target_valid0.shape)\n",
    "print('if the latter is 3 times smaller than the former, the division is done correctly')\n"
   ]
  },
  {
   "cell_type": "code",
   "execution_count": 12,
   "metadata": {},
   "outputs": [
    {
     "name": "stdout",
     "output_type": "stream",
     "text": [
      "(75000, 3)\n",
      "(25000,)\n",
      "if the latter is 3 times smaller than the former, the division is done correctly\n"
     ]
    }
   ],
   "source": [
    "features_train1, features_valid1, target_train1, target_valid1 = train_test_split(\n",
    "    features1, target1, test_size=0.25, random_state=12345)\n",
    "print(features_train1.shape)\n",
    "print(target_valid1.shape)\n",
    "print('if the latter is 3 times smaller than the former, the division is done correctly')"
   ]
  },
  {
   "cell_type": "code",
   "execution_count": 13,
   "metadata": {},
   "outputs": [
    {
     "name": "stdout",
     "output_type": "stream",
     "text": [
      "(75000, 3)\n",
      "(25000,)\n",
      "if the latter is 3 times smaller than the former, the division is done correctly\n"
     ]
    }
   ],
   "source": [
    "features_train2, features_valid2, target_train2, target_valid2 = train_test_split(\n",
    "    features2, target2, test_size=0.25, random_state=12345)\n",
    "print(features_train2.shape)\n",
    "print(target_valid2.shape)\n",
    "print('if the latter is 3 times smaller than the former, the division is done correctly')"
   ]
  },
  {
   "cell_type": "markdown",
   "metadata": {},
   "source": [
    "### данные чистые, без дубликатов или пропусков"
   ]
  },
  {
   "cell_type": "code",
   "execution_count": 14,
   "metadata": {},
   "outputs": [
    {
     "data": {
      "image/png": "[encoded data removed]",
      "text/plain": [
       "<Figure size 720x720 with 16 Axes>"
      ]
     },
     "metadata": {
      "needs_background": "light"
     },
     "output_type": "display_data"
    }
   ],
   "source": [
    "pd.plotting.scatter_matrix(df0, alpha=0.01, figsize=(10, 10))\n",
    "plt.show()"
   ]
  },
  {
   "cell_type": "markdown",
   "metadata": {},
   "source": [
    "## Обучение и проверка модели"
   ]
  },
  {
   "cell_type": "code",
   "execution_count": 15,
   "metadata": {},
   "outputs": [],
   "source": [
    "numeric = ['f0', 'f1', 'f2']"
   ]
  },
  {
   "cell_type": "code",
   "execution_count": 16,
   "metadata": {},
   "outputs": [
    {
     "data": {
      "text/html": [
       "<div>\n",
       "<style scoped>\n",
       "    .dataframe tbody tr th:only-of-type {\n",
       "        vertical-align: middle;\n",
       "    }\n",
       "\n",
       "    .dataframe tbody tr th {\n",
       "        vertical-align: top;\n",
       "    }\n",
       "\n",
       "    .dataframe thead th {\n",
       "        text-align: right;\n",
       "    }\n",
       "</style>\n",
       "<table border=\"1\" class=\"dataframe\">\n",
       "  <thead>\n",
       "    <tr style=\"text-align: right;\">\n",
       "      <th></th>\n",
       "      <th>f0</th>\n",
       "      <th>f1</th>\n",
       "      <th>f2</th>\n",
       "    </tr>\n",
       "  </thead>\n",
       "  <tbody>\n",
       "    <tr>\n",
       "      <th>0</th>\n",
       "      <td>0.705745</td>\n",
       "      <td>-0.497823</td>\n",
       "      <td>1.221170</td>\n",
       "    </tr>\n",
       "    <tr>\n",
       "      <th>1</th>\n",
       "      <td>1.334711</td>\n",
       "      <td>-0.340164</td>\n",
       "      <td>4.365080</td>\n",
       "    </tr>\n",
       "    <tr>\n",
       "      <th>2</th>\n",
       "      <td>1.022732</td>\n",
       "      <td>0.151990</td>\n",
       "      <td>1.419926</td>\n",
       "    </tr>\n",
       "    <tr>\n",
       "      <th>3</th>\n",
       "      <td>-0.032172</td>\n",
       "      <td>0.139033</td>\n",
       "      <td>2.978566</td>\n",
       "    </tr>\n",
       "    <tr>\n",
       "      <th>4</th>\n",
       "      <td>1.988431</td>\n",
       "      <td>0.155413</td>\n",
       "      <td>4.751769</td>\n",
       "    </tr>\n",
       "  </tbody>\n",
       "</table>\n",
       "</div>"
      ],
      "text/plain": [
       "         f0        f1        f2\n",
       "0  0.705745 -0.497823  1.221170\n",
       "1  1.334711 -0.340164  4.365080\n",
       "2  1.022732  0.151990  1.419926\n",
       "3 -0.032172  0.139033  2.978566\n",
       "4  1.988431  0.155413  4.751769"
      ]
     },
     "execution_count": 16,
     "metadata": {},
     "output_type": "execute_result"
    }
   ],
   "source": [
    "warnings.filterwarnings('ignore')\n",
    "\n",
    "scaler = StandardScaler()\n",
    "scaler.fit(features_train2[numeric])\n",
    "features_train0[numeric] = scaler.transform(features_train0[numeric])\n",
    "features_valid0[numeric] = scaler.transform(features_valid0[numeric])\n",
    "features0.head()"
   ]
  },
  {
   "cell_type": "code",
   "execution_count": 17,
   "metadata": {},
   "outputs": [
    {
     "data": {
      "text/html": [
       "<div>\n",
       "<style scoped>\n",
       "    .dataframe tbody tr th:only-of-type {\n",
       "        vertical-align: middle;\n",
       "    }\n",
       "\n",
       "    .dataframe tbody tr th {\n",
       "        vertical-align: top;\n",
       "    }\n",
       "\n",
       "    .dataframe thead th {\n",
       "        text-align: right;\n",
       "    }\n",
       "</style>\n",
       "<table border=\"1\" class=\"dataframe\">\n",
       "  <thead>\n",
       "    <tr style=\"text-align: right;\">\n",
       "      <th></th>\n",
       "      <th>f0</th>\n",
       "      <th>f1</th>\n",
       "      <th>f2</th>\n",
       "    </tr>\n",
       "  </thead>\n",
       "  <tbody>\n",
       "    <tr>\n",
       "      <th>0</th>\n",
       "      <td>-15.001348</td>\n",
       "      <td>-8.276000</td>\n",
       "      <td>-0.005876</td>\n",
       "    </tr>\n",
       "    <tr>\n",
       "      <th>1</th>\n",
       "      <td>14.272088</td>\n",
       "      <td>-3.475083</td>\n",
       "      <td>0.999183</td>\n",
       "    </tr>\n",
       "    <tr>\n",
       "      <th>2</th>\n",
       "      <td>6.263187</td>\n",
       "      <td>-5.948386</td>\n",
       "      <td>5.001160</td>\n",
       "    </tr>\n",
       "    <tr>\n",
       "      <th>3</th>\n",
       "      <td>-13.081196</td>\n",
       "      <td>-11.506057</td>\n",
       "      <td>4.999415</td>\n",
       "    </tr>\n",
       "    <tr>\n",
       "      <th>4</th>\n",
       "      <td>12.702195</td>\n",
       "      <td>-8.147433</td>\n",
       "      <td>5.004363</td>\n",
       "    </tr>\n",
       "  </tbody>\n",
       "</table>\n",
       "</div>"
      ],
      "text/plain": [
       "          f0         f1        f2\n",
       "0 -15.001348  -8.276000 -0.005876\n",
       "1  14.272088  -3.475083  0.999183\n",
       "2   6.263187  -5.948386  5.001160\n",
       "3 -13.081196 -11.506057  4.999415\n",
       "4  12.702195  -8.147433  5.004363"
      ]
     },
     "execution_count": 17,
     "metadata": {},
     "output_type": "execute_result"
    }
   ],
   "source": [
    "scaler = StandardScaler()\n",
    "scaler.fit(features_train2[numeric])\n",
    "features_train1[numeric] = scaler.transform(features_train1[numeric])\n",
    "features_valid1[numeric] = scaler.transform(features_valid1[numeric])\n",
    "features1.head()"
   ]
  },
  {
   "cell_type": "code",
   "execution_count": 18,
   "metadata": {},
   "outputs": [
    {
     "data": {
      "text/html": [
       "<div>\n",
       "<style scoped>\n",
       "    .dataframe tbody tr th:only-of-type {\n",
       "        vertical-align: middle;\n",
       "    }\n",
       "\n",
       "    .dataframe tbody tr th {\n",
       "        vertical-align: top;\n",
       "    }\n",
       "\n",
       "    .dataframe thead th {\n",
       "        text-align: right;\n",
       "    }\n",
       "</style>\n",
       "<table border=\"1\" class=\"dataframe\">\n",
       "  <thead>\n",
       "    <tr style=\"text-align: right;\">\n",
       "      <th></th>\n",
       "      <th>f0</th>\n",
       "      <th>f1</th>\n",
       "      <th>f2</th>\n",
       "    </tr>\n",
       "  </thead>\n",
       "  <tbody>\n",
       "    <tr>\n",
       "      <th>0</th>\n",
       "      <td>-1.146987</td>\n",
       "      <td>0.963328</td>\n",
       "      <td>-0.828965</td>\n",
       "    </tr>\n",
       "    <tr>\n",
       "      <th>1</th>\n",
       "      <td>0.262778</td>\n",
       "      <td>0.269839</td>\n",
       "      <td>-2.530187</td>\n",
       "    </tr>\n",
       "    <tr>\n",
       "      <th>2</th>\n",
       "      <td>0.194587</td>\n",
       "      <td>0.289035</td>\n",
       "      <td>-5.586433</td>\n",
       "    </tr>\n",
       "    <tr>\n",
       "      <th>3</th>\n",
       "      <td>2.236060</td>\n",
       "      <td>-0.553760</td>\n",
       "      <td>0.930038</td>\n",
       "    </tr>\n",
       "    <tr>\n",
       "      <th>4</th>\n",
       "      <td>-0.515993</td>\n",
       "      <td>1.716266</td>\n",
       "      <td>5.899011</td>\n",
       "    </tr>\n",
       "  </tbody>\n",
       "</table>\n",
       "</div>"
      ],
      "text/plain": [
       "         f0        f1        f2\n",
       "0 -1.146987  0.963328 -0.828965\n",
       "1  0.262778  0.269839 -2.530187\n",
       "2  0.194587  0.289035 -5.586433\n",
       "3  2.236060 -0.553760  0.930038\n",
       "4 -0.515993  1.716266  5.899011"
      ]
     },
     "execution_count": 18,
     "metadata": {},
     "output_type": "execute_result"
    }
   ],
   "source": [
    "scaler = StandardScaler()\n",
    "scaler.fit(features_train2[numeric])\n",
    "features_train2[numeric] = scaler.transform(features_train2[numeric])\n",
    "features_valid2[numeric] = scaler.transform(features_valid2[numeric])\n",
    "features2.head()"
   ]
  },
  {
   "cell_type": "code",
   "execution_count": 19,
   "metadata": {},
   "outputs": [
    {
     "data": {
      "text/plain": [
       "LinearRegression()"
      ]
     },
     "execution_count": 19,
     "metadata": {},
     "output_type": "execute_result"
    }
   ],
   "source": [
    "model0 = LinearRegression()\n",
    "model0.fit(features_train0, target_train0)"
   ]
  },
  {
   "cell_type": "code",
   "execution_count": 20,
   "metadata": {},
   "outputs": [
    {
     "data": {
      "text/plain": [
       "LinearRegression()"
      ]
     },
     "execution_count": 20,
     "metadata": {},
     "output_type": "execute_result"
    }
   ],
   "source": [
    "model1 = LinearRegression()\n",
    "model1.fit(features_train1, target_train1)"
   ]
  },
  {
   "cell_type": "code",
   "execution_count": 21,
   "metadata": {},
   "outputs": [
    {
     "data": {
      "text/plain": [
       "LinearRegression()"
      ]
     },
     "execution_count": 21,
     "metadata": {},
     "output_type": "execute_result"
    }
   ],
   "source": [
    "model2 = LinearRegression()\n",
    "model2.fit(features_train2, target_train2)"
   ]
  },
  {
   "cell_type": "code",
   "execution_count": 22,
   "metadata": {},
   "outputs": [
    {
     "data": {
      "text/plain": [
       "37.5794217150813"
      ]
     },
     "execution_count": 22,
     "metadata": {},
     "output_type": "execute_result"
    }
   ],
   "source": [
    "predicted_valid0 = model0.predict(features_valid0)\n",
    "mse = mean_squared_error(target_valid0, predicted_valid0)\n",
    "rmse0 = mse ** 0.5\n",
    "rmse0"
   ]
  },
  {
   "cell_type": "code",
   "execution_count": 41,
   "metadata": {},
   "outputs": [
    {
     "data": {
      "text/plain": [
       "array([ 95.89495185,  77.57258261,  77.89263965, ...,  61.50983303,\n",
       "       118.18039721, 118.16939229])"
      ]
     },
     "execution_count": 41,
     "metadata": {},
     "output_type": "execute_result"
    }
   ],
   "source": [
    "predicted_valid0"
   ]
  },
  {
   "cell_type": "code",
   "execution_count": 24,
   "metadata": {},
   "outputs": [
    {
     "data": {
      "text/plain": [
       "0.893099286775617"
      ]
     },
     "execution_count": 24,
     "metadata": {},
     "output_type": "execute_result"
    }
   ],
   "source": [
    "predicted_valid1 = model1.predict(features_valid1)\n",
    "mse = mean_squared_error(target_valid1, predicted_valid1)\n",
    "rmse1 = mse ** 0.5\n",
    "rmse1"
   ]
  },
  {
   "cell_type": "code",
   "execution_count": 25,
   "metadata": {},
   "outputs": [
    {
     "data": {
      "text/plain": [
       "40.02970873393434"
      ]
     },
     "execution_count": 25,
     "metadata": {},
     "output_type": "execute_result"
    }
   ],
   "source": [
    "predicted_valid2 = model2.predict(features_valid2)\n",
    "mse = mean_squared_error(target_valid2, predicted_valid2)\n",
    "rmse2 = mse ** 0.5\n",
    "rmse2"
   ]
  },
  {
   "cell_type": "code",
   "execution_count": 26,
   "metadata": {},
   "outputs": [
    {
     "data": {
      "text/plain": [
       "0.27994321524487786"
      ]
     },
     "execution_count": 26,
     "metadata": {},
     "output_type": "execute_result"
    }
   ],
   "source": [
    "r2 = r2_score(target_valid0, predicted_valid0)\n",
    "r2"
   ]
  },
  {
   "cell_type": "code",
   "execution_count": 27,
   "metadata": {},
   "outputs": [
    {
     "data": {
      "text/plain": [
       "0.9996233978805127"
      ]
     },
     "execution_count": 27,
     "metadata": {},
     "output_type": "execute_result"
    }
   ],
   "source": [
    "r2 = r2_score(target_valid1, predicted_valid1)\n",
    "r2"
   ]
  },
  {
   "cell_type": "code",
   "execution_count": 28,
   "metadata": {},
   "outputs": [
    {
     "data": {
      "text/plain": [
       "0.20524758386040443"
      ]
     },
     "execution_count": 28,
     "metadata": {},
     "output_type": "execute_result"
    }
   ],
   "source": [
    "r2 = r2_score(target_valid2, predicted_valid2)\n",
    "r2"
   ]
  },
  {
   "cell_type": "code",
   "execution_count": 29,
   "metadata": {},
   "outputs": [
    {
     "name": "stdout",
     "output_type": "stream",
     "text": [
      "средний запас сырья: 92.59256778438035 \n",
      "настоящий средний запас сырья: 92.07859674082927 \n",
      "rmse модели: 37.5794217150813\n"
     ]
    }
   ],
   "source": [
    "print('средний запас сырья:', predicted_valid0.mean(), '\\nнастоящий средний запас сырья:', target_valid0.mean(), '\\nrmse модели:', rmse0)"
   ]
  },
  {
   "cell_type": "code",
   "execution_count": 30,
   "metadata": {},
   "outputs": [
    {
     "name": "stdout",
     "output_type": "stream",
     "text": [
      "средний запас сырья: 68.72854689544602 \n",
      "настоящий средний запас сырья: 68.72313602435997 \n",
      "rmse модели: 0.893099286775617\n"
     ]
    }
   ],
   "source": [
    "print('средний запас сырья:', predicted_valid1.mean(), '\\nнастоящий средний запас сырья:', target_valid1.mean(), '\\nrmse модели:', rmse1)"
   ]
  },
  {
   "cell_type": "code",
   "execution_count": 31,
   "metadata": {},
   "outputs": [
    {
     "name": "stdout",
     "output_type": "stream",
     "text": [
      "средний запас сырья: 94.96504596800489 \n",
      "настоящий средний запас сырья: 94.88423280885438 \n",
      "rmse модели: 40.02970873393434\n"
     ]
    }
   ],
   "source": [
    "print('средний запас сырья:', predicted_valid2.mean(), '\\nнастоящий средний запас сырья:', target_valid2.mean(), '\\nrmse модели:', rmse2)"
   ]
  },
  {
   "cell_type": "markdown",
   "metadata": {},
   "source": [
    "Ну вроде как результат неплохой, модель правильно обучилась"
   ]
  },
  {
   "cell_type": "markdown",
   "metadata": {},
   "source": [
    "## Подготовка к расчёту прибыли"
   ]
  },
  {
   "cell_type": "code",
   "execution_count": 32,
   "metadata": {},
   "outputs": [],
   "source": [
    "INVEST = 10**7\n",
    "PRICE_PP = 450"
   ]
  },
  {
   "cell_type": "markdown",
   "metadata": {},
   "source": [
    "все единицы в тысячах, для более удобных рассчетов, price_pp -> price per point (тыс баррелей)"
   ]
  },
  {
   "cell_type": "code",
   "execution_count": 33,
   "metadata": {},
   "outputs": [
    {
     "name": "stdout",
     "output_type": "stream",
     "text": [
      "profitable_amount to develop a site 22222.22 profitable to develop per oil well 111.11\n"
     ]
    }
   ],
   "source": [
    "profitable_amount = INVEST / PRICE_PP\n",
    "print('profitable_amount to develop a site', round(profitable_amount, 2), 'profitable to develop per oil well', round(profitable_amount/200, 2))"
   ]
  },
  {
   "cell_type": "markdown",
   "metadata": {},
   "source": [
    "выходит, что для безубыточного бурения нужно 2222.23 тыс баррелей получить"
   ]
  },
  {
   "cell_type": "code",
   "execution_count": 34,
   "metadata": {},
   "outputs": [
    {
     "name": "stdout",
     "output_type": "stream",
     "text": [
      "92.50000000000001 68.82500000000002 95.00000000000004\n"
     ]
    }
   ],
   "source": [
    "avg0 = df0['product'].mean()\n",
    "avg1 = df1['product'].mean()\n",
    "avg2 = df2['product'].mean()\n",
    "print(avg0, avg1, avg2)"
   ]
  },
  {
   "cell_type": "markdown",
   "metadata": {},
   "source": [
    "получается что любой из регионов в среднем будет неприбыльным, если не брать только лучшие скважины"
   ]
  },
  {
   "cell_type": "markdown",
   "metadata": {},
   "source": [
    "## Расчёт прибыли и рисков "
   ]
  },
  {
   "cell_type": "code",
   "execution_count": 35,
   "metadata": {},
   "outputs": [],
   "source": [
    "def count_profit(model, features, target):\n",
    "    predicted_valid = model.predict(features)\n",
    "    \n",
    "    matrix = pd.DataFrame({'pred': predicted_valid, 'true': target})\n",
    "    matrix = matrix.sort_values(by='pred', ascending=False)\n",
    "    best200 = matrix.head(200)\n",
    "    predicted_200_true = best200['true']\n",
    "\n",
    "    return round(sum(predicted_200_true) * 450 )\n"
   ]
  },
  {
   "cell_type": "code",
   "execution_count": 36,
   "metadata": {},
   "outputs": [],
   "source": [
    "def quant(values):\n",
    "    lower = round(np.quantile(values, 0.025))\n",
    "    upper = round(np.quantile(values, 0.975))\n",
    "    return f\"95% confidence interval: {lower}, {upper}\""
   ]
  },
  {
   "cell_type": "code",
   "execution_count": 37,
   "metadata": {},
   "outputs": [],
   "source": [
    "state = np.random.RandomState(12345)\n",
    "values0 = []\n",
    "values1 = []\n",
    "values2 = []\n",
    "for i in range(1000):\n",
    "    \n",
    "    subsample = features_valid0.sample(n=500, replace=True, random_state=state)\n",
    "    target = target_valid0.loc[subsample.index]\n",
    "    gross = count_profit(model0, subsample, target)\n",
    "    net = gross - (10**7)\n",
    "    values0.append(net)\n",
    "                                        \n",
    "    subsample = features_valid1.sample(n=500, replace=True, random_state=state)\n",
    "    target = target_valid1.loc[subsample.index]\n",
    "    gross = count_profit(model1, subsample, target)\n",
    "    net = gross - (INVEST)\n",
    "    values1.append(net)\n",
    "                                        \n",
    "    subsample = features_valid2.sample(n=500, replace=True, random_state=state)\n",
    "    target = target_valid2.loc[subsample.index]\n",
    "    gross = count_profit(model2, subsample, target)\n",
    "    net = gross - (INVEST)\n",
    "    values2.append(net)\n"
   ]
  },
  {
   "cell_type": "code",
   "execution_count": 38,
   "metadata": {},
   "outputs": [
    {
     "name": "stdout",
     "output_type": "stream",
     "text": [
      "loss chance: 8.3 %, this region df0 isnt optimal for digging wells\n"
     ]
    }
   ],
   "source": [
    "integer_array = np.array(values0)\n",
    "threshold = np.sum(integer_array < 0)\n",
    "mean = integer_array.mean()\n",
    "if threshold > 75:\n",
    "    print('loss chance:', threshold/10,'%, this region df0 isnt optimal for digging wells')\n",
    "else:\n",
    "    print('df0 is suitable for digging wells\\n', mean,\n",
    "          'is the mean net profit for this region\\n loss chance:', threshold/10, '%\\n',\n",
    "          quant(values0)\n",
    "         )\n",
    "    "
   ]
  },
  {
   "cell_type": "code",
   "execution_count": 39,
   "metadata": {},
   "outputs": [
    {
     "name": "stdout",
     "output_type": "stream",
     "text": [
      "df1 is suitable for digging wells\n",
      " 455016.069 is the mean net profit for this region\n",
      " loss chance: 1.5 %\n",
      " 95% confidence interval: 48072, 848710\n"
     ]
    }
   ],
   "source": [
    "integer_array = np.array(values1)\n",
    "threshold = np.sum(integer_array < 0)\n",
    "mean = integer_array.mean()\n",
    "if threshold > 75:\n",
    "    print('loss chance:', threshold/10,'%, this region df1 isnt optimal for digging wells')\n",
    "else:\n",
    "    print('df1 is suitable for digging wells\\n', mean,\n",
    "          'is the mean net profit for this region\\n loss chance:', threshold/10, '%\\n',\n",
    "          quant(values1)\n",
    "         )"
   ]
  },
  {
   "cell_type": "code",
   "execution_count": 40,
   "metadata": {},
   "outputs": [
    {
     "name": "stdout",
     "output_type": "stream",
     "text": [
      "loss chance: 9.0 %, this region df2 isnt optimal for digging wells\n"
     ]
    }
   ],
   "source": [
    "integer_array = np.array(values2)\n",
    "threshold = np.sum(integer_array < 0)\n",
    "mean = integer_array.mean()\n",
    "if threshold > 75:\n",
    "    print('loss chance:', threshold/10,'%, this region df2 isnt optimal for digging wells')\n",
    "else:\n",
    "    print('df2 is suitable for digging wells\\n', mean,\n",
    "          'is the mean net profit for this region\\n loss chance:', threshold/10, '%\\n',\n",
    "          quant(values2)\n",
    "         )"
   ]
  },
  {
   "cell_type": "markdown",
   "metadata": {},
   "source": [
    "## Вывод"
   ]
  },
  {
   "cell_type": "markdown",
   "metadata": {},
   "source": [
    "Получается, что 2 регион является наиболее оптимальным для добычи нефти <2.5% вероятности уйти в убыток, там наименее прибыльные в среднем месторождения, но видимо большой разброс, есть много с малым количеством, но есть и большим, чем в других регионах  \n",
    "и из всех 3 по бутстрапу получается наилучшим"
   ]
  }
 ],
 "metadata": {
  "ExecuteTimeLog": [
   {
    "duration": 1656,
    "start_time": "2024-05-23T11:29:08.262Z"
   },
   {
    "duration": 1676,
    "start_time": "2024-05-23T11:29:10.623Z"
   },
   {
    "duration": 17,
    "start_time": "2024-05-23T11:29:16.963Z"
   },
   {
    "duration": 13,
    "start_time": "2024-05-23T11:30:44.365Z"
   },
   {
    "duration": 11,
    "start_time": "2024-05-23T11:30:57.654Z"
   },
   {
    "duration": 19,
    "start_time": "2024-05-23T11:32:26.103Z"
   },
   {
    "duration": 47,
    "start_time": "2024-05-23T11:32:41.409Z"
   },
   {
    "duration": 23,
    "start_time": "2024-05-23T11:35:14.111Z"
   },
   {
    "duration": 118,
    "start_time": "2024-05-23T11:35:54.625Z"
   },
   {
    "duration": 428,
    "start_time": "2024-05-23T11:36:11.002Z"
   },
   {
    "duration": 39,
    "start_time": "2024-05-23T11:36:11.656Z"
   },
   {
    "duration": 27,
    "start_time": "2024-05-23T11:36:12.778Z"
   },
   {
    "duration": 16,
    "start_time": "2024-05-23T11:36:33.756Z"
   },
   {
    "duration": 395,
    "start_time": "2024-05-23T11:36:44.827Z"
   },
   {
    "duration": 46,
    "start_time": "2024-05-23T11:36:45.416Z"
   },
   {
    "duration": 21,
    "start_time": "2024-05-23T11:36:46.025Z"
   },
   {
    "duration": 8,
    "start_time": "2024-05-23T11:37:58.752Z"
   },
   {
    "duration": 112,
    "start_time": "2024-05-23T11:38:14.478Z"
   },
   {
    "duration": 584,
    "start_time": "2024-05-23T11:38:26.902Z"
   },
   {
    "duration": 408,
    "start_time": "2024-05-23T11:40:18.511Z"
   },
   {
    "duration": 13,
    "start_time": "2024-05-23T13:35:14.862Z"
   },
   {
    "duration": 9,
    "start_time": "2024-05-23T13:35:22.741Z"
   },
   {
    "duration": 2,
    "start_time": "2024-05-23T13:35:25.222Z"
   },
   {
    "duration": 35,
    "start_time": "2024-05-23T13:35:26.248Z"
   },
   {
    "duration": 5,
    "start_time": "2024-05-23T13:37:21.423Z"
   },
   {
    "duration": 27,
    "start_time": "2024-05-23T13:37:21.918Z"
   },
   {
    "duration": 35,
    "start_time": "2024-05-23T13:37:50.975Z"
   },
   {
    "duration": 25,
    "start_time": "2024-05-23T13:38:01.411Z"
   },
   {
    "duration": 24,
    "start_time": "2024-05-23T13:38:12.321Z"
   },
   {
    "duration": 24,
    "start_time": "2024-05-23T13:38:45.206Z"
   },
   {
    "duration": 12,
    "start_time": "2024-05-23T13:55:06.511Z"
   },
   {
    "duration": 4,
    "start_time": "2024-05-23T13:55:11.978Z"
   },
   {
    "duration": 26,
    "start_time": "2024-05-23T13:55:15.889Z"
   },
   {
    "duration": 12,
    "start_time": "2024-05-23T13:55:17.521Z"
   },
   {
    "duration": 10,
    "start_time": "2024-05-23T13:55:38.451Z"
   },
   {
    "duration": 3,
    "start_time": "2024-05-23T13:59:23.278Z"
   },
   {
    "duration": 5,
    "start_time": "2024-05-23T13:59:56.049Z"
   },
   {
    "duration": 6,
    "start_time": "2024-05-23T13:59:58.698Z"
   },
   {
    "duration": 5,
    "start_time": "2024-05-23T14:03:20.738Z"
   },
   {
    "duration": 4,
    "start_time": "2024-05-23T14:04:38.188Z"
   },
   {
    "duration": 5,
    "start_time": "2024-05-23T14:05:13.856Z"
   },
   {
    "duration": 110,
    "start_time": "2024-05-23T14:16:12.146Z"
   },
   {
    "duration": 11,
    "start_time": "2024-05-23T14:59:18.902Z"
   },
   {
    "duration": 2,
    "start_time": "2024-05-23T14:59:22.760Z"
   },
   {
    "duration": 4,
    "start_time": "2024-05-23T14:59:23.428Z"
   },
   {
    "duration": 2,
    "start_time": "2024-05-23T14:59:35.695Z"
   },
   {
    "duration": 4,
    "start_time": "2024-05-23T14:59:36.546Z"
   },
   {
    "duration": 7,
    "start_time": "2024-05-23T15:02:20.318Z"
   },
   {
    "duration": 4,
    "start_time": "2024-05-23T15:06:31.650Z"
   },
   {
    "duration": 4,
    "start_time": "2024-05-23T15:06:44.673Z"
   },
   {
    "duration": 3,
    "start_time": "2024-05-23T15:06:57.712Z"
   },
   {
    "duration": 4,
    "start_time": "2024-05-23T15:07:12.060Z"
   },
   {
    "duration": 13,
    "start_time": "2024-05-23T15:32:24.761Z"
   },
   {
    "duration": 11,
    "start_time": "2024-05-23T15:32:33.226Z"
   },
   {
    "duration": 14,
    "start_time": "2024-05-23T15:32:42.954Z"
   },
   {
    "duration": 8,
    "start_time": "2024-05-23T15:32:51.959Z"
   },
   {
    "duration": 49,
    "start_time": "2024-05-23T15:33:47.821Z"
   },
   {
    "duration": 8,
    "start_time": "2024-05-23T15:34:21.227Z"
   },
   {
    "duration": 16,
    "start_time": "2024-05-23T15:35:22.464Z"
   },
   {
    "duration": 16,
    "start_time": "2024-05-23T15:35:30.467Z"
   },
   {
    "duration": 15,
    "start_time": "2024-05-23T15:35:45.167Z"
   },
   {
    "duration": 82,
    "start_time": "2024-05-23T15:35:50.988Z"
   },
   {
    "duration": 14,
    "start_time": "2024-05-23T15:35:54.234Z"
   },
   {
    "duration": 18,
    "start_time": "2024-05-23T15:35:57.318Z"
   },
   {
    "duration": 15,
    "start_time": "2024-05-23T15:36:02.763Z"
   },
   {
    "duration": 17,
    "start_time": "2024-05-23T15:37:06.456Z"
   },
   {
    "duration": 53,
    "start_time": "2024-05-23T15:37:24.018Z"
   },
   {
    "duration": 81,
    "start_time": "2024-05-23T15:37:41.089Z"
   },
   {
    "duration": 124,
    "start_time": "2024-05-23T15:40:55.851Z"
   },
   {
    "duration": 68,
    "start_time": "2024-05-23T15:44:53.603Z"
   },
   {
    "duration": 16,
    "start_time": "2024-05-23T15:44:59.125Z"
   },
   {
    "duration": 102,
    "start_time": "2024-05-23T15:45:05.674Z"
   },
   {
    "duration": 88,
    "start_time": "2024-05-23T15:49:38.983Z"
   },
   {
    "duration": 17,
    "start_time": "2024-05-23T15:49:43.534Z"
   },
   {
    "duration": 15,
    "start_time": "2024-05-23T15:49:48.511Z"
   },
   {
    "duration": 61,
    "start_time": "2024-05-23T15:49:56.110Z"
   },
   {
    "duration": 18,
    "start_time": "2024-05-23T15:50:06.151Z"
   },
   {
    "duration": 135,
    "start_time": "2024-05-23T15:50:13.044Z"
   },
   {
    "duration": 90,
    "start_time": "2024-05-23T15:50:25.581Z"
   },
   {
    "duration": 72,
    "start_time": "2024-05-23T15:50:32.799Z"
   },
   {
    "duration": 24,
    "start_time": "2024-05-23T15:50:38.064Z"
   },
   {
    "duration": 24,
    "start_time": "2024-05-23T16:05:14.264Z"
   },
   {
    "duration": 84,
    "start_time": "2024-05-23T16:05:23.988Z"
   },
   {
    "duration": 21,
    "start_time": "2024-05-23T16:05:28.062Z"
   },
   {
    "duration": 32,
    "start_time": "2024-05-23T16:05:33.141Z"
   },
   {
    "duration": 71,
    "start_time": "2024-05-23T16:06:08.303Z"
   },
   {
    "duration": 31,
    "start_time": "2024-05-23T16:06:57.943Z"
   },
   {
    "duration": 67,
    "start_time": "2024-05-23T16:07:34.104Z"
   },
   {
    "duration": 20,
    "start_time": "2024-05-23T16:07:45.156Z"
   },
   {
    "duration": 127,
    "start_time": "2024-05-23T16:07:53.543Z"
   },
   {
    "duration": 55,
    "start_time": "2024-05-23T16:08:00.420Z"
   },
   {
    "duration": 32,
    "start_time": "2024-05-23T16:08:25.439Z"
   },
   {
    "duration": 54,
    "start_time": "2024-05-23T16:08:31.117Z"
   },
   {
    "duration": 61,
    "start_time": "2024-05-23T16:09:06.910Z"
   },
   {
    "duration": 89,
    "start_time": "2024-05-23T16:09:30.685Z"
   },
   {
    "duration": 63,
    "start_time": "2024-05-23T16:09:36.608Z"
   },
   {
    "duration": 25,
    "start_time": "2024-05-23T16:10:25.545Z"
   },
   {
    "duration": 21,
    "start_time": "2024-05-23T16:10:28.749Z"
   },
   {
    "duration": 49,
    "start_time": "2024-05-23T16:10:33.321Z"
   },
   {
    "duration": 73,
    "start_time": "2024-05-23T16:11:32.199Z"
   },
   {
    "duration": 180,
    "start_time": "2024-05-23T16:12:12.895Z"
   },
   {
    "duration": 91,
    "start_time": "2024-05-23T16:12:26.584Z"
   },
   {
    "duration": 258,
    "start_time": "2024-05-23T16:13:11.825Z"
   },
   {
    "duration": 49,
    "start_time": "2024-05-23T17:15:36.529Z"
   },
   {
    "duration": 28,
    "start_time": "2024-05-23T17:15:50.831Z"
   },
   {
    "duration": 6021,
    "start_time": "2024-05-23T17:18:08.979Z"
   },
   {
    "duration": 6335,
    "start_time": "2024-05-23T17:19:02.004Z"
   },
   {
    "duration": 5,
    "start_time": "2024-05-23T17:19:49.471Z"
   },
   {
    "duration": 5,
    "start_time": "2024-05-23T17:19:50.180Z"
   },
   {
    "duration": 5,
    "start_time": "2024-05-23T17:19:51.217Z"
   },
   {
    "duration": 5,
    "start_time": "2024-05-23T17:20:55.322Z"
   },
   {
    "duration": 6,
    "start_time": "2024-05-23T17:20:56.030Z"
   },
   {
    "duration": 5,
    "start_time": "2024-05-23T17:20:56.680Z"
   },
   {
    "duration": 1433,
    "start_time": "2024-05-23T17:22:12.630Z"
   },
   {
    "duration": 436,
    "start_time": "2024-05-23T17:22:14.065Z"
   },
   {
    "duration": 46,
    "start_time": "2024-05-23T17:22:14.503Z"
   },
   {
    "duration": 144,
    "start_time": "2024-05-23T17:22:14.551Z"
   },
   {
    "duration": 448,
    "start_time": "2024-05-23T17:22:14.697Z"
   },
   {
    "duration": 2,
    "start_time": "2024-05-23T17:22:15.147Z"
   },
   {
    "duration": 55,
    "start_time": "2024-05-23T17:22:15.150Z"
   },
   {
    "duration": 4,
    "start_time": "2024-05-23T17:22:15.207Z"
   },
   {
    "duration": 51,
    "start_time": "2024-05-23T17:22:15.213Z"
   },
   {
    "duration": 25,
    "start_time": "2024-05-23T17:22:15.265Z"
   },
   {
    "duration": 10,
    "start_time": "2024-05-23T17:22:15.291Z"
   },
   {
    "duration": 282,
    "start_time": "2024-05-23T17:22:15.302Z"
   },
   {
    "duration": 0,
    "start_time": "2024-05-23T17:22:15.586Z"
   },
   {
    "duration": 0,
    "start_time": "2024-05-23T17:22:15.587Z"
   },
   {
    "duration": 0,
    "start_time": "2024-05-23T17:22:15.588Z"
   },
   {
    "duration": 0,
    "start_time": "2024-05-23T17:22:15.589Z"
   },
   {
    "duration": 0,
    "start_time": "2024-05-23T17:22:15.590Z"
   },
   {
    "duration": 0,
    "start_time": "2024-05-23T17:22:15.591Z"
   },
   {
    "duration": 0,
    "start_time": "2024-05-23T17:22:15.593Z"
   },
   {
    "duration": 0,
    "start_time": "2024-05-23T17:22:15.594Z"
   },
   {
    "duration": 0,
    "start_time": "2024-05-23T17:22:15.595Z"
   },
   {
    "duration": 5,
    "start_time": "2024-05-23T17:23:22.608Z"
   },
   {
    "duration": 6,
    "start_time": "2024-05-23T17:23:38.901Z"
   },
   {
    "duration": 1420,
    "start_time": "2024-05-23T17:23:44.768Z"
   },
   {
    "duration": 421,
    "start_time": "2024-05-23T17:23:46.190Z"
   },
   {
    "duration": 45,
    "start_time": "2024-05-23T17:23:46.613Z"
   },
   {
    "duration": 149,
    "start_time": "2024-05-23T17:23:46.660Z"
   },
   {
    "duration": 467,
    "start_time": "2024-05-23T17:23:46.811Z"
   },
   {
    "duration": 3,
    "start_time": "2024-05-23T17:23:47.279Z"
   },
   {
    "duration": 49,
    "start_time": "2024-05-23T17:23:47.284Z"
   },
   {
    "duration": 5,
    "start_time": "2024-05-23T17:23:47.335Z"
   },
   {
    "duration": 47,
    "start_time": "2024-05-23T17:23:47.341Z"
   },
   {
    "duration": 25,
    "start_time": "2024-05-23T17:23:47.390Z"
   },
   {
    "duration": 55,
    "start_time": "2024-05-23T17:23:47.416Z"
   },
   {
    "duration": 100,
    "start_time": "2024-05-23T17:23:47.478Z"
   },
   {
    "duration": 17,
    "start_time": "2024-05-23T17:23:47.580Z"
   },
   {
    "duration": 26,
    "start_time": "2024-05-23T17:23:47.600Z"
   },
   {
    "duration": 124,
    "start_time": "2024-05-23T17:23:47.628Z"
   },
   {
    "duration": 0,
    "start_time": "2024-05-23T17:23:47.753Z"
   },
   {
    "duration": 0,
    "start_time": "2024-05-23T17:23:47.754Z"
   },
   {
    "duration": 0,
    "start_time": "2024-05-23T17:23:47.755Z"
   },
   {
    "duration": 0,
    "start_time": "2024-05-23T17:23:47.756Z"
   },
   {
    "duration": 0,
    "start_time": "2024-05-23T17:23:47.758Z"
   },
   {
    "duration": 0,
    "start_time": "2024-05-23T17:23:47.759Z"
   },
   {
    "duration": 1397,
    "start_time": "2024-05-23T17:24:04.328Z"
   },
   {
    "duration": 415,
    "start_time": "2024-05-23T17:24:05.727Z"
   },
   {
    "duration": 47,
    "start_time": "2024-05-23T17:24:06.146Z"
   },
   {
    "duration": 135,
    "start_time": "2024-05-23T17:24:06.195Z"
   },
   {
    "duration": 452,
    "start_time": "2024-05-23T17:24:06.332Z"
   },
   {
    "duration": 2,
    "start_time": "2024-05-23T17:24:06.786Z"
   },
   {
    "duration": 56,
    "start_time": "2024-05-23T17:24:06.790Z"
   },
   {
    "duration": 5,
    "start_time": "2024-05-23T17:24:06.847Z"
   },
   {
    "duration": 69,
    "start_time": "2024-05-23T17:24:06.853Z"
   },
   {
    "duration": 25,
    "start_time": "2024-05-23T17:24:06.923Z"
   },
   {
    "duration": 22,
    "start_time": "2024-05-23T17:24:06.949Z"
   },
   {
    "duration": 106,
    "start_time": "2024-05-23T17:24:06.973Z"
   },
   {
    "duration": 36,
    "start_time": "2024-05-23T17:24:07.082Z"
   },
   {
    "duration": 9,
    "start_time": "2024-05-23T17:24:07.170Z"
   },
   {
    "duration": 13,
    "start_time": "2024-05-23T17:24:07.181Z"
   },
   {
    "duration": 17,
    "start_time": "2024-05-23T17:24:07.196Z"
   },
   {
    "duration": 368,
    "start_time": "2024-05-23T17:24:07.214Z"
   },
   {
    "duration": 5916,
    "start_time": "2024-05-23T17:24:07.584Z"
   },
   {
    "duration": 4,
    "start_time": "2024-05-23T17:24:13.501Z"
   },
   {
    "duration": 7,
    "start_time": "2024-05-23T17:24:13.507Z"
   },
   {
    "duration": 9,
    "start_time": "2024-05-23T17:24:13.516Z"
   },
   {
    "duration": 1386,
    "start_time": "2024-05-23T17:26:55.184Z"
   },
   {
    "duration": 412,
    "start_time": "2024-05-23T17:26:56.572Z"
   },
   {
    "duration": 45,
    "start_time": "2024-05-23T17:26:56.986Z"
   },
   {
    "duration": 144,
    "start_time": "2024-05-23T17:26:57.033Z"
   },
   {
    "duration": 450,
    "start_time": "2024-05-23T17:26:57.180Z"
   },
   {
    "duration": 5,
    "start_time": "2024-05-23T17:26:57.631Z"
   },
   {
    "duration": 46,
    "start_time": "2024-05-23T17:26:57.637Z"
   },
   {
    "duration": 5,
    "start_time": "2024-05-23T17:26:57.684Z"
   },
   {
    "duration": 32,
    "start_time": "2024-05-23T17:26:57.691Z"
   },
   {
    "duration": 24,
    "start_time": "2024-05-23T17:26:57.725Z"
   },
   {
    "duration": 25,
    "start_time": "2024-05-23T17:26:57.750Z"
   },
   {
    "duration": 102,
    "start_time": "2024-05-23T17:26:57.777Z"
   },
   {
    "duration": 4,
    "start_time": "2024-05-23T17:26:57.971Z"
   },
   {
    "duration": 3,
    "start_time": "2024-05-23T17:26:57.978Z"
   },
   {
    "duration": 5,
    "start_time": "2024-05-23T17:26:57.982Z"
   },
   {
    "duration": 6,
    "start_time": "2024-05-23T17:26:57.988Z"
   },
   {
    "duration": 5,
    "start_time": "2024-05-23T17:26:57.996Z"
   },
   {
    "duration": 6081,
    "start_time": "2024-05-23T17:26:58.002Z"
   },
   {
    "duration": 5,
    "start_time": "2024-05-23T17:27:04.085Z"
   },
   {
    "duration": 29,
    "start_time": "2024-05-23T17:27:04.092Z"
   },
   {
    "duration": 11,
    "start_time": "2024-05-23T17:27:04.122Z"
   },
   {
    "duration": 1385,
    "start_time": "2024-05-23T17:34:51.782Z"
   },
   {
    "duration": 419,
    "start_time": "2024-05-23T17:34:53.169Z"
   },
   {
    "duration": 47,
    "start_time": "2024-05-23T17:34:53.590Z"
   },
   {
    "duration": 141,
    "start_time": "2024-05-23T17:34:53.639Z"
   },
   {
    "duration": 493,
    "start_time": "2024-05-23T17:34:53.782Z"
   },
   {
    "duration": 3,
    "start_time": "2024-05-23T17:34:54.277Z"
   },
   {
    "duration": 49,
    "start_time": "2024-05-23T17:34:54.281Z"
   },
   {
    "duration": 4,
    "start_time": "2024-05-23T17:34:54.332Z"
   },
   {
    "duration": 42,
    "start_time": "2024-05-23T17:34:54.337Z"
   },
   {
    "duration": 37,
    "start_time": "2024-05-23T17:34:54.381Z"
   },
   {
    "duration": 50,
    "start_time": "2024-05-23T17:34:54.420Z"
   },
   {
    "duration": 110,
    "start_time": "2024-05-23T17:34:54.473Z"
   },
   {
    "duration": 22,
    "start_time": "2024-05-23T17:34:54.584Z"
   },
   {
    "duration": 18,
    "start_time": "2024-05-23T17:34:54.608Z"
   },
   {
    "duration": 18,
    "start_time": "2024-05-23T17:34:54.627Z"
   },
   {
    "duration": 23,
    "start_time": "2024-05-23T17:34:54.646Z"
   },
   {
    "duration": 14,
    "start_time": "2024-05-23T17:34:54.671Z"
   },
   {
    "duration": 5999,
    "start_time": "2024-05-23T17:34:54.687Z"
   },
   {
    "duration": 6,
    "start_time": "2024-05-23T17:35:00.688Z"
   },
   {
    "duration": 74,
    "start_time": "2024-05-23T17:35:00.696Z"
   },
   {
    "duration": 38,
    "start_time": "2024-05-23T17:35:00.772Z"
   },
   {
    "duration": 13,
    "start_time": "2024-05-23T19:08:23.160Z"
   },
   {
    "duration": 3,
    "start_time": "2024-05-23T19:08:24.410Z"
   },
   {
    "duration": 1529,
    "start_time": "2024-05-23T20:01:50.679Z"
   },
   {
    "duration": 565,
    "start_time": "2024-05-23T20:01:52.210Z"
   },
   {
    "duration": 39,
    "start_time": "2024-05-23T20:01:52.776Z"
   },
   {
    "duration": 113,
    "start_time": "2024-05-23T20:01:52.818Z"
   },
   {
    "duration": 404,
    "start_time": "2024-05-23T20:01:52.932Z"
   },
   {
    "duration": 3,
    "start_time": "2024-05-23T20:01:53.337Z"
   },
   {
    "duration": 38,
    "start_time": "2024-05-23T20:01:53.341Z"
   },
   {
    "duration": 5,
    "start_time": "2024-05-23T20:01:53.380Z"
   },
   {
    "duration": 34,
    "start_time": "2024-05-23T20:01:53.387Z"
   },
   {
    "duration": 21,
    "start_time": "2024-05-23T20:01:53.424Z"
   },
   {
    "duration": 169,
    "start_time": "2024-05-23T20:01:53.446Z"
   },
   {
    "duration": 5,
    "start_time": "2024-05-23T20:01:53.617Z"
   },
   {
    "duration": 88,
    "start_time": "2024-05-23T20:01:53.624Z"
   },
   {
    "duration": 2,
    "start_time": "2024-05-23T20:01:53.714Z"
   },
   {
    "duration": 4,
    "start_time": "2024-05-23T20:01:53.717Z"
   },
   {
    "duration": 6,
    "start_time": "2024-05-23T20:01:53.722Z"
   },
   {
    "duration": 12,
    "start_time": "2024-05-23T20:01:53.729Z"
   },
   {
    "duration": 5065,
    "start_time": "2024-05-23T20:01:53.742Z"
   },
   {
    "duration": 6,
    "start_time": "2024-05-23T20:01:58.808Z"
   },
   {
    "duration": 6,
    "start_time": "2024-05-23T20:01:58.815Z"
   },
   {
    "duration": 14,
    "start_time": "2024-05-23T20:01:58.822Z"
   },
   {
    "duration": 5077,
    "start_time": "2024-05-23T20:02:59.164Z"
   },
   {
    "duration": 6,
    "start_time": "2024-05-23T20:03:06.281Z"
   },
   {
    "duration": 5,
    "start_time": "2024-05-23T20:03:06.605Z"
   },
   {
    "duration": 4,
    "start_time": "2024-05-23T20:03:06.951Z"
   },
   {
    "duration": 3,
    "start_time": "2024-05-23T20:14:17.242Z"
   },
   {
    "duration": 354,
    "start_time": "2024-05-23T20:14:19.382Z"
   },
   {
    "duration": 122,
    "start_time": "2024-05-23T20:14:19.963Z"
   },
   {
    "duration": 53,
    "start_time": "2024-05-23T20:14:34.810Z"
   },
   {
    "duration": 100,
    "start_time": "2024-05-23T20:16:17.055Z"
   },
   {
    "duration": 10,
    "start_time": "2024-05-23T20:16:30.052Z"
   },
   {
    "duration": 4,
    "start_time": "2024-05-23T21:02:02.169Z"
   },
   {
    "duration": 340,
    "start_time": "2024-05-23T21:02:03.123Z"
   },
   {
    "duration": 64,
    "start_time": "2024-05-23T21:02:03.465Z"
   },
   {
    "duration": 36,
    "start_time": "2024-05-23T21:02:03.950Z"
   },
   {
    "duration": 30,
    "start_time": "2024-05-23T21:02:04.129Z"
   },
   {
    "duration": 36,
    "start_time": "2024-05-23T21:02:04.303Z"
   },
   {
    "duration": 347,
    "start_time": "2024-05-23T21:02:04.650Z"
   },
   {
    "duration": 12,
    "start_time": "2024-05-23T21:02:05.000Z"
   },
   {
    "duration": 4,
    "start_time": "2024-05-23T21:02:05.171Z"
   },
   {
    "duration": 3,
    "start_time": "2024-05-23T21:02:05.354Z"
   },
   {
    "duration": 2,
    "start_time": "2024-05-23T21:02:05.527Z"
   },
   {
    "duration": 18,
    "start_time": "2024-05-23T21:02:05.712Z"
   },
   {
    "duration": 20,
    "start_time": "2024-05-23T21:02:05.867Z"
   },
   {
    "duration": 18,
    "start_time": "2024-05-23T21:02:06.052Z"
   },
   {
    "duration": 11,
    "start_time": "2024-05-23T21:02:06.888Z"
   },
   {
    "duration": 11,
    "start_time": "2024-05-23T21:02:07.071Z"
   },
   {
    "duration": 11,
    "start_time": "2024-05-23T21:02:07.268Z"
   },
   {
    "duration": 10,
    "start_time": "2024-05-23T21:02:07.466Z"
   },
   {
    "duration": 10,
    "start_time": "2024-05-23T21:02:07.621Z"
   },
   {
    "duration": 10,
    "start_time": "2024-05-23T21:02:07.792Z"
   },
   {
    "duration": 7,
    "start_time": "2024-05-23T21:02:07.953Z"
   },
   {
    "duration": 8,
    "start_time": "2024-05-23T21:02:15.778Z"
   },
   {
    "duration": 6,
    "start_time": "2024-05-23T21:02:16.404Z"
   },
   {
    "duration": 5,
    "start_time": "2024-05-23T21:02:51.344Z"
   },
   {
    "duration": 5,
    "start_time": "2024-05-23T21:02:51.876Z"
   },
   {
    "duration": 5,
    "start_time": "2024-05-23T21:02:53.160Z"
   },
   {
    "duration": 4,
    "start_time": "2024-05-23T21:03:05.038Z"
   },
   {
    "duration": 4,
    "start_time": "2024-05-23T21:03:05.712Z"
   },
   {
    "duration": 3,
    "start_time": "2024-05-23T21:03:52.594Z"
   },
   {
    "duration": 4,
    "start_time": "2024-05-23T21:03:53.329Z"
   },
   {
    "duration": 4,
    "start_time": "2024-05-23T21:03:54.067Z"
   },
   {
    "duration": 87,
    "start_time": "2024-05-23T21:04:20.824Z"
   },
   {
    "duration": 6,
    "start_time": "2024-05-23T21:04:21.292Z"
   },
   {
    "duration": 9,
    "start_time": "2024-05-23T21:04:21.758Z"
   },
   {
    "duration": 4,
    "start_time": "2024-05-23T21:04:24.214Z"
   },
   {
    "duration": 3,
    "start_time": "2024-05-23T21:04:24.713Z"
   },
   {
    "duration": 4,
    "start_time": "2024-05-23T21:04:25.192Z"
   },
   {
    "duration": 6,
    "start_time": "2024-05-23T21:05:14.516Z"
   },
   {
    "duration": 9,
    "start_time": "2024-05-23T21:05:15.184Z"
   },
   {
    "duration": 9,
    "start_time": "2024-05-23T21:05:18.442Z"
   },
   {
    "duration": 10,
    "start_time": "2024-05-23T21:05:18.932Z"
   },
   {
    "duration": 9,
    "start_time": "2024-05-23T21:05:19.426Z"
   },
   {
    "duration": 7,
    "start_time": "2024-05-23T21:05:19.996Z"
   },
   {
    "duration": 7,
    "start_time": "2024-05-23T21:05:20.553Z"
   },
   {
    "duration": 7,
    "start_time": "2024-05-23T21:05:21.271Z"
   },
   {
    "duration": 5,
    "start_time": "2024-05-23T21:05:22.055Z"
   },
   {
    "duration": 9,
    "start_time": "2024-05-23T21:05:41.345Z"
   },
   {
    "duration": 9,
    "start_time": "2024-05-23T21:05:43.142Z"
   },
   {
    "duration": 9,
    "start_time": "2024-05-23T21:05:44.672Z"
   },
   {
    "duration": 8,
    "start_time": "2024-05-23T21:05:48.025Z"
   },
   {
    "duration": 7,
    "start_time": "2024-05-23T21:05:49.007Z"
   },
   {
    "duration": 6,
    "start_time": "2024-05-23T21:05:59.074Z"
   },
   {
    "duration": 6,
    "start_time": "2024-05-23T21:05:59.570Z"
   },
   {
    "duration": 9,
    "start_time": "2024-05-23T21:06:00.062Z"
   },
   {
    "duration": 4,
    "start_time": "2024-05-23T21:06:08.581Z"
   },
   {
    "duration": 5,
    "start_time": "2024-05-23T21:06:09.063Z"
   },
   {
    "duration": 4,
    "start_time": "2024-05-23T21:06:09.866Z"
   },
   {
    "duration": 4,
    "start_time": "2024-05-23T21:07:17.542Z"
   },
   {
    "duration": 4,
    "start_time": "2024-05-23T21:07:18.061Z"
   },
   {
    "duration": 3,
    "start_time": "2024-05-23T21:07:18.610Z"
   },
   {
    "duration": 9,
    "start_time": "2024-05-23T21:08:06.178Z"
   },
   {
    "duration": 9,
    "start_time": "2024-05-23T21:08:06.577Z"
   },
   {
    "duration": 9,
    "start_time": "2024-05-23T21:08:06.960Z"
   },
   {
    "duration": 7,
    "start_time": "2024-05-23T21:08:07.411Z"
   },
   {
    "duration": 7,
    "start_time": "2024-05-23T21:08:07.820Z"
   },
   {
    "duration": 6,
    "start_time": "2024-05-23T21:08:08.210Z"
   },
   {
    "duration": 4,
    "start_time": "2024-05-23T21:08:08.563Z"
   },
   {
    "duration": 4,
    "start_time": "2024-05-23T21:08:08.877Z"
   },
   {
    "duration": 5,
    "start_time": "2024-05-23T21:08:09.334Z"
   },
   {
    "duration": 4,
    "start_time": "2024-05-23T21:08:09.713Z"
   },
   {
    "duration": 4,
    "start_time": "2024-05-23T21:08:10.113Z"
   },
   {
    "duration": 4,
    "start_time": "2024-05-23T21:08:10.561Z"
   },
   {
    "duration": 9,
    "start_time": "2024-05-23T21:08:32.444Z"
   },
   {
    "duration": 9,
    "start_time": "2024-05-23T21:08:32.757Z"
   },
   {
    "duration": 9,
    "start_time": "2024-05-23T21:08:32.967Z"
   },
   {
    "duration": 9,
    "start_time": "2024-05-23T21:08:34.982Z"
   },
   {
    "duration": 7,
    "start_time": "2024-05-23T21:08:35.323Z"
   },
   {
    "duration": 7,
    "start_time": "2024-05-23T21:08:35.557Z"
   },
   {
    "duration": 4,
    "start_time": "2024-05-23T21:08:35.763Z"
   },
   {
    "duration": 5,
    "start_time": "2024-05-23T21:08:35.915Z"
   },
   {
    "duration": 4,
    "start_time": "2024-05-23T21:08:36.103Z"
   },
   {
    "duration": 4,
    "start_time": "2024-05-23T21:08:36.277Z"
   },
   {
    "duration": 5,
    "start_time": "2024-05-23T21:08:36.798Z"
   },
   {
    "duration": 4,
    "start_time": "2024-05-23T21:08:37.334Z"
   },
   {
    "duration": 2,
    "start_time": "2024-05-23T21:09:36.485Z"
   },
   {
    "duration": 4,
    "start_time": "2024-05-23T21:09:38.691Z"
   },
   {
    "duration": 5,
    "start_time": "2024-05-23T21:09:43.155Z"
   },
   {
    "duration": 3,
    "start_time": "2024-05-23T21:33:07.744Z"
   },
   {
    "duration": 19,
    "start_time": "2024-05-23T21:34:21.994Z"
   },
   {
    "duration": 218,
    "start_time": "2024-05-23T21:34:44.441Z"
   },
   {
    "duration": 48,
    "start_time": "2024-05-23T21:35:47.672Z"
   },
   {
    "duration": 66,
    "start_time": "2024-05-23T21:38:54.347Z"
   },
   {
    "duration": 61,
    "start_time": "2024-05-23T22:03:36.528Z"
   },
   {
    "duration": 83,
    "start_time": "2024-05-23T22:05:57.932Z"
   },
   {
    "duration": 11,
    "start_time": "2024-05-23T22:06:05.879Z"
   },
   {
    "duration": 17,
    "start_time": "2024-05-23T22:12:50.595Z"
   },
   {
    "duration": 18,
    "start_time": "2024-05-23T22:15:27.675Z"
   },
   {
    "duration": 6721,
    "start_time": "2024-05-23T22:16:22.191Z"
   },
   {
    "duration": 6,
    "start_time": "2024-05-23T22:17:30.607Z"
   },
   {
    "duration": 6,
    "start_time": "2024-05-23T22:17:33.822Z"
   },
   {
    "duration": 6,
    "start_time": "2024-05-23T22:17:35.734Z"
   },
   {
    "duration": 33,
    "start_time": "2024-05-23T22:18:30.879Z"
   },
   {
    "duration": 16,
    "start_time": "2024-05-23T22:18:50.780Z"
   },
   {
    "duration": 14,
    "start_time": "2024-05-23T22:19:13.980Z"
   },
   {
    "duration": 13,
    "start_time": "2024-05-23T22:19:20.711Z"
   },
   {
    "duration": 12,
    "start_time": "2024-05-23T22:19:32.843Z"
   },
   {
    "duration": 13,
    "start_time": "2024-05-23T22:21:03.723Z"
   },
   {
    "duration": 5,
    "start_time": "2024-05-23T22:22:13.328Z"
   },
   {
    "duration": 10114,
    "start_time": "2024-05-23T22:22:52.825Z"
   },
   {
    "duration": 83,
    "start_time": "2024-05-23T22:23:18.136Z"
   },
   {
    "duration": 6864,
    "start_time": "2024-05-23T22:23:18.221Z"
   },
   {
    "duration": 5,
    "start_time": "2024-05-23T22:23:40.575Z"
   },
   {
    "duration": 19,
    "start_time": "2024-05-23T22:25:17.742Z"
   },
   {
    "duration": 11,
    "start_time": "2024-05-23T22:25:29.146Z"
   },
   {
    "duration": 12,
    "start_time": "2024-05-23T22:27:16.955Z"
   },
   {
    "duration": 11,
    "start_time": "2024-05-23T22:30:03.851Z"
   },
   {
    "duration": 6949,
    "start_time": "2024-05-23T22:31:48.273Z"
   },
   {
    "duration": 12,
    "start_time": "2024-05-23T22:31:59.973Z"
   },
   {
    "duration": 2,
    "start_time": "2024-05-23T22:32:26.600Z"
   },
   {
    "duration": 11,
    "start_time": "2024-05-23T22:32:31.854Z"
   },
   {
    "duration": 6908,
    "start_time": "2024-05-23T22:32:33.732Z"
   },
   {
    "duration": 12,
    "start_time": "2024-05-23T22:32:42.975Z"
   },
   {
    "duration": 6954,
    "start_time": "2024-05-23T22:34:08.122Z"
   },
   {
    "duration": 12,
    "start_time": "2024-05-23T22:34:17.967Z"
   },
   {
    "duration": 11,
    "start_time": "2024-05-23T23:20:31.885Z"
   },
   {
    "duration": 6722,
    "start_time": "2024-05-23T23:20:36.469Z"
   },
   {
    "duration": 12,
    "start_time": "2024-05-23T23:20:45.500Z"
   },
   {
    "duration": 12,
    "start_time": "2024-05-23T23:20:52.260Z"
   },
   {
    "duration": 11,
    "start_time": "2024-05-23T23:21:06.967Z"
   },
   {
    "duration": 2,
    "start_time": "2024-05-23T23:21:16.702Z"
   },
   {
    "duration": 13,
    "start_time": "2024-05-23T23:21:26.014Z"
   },
   {
    "duration": 6812,
    "start_time": "2024-05-23T23:21:27.791Z"
   },
   {
    "duration": 12,
    "start_time": "2024-05-23T23:21:39.075Z"
   },
   {
    "duration": 635,
    "start_time": "2024-05-23T23:23:01.455Z"
   },
   {
    "duration": 16,
    "start_time": "2024-05-23T23:23:16.932Z"
   },
   {
    "duration": 11,
    "start_time": "2024-05-23T23:24:00.399Z"
   },
   {
    "duration": 5635,
    "start_time": "2024-05-23T23:24:15.498Z"
   },
   {
    "duration": 12,
    "start_time": "2024-05-23T23:24:26.860Z"
   },
   {
    "duration": 11,
    "start_time": "2024-05-23T23:24:33.111Z"
   },
   {
    "duration": 12,
    "start_time": "2024-05-23T23:24:36.577Z"
   },
   {
    "duration": 78,
    "start_time": "2024-05-23T23:25:09.235Z"
   },
   {
    "duration": 14,
    "start_time": "2024-05-23T23:25:48.137Z"
   },
   {
    "duration": 13,
    "start_time": "2024-05-23T23:26:11.409Z"
   },
   {
    "duration": 13,
    "start_time": "2024-05-23T23:26:59.095Z"
   },
   {
    "duration": 12,
    "start_time": "2024-05-23T23:27:23.012Z"
   },
   {
    "duration": 2,
    "start_time": "2024-05-23T23:27:30.499Z"
   },
   {
    "duration": 3,
    "start_time": "2024-05-23T23:27:34.002Z"
   },
   {
    "duration": 13,
    "start_time": "2024-05-23T23:29:32.357Z"
   },
   {
    "duration": 11,
    "start_time": "2024-05-23T23:29:57.838Z"
   },
   {
    "duration": 12,
    "start_time": "2024-05-23T23:30:45.332Z"
   },
   {
    "duration": 6712,
    "start_time": "2024-05-23T23:32:28.682Z"
   },
   {
    "duration": 12,
    "start_time": "2024-05-23T23:33:20.180Z"
   },
   {
    "duration": 80,
    "start_time": "2024-05-23T23:35:00.934Z"
   },
   {
    "duration": 16,
    "start_time": "2024-05-23T23:35:37.938Z"
   },
   {
    "duration": 59,
    "start_time": "2024-05-23T23:35:46.354Z"
   },
   {
    "duration": 7158,
    "start_time": "2024-05-23T23:36:36.618Z"
   },
   {
    "duration": 12,
    "start_time": "2024-05-23T23:36:46.286Z"
   },
   {
    "duration": 92,
    "start_time": "2024-05-23T23:38:14.524Z"
   },
   {
    "duration": 6724,
    "start_time": "2024-05-23T23:38:16.889Z"
   },
   {
    "duration": 12,
    "start_time": "2024-05-23T23:38:27.212Z"
   },
   {
    "duration": 9,
    "start_time": "2024-05-23T23:38:34.907Z"
   },
   {
    "duration": 4,
    "start_time": "2024-05-23T23:38:54.007Z"
   },
   {
    "duration": 5,
    "start_time": "2024-05-23T23:38:59.841Z"
   },
   {
    "duration": 49,
    "start_time": "2024-05-24T08:46:21.721Z"
   },
   {
    "duration": 8,
    "start_time": "2024-05-24T08:46:24.407Z"
   },
   {
    "duration": 1625,
    "start_time": "2024-05-24T08:46:29.376Z"
   },
   {
    "duration": 602,
    "start_time": "2024-05-24T08:46:31.003Z"
   },
   {
    "duration": 62,
    "start_time": "2024-05-24T08:46:31.607Z"
   },
   {
    "duration": 63,
    "start_time": "2024-05-24T08:46:31.671Z"
   },
   {
    "duration": 33,
    "start_time": "2024-05-24T08:46:31.736Z"
   },
   {
    "duration": 84,
    "start_time": "2024-05-24T08:46:31.771Z"
   },
   {
    "duration": 396,
    "start_time": "2024-05-24T08:46:31.857Z"
   },
   {
    "duration": 4,
    "start_time": "2024-05-24T08:46:32.254Z"
   },
   {
    "duration": 35,
    "start_time": "2024-05-24T08:46:32.259Z"
   },
   {
    "duration": 32,
    "start_time": "2024-05-24T08:46:32.298Z"
   },
   {
    "duration": 8,
    "start_time": "2024-05-24T08:46:32.331Z"
   },
   {
    "duration": 35,
    "start_time": "2024-05-24T08:46:32.341Z"
   },
   {
    "duration": 27,
    "start_time": "2024-05-24T08:46:32.378Z"
   },
   {
    "duration": 18,
    "start_time": "2024-05-24T08:46:32.407Z"
   },
   {
    "duration": 10,
    "start_time": "2024-05-24T08:46:32.427Z"
   },
   {
    "duration": 17,
    "start_time": "2024-05-24T08:46:32.438Z"
   },
   {
    "duration": 13,
    "start_time": "2024-05-24T08:46:32.457Z"
   },
   {
    "duration": 45,
    "start_time": "2024-05-24T08:46:32.472Z"
   },
   {
    "duration": 103,
    "start_time": "2024-05-24T08:46:32.520Z"
   },
   {
    "duration": 93,
    "start_time": "2024-05-24T08:46:32.626Z"
   },
   {
    "duration": 91,
    "start_time": "2024-05-24T08:46:32.721Z"
   },
   {
    "duration": 11,
    "start_time": "2024-05-24T08:46:32.814Z"
   },
   {
    "duration": 94,
    "start_time": "2024-05-24T08:46:32.828Z"
   },
   {
    "duration": 89,
    "start_time": "2024-05-24T08:46:32.924Z"
   },
   {
    "duration": 9,
    "start_time": "2024-05-24T08:46:33.016Z"
   },
   {
    "duration": 5,
    "start_time": "2024-05-24T08:46:33.114Z"
   },
   {
    "duration": 11,
    "start_time": "2024-05-24T08:46:33.121Z"
   },
   {
    "duration": 5,
    "start_time": "2024-05-24T08:46:33.136Z"
   },
   {
    "duration": 5,
    "start_time": "2024-05-24T08:46:33.143Z"
   },
   {
    "duration": 3,
    "start_time": "2024-05-24T08:46:33.150Z"
   },
   {
    "duration": 9,
    "start_time": "2024-05-24T08:46:33.155Z"
   },
   {
    "duration": 48,
    "start_time": "2024-05-24T08:46:33.166Z"
   },
   {
    "duration": 22,
    "start_time": "2024-05-24T08:46:33.216Z"
   },
   {
    "duration": 200,
    "start_time": "2024-05-24T08:46:33.313Z"
   },
   {
    "duration": 0,
    "start_time": "2024-05-24T08:46:33.515Z"
   },
   {
    "duration": 0,
    "start_time": "2024-05-24T08:46:33.517Z"
   },
   {
    "duration": 0,
    "start_time": "2024-05-24T08:46:33.519Z"
   },
   {
    "duration": 0,
    "start_time": "2024-05-24T08:46:33.520Z"
   },
   {
    "duration": 0,
    "start_time": "2024-05-24T08:46:33.521Z"
   },
   {
    "duration": 6877,
    "start_time": "2024-05-24T08:46:39.069Z"
   },
   {
    "duration": 2,
    "start_time": "2024-05-24T08:46:49.428Z"
   },
   {
    "duration": 60,
    "start_time": "2024-05-24T08:47:01.720Z"
   },
   {
    "duration": 4,
    "start_time": "2024-05-24T08:47:14.134Z"
   },
   {
    "duration": 5,
    "start_time": "2024-05-24T08:47:23.819Z"
   },
   {
    "duration": 4,
    "start_time": "2024-05-24T08:47:25.612Z"
   },
   {
    "duration": 4,
    "start_time": "2024-05-24T08:47:45.435Z"
   },
   {
    "duration": 28,
    "start_time": "2024-05-24T08:50:11.619Z"
   },
   {
    "duration": 5802,
    "start_time": "2024-05-24T08:52:10.071Z"
   },
   {
    "duration": 3,
    "start_time": "2024-05-24T08:52:18.057Z"
   },
   {
    "duration": 13,
    "start_time": "2024-05-24T08:52:21.667Z"
   },
   {
    "duration": 8477,
    "start_time": "2024-05-24T08:59:39.850Z"
   },
   {
    "duration": 6633,
    "start_time": "2024-05-24T09:00:11.430Z"
   },
   {
    "duration": 6310,
    "start_time": "2024-05-24T09:00:26.738Z"
   },
   {
    "duration": 22,
    "start_time": "2024-05-24T09:00:50.960Z"
   },
   {
    "duration": 5938,
    "start_time": "2024-05-24T09:01:39.351Z"
   },
   {
    "duration": 13,
    "start_time": "2024-05-24T09:01:48.591Z"
   },
   {
    "duration": 8,
    "start_time": "2024-05-24T09:06:16.965Z"
   },
   {
    "duration": 3,
    "start_time": "2024-05-24T09:10:26.405Z"
   },
   {
    "duration": 4,
    "start_time": "2024-05-24T09:10:31.802Z"
   },
   {
    "duration": 4,
    "start_time": "2024-05-24T09:11:51.191Z"
   },
   {
    "duration": 6069,
    "start_time": "2024-05-24T09:12:10.023Z"
   },
   {
    "duration": 4,
    "start_time": "2024-05-24T09:13:06.832Z"
   },
   {
    "duration": 9,
    "start_time": "2024-05-24T09:23:45.450Z"
   },
   {
    "duration": 4,
    "start_time": "2024-05-24T09:23:58.826Z"
   },
   {
    "duration": 1369,
    "start_time": "2024-05-24T09:27:02.089Z"
   },
   {
    "duration": 386,
    "start_time": "2024-05-24T09:27:03.460Z"
   },
   {
    "duration": 70,
    "start_time": "2024-05-24T09:27:03.847Z"
   },
   {
    "duration": 41,
    "start_time": "2024-05-24T09:27:03.919Z"
   },
   {
    "duration": 54,
    "start_time": "2024-05-24T09:27:03.962Z"
   },
   {
    "duration": 40,
    "start_time": "2024-05-24T09:27:04.017Z"
   },
   {
    "duration": 401,
    "start_time": "2024-05-24T09:27:04.058Z"
   },
   {
    "duration": 3,
    "start_time": "2024-05-24T09:27:04.461Z"
   },
   {
    "duration": 13,
    "start_time": "2024-05-24T09:27:04.465Z"
   },
   {
    "duration": 6,
    "start_time": "2024-05-24T09:27:04.480Z"
   },
   {
    "duration": 11,
    "start_time": "2024-05-24T09:27:04.487Z"
   },
   {
    "duration": 33,
    "start_time": "2024-05-24T09:27:04.499Z"
   },
   {
    "duration": 17,
    "start_time": "2024-05-24T09:27:04.533Z"
   },
   {
    "duration": 17,
    "start_time": "2024-05-24T09:27:04.551Z"
   },
   {
    "duration": 43,
    "start_time": "2024-05-24T09:27:04.569Z"
   },
   {
    "duration": 13,
    "start_time": "2024-05-24T09:27:04.614Z"
   },
   {
    "duration": 33,
    "start_time": "2024-05-24T09:27:04.628Z"
   },
   {
    "duration": 20,
    "start_time": "2024-05-24T09:27:04.662Z"
   },
   {
    "duration": 10,
    "start_time": "2024-05-24T09:27:04.683Z"
   },
   {
    "duration": 23,
    "start_time": "2024-05-24T09:27:04.694Z"
   },
   {
    "duration": 18,
    "start_time": "2024-05-24T09:27:04.719Z"
   },
   {
    "duration": 77,
    "start_time": "2024-05-24T09:27:04.739Z"
   },
   {
    "duration": 98,
    "start_time": "2024-05-24T09:27:04.818Z"
   },
   {
    "duration": 96,
    "start_time": "2024-05-24T09:27:04.918Z"
   },
   {
    "duration": 4,
    "start_time": "2024-05-24T09:27:05.016Z"
   },
   {
    "duration": 16,
    "start_time": "2024-05-24T09:27:05.022Z"
   },
   {
    "duration": 23,
    "start_time": "2024-05-24T09:27:05.039Z"
   },
   {
    "duration": 4,
    "start_time": "2024-05-24T09:27:05.067Z"
   },
   {
    "duration": 6,
    "start_time": "2024-05-24T09:27:05.112Z"
   },
   {
    "duration": 5,
    "start_time": "2024-05-24T09:27:05.120Z"
   },
   {
    "duration": 8,
    "start_time": "2024-05-24T09:27:05.127Z"
   },
   {
    "duration": 24,
    "start_time": "2024-05-24T09:27:05.136Z"
   },
   {
    "duration": 62,
    "start_time": "2024-05-24T09:27:05.161Z"
   },
   {
    "duration": 6025,
    "start_time": "2024-05-24T09:27:05.225Z"
   },
   {
    "duration": 4,
    "start_time": "2024-05-24T09:27:11.251Z"
   },
   {
    "duration": 9,
    "start_time": "2024-05-24T09:27:11.256Z"
   },
   {
    "duration": 73,
    "start_time": "2024-05-24T09:27:11.267Z"
   },
   {
    "duration": 0,
    "start_time": "2024-05-24T09:27:11.342Z"
   },
   {
    "duration": 0,
    "start_time": "2024-05-24T09:27:11.343Z"
   },
   {
    "duration": 1347,
    "start_time": "2024-05-24T09:27:59.511Z"
   },
   {
    "duration": 370,
    "start_time": "2024-05-24T09:28:00.860Z"
   },
   {
    "duration": 60,
    "start_time": "2024-05-24T09:28:01.231Z"
   },
   {
    "duration": 44,
    "start_time": "2024-05-24T09:28:01.311Z"
   },
   {
    "duration": 55,
    "start_time": "2024-05-24T09:28:01.358Z"
   },
   {
    "duration": 42,
    "start_time": "2024-05-24T09:28:01.415Z"
   },
   {
    "duration": 406,
    "start_time": "2024-05-24T09:28:01.458Z"
   },
   {
    "duration": 3,
    "start_time": "2024-05-24T09:28:01.866Z"
   },
   {
    "duration": 6,
    "start_time": "2024-05-24T09:28:01.871Z"
   },
   {
    "duration": 7,
    "start_time": "2024-05-24T09:28:01.878Z"
   },
   {
    "duration": 5,
    "start_time": "2024-05-24T09:28:01.887Z"
   },
   {
    "duration": 21,
    "start_time": "2024-05-24T09:28:01.912Z"
   },
   {
    "duration": 16,
    "start_time": "2024-05-24T09:28:01.935Z"
   },
   {
    "duration": 17,
    "start_time": "2024-05-24T09:28:01.954Z"
   },
   {
    "duration": 40,
    "start_time": "2024-05-24T09:28:01.972Z"
   },
   {
    "duration": 14,
    "start_time": "2024-05-24T09:28:02.013Z"
   },
   {
    "duration": 13,
    "start_time": "2024-05-24T09:28:02.028Z"
   },
   {
    "duration": 23,
    "start_time": "2024-05-24T09:28:02.042Z"
   },
   {
    "duration": 9,
    "start_time": "2024-05-24T09:28:02.066Z"
   },
   {
    "duration": 40,
    "start_time": "2024-05-24T09:28:02.077Z"
   },
   {
    "duration": 9,
    "start_time": "2024-05-24T09:28:02.119Z"
   },
   {
    "duration": 88,
    "start_time": "2024-05-24T09:28:02.130Z"
   },
   {
    "duration": 103,
    "start_time": "2024-05-24T09:28:02.220Z"
   },
   {
    "duration": 88,
    "start_time": "2024-05-24T09:28:02.325Z"
   },
   {
    "duration": 6,
    "start_time": "2024-05-24T09:28:02.415Z"
   },
   {
    "duration": 7,
    "start_time": "2024-05-24T09:28:02.423Z"
   },
   {
    "duration": 5,
    "start_time": "2024-05-24T09:28:02.432Z"
   },
   {
    "duration": 6,
    "start_time": "2024-05-24T09:28:02.439Z"
   },
   {
    "duration": 9,
    "start_time": "2024-05-24T09:28:02.447Z"
   },
   {
    "duration": 11,
    "start_time": "2024-05-24T09:28:02.458Z"
   },
   {
    "duration": 14,
    "start_time": "2024-05-24T09:28:02.471Z"
   },
   {
    "duration": 7,
    "start_time": "2024-05-24T09:28:02.512Z"
   },
   {
    "duration": 192,
    "start_time": "2024-05-24T09:28:02.521Z"
   },
   {
    "duration": 5961,
    "start_time": "2024-05-24T09:28:02.715Z"
   },
   {
    "duration": 4,
    "start_time": "2024-05-24T09:28:08.677Z"
   },
   {
    "duration": 15,
    "start_time": "2024-05-24T09:28:08.683Z"
   },
   {
    "duration": 8,
    "start_time": "2024-05-24T09:28:08.700Z"
   },
   {
    "duration": 14,
    "start_time": "2024-05-24T09:28:08.712Z"
   },
   {
    "duration": 6,
    "start_time": "2024-05-24T09:28:08.728Z"
   },
   {
    "duration": 1412,
    "start_time": "2024-05-24T09:32:05.278Z"
   },
   {
    "duration": 363,
    "start_time": "2024-05-24T09:32:06.692Z"
   },
   {
    "duration": 72,
    "start_time": "2024-05-24T09:32:07.056Z"
   },
   {
    "duration": 42,
    "start_time": "2024-05-24T09:32:07.131Z"
   },
   {
    "duration": 55,
    "start_time": "2024-05-24T09:32:07.174Z"
   },
   {
    "duration": 46,
    "start_time": "2024-05-24T09:32:07.231Z"
   },
   {
    "duration": 392,
    "start_time": "2024-05-24T09:32:07.279Z"
   },
   {
    "duration": 3,
    "start_time": "2024-05-24T09:32:07.673Z"
   },
   {
    "duration": 7,
    "start_time": "2024-05-24T09:32:07.678Z"
   },
   {
    "duration": 6,
    "start_time": "2024-05-24T09:32:07.688Z"
   },
   {
    "duration": 18,
    "start_time": "2024-05-24T09:32:07.695Z"
   },
   {
    "duration": 23,
    "start_time": "2024-05-24T09:32:07.715Z"
   },
   {
    "duration": 18,
    "start_time": "2024-05-24T09:32:07.739Z"
   },
   {
    "duration": 17,
    "start_time": "2024-05-24T09:32:07.758Z"
   },
   {
    "duration": 9,
    "start_time": "2024-05-24T09:32:07.777Z"
   },
   {
    "duration": 36,
    "start_time": "2024-05-24T09:32:07.788Z"
   },
   {
    "duration": 13,
    "start_time": "2024-05-24T09:32:07.825Z"
   },
   {
    "duration": 12,
    "start_time": "2024-05-24T09:32:07.839Z"
   },
   {
    "duration": 9,
    "start_time": "2024-05-24T09:32:07.853Z"
   },
   {
    "duration": 9,
    "start_time": "2024-05-24T09:32:07.863Z"
   },
   {
    "duration": 43,
    "start_time": "2024-05-24T09:32:07.873Z"
   },
   {
    "duration": 103,
    "start_time": "2024-05-24T09:32:07.917Z"
   },
   {
    "duration": 95,
    "start_time": "2024-05-24T09:32:08.021Z"
   },
   {
    "duration": 94,
    "start_time": "2024-05-24T09:32:08.119Z"
   },
   {
    "duration": 99,
    "start_time": "2024-05-24T09:32:08.215Z"
   },
   {
    "duration": 6,
    "start_time": "2024-05-24T09:32:08.315Z"
   },
   {
    "duration": 6,
    "start_time": "2024-05-24T09:32:08.322Z"
   },
   {
    "duration": 5,
    "start_time": "2024-05-24T09:32:08.331Z"
   },
   {
    "duration": 6,
    "start_time": "2024-05-24T09:32:08.337Z"
   },
   {
    "duration": 4,
    "start_time": "2024-05-24T09:32:08.345Z"
   },
   {
    "duration": 7,
    "start_time": "2024-05-24T09:32:08.350Z"
   },
   {
    "duration": 9,
    "start_time": "2024-05-24T09:32:08.359Z"
   },
   {
    "duration": 143,
    "start_time": "2024-05-24T09:32:08.369Z"
   },
   {
    "duration": 6021,
    "start_time": "2024-05-24T09:32:08.517Z"
   },
   {
    "duration": 3,
    "start_time": "2024-05-24T09:32:14.540Z"
   },
   {
    "duration": 7,
    "start_time": "2024-05-24T09:32:14.545Z"
   },
   {
    "duration": 4,
    "start_time": "2024-05-24T09:32:14.554Z"
   },
   {
    "duration": 1340,
    "start_time": "2024-05-24T09:36:13.665Z"
   },
   {
    "duration": 365,
    "start_time": "2024-05-24T09:36:15.007Z"
   },
   {
    "duration": 73,
    "start_time": "2024-05-24T09:36:15.374Z"
   },
   {
    "duration": 66,
    "start_time": "2024-05-24T09:36:15.450Z"
   },
   {
    "duration": 32,
    "start_time": "2024-05-24T09:36:15.517Z"
   },
   {
    "duration": 63,
    "start_time": "2024-05-24T09:36:15.550Z"
   },
   {
    "duration": 391,
    "start_time": "2024-05-24T09:36:15.615Z"
   },
   {
    "duration": 7,
    "start_time": "2024-05-24T09:36:16.007Z"
   },
   {
    "duration": 19,
    "start_time": "2024-05-24T09:36:16.015Z"
   },
   {
    "duration": 6,
    "start_time": "2024-05-24T09:36:16.037Z"
   },
   {
    "duration": 42,
    "start_time": "2024-05-24T09:36:16.045Z"
   },
   {
    "duration": 26,
    "start_time": "2024-05-24T09:36:16.088Z"
   },
   {
    "duration": 16,
    "start_time": "2024-05-24T09:36:16.115Z"
   },
   {
    "duration": 16,
    "start_time": "2024-05-24T09:36:16.133Z"
   },
   {
    "duration": 10,
    "start_time": "2024-05-24T09:36:16.150Z"
   },
   {
    "duration": 13,
    "start_time": "2024-05-24T09:36:16.161Z"
   },
   {
    "duration": 47,
    "start_time": "2024-05-24T09:36:16.175Z"
   },
   {
    "duration": 12,
    "start_time": "2024-05-24T09:36:16.224Z"
   },
   {
    "duration": 9,
    "start_time": "2024-05-24T09:36:16.237Z"
   },
   {
    "duration": 8,
    "start_time": "2024-05-24T09:36:16.248Z"
   },
   {
    "duration": 60,
    "start_time": "2024-05-24T09:36:16.258Z"
   },
   {
    "duration": 94,
    "start_time": "2024-05-24T09:36:16.319Z"
   },
   {
    "duration": 98,
    "start_time": "2024-05-24T09:36:16.415Z"
   },
   {
    "duration": 18,
    "start_time": "2024-05-24T09:36:16.515Z"
   },
   {
    "duration": 5,
    "start_time": "2024-05-24T09:36:16.612Z"
   },
   {
    "duration": 9,
    "start_time": "2024-05-24T09:36:16.618Z"
   },
   {
    "duration": 6,
    "start_time": "2024-05-24T09:36:16.628Z"
   },
   {
    "duration": 5,
    "start_time": "2024-05-24T09:36:16.637Z"
   },
   {
    "duration": 5,
    "start_time": "2024-05-24T09:36:16.643Z"
   },
   {
    "duration": 3,
    "start_time": "2024-05-24T09:36:16.649Z"
   },
   {
    "duration": 5,
    "start_time": "2024-05-24T09:36:16.653Z"
   },
   {
    "duration": 11,
    "start_time": "2024-05-24T09:36:16.659Z"
   },
   {
    "duration": 40,
    "start_time": "2024-05-24T09:36:16.672Z"
   },
   {
    "duration": 5963,
    "start_time": "2024-05-24T09:36:16.714Z"
   },
   {
    "duration": 4,
    "start_time": "2024-05-24T09:36:22.678Z"
   },
   {
    "duration": 5,
    "start_time": "2024-05-24T09:36:22.684Z"
   },
   {
    "duration": 22,
    "start_time": "2024-05-24T09:36:22.690Z"
   },
   {
    "duration": 1355,
    "start_time": "2024-05-24T10:06:51.482Z"
   },
   {
    "duration": 386,
    "start_time": "2024-05-24T10:06:52.839Z"
   },
   {
    "duration": 61,
    "start_time": "2024-05-24T10:06:53.227Z"
   },
   {
    "duration": 58,
    "start_time": "2024-05-24T10:06:53.290Z"
   },
   {
    "duration": 31,
    "start_time": "2024-05-24T10:06:53.350Z"
   },
   {
    "duration": 63,
    "start_time": "2024-05-24T10:06:53.383Z"
   },
   {
    "duration": 428,
    "start_time": "2024-05-24T10:06:53.448Z"
   },
   {
    "duration": 4,
    "start_time": "2024-05-24T10:06:53.877Z"
   },
   {
    "duration": 10,
    "start_time": "2024-05-24T10:06:53.883Z"
   },
   {
    "duration": 6,
    "start_time": "2024-05-24T10:06:53.896Z"
   },
   {
    "duration": 8,
    "start_time": "2024-05-24T10:06:53.919Z"
   },
   {
    "duration": 22,
    "start_time": "2024-05-24T10:06:53.928Z"
   },
   {
    "duration": 17,
    "start_time": "2024-05-24T10:06:53.952Z"
   },
   {
    "duration": 17,
    "start_time": "2024-05-24T10:06:53.970Z"
   },
   {
    "duration": 41,
    "start_time": "2024-05-24T10:06:53.989Z"
   },
   {
    "duration": 14,
    "start_time": "2024-05-24T10:06:54.032Z"
   },
   {
    "duration": 14,
    "start_time": "2024-05-24T10:06:54.048Z"
   },
   {
    "duration": 14,
    "start_time": "2024-05-24T10:06:54.064Z"
   },
   {
    "duration": 10,
    "start_time": "2024-05-24T10:06:54.079Z"
   },
   {
    "duration": 12,
    "start_time": "2024-05-24T10:06:54.112Z"
   },
   {
    "duration": 23,
    "start_time": "2024-05-24T10:06:54.126Z"
   },
   {
    "duration": 74,
    "start_time": "2024-05-24T10:06:54.151Z"
   },
   {
    "duration": 8,
    "start_time": "2024-05-24T10:06:54.227Z"
   },
   {
    "duration": 8,
    "start_time": "2024-05-24T10:06:54.313Z"
   },
   {
    "duration": 98,
    "start_time": "2024-05-24T10:06:54.323Z"
   },
   {
    "duration": 5,
    "start_time": "2024-05-24T10:06:54.424Z"
   },
   {
    "duration": 7,
    "start_time": "2024-05-24T10:06:54.430Z"
   },
   {
    "duration": 4,
    "start_time": "2024-05-24T10:06:54.442Z"
   },
   {
    "duration": 6,
    "start_time": "2024-05-24T10:06:54.448Z"
   },
   {
    "duration": 3,
    "start_time": "2024-05-24T10:06:54.456Z"
   },
   {
    "duration": 4,
    "start_time": "2024-05-24T10:06:54.461Z"
   },
   {
    "duration": 7,
    "start_time": "2024-05-24T10:06:54.467Z"
   },
   {
    "duration": 48,
    "start_time": "2024-05-24T10:06:54.475Z"
   },
   {
    "duration": 6103,
    "start_time": "2024-05-24T10:06:54.525Z"
   },
   {
    "duration": 4,
    "start_time": "2024-05-24T10:07:00.630Z"
   },
   {
    "duration": 14,
    "start_time": "2024-05-24T10:07:00.635Z"
   },
   {
    "duration": 75,
    "start_time": "2024-05-24T10:07:00.650Z"
   },
   {
    "duration": 10848,
    "start_time": "2024-05-24T10:53:20.219Z"
   },
   {
    "duration": 444,
    "start_time": "2024-05-24T10:53:31.069Z"
   },
   {
    "duration": 60,
    "start_time": "2024-05-24T10:53:31.514Z"
   },
   {
    "duration": 97,
    "start_time": "2024-05-24T10:53:31.575Z"
   },
   {
    "duration": 39,
    "start_time": "2024-05-24T10:53:31.674Z"
   },
   {
    "duration": 39,
    "start_time": "2024-05-24T10:53:31.714Z"
   },
   {
    "duration": 447,
    "start_time": "2024-05-24T10:53:31.754Z"
   },
   {
    "duration": 5,
    "start_time": "2024-05-24T10:53:32.205Z"
   },
   {
    "duration": 26,
    "start_time": "2024-05-24T10:53:32.213Z"
   },
   {
    "duration": 18,
    "start_time": "2024-05-24T10:53:32.241Z"
   },
   {
    "duration": 26,
    "start_time": "2024-05-24T10:53:32.261Z"
   },
   {
    "duration": 29,
    "start_time": "2024-05-24T10:53:32.289Z"
   },
   {
    "duration": 17,
    "start_time": "2024-05-24T10:53:32.320Z"
   },
   {
    "duration": 16,
    "start_time": "2024-05-24T10:53:32.340Z"
   },
   {
    "duration": 11,
    "start_time": "2024-05-24T10:53:32.357Z"
   },
   {
    "duration": 56,
    "start_time": "2024-05-24T10:53:32.369Z"
   },
   {
    "duration": 32,
    "start_time": "2024-05-24T10:53:32.426Z"
   },
   {
    "duration": 15,
    "start_time": "2024-05-24T10:53:32.459Z"
   },
   {
    "duration": 18,
    "start_time": "2024-05-24T10:53:32.475Z"
   },
   {
    "duration": 13,
    "start_time": "2024-05-24T10:53:32.495Z"
   },
   {
    "duration": 85,
    "start_time": "2024-05-24T10:53:32.510Z"
   },
   {
    "duration": 103,
    "start_time": "2024-05-24T10:53:32.598Z"
   },
   {
    "duration": 110,
    "start_time": "2024-05-24T10:53:32.704Z"
   },
   {
    "duration": 7,
    "start_time": "2024-05-24T10:53:32.895Z"
   },
   {
    "duration": 107,
    "start_time": "2024-05-24T10:53:32.904Z"
   },
   {
    "duration": 12,
    "start_time": "2024-05-24T10:53:33.013Z"
   },
   {
    "duration": 17,
    "start_time": "2024-05-24T10:53:33.027Z"
   },
   {
    "duration": 45,
    "start_time": "2024-05-24T10:53:33.046Z"
   },
   {
    "duration": 26,
    "start_time": "2024-05-24T10:53:33.092Z"
   },
   {
    "duration": 21,
    "start_time": "2024-05-24T10:53:33.119Z"
   },
   {
    "duration": 23,
    "start_time": "2024-05-24T10:53:33.141Z"
   },
   {
    "duration": 21,
    "start_time": "2024-05-24T10:53:33.166Z"
   },
   {
    "duration": 11,
    "start_time": "2024-05-24T10:53:33.189Z"
   },
   {
    "duration": 7085,
    "start_time": "2024-05-24T10:53:33.202Z"
   },
   {
    "duration": 7,
    "start_time": "2024-05-24T10:53:40.288Z"
   },
   {
    "duration": 27,
    "start_time": "2024-05-24T10:53:40.298Z"
   },
   {
    "duration": 60,
    "start_time": "2024-05-24T10:53:40.326Z"
   },
   {
    "duration": 12,
    "start_time": "2024-05-24T10:53:42.740Z"
   },
   {
    "duration": 134,
    "start_time": "2024-05-24T10:53:53.785Z"
   },
   {
    "duration": 12,
    "start_time": "2024-05-24T10:53:56.163Z"
   },
   {
    "duration": 5,
    "start_time": "2024-05-24T10:53:58.930Z"
   },
   {
    "duration": 7,
    "start_time": "2024-05-24T10:53:59.989Z"
   },
   {
    "duration": 5,
    "start_time": "2024-05-24T10:54:02.145Z"
   },
   {
    "duration": 1637,
    "start_time": "2024-05-25T10:24:01.125Z"
   },
   {
    "duration": 1716,
    "start_time": "2024-05-25T10:24:02.764Z"
   },
   {
    "duration": 71,
    "start_time": "2024-05-25T10:24:04.482Z"
   },
   {
    "duration": 56,
    "start_time": "2024-05-25T10:24:04.555Z"
   },
   {
    "duration": 32,
    "start_time": "2024-05-25T10:24:04.613Z"
   },
   {
    "duration": 62,
    "start_time": "2024-05-25T10:24:04.646Z"
   },
   {
    "duration": 468,
    "start_time": "2024-05-25T10:24:04.710Z"
   },
   {
    "duration": 4,
    "start_time": "2024-05-25T10:24:05.180Z"
   },
   {
    "duration": 16,
    "start_time": "2024-05-25T10:24:05.186Z"
   },
   {
    "duration": 19,
    "start_time": "2024-05-25T10:24:05.204Z"
   },
   {
    "duration": 9,
    "start_time": "2024-05-25T10:24:05.224Z"
   },
   {
    "duration": 29,
    "start_time": "2024-05-25T10:24:05.234Z"
   },
   {
    "duration": 19,
    "start_time": "2024-05-25T10:24:05.265Z"
   },
   {
    "duration": 30,
    "start_time": "2024-05-25T10:24:05.287Z"
   },
   {
    "duration": 12,
    "start_time": "2024-05-25T10:24:05.319Z"
   },
   {
    "duration": 18,
    "start_time": "2024-05-25T10:24:05.332Z"
   },
   {
    "duration": 18,
    "start_time": "2024-05-25T10:24:05.351Z"
   },
   {
    "duration": 34,
    "start_time": "2024-05-25T10:24:05.371Z"
   },
   {
    "duration": 265,
    "start_time": "2024-05-25T10:24:05.408Z"
   },
   {
    "duration": 161,
    "start_time": "2024-05-25T10:24:05.675Z"
   },
   {
    "duration": 74,
    "start_time": "2024-05-25T10:24:05.837Z"
   },
   {
    "duration": 101,
    "start_time": "2024-05-25T10:24:06.000Z"
   },
   {
    "duration": 103,
    "start_time": "2024-05-25T10:24:06.105Z"
   },
   {
    "duration": 85,
    "start_time": "2024-05-25T10:24:06.210Z"
   },
   {
    "duration": 99,
    "start_time": "2024-05-25T10:24:06.299Z"
   },
   {
    "duration": 27,
    "start_time": "2024-05-25T10:24:06.399Z"
   },
   {
    "duration": 5,
    "start_time": "2024-05-25T10:24:06.427Z"
   },
   {
    "duration": 8,
    "start_time": "2024-05-25T10:24:06.435Z"
   },
   {
    "duration": 6,
    "start_time": "2024-05-25T10:24:06.445Z"
   },
   {
    "duration": 35,
    "start_time": "2024-05-25T10:24:06.452Z"
   },
   {
    "duration": 50,
    "start_time": "2024-05-25T10:24:06.489Z"
   },
   {
    "duration": 34,
    "start_time": "2024-05-25T10:24:06.541Z"
   },
   {
    "duration": 12,
    "start_time": "2024-05-25T10:24:06.577Z"
   },
   {
    "duration": 6420,
    "start_time": "2024-05-25T10:24:06.592Z"
   },
   {
    "duration": 4,
    "start_time": "2024-05-25T10:24:13.014Z"
   },
   {
    "duration": 15,
    "start_time": "2024-05-25T10:24:13.019Z"
   },
   {
    "duration": 46,
    "start_time": "2024-05-25T10:24:13.036Z"
   },
   {
    "duration": 4,
    "start_time": "2024-05-25T10:24:51.815Z"
   },
   {
    "duration": 4,
    "start_time": "2024-05-25T10:25:11.175Z"
   },
   {
    "duration": 4,
    "start_time": "2024-05-25T10:25:15.336Z"
   },
   {
    "duration": 4,
    "start_time": "2024-05-25T10:25:16.529Z"
   },
   {
    "duration": 4,
    "start_time": "2024-05-25T10:25:17.253Z"
   },
   {
    "duration": 6,
    "start_time": "2024-05-25T10:37:57.319Z"
   },
   {
    "duration": 5,
    "start_time": "2024-05-25T10:38:13.178Z"
   },
   {
    "duration": 14,
    "start_time": "2024-05-25T10:40:05.017Z"
   },
   {
    "duration": 3,
    "start_time": "2024-05-25T10:41:18.679Z"
   },
   {
    "duration": 107,
    "start_time": "2024-05-25T10:44:13.481Z"
   },
   {
    "duration": 5,
    "start_time": "2024-05-25T10:44:22.352Z"
   },
   {
    "duration": 3,
    "start_time": "2024-05-25T10:49:36.025Z"
   },
   {
    "duration": 6,
    "start_time": "2024-05-25T10:49:45.465Z"
   },
   {
    "duration": 5,
    "start_time": "2024-05-25T10:49:51.939Z"
   },
   {
    "duration": 46,
    "start_time": "2024-05-25T10:50:10.866Z"
   },
   {
    "duration": 44,
    "start_time": "2024-05-25T10:52:39.869Z"
   },
   {
    "duration": 5,
    "start_time": "2024-05-25T10:52:45.588Z"
   },
   {
    "duration": 7,
    "start_time": "2024-05-25T10:55:42.739Z"
   },
   {
    "duration": 7,
    "start_time": "2024-05-25T11:04:34.571Z"
   },
   {
    "duration": 7,
    "start_time": "2024-05-25T11:05:13.975Z"
   },
   {
    "duration": 1334,
    "start_time": "2024-05-25T11:06:35.732Z"
   },
   {
    "duration": 417,
    "start_time": "2024-05-25T11:06:37.068Z"
   },
   {
    "duration": 67,
    "start_time": "2024-05-25T11:06:37.487Z"
   },
   {
    "duration": 65,
    "start_time": "2024-05-25T11:06:37.556Z"
   },
   {
    "duration": 32,
    "start_time": "2024-05-25T11:06:37.622Z"
   },
   {
    "duration": 57,
    "start_time": "2024-05-25T11:06:37.655Z"
   },
   {
    "duration": 415,
    "start_time": "2024-05-25T11:06:37.714Z"
   },
   {
    "duration": 4,
    "start_time": "2024-05-25T11:06:38.130Z"
   },
   {
    "duration": 8,
    "start_time": "2024-05-25T11:06:38.135Z"
   },
   {
    "duration": 26,
    "start_time": "2024-05-25T11:06:38.146Z"
   },
   {
    "duration": 15,
    "start_time": "2024-05-25T11:06:38.174Z"
   },
   {
    "duration": 36,
    "start_time": "2024-05-25T11:06:38.191Z"
   },
   {
    "duration": 24,
    "start_time": "2024-05-25T11:06:38.229Z"
   },
   {
    "duration": 23,
    "start_time": "2024-05-25T11:06:38.255Z"
   },
   {
    "duration": 16,
    "start_time": "2024-05-25T11:06:38.280Z"
   },
   {
    "duration": 44,
    "start_time": "2024-05-25T11:06:38.298Z"
   },
   {
    "duration": 14,
    "start_time": "2024-05-25T11:06:38.344Z"
   },
   {
    "duration": 16,
    "start_time": "2024-05-25T11:06:38.359Z"
   },
   {
    "duration": 13,
    "start_time": "2024-05-25T11:06:38.376Z"
   },
   {
    "duration": 29,
    "start_time": "2024-05-25T11:06:38.391Z"
   },
   {
    "duration": 48,
    "start_time": "2024-05-25T11:06:38.422Z"
   },
   {
    "duration": 123,
    "start_time": "2024-05-25T11:06:38.471Z"
   },
   {
    "duration": 97,
    "start_time": "2024-05-25T11:06:38.597Z"
   },
   {
    "duration": 99,
    "start_time": "2024-05-25T11:06:38.696Z"
   },
   {
    "duration": 14,
    "start_time": "2024-05-25T11:06:38.797Z"
   },
   {
    "duration": 37,
    "start_time": "2024-05-25T11:06:38.812Z"
   },
   {
    "duration": 19,
    "start_time": "2024-05-25T11:06:38.850Z"
   },
   {
    "duration": 13,
    "start_time": "2024-05-25T11:06:38.872Z"
   },
   {
    "duration": 12,
    "start_time": "2024-05-25T11:06:38.887Z"
   },
   {
    "duration": 10,
    "start_time": "2024-05-25T11:06:38.900Z"
   },
   {
    "duration": 9,
    "start_time": "2024-05-25T11:06:38.911Z"
   },
   {
    "duration": 23,
    "start_time": "2024-05-25T11:06:38.922Z"
   },
   {
    "duration": 13,
    "start_time": "2024-05-25T11:06:38.946Z"
   },
   {
    "duration": 6399,
    "start_time": "2024-05-25T11:06:38.961Z"
   },
   {
    "duration": 3,
    "start_time": "2024-05-25T11:06:45.362Z"
   },
   {
    "duration": 45,
    "start_time": "2024-05-25T11:06:45.366Z"
   },
   {
    "duration": 43,
    "start_time": "2024-05-25T11:06:45.412Z"
   },
   {
    "duration": 0,
    "start_time": "2024-05-25T11:06:45.458Z"
   },
   {
    "duration": 109,
    "start_time": "2024-05-25T11:09:01.276Z"
   },
   {
    "duration": 3,
    "start_time": "2024-05-25T11:09:15.393Z"
   },
   {
    "duration": 5,
    "start_time": "2024-05-25T11:09:17.160Z"
   },
   {
    "duration": 6,
    "start_time": "2024-05-25T11:09:17.656Z"
   },
   {
    "duration": 5,
    "start_time": "2024-05-25T11:09:31.926Z"
   },
   {
    "duration": 6,
    "start_time": "2024-05-25T11:09:43.823Z"
   },
   {
    "duration": 4,
    "start_time": "2024-05-25T11:09:46.843Z"
   },
   {
    "duration": 6,
    "start_time": "2024-05-25T11:10:07.464Z"
   },
   {
    "duration": 7,
    "start_time": "2024-05-25T11:11:03.103Z"
   },
   {
    "duration": 1335,
    "start_time": "2024-05-25T11:19:03.247Z"
   },
   {
    "duration": 446,
    "start_time": "2024-05-25T11:19:04.584Z"
   },
   {
    "duration": 69,
    "start_time": "2024-05-25T11:19:05.032Z"
   },
   {
    "duration": 43,
    "start_time": "2024-05-25T11:19:05.103Z"
   },
   {
    "duration": 52,
    "start_time": "2024-05-25T11:19:05.147Z"
   },
   {
    "duration": 39,
    "start_time": "2024-05-25T11:19:05.200Z"
   },
   {
    "duration": 437,
    "start_time": "2024-05-25T11:19:05.240Z"
   },
   {
    "duration": 4,
    "start_time": "2024-05-25T11:19:05.678Z"
   },
   {
    "duration": 17,
    "start_time": "2024-05-25T11:19:05.683Z"
   },
   {
    "duration": 47,
    "start_time": "2024-05-25T11:19:05.702Z"
   },
   {
    "duration": 80,
    "start_time": "2024-05-25T11:19:05.750Z"
   },
   {
    "duration": 38,
    "start_time": "2024-05-25T11:19:05.831Z"
   },
   {
    "duration": 40,
    "start_time": "2024-05-25T11:19:05.870Z"
   },
   {
    "duration": 34,
    "start_time": "2024-05-25T11:19:05.911Z"
   },
   {
    "duration": 33,
    "start_time": "2024-05-25T11:19:05.946Z"
   },
   {
    "duration": 98,
    "start_time": "2024-05-25T11:19:05.981Z"
   },
   {
    "duration": 92,
    "start_time": "2024-05-25T11:19:06.080Z"
   },
   {
    "duration": 21,
    "start_time": "2024-05-25T11:19:06.173Z"
   },
   {
    "duration": 10,
    "start_time": "2024-05-25T11:19:06.196Z"
   },
   {
    "duration": 14,
    "start_time": "2024-05-25T11:19:06.207Z"
   },
   {
    "duration": 71,
    "start_time": "2024-05-25T11:19:06.223Z"
   },
   {
    "duration": 107,
    "start_time": "2024-05-25T11:19:06.296Z"
   },
   {
    "duration": 193,
    "start_time": "2024-05-25T11:19:06.405Z"
   },
   {
    "duration": 197,
    "start_time": "2024-05-25T11:19:06.600Z"
   },
   {
    "duration": 37,
    "start_time": "2024-05-25T11:19:06.799Z"
   },
   {
    "duration": 22,
    "start_time": "2024-05-25T11:19:06.838Z"
   },
   {
    "duration": 29,
    "start_time": "2024-05-25T11:19:06.861Z"
   },
   {
    "duration": 15,
    "start_time": "2024-05-25T11:19:06.893Z"
   },
   {
    "duration": 6,
    "start_time": "2024-05-25T11:19:06.909Z"
   },
   {
    "duration": 12,
    "start_time": "2024-05-25T11:19:06.916Z"
   },
   {
    "duration": 7,
    "start_time": "2024-05-25T11:19:06.929Z"
   },
   {
    "duration": 43,
    "start_time": "2024-05-25T11:19:06.938Z"
   },
   {
    "duration": 25,
    "start_time": "2024-05-25T11:19:06.982Z"
   },
   {
    "duration": 6725,
    "start_time": "2024-05-25T11:19:07.008Z"
   },
   {
    "duration": 6,
    "start_time": "2024-05-25T11:19:13.735Z"
   },
   {
    "duration": 215,
    "start_time": "2024-05-25T11:19:13.743Z"
   },
   {
    "duration": 0,
    "start_time": "2024-05-25T11:19:13.960Z"
   },
   {
    "duration": 3,
    "start_time": "2024-05-25T11:24:38.209Z"
   },
   {
    "duration": 6648,
    "start_time": "2024-05-25T11:24:42.512Z"
   },
   {
    "duration": 6,
    "start_time": "2024-05-25T11:24:49.162Z"
   },
   {
    "duration": 50,
    "start_time": "2024-05-25T11:24:49.169Z"
   },
   {
    "duration": 20,
    "start_time": "2024-05-25T11:24:49.221Z"
   },
   {
    "duration": 1406,
    "start_time": "2024-05-25T11:25:45.856Z"
   },
   {
    "duration": 415,
    "start_time": "2024-05-25T11:25:47.264Z"
   },
   {
    "duration": 66,
    "start_time": "2024-05-25T11:25:47.680Z"
   },
   {
    "duration": 58,
    "start_time": "2024-05-25T11:25:47.748Z"
   },
   {
    "duration": 54,
    "start_time": "2024-05-25T11:25:47.808Z"
   },
   {
    "duration": 39,
    "start_time": "2024-05-25T11:25:47.863Z"
   },
   {
    "duration": 442,
    "start_time": "2024-05-25T11:25:47.903Z"
   },
   {
    "duration": 4,
    "start_time": "2024-05-25T11:25:48.347Z"
   },
   {
    "duration": 40,
    "start_time": "2024-05-25T11:25:48.353Z"
   },
   {
    "duration": 41,
    "start_time": "2024-05-25T11:25:48.396Z"
   },
   {
    "duration": 58,
    "start_time": "2024-05-25T11:25:48.439Z"
   },
   {
    "duration": 26,
    "start_time": "2024-05-25T11:25:48.498Z"
   },
   {
    "duration": 25,
    "start_time": "2024-05-25T11:25:48.526Z"
   },
   {
    "duration": 41,
    "start_time": "2024-05-25T11:25:48.553Z"
   },
   {
    "duration": 57,
    "start_time": "2024-05-25T11:25:48.595Z"
   },
   {
    "duration": 36,
    "start_time": "2024-05-25T11:25:48.653Z"
   },
   {
    "duration": 40,
    "start_time": "2024-05-25T11:25:48.690Z"
   },
   {
    "duration": 36,
    "start_time": "2024-05-25T11:25:48.732Z"
   },
   {
    "duration": 29,
    "start_time": "2024-05-25T11:25:48.769Z"
   },
   {
    "duration": 41,
    "start_time": "2024-05-25T11:25:48.800Z"
   },
   {
    "duration": 24,
    "start_time": "2024-05-25T11:25:48.843Z"
   },
   {
    "duration": 104,
    "start_time": "2024-05-25T11:25:48.897Z"
   },
   {
    "duration": 193,
    "start_time": "2024-05-25T11:25:49.005Z"
   },
   {
    "duration": 96,
    "start_time": "2024-05-25T11:25:49.203Z"
   },
   {
    "duration": 6,
    "start_time": "2024-05-25T11:25:49.301Z"
   },
   {
    "duration": 8,
    "start_time": "2024-05-25T11:25:49.308Z"
   },
   {
    "duration": 6,
    "start_time": "2024-05-25T11:25:49.317Z"
   },
   {
    "duration": 7,
    "start_time": "2024-05-25T11:25:49.326Z"
   },
   {
    "duration": 13,
    "start_time": "2024-05-25T11:25:49.335Z"
   },
   {
    "duration": 2,
    "start_time": "2024-05-25T11:25:49.349Z"
   },
   {
    "duration": 7,
    "start_time": "2024-05-25T11:25:49.352Z"
   },
   {
    "duration": 35,
    "start_time": "2024-05-25T11:25:49.360Z"
   },
   {
    "duration": 4,
    "start_time": "2024-05-25T11:25:49.396Z"
   },
   {
    "duration": 4,
    "start_time": "2024-05-25T11:25:49.401Z"
   },
   {
    "duration": 6533,
    "start_time": "2024-05-25T11:25:49.406Z"
   },
   {
    "duration": 4,
    "start_time": "2024-05-25T11:25:55.940Z"
   },
   {
    "duration": 28,
    "start_time": "2024-05-25T11:25:55.946Z"
   },
   {
    "duration": 6,
    "start_time": "2024-05-25T11:25:55.976Z"
   },
   {
    "duration": 113,
    "start_time": "2024-05-25T11:32:44.255Z"
   },
   {
    "duration": 1401,
    "start_time": "2024-05-25T11:34:53.582Z"
   },
   {
    "duration": 407,
    "start_time": "2024-05-25T11:34:54.985Z"
   },
   {
    "duration": 74,
    "start_time": "2024-05-25T11:34:55.394Z"
   },
   {
    "duration": 55,
    "start_time": "2024-05-25T11:34:55.471Z"
   },
   {
    "duration": 32,
    "start_time": "2024-05-25T11:34:55.527Z"
   },
   {
    "duration": 57,
    "start_time": "2024-05-25T11:34:55.561Z"
   },
   {
    "duration": 417,
    "start_time": "2024-05-25T11:34:55.619Z"
   },
   {
    "duration": 4,
    "start_time": "2024-05-25T11:34:56.037Z"
   },
   {
    "duration": 52,
    "start_time": "2024-05-25T11:34:56.042Z"
   },
   {
    "duration": 59,
    "start_time": "2024-05-25T11:34:56.096Z"
   },
   {
    "duration": 27,
    "start_time": "2024-05-25T11:34:56.157Z"
   },
   {
    "duration": 13,
    "start_time": "2024-05-25T11:34:56.185Z"
   },
   {
    "duration": 14,
    "start_time": "2024-05-25T11:34:56.200Z"
   },
   {
    "duration": 3,
    "start_time": "2024-05-25T11:34:56.216Z"
   },
   {
    "duration": 29,
    "start_time": "2024-05-25T11:34:56.220Z"
   },
   {
    "duration": 18,
    "start_time": "2024-05-25T11:34:56.251Z"
   },
   {
    "duration": 19,
    "start_time": "2024-05-25T11:34:56.270Z"
   },
   {
    "duration": 12,
    "start_time": "2024-05-25T11:34:56.291Z"
   },
   {
    "duration": 31,
    "start_time": "2024-05-25T11:34:56.305Z"
   },
   {
    "duration": 36,
    "start_time": "2024-05-25T11:34:56.337Z"
   },
   {
    "duration": 27,
    "start_time": "2024-05-25T11:34:56.375Z"
   },
   {
    "duration": 196,
    "start_time": "2024-05-25T11:34:56.404Z"
   },
   {
    "duration": 102,
    "start_time": "2024-05-25T11:34:56.602Z"
   },
   {
    "duration": 99,
    "start_time": "2024-05-25T11:34:56.795Z"
   },
   {
    "duration": 5,
    "start_time": "2024-05-25T11:34:56.896Z"
   },
   {
    "duration": 25,
    "start_time": "2024-05-25T11:34:56.902Z"
   },
   {
    "duration": 16,
    "start_time": "2024-05-25T11:34:56.928Z"
   },
   {
    "duration": 13,
    "start_time": "2024-05-25T11:34:56.947Z"
   },
   {
    "duration": 34,
    "start_time": "2024-05-25T11:34:56.962Z"
   },
   {
    "duration": 3,
    "start_time": "2024-05-25T11:34:56.997Z"
   },
   {
    "duration": 8,
    "start_time": "2024-05-25T11:34:57.001Z"
   },
   {
    "duration": 7,
    "start_time": "2024-05-25T11:34:57.011Z"
   },
   {
    "duration": 3,
    "start_time": "2024-05-25T11:34:57.020Z"
   },
   {
    "duration": 21,
    "start_time": "2024-05-25T11:34:57.025Z"
   },
   {
    "duration": 6723,
    "start_time": "2024-05-25T11:34:57.048Z"
   },
   {
    "duration": 4,
    "start_time": "2024-05-25T11:35:03.773Z"
   },
   {
    "duration": 19,
    "start_time": "2024-05-25T11:35:03.779Z"
   },
   {
    "duration": 69,
    "start_time": "2024-05-25T11:35:03.800Z"
   },
   {
    "duration": 1309,
    "start_time": "2024-05-25T11:42:46.223Z"
   },
   {
    "duration": 387,
    "start_time": "2024-05-25T11:42:47.534Z"
   },
   {
    "duration": 1352,
    "start_time": "2024-05-25T11:43:16.280Z"
   },
   {
    "duration": 408,
    "start_time": "2024-05-25T11:43:17.634Z"
   },
   {
    "duration": 2,
    "start_time": "2024-05-25T11:43:18.044Z"
   },
   {
    "duration": 86,
    "start_time": "2024-05-25T11:43:18.048Z"
   },
   {
    "duration": 39,
    "start_time": "2024-05-25T11:43:18.136Z"
   },
   {
    "duration": 43,
    "start_time": "2024-05-25T11:43:18.195Z"
   },
   {
    "duration": 40,
    "start_time": "2024-05-25T11:43:18.240Z"
   },
   {
    "duration": 395,
    "start_time": "2024-05-25T11:43:18.281Z"
   },
   {
    "duration": 4,
    "start_time": "2024-05-25T11:43:18.678Z"
   },
   {
    "duration": 5,
    "start_time": "2024-05-25T11:43:18.693Z"
   },
   {
    "duration": 11,
    "start_time": "2024-05-25T11:43:18.699Z"
   },
   {
    "duration": 18,
    "start_time": "2024-05-25T11:43:18.712Z"
   },
   {
    "duration": 34,
    "start_time": "2024-05-25T11:43:18.731Z"
   },
   {
    "duration": 14,
    "start_time": "2024-05-25T11:43:18.767Z"
   },
   {
    "duration": 24,
    "start_time": "2024-05-25T11:43:18.782Z"
   },
   {
    "duration": 53,
    "start_time": "2024-05-25T11:43:18.807Z"
   },
   {
    "duration": 19,
    "start_time": "2024-05-25T11:43:18.862Z"
   },
   {
    "duration": 19,
    "start_time": "2024-05-25T11:43:18.882Z"
   },
   {
    "duration": 15,
    "start_time": "2024-05-25T11:43:18.903Z"
   },
   {
    "duration": 26,
    "start_time": "2024-05-25T11:43:18.920Z"
   },
   {
    "duration": 9,
    "start_time": "2024-05-25T11:43:18.947Z"
   },
   {
    "duration": 59,
    "start_time": "2024-05-25T11:43:18.958Z"
   },
   {
    "duration": 8,
    "start_time": "2024-05-25T11:43:19.093Z"
   },
   {
    "duration": 96,
    "start_time": "2024-05-25T11:43:19.102Z"
   },
   {
    "duration": 94,
    "start_time": "2024-05-25T11:43:19.201Z"
   },
   {
    "duration": 10,
    "start_time": "2024-05-25T11:43:19.297Z"
   },
   {
    "duration": 5,
    "start_time": "2024-05-25T11:43:19.309Z"
   },
   {
    "duration": 11,
    "start_time": "2024-05-25T11:43:19.318Z"
   },
   {
    "duration": 5,
    "start_time": "2024-05-25T11:43:19.330Z"
   },
   {
    "duration": 4,
    "start_time": "2024-05-25T11:43:19.336Z"
   },
   {
    "duration": 3,
    "start_time": "2024-05-25T11:43:19.394Z"
   },
   {
    "duration": 26,
    "start_time": "2024-05-25T11:43:19.398Z"
   },
   {
    "duration": 19,
    "start_time": "2024-05-25T11:43:19.426Z"
   },
   {
    "duration": 4,
    "start_time": "2024-05-25T11:43:19.446Z"
   },
   {
    "duration": 17,
    "start_time": "2024-05-25T11:43:19.452Z"
   },
   {
    "duration": 6346,
    "start_time": "2024-05-25T11:43:19.470Z"
   },
   {
    "duration": 3,
    "start_time": "2024-05-25T11:43:25.818Z"
   },
   {
    "duration": 14,
    "start_time": "2024-05-25T11:43:25.823Z"
   },
   {
    "duration": 72,
    "start_time": "2024-05-25T11:43:25.838Z"
   },
   {
    "duration": 391,
    "start_time": "2024-05-25T11:43:40.034Z"
   },
   {
    "duration": 1357,
    "start_time": "2024-05-25T11:44:20.297Z"
   },
   {
    "duration": 413,
    "start_time": "2024-05-25T11:44:21.656Z"
   },
   {
    "duration": 1332,
    "start_time": "2024-05-25T11:47:25.600Z"
   },
   {
    "duration": 404,
    "start_time": "2024-05-25T11:47:26.934Z"
   },
   {
    "duration": 2,
    "start_time": "2024-05-25T11:47:27.340Z"
   },
   {
    "duration": 36,
    "start_time": "2024-05-25T11:47:27.344Z"
   },
   {
    "duration": 105,
    "start_time": "2024-05-25T11:47:27.382Z"
   },
   {
    "duration": 41,
    "start_time": "2024-05-25T11:47:27.488Z"
   },
   {
    "duration": 29,
    "start_time": "2024-05-25T11:47:27.531Z"
   },
   {
    "duration": 49,
    "start_time": "2024-05-25T11:47:27.561Z"
   },
   {
    "duration": 416,
    "start_time": "2024-05-25T11:47:27.612Z"
   },
   {
    "duration": 4,
    "start_time": "2024-05-25T11:47:28.031Z"
   },
   {
    "duration": 23,
    "start_time": "2024-05-25T11:47:28.036Z"
   },
   {
    "duration": 35,
    "start_time": "2024-05-25T11:47:28.060Z"
   },
   {
    "duration": 33,
    "start_time": "2024-05-25T11:47:28.096Z"
   },
   {
    "duration": 42,
    "start_time": "2024-05-25T11:47:28.131Z"
   },
   {
    "duration": 60,
    "start_time": "2024-05-25T11:47:28.175Z"
   },
   {
    "duration": 13,
    "start_time": "2024-05-25T11:47:28.237Z"
   },
   {
    "duration": 37,
    "start_time": "2024-05-25T11:47:28.251Z"
   },
   {
    "duration": 18,
    "start_time": "2024-05-25T11:47:28.290Z"
   },
   {
    "duration": 26,
    "start_time": "2024-05-25T11:47:28.310Z"
   },
   {
    "duration": 10,
    "start_time": "2024-05-25T11:47:28.338Z"
   },
   {
    "duration": 29,
    "start_time": "2024-05-25T11:47:28.350Z"
   },
   {
    "duration": 25,
    "start_time": "2024-05-25T11:47:28.381Z"
   },
   {
    "duration": 10,
    "start_time": "2024-05-25T11:47:28.408Z"
   },
   {
    "duration": 82,
    "start_time": "2024-05-25T11:47:28.419Z"
   },
   {
    "duration": 98,
    "start_time": "2024-05-25T11:47:28.504Z"
   },
   {
    "duration": 94,
    "start_time": "2024-05-25T11:47:28.604Z"
   },
   {
    "duration": 96,
    "start_time": "2024-05-25T11:47:28.700Z"
   },
   {
    "duration": 4,
    "start_time": "2024-05-25T11:47:28.799Z"
   },
   {
    "duration": 9,
    "start_time": "2024-05-25T11:47:28.805Z"
   },
   {
    "duration": 5,
    "start_time": "2024-05-25T11:47:28.815Z"
   },
   {
    "duration": 4,
    "start_time": "2024-05-25T11:47:28.821Z"
   },
   {
    "duration": 2,
    "start_time": "2024-05-25T11:47:28.827Z"
   },
   {
    "duration": 5,
    "start_time": "2024-05-25T11:47:28.831Z"
   },
   {
    "duration": 4,
    "start_time": "2024-05-25T11:47:28.838Z"
   },
   {
    "duration": 3,
    "start_time": "2024-05-25T11:47:28.844Z"
   },
   {
    "duration": 6,
    "start_time": "2024-05-25T11:47:28.848Z"
   },
   {
    "duration": 6432,
    "start_time": "2024-05-25T11:47:28.894Z"
   },
   {
    "duration": 5,
    "start_time": "2024-05-25T11:47:35.327Z"
   },
   {
    "duration": 15,
    "start_time": "2024-05-25T11:47:35.333Z"
   },
   {
    "duration": 16,
    "start_time": "2024-05-25T11:47:35.350Z"
   },
   {
    "duration": 419,
    "start_time": "2024-05-25T11:47:41.232Z"
   },
   {
    "duration": 472,
    "start_time": "2024-05-25T11:51:34.538Z"
   },
   {
    "duration": 294,
    "start_time": "2024-05-25T11:52:26.317Z"
   },
   {
    "duration": 290,
    "start_time": "2024-05-25T11:52:48.373Z"
   },
   {
    "duration": 371,
    "start_time": "2024-05-25T11:53:24.505Z"
   },
   {
    "duration": 283,
    "start_time": "2024-05-25T11:53:34.880Z"
   },
   {
    "duration": 310,
    "start_time": "2024-05-25T11:53:40.015Z"
   },
   {
    "duration": 345,
    "start_time": "2024-05-25T11:54:31.448Z"
   },
   {
    "duration": 331,
    "start_time": "2024-05-25T11:54:38.473Z"
   },
   {
    "duration": 321,
    "start_time": "2024-05-25T11:54:44.006Z"
   },
   {
    "duration": 320,
    "start_time": "2024-05-25T11:54:48.551Z"
   },
   {
    "duration": 100,
    "start_time": "2024-05-25T11:55:24.516Z"
   },
   {
    "duration": 16,
    "start_time": "2024-05-25T11:55:31.243Z"
   },
   {
    "duration": 5,
    "start_time": "2024-05-25T11:55:52.865Z"
   },
   {
    "duration": 19,
    "start_time": "2024-05-25T11:57:47.584Z"
   },
   {
    "duration": 22,
    "start_time": "2024-05-25T11:58:25.423Z"
   },
   {
    "duration": 670,
    "start_time": "2024-05-25T11:59:19.749Z"
   },
   {
    "duration": 627,
    "start_time": "2024-05-25T11:59:51.646Z"
   },
   {
    "duration": 295,
    "start_time": "2024-05-25T12:00:01.561Z"
   },
   {
    "duration": 295,
    "start_time": "2024-05-25T12:00:23.562Z"
   },
   {
    "duration": 627,
    "start_time": "2024-05-25T12:00:36.151Z"
   },
   {
    "duration": 4387,
    "start_time": "2024-05-25T12:02:53.781Z"
   },
   {
    "duration": 4677,
    "start_time": "2024-05-25T12:03:30.308Z"
   },
   {
    "duration": 4350,
    "start_time": "2024-05-25T12:05:15.529Z"
   },
   {
    "duration": 4638,
    "start_time": "2024-05-25T12:05:32.011Z"
   },
   {
    "duration": 1368,
    "start_time": "2024-05-25T12:06:26.414Z"
   },
   {
    "duration": 413,
    "start_time": "2024-05-25T12:06:27.784Z"
   },
   {
    "duration": 4644,
    "start_time": "2024-05-25T12:06:28.198Z"
   },
   {
    "duration": 157,
    "start_time": "2024-05-25T12:06:32.844Z"
   },
   {
    "duration": 41,
    "start_time": "2024-05-25T12:06:33.002Z"
   },
   {
    "duration": 51,
    "start_time": "2024-05-25T12:06:33.044Z"
   },
   {
    "duration": 37,
    "start_time": "2024-05-25T12:06:33.096Z"
   },
   {
    "duration": 418,
    "start_time": "2024-05-25T12:06:33.134Z"
   },
   {
    "duration": 4,
    "start_time": "2024-05-25T12:06:33.554Z"
   },
   {
    "duration": 13,
    "start_time": "2024-05-25T12:06:33.560Z"
   },
   {
    "duration": 30,
    "start_time": "2024-05-25T12:06:33.574Z"
   },
   {
    "duration": 18,
    "start_time": "2024-05-25T12:06:33.606Z"
   },
   {
    "duration": 13,
    "start_time": "2024-05-25T12:06:33.625Z"
   },
   {
    "duration": 14,
    "start_time": "2024-05-25T12:06:33.639Z"
   },
   {
    "duration": 2,
    "start_time": "2024-05-25T12:06:33.654Z"
   },
   {
    "duration": 38,
    "start_time": "2024-05-25T12:06:33.658Z"
   },
   {
    "duration": 20,
    "start_time": "2024-05-25T12:06:33.698Z"
   },
   {
    "duration": 18,
    "start_time": "2024-05-25T12:06:33.720Z"
   },
   {
    "duration": 10,
    "start_time": "2024-05-25T12:06:33.739Z"
   },
   {
    "duration": 9,
    "start_time": "2024-05-25T12:06:33.751Z"
   },
   {
    "duration": 39,
    "start_time": "2024-05-25T12:06:33.762Z"
   },
   {
    "duration": 15,
    "start_time": "2024-05-25T12:06:33.802Z"
   },
   {
    "duration": 180,
    "start_time": "2024-05-25T12:06:33.818Z"
   },
   {
    "duration": 98,
    "start_time": "2024-05-25T12:06:34.000Z"
   },
   {
    "duration": 226,
    "start_time": "2024-05-25T12:06:34.100Z"
   },
   {
    "duration": 46,
    "start_time": "2024-05-25T12:06:34.328Z"
   },
   {
    "duration": 12,
    "start_time": "2024-05-25T12:06:34.375Z"
   },
   {
    "duration": 11,
    "start_time": "2024-05-25T12:06:34.390Z"
   },
   {
    "duration": 16,
    "start_time": "2024-05-25T12:06:34.402Z"
   },
   {
    "duration": 7,
    "start_time": "2024-05-25T12:06:34.420Z"
   },
   {
    "duration": 11,
    "start_time": "2024-05-25T12:06:34.429Z"
   },
   {
    "duration": 16,
    "start_time": "2024-05-25T12:06:34.441Z"
   },
   {
    "duration": 37,
    "start_time": "2024-05-25T12:06:34.459Z"
   },
   {
    "duration": 12,
    "start_time": "2024-05-25T12:06:34.498Z"
   },
   {
    "duration": 20,
    "start_time": "2024-05-25T12:06:34.511Z"
   },
   {
    "duration": 6439,
    "start_time": "2024-05-25T12:06:34.533Z"
   },
   {
    "duration": 4,
    "start_time": "2024-05-25T12:06:40.974Z"
   },
   {
    "duration": 17,
    "start_time": "2024-05-25T12:06:40.979Z"
   },
   {
    "duration": 5,
    "start_time": "2024-05-25T12:06:40.997Z"
   },
   {
    "duration": 1302,
    "start_time": "2024-05-25T12:10:50.543Z"
   },
   {
    "duration": 431,
    "start_time": "2024-05-25T12:10:51.847Z"
   },
   {
    "duration": 69,
    "start_time": "2024-05-25T12:10:52.284Z"
   },
   {
    "duration": 71,
    "start_time": "2024-05-25T12:10:52.354Z"
   },
   {
    "duration": 32,
    "start_time": "2024-05-25T12:10:52.426Z"
   },
   {
    "duration": 65,
    "start_time": "2024-05-25T12:10:52.460Z"
   },
   {
    "duration": 431,
    "start_time": "2024-05-25T12:10:52.526Z"
   },
   {
    "duration": 4,
    "start_time": "2024-05-25T12:10:52.959Z"
   },
   {
    "duration": 41,
    "start_time": "2024-05-25T12:10:52.966Z"
   },
   {
    "duration": 36,
    "start_time": "2024-05-25T12:10:53.009Z"
   },
   {
    "duration": 50,
    "start_time": "2024-05-25T12:10:53.047Z"
   },
   {
    "duration": 31,
    "start_time": "2024-05-25T12:10:53.099Z"
   },
   {
    "duration": 46,
    "start_time": "2024-05-25T12:10:53.132Z"
   },
   {
    "duration": 4926,
    "start_time": "2024-05-25T12:10:53.180Z"
   },
   {
    "duration": 3,
    "start_time": "2024-05-25T12:10:58.108Z"
   },
   {
    "duration": 41,
    "start_time": "2024-05-25T12:10:58.113Z"
   },
   {
    "duration": 22,
    "start_time": "2024-05-25T12:10:58.156Z"
   },
   {
    "duration": 26,
    "start_time": "2024-05-25T12:10:58.193Z"
   },
   {
    "duration": 14,
    "start_time": "2024-05-25T12:10:58.221Z"
   },
   {
    "duration": 24,
    "start_time": "2024-05-25T12:10:58.236Z"
   },
   {
    "duration": 33,
    "start_time": "2024-05-25T12:10:58.262Z"
   },
   {
    "duration": 7,
    "start_time": "2024-05-25T12:10:58.297Z"
   },
   {
    "duration": 96,
    "start_time": "2024-05-25T12:10:58.306Z"
   },
   {
    "duration": 92,
    "start_time": "2024-05-25T12:10:58.404Z"
   },
   {
    "duration": 99,
    "start_time": "2024-05-25T12:10:58.498Z"
   },
   {
    "duration": 14,
    "start_time": "2024-05-25T12:10:58.599Z"
   },
   {
    "duration": 5,
    "start_time": "2024-05-25T12:10:58.617Z"
   },
   {
    "duration": 23,
    "start_time": "2024-05-25T12:10:58.623Z"
   },
   {
    "duration": 8,
    "start_time": "2024-05-25T12:10:58.647Z"
   },
   {
    "duration": 4,
    "start_time": "2024-05-25T12:10:58.656Z"
   },
   {
    "duration": 13,
    "start_time": "2024-05-25T12:10:58.661Z"
   },
   {
    "duration": 4,
    "start_time": "2024-05-25T12:10:58.675Z"
   },
   {
    "duration": 6,
    "start_time": "2024-05-25T12:10:58.693Z"
   },
   {
    "duration": 10,
    "start_time": "2024-05-25T12:10:58.701Z"
   },
   {
    "duration": 5,
    "start_time": "2024-05-25T12:10:58.713Z"
   },
   {
    "duration": 6779,
    "start_time": "2024-05-25T12:10:58.720Z"
   },
   {
    "duration": 6,
    "start_time": "2024-05-25T12:11:05.501Z"
   },
   {
    "duration": 46,
    "start_time": "2024-05-25T12:11:05.508Z"
   },
   {
    "duration": 38,
    "start_time": "2024-05-25T12:11:05.556Z"
   },
   {
    "duration": 79,
    "start_time": "2024-05-29T18:41:16.891Z"
   },
   {
    "duration": 54,
    "start_time": "2024-05-29T18:41:22.057Z"
   },
   {
    "duration": 1350,
    "start_time": "2024-05-29T18:41:25.181Z"
   },
   {
    "duration": 663,
    "start_time": "2024-05-29T18:41:26.533Z"
   },
   {
    "duration": 63,
    "start_time": "2024-05-29T18:41:27.198Z"
   },
   {
    "duration": 43,
    "start_time": "2024-05-29T18:41:27.263Z"
   },
   {
    "duration": 63,
    "start_time": "2024-05-29T18:41:27.308Z"
   },
   {
    "duration": 41,
    "start_time": "2024-05-29T18:41:27.374Z"
   },
   {
    "duration": 449,
    "start_time": "2024-05-29T18:41:27.417Z"
   },
   {
    "duration": 4,
    "start_time": "2024-05-29T18:41:27.867Z"
   },
   {
    "duration": 13,
    "start_time": "2024-05-29T18:41:27.872Z"
   },
   {
    "duration": 7,
    "start_time": "2024-05-29T18:41:27.888Z"
   },
   {
    "duration": 39,
    "start_time": "2024-05-29T18:41:27.896Z"
   },
   {
    "duration": 15,
    "start_time": "2024-05-29T18:41:27.937Z"
   },
   {
    "duration": 17,
    "start_time": "2024-05-29T18:41:27.954Z"
   },
   {
    "duration": 4748,
    "start_time": "2024-05-29T18:41:27.973Z"
   },
   {
    "duration": 3,
    "start_time": "2024-05-29T18:41:32.722Z"
   },
   {
    "duration": 126,
    "start_time": "2024-05-29T18:41:32.726Z"
   },
   {
    "duration": 20,
    "start_time": "2024-05-29T18:41:32.853Z"
   },
   {
    "duration": 21,
    "start_time": "2024-05-29T18:41:32.874Z"
   },
   {
    "duration": 10,
    "start_time": "2024-05-29T18:41:32.896Z"
   },
   {
    "duration": 40,
    "start_time": "2024-05-29T18:41:32.908Z"
   },
   {
    "duration": 10,
    "start_time": "2024-05-29T18:41:32.950Z"
   },
   {
    "duration": 20,
    "start_time": "2024-05-29T18:41:32.961Z"
   },
   {
    "duration": 164,
    "start_time": "2024-05-29T18:41:32.983Z"
   },
   {
    "duration": 100,
    "start_time": "2024-05-29T18:41:33.149Z"
   },
   {
    "duration": 98,
    "start_time": "2024-05-29T18:41:33.251Z"
   },
   {
    "duration": 5,
    "start_time": "2024-05-29T18:41:33.351Z"
   },
   {
    "duration": 88,
    "start_time": "2024-05-29T18:41:33.359Z"
   },
   {
    "duration": 5,
    "start_time": "2024-05-29T18:41:33.450Z"
   },
   {
    "duration": 5,
    "start_time": "2024-05-29T18:41:33.456Z"
   },
   {
    "duration": 7,
    "start_time": "2024-05-29T18:41:33.462Z"
   },
   {
    "duration": 14,
    "start_time": "2024-05-29T18:41:33.470Z"
   },
   {
    "duration": 15,
    "start_time": "2024-05-29T18:41:33.486Z"
   },
   {
    "duration": 15,
    "start_time": "2024-05-29T18:41:33.503Z"
   },
   {
    "duration": 26,
    "start_time": "2024-05-29T18:41:33.520Z"
   },
   {
    "duration": 15,
    "start_time": "2024-05-29T18:41:33.547Z"
   },
   {
    "duration": 25,
    "start_time": "2024-05-29T18:41:33.564Z"
   },
   {
    "duration": 6529,
    "start_time": "2024-05-29T18:41:33.590Z"
   },
   {
    "duration": 5,
    "start_time": "2024-05-29T18:41:40.121Z"
   },
   {
    "duration": 20,
    "start_time": "2024-05-29T18:41:40.128Z"
   },
   {
    "duration": 5,
    "start_time": "2024-05-29T18:41:40.149Z"
   },
   {
    "duration": 4,
    "start_time": "2024-05-29T18:41:42.963Z"
   }
  ],
  "kernelspec": {
   "display_name": "Python 3 (ipykernel)",
   "language": "python",
   "name": "python3"
  },
  "language_info": {
   "codemirror_mode": {
    "name": "ipython",
    "version": 3
   },
   "file_extension": ".py",
   "mimetype": "text/x-python",
   "name": "python",
   "nbconvert_exporter": "python",
   "pygments_lexer": "ipython3",
   "version": "3.9.5"
  },
  "toc": {
   "base_numbering": 1,
   "nav_menu": {},
   "number_sections": true,
   "sideBar": true,
   "skip_h1_title": true,
   "title_cell": "Table of Contents",
   "title_sidebar": "Contents",
   "toc_cell": false,
   "toc_position": {},
   "toc_section_display": true,
   "toc_window_display": false
  }
 },
 "nbformat": 4,
 "nbformat_minor": 2
}
