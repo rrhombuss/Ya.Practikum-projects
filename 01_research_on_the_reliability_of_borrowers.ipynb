{
 "cells": [
  {
   "cell_type": "markdown",
   "id": "bfb16ce1",
   "metadata": {
    "deletable": false,
    "editable": false,
    "id": "c81daeeb"
   },
   "source": [
    "# Исследование надежности заемщиков\n"
   ]
  },
  {
   "cell_type": "markdown",
   "id": "61008d88",
   "metadata": {},
   "source": [
    "Заказчик — кредитный отдел банка. Нужно разобраться, влияет ли семейное положение и количество детей клиента на факт погашения кредита в срок. Входные данные от банка — статистика о платёжеспособности клиентов.\n",
    "Результаты исследования будут учтены при построении модели кредитного скоринга — специальной системы, которая оценивает способность потенциального заёмщика вернуть кредит банку."
   ]
  },
  {
   "cell_type": "code",
   "execution_count": null,
   "id": "96bbc1fe",
   "metadata": {},
   "outputs": [],
   "source": [
    "import pandas as pd\n",
    "import seaborn as sns\n",
    "\n",
    "data = pd.read_csv('/datasets/data.csv')"
   ]
  },
  {
   "cell_type": "code",
   "execution_count": 2,
   "id": "7c59f50d",
   "metadata": {
    "deletable": false,
    "id": "2a7cab99",
    "outputId": "1a8f3ef2-d323-4ec2-ddf7-89670b5944c4"
   },
   "outputs": [
    {
     "data": {
      "text/html": [
       "<div>\n",
       "<style scoped>\n",
       "    .dataframe tbody tr th:only-of-type {\n",
       "        vertical-align: middle;\n",
       "    }\n",
       "\n",
       "    .dataframe tbody tr th {\n",
       "        vertical-align: top;\n",
       "    }\n",
       "\n",
       "    .dataframe thead th {\n",
       "        text-align: right;\n",
       "    }\n",
       "</style>\n",
       "<table border=\"1\" class=\"dataframe\">\n",
       "  <thead>\n",
       "    <tr style=\"text-align: right;\">\n",
       "      <th></th>\n",
       "      <th>children</th>\n",
       "      <th>days_employed</th>\n",
       "      <th>dob_years</th>\n",
       "      <th>education</th>\n",
       "      <th>education_id</th>\n",
       "      <th>family_status</th>\n",
       "      <th>family_status_id</th>\n",
       "      <th>gender</th>\n",
       "      <th>income_type</th>\n",
       "      <th>debt</th>\n",
       "      <th>total_income</th>\n",
       "      <th>purpose</th>\n",
       "    </tr>\n",
       "  </thead>\n",
       "  <tbody>\n",
       "    <tr>\n",
       "      <th>0</th>\n",
       "      <td>1</td>\n",
       "      <td>-8437.673028</td>\n",
       "      <td>42</td>\n",
       "      <td>высшее</td>\n",
       "      <td>0</td>\n",
       "      <td>женат / замужем</td>\n",
       "      <td>0</td>\n",
       "      <td>F</td>\n",
       "      <td>сотрудник</td>\n",
       "      <td>0</td>\n",
       "      <td>253875.639453</td>\n",
       "      <td>покупка жилья</td>\n",
       "    </tr>\n",
       "    <tr>\n",
       "      <th>1</th>\n",
       "      <td>1</td>\n",
       "      <td>-4024.803754</td>\n",
       "      <td>36</td>\n",
       "      <td>среднее</td>\n",
       "      <td>1</td>\n",
       "      <td>женат / замужем</td>\n",
       "      <td>0</td>\n",
       "      <td>F</td>\n",
       "      <td>сотрудник</td>\n",
       "      <td>0</td>\n",
       "      <td>112080.014102</td>\n",
       "      <td>приобретение автомобиля</td>\n",
       "    </tr>\n",
       "    <tr>\n",
       "      <th>2</th>\n",
       "      <td>0</td>\n",
       "      <td>-5623.422610</td>\n",
       "      <td>33</td>\n",
       "      <td>Среднее</td>\n",
       "      <td>1</td>\n",
       "      <td>женат / замужем</td>\n",
       "      <td>0</td>\n",
       "      <td>M</td>\n",
       "      <td>сотрудник</td>\n",
       "      <td>0</td>\n",
       "      <td>145885.952297</td>\n",
       "      <td>покупка жилья</td>\n",
       "    </tr>\n",
       "    <tr>\n",
       "      <th>3</th>\n",
       "      <td>3</td>\n",
       "      <td>-4124.747207</td>\n",
       "      <td>32</td>\n",
       "      <td>среднее</td>\n",
       "      <td>1</td>\n",
       "      <td>женат / замужем</td>\n",
       "      <td>0</td>\n",
       "      <td>M</td>\n",
       "      <td>сотрудник</td>\n",
       "      <td>0</td>\n",
       "      <td>267628.550329</td>\n",
       "      <td>дополнительное образование</td>\n",
       "    </tr>\n",
       "    <tr>\n",
       "      <th>4</th>\n",
       "      <td>0</td>\n",
       "      <td>340266.072047</td>\n",
       "      <td>53</td>\n",
       "      <td>среднее</td>\n",
       "      <td>1</td>\n",
       "      <td>гражданский брак</td>\n",
       "      <td>1</td>\n",
       "      <td>F</td>\n",
       "      <td>пенсионер</td>\n",
       "      <td>0</td>\n",
       "      <td>158616.077870</td>\n",
       "      <td>сыграть свадьбу</td>\n",
       "    </tr>\n",
       "    <tr>\n",
       "      <th>5</th>\n",
       "      <td>0</td>\n",
       "      <td>-926.185831</td>\n",
       "      <td>27</td>\n",
       "      <td>высшее</td>\n",
       "      <td>0</td>\n",
       "      <td>гражданский брак</td>\n",
       "      <td>1</td>\n",
       "      <td>M</td>\n",
       "      <td>компаньон</td>\n",
       "      <td>0</td>\n",
       "      <td>255763.565419</td>\n",
       "      <td>покупка жилья</td>\n",
       "    </tr>\n",
       "    <tr>\n",
       "      <th>6</th>\n",
       "      <td>0</td>\n",
       "      <td>-2879.202052</td>\n",
       "      <td>43</td>\n",
       "      <td>высшее</td>\n",
       "      <td>0</td>\n",
       "      <td>женат / замужем</td>\n",
       "      <td>0</td>\n",
       "      <td>F</td>\n",
       "      <td>компаньон</td>\n",
       "      <td>0</td>\n",
       "      <td>240525.971920</td>\n",
       "      <td>операции с жильем</td>\n",
       "    </tr>\n",
       "    <tr>\n",
       "      <th>7</th>\n",
       "      <td>0</td>\n",
       "      <td>-152.779569</td>\n",
       "      <td>50</td>\n",
       "      <td>СРЕДНЕЕ</td>\n",
       "      <td>1</td>\n",
       "      <td>женат / замужем</td>\n",
       "      <td>0</td>\n",
       "      <td>M</td>\n",
       "      <td>сотрудник</td>\n",
       "      <td>0</td>\n",
       "      <td>135823.934197</td>\n",
       "      <td>образование</td>\n",
       "    </tr>\n",
       "    <tr>\n",
       "      <th>8</th>\n",
       "      <td>2</td>\n",
       "      <td>-6929.865299</td>\n",
       "      <td>35</td>\n",
       "      <td>ВЫСШЕЕ</td>\n",
       "      <td>0</td>\n",
       "      <td>гражданский брак</td>\n",
       "      <td>1</td>\n",
       "      <td>F</td>\n",
       "      <td>сотрудник</td>\n",
       "      <td>0</td>\n",
       "      <td>95856.832424</td>\n",
       "      <td>на проведение свадьбы</td>\n",
       "    </tr>\n",
       "    <tr>\n",
       "      <th>9</th>\n",
       "      <td>0</td>\n",
       "      <td>-2188.756445</td>\n",
       "      <td>41</td>\n",
       "      <td>среднее</td>\n",
       "      <td>1</td>\n",
       "      <td>женат / замужем</td>\n",
       "      <td>0</td>\n",
       "      <td>M</td>\n",
       "      <td>сотрудник</td>\n",
       "      <td>0</td>\n",
       "      <td>144425.938277</td>\n",
       "      <td>покупка жилья для семьи</td>\n",
       "    </tr>\n",
       "    <tr>\n",
       "      <th>10</th>\n",
       "      <td>2</td>\n",
       "      <td>-4171.483647</td>\n",
       "      <td>36</td>\n",
       "      <td>высшее</td>\n",
       "      <td>0</td>\n",
       "      <td>женат / замужем</td>\n",
       "      <td>0</td>\n",
       "      <td>M</td>\n",
       "      <td>компаньон</td>\n",
       "      <td>0</td>\n",
       "      <td>113943.491460</td>\n",
       "      <td>покупка недвижимости</td>\n",
       "    </tr>\n",
       "    <tr>\n",
       "      <th>11</th>\n",
       "      <td>0</td>\n",
       "      <td>-792.701887</td>\n",
       "      <td>40</td>\n",
       "      <td>среднее</td>\n",
       "      <td>1</td>\n",
       "      <td>женат / замужем</td>\n",
       "      <td>0</td>\n",
       "      <td>F</td>\n",
       "      <td>сотрудник</td>\n",
       "      <td>0</td>\n",
       "      <td>77069.234271</td>\n",
       "      <td>покупка коммерческой недвижимости</td>\n",
       "    </tr>\n",
       "    <tr>\n",
       "      <th>12</th>\n",
       "      <td>0</td>\n",
       "      <td>NaN</td>\n",
       "      <td>65</td>\n",
       "      <td>среднее</td>\n",
       "      <td>1</td>\n",
       "      <td>гражданский брак</td>\n",
       "      <td>1</td>\n",
       "      <td>M</td>\n",
       "      <td>пенсионер</td>\n",
       "      <td>0</td>\n",
       "      <td>NaN</td>\n",
       "      <td>сыграть свадьбу</td>\n",
       "    </tr>\n",
       "    <tr>\n",
       "      <th>13</th>\n",
       "      <td>0</td>\n",
       "      <td>-1846.641941</td>\n",
       "      <td>54</td>\n",
       "      <td>неоконченное высшее</td>\n",
       "      <td>2</td>\n",
       "      <td>женат / замужем</td>\n",
       "      <td>0</td>\n",
       "      <td>F</td>\n",
       "      <td>сотрудник</td>\n",
       "      <td>0</td>\n",
       "      <td>130458.228857</td>\n",
       "      <td>приобретение автомобиля</td>\n",
       "    </tr>\n",
       "    <tr>\n",
       "      <th>14</th>\n",
       "      <td>0</td>\n",
       "      <td>-1844.956182</td>\n",
       "      <td>56</td>\n",
       "      <td>высшее</td>\n",
       "      <td>0</td>\n",
       "      <td>гражданский брак</td>\n",
       "      <td>1</td>\n",
       "      <td>F</td>\n",
       "      <td>компаньон</td>\n",
       "      <td>1</td>\n",
       "      <td>165127.911772</td>\n",
       "      <td>покупка жилой недвижимости</td>\n",
       "    </tr>\n",
       "    <tr>\n",
       "      <th>15</th>\n",
       "      <td>1</td>\n",
       "      <td>-972.364419</td>\n",
       "      <td>26</td>\n",
       "      <td>среднее</td>\n",
       "      <td>1</td>\n",
       "      <td>женат / замужем</td>\n",
       "      <td>0</td>\n",
       "      <td>F</td>\n",
       "      <td>сотрудник</td>\n",
       "      <td>0</td>\n",
       "      <td>116820.904450</td>\n",
       "      <td>строительство собственной недвижимости</td>\n",
       "    </tr>\n",
       "    <tr>\n",
       "      <th>16</th>\n",
       "      <td>0</td>\n",
       "      <td>-1719.934226</td>\n",
       "      <td>35</td>\n",
       "      <td>среднее</td>\n",
       "      <td>1</td>\n",
       "      <td>женат / замужем</td>\n",
       "      <td>0</td>\n",
       "      <td>F</td>\n",
       "      <td>сотрудник</td>\n",
       "      <td>0</td>\n",
       "      <td>289202.704229</td>\n",
       "      <td>недвижимость</td>\n",
       "    </tr>\n",
       "    <tr>\n",
       "      <th>17</th>\n",
       "      <td>0</td>\n",
       "      <td>-2369.999720</td>\n",
       "      <td>33</td>\n",
       "      <td>высшее</td>\n",
       "      <td>0</td>\n",
       "      <td>гражданский брак</td>\n",
       "      <td>1</td>\n",
       "      <td>M</td>\n",
       "      <td>сотрудник</td>\n",
       "      <td>0</td>\n",
       "      <td>90410.586745</td>\n",
       "      <td>строительство недвижимости</td>\n",
       "    </tr>\n",
       "    <tr>\n",
       "      <th>18</th>\n",
       "      <td>0</td>\n",
       "      <td>400281.136913</td>\n",
       "      <td>53</td>\n",
       "      <td>среднее</td>\n",
       "      <td>1</td>\n",
       "      <td>вдовец / вдова</td>\n",
       "      <td>2</td>\n",
       "      <td>F</td>\n",
       "      <td>пенсионер</td>\n",
       "      <td>0</td>\n",
       "      <td>56823.777243</td>\n",
       "      <td>на покупку подержанного автомобиля</td>\n",
       "    </tr>\n",
       "    <tr>\n",
       "      <th>19</th>\n",
       "      <td>0</td>\n",
       "      <td>-10038.818549</td>\n",
       "      <td>48</td>\n",
       "      <td>СРЕДНЕЕ</td>\n",
       "      <td>1</td>\n",
       "      <td>в разводе</td>\n",
       "      <td>3</td>\n",
       "      <td>F</td>\n",
       "      <td>сотрудник</td>\n",
       "      <td>0</td>\n",
       "      <td>242831.107982</td>\n",
       "      <td>на покупку своего автомобиля</td>\n",
       "    </tr>\n",
       "  </tbody>\n",
       "</table>\n",
       "</div>"
      ],
      "text/plain": [
       "    children  days_employed  dob_years            education  education_id  \\\n",
       "0          1   -8437.673028         42               высшее             0   \n",
       "1          1   -4024.803754         36              среднее             1   \n",
       "2          0   -5623.422610         33              Среднее             1   \n",
       "3          3   -4124.747207         32              среднее             1   \n",
       "4          0  340266.072047         53              среднее             1   \n",
       "5          0    -926.185831         27               высшее             0   \n",
       "6          0   -2879.202052         43               высшее             0   \n",
       "7          0    -152.779569         50              СРЕДНЕЕ             1   \n",
       "8          2   -6929.865299         35               ВЫСШЕЕ             0   \n",
       "9          0   -2188.756445         41              среднее             1   \n",
       "10         2   -4171.483647         36               высшее             0   \n",
       "11         0    -792.701887         40              среднее             1   \n",
       "12         0            NaN         65              среднее             1   \n",
       "13         0   -1846.641941         54  неоконченное высшее             2   \n",
       "14         0   -1844.956182         56               высшее             0   \n",
       "15         1    -972.364419         26              среднее             1   \n",
       "16         0   -1719.934226         35              среднее             1   \n",
       "17         0   -2369.999720         33               высшее             0   \n",
       "18         0  400281.136913         53              среднее             1   \n",
       "19         0  -10038.818549         48              СРЕДНЕЕ             1   \n",
       "\n",
       "       family_status  family_status_id gender income_type  debt  \\\n",
       "0    женат / замужем                 0      F   сотрудник     0   \n",
       "1    женат / замужем                 0      F   сотрудник     0   \n",
       "2    женат / замужем                 0      M   сотрудник     0   \n",
       "3    женат / замужем                 0      M   сотрудник     0   \n",
       "4   гражданский брак                 1      F   пенсионер     0   \n",
       "5   гражданский брак                 1      M   компаньон     0   \n",
       "6    женат / замужем                 0      F   компаньон     0   \n",
       "7    женат / замужем                 0      M   сотрудник     0   \n",
       "8   гражданский брак                 1      F   сотрудник     0   \n",
       "9    женат / замужем                 0      M   сотрудник     0   \n",
       "10   женат / замужем                 0      M   компаньон     0   \n",
       "11   женат / замужем                 0      F   сотрудник     0   \n",
       "12  гражданский брак                 1      M   пенсионер     0   \n",
       "13   женат / замужем                 0      F   сотрудник     0   \n",
       "14  гражданский брак                 1      F   компаньон     1   \n",
       "15   женат / замужем                 0      F   сотрудник     0   \n",
       "16   женат / замужем                 0      F   сотрудник     0   \n",
       "17  гражданский брак                 1      M   сотрудник     0   \n",
       "18    вдовец / вдова                 2      F   пенсионер     0   \n",
       "19         в разводе                 3      F   сотрудник     0   \n",
       "\n",
       "     total_income                                 purpose  \n",
       "0   253875.639453                           покупка жилья  \n",
       "1   112080.014102                 приобретение автомобиля  \n",
       "2   145885.952297                           покупка жилья  \n",
       "3   267628.550329              дополнительное образование  \n",
       "4   158616.077870                         сыграть свадьбу  \n",
       "5   255763.565419                           покупка жилья  \n",
       "6   240525.971920                       операции с жильем  \n",
       "7   135823.934197                             образование  \n",
       "8    95856.832424                   на проведение свадьбы  \n",
       "9   144425.938277                 покупка жилья для семьи  \n",
       "10  113943.491460                    покупка недвижимости  \n",
       "11   77069.234271       покупка коммерческой недвижимости  \n",
       "12            NaN                         сыграть свадьбу  \n",
       "13  130458.228857                 приобретение автомобиля  \n",
       "14  165127.911772              покупка жилой недвижимости  \n",
       "15  116820.904450  строительство собственной недвижимости  \n",
       "16  289202.704229                            недвижимость  \n",
       "17   90410.586745              строительство недвижимости  \n",
       "18   56823.777243      на покупку подержанного автомобиля  \n",
       "19  242831.107982            на покупку своего автомобиля  "
      ]
     },
     "execution_count": 2,
     "metadata": {},
     "output_type": "execute_result"
    }
   ],
   "source": [
    "data.head(20)"
   ]
  },
  {
   "cell_type": "code",
   "execution_count": 3,
   "id": "d6550011",
   "metadata": {
    "deletable": false,
    "id": "2b757bca",
    "outputId": "15376089-8dad-46c9-b520-c05248d43158"
   },
   "outputs": [
    {
     "name": "stdout",
     "output_type": "stream",
     "text": [
      "<class 'pandas.core.frame.DataFrame'>\n",
      "RangeIndex: 21525 entries, 0 to 21524\n",
      "Data columns (total 12 columns):\n",
      " #   Column            Non-Null Count  Dtype  \n",
      "---  ------            --------------  -----  \n",
      " 0   children          21525 non-null  int64  \n",
      " 1   days_employed     19351 non-null  float64\n",
      " 2   dob_years         21525 non-null  int64  \n",
      " 3   education         21525 non-null  object \n",
      " 4   education_id      21525 non-null  int64  \n",
      " 5   family_status     21525 non-null  object \n",
      " 6   family_status_id  21525 non-null  int64  \n",
      " 7   gender            21525 non-null  object \n",
      " 8   income_type       21525 non-null  object \n",
      " 9   debt              21525 non-null  int64  \n",
      " 10  total_income      19351 non-null  float64\n",
      " 11  purpose           21525 non-null  object \n",
      "dtypes: float64(2), int64(5), object(5)\n",
      "memory usage: 2.0+ MB\n"
     ]
    }
   ],
   "source": [
    "data.info()"
   ]
  },
  {
   "cell_type": "markdown",
   "id": "3c62d489",
   "metadata": {
    "deletable": false,
    "editable": false,
    "id": "333ec665"
   },
   "source": [
    "## Предобработка данных"
   ]
  },
  {
   "cell_type": "markdown",
   "id": "ac97a017",
   "metadata": {
    "deletable": false,
    "editable": false,
    "id": "02d92d53"
   },
   "source": [
    "### Удаление пропусков"
   ]
  },
  {
   "cell_type": "code",
   "execution_count": 4,
   "id": "ea2890ff",
   "metadata": {
    "deletable": false,
    "id": "7f9b2309",
    "outputId": "81f4d817-781c-465c-ed15-91ce4446810d"
   },
   "outputs": [
    {
     "data": {
      "text/plain": [
       "children               0\n",
       "days_employed       2174\n",
       "dob_years              0\n",
       "education              0\n",
       "education_id           0\n",
       "family_status          0\n",
       "family_status_id       0\n",
       "gender                 0\n",
       "income_type            0\n",
       "debt                   0\n",
       "total_income        2174\n",
       "purpose                0\n",
       "dtype: int64"
      ]
     },
     "execution_count": 4,
     "metadata": {},
     "output_type": "execute_result"
    }
   ],
   "source": [
    "data.isna().sum()"
   ]
  },
  {
   "cell_type": "markdown",
   "id": "1b3a519e",
   "metadata": {
    "deletable": false,
    "editable": false,
    "id": "db86e27b"
   },
   "source": [
    "Столбец с пропущенными значениями — `total_income` — хранит данные о доходах. На сумму дохода сильнее всего влияет тип занятости, поэтому заполнить пропуски в этом столбце нужно медианным значением по каждому типу из столбца `income_type`. Например, у человека с типом занятости `сотрудник` пропуск в столбце `total_income` должен быть заполнен медианным доходом среди всех записей с тем же типом."
   ]
  },
  {
   "cell_type": "code",
   "execution_count": 5,
   "id": "4de0d308",
   "metadata": {
    "deletable": false,
    "id": "42006a93"
   },
   "outputs": [],
   "source": [
    "for t in data['income_type'].unique():\n",
    "    data.loc[(data['income_type'] == t) & (data['total_income'].isna()), 'total_income'] = \\\n",
    "    data.loc[(data['income_type'] == t), 'total_income'].median()"
   ]
  },
  {
   "cell_type": "markdown",
   "id": "22ca8e74",
   "metadata": {},
   "source": [
    "Заполним пропуски в столбце `days_employed` медианными значениями по каждого типа занятости `income_type` как в предыдущем шаге."
   ]
  },
  {
   "cell_type": "code",
   "execution_count": null,
   "id": "89fa8e0d",
   "metadata": {},
   "outputs": [],
   "source": [
    "for t in data['income_type'].unique():\n",
    "    data.loc[(data['income_type'] == t) & (data['days_employed'].isna()), 'days_employed'] = \\\n",
    "    data.loc[(data['income_type'] == t), 'days_employed'].median()"
   ]
  },
  {
   "cell_type": "markdown",
   "id": "80d06416",
   "metadata": {
    "deletable": false,
    "editable": false,
    "id": "89da5ece"
   },
   "source": [
    "### Обработка аномальных значений"
   ]
  },
  {
   "cell_type": "markdown",
   "id": "09aa4613",
   "metadata": {
    "deletable": false,
    "editable": false,
    "id": "57964554"
   },
   "source": [
    "В данных могут встречаться артефакты (аномалии) — значения, которые не отражают действительность и появились по какой-то ошибке. Таким артефактом будет отрицательное количество дней трудового стажа в столбце `days_employed`. Для реальных данных это нормально. Обработайте значения в этом столбце: замените все отрицательные значения положительными с помощью метода `abs()`."
   ]
  },
  {
   "cell_type": "code",
   "execution_count": 6,
   "id": "bad39a9d",
   "metadata": {
    "deletable": false,
    "id": "f6f055bf"
   },
   "outputs": [],
   "source": [
    "data['days_employed'] = data['days_employed'].abs()"
   ]
  },
  {
   "cell_type": "markdown",
   "id": "8ce374b7",
   "metadata": {
    "deletable": false,
    "editable": false,
    "id": "6107dd2f"
   },
   "source": [
    "Для каждого типа занятости выведем медианное значение трудового стажа `days_employed` в днях."
   ]
  },
  {
   "cell_type": "code",
   "execution_count": 7,
   "id": "2463ae64",
   "metadata": {
    "deletable": false,
    "id": "85a5faf6",
    "outputId": "801ef80e-522b-4668-f34e-565af7432bcf"
   },
   "outputs": [
    {
     "data": {
      "text/plain": [
       "income_type\n",
       "безработный        366413.652744\n",
       "в декрете            3296.759962\n",
       "госслужащий          2689.368353\n",
       "компаньон            1547.382223\n",
       "пенсионер          365213.306266\n",
       "предприниматель       520.848083\n",
       "сотрудник            1574.202821\n",
       "студент               578.751554\n",
       "Name: days_employed, dtype: float64"
      ]
     },
     "execution_count": 7,
     "metadata": {},
     "output_type": "execute_result"
    }
   ],
   "source": [
    "data.groupby('income_type')['days_employed'].agg('median')"
   ]
  },
  {
   "cell_type": "markdown",
   "id": "038d6b02",
   "metadata": {
    "deletable": false,
    "editable": false,
    "id": "38d1a030"
   },
   "source": [
    "У двух типов (безработные и пенсионеры) получатся аномально большие значения. Исправить такие значения сложно, поэтому оставьте их как есть. Тем более этот столбец не понадобится вам для исследования."
   ]
  },
  {
   "cell_type": "code",
   "execution_count": 8,
   "id": "c981dc26",
   "metadata": {
    "deletable": false,
    "id": "ef5056eb",
    "outputId": "6975b15c-7f95-4697-d16d-a0c79b657b03"
   },
   "outputs": [
    {
     "data": {
      "text/plain": [
       "array([ 1,  0,  3,  2, -1,  4, 20,  5])"
      ]
     },
     "execution_count": 8,
     "metadata": {},
     "output_type": "execute_result"
    }
   ],
   "source": [
    "data['children'].unique()"
   ]
  },
  {
   "cell_type": "markdown",
   "id": "97c5e71b",
   "metadata": {
    "deletable": false,
    "editable": false,
    "id": "40b9ebf2"
   },
   "source": [
    "В столбце `children` есть два аномальных значения. Удалим строки, в которых встречаются такие аномальные значения из датафрейма `data`."
   ]
  },
  {
   "cell_type": "code",
   "execution_count": 9,
   "id": "74712553",
   "metadata": {
    "deletable": false,
    "id": "3ff9801d"
   },
   "outputs": [],
   "source": [
    "data = data[(data['children'] != -1) & (data['children'] != 20)]"
   ]
  },
  {
   "cell_type": "markdown",
   "id": "a6da4bff",
   "metadata": {
    "deletable": false,
    "editable": false,
    "id": "bbc4d0ce"
   },
   "source": [
    "Ещё раз выведем перечень уникальных значений столбца `children`, чтобы убедиться, что артефакты удалены."
   ]
  },
  {
   "cell_type": "code",
   "execution_count": 10,
   "id": "5a8436ab",
   "metadata": {
    "deletable": false,
    "id": "ad4fa8b7",
    "outputId": "b2097101-d49d-44d9-901b-32a65c9463d1"
   },
   "outputs": [
    {
     "data": {
      "text/plain": [
       "array([1, 0, 3, 2, 4, 5])"
      ]
     },
     "execution_count": 10,
     "metadata": {},
     "output_type": "execute_result"
    }
   ],
   "source": [
    "data['children'].unique()"
   ]
  },
  {
   "cell_type": "markdown",
   "id": "19d111ca",
   "metadata": {
    "deletable": false,
    "editable": false,
    "id": "2753f40d"
   },
   "source": [
    "Убедимся, что все пропуски заполнены."
   ]
  },
  {
   "cell_type": "code",
   "execution_count": 12,
   "id": "98b904b2",
   "metadata": {
    "deletable": false,
    "id": "55f78bc2",
    "outputId": "8da1e4e1-358e-4e87-98c9-f261bce0a7b2"
   },
   "outputs": [
    {
     "data": {
      "text/plain": [
       "children            0\n",
       "days_employed       0\n",
       "dob_years           0\n",
       "education           0\n",
       "education_id        0\n",
       "family_status       0\n",
       "family_status_id    0\n",
       "gender              0\n",
       "income_type         0\n",
       "debt                0\n",
       "total_income        0\n",
       "purpose             0\n",
       "dtype: int64"
      ]
     },
     "execution_count": 12,
     "metadata": {},
     "output_type": "execute_result"
    }
   ],
   "source": [
    "data.isna().sum()"
   ]
  },
  {
   "cell_type": "markdown",
   "id": "0d28ad0b",
   "metadata": {
    "deletable": false,
    "editable": false,
    "id": "ddc81e43"
   },
   "source": [
    "### Изменение типов данных"
   ]
  },
  {
   "cell_type": "markdown",
   "id": "a9c3a0ee",
   "metadata": {
    "deletable": false,
    "editable": false,
    "id": "42d19d24"
   },
   "source": [
    "Заменим вещественный тип данных в столбце `total_income` на целочисленный с помощью метода `astype()`."
   ]
  },
  {
   "cell_type": "code",
   "execution_count": 13,
   "id": "df945c6c",
   "metadata": {
    "deletable": false,
    "id": "920b65ad"
   },
   "outputs": [],
   "source": [
    "data['total_income'] = data['total_income'].astype(int)"
   ]
  },
  {
   "cell_type": "markdown",
   "id": "38bfa54b",
   "metadata": {
    "deletable": false,
    "editable": false,
    "id": "80c420ba"
   },
   "source": [
    "### Обработка дубликатов"
   ]
  },
  {
   "cell_type": "markdown",
   "id": "cfdbbbe2",
   "metadata": {
    "deletable": false,
    "editable": false
   },
   "source": [
    "Обработаем неявные дубликаты в столбце `education`. В этом столбце есть одни и те же значения, но записанные по-разному: с использованием заглавных и строчных букв. Приведем их к нижнему регистру. Проверим остальные столбцы."
   ]
  },
  {
   "cell_type": "code",
   "execution_count": 14,
   "id": "98158d48",
   "metadata": {
    "deletable": false
   },
   "outputs": [],
   "source": [
    "data['education'] = data['education'].str.lower()"
   ]
  },
  {
   "cell_type": "code",
   "execution_count": 15,
   "id": "2df15efd",
   "metadata": {
    "deletable": false,
    "id": "3ee445e4",
    "outputId": "9684deba-1934-42d1-99e1-cda61740f822"
   },
   "outputs": [
    {
     "data": {
      "text/plain": [
       "71"
      ]
     },
     "execution_count": 15,
     "metadata": {},
     "output_type": "execute_result"
    }
   ],
   "source": [
    "data.duplicated().sum()"
   ]
  },
  {
   "cell_type": "code",
   "execution_count": 16,
   "id": "2be369df",
   "metadata": {
    "deletable": false,
    "id": "8575fe05"
   },
   "outputs": [],
   "source": [
    "data = data.drop_duplicates()"
   ]
  },
  {
   "cell_type": "markdown",
   "id": "d594daf5",
   "metadata": {
    "deletable": false,
    "editable": false,
    "id": "9904cf55"
   },
   "source": [
    "### Категоризация данных"
   ]
  },
  {
   "cell_type": "markdown",
   "id": "d9b09079",
   "metadata": {
    "deletable": false,
    "editable": false,
    "id": "72fcc8a2"
   },
   "source": [
    "На основании диапазонов, указанных ниже, создадим в датафрейме `data` столбец `total_income_category` с категориями:\n",
    "\n",
    "- 0–30000 — `'E'`;\n",
    "- 30001–50000 — `'D'`;\n",
    "- 50001–200000 — `'C'`;\n",
    "- 200001–1000000 — `'B'`;\n",
    "- 1000001 и выше — `'A'`.\n",
    "\n",
    "\n",
    "Например, кредитополучателю с доходом 25000 нужно назначить категорию `'E'`, а клиенту, получающему 235000, — `'B'`. Используем собственную функцию с именем `categorize_income()` и метод `apply()`."
   ]
  },
  {
   "cell_type": "code",
   "execution_count": 17,
   "id": "298e35cc",
   "metadata": {
    "deletable": false,
    "id": "e1771346"
   },
   "outputs": [],
   "source": [
    "def categorize_income(income):\n",
    "    try:\n",
    "        if 0 <= income <= 30000:\n",
    "            return 'E'\n",
    "        elif 30001 <= income <= 50000:\n",
    "            return 'D'\n",
    "        elif 50001 <= income <= 200000:\n",
    "            return 'C'\n",
    "        elif 200001 <= income <= 1000000:\n",
    "            return 'B'\n",
    "        elif income >= 1000001:\n",
    "            return 'A'\n",
    "    except:\n",
    "        pass"
   ]
  },
  {
   "cell_type": "code",
   "execution_count": 18,
   "id": "f378d614",
   "metadata": {
    "deletable": false,
    "id": "d5f3586d"
   },
   "outputs": [],
   "source": [
    "data['total_income_category'] = data['total_income'].apply(categorize_income)"
   ]
  },
  {
   "cell_type": "markdown",
   "id": "87025359",
   "metadata": {
    "deletable": false,
    "editable": false,
    "id": "dde49b5c"
   },
   "source": [
    "Выведем на экран перечень уникальных целей взятия кредита из столбца `purpose`."
   ]
  },
  {
   "cell_type": "code",
   "execution_count": 19,
   "id": "3c1f7bcc",
   "metadata": {
    "deletable": false,
    "id": "f67ce9b3",
    "outputId": "673c12d9-7d7e-4ae0-9812-c622c89dd244"
   },
   "outputs": [
    {
     "data": {
      "text/plain": [
       "array(['покупка жилья', 'приобретение автомобиля',\n",
       "       'дополнительное образование', 'сыграть свадьбу',\n",
       "       'операции с жильем', 'образование', 'на проведение свадьбы',\n",
       "       'покупка жилья для семьи', 'покупка недвижимости',\n",
       "       'покупка коммерческой недвижимости', 'покупка жилой недвижимости',\n",
       "       'строительство собственной недвижимости', 'недвижимость',\n",
       "       'строительство недвижимости', 'на покупку подержанного автомобиля',\n",
       "       'на покупку своего автомобиля',\n",
       "       'операции с коммерческой недвижимостью',\n",
       "       'строительство жилой недвижимости', 'жилье',\n",
       "       'операции со своей недвижимостью', 'автомобили',\n",
       "       'заняться образованием', 'сделка с подержанным автомобилем',\n",
       "       'получение образования', 'автомобиль', 'свадьба',\n",
       "       'получение дополнительного образования', 'покупка своего жилья',\n",
       "       'операции с недвижимостью', 'получение высшего образования',\n",
       "       'свой автомобиль', 'сделка с автомобилем',\n",
       "       'профильное образование', 'высшее образование',\n",
       "       'покупка жилья для сдачи', 'на покупку автомобиля', 'ремонт жилью',\n",
       "       'заняться высшим образованием'], dtype=object)"
      ]
     },
     "execution_count": 19,
     "metadata": {},
     "output_type": "execute_result"
    }
   ],
   "source": [
    "data['purpose'].unique()"
   ]
  },
  {
   "cell_type": "markdown",
   "id": "44783799",
   "metadata": {
    "deletable": false,
    "editable": false,
    "id": "85d0aef0"
   },
   "source": [
    "Создадим функцию, которая на основании данных из столбца `purpose` сформирует новый столбец `purpose_category`, в который войдут следующие категории:\n",
    "\n",
    "- `'операции с автомобилем'`,\n",
    "- `'операции с недвижимостью'`,\n",
    "- `'проведение свадьбы'`,\n",
    "- `'получение образования'`.\n",
    "\n",
    "Например, если в столбце `purpose` находится подстрока `'на покупку автомобиля'`, то в столбце `purpose_category` должна появиться строка `'операции с автомобилем'`.\n",
    "\n",
    "Используем собственную функцию с именем `categorize_purpose()` и метод `apply()`."
   ]
  },
  {
   "cell_type": "code",
   "execution_count": 20,
   "id": "ae2835ba",
   "metadata": {
    "deletable": false,
    "id": "e149fab4"
   },
   "outputs": [],
   "source": [
    "def categorize_purpose(row):\n",
    "    try:\n",
    "        if 'автом' in row:\n",
    "            return 'операции с автомобилем'\n",
    "        elif 'жил' in row or 'недвиж' in row:\n",
    "            return 'операции с недвижимостью'\n",
    "        elif 'свад' in row:\n",
    "            return 'проведение свадьбы'\n",
    "        elif 'образов' in row:\n",
    "            return 'получение образования'\n",
    "    except:\n",
    "        return 'нет категории'"
   ]
  },
  {
   "cell_type": "code",
   "execution_count": 21,
   "id": "0b1621d7",
   "metadata": {
    "deletable": false,
    "id": "bf36e69b"
   },
   "outputs": [],
   "source": [
    "data['purpose_category'] = data['purpose'].apply(categorize_purpose)"
   ]
  },
  {
   "cell_type": "markdown",
   "id": "98792258",
   "metadata": {
    "deletable": false,
    "editable": false,
    "id": "09b242bf"
   },
   "source": [
    "### Исследуем данные"
   ]
  },
  {
   "cell_type": "markdown",
   "id": "e21f968c",
   "metadata": {
    "deletable": false,
    "editable": false,
    "id": "c5d66278"
   },
   "source": [
    "#### Есть ли зависимость между количеством детей и возвратом кредита в срок?"
   ]
  },
  {
   "cell_type": "code",
   "execution_count": 22,
   "id": "6bdb6725",
   "metadata": {
    "deletable": false,
    "id": "2cacfc4a",
    "scrolled": false
   },
   "outputs": [
    {
     "data": {
      "text/plain": [
       "children\n",
       "0    7.543822\n",
       "1    9.234609\n",
       "2    9.454191\n",
       "3    8.181818\n",
       "4    9.756098\n",
       "5    0.000000\n",
       "Name: ratio, dtype: float64"
      ]
     },
     "execution_count": 22,
     "metadata": {},
     "output_type": "execute_result"
    },
    {
     "data": {
      "image/png": "[encoded data removed]",
      "text/plain": [
       "<Figure size 936x576 with 1 Axes>"
      ]
     },
     "metadata": {},
     "output_type": "display_data"
    }
   ],
   "source": [
    "summary_table = data.groupby('children').agg({'debt': 'sum', 'children': 'count'})\n",
    "summary_table.columns = ['debt', 'num_people_with_children']\n",
    "\n",
    "summary_table['ratio'] = summary_table['debt'] / summary_table['num_people_with_children'] *100\n",
    "sns.set_theme(rc={'figure.figsize':(13,8)})\n",
    "sns.barplot(data=summary_table, x=summary_table.index, y='ratio').set(title='Процент должников по количеству детей')\n",
    "summary_table['ratio']"
   ]
  },
  {
   "cell_type": "markdown",
   "id": "4852e81c",
   "metadata": {
    "deletable": false,
    "id": "3a6b99ec"
   },
   "source": [
    "**Вывод:** По данной таблице видно, что чем количество детей обратно пропорционально числу задолженностей по кредиту, однако надо учесть, что и людей, у которых меньше детей попросту больше, а вот в ratio четко видно, что особой закономерности нет, кроме варианта, что люди без детей чуть чуть чаще возвращают кредиты (процент должников 7.5%), тогда как у людей с 1 или 2 детьми процент должников 9.2% и 9.5% соответсвенно, однако люди с 3 детьми возвращают кредиты вовремя чаще чем с 1 или 2 детьми, у них процент должников 8.2%. По категориям в 4 и 5 детей слишком мелкая выборка чтобы предоставлять выводы."
   ]
  },
  {
   "cell_type": "markdown",
   "id": "3266e750",
   "metadata": {
    "deletable": false,
    "editable": false,
    "id": "97be82ca"
   },
   "source": [
    "#### Есть ли зависимость между семейным положением и возвратом кредита в срок?"
   ]
  },
  {
   "cell_type": "code",
   "execution_count": 23,
   "id": "bea9c610",
   "metadata": {
    "deletable": false,
    "id": "dc3f7ee8"
   },
   "outputs": [
    {
     "data": {
      "text/plain": [
       "family_status\n",
       "Не женат / не замужем    9.763948\n",
       "в разводе                7.064760\n",
       "вдовец / вдова           6.624606\n",
       "гражданский брак         9.313014\n",
       "женат / замужем          7.560558\n",
       "Name: ratio, dtype: float64"
      ]
     },
     "execution_count": 23,
     "metadata": {},
     "output_type": "execute_result"
    },
    {
     "data": {
      "image/png": "[encoded data removed]",
      "text/plain": [
       "<Figure size 936x576 with 1 Axes>"
      ]
     },
     "metadata": {},
     "output_type": "display_data"
    }
   ],
   "source": [
    "summary_table = data.groupby('family_status').agg({'debt': 'sum', 'family_status': 'count'})\n",
    "summary_table.columns = ['debt', 'num_family_statuses']\n",
    "\n",
    "summary_table['ratio'] = summary_table['debt'] / summary_table['num_family_statuses'] *100\n",
    "sns.set_theme(rc={'figure.figsize':(13,8)})\n",
    "sns.barplot(data=summary_table, x=summary_table.index, y='ratio').set(title='Процент должников по семейному статусу')\n",
    "summary_table['ratio']"
   ]
  },
  {
   "cell_type": "markdown",
   "id": "d92c3777",
   "metadata": {
    "deletable": false,
    "id": "1cef7837"
   },
   "source": [
    "**Вывод:**  Данная таблица показывает, что закономерность есть, в зависимости от семейного положения разнится шанс, что человек окажется должником, где вдовцы или вдовы чаще всех возвращают долги в срок, далее на 0.5-1% реже возвращают долги те, кто в разводе или женаты, и последнее место разделяют те, кто либо никогда не был женат, либо в гражданском браке, возвращают еще на 2% реже"
   ]
  },
  {
   "cell_type": "markdown",
   "id": "544f95e4",
   "metadata": {
    "deletable": false,
    "editable": false,
    "id": "1e8b2fca"
   },
   "source": [
    "#### Есть ли зависимость между уровнем дохода и возвратом кредита в срок?"
   ]
  },
  {
   "cell_type": "code",
   "execution_count": 24,
   "id": "67743098",
   "metadata": {
    "deletable": false,
    "id": "cd7e3720"
   },
   "outputs": [
    {
     "data": {
      "text/plain": [
       "total_income_category\n",
       "A    8.000000\n",
       "B    7.060231\n",
       "C    8.498210\n",
       "D    6.017192\n",
       "E    9.090909\n",
       "Name: ratio, dtype: float64"
      ]
     },
     "execution_count": 24,
     "metadata": {},
     "output_type": "execute_result"
    },
    {
     "data": {
      "image/png": "[encoded data removed]",
      "text/plain": [
       "<Figure size 936x576 with 1 Axes>"
      ]
     },
     "metadata": {},
     "output_type": "display_data"
    }
   ],
   "source": [
    "summary_table = data.groupby('total_income_category').agg({'debt': 'sum', 'total_income_category': 'count'})\n",
    "summary_table.columns = ['debt', 'amount_in_category']\n",
    "\n",
    "summary_table['ratio'] = summary_table['debt'] / summary_table['amount_in_category'] *100\n",
    "sns.set_theme(rc={'figure.figsize':(13,8)})\n",
    "sns.barplot(data=summary_table, x=summary_table.index, y='ratio').set(title='Процент должников по категориям доходов')\n",
    "summary_table['ratio']"
   ]
  },
  {
   "cell_type": "markdown",
   "id": "cdd5913c",
   "metadata": {
    "deletable": false,
    "id": "e8593def"
   },
   "source": [
    "**Вывод:** В данной таблице чтобы делать выводы выборка категории Е и А слишком малы, чтобы делать выводы, однако по категориям В, С и D нет линейной зависимости, наиболее часто вовремя возвращают долги заемщики из категории D, где имеют задолженность только 6%, далее из категории В с процентом должников в 7% и далее из категории В с 8.5% должников по кредитам"
   ]
  },
  {
   "cell_type": "markdown",
   "id": "addd1543",
   "metadata": {
    "deletable": false,
    "editable": false,
    "id": "99ecbd1f"
   },
   "source": [
    "#### 3.4 Как разные цели кредита влияют на его возврат в срок?"
   ]
  },
  {
   "cell_type": "code",
   "execution_count": 25,
   "id": "579f2b58",
   "metadata": {
    "deletable": false,
    "id": "2b687290"
   },
   "outputs": [
    {
     "data": {
      "text/plain": [
       "purpose_category\n",
       "операции с автомобилем      9.347978\n",
       "операции с недвижимостью    7.255139\n",
       "получение образования       9.252758\n",
       "проведение свадьбы          7.911803\n",
       "Name: ratio, dtype: float64"
      ]
     },
     "execution_count": 25,
     "metadata": {},
     "output_type": "execute_result"
    },
    {
     "data": {
      "image/png": "[encoded data removed]",
      "text/plain": [
       "<Figure size 936x576 with 1 Axes>"
      ]
     },
     "metadata": {},
     "output_type": "display_data"
    }
   ],
   "source": [
    "summary_table = data.groupby('purpose_category').agg({'debt': 'sum', 'purpose_category': 'count'})\n",
    "summary_table.columns = ['debt', 'amount_in_category']\n",
    "\n",
    "summary_table['ratio'] = summary_table['debt'] / summary_table['amount_in_category'] *100\n",
    "sns.set_theme(rc={'figure.figsize':(13,8)})\n",
    "sns.barplot(data=summary_table, x=summary_table.index, y='ratio').set(title='Процент должников по целям взятия кредита')\n",
    "summary_table['ratio']"
   ]
  },
  {
   "cell_type": "markdown",
   "id": "8d0281b3",
   "metadata": {
    "deletable": false,
    "id": "b4bb2ce6"
   },
   "source": [
    "**Вывод:** Разные цели влияют, для недвижимости и свадеб возвращают в срок чаще чем для операций с авто или образования"
   ]
  },
  {
   "cell_type": "markdown",
   "id": "2eca49c0",
   "metadata": {
    "deletable": false,
    "editable": false,
    "id": "09c3ac4c"
   },
   "source": [
    "#### Возможные причины появления пропусков в исходных данных."
   ]
  },
  {
   "cell_type": "markdown",
   "id": "4a1ae3e3",
   "metadata": {
    "deletable": false,
    "id": "9da2ceda"
   },
   "source": [
    "ошибка тех, кто данные заполнял, нехватка документов, предпочли скрыть изнальные данные при подаче заявлений, ошибки программы с утерей данных"
   ]
  },
  {
   "cell_type": "markdown",
   "id": "eadaafe3",
   "metadata": {
    "deletable": false,
    "editable": false,
    "id": "7b0487d6"
   },
   "source": [
    "#### Почему заполнить пропуски медианным значением — лучшее решение для количественных переменных."
   ]
  },
  {
   "cell_type": "markdown",
   "id": "c5da702b",
   "metadata": {
    "deletable": false,
    "id": "7ecf2b8e"
   },
   "source": [
    "На среднее сильно могут повлиять \"выбросы\", но на медиану сильно разнящиеся значения влияют слабо, что делает их стабильнее"
   ]
  },
  {
   "cell_type": "markdown",
   "id": "b8a2da85",
   "metadata": {
    "deletable": false,
    "editable": false,
    "id": "6db5255a"
   },
   "source": [
    "### Общий вывод."
   ]
  },
  {
   "cell_type": "markdown",
   "id": "032a32d2",
   "metadata": {
    "deletable": false,
    "id": "bad65432"
   },
   "source": [
    "## Была проведена работа со статистикой о платёжеспособности клиентов, предоставленной банком\n",
    "\n",
    "были выявлены некоторые зависимости в следующих характеристиках: количество детей, уровень дохода, семейное положение, цели кредита\n",
    "\n",
    "##### процент должников по кредиту в зависимости от количества детей:\n",
    "0:    7.5%  \n",
    "1:    9.2%  \n",
    "2:    9.5%  \n",
    "3:    8.2%\n",
    "\n",
    "##### процент должников по кредиту в зависимости от семейного положения:\n",
    "\n",
    "Не женат / не замужем    9.8%  \n",
    "в разводе                7.1%  \n",
    "вдовец / вдова           6.6%  \n",
    "гражданский брак         9.3%  \n",
    "женат / замужем          7.6%\n",
    "\n",
    "##### процент должников по кредиту в зависимости от категории доходов:\n",
    "\n",
    "B    7.0%  \n",
    "C    8.5%  \n",
    "D    6.0%  \n",
    "\n",
    "##### процент должников по кредиту в зависимости от целей кредита:\n",
    "\n",
    "операции с автомобилем      9.3%  \n",
    "операции с недвижимостью    7.3%  \n",
    "получение образования       9.3%  \n",
    "проведение свадьбы          7.9%\n",
    "\n",
    "### идеальным клиентом будет: \n",
    "бездетный вдовец или вдова с доходом от 30001 до 50000, который берет кредит на операции с недвижимостью,\n",
    "а самым худшим по статистике клиентом будет: не женатый(ая) с двумя детьми, доходом от 50001 до 200000, который берет кредит для операций с автомобилем\n",
    "### для лучшего сбора данных можно:\n",
    "ужесточить требования заполнения заявлений на кредит, проверить программы и механизмы записи и передачи данных \n",
    "\n",
    "также я посмотрел что вы порекомендовали по поводу визуализации и для данного примера на данном этапе ничего лучше обычного barplot я не нашел, а хотелось, максимум что можно это притянуть за уши и в разделе с детьми использовать гистограмму или сделать расширенную версию по доходам, но тогда нужно больше категорий доходов :)"
   ]
  }
 ],
 "metadata": {
  "ExecuteTimeLog": [
   {
    "duration": 57,
    "start_time": "2024-03-08T15:36:51.200Z"
   },
   {
    "duration": 477,
    "start_time": "2024-03-08T15:36:57.723Z"
   },
   {
    "duration": 27,
    "start_time": "2024-03-08T15:36:58.201Z"
   },
   {
    "duration": 16,
    "start_time": "2024-03-08T15:36:58.230Z"
   },
   {
    "duration": 16,
    "start_time": "2024-03-08T15:36:58.248Z"
   },
   {
    "duration": 73,
    "start_time": "2024-03-08T15:36:58.266Z"
   },
   {
    "duration": 3,
    "start_time": "2024-03-08T15:36:58.341Z"
   },
   {
    "duration": 10,
    "start_time": "2024-03-08T15:36:58.346Z"
   },
   {
    "duration": 4,
    "start_time": "2024-03-08T15:36:58.358Z"
   },
   {
    "duration": 7,
    "start_time": "2024-03-08T15:36:58.364Z"
   },
   {
    "duration": 5,
    "start_time": "2024-03-08T15:36:58.374Z"
   },
   {
    "duration": 76,
    "start_time": "2024-03-08T15:36:58.380Z"
   },
   {
    "duration": 10,
    "start_time": "2024-03-08T15:36:58.457Z"
   },
   {
    "duration": 4,
    "start_time": "2024-03-08T15:36:58.468Z"
   },
   {
    "duration": 16,
    "start_time": "2024-03-08T15:36:58.474Z"
   },
   {
    "duration": 49,
    "start_time": "2024-03-08T15:36:58.492Z"
   },
   {
    "duration": 17,
    "start_time": "2024-03-08T15:36:58.543Z"
   },
   {
    "duration": 4,
    "start_time": "2024-03-08T15:36:58.561Z"
   },
   {
    "duration": 17,
    "start_time": "2024-03-08T15:36:58.566Z"
   },
   {
    "duration": 5,
    "start_time": "2024-03-08T15:36:58.584Z"
   },
   {
    "duration": 3,
    "start_time": "2024-03-08T15:36:58.591Z"
   },
   {
    "duration": 40,
    "start_time": "2024-03-08T15:36:58.595Z"
   },
   {
    "duration": 14,
    "start_time": "2024-03-08T15:36:58.637Z"
   },
   {
    "duration": 9,
    "start_time": "2024-03-08T15:36:58.653Z"
   },
   {
    "duration": 3,
    "start_time": "2024-03-08T15:36:58.663Z"
   },
   {
    "duration": 3,
    "start_time": "2024-03-08T15:36:58.668Z"
   },
   {
    "duration": 17,
    "start_time": "2024-03-08T15:40:51.397Z"
   },
   {
    "duration": 23,
    "start_time": "2024-03-08T15:41:20.128Z"
   },
   {
    "duration": 3,
    "start_time": "2024-03-08T15:41:28.605Z"
   },
   {
    "duration": 17,
    "start_time": "2024-03-08T15:41:36.792Z"
   },
   {
    "duration": 76,
    "start_time": "2024-03-08T15:50:46.756Z"
   },
   {
    "duration": 30,
    "start_time": "2024-03-08T15:50:54.951Z"
   },
   {
    "duration": 14,
    "start_time": "2024-03-08T15:51:41.392Z"
   },
   {
    "duration": 22,
    "start_time": "2024-03-08T15:52:42.334Z"
   },
   {
    "duration": 21,
    "start_time": "2024-03-08T15:53:01.435Z"
   },
   {
    "duration": 29,
    "start_time": "2024-03-08T15:53:16.808Z"
   },
   {
    "duration": 15,
    "start_time": "2024-03-08T15:54:25.360Z"
   },
   {
    "duration": 9,
    "start_time": "2024-03-08T15:59:00.433Z"
   },
   {
    "duration": 9,
    "start_time": "2024-03-08T15:59:16.943Z"
   },
   {
    "duration": 23,
    "start_time": "2024-03-08T15:59:34.510Z"
   },
   {
    "duration": 10,
    "start_time": "2024-03-08T15:59:54.433Z"
   },
   {
    "duration": 12,
    "start_time": "2024-03-08T16:00:07.496Z"
   },
   {
    "duration": 23,
    "start_time": "2024-03-08T16:04:15.815Z"
   },
   {
    "duration": 14,
    "start_time": "2024-03-08T16:04:22.674Z"
   },
   {
    "duration": 14,
    "start_time": "2024-03-08T16:04:51.331Z"
   },
   {
    "duration": 13,
    "start_time": "2024-03-08T16:05:00.193Z"
   },
   {
    "duration": 15,
    "start_time": "2024-03-08T16:08:56.058Z"
   },
   {
    "duration": 13,
    "start_time": "2024-03-08T16:09:50.155Z"
   },
   {
    "duration": 14,
    "start_time": "2024-03-08T16:12:18.600Z"
   },
   {
    "duration": 15,
    "start_time": "2024-03-08T16:13:46.673Z"
   },
   {
    "duration": 7,
    "start_time": "2024-03-08T16:13:54.693Z"
   },
   {
    "duration": 14,
    "start_time": "2024-03-08T16:15:53.873Z"
   },
   {
    "duration": 18,
    "start_time": "2024-03-08T16:16:12.448Z"
   },
   {
    "duration": 23,
    "start_time": "2024-03-08T16:17:49.314Z"
   },
   {
    "duration": 19,
    "start_time": "2024-03-08T16:19:51.066Z"
   },
   {
    "duration": 19,
    "start_time": "2024-03-08T16:20:15.722Z"
   },
   {
    "duration": 17,
    "start_time": "2024-03-08T16:31:43.848Z"
   },
   {
    "duration": 16,
    "start_time": "2024-03-08T16:31:53.795Z"
   },
   {
    "duration": 19,
    "start_time": "2024-03-08T16:36:34.367Z"
   },
   {
    "duration": 79,
    "start_time": "2024-03-08T16:36:48.074Z"
   },
   {
    "duration": 17,
    "start_time": "2024-03-08T16:36:52.977Z"
   },
   {
    "duration": 12,
    "start_time": "2024-03-08T16:39:36.452Z"
   },
   {
    "duration": 13,
    "start_time": "2024-03-08T16:45:07.993Z"
   },
   {
    "duration": 15,
    "start_time": "2024-03-08T16:45:17.665Z"
   },
   {
    "duration": 16,
    "start_time": "2024-03-08T16:47:04.873Z"
   },
   {
    "duration": 20,
    "start_time": "2024-03-08T16:47:57.120Z"
   },
   {
    "duration": 14,
    "start_time": "2024-03-08T16:48:19.006Z"
   },
   {
    "duration": 14,
    "start_time": "2024-03-08T16:51:19.673Z"
   },
   {
    "duration": 684,
    "start_time": "2024-03-08T21:23:18.777Z"
   },
   {
    "duration": 21,
    "start_time": "2024-03-08T21:23:19.463Z"
   },
   {
    "duration": 14,
    "start_time": "2024-03-08T21:23:19.486Z"
   },
   {
    "duration": 10,
    "start_time": "2024-03-08T21:23:19.502Z"
   },
   {
    "duration": 43,
    "start_time": "2024-03-08T21:23:19.514Z"
   },
   {
    "duration": 3,
    "start_time": "2024-03-08T21:23:19.559Z"
   },
   {
    "duration": 33,
    "start_time": "2024-03-08T21:23:19.565Z"
   },
   {
    "duration": 4,
    "start_time": "2024-03-08T21:23:19.600Z"
   },
   {
    "duration": 9,
    "start_time": "2024-03-08T21:23:19.606Z"
   },
   {
    "duration": 5,
    "start_time": "2024-03-08T21:23:19.618Z"
   },
   {
    "duration": 57,
    "start_time": "2024-03-08T21:23:19.625Z"
   },
   {
    "duration": 10,
    "start_time": "2024-03-08T21:23:19.684Z"
   },
   {
    "duration": 22,
    "start_time": "2024-03-08T21:23:19.696Z"
   },
   {
    "duration": 21,
    "start_time": "2024-03-08T21:23:19.720Z"
   },
   {
    "duration": 21,
    "start_time": "2024-03-08T21:23:19.742Z"
   },
   {
    "duration": 16,
    "start_time": "2024-03-08T21:23:19.765Z"
   },
   {
    "duration": 4,
    "start_time": "2024-03-08T21:23:19.782Z"
   },
   {
    "duration": 46,
    "start_time": "2024-03-08T21:23:19.787Z"
   },
   {
    "duration": 6,
    "start_time": "2024-03-08T21:23:19.835Z"
   },
   {
    "duration": 5,
    "start_time": "2024-03-08T21:23:19.842Z"
   },
   {
    "duration": 18,
    "start_time": "2024-03-08T21:23:19.849Z"
   },
   {
    "duration": 12,
    "start_time": "2024-03-08T21:23:19.868Z"
   },
   {
    "duration": 13,
    "start_time": "2024-03-08T21:23:19.882Z"
   },
   {
    "duration": 43,
    "start_time": "2024-03-08T21:23:19.896Z"
   },
   {
    "duration": 13,
    "start_time": "2024-03-08T21:23:19.940Z"
   },
   {
    "duration": 638,
    "start_time": "2024-03-09T00:04:33.521Z"
   },
   {
    "duration": 19,
    "start_time": "2024-03-09T00:04:34.160Z"
   },
   {
    "duration": 11,
    "start_time": "2024-03-09T00:04:34.180Z"
   },
   {
    "duration": 7,
    "start_time": "2024-03-09T00:04:34.193Z"
   },
   {
    "duration": 27,
    "start_time": "2024-03-09T00:04:34.201Z"
   },
   {
    "duration": 3,
    "start_time": "2024-03-09T00:04:34.229Z"
   },
   {
    "duration": 9,
    "start_time": "2024-03-09T00:04:34.233Z"
   },
   {
    "duration": 3,
    "start_time": "2024-03-09T00:04:34.243Z"
   },
   {
    "duration": 7,
    "start_time": "2024-03-09T00:04:34.247Z"
   },
   {
    "duration": 3,
    "start_time": "2024-03-09T00:04:34.256Z"
   },
   {
    "duration": 48,
    "start_time": "2024-03-09T00:04:34.260Z"
   },
   {
    "duration": 8,
    "start_time": "2024-03-09T00:04:34.309Z"
   },
   {
    "duration": 3,
    "start_time": "2024-03-09T00:04:34.318Z"
   },
   {
    "duration": 12,
    "start_time": "2024-03-09T00:04:34.322Z"
   },
   {
    "duration": 15,
    "start_time": "2024-03-09T00:04:34.335Z"
   },
   {
    "duration": 14,
    "start_time": "2024-03-09T00:04:34.351Z"
   },
   {
    "duration": 3,
    "start_time": "2024-03-09T00:04:34.366Z"
   },
   {
    "duration": 35,
    "start_time": "2024-03-09T00:04:34.371Z"
   },
   {
    "duration": 4,
    "start_time": "2024-03-09T00:04:34.407Z"
   },
   {
    "duration": 3,
    "start_time": "2024-03-09T00:04:34.412Z"
   },
   {
    "duration": 9,
    "start_time": "2024-03-09T00:04:34.416Z"
   },
   {
    "duration": 10,
    "start_time": "2024-03-09T00:04:34.427Z"
   },
   {
    "duration": 10,
    "start_time": "2024-03-09T00:04:34.438Z"
   },
   {
    "duration": 11,
    "start_time": "2024-03-09T00:04:34.449Z"
   },
   {
    "duration": 941,
    "start_time": "2024-03-09T00:04:34.461Z"
   },
   {
    "duration": 16,
    "start_time": "2024-03-09T00:04:43.791Z"
   },
   {
    "duration": 804,
    "start_time": "2024-03-09T00:05:12.843Z"
   },
   {
    "duration": 862,
    "start_time": "2024-03-09T00:05:46.241Z"
   },
   {
    "duration": 815,
    "start_time": "2024-03-09T00:06:23.780Z"
   },
   {
    "duration": 20,
    "start_time": "2024-03-09T00:06:30.194Z"
   },
   {
    "duration": 9,
    "start_time": "2024-03-09T00:07:31.661Z"
   },
   {
    "duration": 9,
    "start_time": "2024-03-09T00:07:34.239Z"
   },
   {
    "duration": 19,
    "start_time": "2024-03-09T00:07:38.608Z"
   },
   {
    "duration": 18,
    "start_time": "2024-03-09T00:08:03.133Z"
   },
   {
    "duration": 730,
    "start_time": "2024-03-09T00:10:33.041Z"
   },
   {
    "duration": 350,
    "start_time": "2024-03-09T00:10:38.815Z"
   },
   {
    "duration": 789,
    "start_time": "2024-03-09T00:11:59.094Z"
   },
   {
    "duration": 341,
    "start_time": "2024-03-09T00:12:08.925Z"
   },
   {
    "duration": 1529,
    "start_time": "2024-03-12T02:12:27.057Z"
   },
   {
    "duration": 566,
    "start_time": "2024-03-12T02:12:34.461Z"
   },
   {
    "duration": 23,
    "start_time": "2024-03-12T02:12:35.029Z"
   },
   {
    "duration": 18,
    "start_time": "2024-03-12T02:12:35.053Z"
   },
   {
    "duration": 14,
    "start_time": "2024-03-12T02:12:35.073Z"
   },
   {
    "duration": 43,
    "start_time": "2024-03-12T02:12:35.089Z"
   },
   {
    "duration": 3,
    "start_time": "2024-03-12T02:12:35.133Z"
   },
   {
    "duration": 15,
    "start_time": "2024-03-12T02:12:35.138Z"
   },
   {
    "duration": 16,
    "start_time": "2024-03-12T02:12:35.155Z"
   },
   {
    "duration": 12,
    "start_time": "2024-03-12T02:12:35.172Z"
   },
   {
    "duration": 5,
    "start_time": "2024-03-12T02:12:35.186Z"
   },
   {
    "duration": 48,
    "start_time": "2024-03-12T02:12:35.193Z"
   },
   {
    "duration": 10,
    "start_time": "2024-03-12T02:12:35.243Z"
   },
   {
    "duration": 4,
    "start_time": "2024-03-12T02:12:35.255Z"
   },
   {
    "duration": 25,
    "start_time": "2024-03-12T02:12:35.260Z"
   },
   {
    "duration": 29,
    "start_time": "2024-03-12T02:12:35.286Z"
   },
   {
    "duration": 18,
    "start_time": "2024-03-12T02:12:35.316Z"
   },
   {
    "duration": 8,
    "start_time": "2024-03-12T02:12:35.336Z"
   },
   {
    "duration": 35,
    "start_time": "2024-03-12T02:12:35.346Z"
   },
   {
    "duration": 18,
    "start_time": "2024-03-12T02:12:35.382Z"
   },
   {
    "duration": 3,
    "start_time": "2024-03-12T02:12:35.402Z"
   },
   {
    "duration": 23,
    "start_time": "2024-03-12T02:12:35.407Z"
   },
   {
    "duration": 13,
    "start_time": "2024-03-12T02:12:35.432Z"
   },
   {
    "duration": 18,
    "start_time": "2024-03-12T02:12:35.447Z"
   },
   {
    "duration": 18,
    "start_time": "2024-03-12T02:12:35.467Z"
   },
   {
    "duration": 781,
    "start_time": "2024-03-12T02:12:35.487Z"
   },
   {
    "duration": 299,
    "start_time": "2024-03-12T02:15:42.437Z"
   },
   {
    "duration": 15,
    "start_time": "2024-03-12T02:15:53.753Z"
   },
   {
    "duration": 277,
    "start_time": "2024-03-12T02:15:57.715Z"
   },
   {
    "duration": 289,
    "start_time": "2024-03-12T02:16:10.811Z"
   },
   {
    "duration": 168,
    "start_time": "2024-03-12T02:16:47.414Z"
   },
   {
    "duration": 166,
    "start_time": "2024-03-12T02:17:11.218Z"
   },
   {
    "duration": 152,
    "start_time": "2024-03-12T02:19:04.881Z"
   },
   {
    "duration": 223,
    "start_time": "2024-03-12T02:19:52.965Z"
   },
   {
    "duration": 108,
    "start_time": "2024-03-12T02:20:29.393Z"
   },
   {
    "duration": 16,
    "start_time": "2024-03-12T02:20:50.865Z"
   },
   {
    "duration": 124,
    "start_time": "2024-03-12T02:21:15.791Z"
   },
   {
    "duration": 127,
    "start_time": "2024-03-12T02:21:34.957Z"
   },
   {
    "duration": 131,
    "start_time": "2024-03-12T02:21:41.317Z"
   },
   {
    "duration": 15,
    "start_time": "2024-03-12T02:22:06.050Z"
   },
   {
    "duration": 123,
    "start_time": "2024-03-12T02:22:20.245Z"
   },
   {
    "duration": 120,
    "start_time": "2024-03-12T02:22:32.824Z"
   },
   {
    "duration": 22,
    "start_time": "2024-03-12T02:24:19.098Z"
   },
   {
    "duration": 3,
    "start_time": "2024-03-12T02:30:09.285Z"
   },
   {
    "duration": 4,
    "start_time": "2024-03-12T02:30:22.470Z"
   },
   {
    "duration": 3,
    "start_time": "2024-03-12T02:30:24.900Z"
   },
   {
    "duration": 21,
    "start_time": "2024-03-12T02:30:31.274Z"
   },
   {
    "duration": 9,
    "start_time": "2024-03-12T02:34:04.867Z"
   },
   {
    "duration": 27,
    "start_time": "2024-03-12T02:34:24.901Z"
   },
   {
    "duration": 1593,
    "start_time": "2024-03-12T02:35:44.049Z"
   },
   {
    "duration": 28,
    "start_time": "2024-03-12T02:36:25.677Z"
   },
   {
    "duration": 33,
    "start_time": "2024-03-12T02:40:13.958Z"
   },
   {
    "duration": 0,
    "start_time": "2024-03-12T02:40:32.399Z"
   },
   {
    "duration": 0,
    "start_time": "2024-03-12T02:40:45.279Z"
   },
   {
    "duration": 23,
    "start_time": "2024-03-12T02:40:51.269Z"
   },
   {
    "duration": 1428,
    "start_time": "2024-03-12T17:13:15.713Z"
   },
   {
    "duration": 20,
    "start_time": "2024-03-12T17:13:17.143Z"
   },
   {
    "duration": 17,
    "start_time": "2024-03-12T17:13:17.164Z"
   },
   {
    "duration": 11,
    "start_time": "2024-03-12T17:13:17.183Z"
   },
   {
    "duration": 43,
    "start_time": "2024-03-12T17:13:17.195Z"
   },
   {
    "duration": 4,
    "start_time": "2024-03-12T17:13:17.239Z"
   },
   {
    "duration": 10,
    "start_time": "2024-03-12T17:13:17.244Z"
   },
   {
    "duration": 4,
    "start_time": "2024-03-12T17:13:17.270Z"
   },
   {
    "duration": 7,
    "start_time": "2024-03-12T17:13:17.275Z"
   },
   {
    "duration": 5,
    "start_time": "2024-03-12T17:13:17.284Z"
   },
   {
    "duration": 41,
    "start_time": "2024-03-12T17:13:17.290Z"
   },
   {
    "duration": 40,
    "start_time": "2024-03-12T17:13:17.332Z"
   },
   {
    "duration": 4,
    "start_time": "2024-03-12T17:13:17.373Z"
   },
   {
    "duration": 13,
    "start_time": "2024-03-12T17:13:17.379Z"
   },
   {
    "duration": 20,
    "start_time": "2024-03-12T17:13:17.393Z"
   },
   {
    "duration": 18,
    "start_time": "2024-03-12T17:13:17.414Z"
   },
   {
    "duration": 3,
    "start_time": "2024-03-12T17:13:17.433Z"
   },
   {
    "duration": 38,
    "start_time": "2024-03-12T17:13:17.438Z"
   },
   {
    "duration": 5,
    "start_time": "2024-03-12T17:13:17.478Z"
   },
   {
    "duration": 8,
    "start_time": "2024-03-12T17:13:17.485Z"
   },
   {
    "duration": 25,
    "start_time": "2024-03-12T17:13:17.494Z"
   },
   {
    "duration": 132,
    "start_time": "2024-03-12T17:13:17.520Z"
   },
   {
    "duration": 132,
    "start_time": "2024-03-12T17:13:17.653Z"
   },
   {
    "duration": 126,
    "start_time": "2024-03-12T17:13:17.787Z"
   },
   {
    "duration": 123,
    "start_time": "2024-03-12T17:13:17.915Z"
   },
   {
    "duration": 1391,
    "start_time": "2024-03-12T19:53:31.907Z"
   },
   {
    "duration": 20,
    "start_time": "2024-03-12T19:53:33.300Z"
   },
   {
    "duration": 15,
    "start_time": "2024-03-12T19:53:33.322Z"
   },
   {
    "duration": 10,
    "start_time": "2024-03-12T19:53:33.340Z"
   },
   {
    "duration": 35,
    "start_time": "2024-03-12T19:53:33.359Z"
   },
   {
    "duration": 4,
    "start_time": "2024-03-12T19:53:33.396Z"
   },
   {
    "duration": 8,
    "start_time": "2024-03-12T19:53:33.401Z"
   },
   {
    "duration": 4,
    "start_time": "2024-03-12T19:53:33.411Z"
   },
   {
    "duration": 7,
    "start_time": "2024-03-12T19:53:33.416Z"
   },
   {
    "duration": 34,
    "start_time": "2024-03-12T19:53:33.425Z"
   },
   {
    "duration": 42,
    "start_time": "2024-03-12T19:53:33.461Z"
   },
   {
    "duration": 10,
    "start_time": "2024-03-12T19:53:33.504Z"
   },
   {
    "duration": 3,
    "start_time": "2024-03-12T19:53:33.515Z"
   },
   {
    "duration": 12,
    "start_time": "2024-03-12T19:53:33.519Z"
   },
   {
    "duration": 42,
    "start_time": "2024-03-12T19:53:33.533Z"
   },
   {
    "duration": 16,
    "start_time": "2024-03-12T19:53:33.576Z"
   },
   {
    "duration": 4,
    "start_time": "2024-03-12T19:53:33.593Z"
   },
   {
    "duration": 21,
    "start_time": "2024-03-12T19:53:33.598Z"
   },
   {
    "duration": 10,
    "start_time": "2024-03-12T19:53:33.620Z"
   },
   {
    "duration": 3,
    "start_time": "2024-03-12T19:53:33.632Z"
   },
   {
    "duration": 28,
    "start_time": "2024-03-12T19:53:33.636Z"
   },
   {
    "duration": 137,
    "start_time": "2024-03-12T19:53:33.665Z"
   },
   {
    "duration": 130,
    "start_time": "2024-03-12T19:53:33.803Z"
   },
   {
    "duration": 129,
    "start_time": "2024-03-12T19:53:33.935Z"
   },
   {
    "duration": 200,
    "start_time": "2024-03-12T19:53:34.066Z"
   },
   {
    "duration": 125,
    "start_time": "2024-03-12T19:55:15.125Z"
   },
   {
    "duration": 126,
    "start_time": "2024-03-12T19:55:26.619Z"
   },
   {
    "duration": 122,
    "start_time": "2024-03-12T19:55:42.897Z"
   },
   {
    "duration": 122,
    "start_time": "2024-03-12T19:57:10.580Z"
   },
   {
    "duration": 191,
    "start_time": "2024-03-12T19:57:15.973Z"
   },
   {
    "duration": 120,
    "start_time": "2024-03-12T19:59:23.631Z"
   },
   {
    "duration": 180,
    "start_time": "2024-03-12T20:01:38.167Z"
   },
   {
    "duration": 179,
    "start_time": "2024-03-12T20:03:34.578Z"
   },
   {
    "duration": 152,
    "start_time": "2024-03-12T20:04:28.680Z"
   },
   {
    "duration": 140,
    "start_time": "2024-03-12T20:04:39.312Z"
   },
   {
    "duration": 176,
    "start_time": "2024-03-12T20:04:44.337Z"
   },
   {
    "duration": 178,
    "start_time": "2024-03-12T20:04:57.855Z"
   },
   {
    "duration": 13,
    "start_time": "2024-03-12T20:07:35.988Z"
   },
   {
    "duration": 189,
    "start_time": "2024-03-12T20:09:30.591Z"
   },
   {
    "duration": 188,
    "start_time": "2024-03-12T20:09:40.769Z"
   },
   {
    "duration": 187,
    "start_time": "2024-03-12T20:09:58.872Z"
   },
   {
    "duration": 169,
    "start_time": "2024-03-12T20:10:13.096Z"
   },
   {
    "duration": 233,
    "start_time": "2024-03-12T20:26:57.279Z"
   },
   {
    "duration": 1236,
    "start_time": "2024-03-12T20:27:29.557Z"
   },
   {
    "duration": 19,
    "start_time": "2024-03-12T20:27:30.795Z"
   },
   {
    "duration": 38,
    "start_time": "2024-03-12T20:27:30.816Z"
   },
   {
    "duration": 43,
    "start_time": "2024-03-12T20:27:30.856Z"
   },
   {
    "duration": 57,
    "start_time": "2024-03-12T20:27:30.900Z"
   },
   {
    "duration": 3,
    "start_time": "2024-03-12T20:27:30.959Z"
   },
   {
    "duration": 30,
    "start_time": "2024-03-12T20:27:30.963Z"
   },
   {
    "duration": 26,
    "start_time": "2024-03-12T20:27:30.995Z"
   },
   {
    "duration": 45,
    "start_time": "2024-03-12T20:27:31.023Z"
   },
   {
    "duration": 36,
    "start_time": "2024-03-12T20:27:31.071Z"
   },
   {
    "duration": 86,
    "start_time": "2024-03-12T20:27:31.109Z"
   },
   {
    "duration": 23,
    "start_time": "2024-03-12T20:27:31.196Z"
   },
   {
    "duration": 17,
    "start_time": "2024-03-12T20:27:31.221Z"
   },
   {
    "duration": 32,
    "start_time": "2024-03-12T20:27:31.240Z"
   },
   {
    "duration": 44,
    "start_time": "2024-03-12T20:27:31.274Z"
   },
   {
    "duration": 16,
    "start_time": "2024-03-12T20:27:31.319Z"
   },
   {
    "duration": 12,
    "start_time": "2024-03-12T20:27:31.337Z"
   },
   {
    "duration": 61,
    "start_time": "2024-03-12T20:27:31.351Z"
   },
   {
    "duration": 19,
    "start_time": "2024-03-12T20:27:31.414Z"
   },
   {
    "duration": 9,
    "start_time": "2024-03-12T20:27:31.435Z"
   },
   {
    "duration": 21,
    "start_time": "2024-03-12T20:27:31.445Z"
   },
   {
    "duration": 190,
    "start_time": "2024-03-12T20:27:31.468Z"
   },
   {
    "duration": 172,
    "start_time": "2024-03-12T20:27:31.660Z"
   },
   {
    "duration": 166,
    "start_time": "2024-03-12T20:27:31.834Z"
   },
   {
    "duration": 172,
    "start_time": "2024-03-12T20:27:32.002Z"
   },
   {
    "duration": 1464,
    "start_time": "2024-04-03T09:30:26.642Z"
   },
   {
    "duration": 22,
    "start_time": "2024-04-03T09:30:28.108Z"
   },
   {
    "duration": 20,
    "start_time": "2024-04-03T09:30:28.139Z"
   },
   {
    "duration": 24,
    "start_time": "2024-04-03T09:30:28.162Z"
   },
   {
    "duration": 39,
    "start_time": "2024-04-03T09:30:28.188Z"
   },
   {
    "duration": 4,
    "start_time": "2024-04-03T09:30:28.229Z"
   },
   {
    "duration": 23,
    "start_time": "2024-04-03T09:30:28.235Z"
   },
   {
    "duration": 16,
    "start_time": "2024-04-03T09:30:28.259Z"
   },
   {
    "duration": 15,
    "start_time": "2024-04-03T09:30:28.277Z"
   },
   {
    "duration": 15,
    "start_time": "2024-04-03T09:30:28.295Z"
   },
   {
    "duration": 36,
    "start_time": "2024-04-03T09:30:28.312Z"
   },
   {
    "duration": 11,
    "start_time": "2024-04-03T09:30:28.350Z"
   },
   {
    "duration": 14,
    "start_time": "2024-04-03T09:30:28.363Z"
   },
   {
    "duration": 21,
    "start_time": "2024-04-03T09:30:28.379Z"
   },
   {
    "duration": 33,
    "start_time": "2024-04-03T09:30:28.402Z"
   },
   {
    "duration": 18,
    "start_time": "2024-04-03T09:30:28.436Z"
   },
   {
    "duration": 4,
    "start_time": "2024-04-03T09:30:28.456Z"
   },
   {
    "duration": 23,
    "start_time": "2024-04-03T09:30:28.461Z"
   },
   {
    "duration": 11,
    "start_time": "2024-04-03T09:30:28.485Z"
   },
   {
    "duration": 6,
    "start_time": "2024-04-03T09:30:28.497Z"
   },
   {
    "duration": 18,
    "start_time": "2024-04-03T09:30:28.505Z"
   },
   {
    "duration": 220,
    "start_time": "2024-04-03T09:30:28.524Z"
   },
   {
    "duration": 188,
    "start_time": "2024-04-03T09:30:28.745Z"
   },
   {
    "duration": 179,
    "start_time": "2024-04-03T09:30:28.934Z"
   },
   {
    "duration": 187,
    "start_time": "2024-04-03T09:30:29.115Z"
   }
  ],
  "colab": {
   "name": "dpp_template_part2.ipynb",
   "provenance": []
  },
  "kernelspec": {
   "display_name": "Python 3 (ipykernel)",
   "language": "python",
   "name": "python3"
  },
  "language_info": {
   "codemirror_mode": {
    "name": "ipython",
    "version": 3
   },
   "file_extension": ".py",
   "mimetype": "text/x-python",
   "name": "python",
   "nbconvert_exporter": "python",
   "pygments_lexer": "ipython3",
   "version": "3.9.5"
  },
  "toc": {
   "base_numbering": 1,
   "nav_menu": {},
   "number_sections": true,
   "sideBar": true,
   "skip_h1_title": true,
   "title_cell": "Table of Contents",
   "title_sidebar": "Contents",
   "toc_cell": false,
   "toc_position": {},
   "toc_section_display": true,
   "toc_window_display": false
  }
 },
 "nbformat": 4,
 "nbformat_minor": 5
}
