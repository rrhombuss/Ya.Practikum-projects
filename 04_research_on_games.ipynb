{
 "cells": [
  {
   "cell_type": "markdown",
   "metadata": {},
   "source": [
    "# Анализ и предсказание продаж по компьютерным играм.\n",
    "Вы работаете в интернет-магазине «Стримчик», который продаёт по всему миру компьютерные игры. Из открытых источников доступны исторические данные о продажах игр, оценки пользователей и экспертов, жанры и платформы (например, Xbox или PlayStation). Вам нужно выявить определяющие успешность игры закономерности. Это позволит сделать ставку на потенциально популярный продукт и спланировать рекламные кампании.\n",
    "Перед вами данные до 2016 года. Представим, что сейчас декабрь 2016 г., и вы планируете кампанию на 2017-й. Нужно отработать принцип работы с данными. Неважно, прогнозируете ли вы продажи на 2017 год по данным 2016-го или же 2027-й — по данным 2026 года.\n",
    "В наборе данных попадается аббревиатура ESRB (Entertainment Software Rating Board) — это ассоциация, определяющая возрастной рейтинг компьютерных игр. ESRB оценивает игровой контент и присваивает ему подходящую возрастную категорию, например, «Для взрослых», «Для детей младшего возраста» или «Для подростков»."
   ]
  },
  {
   "cell_type": "code",
   "execution_count": 1,
   "metadata": {},
   "outputs": [],
   "source": [
    "import pandas as pd\n",
    "import seaborn as sns\n",
    "import matplotlib.pyplot as plt\n",
    "import numpy as np\n",
    "from scipy import stats as st\n",
    "from scipy.stats import binom, norm\n",
    "from math import sqrt"
   ]
  },
  {
   "cell_type": "markdown",
   "metadata": {},
   "source": [
    "## Шаг 1. Работа с таблицей и поиск аномалий"
   ]
  },
  {
   "cell_type": "code",
   "execution_count": 2,
   "metadata": {},
   "outputs": [
    {
     "data": {
      "text/html": [
       "<div>\n",
       "<style scoped>\n",
       "    .dataframe tbody tr th:only-of-type {\n",
       "        vertical-align: middle;\n",
       "    }\n",
       "\n",
       "    .dataframe tbody tr th {\n",
       "        vertical-align: top;\n",
       "    }\n",
       "\n",
       "    .dataframe thead th {\n",
       "        text-align: right;\n",
       "    }\n",
       "</style>\n",
       "<table border=\"1\" class=\"dataframe\">\n",
       "  <thead>\n",
       "    <tr style=\"text-align: right;\">\n",
       "      <th></th>\n",
       "      <th>Name</th>\n",
       "      <th>Platform</th>\n",
       "      <th>Year_of_Release</th>\n",
       "      <th>Genre</th>\n",
       "      <th>NA_sales</th>\n",
       "      <th>EU_sales</th>\n",
       "      <th>JP_sales</th>\n",
       "      <th>Other_sales</th>\n",
       "      <th>Critic_Score</th>\n",
       "      <th>User_Score</th>\n",
       "      <th>Rating</th>\n",
       "    </tr>\n",
       "  </thead>\n",
       "  <tbody>\n",
       "    <tr>\n",
       "      <th>0</th>\n",
       "      <td>Wii Sports</td>\n",
       "      <td>Wii</td>\n",
       "      <td>2006.0</td>\n",
       "      <td>Sports</td>\n",
       "      <td>41.36</td>\n",
       "      <td>28.96</td>\n",
       "      <td>3.77</td>\n",
       "      <td>8.45</td>\n",
       "      <td>76.0</td>\n",
       "      <td>8</td>\n",
       "      <td>E</td>\n",
       "    </tr>\n",
       "    <tr>\n",
       "      <th>1</th>\n",
       "      <td>Super Mario Bros.</td>\n",
       "      <td>NES</td>\n",
       "      <td>1985.0</td>\n",
       "      <td>Platform</td>\n",
       "      <td>29.08</td>\n",
       "      <td>3.58</td>\n",
       "      <td>6.81</td>\n",
       "      <td>0.77</td>\n",
       "      <td>NaN</td>\n",
       "      <td>NaN</td>\n",
       "      <td>NaN</td>\n",
       "    </tr>\n",
       "    <tr>\n",
       "      <th>2</th>\n",
       "      <td>Mario Kart Wii</td>\n",
       "      <td>Wii</td>\n",
       "      <td>2008.0</td>\n",
       "      <td>Racing</td>\n",
       "      <td>15.68</td>\n",
       "      <td>12.76</td>\n",
       "      <td>3.79</td>\n",
       "      <td>3.29</td>\n",
       "      <td>82.0</td>\n",
       "      <td>8.3</td>\n",
       "      <td>E</td>\n",
       "    </tr>\n",
       "    <tr>\n",
       "      <th>3</th>\n",
       "      <td>Wii Sports Resort</td>\n",
       "      <td>Wii</td>\n",
       "      <td>2009.0</td>\n",
       "      <td>Sports</td>\n",
       "      <td>15.61</td>\n",
       "      <td>10.93</td>\n",
       "      <td>3.28</td>\n",
       "      <td>2.95</td>\n",
       "      <td>80.0</td>\n",
       "      <td>8</td>\n",
       "      <td>E</td>\n",
       "    </tr>\n",
       "    <tr>\n",
       "      <th>4</th>\n",
       "      <td>Pokemon Red/Pokemon Blue</td>\n",
       "      <td>GB</td>\n",
       "      <td>1996.0</td>\n",
       "      <td>Role-Playing</td>\n",
       "      <td>11.27</td>\n",
       "      <td>8.89</td>\n",
       "      <td>10.22</td>\n",
       "      <td>1.00</td>\n",
       "      <td>NaN</td>\n",
       "      <td>NaN</td>\n",
       "      <td>NaN</td>\n",
       "    </tr>\n",
       "  </tbody>\n",
       "</table>\n",
       "</div>"
      ],
      "text/plain": [
       "                       Name Platform  Year_of_Release         Genre  NA_sales  \\\n",
       "0                Wii Sports      Wii           2006.0        Sports     41.36   \n",
       "1         Super Mario Bros.      NES           1985.0      Platform     29.08   \n",
       "2            Mario Kart Wii      Wii           2008.0        Racing     15.68   \n",
       "3         Wii Sports Resort      Wii           2009.0        Sports     15.61   \n",
       "4  Pokemon Red/Pokemon Blue       GB           1996.0  Role-Playing     11.27   \n",
       "\n",
       "   EU_sales  JP_sales  Other_sales  Critic_Score User_Score Rating  \n",
       "0     28.96      3.77         8.45          76.0          8      E  \n",
       "1      3.58      6.81         0.77           NaN        NaN    NaN  \n",
       "2     12.76      3.79         3.29          82.0        8.3      E  \n",
       "3     10.93      3.28         2.95          80.0          8      E  \n",
       "4      8.89     10.22         1.00           NaN        NaN    NaN  "
      ]
     },
     "metadata": {},
     "output_type": "display_data"
    },
    {
     "name": "stdout",
     "output_type": "stream",
     "text": [
      "<class 'pandas.core.frame.DataFrame'>\n",
      "RangeIndex: 16715 entries, 0 to 16714\n",
      "Data columns (total 11 columns):\n",
      " #   Column           Non-Null Count  Dtype  \n",
      "---  ------           --------------  -----  \n",
      " 0   Name             16713 non-null  object \n",
      " 1   Platform         16715 non-null  object \n",
      " 2   Year_of_Release  16446 non-null  float64\n",
      " 3   Genre            16713 non-null  object \n",
      " 4   NA_sales         16715 non-null  float64\n",
      " 5   EU_sales         16715 non-null  float64\n",
      " 6   JP_sales         16715 non-null  float64\n",
      " 7   Other_sales      16715 non-null  float64\n",
      " 8   Critic_Score     8137 non-null   float64\n",
      " 9   User_Score       10014 non-null  object \n",
      " 10  Rating           9949 non-null   object \n",
      "dtypes: float64(6), object(5)\n",
      "memory usage: 1.4+ MB\n"
     ]
    }
   ],
   "source": [
    "data = pd.read_csv('/datasets/games.csv')\n",
    "display(data.head())\n",
    "data.info()"
   ]
  },
  {
   "cell_type": "markdown",
   "metadata": {},
   "source": [
    "Много какие данные отсутствуют, больше всего это ощутимо в колонках с оценками и рейтингом"
   ]
  },
  {
   "cell_type": "markdown",
   "metadata": {},
   "source": [
    "## Шаг 2. Подготовка данных"
   ]
  },
  {
   "cell_type": "code",
   "execution_count": 3,
   "metadata": {},
   "outputs": [],
   "source": [
    "data.columns= data.columns.str.lower()"
   ]
  },
  {
   "cell_type": "markdown",
   "metadata": {},
   "source": [
    "Так как tbd в колонке user_score обозначает to be determined, то есть еще не определено, для нашего анализа это равно значению NaN"
   ]
  },
  {
   "cell_type": "code",
   "execution_count": 4,
   "metadata": {},
   "outputs": [
    {
     "name": "stdout",
     "output_type": "stream",
     "text": [
      "<class 'pandas.core.frame.DataFrame'>\n",
      "RangeIndex: 16715 entries, 0 to 16714\n",
      "Data columns (total 11 columns):\n",
      " #   Column           Non-Null Count  Dtype  \n",
      "---  ------           --------------  -----  \n",
      " 0   name             16713 non-null  object \n",
      " 1   platform         16715 non-null  object \n",
      " 2   year_of_release  16446 non-null  float64\n",
      " 3   genre            16713 non-null  object \n",
      " 4   na_sales         16715 non-null  float64\n",
      " 5   eu_sales         16715 non-null  float64\n",
      " 6   jp_sales         16715 non-null  float64\n",
      " 7   other_sales      16715 non-null  float64\n",
      " 8   critic_score     8137 non-null   float64\n",
      " 9   user_score       7590 non-null   object \n",
      " 10  rating           9949 non-null   object \n",
      "dtypes: float64(6), object(5)\n",
      "memory usage: 1.4+ MB\n"
     ]
    }
   ],
   "source": [
    "data['user_score'] = data['user_score'].replace('tbd', float('NaN'))\n",
    "data.info()"
   ]
  },
  {
   "cell_type": "code",
   "execution_count": 5,
   "metadata": {},
   "outputs": [
    {
     "name": "stdout",
     "output_type": "stream",
     "text": [
      "<class 'pandas.core.frame.DataFrame'>\n",
      "RangeIndex: 16715 entries, 0 to 16714\n",
      "Data columns (total 11 columns):\n",
      " #   Column           Non-Null Count  Dtype  \n",
      "---  ------           --------------  -----  \n",
      " 0   name             16713 non-null  object \n",
      " 1   platform         16715 non-null  object \n",
      " 2   year_of_release  16446 non-null  float64\n",
      " 3   genre            16713 non-null  object \n",
      " 4   na_sales         16715 non-null  float64\n",
      " 5   eu_sales         16715 non-null  float64\n",
      " 6   jp_sales         16715 non-null  float64\n",
      " 7   other_sales      16715 non-null  float64\n",
      " 8   critic_score     8137 non-null   float64\n",
      " 9   user_score       7590 non-null   object \n",
      " 10  rating           9949 non-null   object \n",
      "dtypes: float64(6), object(5)\n",
      "memory usage: 1.4+ MB\n"
     ]
    }
   ],
   "source": [
    "data['user_score'] = data['user_score'].replace('tbd', float('NaN'))\n",
    "data.info()\n",
    "data['user_score'] = pd.to_numeric(data['user_score'])\n",
    "data['user_score'] = data['user_score'] * 10"
   ]
  },
  {
   "cell_type": "code",
   "execution_count": 6,
   "metadata": {},
   "outputs": [
    {
     "data": {
      "text/html": [
       "<div>\n",
       "<style scoped>\n",
       "    .dataframe tbody tr th:only-of-type {\n",
       "        vertical-align: middle;\n",
       "    }\n",
       "\n",
       "    .dataframe tbody tr th {\n",
       "        vertical-align: top;\n",
       "    }\n",
       "\n",
       "    .dataframe thead th {\n",
       "        text-align: right;\n",
       "    }\n",
       "</style>\n",
       "<table border=\"1\" class=\"dataframe\">\n",
       "  <thead>\n",
       "    <tr style=\"text-align: right;\">\n",
       "      <th></th>\n",
       "      <th>name</th>\n",
       "      <th>platform</th>\n",
       "      <th>year_of_release</th>\n",
       "      <th>genre</th>\n",
       "      <th>na_sales</th>\n",
       "      <th>eu_sales</th>\n",
       "      <th>jp_sales</th>\n",
       "      <th>other_sales</th>\n",
       "      <th>critic_score</th>\n",
       "      <th>user_score</th>\n",
       "      <th>rating</th>\n",
       "      <th>total_sales</th>\n",
       "    </tr>\n",
       "  </thead>\n",
       "  <tbody>\n",
       "    <tr>\n",
       "      <th>0</th>\n",
       "      <td>Wii Sports</td>\n",
       "      <td>Wii</td>\n",
       "      <td>2006.0</td>\n",
       "      <td>Sports</td>\n",
       "      <td>41.36</td>\n",
       "      <td>28.96</td>\n",
       "      <td>3.77</td>\n",
       "      <td>8.45</td>\n",
       "      <td>76.0</td>\n",
       "      <td>80.0</td>\n",
       "      <td>E</td>\n",
       "      <td>82.54</td>\n",
       "    </tr>\n",
       "    <tr>\n",
       "      <th>1</th>\n",
       "      <td>Super Mario Bros.</td>\n",
       "      <td>NES</td>\n",
       "      <td>1985.0</td>\n",
       "      <td>Platform</td>\n",
       "      <td>29.08</td>\n",
       "      <td>3.58</td>\n",
       "      <td>6.81</td>\n",
       "      <td>0.77</td>\n",
       "      <td>NaN</td>\n",
       "      <td>NaN</td>\n",
       "      <td>NaN</td>\n",
       "      <td>40.24</td>\n",
       "    </tr>\n",
       "    <tr>\n",
       "      <th>2</th>\n",
       "      <td>Mario Kart Wii</td>\n",
       "      <td>Wii</td>\n",
       "      <td>2008.0</td>\n",
       "      <td>Racing</td>\n",
       "      <td>15.68</td>\n",
       "      <td>12.76</td>\n",
       "      <td>3.79</td>\n",
       "      <td>3.29</td>\n",
       "      <td>82.0</td>\n",
       "      <td>83.0</td>\n",
       "      <td>E</td>\n",
       "      <td>35.52</td>\n",
       "    </tr>\n",
       "    <tr>\n",
       "      <th>3</th>\n",
       "      <td>Wii Sports Resort</td>\n",
       "      <td>Wii</td>\n",
       "      <td>2009.0</td>\n",
       "      <td>Sports</td>\n",
       "      <td>15.61</td>\n",
       "      <td>10.93</td>\n",
       "      <td>3.28</td>\n",
       "      <td>2.95</td>\n",
       "      <td>80.0</td>\n",
       "      <td>80.0</td>\n",
       "      <td>E</td>\n",
       "      <td>32.77</td>\n",
       "    </tr>\n",
       "    <tr>\n",
       "      <th>4</th>\n",
       "      <td>Pokemon Red/Pokemon Blue</td>\n",
       "      <td>GB</td>\n",
       "      <td>1996.0</td>\n",
       "      <td>Role-Playing</td>\n",
       "      <td>11.27</td>\n",
       "      <td>8.89</td>\n",
       "      <td>10.22</td>\n",
       "      <td>1.00</td>\n",
       "      <td>NaN</td>\n",
       "      <td>NaN</td>\n",
       "      <td>NaN</td>\n",
       "      <td>31.38</td>\n",
       "    </tr>\n",
       "    <tr>\n",
       "      <th>5</th>\n",
       "      <td>Tetris</td>\n",
       "      <td>GB</td>\n",
       "      <td>1989.0</td>\n",
       "      <td>Puzzle</td>\n",
       "      <td>23.20</td>\n",
       "      <td>2.26</td>\n",
       "      <td>4.22</td>\n",
       "      <td>0.58</td>\n",
       "      <td>NaN</td>\n",
       "      <td>NaN</td>\n",
       "      <td>NaN</td>\n",
       "      <td>30.26</td>\n",
       "    </tr>\n",
       "    <tr>\n",
       "      <th>6</th>\n",
       "      <td>New Super Mario Bros.</td>\n",
       "      <td>DS</td>\n",
       "      <td>2006.0</td>\n",
       "      <td>Platform</td>\n",
       "      <td>11.28</td>\n",
       "      <td>9.14</td>\n",
       "      <td>6.50</td>\n",
       "      <td>2.88</td>\n",
       "      <td>89.0</td>\n",
       "      <td>85.0</td>\n",
       "      <td>E</td>\n",
       "      <td>29.80</td>\n",
       "    </tr>\n",
       "    <tr>\n",
       "      <th>7</th>\n",
       "      <td>Wii Play</td>\n",
       "      <td>Wii</td>\n",
       "      <td>2006.0</td>\n",
       "      <td>Misc</td>\n",
       "      <td>13.96</td>\n",
       "      <td>9.18</td>\n",
       "      <td>2.93</td>\n",
       "      <td>2.84</td>\n",
       "      <td>58.0</td>\n",
       "      <td>66.0</td>\n",
       "      <td>E</td>\n",
       "      <td>28.91</td>\n",
       "    </tr>\n",
       "    <tr>\n",
       "      <th>8</th>\n",
       "      <td>New Super Mario Bros. Wii</td>\n",
       "      <td>Wii</td>\n",
       "      <td>2009.0</td>\n",
       "      <td>Platform</td>\n",
       "      <td>14.44</td>\n",
       "      <td>6.94</td>\n",
       "      <td>4.70</td>\n",
       "      <td>2.24</td>\n",
       "      <td>87.0</td>\n",
       "      <td>84.0</td>\n",
       "      <td>E</td>\n",
       "      <td>28.32</td>\n",
       "    </tr>\n",
       "    <tr>\n",
       "      <th>9</th>\n",
       "      <td>Duck Hunt</td>\n",
       "      <td>NES</td>\n",
       "      <td>1984.0</td>\n",
       "      <td>Shooter</td>\n",
       "      <td>26.93</td>\n",
       "      <td>0.63</td>\n",
       "      <td>0.28</td>\n",
       "      <td>0.47</td>\n",
       "      <td>NaN</td>\n",
       "      <td>NaN</td>\n",
       "      <td>NaN</td>\n",
       "      <td>28.31</td>\n",
       "    </tr>\n",
       "  </tbody>\n",
       "</table>\n",
       "</div>"
      ],
      "text/plain": [
       "                        name platform  year_of_release         genre  \\\n",
       "0                 Wii Sports      Wii           2006.0        Sports   \n",
       "1          Super Mario Bros.      NES           1985.0      Platform   \n",
       "2             Mario Kart Wii      Wii           2008.0        Racing   \n",
       "3          Wii Sports Resort      Wii           2009.0        Sports   \n",
       "4   Pokemon Red/Pokemon Blue       GB           1996.0  Role-Playing   \n",
       "5                     Tetris       GB           1989.0        Puzzle   \n",
       "6      New Super Mario Bros.       DS           2006.0      Platform   \n",
       "7                   Wii Play      Wii           2006.0          Misc   \n",
       "8  New Super Mario Bros. Wii      Wii           2009.0      Platform   \n",
       "9                  Duck Hunt      NES           1984.0       Shooter   \n",
       "\n",
       "   na_sales  eu_sales  jp_sales  other_sales  critic_score  user_score rating  \\\n",
       "0     41.36     28.96      3.77         8.45          76.0        80.0      E   \n",
       "1     29.08      3.58      6.81         0.77           NaN         NaN    NaN   \n",
       "2     15.68     12.76      3.79         3.29          82.0        83.0      E   \n",
       "3     15.61     10.93      3.28         2.95          80.0        80.0      E   \n",
       "4     11.27      8.89     10.22         1.00           NaN         NaN    NaN   \n",
       "5     23.20      2.26      4.22         0.58           NaN         NaN    NaN   \n",
       "6     11.28      9.14      6.50         2.88          89.0        85.0      E   \n",
       "7     13.96      9.18      2.93         2.84          58.0        66.0      E   \n",
       "8     14.44      6.94      4.70         2.24          87.0        84.0      E   \n",
       "9     26.93      0.63      0.28         0.47           NaN         NaN    NaN   \n",
       "\n",
       "   total_sales  \n",
       "0        82.54  \n",
       "1        40.24  \n",
       "2        35.52  \n",
       "3        32.77  \n",
       "4        31.38  \n",
       "5        30.26  \n",
       "6        29.80  \n",
       "7        28.91  \n",
       "8        28.32  \n",
       "9        28.31  "
      ]
     },
     "execution_count": 6,
     "metadata": {},
     "output_type": "execute_result"
    }
   ],
   "source": [
    "data['total_sales'] = data[['na_sales','eu_sales','jp_sales', 'other_sales']].sum(axis='columns')\n",
    "data.head(10)"
   ]
  },
  {
   "cell_type": "code",
   "execution_count": 7,
   "metadata": {},
   "outputs": [
    {
     "data": {
      "image/png": "[encoded data removed]",
      "text/plain": [
       "<Figure size 720x720 with 1 Axes>"
      ]
     },
     "metadata": {
      "needs_background": "light"
     },
     "output_type": "display_data"
    },
    {
     "name": "stdout",
     "output_type": "stream",
     "text": [
      "корреляция Пирсона между оценками критиков и продажами: 0.581\n",
      "корреляция Кендалла между оценками пользователей и продажами: 0.388\n",
      "корреляция Спирмана между оценками пользователей и продажами: 0.536\n"
     ]
    }
   ],
   "source": [
    "df = data[data['critic_score'].notna() & data['user_score'].notna()]\n",
    "plt.figure(figsize=(10, 10))\n",
    "plt.scatter(df['critic_score'], df['user_score'], color='skyblue', alpha=0.7)\n",
    "\n",
    "plt.title('Correlation between Critic Score and User Score')\n",
    "plt.xlabel('Critic Score')\n",
    "plt.ylabel('User Score')\n",
    "\n",
    "plt.grid(True)\n",
    "plt.show()\n",
    "\n",
    "pierson_correlation = round(df['critic_score'].corr(df['user_score']), 3)\n",
    "kendall_correlation = round(st.kendalltau(df['user_score'], df['critic_score']).correlation, 3)\n",
    "spearman_correlation = round(st.spearmanr(df['user_score'], df['critic_score']).correlation, 3)\n",
    "\n",
    "print(f\"корреляция Пирсона между оценками критиков и продажами: {pierson_correlation}\")\n",
    "print(f\"корреляция Кендалла между оценками пользователей и продажами: {kendall_correlation}\")\n",
    "print(f\"корреляция Спирмана между оценками пользователей и продажами: {spearman_correlation}\")\n"
   ]
  },
  {
   "cell_type": "code",
   "execution_count": 8,
   "metadata": {
    "scrolled": false
   },
   "outputs": [
    {
     "data": {
      "image/png": "[encoded data removed]",
      "text/plain": [
       "<Figure size 720x720 with 1 Axes>"
      ]
     },
     "metadata": {
      "needs_background": "light"
     },
     "output_type": "display_data"
    },
    {
     "name": "stdout",
     "output_type": "stream",
     "text": [
      "корреляция между оценками критиков и продажами: 0.246\n",
      "корреляция между оценками пользователей и продажами: 0.275\n",
      "корреляция между оценками пользователей и продажами: 0.394\n"
     ]
    }
   ],
   "source": [
    "df = data[data['critic_score'].notna() & data['total_sales'].notna()]\n",
    "plt.figure(figsize=(10, 10))\n",
    "plt.scatter(df['critic_score'], df['total_sales'], color='skyblue', alpha=0.7)\n",
    "\n",
    "plt.title('Correlation between Critic Score and User Score')\n",
    "plt.xlabel('Critic Score')\n",
    "plt.ylabel('User Score')\n",
    "\n",
    "plt.grid(True)\n",
    "plt.show()\n",
    "\n",
    "pierson_correlation = round(df['critic_score'].corr(df['total_sales']), 3)\n",
    "kendall_correlation = round(st.kendalltau(df['critic_score'], df['total_sales']).correlation, 3)\n",
    "spearman_correlation = round(st.spearmanr(df['critic_score'], df['total_sales']).correlation, 3)\n",
    "\n",
    "print(f\"корреляция между оценками критиков и продажами: {pierson_correlation}\")\n",
    "print(f\"корреляция между оценками пользователей и продажами: {kendall_correlation}\")\n",
    "print(f\"корреляция между оценками пользователей и продажами: {spearman_correlation}\")"
   ]
  },
  {
   "cell_type": "code",
   "execution_count": 9,
   "metadata": {
    "scrolled": false
   },
   "outputs": [
    {
     "data": {
      "image/png": "[encoded data removed]",
      "text/plain": [
       "<Figure size 720x720 with 1 Axes>"
      ]
     },
     "metadata": {
      "needs_background": "light"
     },
     "output_type": "display_data"
    },
    {
     "name": "stdout",
     "output_type": "stream",
     "text": [
      "корреляция между оценками критиков и продажами: 0.088\n",
      "корреляция между оценками пользователей и продажами: 0.103\n",
      "корреляция между оценками пользователей и продажами: 0.15\n"
     ]
    }
   ],
   "source": [
    "df = data[data['user_score'].notna() & data['total_sales'].notna()]\n",
    "plt.figure(figsize=(10, 10))\n",
    "plt.scatter(df['user_score'], df['total_sales'], color='skyblue', alpha=0.7)\n",
    "\n",
    "plt.title('Correlation between Critic Score and User Score')\n",
    "plt.xlabel('Critic Score')\n",
    "plt.ylabel('User Score')\n",
    "\n",
    "plt.grid(True)\n",
    "plt.show()\n",
    "\n",
    "critic_correlation = round(df['user_score'].corr(df['total_sales']), 3)\n",
    "user_correlation = round(st.kendalltau(df['user_score'], df['total_sales']).correlation, 3)\n",
    "aaa_correlation = round(st.spearmanr(df['user_score'], df['total_sales']).correlation, 3)\n",
    "\n",
    "print(f\"корреляция между оценками критиков и продажами: {critic_correlation}\")\n",
    "print(f\"корреляция между оценками пользователей и продажами: {user_correlation}\")\n",
    "print(f\"корреляция между оценками пользователей и продажами: {aaa_correlation}\")"
   ]
  },
  {
   "cell_type": "markdown",
   "metadata": {},
   "source": [
    "Корреляция по каждому из признаков недостаточно высокая чтобы заполнять по их образу пропуски в оценках игр, поэтому оставлю их так  \n",
    "К пропускам могли привести ошибки программы на любом этапе работы с данными  "
   ]
  },
  {
   "cell_type": "markdown",
   "metadata": {},
   "source": [
    "Обработал типы данных, заменил значения tbd на NaN в колонке user_score, и привел вид оценки юзеров к виду критиков, оказалось что оценок юзеров еще меньше, чем критиков"
   ]
  },
  {
   "cell_type": "markdown",
   "metadata": {},
   "source": [
    "Заполнил частично пропуски в оценках, в случаях, где неизвестна одна оценка, но известна другая, вполне вероятно, что они будут похожи, следовательно дополнил их друг другом  \n",
    "Пропуски возможны из за сбоя программы, или же в случае tbd, оценка еще не определена  "
   ]
  },
  {
   "cell_type": "code",
   "execution_count": 11,
   "metadata": {
    "scrolled": true
   },
   "outputs": [
    {
     "name": "stdout",
     "output_type": "stream",
     "text": [
      "number of identical duplicates: 0\n"
     ]
    },
    {
     "data": {
      "text/html": [
       "<div>\n",
       "<style scoped>\n",
       "    .dataframe tbody tr th:only-of-type {\n",
       "        vertical-align: middle;\n",
       "    }\n",
       "\n",
       "    .dataframe tbody tr th {\n",
       "        vertical-align: top;\n",
       "    }\n",
       "\n",
       "    .dataframe thead th {\n",
       "        text-align: right;\n",
       "    }\n",
       "</style>\n",
       "<table border=\"1\" class=\"dataframe\">\n",
       "  <thead>\n",
       "    <tr style=\"text-align: right;\">\n",
       "      <th></th>\n",
       "      <th>name</th>\n",
       "      <th>platform</th>\n",
       "      <th>year_of_release</th>\n",
       "      <th>genre</th>\n",
       "      <th>na_sales</th>\n",
       "      <th>eu_sales</th>\n",
       "      <th>jp_sales</th>\n",
       "      <th>other_sales</th>\n",
       "      <th>critic_score</th>\n",
       "      <th>user_score</th>\n",
       "      <th>rating</th>\n",
       "      <th>total_sales</th>\n",
       "    </tr>\n",
       "  </thead>\n",
       "  <tbody>\n",
       "    <tr>\n",
       "      <th>1591</th>\n",
       "      <td>Need for Speed: Most Wanted</td>\n",
       "      <td>X360</td>\n",
       "      <td>2005.0</td>\n",
       "      <td>Racing</td>\n",
       "      <td>1.0</td>\n",
       "      <td>0.13</td>\n",
       "      <td>0.02</td>\n",
       "      <td>0.10</td>\n",
       "      <td>83.0</td>\n",
       "      <td>85.0</td>\n",
       "      <td>T</td>\n",
       "      <td>1.25</td>\n",
       "    </tr>\n",
       "    <tr>\n",
       "      <th>4127</th>\n",
       "      <td>Sonic the Hedgehog</td>\n",
       "      <td>PS3</td>\n",
       "      <td>NaN</td>\n",
       "      <td>Platform</td>\n",
       "      <td>0.0</td>\n",
       "      <td>0.48</td>\n",
       "      <td>0.00</td>\n",
       "      <td>0.00</td>\n",
       "      <td>43.0</td>\n",
       "      <td>41.0</td>\n",
       "      <td>E10+</td>\n",
       "      <td>0.48</td>\n",
       "    </tr>\n",
       "    <tr>\n",
       "      <th>11715</th>\n",
       "      <td>Need for Speed: Most Wanted</td>\n",
       "      <td>PC</td>\n",
       "      <td>2012.0</td>\n",
       "      <td>Racing</td>\n",
       "      <td>0.0</td>\n",
       "      <td>0.06</td>\n",
       "      <td>0.00</td>\n",
       "      <td>0.02</td>\n",
       "      <td>82.0</td>\n",
       "      <td>85.0</td>\n",
       "      <td>T</td>\n",
       "      <td>0.08</td>\n",
       "    </tr>\n",
       "    <tr>\n",
       "      <th>14244</th>\n",
       "      <td>NaN</td>\n",
       "      <td>GEN</td>\n",
       "      <td>1993.0</td>\n",
       "      <td>NaN</td>\n",
       "      <td>0.0</td>\n",
       "      <td>0.00</td>\n",
       "      <td>0.03</td>\n",
       "      <td>0.00</td>\n",
       "      <td>NaN</td>\n",
       "      <td>NaN</td>\n",
       "      <td>NaN</td>\n",
       "      <td>0.03</td>\n",
       "    </tr>\n",
       "    <tr>\n",
       "      <th>16230</th>\n",
       "      <td>Madden NFL 13</td>\n",
       "      <td>PS3</td>\n",
       "      <td>2012.0</td>\n",
       "      <td>Sports</td>\n",
       "      <td>0.0</td>\n",
       "      <td>0.01</td>\n",
       "      <td>0.00</td>\n",
       "      <td>0.00</td>\n",
       "      <td>83.0</td>\n",
       "      <td>55.0</td>\n",
       "      <td>E</td>\n",
       "      <td>0.01</td>\n",
       "    </tr>\n",
       "  </tbody>\n",
       "</table>\n",
       "</div>"
      ],
      "text/plain": [
       "                              name platform  year_of_release     genre  \\\n",
       "1591   Need for Speed: Most Wanted     X360           2005.0    Racing   \n",
       "4127            Sonic the Hedgehog      PS3              NaN  Platform   \n",
       "11715  Need for Speed: Most Wanted       PC           2012.0    Racing   \n",
       "14244                          NaN      GEN           1993.0       NaN   \n",
       "16230                Madden NFL 13      PS3           2012.0    Sports   \n",
       "\n",
       "       na_sales  eu_sales  jp_sales  other_sales  critic_score  user_score  \\\n",
       "1591        1.0      0.13      0.02         0.10          83.0        85.0   \n",
       "4127        0.0      0.48      0.00         0.00          43.0        41.0   \n",
       "11715       0.0      0.06      0.00         0.02          82.0        85.0   \n",
       "14244       0.0      0.00      0.03         0.00           NaN         NaN   \n",
       "16230       0.0      0.01      0.00         0.00          83.0        55.0   \n",
       "\n",
       "      rating  total_sales  \n",
       "1591       T         1.25  \n",
       "4127    E10+         0.48  \n",
       "11715      T         0.08  \n",
       "14244    NaN         0.03  \n",
       "16230      E         0.01  "
      ]
     },
     "execution_count": 11,
     "metadata": {},
     "output_type": "execute_result"
    }
   ],
   "source": [
    "b = data.duplicated().sum()\n",
    "a = data[data.duplicated(subset=['name', 'platform'])]\n",
    "a.head(10)\n",
    "print('number of identical duplicates:', b)\n",
    "a.head(10)"
   ]
  },
  {
   "cell_type": "markdown",
   "metadata": {},
   "source": [
    "странно, что одна и та же игра на одной и той же консоли выпускались несколько раз, в разные года, поэтому лучше удалить их"
   ]
  },
  {
   "cell_type": "code",
   "execution_count": 12,
   "metadata": {},
   "outputs": [
    {
     "data": {
      "text/html": [
       "<div>\n",
       "<style scoped>\n",
       "    .dataframe tbody tr th:only-of-type {\n",
       "        vertical-align: middle;\n",
       "    }\n",
       "\n",
       "    .dataframe tbody tr th {\n",
       "        vertical-align: top;\n",
       "    }\n",
       "\n",
       "    .dataframe thead th {\n",
       "        text-align: right;\n",
       "    }\n",
       "</style>\n",
       "<table border=\"1\" class=\"dataframe\">\n",
       "  <thead>\n",
       "    <tr style=\"text-align: right;\">\n",
       "      <th></th>\n",
       "      <th>name</th>\n",
       "      <th>platform</th>\n",
       "      <th>year_of_release</th>\n",
       "      <th>genre</th>\n",
       "      <th>na_sales</th>\n",
       "      <th>eu_sales</th>\n",
       "      <th>jp_sales</th>\n",
       "      <th>other_sales</th>\n",
       "      <th>critic_score</th>\n",
       "      <th>user_score</th>\n",
       "      <th>rating</th>\n",
       "      <th>total_sales</th>\n",
       "    </tr>\n",
       "  </thead>\n",
       "  <tbody>\n",
       "  </tbody>\n",
       "</table>\n",
       "</div>"
      ],
      "text/plain": [
       "Empty DataFrame\n",
       "Columns: [name, platform, year_of_release, genre, na_sales, eu_sales, jp_sales, other_sales, critic_score, user_score, rating, total_sales]\n",
       "Index: []"
      ]
     },
     "metadata": {},
     "output_type": "display_data"
    },
    {
     "name": "stdout",
     "output_type": "stream",
     "text": [
      "<class 'pandas.core.frame.DataFrame'>\n",
      "Int64Index: 16710 entries, 0 to 16714\n",
      "Data columns (total 12 columns):\n",
      " #   Column           Non-Null Count  Dtype  \n",
      "---  ------           --------------  -----  \n",
      " 0   name             16709 non-null  object \n",
      " 1   platform         16710 non-null  object \n",
      " 2   year_of_release  16442 non-null  float64\n",
      " 3   genre            16709 non-null  object \n",
      " 4   na_sales         16710 non-null  float64\n",
      " 5   eu_sales         16710 non-null  float64\n",
      " 6   jp_sales         16710 non-null  float64\n",
      " 7   other_sales      16710 non-null  float64\n",
      " 8   critic_score     8133 non-null   float64\n",
      " 9   user_score       7586 non-null   float64\n",
      " 10  rating           9945 non-null   object \n",
      " 11  total_sales      16710 non-null  float64\n",
      "dtypes: float64(8), object(4)\n",
      "memory usage: 1.7+ MB\n"
     ]
    }
   ],
   "source": [
    "data = data.drop_duplicates(subset=['name', 'platform'])\n",
    "a = data[data.duplicated(subset=['name', 'platform'])]\n",
    "display(a.head(10))\n",
    "data.info()"
   ]
  },
  {
   "cell_type": "markdown",
   "metadata": {},
   "source": [
    "### итоги предобработки данных  \n",
    "Исправил название колонок под стандарт  \n",
    "добавил колонку с суммарными продажами по миру  \n",
    "привел к стандарту колонку user_score и преобразовал значения tbd в NaN  \n",
    "удалил неявные дубликаты  \n",
    "\n",
    "предобработка нужна для более точного анализа и удобной работы с данными"
   ]
  },
  {
   "cell_type": "markdown",
   "metadata": {},
   "source": [
    "## Шаг 3. Исследовательский анализ данных"
   ]
  },
  {
   "cell_type": "code",
   "execution_count": 13,
   "metadata": {},
   "outputs": [
    {
     "data": {
      "image/png": "[encoded data removed]",
      "text/plain": [
       "<Figure size 432x288 with 1 Axes>"
      ]
     },
     "metadata": {
      "needs_background": "light"
     },
     "output_type": "display_data"
    }
   ],
   "source": [
    "df = data.dropna(subset=['name'])\n",
    "df['year_of_release'].hist(bins=37)\n",
    "plt.xlabel('Year of Release')\n",
    "plt.ylabel('Number of Games')\n",
    "plt.title('Total Releases by Year of Release')\n",
    "plt.show()"
   ]
  },
  {
   "cell_type": "markdown",
   "metadata": {},
   "source": [
    "До 1995 года игр выпускалось совсем мало, имеет смысл взять данные с 1995 года"
   ]
  },
  {
   "cell_type": "markdown",
   "metadata": {},
   "source": [
    "В 1995 году видимо технологии стали популярнее и доступнее, что вызвало бум количества выпущенных видеоигр, был стабильный рост, с пиком в 2007-2008 годах, после чего количество выпускаемых игр в год начало стабильно падать и на 2016 год имеет такое же количество как и в 2001"
   ]
  },
  {
   "cell_type": "code",
   "execution_count": 14,
   "metadata": {},
   "outputs": [
    {
     "data": {
      "image/png": "[encoded data removed]",
      "text/plain": [
       "<Figure size 432x288 with 1 Axes>"
      ]
     },
     "metadata": {
      "needs_background": "light"
     },
     "output_type": "display_data"
    }
   ],
   "source": [
    "data['year_of_release'].hist(bins=23, range=(1995, 2017))\n",
    "plt.xlabel('Year of Release')\n",
    "plt.ylabel('Number of Games')\n",
    "plt.title('Total Releases by Year of Release')\n",
    "plt.show()"
   ]
  },
  {
   "cell_type": "code",
   "execution_count": 15,
   "metadata": {},
   "outputs": [
    {
     "data": {
      "text/plain": [
       "8503     1995.0\n",
       "8223     1995.0\n",
       "5629     1995.0\n",
       "5623     1995.0\n",
       "12791    1995.0\n",
       "          ...  \n",
       "12635    2016.0\n",
       "12622    2016.0\n",
       "16135    2016.0\n",
       "12603    2016.0\n",
       "16714    2016.0\n",
       "Name: year_of_release, Length: 15955, dtype: float64"
      ]
     },
     "execution_count": 15,
     "metadata": {},
     "output_type": "execute_result"
    }
   ],
   "source": [
    "data = data[data['year_of_release'] > 1994]\n",
    "data['year_of_release'].sort_values()"
   ]
  },
  {
   "cell_type": "code",
   "execution_count": 16,
   "metadata": {},
   "outputs": [],
   "source": [
    "platform_sales = data.groupby('platform')['total_sales'].sum()\n",
    "\n",
    "top_20_platforms = platform_sales.sort_values(ascending=False).head(22)\n",
    "filtered_data = data[data['platform'].isin(top_20_platforms.index)]\n",
    "platforms = filtered_data['platform'].unique()\n",
    "years = filtered_data['year_of_release'].unique()"
   ]
  },
  {
   "cell_type": "code",
   "execution_count": 18,
   "metadata": {},
   "outputs": [
    {
     "data": {
      "image/png": "[encoded data removed]",
      "text/plain": [
       "<Figure size 1008x432 with 1 Axes>"
      ]
     },
     "metadata": {
      "needs_background": "light"
     },
     "output_type": "display_data"
    }
   ],
   "source": [
    "plt.figure(figsize=(14, 6))\n",
    "\n",
    "for i, platform in enumerate(platforms):\n",
    "    platform_data = data[data['platform'] == platform]\n",
    "    sales = [platform_data[platform_data['year_of_release'] == year]['total_sales'].sum() for year in years]\n",
    "    plt.bar(years, sales, label=platform, alpha=0.5)\n",
    "\n",
    "plt.xlabel('Year of Release')\n",
    "plt.ylabel('Total Sales')\n",
    "plt.title('Total Sales by Platform and Year of Release')\n",
    "\n",
    "plt.legend(bbox_to_anchor=(1, 1))\n",
    "\n",
    "plt.tight_layout()\n",
    "plt.show()"
   ]
  },
  {
   "cell_type": "markdown",
   "metadata": {},
   "source": [
    "По графику видно, что большинство платформ остаются актуальны примерно 5 лет  \n",
    "\n",
    "Рассмотрим последние 4 года поподробнее  "
   ]
  },
  {
   "cell_type": "code",
   "execution_count": 19,
   "metadata": {},
   "outputs": [],
   "source": [
    "data = data.query('year_of_release > 2012')"
   ]
  },
  {
   "cell_type": "code",
   "execution_count": 20,
   "metadata": {},
   "outputs": [
    {
     "data": {
      "image/png": "[encoded data removed]",
      "text/plain": [
       "<Figure size 1080x360 with 1 Axes>"
      ]
     },
     "metadata": {
      "needs_background": "light"
     },
     "output_type": "display_data"
    }
   ],
   "source": [
    "plt.figure(figsize=(15, 5))\n",
    "sns.barplot(data=data, x='year_of_release', y='total_sales', hue='platform')\n",
    "\n",
    "plt.xlabel('год выпуска')\n",
    "plt.ylabel('все продажи')\n",
    "plt.title('продажи по платформам по годам')\n",
    "plt.xticks(rotation=45)\n",
    "plt.tight_layout()\n",
    "plt.show()"
   ]
  },
  {
   "cell_type": "code",
   "execution_count": 21,
   "metadata": {},
   "outputs": [
    {
     "data": {
      "text/plain": [
       "platform\n",
       "PS4     314.14\n",
       "PS3     181.43\n",
       "XOne    159.32\n",
       "3DS     143.25\n",
       "X360    136.80\n",
       "WiiU     64.63\n",
       "PC       39.43\n",
       "PSV      32.99\n",
       "Wii      13.66\n",
       "PSP       3.50\n",
       "DS        1.54\n",
       "Name: total_sales, dtype: float64"
      ]
     },
     "metadata": {},
     "output_type": "display_data"
    }
   ],
   "source": [
    "platform_sales = data.groupby('platform')['total_sales'].sum()\n",
    "\n",
    "top_10_platforms = platform_sales.sort_values(ascending=False).head(10)\n",
    "\n",
    "display(platform_sales.sort_values(ascending=False))"
   ]
  },
  {
   "cell_type": "markdown",
   "metadata": {},
   "source": [
    "Самыми потенциально прибыльными платформами на 2017 год являются: PS4, XOne, 3DS, WiiU остальные в списке выше хоть и имеют существенные продажи, но со уже находятся в стадии спада продаж, кроме разве что наверно PC, на компьютерах сложно предсказать продаваемость игр"
   ]
  },
  {
   "cell_type": "code",
   "execution_count": 22,
   "metadata": {},
   "outputs": [
    {
     "data": {
      "text/plain": [
       "<BarContainer object of 189 artists>"
      ]
     },
     "execution_count": 22,
     "metadata": {},
     "output_type": "execute_result"
    },
    {
     "data": {
      "image/png": "[encoded data removed]",
      "text/plain": [
       "<Figure size 432x288 with 1 Axes>"
      ]
     },
     "metadata": {
      "needs_background": "light"
     },
     "output_type": "display_data"
    }
   ],
   "source": [
    "pc_games = data.query('platform == \"PC\"')\n",
    "plt.bar(pc_games['year_of_release'], pc_games['total_sales'])"
   ]
  },
  {
   "cell_type": "markdown",
   "metadata": {},
   "source": [
    "Игры на ПК повсему видимо остаются актуальны и зависят только от самих выпускаемых на них играх"
   ]
  },
  {
   "cell_type": "code",
   "execution_count": 24,
   "metadata": {},
   "outputs": [
    {
     "data": {
      "image/png": "[encoded data removed]",
      "text/plain": [
       "<Figure size 1440x720 with 1 Axes>"
      ]
     },
     "metadata": {
      "needs_background": "light"
     },
     "output_type": "display_data"
    },
    {
     "data": {
      "image/png": "[encoded data removed]",
      "text/plain": [
       "<Figure size 1440x720 with 1 Axes>"
      ]
     },
     "metadata": {
      "needs_background": "light"
     },
     "output_type": "display_data"
    },
    {
     "data": {
      "text/html": [
       "<div>\n",
       "<style scoped>\n",
       "    .dataframe tbody tr th:only-of-type {\n",
       "        vertical-align: middle;\n",
       "    }\n",
       "\n",
       "    .dataframe tbody tr th {\n",
       "        vertical-align: top;\n",
       "    }\n",
       "\n",
       "    .dataframe thead th {\n",
       "        text-align: right;\n",
       "    }\n",
       "</style>\n",
       "<table border=\"1\" class=\"dataframe\">\n",
       "  <thead>\n",
       "    <tr style=\"text-align: right;\">\n",
       "      <th></th>\n",
       "      <th>year_of_release</th>\n",
       "      <th>na_sales</th>\n",
       "      <th>eu_sales</th>\n",
       "      <th>jp_sales</th>\n",
       "      <th>other_sales</th>\n",
       "      <th>critic_score</th>\n",
       "      <th>user_score</th>\n",
       "      <th>total_sales</th>\n",
       "    </tr>\n",
       "  </thead>\n",
       "  <tbody>\n",
       "    <tr>\n",
       "      <th>count</th>\n",
       "      <td>2233.000000</td>\n",
       "      <td>2233.000000</td>\n",
       "      <td>2233.000000</td>\n",
       "      <td>2233.000000</td>\n",
       "      <td>2233.000000</td>\n",
       "      <td>991.000000</td>\n",
       "      <td>1192.000000</td>\n",
       "      <td>2233.000000</td>\n",
       "    </tr>\n",
       "    <tr>\n",
       "      <th>mean</th>\n",
       "      <td>2014.477385</td>\n",
       "      <td>0.196019</td>\n",
       "      <td>0.175652</td>\n",
       "      <td>0.063045</td>\n",
       "      <td>0.053726</td>\n",
       "      <td>72.023209</td>\n",
       "      <td>65.845638</td>\n",
       "      <td>0.488442</td>\n",
       "    </tr>\n",
       "    <tr>\n",
       "      <th>std</th>\n",
       "      <td>1.089439</td>\n",
       "      <td>0.547730</td>\n",
       "      <td>0.512451</td>\n",
       "      <td>0.233997</td>\n",
       "      <td>0.165693</td>\n",
       "      <td>12.841318</td>\n",
       "      <td>16.104132</td>\n",
       "      <td>1.235226</td>\n",
       "    </tr>\n",
       "    <tr>\n",
       "      <th>min</th>\n",
       "      <td>2013.000000</td>\n",
       "      <td>0.000000</td>\n",
       "      <td>0.000000</td>\n",
       "      <td>0.000000</td>\n",
       "      <td>0.000000</td>\n",
       "      <td>13.000000</td>\n",
       "      <td>2.000000</td>\n",
       "      <td>0.010000</td>\n",
       "    </tr>\n",
       "    <tr>\n",
       "      <th>25%</th>\n",
       "      <td>2014.000000</td>\n",
       "      <td>0.000000</td>\n",
       "      <td>0.000000</td>\n",
       "      <td>0.000000</td>\n",
       "      <td>0.000000</td>\n",
       "      <td>66.000000</td>\n",
       "      <td>58.000000</td>\n",
       "      <td>0.030000</td>\n",
       "    </tr>\n",
       "    <tr>\n",
       "      <th>50%</th>\n",
       "      <td>2014.000000</td>\n",
       "      <td>0.020000</td>\n",
       "      <td>0.030000</td>\n",
       "      <td>0.010000</td>\n",
       "      <td>0.010000</td>\n",
       "      <td>74.000000</td>\n",
       "      <td>70.000000</td>\n",
       "      <td>0.110000</td>\n",
       "    </tr>\n",
       "    <tr>\n",
       "      <th>75%</th>\n",
       "      <td>2015.000000</td>\n",
       "      <td>0.150000</td>\n",
       "      <td>0.130000</td>\n",
       "      <td>0.050000</td>\n",
       "      <td>0.040000</td>\n",
       "      <td>81.000000</td>\n",
       "      <td>78.000000</td>\n",
       "      <td>0.400000</td>\n",
       "    </tr>\n",
       "    <tr>\n",
       "      <th>max</th>\n",
       "      <td>2016.000000</td>\n",
       "      <td>9.660000</td>\n",
       "      <td>9.090000</td>\n",
       "      <td>4.350000</td>\n",
       "      <td>3.960000</td>\n",
       "      <td>97.000000</td>\n",
       "      <td>93.000000</td>\n",
       "      <td>21.050000</td>\n",
       "    </tr>\n",
       "  </tbody>\n",
       "</table>\n",
       "</div>"
      ],
      "text/plain": [
       "       year_of_release     na_sales     eu_sales     jp_sales  other_sales  \\\n",
       "count      2233.000000  2233.000000  2233.000000  2233.000000  2233.000000   \n",
       "mean       2014.477385     0.196019     0.175652     0.063045     0.053726   \n",
       "std           1.089439     0.547730     0.512451     0.233997     0.165693   \n",
       "min        2013.000000     0.000000     0.000000     0.000000     0.000000   \n",
       "25%        2014.000000     0.000000     0.000000     0.000000     0.000000   \n",
       "50%        2014.000000     0.020000     0.030000     0.010000     0.010000   \n",
       "75%        2015.000000     0.150000     0.130000     0.050000     0.040000   \n",
       "max        2016.000000     9.660000     9.090000     4.350000     3.960000   \n",
       "\n",
       "       critic_score   user_score  total_sales  \n",
       "count    991.000000  1192.000000  2233.000000  \n",
       "mean      72.023209    65.845638     0.488442  \n",
       "std       12.841318    16.104132     1.235226  \n",
       "min       13.000000     2.000000     0.010000  \n",
       "25%       66.000000    58.000000     0.030000  \n",
       "50%       74.000000    70.000000     0.110000  \n",
       "75%       81.000000    78.000000     0.400000  \n",
       "max       97.000000    93.000000    21.050000  "
      ]
     },
     "execution_count": 24,
     "metadata": {},
     "output_type": "execute_result"
    }
   ],
   "source": [
    "data.boxplot(column='total_sales', by='platform', figsize=(20, 10))\n",
    "plt.show()\n",
    "ax = data.boxplot(column='total_sales', by='platform', figsize=(20, 10))\n",
    "ax.set_ylim(0, 1)\n",
    "plt.show()\n",
    "data.describe()"
   ]
  },
  {
   "cell_type": "code",
   "execution_count": 25,
   "metadata": {},
   "outputs": [
    {
     "data": {
      "image/png": "[encoded data removed]",
      "text/plain": [
       "<Figure size 720x432 with 1 Axes>"
      ]
     },
     "metadata": {
      "needs_background": "light"
     },
     "output_type": "display_data"
    },
    {
     "name": "stdout",
     "output_type": "stream",
     "text": [
      "корреляция между оценками критиков и продажами: 0.5078289176410228\n",
      "корреляция между оценками пользователей и продажами: -0.032430263114838286\n"
     ]
    }
   ],
   "source": [
    "ps4_data = data.query(\n",
    "    'platform == \"PS4\" and total_sales.notna() and critic_score.notna() and user_score.notna()'\n",
    ")\n",
    "\n",
    "plt.figure(figsize=(10, 6))\n",
    "plt.scatter(ps4_data['critic_score'], ps4_data['total_sales'], color='blue', label='critic Score')\n",
    "plt.scatter(ps4_data['user_score'], ps4_data['total_sales'], color='green', label='user Score')\n",
    "plt.title('диаграмма рассеяния продаж игр на PS4 от оценок критиков и пользователей')\n",
    "plt.xlabel('оценка')\n",
    "plt.ylabel('глобальные продажи')\n",
    "plt.legend()\n",
    "plt.show()\n",
    "\n",
    "critic_correlation = st.spearmanr(ps4_data['total_sales'].dropna(), ps4_data['critic_score'].dropna()).correlation\n",
    "user_correlation = st.spearmanr(ps4_data['total_sales'].dropna(), ps4_data['user_score'].dropna()).correlation\n",
    "\n",
    "print(f\"корреляция между оценками критиков и продажами: {critic_correlation}\")\n",
    "print(f\"корреляция между оценками пользователей и продажами: {user_correlation}\")\n"
   ]
  },
  {
   "cell_type": "code",
   "execution_count": 26,
   "metadata": {},
   "outputs": [
    {
     "data": {
      "image/png": "[encoded data removed]",
      "text/plain": [
       "<Figure size 720x432 with 1 Axes>"
      ]
     },
     "metadata": {
      "needs_background": "light"
     },
     "output_type": "display_data"
    },
    {
     "name": "stdout",
     "output_type": "stream",
     "text": [
      "корреляция между оценками критиков и продажами: 0.5162559802537015\n",
      "корреляция между оценками пользователей и продажами: -0.12204058571597953\n"
     ]
    }
   ],
   "source": [
    "ps4_data = data.query(\n",
    "    'platform == \"XOne\" and total_sales.notna() and critic_score.notna() and user_score.notna()'\n",
    ")\n",
    "plt.figure(figsize=(10, 6))\n",
    "plt.scatter(ps4_data['critic_score'], ps4_data['total_sales'], color='blue', label='critic Score')\n",
    "plt.scatter(ps4_data['user_score'], ps4_data['total_sales'], color='green', label='user Score')\n",
    "plt.title('диаграмма рассеяния продаж игр на PS4 от оценок критиков и пользователей')\n",
    "plt.xlabel('оценка')\n",
    "plt.ylabel('глобальные продажи')\n",
    "plt.legend()\n",
    "plt.show()\n",
    "\n",
    "critic_correlation = st.spearmanr(ps4_data['total_sales'].dropna(), ps4_data['critic_score'].dropna()).correlation\n",
    "user_correlation = st.spearmanr(ps4_data['total_sales'].dropna(), ps4_data['user_score'].dropna()).correlation\n",
    "\n",
    "print(f\"корреляция между оценками критиков и продажами: {critic_correlation}\")\n",
    "print(f\"корреляция между оценками пользователей и продажами: {user_correlation}\")\n"
   ]
  },
  {
   "cell_type": "code",
   "execution_count": 27,
   "metadata": {},
   "outputs": [
    {
     "data": {
      "image/png": "[encoded data removed]",
      "text/plain": [
       "<Figure size 720x432 with 1 Axes>"
      ]
     },
     "metadata": {
      "needs_background": "light"
     },
     "output_type": "display_data"
    },
    {
     "name": "stdout",
     "output_type": "stream",
     "text": [
      "корреляция между оценками критиков и продажами: 0.30885107172796766\n",
      "корреляция между оценками пользователей и продажами: 0.22025761199450253\n"
     ]
    }
   ],
   "source": [
    "ps4_data = data.query(\n",
    "    'platform == \"3DS\" and total_sales.notna() and critic_score.notna() and user_score.notna()'\n",
    ")\n",
    "plt.figure(figsize=(10, 6))\n",
    "plt.scatter(ps4_data['critic_score'], ps4_data['total_sales'], color='blue', label='critic Score')\n",
    "plt.scatter(ps4_data['user_score'], ps4_data['total_sales'], color='green', label='user Score')\n",
    "plt.title('диаграмма рассеяния продаж игр на PS4 от оценок критиков и пользователей')\n",
    "plt.xlabel('оценка')\n",
    "plt.ylabel('глобальные продажи')\n",
    "plt.legend()\n",
    "plt.show()\n",
    "\n",
    "critic_correlation = st.spearmanr(ps4_data['total_sales'].dropna(), ps4_data['critic_score'].dropna()).correlation\n",
    "user_correlation = st.spearmanr(ps4_data['total_sales'].dropna(), ps4_data['user_score'].dropna()).correlation\n",
    "\n",
    "print(f\"корреляция между оценками критиков и продажами: {critic_correlation}\")\n",
    "print(f\"корреляция между оценками пользователей и продажами: {user_correlation}\")"
   ]
  },
  {
   "cell_type": "markdown",
   "metadata": {},
   "source": [
    "судя по графику оценки пользователей корреляции с цифрами продаж не имеют  \n",
    "оценки критиков имеют средне-слабую корреляцию с количеством продаж  "
   ]
  },
  {
   "cell_type": "code",
   "execution_count": 29,
   "metadata": {},
   "outputs": [],
   "source": [
    "genre_sales = data.groupby('genre')['total_sales'].agg(['sum', 'count'])\n",
    "genre_sales['avg_sales_per_game'] = genre_sales['sum'] / genre_sales['count']\n",
    "genre_sales_sorted = genre_sales['avg_sales_per_game'].sort_values(ascending=False)"
   ]
  },
  {
   "cell_type": "code",
   "execution_count": 30,
   "metadata": {},
   "outputs": [
    {
     "data": {
      "image/png": "[encoded data removed]",
      "text/plain": [
       "<Figure size 720x432 with 1 Axes>"
      ]
     },
     "metadata": {
      "needs_background": "light"
     },
     "output_type": "display_data"
    }
   ],
   "source": [
    "plt.figure(figsize=(10, 6))\n",
    "genre_sales_sorted.plot(kind='bar', color='skyblue')\n",
    "plt.title('Average Total Sales per Game by Genre')\n",
    "plt.xlabel('Genre')\n",
    "plt.ylabel('Average Total Sales per Game (in millions of copies)')\n",
    "plt.xticks(rotation=45)\n",
    "plt.grid(axis='y', linestyle='--', alpha=0.7)\n",
    "plt.show()"
   ]
  },
  {
   "cell_type": "code",
   "execution_count": 31,
   "metadata": {
    "scrolled": false
   },
   "outputs": [
    {
     "data": {
      "image/png": "[encoded data removed]",
      "text/plain": [
       "<Figure size 720x432 with 1 Axes>"
      ]
     },
     "metadata": {
      "needs_background": "light"
     },
     "output_type": "display_data"
    },
    {
     "data": {
      "image/png": "[encoded data removed]",
      "text/plain": [
       "<Figure size 720x432 with 1 Axes>"
      ]
     },
     "metadata": {
      "needs_background": "light"
     },
     "output_type": "display_data"
    },
    {
     "data": {
      "image/png": "[encoded data removed]",
      "text/plain": [
       "<Figure size 720x432 with 1 Axes>"
      ]
     },
     "metadata": {
      "needs_background": "light"
     },
     "output_type": "display_data"
    }
   ],
   "source": [
    "regions = ['na_sales', 'eu_sales', 'jp_sales']\n",
    "\n",
    "for region in regions:\n",
    "    plt.figure(figsize=(10, 6))\n",
    "    sorted_data = data.sort_values(by=region, ascending=False)\n",
    "    plt.bar(sorted_data['genre'], sorted_data[region], color='skyblue')\n",
    "    plt.title(f'Average Sales in {region} by Genre')\n",
    "    plt.xlabel('Genre')\n",
    "    plt.ylabel('Average Sales')\n",
    "    plt.xticks(rotation=45)\n",
    "    plt.show()"
   ]
  },
  {
   "cell_type": "code",
   "execution_count": 32,
   "metadata": {},
   "outputs": [
    {
     "name": "stdout",
     "output_type": "stream",
     "text": [
      "самые прибыльные жанры:\n",
      "genre\n",
      "Shooter         1.245882\n",
      "Sports          0.703972\n",
      "Platform        0.576081\n",
      "Role-Playing    0.499623\n",
      "Racing          0.469294\n",
      "Name: avg_sales_per_game, dtype: float64\n",
      "\n",
      "наименее прибыльные жанры:\n",
      "genre\n",
      "Misc          0.405290\n",
      "Simulation    0.350968\n",
      "Puzzle        0.186471\n",
      "Strategy      0.180000\n",
      "Adventure     0.096490\n",
      "Name: avg_sales_per_game, dtype: float64\n"
     ]
    }
   ],
   "source": [
    "print(\"самые прибыльные жанры:\")\n",
    "print(genre_sales_sorted.head(5))\n",
    "print(\"\\nнаименее прибыльные жанры:\")\n",
    "print(genre_sales_sorted.tail(5))"
   ]
  },
  {
   "cell_type": "markdown",
   "metadata": {},
   "source": [
    "Явно видно, что самые прибыльные жанры это: platform, shooter, rpg, racing, sports а наименее прибыльные: simulation, misc, puzzle, adventure"
   ]
  },
  {
   "cell_type": "markdown",
   "metadata": {},
   "source": [
    "## Шаг 4. Портрет пользователя каждого региона"
   ]
  },
  {
   "cell_type": "code",
   "execution_count": 33,
   "metadata": {
    "scrolled": false
   },
   "outputs": [
    {
     "data": {
      "text/html": [
       "<div>\n",
       "<style scoped>\n",
       "    .dataframe tbody tr th:only-of-type {\n",
       "        vertical-align: middle;\n",
       "    }\n",
       "\n",
       "    .dataframe tbody tr th {\n",
       "        vertical-align: top;\n",
       "    }\n",
       "\n",
       "    .dataframe thead th {\n",
       "        text-align: right;\n",
       "    }\n",
       "</style>\n",
       "<table border=\"1\" class=\"dataframe\">\n",
       "  <thead>\n",
       "    <tr style=\"text-align: right;\">\n",
       "      <th></th>\n",
       "      <th>na_sales</th>\n",
       "    </tr>\n",
       "    <tr>\n",
       "      <th>platform</th>\n",
       "      <th></th>\n",
       "    </tr>\n",
       "  </thead>\n",
       "  <tbody>\n",
       "    <tr>\n",
       "      <th>PS4</th>\n",
       "      <td>108.74</td>\n",
       "    </tr>\n",
       "    <tr>\n",
       "      <th>XOne</th>\n",
       "      <td>93.12</td>\n",
       "    </tr>\n",
       "    <tr>\n",
       "      <th>X360</th>\n",
       "      <td>81.66</td>\n",
       "    </tr>\n",
       "    <tr>\n",
       "      <th>PS3</th>\n",
       "      <td>63.50</td>\n",
       "    </tr>\n",
       "    <tr>\n",
       "      <th>3DS</th>\n",
       "      <td>38.20</td>\n",
       "    </tr>\n",
       "  </tbody>\n",
       "</table>\n",
       "</div>"
      ],
      "text/plain": [
       "          na_sales\n",
       "platform          \n",
       "PS4         108.74\n",
       "XOne         93.12\n",
       "X360         81.66\n",
       "PS3          63.50\n",
       "3DS          38.20"
      ]
     },
     "metadata": {},
     "output_type": "display_data"
    },
    {
     "data": {
      "text/html": [
       "<div>\n",
       "<style scoped>\n",
       "    .dataframe tbody tr th:only-of-type {\n",
       "        vertical-align: middle;\n",
       "    }\n",
       "\n",
       "    .dataframe tbody tr th {\n",
       "        vertical-align: top;\n",
       "    }\n",
       "\n",
       "    .dataframe thead th {\n",
       "        text-align: right;\n",
       "    }\n",
       "</style>\n",
       "<table border=\"1\" class=\"dataframe\">\n",
       "  <thead>\n",
       "    <tr style=\"text-align: right;\">\n",
       "      <th></th>\n",
       "      <th>eu_sales</th>\n",
       "    </tr>\n",
       "    <tr>\n",
       "      <th>platform</th>\n",
       "      <th></th>\n",
       "    </tr>\n",
       "  </thead>\n",
       "  <tbody>\n",
       "    <tr>\n",
       "      <th>PS4</th>\n",
       "      <td>141.09</td>\n",
       "    </tr>\n",
       "    <tr>\n",
       "      <th>PS3</th>\n",
       "      <td>67.81</td>\n",
       "    </tr>\n",
       "    <tr>\n",
       "      <th>XOne</th>\n",
       "      <td>51.59</td>\n",
       "    </tr>\n",
       "    <tr>\n",
       "      <th>X360</th>\n",
       "      <td>42.52</td>\n",
       "    </tr>\n",
       "    <tr>\n",
       "      <th>3DS</th>\n",
       "      <td>30.96</td>\n",
       "    </tr>\n",
       "  </tbody>\n",
       "</table>\n",
       "</div>"
      ],
      "text/plain": [
       "          eu_sales\n",
       "platform          \n",
       "PS4         141.09\n",
       "PS3          67.81\n",
       "XOne         51.59\n",
       "X360         42.52\n",
       "3DS          30.96"
      ]
     },
     "metadata": {},
     "output_type": "display_data"
    },
    {
     "data": {
      "text/html": [
       "<div>\n",
       "<style scoped>\n",
       "    .dataframe tbody tr th:only-of-type {\n",
       "        vertical-align: middle;\n",
       "    }\n",
       "\n",
       "    .dataframe tbody tr th {\n",
       "        vertical-align: top;\n",
       "    }\n",
       "\n",
       "    .dataframe thead th {\n",
       "        text-align: right;\n",
       "    }\n",
       "</style>\n",
       "<table border=\"1\" class=\"dataframe\">\n",
       "  <thead>\n",
       "    <tr style=\"text-align: right;\">\n",
       "      <th></th>\n",
       "      <th>jp_sales</th>\n",
       "    </tr>\n",
       "    <tr>\n",
       "      <th>platform</th>\n",
       "      <th></th>\n",
       "    </tr>\n",
       "  </thead>\n",
       "  <tbody>\n",
       "    <tr>\n",
       "      <th>3DS</th>\n",
       "      <td>67.81</td>\n",
       "    </tr>\n",
       "    <tr>\n",
       "      <th>PS3</th>\n",
       "      <td>23.35</td>\n",
       "    </tr>\n",
       "    <tr>\n",
       "      <th>PSV</th>\n",
       "      <td>18.59</td>\n",
       "    </tr>\n",
       "    <tr>\n",
       "      <th>PS4</th>\n",
       "      <td>15.96</td>\n",
       "    </tr>\n",
       "    <tr>\n",
       "      <th>WiiU</th>\n",
       "      <td>10.88</td>\n",
       "    </tr>\n",
       "  </tbody>\n",
       "</table>\n",
       "</div>"
      ],
      "text/plain": [
       "          jp_sales\n",
       "platform          \n",
       "3DS          67.81\n",
       "PS3          23.35\n",
       "PSV          18.59\n",
       "PS4          15.96\n",
       "WiiU         10.88"
      ]
     },
     "metadata": {},
     "output_type": "display_data"
    },
    {
     "data": {
      "text/html": [
       "<div>\n",
       "<style scoped>\n",
       "    .dataframe tbody tr th:only-of-type {\n",
       "        vertical-align: middle;\n",
       "    }\n",
       "\n",
       "    .dataframe tbody tr th {\n",
       "        vertical-align: top;\n",
       "    }\n",
       "\n",
       "    .dataframe thead th {\n",
       "        text-align: right;\n",
       "    }\n",
       "</style>\n",
       "<table border=\"1\" class=\"dataframe\">\n",
       "  <thead>\n",
       "    <tr style=\"text-align: right;\">\n",
       "      <th></th>\n",
       "      <th>na_sales</th>\n",
       "    </tr>\n",
       "    <tr>\n",
       "      <th>genre</th>\n",
       "      <th></th>\n",
       "    </tr>\n",
       "  </thead>\n",
       "  <tbody>\n",
       "    <tr>\n",
       "      <th>Action</th>\n",
       "      <td>126.05</td>\n",
       "    </tr>\n",
       "    <tr>\n",
       "      <th>Shooter</th>\n",
       "      <td>109.74</td>\n",
       "    </tr>\n",
       "    <tr>\n",
       "      <th>Sports</th>\n",
       "      <td>65.27</td>\n",
       "    </tr>\n",
       "    <tr>\n",
       "      <th>Role-Playing</th>\n",
       "      <td>46.40</td>\n",
       "    </tr>\n",
       "    <tr>\n",
       "      <th>Misc</th>\n",
       "      <td>27.49</td>\n",
       "    </tr>\n",
       "  </tbody>\n",
       "</table>\n",
       "</div>"
      ],
      "text/plain": [
       "              na_sales\n",
       "genre                 \n",
       "Action          126.05\n",
       "Shooter         109.74\n",
       "Sports           65.27\n",
       "Role-Playing     46.40\n",
       "Misc             27.49"
      ]
     },
     "metadata": {},
     "output_type": "display_data"
    },
    {
     "data": {
      "text/html": [
       "<div>\n",
       "<style scoped>\n",
       "    .dataframe tbody tr th:only-of-type {\n",
       "        vertical-align: middle;\n",
       "    }\n",
       "\n",
       "    .dataframe tbody tr th {\n",
       "        vertical-align: top;\n",
       "    }\n",
       "\n",
       "    .dataframe thead th {\n",
       "        text-align: right;\n",
       "    }\n",
       "</style>\n",
       "<table border=\"1\" class=\"dataframe\">\n",
       "  <thead>\n",
       "    <tr style=\"text-align: right;\">\n",
       "      <th></th>\n",
       "      <th>eu_sales</th>\n",
       "    </tr>\n",
       "    <tr>\n",
       "      <th>genre</th>\n",
       "      <th></th>\n",
       "    </tr>\n",
       "  </thead>\n",
       "  <tbody>\n",
       "    <tr>\n",
       "      <th>Action</th>\n",
       "      <td>118.13</td>\n",
       "    </tr>\n",
       "    <tr>\n",
       "      <th>Shooter</th>\n",
       "      <td>87.86</td>\n",
       "    </tr>\n",
       "    <tr>\n",
       "      <th>Sports</th>\n",
       "      <td>60.52</td>\n",
       "    </tr>\n",
       "    <tr>\n",
       "      <th>Role-Playing</th>\n",
       "      <td>36.97</td>\n",
       "    </tr>\n",
       "    <tr>\n",
       "      <th>Racing</th>\n",
       "      <td>20.19</td>\n",
       "    </tr>\n",
       "  </tbody>\n",
       "</table>\n",
       "</div>"
      ],
      "text/plain": [
       "              eu_sales\n",
       "genre                 \n",
       "Action          118.13\n",
       "Shooter          87.86\n",
       "Sports           60.52\n",
       "Role-Playing     36.97\n",
       "Racing           20.19"
      ]
     },
     "metadata": {},
     "output_type": "display_data"
    },
    {
     "data": {
      "text/html": [
       "<div>\n",
       "<style scoped>\n",
       "    .dataframe tbody tr th:only-of-type {\n",
       "        vertical-align: middle;\n",
       "    }\n",
       "\n",
       "    .dataframe tbody tr th {\n",
       "        vertical-align: top;\n",
       "    }\n",
       "\n",
       "    .dataframe thead th {\n",
       "        text-align: right;\n",
       "    }\n",
       "</style>\n",
       "<table border=\"1\" class=\"dataframe\">\n",
       "  <thead>\n",
       "    <tr style=\"text-align: right;\">\n",
       "      <th></th>\n",
       "      <th>jp_sales</th>\n",
       "    </tr>\n",
       "    <tr>\n",
       "      <th>genre</th>\n",
       "      <th></th>\n",
       "    </tr>\n",
       "  </thead>\n",
       "  <tbody>\n",
       "    <tr>\n",
       "      <th>Role-Playing</th>\n",
       "      <td>51.04</td>\n",
       "    </tr>\n",
       "    <tr>\n",
       "      <th>Action</th>\n",
       "      <td>40.49</td>\n",
       "    </tr>\n",
       "    <tr>\n",
       "      <th>Misc</th>\n",
       "      <td>9.20</td>\n",
       "    </tr>\n",
       "    <tr>\n",
       "      <th>Fighting</th>\n",
       "      <td>7.65</td>\n",
       "    </tr>\n",
       "    <tr>\n",
       "      <th>Shooter</th>\n",
       "      <td>6.61</td>\n",
       "    </tr>\n",
       "  </tbody>\n",
       "</table>\n",
       "</div>"
      ],
      "text/plain": [
       "              jp_sales\n",
       "genre                 \n",
       "Role-Playing     51.04\n",
       "Action           40.49\n",
       "Misc              9.20\n",
       "Fighting          7.65\n",
       "Shooter           6.61"
      ]
     },
     "metadata": {},
     "output_type": "display_data"
    },
    {
     "data": {
      "text/html": [
       "<div>\n",
       "<style scoped>\n",
       "    .dataframe tbody tr th:only-of-type {\n",
       "        vertical-align: middle;\n",
       "    }\n",
       "\n",
       "    .dataframe tbody tr th {\n",
       "        vertical-align: top;\n",
       "    }\n",
       "\n",
       "    .dataframe thead th {\n",
       "        text-align: right;\n",
       "    }\n",
       "</style>\n",
       "<table border=\"1\" class=\"dataframe\">\n",
       "  <thead>\n",
       "    <tr style=\"text-align: right;\">\n",
       "      <th></th>\n",
       "      <th>na_sales</th>\n",
       "    </tr>\n",
       "    <tr>\n",
       "      <th>rating</th>\n",
       "      <th></th>\n",
       "    </tr>\n",
       "  </thead>\n",
       "  <tbody>\n",
       "    <tr>\n",
       "      <th>M</th>\n",
       "      <td>165.21</td>\n",
       "    </tr>\n",
       "    <tr>\n",
       "      <th>No official rating</th>\n",
       "      <td>89.42</td>\n",
       "    </tr>\n",
       "    <tr>\n",
       "      <th>E</th>\n",
       "      <td>79.05</td>\n",
       "    </tr>\n",
       "    <tr>\n",
       "      <th>E10+</th>\n",
       "      <td>54.24</td>\n",
       "    </tr>\n",
       "    <tr>\n",
       "      <th>T</th>\n",
       "      <td>49.79</td>\n",
       "    </tr>\n",
       "  </tbody>\n",
       "</table>\n",
       "</div>"
      ],
      "text/plain": [
       "                    na_sales\n",
       "rating                      \n",
       "M                     165.21\n",
       "No official rating     89.42\n",
       "E                      79.05\n",
       "E10+                   54.24\n",
       "T                      49.79"
      ]
     },
     "metadata": {},
     "output_type": "display_data"
    },
    {
     "data": {
      "text/html": [
       "<div>\n",
       "<style scoped>\n",
       "    .dataframe tbody tr th:only-of-type {\n",
       "        vertical-align: middle;\n",
       "    }\n",
       "\n",
       "    .dataframe tbody tr th {\n",
       "        vertical-align: top;\n",
       "    }\n",
       "\n",
       "    .dataframe thead th {\n",
       "        text-align: right;\n",
       "    }\n",
       "</style>\n",
       "<table border=\"1\" class=\"dataframe\">\n",
       "  <thead>\n",
       "    <tr style=\"text-align: right;\">\n",
       "      <th></th>\n",
       "      <th>eu_sales</th>\n",
       "    </tr>\n",
       "    <tr>\n",
       "      <th>rating</th>\n",
       "      <th></th>\n",
       "    </tr>\n",
       "  </thead>\n",
       "  <tbody>\n",
       "    <tr>\n",
       "      <th>M</th>\n",
       "      <td>145.32</td>\n",
       "    </tr>\n",
       "    <tr>\n",
       "      <th>E</th>\n",
       "      <td>83.36</td>\n",
       "    </tr>\n",
       "    <tr>\n",
       "      <th>No official rating</th>\n",
       "      <td>78.91</td>\n",
       "    </tr>\n",
       "    <tr>\n",
       "      <th>E10+</th>\n",
       "      <td>42.69</td>\n",
       "    </tr>\n",
       "    <tr>\n",
       "      <th>T</th>\n",
       "      <td>41.95</td>\n",
       "    </tr>\n",
       "  </tbody>\n",
       "</table>\n",
       "</div>"
      ],
      "text/plain": [
       "                    eu_sales\n",
       "rating                      \n",
       "M                     145.32\n",
       "E                      83.36\n",
       "No official rating     78.91\n",
       "E10+                   42.69\n",
       "T                      41.95"
      ]
     },
     "metadata": {},
     "output_type": "display_data"
    },
    {
     "data": {
      "text/html": [
       "<div>\n",
       "<style scoped>\n",
       "    .dataframe tbody tr th:only-of-type {\n",
       "        vertical-align: middle;\n",
       "    }\n",
       "\n",
       "    .dataframe tbody tr th {\n",
       "        vertical-align: top;\n",
       "    }\n",
       "\n",
       "    .dataframe thead th {\n",
       "        text-align: right;\n",
       "    }\n",
       "</style>\n",
       "<table border=\"1\" class=\"dataframe\">\n",
       "  <thead>\n",
       "    <tr style=\"text-align: right;\">\n",
       "      <th></th>\n",
       "      <th>jp_sales</th>\n",
       "    </tr>\n",
       "    <tr>\n",
       "      <th>rating</th>\n",
       "      <th></th>\n",
       "    </tr>\n",
       "  </thead>\n",
       "  <tbody>\n",
       "    <tr>\n",
       "      <th>No official rating</th>\n",
       "      <td>85.05</td>\n",
       "    </tr>\n",
       "    <tr>\n",
       "      <th>T</th>\n",
       "      <td>20.59</td>\n",
       "    </tr>\n",
       "    <tr>\n",
       "      <th>E</th>\n",
       "      <td>15.14</td>\n",
       "    </tr>\n",
       "    <tr>\n",
       "      <th>M</th>\n",
       "      <td>14.11</td>\n",
       "    </tr>\n",
       "    <tr>\n",
       "      <th>E10+</th>\n",
       "      <td>5.89</td>\n",
       "    </tr>\n",
       "  </tbody>\n",
       "</table>\n",
       "</div>"
      ],
      "text/plain": [
       "                    jp_sales\n",
       "rating                      \n",
       "No official rating     85.05\n",
       "T                      20.59\n",
       "E                      15.14\n",
       "M                      14.11\n",
       "E10+                    5.89"
      ]
     },
     "metadata": {},
     "output_type": "display_data"
    }
   ],
   "source": [
    "regions = ['na_sales', 'eu_sales', 'jp_sales']\n",
    "data['rating'] = data['rating'].fillna('No official rating')\n",
    "\n",
    "platform_sales = data.groupby('platform')[regions].sum()\n",
    "for region in regions:\n",
    "    a = platform_sales[[region]].sort_values(by=region, ascending=False).head()\n",
    "    display(a)\n",
    "\n",
    "genres = data.groupby('genre')[regions].sum()\n",
    "for region in regions:\n",
    "    a = genres[[region]].sort_values(by=region, ascending=False).head()\n",
    "    display(a)\n",
    "    \n",
    "rating = data.groupby('rating')[regions].sum()\n",
    "for region in regions:\n",
    "    a = rating[[region]].sort_values(by=region, ascending=False).head()\n",
    "    display(a)\n"
   ]
  },
  {
   "cell_type": "markdown",
   "metadata": {},
   "source": [
    "Видно, что в японии Xbox не пользуется популярностью и самым популярным жанром является рпг  \n",
    "А рейтинг игр практически не отличается по региноам, в топ 4 везде входят E, без официального рейтинга, M, T, E10+  \n",
    "Однако в японии с огромным отрывом лидируют игры без рейтинга, либо это ошибка программ, либо в японии диким спросом пользуются мелкие инди игры, либо рейтинг ESRB сложен для получения с бюрократической точки зрения, нежели для западных регионов  "
   ]
  },
  {
   "cell_type": "markdown",
   "metadata": {},
   "source": [
    "## Шаг 5. Проверка гипотез"
   ]
  },
  {
   "cell_type": "markdown",
   "metadata": {},
   "source": [
    "Нулевая гипотеза: средняя оценка пользователей игр на ПК и Xbox One одинакова  \n",
    "Альтернативная гипотеза: средняя оценка отличается"
   ]
  },
  {
   "cell_type": "code",
   "execution_count": 34,
   "metadata": {},
   "outputs": [
    {
     "name": "stdout",
     "output_type": "stream",
     "text": [
      "pvalue: 0.17306926618147386\n",
      "НЕ отвергаем нулевую гипотезу\n",
      "\n",
      "Xbox One avg user_score: 65.21428571428571 \n",
      "PC avg user_score: 62.696774193548386\n"
     ]
    }
   ],
   "source": [
    "alpha = 0.05\n",
    "results = st.ttest_ind(\n",
    "    data.query('platform==\"XOne\"').dropna()['user_score'],\n",
    "    data.query('platform==\"PC\"').dropna()['user_score'], alternative='two-sided'\n",
    ")\n",
    "print('pvalue:', results.pvalue)\n",
    "if results.pvalue < alpha:\n",
    "    print('отвергаем нулевую гипотезу')\n",
    "else:\n",
    "    print('НЕ отвергаем нулевую гипотезу')\n",
    "    \n",
    "    \n",
    "print(\n",
    "    '\\n'\n",
    "    'Xbox One avg user_score:', data.query('platform==\"XOne\"')['user_score'].mean(), '\\n'\n",
    "    'PC avg user_score:', data.query('platform==\"PC\"')['user_score'].mean(),\n",
    ")"
   ]
  },
  {
   "cell_type": "markdown",
   "metadata": {},
   "source": [
    "судя по всему средняя оценка игр на ПК и Xbox One одинакова"
   ]
  },
  {
   "cell_type": "markdown",
   "metadata": {},
   "source": [
    "Нулевая гипотеза: средняя оценка пользователей игр на в жанрах экшн и спорт одинакова  \n",
    "Альтернативная гипотеза: средняя оценка отличается"
   ]
  },
  {
   "cell_type": "code",
   "execution_count": 35,
   "metadata": {},
   "outputs": [
    {
     "name": "stdout",
     "output_type": "stream",
     "text": [
      "pvalue: 1.6840994306901232e-16\n",
      "отвергаем нулевую гипотезу\n",
      "\n",
      "action avg user_score: 68.37532133676092 \n",
      "sports avg user_score: 52.38125\n"
     ]
    }
   ],
   "source": [
    "alpha = 0.05\n",
    "results = st.ttest_ind(\n",
    "    data.query('genre==\"Action\"').dropna()['user_score'],\n",
    "    data.query('genre==\"Sports\"').dropna()['user_score'], alternative='two-sided'\n",
    ")\n",
    "print('pvalue:', results.pvalue)\n",
    "if results.pvalue < alpha:\n",
    "    print('отвергаем нулевую гипотезу')\n",
    "else:\n",
    "    print('НЕ отвергаем нулевую гипотезу')\n",
    "    \n",
    "    \n",
    "print(\n",
    "    '\\n'\n",
    "    'action avg user_score:', data.query('genre==\"Action\"')['user_score'].mean(), '\\n'\n",
    "    'sports avg user_score:', data.query('genre==\"Sports\"')['user_score'].mean(),\n",
    ")"
   ]
  },
  {
   "cell_type": "markdown",
   "metadata": {},
   "source": [
    "судя по всему средняя оценка игр в жанрах экшн больше, нежели жанра спорт"
   ]
  },
  {
   "cell_type": "markdown",
   "metadata": {},
   "source": [
    "## Шаг 6. Oбщий вывод"
   ]
  },
  {
   "cell_type": "markdown",
   "metadata": {},
   "source": [
    "Судя по проделанному анализу есть веские доводы разделить рекламные компании по регионам:  \n",
    "\n",
    "в северной америке стоит уделить внимание на:  \n",
    "платформы: PS4, Xbox One  \n",
    "жанры: Action, Shooter, sport  \n",
    "с рейтингом: М, Е, или без официального рейтинга  \n",
    "\n",
    "в европейском регионе стоить уделить внимание на:  \n",
    "платформы: PS4, Xbox One  \n",
    "жанры: Action, Shooter, sport  \n",
    "с рейтингом: М, Е, или без официального рейтинга  \n",
    "\n",
    "в японии стоить уделить внимание на:  \n",
    "платформы: 3DS, PS4  \n",
    "жанры: Role play, Action \n",
    "с рейтингом: без официального рейтинга, T  \n",
    "\n",
    "На отзывы пользователей можно не ориентироваться, на отзывы критиков самую малость, но это в крайнем случае\n",
    "\n",
    "Также хотелось бы посоветовать проверить алгоритмы сбора и хранения данных на баги, так как есть большое количество в пропусках касательно оценок критиков и пользователей"
   ]
  }
 ],
 "metadata": {
  "ExecuteTimeLog": [
   {
    "duration": 1038,
    "start_time": "2024-04-07T18:32:01.882Z"
   },
   {
    "duration": 74,
    "start_time": "2024-04-07T18:32:02.921Z"
   },
   {
    "duration": 1634,
    "start_time": "2024-04-07T18:32:02.997Z"
   },
   {
    "duration": 0,
    "start_time": "2024-04-07T18:32:04.632Z"
   },
   {
    "duration": 984,
    "start_time": "2024-04-07T18:33:50.455Z"
   },
   {
    "duration": 72,
    "start_time": "2024-04-07T18:33:51.440Z"
   },
   {
    "duration": 2,
    "start_time": "2024-04-07T18:33:51.513Z"
   },
   {
    "duration": 10,
    "start_time": "2024-04-07T18:33:51.517Z"
   },
   {
    "duration": 27,
    "start_time": "2024-04-07T18:33:51.529Z"
   },
   {
    "duration": 960,
    "start_time": "2024-04-07T18:34:18.564Z"
   },
   {
    "duration": 74,
    "start_time": "2024-04-07T18:34:19.526Z"
   },
   {
    "duration": 4,
    "start_time": "2024-04-07T18:34:19.601Z"
   },
   {
    "duration": 16,
    "start_time": "2024-04-07T18:34:19.606Z"
   },
   {
    "duration": 17,
    "start_time": "2024-04-07T18:34:19.623Z"
   },
   {
    "duration": 1015,
    "start_time": "2024-04-07T18:35:09.986Z"
   },
   {
    "duration": 71,
    "start_time": "2024-04-07T18:35:11.002Z"
   },
   {
    "duration": 3,
    "start_time": "2024-04-07T18:35:11.074Z"
   },
   {
    "duration": 857,
    "start_time": "2024-04-07T18:35:11.078Z"
   },
   {
    "duration": 0,
    "start_time": "2024-04-07T18:35:11.937Z"
   },
   {
    "duration": 931,
    "start_time": "2024-04-07T18:35:28.292Z"
   },
   {
    "duration": 71,
    "start_time": "2024-04-07T18:35:29.225Z"
   },
   {
    "duration": 3,
    "start_time": "2024-04-07T18:35:29.299Z"
   },
   {
    "duration": 905,
    "start_time": "2024-04-07T18:35:29.303Z"
   },
   {
    "duration": 0,
    "start_time": "2024-04-07T18:35:30.210Z"
   },
   {
    "duration": 994,
    "start_time": "2024-04-07T18:36:00.053Z"
   },
   {
    "duration": 73,
    "start_time": "2024-04-07T18:36:01.048Z"
   },
   {
    "duration": 3,
    "start_time": "2024-04-07T18:36:01.122Z"
   },
   {
    "duration": 50,
    "start_time": "2024-04-07T18:36:01.126Z"
   },
   {
    "duration": 42,
    "start_time": "2024-04-07T18:36:01.177Z"
   },
   {
    "duration": 14,
    "start_time": "2024-04-07T18:41:43.711Z"
   },
   {
    "duration": 168,
    "start_time": "2024-04-07T18:42:37.585Z"
   },
   {
    "duration": 151,
    "start_time": "2024-04-07T18:42:43.274Z"
   },
   {
    "duration": 145,
    "start_time": "2024-04-07T18:43:21.475Z"
   },
   {
    "duration": 87,
    "start_time": "2024-04-07T18:43:46.479Z"
   },
   {
    "duration": 8,
    "start_time": "2024-04-07T18:43:56.304Z"
   },
   {
    "duration": 7,
    "start_time": "2024-04-07T18:44:10.202Z"
   },
   {
    "duration": 7,
    "start_time": "2024-04-07T18:44:23.946Z"
   },
   {
    "duration": 6,
    "start_time": "2024-04-07T18:44:35.774Z"
   },
   {
    "duration": 7,
    "start_time": "2024-04-07T18:44:58.056Z"
   },
   {
    "duration": 7,
    "start_time": "2024-04-07T18:45:07.125Z"
   },
   {
    "duration": 6,
    "start_time": "2024-04-07T18:45:20.004Z"
   },
   {
    "duration": 109,
    "start_time": "2024-04-07T18:45:57.460Z"
   },
   {
    "duration": 111,
    "start_time": "2024-04-07T18:46:02.751Z"
   },
   {
    "duration": 119,
    "start_time": "2024-04-07T18:46:08.724Z"
   },
   {
    "duration": 112,
    "start_time": "2024-04-07T18:46:15.075Z"
   },
   {
    "duration": 5,
    "start_time": "2024-04-07T18:46:40.979Z"
   },
   {
    "duration": 5,
    "start_time": "2024-04-07T18:46:51.576Z"
   },
   {
    "duration": 9,
    "start_time": "2024-04-07T18:47:18.293Z"
   },
   {
    "duration": 7,
    "start_time": "2024-04-07T18:47:22.621Z"
   },
   {
    "duration": 109,
    "start_time": "2024-04-07T18:47:31.446Z"
   },
   {
    "duration": 170,
    "start_time": "2024-04-07T18:47:48.603Z"
   },
   {
    "duration": 112,
    "start_time": "2024-04-07T18:47:54.125Z"
   },
   {
    "duration": 111,
    "start_time": "2024-04-07T18:47:57.482Z"
   },
   {
    "duration": 19,
    "start_time": "2024-04-07T18:53:13.340Z"
   },
   {
    "duration": 15,
    "start_time": "2024-04-07T18:53:33.869Z"
   },
   {
    "duration": 14,
    "start_time": "2024-04-07T18:53:46.612Z"
   },
   {
    "duration": 12,
    "start_time": "2024-04-07T18:53:57.188Z"
   },
   {
    "duration": 143,
    "start_time": "2024-04-07T18:54:55.983Z"
   },
   {
    "duration": 12,
    "start_time": "2024-04-07T18:55:11.352Z"
   },
   {
    "duration": 12,
    "start_time": "2024-04-07T18:55:27.042Z"
   },
   {
    "duration": 12,
    "start_time": "2024-04-07T18:55:35.124Z"
   },
   {
    "duration": 13,
    "start_time": "2024-04-07T18:55:45.067Z"
   },
   {
    "duration": 14,
    "start_time": "2024-04-07T18:55:55.342Z"
   },
   {
    "duration": 109,
    "start_time": "2024-04-07T18:57:25.648Z"
   },
   {
    "duration": 108,
    "start_time": "2024-04-07T18:57:31.318Z"
   },
   {
    "duration": 111,
    "start_time": "2024-04-07T18:57:35.467Z"
   },
   {
    "duration": 109,
    "start_time": "2024-04-07T18:57:39.797Z"
   },
   {
    "duration": 6,
    "start_time": "2024-04-07T18:58:21.456Z"
   },
   {
    "duration": 13,
    "start_time": "2024-04-07T18:58:23.513Z"
   },
   {
    "duration": 12,
    "start_time": "2024-04-07T18:58:34.725Z"
   },
   {
    "duration": 13,
    "start_time": "2024-04-07T18:58:50.121Z"
   },
   {
    "duration": 10,
    "start_time": "2024-04-07T18:59:41.923Z"
   },
   {
    "duration": 12,
    "start_time": "2024-04-07T18:59:50.871Z"
   },
   {
    "duration": 261,
    "start_time": "2024-04-07T19:36:03.671Z"
   },
   {
    "duration": 12,
    "start_time": "2024-04-07T19:37:19.276Z"
   },
   {
    "duration": 12,
    "start_time": "2024-04-07T19:37:30.530Z"
   },
   {
    "duration": 12,
    "start_time": "2024-04-07T19:37:38.093Z"
   },
   {
    "duration": 13,
    "start_time": "2024-04-07T19:38:01.869Z"
   },
   {
    "duration": 950,
    "start_time": "2024-04-07T19:38:08.806Z"
   },
   {
    "duration": 73,
    "start_time": "2024-04-07T19:38:09.758Z"
   },
   {
    "duration": 3,
    "start_time": "2024-04-07T19:38:09.832Z"
   },
   {
    "duration": 16,
    "start_time": "2024-04-07T19:38:09.836Z"
   },
   {
    "duration": 30,
    "start_time": "2024-04-07T19:38:09.854Z"
   },
   {
    "duration": 15,
    "start_time": "2024-04-07T19:38:09.886Z"
   },
   {
    "duration": 128,
    "start_time": "2024-04-07T19:38:09.903Z"
   },
   {
    "duration": 6,
    "start_time": "2024-04-07T19:38:10.032Z"
   },
   {
    "duration": 31,
    "start_time": "2024-04-07T19:38:10.039Z"
   },
   {
    "duration": 257,
    "start_time": "2024-04-07T19:38:10.071Z"
   },
   {
    "duration": 15,
    "start_time": "2024-04-07T19:39:12.339Z"
   },
   {
    "duration": 12,
    "start_time": "2024-04-07T19:39:34.634Z"
   },
   {
    "duration": 13,
    "start_time": "2024-04-07T19:39:35.733Z"
   },
   {
    "duration": 1012,
    "start_time": "2024-04-07T19:41:05.988Z"
   },
   {
    "duration": 73,
    "start_time": "2024-04-07T19:41:07.002Z"
   },
   {
    "duration": 2,
    "start_time": "2024-04-07T19:41:07.076Z"
   },
   {
    "duration": 38,
    "start_time": "2024-04-07T19:41:07.080Z"
   },
   {
    "duration": 28,
    "start_time": "2024-04-07T19:41:07.120Z"
   },
   {
    "duration": 23,
    "start_time": "2024-04-07T19:41:07.149Z"
   },
   {
    "duration": 130,
    "start_time": "2024-04-07T19:41:07.173Z"
   },
   {
    "duration": 5,
    "start_time": "2024-04-07T19:41:07.304Z"
   },
   {
    "duration": 30,
    "start_time": "2024-04-07T19:41:07.310Z"
   },
   {
    "duration": 280,
    "start_time": "2024-04-07T19:41:07.341Z"
   },
   {
    "duration": 15,
    "start_time": "2024-04-07T19:57:38.658Z"
   },
   {
    "duration": 14,
    "start_time": "2024-04-07T19:57:39.865Z"
   },
   {
    "duration": 78,
    "start_time": "2024-04-07T19:58:00.300Z"
   },
   {
    "duration": 16,
    "start_time": "2024-04-07T19:58:34.535Z"
   },
   {
    "duration": 16,
    "start_time": "2024-04-07T19:59:04.066Z"
   },
   {
    "duration": 70,
    "start_time": "2024-04-07T19:59:34.721Z"
   },
   {
    "duration": 3,
    "start_time": "2024-04-07T19:59:34.792Z"
   },
   {
    "duration": 51,
    "start_time": "2024-04-07T19:59:34.796Z"
   },
   {
    "duration": 13,
    "start_time": "2024-04-07T19:59:34.848Z"
   },
   {
    "duration": 14,
    "start_time": "2024-04-07T19:59:34.862Z"
   },
   {
    "duration": 113,
    "start_time": "2024-04-07T19:59:34.877Z"
   },
   {
    "duration": 4,
    "start_time": "2024-04-07T19:59:34.992Z"
   },
   {
    "duration": 25,
    "start_time": "2024-04-07T19:59:34.997Z"
   },
   {
    "duration": 898,
    "start_time": "2024-04-07T19:59:42.243Z"
   },
   {
    "duration": 73,
    "start_time": "2024-04-07T19:59:43.143Z"
   },
   {
    "duration": 3,
    "start_time": "2024-04-07T19:59:43.218Z"
   },
   {
    "duration": 18,
    "start_time": "2024-04-07T19:59:43.223Z"
   },
   {
    "duration": 14,
    "start_time": "2024-04-07T19:59:43.242Z"
   },
   {
    "duration": 33,
    "start_time": "2024-04-07T19:59:43.257Z"
   },
   {
    "duration": 130,
    "start_time": "2024-04-07T19:59:43.291Z"
   },
   {
    "duration": 6,
    "start_time": "2024-04-07T19:59:43.422Z"
   },
   {
    "duration": 27,
    "start_time": "2024-04-07T19:59:43.429Z"
   },
   {
    "duration": 272,
    "start_time": "2024-04-07T19:59:43.457Z"
   },
   {
    "duration": 16,
    "start_time": "2024-04-07T20:00:58.846Z"
   },
   {
    "duration": 1495,
    "start_time": "2024-04-08T07:53:25.272Z"
   },
   {
    "duration": 1200,
    "start_time": "2024-04-08T07:55:58.032Z"
   },
   {
    "duration": 88,
    "start_time": "2024-04-08T07:55:59.234Z"
   },
   {
    "duration": 3,
    "start_time": "2024-04-08T07:55:59.323Z"
   },
   {
    "duration": 22,
    "start_time": "2024-04-08T07:55:59.328Z"
   },
   {
    "duration": 17,
    "start_time": "2024-04-08T07:55:59.352Z"
   },
   {
    "duration": 19,
    "start_time": "2024-04-08T07:55:59.371Z"
   },
   {
    "duration": 188,
    "start_time": "2024-04-08T07:55:59.391Z"
   },
   {
    "duration": 6,
    "start_time": "2024-04-08T07:55:59.580Z"
   },
   {
    "duration": 48,
    "start_time": "2024-04-08T07:55:59.587Z"
   },
   {
    "duration": 362,
    "start_time": "2024-04-08T07:55:59.636Z"
   },
   {
    "duration": 3,
    "start_time": "2024-04-08T07:56:00.037Z"
   },
   {
    "duration": 103,
    "start_time": "2024-04-08T07:56:00.041Z"
   },
   {
    "duration": 3,
    "start_time": "2024-04-08T07:56:00.145Z"
   },
   {
    "duration": 77,
    "start_time": "2024-04-08T07:56:00.149Z"
   },
   {
    "duration": 46,
    "start_time": "2024-04-08T07:56:00.229Z"
   },
   {
    "duration": 41,
    "start_time": "2024-04-08T07:56:00.277Z"
   },
   {
    "duration": 161,
    "start_time": "2024-04-08T07:56:00.320Z"
   },
   {
    "duration": 6,
    "start_time": "2024-04-08T07:56:00.483Z"
   },
   {
    "duration": 102,
    "start_time": "2024-04-08T07:56:00.491Z"
   },
   {
    "duration": 384,
    "start_time": "2024-04-08T07:56:00.594Z"
   },
   {
    "duration": 16,
    "start_time": "2024-04-08T07:57:30.397Z"
   },
   {
    "duration": 19,
    "start_time": "2024-04-08T08:02:17.334Z"
   },
   {
    "duration": 6,
    "start_time": "2024-04-08T08:02:44.233Z"
   },
   {
    "duration": 1156,
    "start_time": "2024-04-08T08:02:55.017Z"
   },
   {
    "duration": 90,
    "start_time": "2024-04-08T08:02:56.175Z"
   },
   {
    "duration": 3,
    "start_time": "2024-04-08T08:02:56.266Z"
   },
   {
    "duration": 21,
    "start_time": "2024-04-08T08:02:56.271Z"
   },
   {
    "duration": 32,
    "start_time": "2024-04-08T08:02:56.294Z"
   },
   {
    "duration": 20,
    "start_time": "2024-04-08T08:02:56.328Z"
   },
   {
    "duration": 187,
    "start_time": "2024-04-08T08:02:56.349Z"
   },
   {
    "duration": 9,
    "start_time": "2024-04-08T08:02:56.538Z"
   },
   {
    "duration": 44,
    "start_time": "2024-04-08T08:02:56.549Z"
   },
   {
    "duration": 324,
    "start_time": "2024-04-08T08:02:56.595Z"
   },
   {
    "duration": 1105,
    "start_time": "2024-04-08T08:10:20.852Z"
   },
   {
    "duration": 86,
    "start_time": "2024-04-08T08:10:21.959Z"
   },
   {
    "duration": 3,
    "start_time": "2024-04-08T08:10:22.046Z"
   },
   {
    "duration": 22,
    "start_time": "2024-04-08T08:10:22.051Z"
   },
   {
    "duration": 18,
    "start_time": "2024-04-08T08:10:22.074Z"
   },
   {
    "duration": 29,
    "start_time": "2024-04-08T08:10:22.114Z"
   },
   {
    "duration": 169,
    "start_time": "2024-04-08T08:10:22.145Z"
   },
   {
    "duration": 10,
    "start_time": "2024-04-08T08:10:22.316Z"
   },
   {
    "duration": 131,
    "start_time": "2024-04-08T08:10:22.328Z"
   },
   {
    "duration": 0,
    "start_time": "2024-04-08T08:10:22.461Z"
   },
   {
    "duration": 21,
    "start_time": "2024-04-08T08:11:14.217Z"
   },
   {
    "duration": 5900,
    "start_time": "2024-04-08T08:51:16.409Z"
   },
   {
    "duration": 6156,
    "start_time": "2024-04-08T08:51:35.302Z"
   },
   {
    "duration": 5995,
    "start_time": "2024-04-08T08:52:05.651Z"
   },
   {
    "duration": 5517,
    "start_time": "2024-04-08T08:52:22.487Z"
   },
   {
    "duration": 355,
    "start_time": "2024-04-08T08:55:16.264Z"
   },
   {
    "duration": 1395,
    "start_time": "2024-04-08T09:02:48.924Z"
   },
   {
    "duration": 338,
    "start_time": "2024-04-08T09:14:03.569Z"
   },
   {
    "duration": 1719,
    "start_time": "2024-04-08T09:15:32.887Z"
   },
   {
    "duration": 1859,
    "start_time": "2024-04-08T09:17:12.627Z"
   },
   {
    "duration": 1826,
    "start_time": "2024-04-08T09:18:22.936Z"
   },
   {
    "duration": 1644,
    "start_time": "2024-04-08T09:19:51.941Z"
   },
   {
    "duration": 1181,
    "start_time": "2024-04-08T09:20:16.888Z"
   },
   {
    "duration": 89,
    "start_time": "2024-04-08T09:20:18.071Z"
   },
   {
    "duration": 3,
    "start_time": "2024-04-08T09:20:18.161Z"
   },
   {
    "duration": 37,
    "start_time": "2024-04-08T09:20:18.166Z"
   },
   {
    "duration": 16,
    "start_time": "2024-04-08T09:20:18.206Z"
   },
   {
    "duration": 18,
    "start_time": "2024-04-08T09:20:18.224Z"
   },
   {
    "duration": 170,
    "start_time": "2024-04-08T09:20:18.243Z"
   },
   {
    "duration": 10,
    "start_time": "2024-04-08T09:20:18.415Z"
   },
   {
    "duration": 117,
    "start_time": "2024-04-08T09:20:18.426Z"
   },
   {
    "duration": 0,
    "start_time": "2024-04-08T09:20:18.544Z"
   },
   {
    "duration": 0,
    "start_time": "2024-04-08T09:20:18.546Z"
   },
   {
    "duration": 0,
    "start_time": "2024-04-08T09:20:18.547Z"
   },
   {
    "duration": 0,
    "start_time": "2024-04-08T09:20:18.547Z"
   },
   {
    "duration": 1147,
    "start_time": "2024-04-08T09:20:39.415Z"
   },
   {
    "duration": 95,
    "start_time": "2024-04-08T09:20:40.564Z"
   },
   {
    "duration": 4,
    "start_time": "2024-04-08T09:20:40.660Z"
   },
   {
    "duration": 31,
    "start_time": "2024-04-08T09:20:40.666Z"
   },
   {
    "duration": 21,
    "start_time": "2024-04-08T09:20:40.699Z"
   },
   {
    "duration": 18,
    "start_time": "2024-04-08T09:20:40.722Z"
   },
   {
    "duration": 179,
    "start_time": "2024-04-08T09:20:40.742Z"
   },
   {
    "duration": 10,
    "start_time": "2024-04-08T09:20:40.923Z"
   },
   {
    "duration": 19,
    "start_time": "2024-04-08T09:20:40.934Z"
   },
   {
    "duration": 323,
    "start_time": "2024-04-08T09:20:40.955Z"
   },
   {
    "duration": 212,
    "start_time": "2024-04-08T09:20:41.279Z"
   },
   {
    "duration": 347,
    "start_time": "2024-04-08T09:20:41.493Z"
   },
   {
    "duration": 376,
    "start_time": "2024-04-08T09:20:41.841Z"
   },
   {
    "duration": 1116,
    "start_time": "2024-04-08T09:22:13.448Z"
   },
   {
    "duration": 96,
    "start_time": "2024-04-08T09:22:14.566Z"
   },
   {
    "duration": 3,
    "start_time": "2024-04-08T09:22:14.664Z"
   },
   {
    "duration": 31,
    "start_time": "2024-04-08T09:22:14.669Z"
   },
   {
    "duration": 25,
    "start_time": "2024-04-08T09:22:14.702Z"
   },
   {
    "duration": 18,
    "start_time": "2024-04-08T09:22:14.728Z"
   },
   {
    "duration": 185,
    "start_time": "2024-04-08T09:22:14.748Z"
   },
   {
    "duration": 10,
    "start_time": "2024-04-08T09:22:14.934Z"
   },
   {
    "duration": 24,
    "start_time": "2024-04-08T09:22:14.945Z"
   },
   {
    "duration": 3,
    "start_time": "2024-04-08T09:22:14.970Z"
   },
   {
    "duration": 5770,
    "start_time": "2024-04-08T09:22:14.974Z"
   },
   {
    "duration": 1843,
    "start_time": "2024-04-08T09:22:22.153Z"
   },
   {
    "duration": 1749,
    "start_time": "2024-04-08T09:22:41.279Z"
   },
   {
    "duration": 1843,
    "start_time": "2024-04-08T09:23:21.773Z"
   },
   {
    "duration": 1852,
    "start_time": "2024-04-08T09:23:37.477Z"
   },
   {
    "duration": 213,
    "start_time": "2024-04-08T10:04:37.879Z"
   },
   {
    "duration": 200,
    "start_time": "2024-04-08T10:05:24.053Z"
   },
   {
    "duration": 5736,
    "start_time": "2024-04-08T10:16:25.314Z"
   },
   {
    "duration": 5635,
    "start_time": "2024-04-08T10:16:47.547Z"
   },
   {
    "duration": 1905,
    "start_time": "2024-04-08T10:19:12.433Z"
   },
   {
    "duration": 1670,
    "start_time": "2024-04-08T10:19:51.083Z"
   },
   {
    "duration": 1881,
    "start_time": "2024-04-08T10:28:59.438Z"
   },
   {
    "duration": 1204,
    "start_time": "2024-04-08T10:29:47.280Z"
   },
   {
    "duration": 87,
    "start_time": "2024-04-08T10:29:48.486Z"
   },
   {
    "duration": 3,
    "start_time": "2024-04-08T10:29:48.574Z"
   },
   {
    "duration": 21,
    "start_time": "2024-04-08T10:29:48.579Z"
   },
   {
    "duration": 27,
    "start_time": "2024-04-08T10:29:48.601Z"
   },
   {
    "duration": 18,
    "start_time": "2024-04-08T10:29:48.630Z"
   },
   {
    "duration": 167,
    "start_time": "2024-04-08T10:29:48.649Z"
   },
   {
    "duration": 10,
    "start_time": "2024-04-08T10:29:48.818Z"
   },
   {
    "duration": 22,
    "start_time": "2024-04-08T10:29:48.830Z"
   },
   {
    "duration": 2,
    "start_time": "2024-04-08T10:29:48.854Z"
   },
   {
    "duration": 5769,
    "start_time": "2024-04-08T10:29:48.858Z"
   },
   {
    "duration": 1464,
    "start_time": "2024-04-08T10:29:54.629Z"
   },
   {
    "duration": 194,
    "start_time": "2024-04-08T10:29:58.187Z"
   },
   {
    "duration": 1998,
    "start_time": "2024-04-08T10:30:15.498Z"
   },
   {
    "duration": 1102,
    "start_time": "2024-04-08T10:31:50.057Z"
   },
   {
    "duration": 91,
    "start_time": "2024-04-08T10:31:51.161Z"
   },
   {
    "duration": 3,
    "start_time": "2024-04-08T10:31:51.254Z"
   },
   {
    "duration": 19,
    "start_time": "2024-04-08T10:31:51.259Z"
   },
   {
    "duration": 17,
    "start_time": "2024-04-08T10:31:51.279Z"
   },
   {
    "duration": 33,
    "start_time": "2024-04-08T10:31:51.298Z"
   },
   {
    "duration": 165,
    "start_time": "2024-04-08T10:31:51.333Z"
   },
   {
    "duration": 19,
    "start_time": "2024-04-08T10:31:51.500Z"
   },
   {
    "duration": 20,
    "start_time": "2024-04-08T10:31:51.520Z"
   },
   {
    "duration": 2,
    "start_time": "2024-04-08T10:31:51.542Z"
   },
   {
    "duration": 5999,
    "start_time": "2024-04-08T10:31:51.545Z"
   },
   {
    "duration": 1476,
    "start_time": "2024-04-08T10:31:57.545Z"
   },
   {
    "duration": 6,
    "start_time": "2024-04-08T10:31:59.023Z"
   },
   {
    "duration": 0,
    "start_time": "2024-04-08T10:31:59.031Z"
   },
   {
    "duration": 2030,
    "start_time": "2024-04-08T10:32:12.560Z"
   },
   {
    "duration": 2149,
    "start_time": "2024-04-08T10:33:08.519Z"
   },
   {
    "duration": 1875,
    "start_time": "2024-04-08T10:33:52.498Z"
   },
   {
    "duration": 205,
    "start_time": "2024-04-08T10:35:33.022Z"
   },
   {
    "duration": 309,
    "start_time": "2024-04-08T10:36:06.376Z"
   },
   {
    "duration": 286,
    "start_time": "2024-04-08T10:37:11.620Z"
   },
   {
    "duration": 2925,
    "start_time": "2024-04-08T10:49:46.856Z"
   },
   {
    "duration": 2058,
    "start_time": "2024-04-08T10:50:48.030Z"
   },
   {
    "duration": 1154,
    "start_time": "2024-04-08T10:50:57.503Z"
   },
   {
    "duration": 89,
    "start_time": "2024-04-08T10:50:58.659Z"
   },
   {
    "duration": 4,
    "start_time": "2024-04-08T10:50:58.750Z"
   },
   {
    "duration": 37,
    "start_time": "2024-04-08T10:50:58.756Z"
   },
   {
    "duration": 23,
    "start_time": "2024-04-08T10:50:58.796Z"
   },
   {
    "duration": 19,
    "start_time": "2024-04-08T10:50:58.821Z"
   },
   {
    "duration": 186,
    "start_time": "2024-04-08T10:50:58.842Z"
   },
   {
    "duration": 9,
    "start_time": "2024-04-08T10:50:59.030Z"
   },
   {
    "duration": 23,
    "start_time": "2024-04-08T10:50:59.041Z"
   },
   {
    "duration": 332,
    "start_time": "2024-04-08T10:50:59.065Z"
   },
   {
    "duration": 5922,
    "start_time": "2024-04-08T10:50:59.399Z"
   },
   {
    "duration": 1475,
    "start_time": "2024-04-08T10:51:05.323Z"
   },
   {
    "duration": 2026,
    "start_time": "2024-04-08T10:51:06.799Z"
   },
   {
    "duration": 208,
    "start_time": "2024-04-08T10:51:08.828Z"
   },
   {
    "duration": 1808,
    "start_time": "2024-04-08T10:52:10.675Z"
   },
   {
    "duration": 1155,
    "start_time": "2024-04-08T10:52:28.916Z"
   },
   {
    "duration": 89,
    "start_time": "2024-04-08T10:52:30.073Z"
   },
   {
    "duration": 4,
    "start_time": "2024-04-08T10:52:30.163Z"
   },
   {
    "duration": 53,
    "start_time": "2024-04-08T10:52:30.169Z"
   },
   {
    "duration": 25,
    "start_time": "2024-04-08T10:52:30.225Z"
   },
   {
    "duration": 62,
    "start_time": "2024-04-08T10:52:30.252Z"
   },
   {
    "duration": 199,
    "start_time": "2024-04-08T10:52:30.315Z"
   },
   {
    "duration": 11,
    "start_time": "2024-04-08T10:52:30.516Z"
   },
   {
    "duration": 81,
    "start_time": "2024-04-08T10:52:30.528Z"
   },
   {
    "duration": 314,
    "start_time": "2024-04-08T10:52:30.610Z"
   },
   {
    "duration": 5829,
    "start_time": "2024-04-08T10:52:30.925Z"
   },
   {
    "duration": 1890,
    "start_time": "2024-04-08T10:52:38.207Z"
   },
   {
    "duration": 200,
    "start_time": "2024-04-08T10:52:40.099Z"
   },
   {
    "duration": 1392,
    "start_time": "2024-04-08T10:53:06.598Z"
   },
   {
    "duration": 1242,
    "start_time": "2024-04-08T11:20:01.967Z"
   },
   {
    "duration": 88,
    "start_time": "2024-04-08T11:20:03.210Z"
   },
   {
    "duration": 3,
    "start_time": "2024-04-08T11:20:03.299Z"
   },
   {
    "duration": 27,
    "start_time": "2024-04-08T11:20:03.303Z"
   },
   {
    "duration": 18,
    "start_time": "2024-04-08T11:20:03.333Z"
   },
   {
    "duration": 17,
    "start_time": "2024-04-08T11:20:03.353Z"
   },
   {
    "duration": 184,
    "start_time": "2024-04-08T11:20:03.372Z"
   },
   {
    "duration": 10,
    "start_time": "2024-04-08T11:20:03.558Z"
   },
   {
    "duration": 33,
    "start_time": "2024-04-08T11:20:03.570Z"
   },
   {
    "duration": 3,
    "start_time": "2024-04-08T11:20:03.604Z"
   },
   {
    "duration": 6490,
    "start_time": "2024-04-08T11:20:03.609Z"
   },
   {
    "duration": 1588,
    "start_time": "2024-04-08T11:20:10.101Z"
   },
   {
    "duration": 2147,
    "start_time": "2024-04-08T11:20:11.691Z"
   },
   {
    "duration": 228,
    "start_time": "2024-04-08T11:20:13.841Z"
   },
   {
    "duration": 3309,
    "start_time": "2024-04-08T11:51:33.287Z"
   },
   {
    "duration": 53,
    "start_time": "2024-04-09T18:42:14.396Z"
   },
   {
    "duration": 1494,
    "start_time": "2024-04-09T18:42:18.277Z"
   },
   {
    "duration": 148,
    "start_time": "2024-04-09T18:42:19.772Z"
   },
   {
    "duration": 4,
    "start_time": "2024-04-09T18:42:19.922Z"
   },
   {
    "duration": 24,
    "start_time": "2024-04-09T18:42:19.929Z"
   },
   {
    "duration": 41,
    "start_time": "2024-04-09T18:42:19.956Z"
   },
   {
    "duration": 20,
    "start_time": "2024-04-09T18:42:19.999Z"
   },
   {
    "duration": 186,
    "start_time": "2024-04-09T18:42:20.020Z"
   },
   {
    "duration": 10,
    "start_time": "2024-04-09T18:42:20.207Z"
   },
   {
    "duration": 21,
    "start_time": "2024-04-09T18:42:20.219Z"
   },
   {
    "duration": 3,
    "start_time": "2024-04-09T18:42:20.241Z"
   },
   {
    "duration": 6743,
    "start_time": "2024-04-09T18:42:20.245Z"
   },
   {
    "duration": 1601,
    "start_time": "2024-04-09T18:42:26.989Z"
   },
   {
    "duration": 3573,
    "start_time": "2024-04-09T18:42:28.591Z"
   },
   {
    "duration": 213,
    "start_time": "2024-04-09T18:42:32.166Z"
   },
   {
    "duration": 111,
    "start_time": "2024-04-09T18:44:14.128Z"
   },
   {
    "duration": 652,
    "start_time": "2024-04-09T18:44:19.671Z"
   },
   {
    "duration": 466,
    "start_time": "2024-04-09T18:44:27.996Z"
   },
   {
    "duration": 453,
    "start_time": "2024-04-09T18:44:48.721Z"
   },
   {
    "duration": 468,
    "start_time": "2024-04-09T18:44:56.381Z"
   },
   {
    "duration": 573,
    "start_time": "2024-04-09T18:45:01.788Z"
   },
   {
    "duration": 462,
    "start_time": "2024-04-09T18:45:08.761Z"
   },
   {
    "duration": 508,
    "start_time": "2024-04-09T18:45:12.999Z"
   },
   {
    "duration": 583,
    "start_time": "2024-04-09T18:45:24.950Z"
   },
   {
    "duration": 487,
    "start_time": "2024-04-09T18:45:33.809Z"
   },
   {
    "duration": 450,
    "start_time": "2024-04-09T18:48:17.310Z"
   },
   {
    "duration": 166,
    "start_time": "2024-04-09T18:48:42.568Z"
   },
   {
    "duration": 15,
    "start_time": "2024-04-09T19:00:30.992Z"
   },
   {
    "duration": 353,
    "start_time": "2024-04-09T19:01:42.304Z"
   },
   {
    "duration": 170,
    "start_time": "2024-04-09T19:01:45.411Z"
   },
   {
    "duration": 1167,
    "start_time": "2024-04-09T19:03:23.343Z"
   },
   {
    "duration": 89,
    "start_time": "2024-04-09T19:03:24.513Z"
   },
   {
    "duration": 1171,
    "start_time": "2024-04-09T19:04:18.600Z"
   },
   {
    "duration": 101,
    "start_time": "2024-04-09T19:04:19.772Z"
   },
   {
    "duration": 4,
    "start_time": "2024-04-09T19:04:19.875Z"
   },
   {
    "duration": 30,
    "start_time": "2024-04-09T19:04:19.881Z"
   },
   {
    "duration": 26,
    "start_time": "2024-04-09T19:04:19.913Z"
   },
   {
    "duration": 20,
    "start_time": "2024-04-09T19:04:19.941Z"
   },
   {
    "duration": 201,
    "start_time": "2024-04-09T19:04:19.963Z"
   },
   {
    "duration": 18,
    "start_time": "2024-04-09T19:04:20.166Z"
   },
   {
    "duration": 22,
    "start_time": "2024-04-09T19:04:20.186Z"
   },
   {
    "duration": 3,
    "start_time": "2024-04-09T19:04:20.210Z"
   },
   {
    "duration": 6478,
    "start_time": "2024-04-09T19:04:20.215Z"
   },
   {
    "duration": 1540,
    "start_time": "2024-04-09T19:04:26.695Z"
   },
   {
    "duration": 3537,
    "start_time": "2024-04-09T19:04:28.237Z"
   },
   {
    "duration": 595,
    "start_time": "2024-04-09T19:13:49.673Z"
   },
   {
    "duration": 452,
    "start_time": "2024-04-09T19:15:25.046Z"
   },
   {
    "duration": 461,
    "start_time": "2024-04-09T19:15:41.116Z"
   },
   {
    "duration": 132,
    "start_time": "2024-04-09T19:19:26.592Z"
   },
   {
    "duration": 133,
    "start_time": "2024-04-09T19:23:39.961Z"
   },
   {
    "duration": 956,
    "start_time": "2024-04-09T19:24:41.559Z"
   },
   {
    "duration": 211,
    "start_time": "2024-04-09T19:28:23.844Z"
   },
   {
    "duration": 1489,
    "start_time": "2024-04-11T11:05:08.541Z"
   },
   {
    "duration": 248,
    "start_time": "2024-04-11T11:05:10.033Z"
   },
   {
    "duration": 4,
    "start_time": "2024-04-11T11:05:10.284Z"
   },
   {
    "duration": 33,
    "start_time": "2024-04-11T11:05:10.290Z"
   },
   {
    "duration": 19,
    "start_time": "2024-04-11T11:05:10.325Z"
   },
   {
    "duration": 43,
    "start_time": "2024-04-11T11:05:10.346Z"
   },
   {
    "duration": 205,
    "start_time": "2024-04-11T11:05:10.391Z"
   },
   {
    "duration": 11,
    "start_time": "2024-04-11T11:05:10.598Z"
   },
   {
    "duration": 33,
    "start_time": "2024-04-11T11:05:10.611Z"
   },
   {
    "duration": 3,
    "start_time": "2024-04-11T11:05:10.647Z"
   },
   {
    "duration": 6696,
    "start_time": "2024-04-11T11:05:10.673Z"
   },
   {
    "duration": 1668,
    "start_time": "2024-04-11T11:05:17.373Z"
   },
   {
    "duration": 3687,
    "start_time": "2024-04-11T11:05:19.044Z"
   },
   {
    "duration": 233,
    "start_time": "2024-04-11T11:05:22.733Z"
   },
   {
    "duration": 494,
    "start_time": "2024-04-11T11:05:22.969Z"
   },
   {
    "duration": 621,
    "start_time": "2024-04-11T11:05:23.472Z"
   },
   {
    "duration": 949,
    "start_time": "2024-04-11T11:05:24.096Z"
   },
   {
    "duration": 234,
    "start_time": "2024-04-11T11:05:25.047Z"
   },
   {
    "duration": 215,
    "start_time": "2024-04-11T11:16:11.233Z"
   },
   {
    "duration": 111,
    "start_time": "2024-04-11T11:40:30.155Z"
   },
   {
    "duration": 18,
    "start_time": "2024-04-11T11:40:37.623Z"
   },
   {
    "duration": 17,
    "start_time": "2024-04-11T11:45:20.630Z"
   },
   {
    "duration": 26,
    "start_time": "2024-04-11T11:48:45.877Z"
   },
   {
    "duration": 14,
    "start_time": "2024-04-11T12:08:09.742Z"
   },
   {
    "duration": 9,
    "start_time": "2024-04-11T12:08:27.604Z"
   },
   {
    "duration": 14,
    "start_time": "2024-04-11T12:08:38.739Z"
   },
   {
    "duration": 7,
    "start_time": "2024-04-11T12:09:16.319Z"
   },
   {
    "duration": 10,
    "start_time": "2024-04-11T12:12:55.077Z"
   },
   {
    "duration": 7,
    "start_time": "2024-04-11T12:14:03.486Z"
   },
   {
    "duration": 12,
    "start_time": "2024-04-11T12:14:42.084Z"
   },
   {
    "duration": 36,
    "start_time": "2024-04-11T12:15:48.356Z"
   },
   {
    "duration": 1383,
    "start_time": "2024-04-12T12:09:15.838Z"
   },
   {
    "duration": 227,
    "start_time": "2024-04-12T12:09:17.223Z"
   },
   {
    "duration": 3,
    "start_time": "2024-04-12T12:09:17.451Z"
   },
   {
    "duration": 38,
    "start_time": "2024-04-12T12:09:17.456Z"
   },
   {
    "duration": 18,
    "start_time": "2024-04-12T12:09:17.495Z"
   },
   {
    "duration": 19,
    "start_time": "2024-04-12T12:09:17.515Z"
   },
   {
    "duration": 181,
    "start_time": "2024-04-12T12:09:17.535Z"
   },
   {
    "duration": 10,
    "start_time": "2024-04-12T12:09:17.717Z"
   },
   {
    "duration": 44,
    "start_time": "2024-04-12T12:09:17.728Z"
   },
   {
    "duration": 11,
    "start_time": "2024-04-12T12:09:17.774Z"
   },
   {
    "duration": 19,
    "start_time": "2024-04-12T12:09:17.786Z"
   },
   {
    "duration": 1560,
    "start_time": "2024-04-12T12:09:17.806Z"
   },
   {
    "duration": 3461,
    "start_time": "2024-04-12T12:09:19.369Z"
   },
   {
    "duration": 208,
    "start_time": "2024-04-12T12:09:22.832Z"
   },
   {
    "duration": 467,
    "start_time": "2024-04-12T12:09:23.042Z"
   },
   {
    "duration": 434,
    "start_time": "2024-04-12T12:09:23.510Z"
   },
   {
    "duration": 954,
    "start_time": "2024-04-12T12:09:23.946Z"
   },
   {
    "duration": 198,
    "start_time": "2024-04-12T12:09:24.901Z"
   },
   {
    "duration": 206,
    "start_time": "2024-04-12T12:09:25.100Z"
   },
   {
    "duration": 9,
    "start_time": "2024-04-12T12:09:25.307Z"
   },
   {
    "duration": 109,
    "start_time": "2024-04-12T12:09:53.044Z"
   },
   {
    "duration": 8,
    "start_time": "2024-04-12T12:09:59.145Z"
   },
   {
    "duration": 11,
    "start_time": "2024-04-12T12:10:08.855Z"
   },
   {
    "duration": 9,
    "start_time": "2024-04-12T12:10:52.320Z"
   },
   {
    "duration": 1490,
    "start_time": "2024-04-12T12:10:57.018Z"
   },
   {
    "duration": 36,
    "start_time": "2024-04-12T12:11:08.403Z"
   },
   {
    "duration": 41,
    "start_time": "2024-04-12T12:19:46.689Z"
   },
   {
    "duration": 42,
    "start_time": "2024-04-12T12:20:03.008Z"
   },
   {
    "duration": 45,
    "start_time": "2024-04-12T12:20:35.354Z"
   },
   {
    "duration": 17,
    "start_time": "2024-04-12T12:20:47.213Z"
   },
   {
    "duration": 63,
    "start_time": "2024-04-12T12:20:53.258Z"
   },
   {
    "duration": 40,
    "start_time": "2024-04-12T12:21:01.571Z"
   },
   {
    "duration": 19,
    "start_time": "2024-04-12T12:21:09.291Z"
   },
   {
    "duration": 17,
    "start_time": "2024-04-12T12:21:19.300Z"
   },
   {
    "duration": 83,
    "start_time": "2024-04-12T12:22:57.447Z"
   },
   {
    "duration": 43,
    "start_time": "2024-04-12T12:23:12.064Z"
   },
   {
    "duration": 19,
    "start_time": "2024-04-12T12:23:31.962Z"
   },
   {
    "duration": 47,
    "start_time": "2024-04-12T12:23:52.800Z"
   },
   {
    "duration": 19,
    "start_time": "2024-04-12T12:29:16.284Z"
   },
   {
    "duration": 26,
    "start_time": "2024-04-12T12:30:52.207Z"
   },
   {
    "duration": 24,
    "start_time": "2024-04-12T13:24:30.323Z"
   },
   {
    "duration": 41,
    "start_time": "2024-04-12T13:25:53.542Z"
   },
   {
    "duration": 19,
    "start_time": "2024-04-12T13:55:37.646Z"
   },
   {
    "duration": 16,
    "start_time": "2024-04-12T13:55:58.309Z"
   },
   {
    "duration": 12,
    "start_time": "2024-04-12T13:57:26.785Z"
   },
   {
    "duration": 86,
    "start_time": "2024-04-12T13:58:13.555Z"
   },
   {
    "duration": 82,
    "start_time": "2024-04-12T13:58:16.228Z"
   },
   {
    "duration": 45,
    "start_time": "2024-04-12T13:58:43.919Z"
   },
   {
    "duration": 68,
    "start_time": "2024-04-12T14:00:27.071Z"
   },
   {
    "duration": 14,
    "start_time": "2024-04-12T14:18:08.001Z"
   },
   {
    "duration": 19,
    "start_time": "2024-04-12T14:18:14.847Z"
   },
   {
    "duration": 17,
    "start_time": "2024-04-12T14:19:01.236Z"
   },
   {
    "duration": 9,
    "start_time": "2024-04-12T14:20:18.927Z"
   },
   {
    "duration": 8,
    "start_time": "2024-04-12T14:20:26.599Z"
   },
   {
    "duration": 10,
    "start_time": "2024-04-12T14:20:42.472Z"
   },
   {
    "duration": 15,
    "start_time": "2024-04-12T14:22:29.063Z"
   },
   {
    "duration": 19,
    "start_time": "2024-04-12T14:22:47.665Z"
   },
   {
    "duration": 19,
    "start_time": "2024-04-12T14:23:32.617Z"
   },
   {
    "duration": 17,
    "start_time": "2024-04-12T14:24:26.505Z"
   },
   {
    "duration": 20,
    "start_time": "2024-04-12T14:24:34.891Z"
   },
   {
    "duration": 8,
    "start_time": "2024-04-12T14:24:42.804Z"
   },
   {
    "duration": 8,
    "start_time": "2024-04-12T14:24:53.930Z"
   },
   {
    "duration": 9,
    "start_time": "2024-04-12T14:25:13.315Z"
   },
   {
    "duration": 11,
    "start_time": "2024-04-12T14:25:19.153Z"
   },
   {
    "duration": 24,
    "start_time": "2024-04-12T14:25:40.832Z"
   },
   {
    "duration": 24,
    "start_time": "2024-04-12T14:26:21.874Z"
   },
   {
    "duration": 22,
    "start_time": "2024-04-12T14:26:47.527Z"
   },
   {
    "duration": 1238,
    "start_time": "2024-04-13T10:21:23.193Z"
   },
   {
    "duration": 142,
    "start_time": "2024-04-13T10:21:24.433Z"
   },
   {
    "duration": 3,
    "start_time": "2024-04-13T10:21:24.580Z"
   },
   {
    "duration": 25,
    "start_time": "2024-04-13T10:21:24.584Z"
   },
   {
    "duration": 22,
    "start_time": "2024-04-13T10:21:24.611Z"
   },
   {
    "duration": 23,
    "start_time": "2024-04-13T10:21:24.635Z"
   },
   {
    "duration": 148,
    "start_time": "2024-04-13T10:21:24.660Z"
   },
   {
    "duration": 9,
    "start_time": "2024-04-13T10:21:24.810Z"
   },
   {
    "duration": 22,
    "start_time": "2024-04-13T10:21:24.822Z"
   },
   {
    "duration": 2,
    "start_time": "2024-04-13T10:21:24.845Z"
   },
   {
    "duration": 5,
    "start_time": "2024-04-13T10:21:24.849Z"
   },
   {
    "duration": 1275,
    "start_time": "2024-04-13T10:21:24.856Z"
   },
   {
    "duration": 2525,
    "start_time": "2024-04-13T10:21:26.132Z"
   },
   {
    "duration": 167,
    "start_time": "2024-04-13T10:21:28.659Z"
   },
   {
    "duration": 351,
    "start_time": "2024-04-13T10:21:28.827Z"
   },
   {
    "duration": 347,
    "start_time": "2024-04-13T10:21:29.180Z"
   },
   {
    "duration": 806,
    "start_time": "2024-04-13T10:21:29.528Z"
   },
   {
    "duration": 193,
    "start_time": "2024-04-13T10:21:30.336Z"
   },
   {
    "duration": 167,
    "start_time": "2024-04-13T10:21:30.530Z"
   },
   {
    "duration": 48,
    "start_time": "2024-04-13T10:21:30.698Z"
   },
   {
    "duration": 50,
    "start_time": "2024-04-13T10:21:30.747Z"
   },
   {
    "duration": 144,
    "start_time": "2024-04-13T10:21:30.799Z"
   },
   {
    "duration": 645,
    "start_time": "2024-04-13T10:23:18.596Z"
   },
   {
    "duration": 1149,
    "start_time": "2024-04-13T10:26:18.010Z"
   },
   {
    "duration": 322,
    "start_time": "2024-04-13T10:27:13.528Z"
   },
   {
    "duration": 103,
    "start_time": "2024-04-13T10:27:41.529Z"
   },
   {
    "duration": 4,
    "start_time": "2024-04-13T10:28:26.870Z"
   },
   {
    "duration": 1024,
    "start_time": "2024-04-13T10:28:37.424Z"
   },
   {
    "duration": 79,
    "start_time": "2024-04-13T10:28:38.449Z"
   },
   {
    "duration": 3,
    "start_time": "2024-04-13T10:28:38.529Z"
   },
   {
    "duration": 64,
    "start_time": "2024-04-13T10:28:38.534Z"
   },
   {
    "duration": 21,
    "start_time": "2024-04-13T10:28:38.600Z"
   },
   {
    "duration": 22,
    "start_time": "2024-04-13T10:28:38.622Z"
   },
   {
    "duration": 138,
    "start_time": "2024-04-13T10:28:38.645Z"
   },
   {
    "duration": 19,
    "start_time": "2024-04-13T10:28:38.785Z"
   },
   {
    "duration": 35,
    "start_time": "2024-04-13T10:28:38.806Z"
   },
   {
    "duration": 2,
    "start_time": "2024-04-13T10:28:38.845Z"
   },
   {
    "duration": 15,
    "start_time": "2024-04-13T10:28:38.849Z"
   },
   {
    "duration": 2536,
    "start_time": "2024-04-13T10:28:38.866Z"
   },
   {
    "duration": 251,
    "start_time": "2024-04-13T10:28:41.404Z"
   },
   {
    "duration": 2,
    "start_time": "2024-04-13T10:28:41.657Z"
   },
   {
    "duration": 619,
    "start_time": "2024-04-13T10:28:41.660Z"
   },
   {
    "duration": 177,
    "start_time": "2024-04-13T10:28:42.280Z"
   },
   {
    "duration": 177,
    "start_time": "2024-04-13T10:28:42.458Z"
   },
   {
    "duration": 72,
    "start_time": "2024-04-13T10:28:42.636Z"
   },
   {
    "duration": 20,
    "start_time": "2024-04-13T10:28:42.710Z"
   },
   {
    "duration": 50,
    "start_time": "2024-04-13T10:28:42.732Z"
   },
   {
    "duration": 4,
    "start_time": "2024-04-13T10:28:59.633Z"
   },
   {
    "duration": 5,
    "start_time": "2024-04-13T10:29:05.377Z"
   },
   {
    "duration": 21,
    "start_time": "2024-04-13T10:29:09.944Z"
   },
   {
    "duration": 5,
    "start_time": "2024-04-13T10:29:30.606Z"
   },
   {
    "duration": 91,
    "start_time": "2024-04-13T10:29:43.274Z"
   },
   {
    "duration": 50,
    "start_time": "2024-04-13T10:29:54.371Z"
   },
   {
    "duration": 8,
    "start_time": "2024-04-13T10:29:58.527Z"
   },
   {
    "duration": 968,
    "start_time": "2024-04-13T10:37:03.291Z"
   },
   {
    "duration": 76,
    "start_time": "2024-04-13T10:37:04.260Z"
   },
   {
    "duration": 3,
    "start_time": "2024-04-13T10:37:04.337Z"
   },
   {
    "duration": 24,
    "start_time": "2024-04-13T10:37:04.342Z"
   },
   {
    "duration": 21,
    "start_time": "2024-04-13T10:37:04.368Z"
   },
   {
    "duration": 35,
    "start_time": "2024-04-13T10:37:04.390Z"
   },
   {
    "duration": 140,
    "start_time": "2024-04-13T10:37:04.426Z"
   },
   {
    "duration": 9,
    "start_time": "2024-04-13T10:37:04.567Z"
   },
   {
    "duration": 29,
    "start_time": "2024-04-13T10:37:04.577Z"
   },
   {
    "duration": 2,
    "start_time": "2024-04-13T10:37:04.609Z"
   },
   {
    "duration": 7,
    "start_time": "2024-04-13T10:37:04.612Z"
   },
   {
    "duration": 2512,
    "start_time": "2024-04-13T10:37:04.620Z"
   },
   {
    "duration": 244,
    "start_time": "2024-04-13T10:37:07.134Z"
   },
   {
    "duration": 2,
    "start_time": "2024-04-13T10:37:07.379Z"
   },
   {
    "duration": 607,
    "start_time": "2024-04-13T10:37:07.382Z"
   },
   {
    "duration": 170,
    "start_time": "2024-04-13T10:37:07.990Z"
   },
   {
    "duration": 172,
    "start_time": "2024-04-13T10:37:08.161Z"
   },
   {
    "duration": 44,
    "start_time": "2024-04-13T10:37:08.335Z"
   },
   {
    "duration": 38,
    "start_time": "2024-04-13T10:37:08.380Z"
   },
   {
    "duration": 23,
    "start_time": "2024-04-13T10:37:08.420Z"
   },
   {
    "duration": 185,
    "start_time": "2024-04-13T10:38:19.648Z"
   },
   {
    "duration": 157,
    "start_time": "2024-04-13T10:38:34.516Z"
   },
   {
    "duration": 665,
    "start_time": "2024-04-13T10:40:35.539Z"
   },
   {
    "duration": 966,
    "start_time": "2024-04-13T10:41:10.782Z"
   },
   {
    "duration": 72,
    "start_time": "2024-04-13T10:41:11.750Z"
   },
   {
    "duration": 2,
    "start_time": "2024-04-13T10:41:11.824Z"
   },
   {
    "duration": 17,
    "start_time": "2024-04-13T10:41:11.827Z"
   },
   {
    "duration": 13,
    "start_time": "2024-04-13T10:41:11.846Z"
   },
   {
    "duration": 15,
    "start_time": "2024-04-13T10:41:11.860Z"
   },
   {
    "duration": 141,
    "start_time": "2024-04-13T10:41:11.875Z"
   },
   {
    "duration": 8,
    "start_time": "2024-04-13T10:41:12.017Z"
   },
   {
    "duration": 77,
    "start_time": "2024-04-13T10:41:12.026Z"
   },
   {
    "duration": 30,
    "start_time": "2024-04-13T10:41:12.104Z"
   },
   {
    "duration": 31,
    "start_time": "2024-04-13T10:41:12.135Z"
   },
   {
    "duration": 2478,
    "start_time": "2024-04-13T10:41:12.167Z"
   },
   {
    "duration": 244,
    "start_time": "2024-04-13T10:41:14.647Z"
   },
   {
    "duration": 2,
    "start_time": "2024-04-13T10:41:14.901Z"
   },
   {
    "duration": 648,
    "start_time": "2024-04-13T10:41:14.904Z"
   },
   {
    "duration": 170,
    "start_time": "2024-04-13T10:41:15.553Z"
   },
   {
    "duration": 171,
    "start_time": "2024-04-13T10:41:15.724Z"
   },
   {
    "duration": 48,
    "start_time": "2024-04-13T10:41:15.901Z"
   },
   {
    "duration": 16,
    "start_time": "2024-04-13T10:41:15.951Z"
   },
   {
    "duration": 43,
    "start_time": "2024-04-13T10:41:15.968Z"
   },
   {
    "duration": 21,
    "start_time": "2024-04-13T10:43:09.801Z"
   },
   {
    "duration": 49,
    "start_time": "2024-04-14T13:57:33.414Z"
   },
   {
    "duration": 1285,
    "start_time": "2024-04-14T13:57:37.829Z"
   },
   {
    "duration": 133,
    "start_time": "2024-04-14T13:57:39.116Z"
   },
   {
    "duration": 3,
    "start_time": "2024-04-14T13:57:39.251Z"
   },
   {
    "duration": 22,
    "start_time": "2024-04-14T13:57:39.255Z"
   },
   {
    "duration": 15,
    "start_time": "2024-04-14T13:57:39.278Z"
   },
   {
    "duration": 18,
    "start_time": "2024-04-14T13:57:39.294Z"
   },
   {
    "duration": 172,
    "start_time": "2024-04-14T13:57:39.344Z"
   },
   {
    "duration": 142,
    "start_time": "2024-04-14T13:57:39.518Z"
   },
   {
    "duration": 9,
    "start_time": "2024-04-14T13:57:39.661Z"
   },
   {
    "duration": 91,
    "start_time": "2024-04-14T13:57:39.672Z"
   },
   {
    "duration": 2,
    "start_time": "2024-04-14T13:57:39.764Z"
   },
   {
    "duration": 5,
    "start_time": "2024-04-14T13:57:39.767Z"
   },
   {
    "duration": 3085,
    "start_time": "2024-04-14T13:57:39.773Z"
   },
   {
    "duration": 187,
    "start_time": "2024-04-14T13:57:42.860Z"
   },
   {
    "duration": 2,
    "start_time": "2024-04-14T13:57:43.048Z"
   },
   {
    "duration": 711,
    "start_time": "2024-04-14T13:57:43.052Z"
   },
   {
    "duration": 187,
    "start_time": "2024-04-14T13:57:43.765Z"
   },
   {
    "duration": 187,
    "start_time": "2024-04-14T13:57:43.954Z"
   },
   {
    "duration": 47,
    "start_time": "2024-04-14T13:57:44.144Z"
   },
   {
    "duration": 18,
    "start_time": "2024-04-14T13:57:44.193Z"
   },
   {
    "duration": 24,
    "start_time": "2024-04-14T13:57:44.245Z"
   },
   {
    "duration": 160,
    "start_time": "2024-04-14T13:58:06.750Z"
   },
   {
    "duration": 139,
    "start_time": "2024-04-14T13:58:17.765Z"
   },
   {
    "duration": 257,
    "start_time": "2024-04-14T13:58:22.359Z"
   },
   {
    "duration": 132,
    "start_time": "2024-04-14T13:58:27.003Z"
   },
   {
    "duration": 129,
    "start_time": "2024-04-14T13:58:35.926Z"
   },
   {
    "duration": 3,
    "start_time": "2024-04-14T13:58:49.329Z"
   },
   {
    "duration": 75,
    "start_time": "2024-04-14T13:58:50.597Z"
   },
   {
    "duration": 3,
    "start_time": "2024-04-14T13:58:52.266Z"
   },
   {
    "duration": 19,
    "start_time": "2024-04-14T13:58:52.858Z"
   },
   {
    "duration": 18,
    "start_time": "2024-04-14T13:58:54.319Z"
   },
   {
    "duration": 17,
    "start_time": "2024-04-14T13:58:55.631Z"
   },
   {
    "duration": 129,
    "start_time": "2024-04-14T13:58:58.463Z"
   },
   {
    "duration": 141,
    "start_time": "2024-04-14T13:59:03.638Z"
   },
   {
    "duration": 128,
    "start_time": "2024-04-14T13:59:11.812Z"
   },
   {
    "duration": 141,
    "start_time": "2024-04-14T13:59:16.459Z"
   },
   {
    "duration": 136,
    "start_time": "2024-04-14T13:59:22.508Z"
   },
   {
    "duration": 153,
    "start_time": "2024-04-14T13:59:27.486Z"
   },
   {
    "duration": 154,
    "start_time": "2024-04-14T13:59:32.928Z"
   },
   {
    "duration": 148,
    "start_time": "2024-04-14T13:59:36.690Z"
   },
   {
    "duration": 6116,
    "start_time": "2024-04-14T14:02:17.999Z"
   },
   {
    "duration": 1295,
    "start_time": "2024-04-14T14:02:34.718Z"
   },
   {
    "duration": 112,
    "start_time": "2024-04-14T14:04:00.686Z"
   },
   {
    "duration": 19,
    "start_time": "2024-04-14T14:04:18.164Z"
   },
   {
    "duration": 26,
    "start_time": "2024-04-14T14:04:21.935Z"
   },
   {
    "duration": 1097,
    "start_time": "2024-04-14T14:05:08.656Z"
   },
   {
    "duration": 79,
    "start_time": "2024-04-14T14:05:09.756Z"
   },
   {
    "duration": 3,
    "start_time": "2024-04-14T14:05:09.837Z"
   },
   {
    "duration": 37,
    "start_time": "2024-04-14T14:05:09.842Z"
   },
   {
    "duration": 18,
    "start_time": "2024-04-14T14:05:09.880Z"
   },
   {
    "duration": 56,
    "start_time": "2024-04-14T14:05:09.900Z"
   },
   {
    "duration": 188,
    "start_time": "2024-04-14T14:05:09.957Z"
   },
   {
    "duration": 140,
    "start_time": "2024-04-14T14:05:10.146Z"
   },
   {
    "duration": 14,
    "start_time": "2024-04-14T14:05:10.288Z"
   },
   {
    "duration": 21,
    "start_time": "2024-04-14T14:05:10.306Z"
   },
   {
    "duration": 22,
    "start_time": "2024-04-14T14:05:10.329Z"
   },
   {
    "duration": 33,
    "start_time": "2024-04-14T14:05:10.353Z"
   },
   {
    "duration": 107,
    "start_time": "2024-04-14T14:05:10.388Z"
   },
   {
    "duration": 0,
    "start_time": "2024-04-14T14:05:10.497Z"
   },
   {
    "duration": 0,
    "start_time": "2024-04-14T14:05:10.498Z"
   },
   {
    "duration": 0,
    "start_time": "2024-04-14T14:05:10.499Z"
   },
   {
    "duration": 0,
    "start_time": "2024-04-14T14:05:10.500Z"
   },
   {
    "duration": 0,
    "start_time": "2024-04-14T14:05:10.501Z"
   },
   {
    "duration": 0,
    "start_time": "2024-04-14T14:05:10.502Z"
   },
   {
    "duration": 0,
    "start_time": "2024-04-14T14:05:10.503Z"
   },
   {
    "duration": 0,
    "start_time": "2024-04-14T14:05:10.504Z"
   },
   {
    "duration": 1098,
    "start_time": "2024-04-14T14:05:36.481Z"
   },
   {
    "duration": 84,
    "start_time": "2024-04-14T14:05:37.580Z"
   },
   {
    "duration": 3,
    "start_time": "2024-04-14T14:05:37.665Z"
   },
   {
    "duration": 26,
    "start_time": "2024-04-14T14:05:37.670Z"
   },
   {
    "duration": 17,
    "start_time": "2024-04-14T14:05:37.697Z"
   },
   {
    "duration": 33,
    "start_time": "2024-04-14T14:05:37.716Z"
   },
   {
    "duration": 172,
    "start_time": "2024-04-14T14:05:37.751Z"
   },
   {
    "duration": 142,
    "start_time": "2024-04-14T14:05:37.924Z"
   },
   {
    "duration": 9,
    "start_time": "2024-04-14T14:05:38.068Z"
   },
   {
    "duration": 25,
    "start_time": "2024-04-14T14:05:38.079Z"
   },
   {
    "duration": 2,
    "start_time": "2024-04-14T14:05:38.105Z"
   },
   {
    "duration": 8,
    "start_time": "2024-04-14T14:05:38.109Z"
   },
   {
    "duration": 3061,
    "start_time": "2024-04-14T14:05:38.118Z"
   },
   {
    "duration": 200,
    "start_time": "2024-04-14T14:05:41.180Z"
   },
   {
    "duration": 2,
    "start_time": "2024-04-14T14:05:41.382Z"
   },
   {
    "duration": 715,
    "start_time": "2024-04-14T14:05:41.386Z"
   },
   {
    "duration": 188,
    "start_time": "2024-04-14T14:05:42.103Z"
   },
   {
    "duration": 191,
    "start_time": "2024-04-14T14:05:42.293Z"
   },
   {
    "duration": 76,
    "start_time": "2024-04-14T14:05:42.486Z"
   },
   {
    "duration": 18,
    "start_time": "2024-04-14T14:05:42.564Z"
   },
   {
    "duration": 29,
    "start_time": "2024-04-14T14:05:42.584Z"
   },
   {
    "duration": 4,
    "start_time": "2024-04-14T15:41:05.840Z"
   },
   {
    "duration": 78,
    "start_time": "2024-04-14T15:41:06.762Z"
   },
   {
    "duration": 3,
    "start_time": "2024-04-14T15:41:08.017Z"
   },
   {
    "duration": 25,
    "start_time": "2024-04-14T15:41:08.331Z"
   },
   {
    "duration": 17,
    "start_time": "2024-04-14T15:41:09.185Z"
   },
   {
    "duration": 18,
    "start_time": "2024-04-14T15:41:09.958Z"
   },
   {
    "duration": 167,
    "start_time": "2024-04-14T15:41:10.861Z"
   },
   {
    "duration": 151,
    "start_time": "2024-04-14T15:41:11.662Z"
   },
   {
    "duration": 10,
    "start_time": "2024-04-14T15:41:12.156Z"
   },
   {
    "duration": 8,
    "start_time": "2024-04-14T15:41:12.905Z"
   },
   {
    "duration": 2,
    "start_time": "2024-04-14T15:41:15.430Z"
   },
   {
    "duration": 2,
    "start_time": "2024-04-14T15:41:15.926Z"
   },
   {
    "duration": 20,
    "start_time": "2024-04-14T15:41:20.807Z"
   },
   {
    "duration": 1277,
    "start_time": "2024-04-14T15:48:59.143Z"
   },
   {
    "duration": 1123,
    "start_time": "2024-04-14T15:49:43.639Z"
   },
   {
    "duration": 83,
    "start_time": "2024-04-14T15:49:44.763Z"
   },
   {
    "duration": 4,
    "start_time": "2024-04-14T15:49:44.859Z"
   },
   {
    "duration": 47,
    "start_time": "2024-04-14T15:49:44.865Z"
   },
   {
    "duration": 19,
    "start_time": "2024-04-14T15:49:44.914Z"
   },
   {
    "duration": 34,
    "start_time": "2024-04-14T15:49:44.934Z"
   },
   {
    "duration": 205,
    "start_time": "2024-04-14T15:49:44.969Z"
   },
   {
    "duration": 149,
    "start_time": "2024-04-14T15:49:45.176Z"
   },
   {
    "duration": 24,
    "start_time": "2024-04-14T15:49:45.327Z"
   },
   {
    "duration": 20,
    "start_time": "2024-04-14T15:49:45.353Z"
   },
   {
    "duration": 31,
    "start_time": "2024-04-14T15:49:45.375Z"
   },
   {
    "duration": 49,
    "start_time": "2024-04-14T15:49:45.408Z"
   },
   {
    "duration": 1962,
    "start_time": "2024-04-14T15:49:45.458Z"
   },
   {
    "duration": 31,
    "start_time": "2024-04-14T15:49:47.422Z"
   },
   {
    "duration": 1400,
    "start_time": "2024-04-14T15:49:47.457Z"
   },
   {
    "duration": 190,
    "start_time": "2024-04-14T15:49:48.861Z"
   },
   {
    "duration": 15,
    "start_time": "2024-04-14T15:49:49.053Z"
   },
   {
    "duration": 759,
    "start_time": "2024-04-14T15:49:49.072Z"
   },
   {
    "duration": 197,
    "start_time": "2024-04-14T15:49:49.832Z"
   },
   {
    "duration": 197,
    "start_time": "2024-04-14T15:49:50.031Z"
   },
   {
    "duration": 69,
    "start_time": "2024-04-14T15:49:50.230Z"
   },
   {
    "duration": 18,
    "start_time": "2024-04-14T15:49:50.300Z"
   },
   {
    "duration": 53,
    "start_time": "2024-04-14T15:49:50.319Z"
   },
   {
    "duration": 4108,
    "start_time": "2024-04-14T15:56:09.333Z"
   },
   {
    "duration": 1013,
    "start_time": "2024-04-14T15:57:13.464Z"
   },
   {
    "duration": 1036,
    "start_time": "2024-04-14T15:58:02.819Z"
   },
   {
    "duration": 1219,
    "start_time": "2024-04-14T15:58:36.719Z"
   },
   {
    "duration": 91,
    "start_time": "2024-04-14T15:58:37.940Z"
   },
   {
    "duration": 3,
    "start_time": "2024-04-14T15:58:38.033Z"
   },
   {
    "duration": 28,
    "start_time": "2024-04-14T15:58:38.038Z"
   },
   {
    "duration": 23,
    "start_time": "2024-04-14T15:58:38.069Z"
   },
   {
    "duration": 18,
    "start_time": "2024-04-14T15:58:38.094Z"
   },
   {
    "duration": 257,
    "start_time": "2024-04-14T15:58:38.113Z"
   },
   {
    "duration": 177,
    "start_time": "2024-04-14T15:58:38.372Z"
   },
   {
    "duration": 14,
    "start_time": "2024-04-14T15:58:38.551Z"
   },
   {
    "duration": 15,
    "start_time": "2024-04-14T15:58:38.568Z"
   },
   {
    "duration": 7637,
    "start_time": "2024-04-14T15:58:38.584Z"
   },
   {
    "duration": 2,
    "start_time": "2024-04-14T15:58:46.223Z"
   },
   {
    "duration": 4092,
    "start_time": "2024-04-14T15:58:46.227Z"
   },
   {
    "duration": 1347,
    "start_time": "2024-04-14T15:58:50.321Z"
   },
   {
    "duration": 9,
    "start_time": "2024-04-14T15:58:51.670Z"
   },
   {
    "duration": 383,
    "start_time": "2024-04-14T15:58:51.680Z"
   },
   {
    "duration": 213,
    "start_time": "2024-04-14T15:58:52.066Z"
   },
   {
    "duration": 2,
    "start_time": "2024-04-14T15:58:52.281Z"
   },
   {
    "duration": 697,
    "start_time": "2024-04-14T15:58:52.284Z"
   },
   {
    "duration": 228,
    "start_time": "2024-04-14T15:58:52.982Z"
   },
   {
    "duration": 209,
    "start_time": "2024-04-14T15:58:53.212Z"
   },
   {
    "duration": 93,
    "start_time": "2024-04-14T15:58:53.423Z"
   },
   {
    "duration": 60,
    "start_time": "2024-04-14T15:58:53.518Z"
   },
   {
    "duration": 29,
    "start_time": "2024-04-14T15:58:53.583Z"
   },
   {
    "duration": 1885,
    "start_time": "2024-04-14T16:00:58.252Z"
   },
   {
    "duration": 1192,
    "start_time": "2024-04-14T16:01:04.889Z"
   },
   {
    "duration": 88,
    "start_time": "2024-04-14T16:01:06.083Z"
   },
   {
    "duration": 3,
    "start_time": "2024-04-14T16:01:06.172Z"
   },
   {
    "duration": 19,
    "start_time": "2024-04-14T16:01:06.177Z"
   },
   {
    "duration": 15,
    "start_time": "2024-04-14T16:01:06.198Z"
   },
   {
    "duration": 46,
    "start_time": "2024-04-14T16:01:06.214Z"
   },
   {
    "duration": 200,
    "start_time": "2024-04-14T16:01:06.261Z"
   },
   {
    "duration": 142,
    "start_time": "2024-04-14T16:01:06.462Z"
   },
   {
    "duration": 9,
    "start_time": "2024-04-14T16:01:06.606Z"
   },
   {
    "duration": 9,
    "start_time": "2024-04-14T16:01:06.618Z"
   },
   {
    "duration": 6908,
    "start_time": "2024-04-14T16:01:06.628Z"
   },
   {
    "duration": 6,
    "start_time": "2024-04-14T16:01:13.545Z"
   },
   {
    "duration": 2019,
    "start_time": "2024-04-14T16:01:13.557Z"
   },
   {
    "duration": 1236,
    "start_time": "2024-04-14T16:01:15.577Z"
   },
   {
    "duration": 8,
    "start_time": "2024-04-14T16:01:16.815Z"
   },
   {
    "duration": 456,
    "start_time": "2024-04-14T16:01:16.825Z"
   },
   {
    "duration": 196,
    "start_time": "2024-04-14T16:01:17.283Z"
   },
   {
    "duration": 3,
    "start_time": "2024-04-14T16:01:17.480Z"
   },
   {
    "duration": 579,
    "start_time": "2024-04-14T16:01:17.484Z"
   },
   {
    "duration": 206,
    "start_time": "2024-04-14T16:01:18.065Z"
   },
   {
    "duration": 219,
    "start_time": "2024-04-14T16:01:18.274Z"
   },
   {
    "duration": 75,
    "start_time": "2024-04-14T16:01:18.495Z"
   },
   {
    "duration": 15,
    "start_time": "2024-04-14T16:01:18.572Z"
   },
   {
    "duration": 18,
    "start_time": "2024-04-14T16:01:18.589Z"
   },
   {
    "duration": 1855,
    "start_time": "2024-04-14T16:05:39.140Z"
   },
   {
    "duration": 1207,
    "start_time": "2024-04-14T16:05:44.867Z"
   },
   {
    "duration": 94,
    "start_time": "2024-04-14T16:05:46.076Z"
   },
   {
    "duration": 3,
    "start_time": "2024-04-14T16:05:46.174Z"
   },
   {
    "duration": 37,
    "start_time": "2024-04-14T16:05:46.179Z"
   },
   {
    "duration": 16,
    "start_time": "2024-04-14T16:05:46.217Z"
   },
   {
    "duration": 29,
    "start_time": "2024-04-14T16:05:46.235Z"
   },
   {
    "duration": 230,
    "start_time": "2024-04-14T16:05:46.266Z"
   },
   {
    "duration": 178,
    "start_time": "2024-04-14T16:05:46.498Z"
   },
   {
    "duration": 10,
    "start_time": "2024-04-14T16:05:46.678Z"
   },
   {
    "duration": 7,
    "start_time": "2024-04-14T16:05:46.690Z"
   },
   {
    "duration": 2,
    "start_time": "2024-04-14T16:05:46.699Z"
   },
   {
    "duration": 2071,
    "start_time": "2024-04-14T16:05:46.702Z"
   },
   {
    "duration": 1387,
    "start_time": "2024-04-14T16:05:48.776Z"
   },
   {
    "duration": 9,
    "start_time": "2024-04-14T16:05:50.165Z"
   },
   {
    "duration": 1377,
    "start_time": "2024-04-14T16:05:50.175Z"
   },
   {
    "duration": 210,
    "start_time": "2024-04-14T16:05:51.554Z"
   },
   {
    "duration": 3,
    "start_time": "2024-04-14T16:05:51.766Z"
   },
   {
    "duration": 805,
    "start_time": "2024-04-14T16:05:51.770Z"
   },
   {
    "duration": 209,
    "start_time": "2024-04-14T16:05:52.577Z"
   },
   {
    "duration": 239,
    "start_time": "2024-04-14T16:05:52.788Z"
   },
   {
    "duration": 174,
    "start_time": "2024-04-14T16:05:53.029Z"
   },
   {
    "duration": 53,
    "start_time": "2024-04-14T16:05:53.204Z"
   },
   {
    "duration": 24,
    "start_time": "2024-04-14T16:05:53.263Z"
   },
   {
    "duration": 8,
    "start_time": "2024-04-14T16:09:45.513Z"
   },
   {
    "duration": 9,
    "start_time": "2024-04-14T16:09:47.358Z"
   },
   {
    "duration": 8,
    "start_time": "2024-04-14T16:09:48.912Z"
   },
   {
    "duration": 72,
    "start_time": "2024-04-14T16:09:57.945Z"
   },
   {
    "duration": 106,
    "start_time": "2024-04-14T16:10:09.328Z"
   },
   {
    "duration": 9,
    "start_time": "2024-04-14T16:10:17.562Z"
   },
   {
    "duration": 15,
    "start_time": "2024-04-14T16:12:07.641Z"
   },
   {
    "duration": 14,
    "start_time": "2024-04-14T16:12:17.053Z"
   },
   {
    "duration": 777,
    "start_time": "2024-04-14T16:17:42.589Z"
   },
   {
    "duration": 772,
    "start_time": "2024-04-14T16:17:53.217Z"
   },
   {
    "duration": 863,
    "start_time": "2024-04-14T16:19:11.719Z"
   },
   {
    "duration": 717,
    "start_time": "2024-04-14T16:19:17.412Z"
   },
   {
    "duration": 206,
    "start_time": "2024-04-14T16:21:31.634Z"
   },
   {
    "duration": 312,
    "start_time": "2024-04-14T16:21:41.253Z"
   },
   {
    "duration": 200,
    "start_time": "2024-04-14T16:22:37.373Z"
   },
   {
    "duration": 6,
    "start_time": "2024-04-14T16:47:36.505Z"
   },
   {
    "duration": 195,
    "start_time": "2024-04-14T16:47:40.440Z"
   },
   {
    "duration": 202,
    "start_time": "2024-04-14T16:52:03.986Z"
   },
   {
    "duration": 5,
    "start_time": "2024-04-14T16:53:00.385Z"
   },
   {
    "duration": 242,
    "start_time": "2024-04-14T16:53:41.239Z"
   },
   {
    "duration": 225,
    "start_time": "2024-04-14T16:53:50.869Z"
   },
   {
    "duration": 7,
    "start_time": "2024-04-14T16:54:00.775Z"
   },
   {
    "duration": 7,
    "start_time": "2024-04-14T16:54:41.697Z"
   },
   {
    "duration": 198,
    "start_time": "2024-04-14T16:54:42.623Z"
   },
   {
    "duration": 7,
    "start_time": "2024-04-14T16:54:45.476Z"
   },
   {
    "duration": 2,
    "start_time": "2024-04-14T17:04:39.493Z"
   },
   {
    "duration": 9,
    "start_time": "2024-04-14T17:04:48.123Z"
   },
   {
    "duration": 1058,
    "start_time": "2024-04-14T17:11:43.981Z"
   },
   {
    "duration": 88,
    "start_time": "2024-04-14T17:11:45.041Z"
   },
   {
    "duration": 3,
    "start_time": "2024-04-14T17:11:45.134Z"
   },
   {
    "duration": 85,
    "start_time": "2024-04-14T17:11:45.138Z"
   },
   {
    "duration": 37,
    "start_time": "2024-04-14T17:11:45.224Z"
   },
   {
    "duration": 40,
    "start_time": "2024-04-14T17:11:45.262Z"
   },
   {
    "duration": 201,
    "start_time": "2024-04-14T17:11:45.304Z"
   },
   {
    "duration": 151,
    "start_time": "2024-04-14T17:11:45.507Z"
   },
   {
    "duration": 9,
    "start_time": "2024-04-14T17:11:45.659Z"
   },
   {
    "duration": 8,
    "start_time": "2024-04-14T17:11:45.670Z"
   },
   {
    "duration": 17,
    "start_time": "2024-04-14T17:11:45.680Z"
   },
   {
    "duration": 1873,
    "start_time": "2024-04-14T17:11:45.698Z"
   },
   {
    "duration": 1233,
    "start_time": "2024-04-14T17:11:47.572Z"
   },
   {
    "duration": 10,
    "start_time": "2024-04-14T17:11:48.806Z"
   },
   {
    "duration": 1272,
    "start_time": "2024-04-14T17:11:48.817Z"
   },
   {
    "duration": 2,
    "start_time": "2024-04-14T17:11:50.091Z"
   },
   {
    "duration": 738,
    "start_time": "2024-04-14T17:11:50.094Z"
   },
   {
    "duration": 197,
    "start_time": "2024-04-14T17:11:50.834Z"
   },
   {
    "duration": 2,
    "start_time": "2024-04-14T17:11:51.033Z"
   },
   {
    "duration": 10,
    "start_time": "2024-04-14T17:11:51.044Z"
   },
   {
    "duration": 205,
    "start_time": "2024-04-14T17:11:51.055Z"
   },
   {
    "duration": 6,
    "start_time": "2024-04-14T17:11:51.262Z"
   },
   {
    "duration": 89,
    "start_time": "2024-04-14T17:11:51.269Z"
   },
   {
    "duration": 21,
    "start_time": "2024-04-14T17:11:51.359Z"
   },
   {
    "duration": 21,
    "start_time": "2024-04-14T17:11:51.382Z"
   },
   {
    "duration": 1313,
    "start_time": "2024-04-14T19:51:04.520Z"
   },
   {
    "duration": 137,
    "start_time": "2024-04-14T19:51:05.835Z"
   },
   {
    "duration": 95,
    "start_time": "2024-04-14T19:51:05.976Z"
   },
   {
    "duration": 0,
    "start_time": "2024-04-14T19:51:06.073Z"
   },
   {
    "duration": 0,
    "start_time": "2024-04-14T19:51:06.074Z"
   },
   {
    "duration": 0,
    "start_time": "2024-04-14T19:51:06.075Z"
   },
   {
    "duration": 0,
    "start_time": "2024-04-14T19:51:06.076Z"
   },
   {
    "duration": 0,
    "start_time": "2024-04-14T19:51:06.082Z"
   },
   {
    "duration": 0,
    "start_time": "2024-04-14T19:51:06.083Z"
   },
   {
    "duration": 0,
    "start_time": "2024-04-14T19:51:06.084Z"
   },
   {
    "duration": 0,
    "start_time": "2024-04-14T19:51:06.085Z"
   },
   {
    "duration": 0,
    "start_time": "2024-04-14T19:51:06.086Z"
   },
   {
    "duration": 0,
    "start_time": "2024-04-14T19:51:06.087Z"
   },
   {
    "duration": 0,
    "start_time": "2024-04-14T19:51:06.088Z"
   },
   {
    "duration": 0,
    "start_time": "2024-04-14T19:51:06.089Z"
   },
   {
    "duration": 0,
    "start_time": "2024-04-14T19:51:06.089Z"
   },
   {
    "duration": 0,
    "start_time": "2024-04-14T19:51:06.090Z"
   },
   {
    "duration": 0,
    "start_time": "2024-04-14T19:51:06.091Z"
   },
   {
    "duration": 0,
    "start_time": "2024-04-14T19:51:06.092Z"
   },
   {
    "duration": 0,
    "start_time": "2024-04-14T19:51:06.093Z"
   },
   {
    "duration": 0,
    "start_time": "2024-04-14T19:51:06.094Z"
   },
   {
    "duration": 0,
    "start_time": "2024-04-14T19:51:06.095Z"
   },
   {
    "duration": 0,
    "start_time": "2024-04-14T19:51:06.096Z"
   },
   {
    "duration": 0,
    "start_time": "2024-04-14T19:51:06.097Z"
   },
   {
    "duration": 0,
    "start_time": "2024-04-14T19:51:06.098Z"
   },
   {
    "duration": 1371,
    "start_time": "2024-04-14T19:53:48.143Z"
   },
   {
    "duration": 174,
    "start_time": "2024-04-14T19:53:49.516Z"
   },
   {
    "duration": 3,
    "start_time": "2024-04-14T19:53:49.692Z"
   },
   {
    "duration": 22,
    "start_time": "2024-04-14T19:53:49.697Z"
   },
   {
    "duration": 68,
    "start_time": "2024-04-14T19:53:49.721Z"
   },
   {
    "duration": 19,
    "start_time": "2024-04-14T19:53:49.790Z"
   },
   {
    "duration": 411,
    "start_time": "2024-04-14T19:53:49.811Z"
   },
   {
    "duration": 373,
    "start_time": "2024-04-14T19:53:50.224Z"
   },
   {
    "duration": 10,
    "start_time": "2024-04-14T19:53:50.599Z"
   },
   {
    "duration": 9,
    "start_time": "2024-04-14T19:53:50.611Z"
   },
   {
    "duration": 61,
    "start_time": "2024-04-14T19:53:50.621Z"
   },
   {
    "duration": 2974,
    "start_time": "2024-04-14T19:53:50.684Z"
   },
   {
    "duration": 1325,
    "start_time": "2024-04-14T19:53:53.659Z"
   },
   {
    "duration": 10,
    "start_time": "2024-04-14T19:53:54.986Z"
   },
   {
    "duration": 1352,
    "start_time": "2024-04-14T19:53:54.997Z"
   },
   {
    "duration": 3,
    "start_time": "2024-04-14T19:53:56.351Z"
   },
   {
    "duration": 771,
    "start_time": "2024-04-14T19:53:56.355Z"
   },
   {
    "duration": 204,
    "start_time": "2024-04-14T19:53:57.129Z"
   },
   {
    "duration": 3,
    "start_time": "2024-04-14T19:53:57.335Z"
   },
   {
    "duration": 10,
    "start_time": "2024-04-14T19:53:57.340Z"
   },
   {
    "duration": 216,
    "start_time": "2024-04-14T19:53:57.352Z"
   },
   {
    "duration": 13,
    "start_time": "2024-04-14T19:53:57.570Z"
   },
   {
    "duration": 58,
    "start_time": "2024-04-14T19:53:57.585Z"
   },
   {
    "duration": 54,
    "start_time": "2024-04-14T19:53:57.644Z"
   },
   {
    "duration": 20,
    "start_time": "2024-04-14T19:53:57.699Z"
   },
   {
    "duration": 5,
    "start_time": "2024-04-14T20:24:02.918Z"
   },
   {
    "duration": 1119,
    "start_time": "2024-04-14T20:24:54.604Z"
   },
   {
    "duration": 80,
    "start_time": "2024-04-14T20:24:55.725Z"
   },
   {
    "duration": 3,
    "start_time": "2024-04-14T20:24:55.807Z"
   },
   {
    "duration": 23,
    "start_time": "2024-04-14T20:24:55.812Z"
   },
   {
    "duration": 50,
    "start_time": "2024-04-14T20:24:55.836Z"
   },
   {
    "duration": 18,
    "start_time": "2024-04-14T20:24:55.887Z"
   },
   {
    "duration": 196,
    "start_time": "2024-04-14T20:24:55.907Z"
   },
   {
    "duration": 147,
    "start_time": "2024-04-14T20:24:56.105Z"
   },
   {
    "duration": 10,
    "start_time": "2024-04-14T20:24:56.254Z"
   },
   {
    "duration": 22,
    "start_time": "2024-04-14T20:24:56.266Z"
   },
   {
    "duration": 2,
    "start_time": "2024-04-14T20:24:56.290Z"
   },
   {
    "duration": 2025,
    "start_time": "2024-04-14T20:24:56.293Z"
   },
   {
    "duration": 1291,
    "start_time": "2024-04-14T20:24:58.320Z"
   },
   {
    "duration": 9,
    "start_time": "2024-04-14T20:24:59.613Z"
   },
   {
    "duration": 1372,
    "start_time": "2024-04-14T20:24:59.624Z"
   },
   {
    "duration": 3,
    "start_time": "2024-04-14T20:25:00.997Z"
   },
   {
    "duration": 854,
    "start_time": "2024-04-14T20:25:01.001Z"
   },
   {
    "duration": 212,
    "start_time": "2024-04-14T20:25:01.857Z"
   },
   {
    "duration": 11,
    "start_time": "2024-04-14T20:25:02.071Z"
   },
   {
    "duration": 96,
    "start_time": "2024-04-14T20:25:02.084Z"
   },
   {
    "duration": 260,
    "start_time": "2024-04-14T20:25:02.182Z"
   },
   {
    "duration": 7,
    "start_time": "2024-04-14T20:25:02.443Z"
   },
   {
    "duration": 88,
    "start_time": "2024-04-14T20:25:02.452Z"
   },
   {
    "duration": 49,
    "start_time": "2024-04-14T20:25:02.542Z"
   },
   {
    "duration": 27,
    "start_time": "2024-04-14T20:25:02.593Z"
   },
   {
    "duration": 3,
    "start_time": "2024-04-14T20:43:06.230Z"
   },
   {
    "duration": 79,
    "start_time": "2024-04-14T20:43:06.235Z"
   },
   {
    "duration": 3,
    "start_time": "2024-04-14T20:43:06.316Z"
   },
   {
    "duration": 16,
    "start_time": "2024-04-14T20:43:06.320Z"
   },
   {
    "duration": 127,
    "start_time": "2024-04-14T20:43:06.338Z"
   },
   {
    "duration": 21,
    "start_time": "2024-04-14T20:43:55.608Z"
   },
   {
    "duration": 1198,
    "start_time": "2024-04-14T20:44:21.343Z"
   },
   {
    "duration": 1142,
    "start_time": "2024-04-14T20:44:42.832Z"
   },
   {
    "duration": 1108,
    "start_time": "2024-04-14T20:45:01.948Z"
   },
   {
    "duration": 23,
    "start_time": "2024-04-14T20:45:32.476Z"
   },
   {
    "duration": 229,
    "start_time": "2024-04-14T20:45:35.649Z"
   },
   {
    "duration": 1235,
    "start_time": "2024-04-14T20:46:02.820Z"
   },
   {
    "duration": 220,
    "start_time": "2024-04-14T20:46:23.552Z"
   },
   {
    "duration": 1262,
    "start_time": "2024-04-19T16:14:24.471Z"
   },
   {
    "duration": 133,
    "start_time": "2024-04-19T16:14:25.735Z"
   },
   {
    "duration": 4,
    "start_time": "2024-04-19T16:14:25.869Z"
   },
   {
    "duration": 18,
    "start_time": "2024-04-19T16:14:25.874Z"
   },
   {
    "duration": 1398,
    "start_time": "2024-04-19T16:14:25.893Z"
   },
   {
    "duration": 0,
    "start_time": "2024-04-19T16:14:27.293Z"
   },
   {
    "duration": 0,
    "start_time": "2024-04-19T16:14:27.295Z"
   },
   {
    "duration": 0,
    "start_time": "2024-04-19T16:14:27.296Z"
   },
   {
    "duration": 0,
    "start_time": "2024-04-19T16:14:27.297Z"
   },
   {
    "duration": 0,
    "start_time": "2024-04-19T16:14:27.299Z"
   },
   {
    "duration": 0,
    "start_time": "2024-04-19T16:14:27.300Z"
   },
   {
    "duration": 0,
    "start_time": "2024-04-19T16:14:27.301Z"
   },
   {
    "duration": 0,
    "start_time": "2024-04-19T16:14:27.302Z"
   },
   {
    "duration": 0,
    "start_time": "2024-04-19T16:14:27.304Z"
   },
   {
    "duration": 0,
    "start_time": "2024-04-19T16:14:27.304Z"
   },
   {
    "duration": 0,
    "start_time": "2024-04-19T16:14:27.306Z"
   },
   {
    "duration": 0,
    "start_time": "2024-04-19T16:14:27.307Z"
   },
   {
    "duration": 0,
    "start_time": "2024-04-19T16:14:27.308Z"
   },
   {
    "duration": 0,
    "start_time": "2024-04-19T16:14:27.309Z"
   },
   {
    "duration": 0,
    "start_time": "2024-04-19T16:14:27.310Z"
   },
   {
    "duration": 0,
    "start_time": "2024-04-19T16:14:27.311Z"
   },
   {
    "duration": 0,
    "start_time": "2024-04-19T16:14:27.312Z"
   },
   {
    "duration": 0,
    "start_time": "2024-04-19T16:14:27.314Z"
   },
   {
    "duration": 0,
    "start_time": "2024-04-19T16:14:27.315Z"
   },
   {
    "duration": 0,
    "start_time": "2024-04-19T16:14:27.316Z"
   },
   {
    "duration": 0,
    "start_time": "2024-04-19T16:14:27.318Z"
   },
   {
    "duration": 0,
    "start_time": "2024-04-19T16:14:27.319Z"
   },
   {
    "duration": 0,
    "start_time": "2024-04-19T16:14:27.320Z"
   },
   {
    "duration": 1061,
    "start_time": "2024-04-19T16:20:12.407Z"
   },
   {
    "duration": 84,
    "start_time": "2024-04-19T16:20:13.470Z"
   },
   {
    "duration": 3,
    "start_time": "2024-04-19T16:20:13.556Z"
   },
   {
    "duration": 25,
    "start_time": "2024-04-19T16:20:13.560Z"
   },
   {
    "duration": 18,
    "start_time": "2024-04-19T16:20:13.587Z"
   },
   {
    "duration": 242,
    "start_time": "2024-04-19T16:20:13.606Z"
   },
   {
    "duration": 106,
    "start_time": "2024-04-19T16:20:13.850Z"
   },
   {
    "duration": 0,
    "start_time": "2024-04-19T16:20:13.958Z"
   },
   {
    "duration": 0,
    "start_time": "2024-04-19T16:20:13.959Z"
   },
   {
    "duration": 0,
    "start_time": "2024-04-19T16:20:13.960Z"
   },
   {
    "duration": 0,
    "start_time": "2024-04-19T16:20:13.961Z"
   },
   {
    "duration": 0,
    "start_time": "2024-04-19T16:20:13.962Z"
   },
   {
    "duration": 0,
    "start_time": "2024-04-19T16:20:13.963Z"
   },
   {
    "duration": 0,
    "start_time": "2024-04-19T16:20:13.964Z"
   },
   {
    "duration": 0,
    "start_time": "2024-04-19T16:20:13.965Z"
   },
   {
    "duration": 0,
    "start_time": "2024-04-19T16:20:13.966Z"
   },
   {
    "duration": 0,
    "start_time": "2024-04-19T16:20:13.967Z"
   },
   {
    "duration": 0,
    "start_time": "2024-04-19T16:20:13.968Z"
   },
   {
    "duration": 0,
    "start_time": "2024-04-19T16:20:13.968Z"
   },
   {
    "duration": 0,
    "start_time": "2024-04-19T16:20:13.969Z"
   },
   {
    "duration": 0,
    "start_time": "2024-04-19T16:20:13.970Z"
   },
   {
    "duration": 0,
    "start_time": "2024-04-19T16:20:13.971Z"
   },
   {
    "duration": 0,
    "start_time": "2024-04-19T16:20:13.972Z"
   },
   {
    "duration": 0,
    "start_time": "2024-04-19T16:20:13.973Z"
   },
   {
    "duration": 0,
    "start_time": "2024-04-19T16:20:13.974Z"
   },
   {
    "duration": 0,
    "start_time": "2024-04-19T16:20:13.975Z"
   },
   {
    "duration": 0,
    "start_time": "2024-04-19T16:20:13.976Z"
   },
   {
    "duration": 0,
    "start_time": "2024-04-19T16:20:13.977Z"
   },
   {
    "duration": 0,
    "start_time": "2024-04-19T16:20:13.978Z"
   },
   {
    "duration": 189,
    "start_time": "2024-04-19T16:20:48.954Z"
   },
   {
    "duration": 16,
    "start_time": "2024-04-19T16:21:05.463Z"
   },
   {
    "duration": 1120,
    "start_time": "2024-04-19T16:21:28.735Z"
   },
   {
    "duration": 75,
    "start_time": "2024-04-19T16:21:29.856Z"
   },
   {
    "duration": 3,
    "start_time": "2024-04-19T16:21:29.935Z"
   },
   {
    "duration": 17,
    "start_time": "2024-04-19T16:21:29.939Z"
   },
   {
    "duration": 17,
    "start_time": "2024-04-19T16:21:29.957Z"
   },
   {
    "duration": 213,
    "start_time": "2024-04-19T16:21:29.975Z"
   },
   {
    "duration": 97,
    "start_time": "2024-04-19T16:21:30.190Z"
   },
   {
    "duration": 0,
    "start_time": "2024-04-19T16:21:30.289Z"
   },
   {
    "duration": 0,
    "start_time": "2024-04-19T16:21:30.290Z"
   },
   {
    "duration": 0,
    "start_time": "2024-04-19T16:21:30.291Z"
   },
   {
    "duration": 0,
    "start_time": "2024-04-19T16:21:30.292Z"
   },
   {
    "duration": 0,
    "start_time": "2024-04-19T16:21:30.293Z"
   },
   {
    "duration": 0,
    "start_time": "2024-04-19T16:21:30.294Z"
   },
   {
    "duration": 0,
    "start_time": "2024-04-19T16:21:30.295Z"
   },
   {
    "duration": 0,
    "start_time": "2024-04-19T16:21:30.297Z"
   },
   {
    "duration": 0,
    "start_time": "2024-04-19T16:21:30.298Z"
   },
   {
    "duration": 0,
    "start_time": "2024-04-19T16:21:30.299Z"
   },
   {
    "duration": 0,
    "start_time": "2024-04-19T16:21:30.300Z"
   },
   {
    "duration": 0,
    "start_time": "2024-04-19T16:21:30.301Z"
   },
   {
    "duration": 0,
    "start_time": "2024-04-19T16:21:30.302Z"
   },
   {
    "duration": 0,
    "start_time": "2024-04-19T16:21:30.303Z"
   },
   {
    "duration": 0,
    "start_time": "2024-04-19T16:21:30.304Z"
   },
   {
    "duration": 0,
    "start_time": "2024-04-19T16:21:30.305Z"
   },
   {
    "duration": 0,
    "start_time": "2024-04-19T16:21:30.306Z"
   },
   {
    "duration": 0,
    "start_time": "2024-04-19T16:21:30.307Z"
   },
   {
    "duration": 0,
    "start_time": "2024-04-19T16:21:30.308Z"
   },
   {
    "duration": 0,
    "start_time": "2024-04-19T16:21:30.309Z"
   },
   {
    "duration": 0,
    "start_time": "2024-04-19T16:21:30.310Z"
   },
   {
    "duration": 0,
    "start_time": "2024-04-19T16:21:30.311Z"
   },
   {
    "duration": 1061,
    "start_time": "2024-04-19T16:24:23.679Z"
   },
   {
    "duration": 81,
    "start_time": "2024-04-19T16:24:24.744Z"
   },
   {
    "duration": 3,
    "start_time": "2024-04-19T16:24:24.827Z"
   },
   {
    "duration": 14,
    "start_time": "2024-04-19T16:24:24.832Z"
   },
   {
    "duration": 17,
    "start_time": "2024-04-19T16:24:24.847Z"
   },
   {
    "duration": 3,
    "start_time": "2024-04-19T16:24:24.865Z"
   },
   {
    "duration": 239,
    "start_time": "2024-04-19T16:24:24.869Z"
   },
   {
    "duration": 97,
    "start_time": "2024-04-19T16:24:25.110Z"
   },
   {
    "duration": 0,
    "start_time": "2024-04-19T16:24:25.209Z"
   },
   {
    "duration": 0,
    "start_time": "2024-04-19T16:24:25.211Z"
   },
   {
    "duration": 0,
    "start_time": "2024-04-19T16:24:25.212Z"
   },
   {
    "duration": 0,
    "start_time": "2024-04-19T16:24:25.213Z"
   },
   {
    "duration": 0,
    "start_time": "2024-04-19T16:24:25.214Z"
   },
   {
    "duration": 0,
    "start_time": "2024-04-19T16:24:25.215Z"
   },
   {
    "duration": 0,
    "start_time": "2024-04-19T16:24:25.216Z"
   },
   {
    "duration": 0,
    "start_time": "2024-04-19T16:24:25.217Z"
   },
   {
    "duration": 0,
    "start_time": "2024-04-19T16:24:25.218Z"
   },
   {
    "duration": 0,
    "start_time": "2024-04-19T16:24:25.219Z"
   },
   {
    "duration": 0,
    "start_time": "2024-04-19T16:24:25.220Z"
   },
   {
    "duration": 0,
    "start_time": "2024-04-19T16:24:25.221Z"
   },
   {
    "duration": 0,
    "start_time": "2024-04-19T16:24:25.222Z"
   },
   {
    "duration": 0,
    "start_time": "2024-04-19T16:24:25.245Z"
   },
   {
    "duration": 0,
    "start_time": "2024-04-19T16:24:25.246Z"
   },
   {
    "duration": 0,
    "start_time": "2024-04-19T16:24:25.247Z"
   },
   {
    "duration": 0,
    "start_time": "2024-04-19T16:24:25.248Z"
   },
   {
    "duration": 0,
    "start_time": "2024-04-19T16:24:25.249Z"
   },
   {
    "duration": 0,
    "start_time": "2024-04-19T16:24:25.250Z"
   },
   {
    "duration": 0,
    "start_time": "2024-04-19T16:24:25.251Z"
   },
   {
    "duration": 0,
    "start_time": "2024-04-19T16:24:25.252Z"
   },
   {
    "duration": 0,
    "start_time": "2024-04-19T16:24:25.253Z"
   },
   {
    "duration": 1098,
    "start_time": "2024-04-19T16:24:50.463Z"
   },
   {
    "duration": 75,
    "start_time": "2024-04-19T16:24:51.563Z"
   },
   {
    "duration": 3,
    "start_time": "2024-04-19T16:24:51.639Z"
   },
   {
    "duration": 27,
    "start_time": "2024-04-19T16:24:51.644Z"
   },
   {
    "duration": 27,
    "start_time": "2024-04-19T16:24:51.672Z"
   },
   {
    "duration": 2,
    "start_time": "2024-04-19T16:24:51.700Z"
   },
   {
    "duration": 30,
    "start_time": "2024-04-19T16:24:51.704Z"
   },
   {
    "duration": 114,
    "start_time": "2024-04-19T16:24:51.736Z"
   },
   {
    "duration": 0,
    "start_time": "2024-04-19T16:24:51.852Z"
   },
   {
    "duration": 0,
    "start_time": "2024-04-19T16:24:51.853Z"
   },
   {
    "duration": 0,
    "start_time": "2024-04-19T16:24:51.854Z"
   },
   {
    "duration": 0,
    "start_time": "2024-04-19T16:24:51.856Z"
   },
   {
    "duration": 0,
    "start_time": "2024-04-19T16:24:51.857Z"
   },
   {
    "duration": 0,
    "start_time": "2024-04-19T16:24:51.858Z"
   },
   {
    "duration": 0,
    "start_time": "2024-04-19T16:24:51.859Z"
   },
   {
    "duration": 0,
    "start_time": "2024-04-19T16:24:51.861Z"
   },
   {
    "duration": 0,
    "start_time": "2024-04-19T16:24:51.862Z"
   },
   {
    "duration": 0,
    "start_time": "2024-04-19T16:24:51.864Z"
   },
   {
    "duration": 1,
    "start_time": "2024-04-19T16:24:51.864Z"
   },
   {
    "duration": 0,
    "start_time": "2024-04-19T16:24:51.866Z"
   },
   {
    "duration": 0,
    "start_time": "2024-04-19T16:24:51.867Z"
   },
   {
    "duration": 0,
    "start_time": "2024-04-19T16:24:51.869Z"
   },
   {
    "duration": 0,
    "start_time": "2024-04-19T16:24:51.870Z"
   },
   {
    "duration": 0,
    "start_time": "2024-04-19T16:24:51.871Z"
   },
   {
    "duration": 0,
    "start_time": "2024-04-19T16:24:51.872Z"
   },
   {
    "duration": 0,
    "start_time": "2024-04-19T16:24:51.873Z"
   },
   {
    "duration": 0,
    "start_time": "2024-04-19T16:24:51.875Z"
   },
   {
    "duration": 0,
    "start_time": "2024-04-19T16:24:51.876Z"
   },
   {
    "duration": 0,
    "start_time": "2024-04-19T16:24:51.877Z"
   },
   {
    "duration": 0,
    "start_time": "2024-04-19T16:24:51.878Z"
   },
   {
    "duration": 1127,
    "start_time": "2024-04-19T16:25:32.657Z"
   },
   {
    "duration": 91,
    "start_time": "2024-04-19T16:25:33.788Z"
   },
   {
    "duration": 3,
    "start_time": "2024-04-19T16:25:33.880Z"
   },
   {
    "duration": 19,
    "start_time": "2024-04-19T16:25:33.885Z"
   },
   {
    "duration": 19,
    "start_time": "2024-04-19T16:25:33.905Z"
   },
   {
    "duration": 3,
    "start_time": "2024-04-19T16:25:33.944Z"
   },
   {
    "duration": 8,
    "start_time": "2024-04-19T16:25:33.949Z"
   },
   {
    "duration": 169,
    "start_time": "2024-04-19T16:25:33.959Z"
   },
   {
    "duration": 2,
    "start_time": "2024-04-19T16:25:34.130Z"
   },
   {
    "duration": 27,
    "start_time": "2024-04-19T16:25:34.133Z"
   },
   {
    "duration": 20,
    "start_time": "2024-04-19T16:25:34.161Z"
   },
   {
    "duration": 175,
    "start_time": "2024-04-19T16:25:34.182Z"
   },
   {
    "duration": 139,
    "start_time": "2024-04-19T16:25:34.359Z"
   },
   {
    "duration": 9,
    "start_time": "2024-04-19T16:25:34.499Z"
   },
   {
    "duration": 11,
    "start_time": "2024-04-19T16:25:34.509Z"
   },
   {
    "duration": 3,
    "start_time": "2024-04-19T16:25:34.521Z"
   },
   {
    "duration": 1858,
    "start_time": "2024-04-19T16:25:34.525Z"
   },
   {
    "duration": 1235,
    "start_time": "2024-04-19T16:25:36.385Z"
   },
   {
    "duration": 9,
    "start_time": "2024-04-19T16:25:37.622Z"
   },
   {
    "duration": 1208,
    "start_time": "2024-04-19T16:25:37.633Z"
   },
   {
    "duration": 2,
    "start_time": "2024-04-19T16:25:38.845Z"
   },
   {
    "duration": 694,
    "start_time": "2024-04-19T16:25:38.848Z"
   },
   {
    "duration": 181,
    "start_time": "2024-04-19T16:25:39.544Z"
   },
   {
    "duration": 2,
    "start_time": "2024-04-19T16:25:39.727Z"
   },
   {
    "duration": 17,
    "start_time": "2024-04-19T16:25:39.730Z"
   },
   {
    "duration": 277,
    "start_time": "2024-04-19T16:25:39.748Z"
   },
   {
    "duration": 5,
    "start_time": "2024-04-19T16:25:40.028Z"
   },
   {
    "duration": 66,
    "start_time": "2024-04-19T16:25:40.034Z"
   },
   {
    "duration": 16,
    "start_time": "2024-04-19T16:25:40.102Z"
   },
   {
    "duration": 36,
    "start_time": "2024-04-19T16:25:40.120Z"
   },
   {
    "duration": 153,
    "start_time": "2024-04-19T16:28:26.703Z"
   },
   {
    "duration": 158,
    "start_time": "2024-04-19T16:28:59.260Z"
   },
   {
    "duration": 196,
    "start_time": "2024-04-19T16:29:04.959Z"
   },
   {
    "duration": 3,
    "start_time": "2024-04-19T16:29:38.342Z"
   },
   {
    "duration": 69,
    "start_time": "2024-04-19T16:29:39.806Z"
   },
   {
    "duration": 3,
    "start_time": "2024-04-19T16:29:44.165Z"
   },
   {
    "duration": 14,
    "start_time": "2024-04-19T16:29:48.913Z"
   },
   {
    "duration": 25,
    "start_time": "2024-04-19T16:29:52.105Z"
   },
   {
    "duration": 18,
    "start_time": "2024-04-19T16:30:11.382Z"
   },
   {
    "duration": 165,
    "start_time": "2024-04-19T16:30:20.776Z"
   },
   {
    "duration": 150,
    "start_time": "2024-04-19T16:30:24.027Z"
   },
   {
    "duration": 173,
    "start_time": "2024-04-19T16:30:26.511Z"
   },
   {
    "duration": 1298,
    "start_time": "2024-04-21T12:24:51.925Z"
   },
   {
    "duration": 129,
    "start_time": "2024-04-21T12:24:53.224Z"
   },
   {
    "duration": 4,
    "start_time": "2024-04-21T12:24:53.354Z"
   },
   {
    "duration": 32,
    "start_time": "2024-04-21T12:24:53.360Z"
   },
   {
    "duration": 18,
    "start_time": "2024-04-21T12:24:53.394Z"
   },
   {
    "duration": 205,
    "start_time": "2024-04-21T12:24:53.413Z"
   },
   {
    "duration": 922,
    "start_time": "2024-04-21T12:24:53.619Z"
   },
   {
    "duration": 0,
    "start_time": "2024-04-21T12:24:54.545Z"
   },
   {
    "duration": 0,
    "start_time": "2024-04-21T12:24:54.546Z"
   },
   {
    "duration": 0,
    "start_time": "2024-04-21T12:24:54.547Z"
   },
   {
    "duration": 0,
    "start_time": "2024-04-21T12:24:54.548Z"
   },
   {
    "duration": 0,
    "start_time": "2024-04-21T12:24:54.549Z"
   },
   {
    "duration": 0,
    "start_time": "2024-04-21T12:24:54.550Z"
   },
   {
    "duration": 0,
    "start_time": "2024-04-21T12:24:54.551Z"
   },
   {
    "duration": 0,
    "start_time": "2024-04-21T12:24:54.552Z"
   },
   {
    "duration": 0,
    "start_time": "2024-04-21T12:24:54.553Z"
   },
   {
    "duration": 0,
    "start_time": "2024-04-21T12:24:54.554Z"
   },
   {
    "duration": 0,
    "start_time": "2024-04-21T12:24:54.555Z"
   },
   {
    "duration": 0,
    "start_time": "2024-04-21T12:24:54.556Z"
   },
   {
    "duration": 0,
    "start_time": "2024-04-21T12:24:54.557Z"
   },
   {
    "duration": 0,
    "start_time": "2024-04-21T12:24:54.559Z"
   },
   {
    "duration": 0,
    "start_time": "2024-04-21T12:24:54.559Z"
   },
   {
    "duration": 0,
    "start_time": "2024-04-21T12:24:54.560Z"
   },
   {
    "duration": 0,
    "start_time": "2024-04-21T12:24:54.561Z"
   },
   {
    "duration": 0,
    "start_time": "2024-04-21T12:24:54.562Z"
   },
   {
    "duration": 0,
    "start_time": "2024-04-21T12:24:54.563Z"
   },
   {
    "duration": 0,
    "start_time": "2024-04-21T12:24:54.564Z"
   },
   {
    "duration": 0,
    "start_time": "2024-04-21T12:24:54.565Z"
   },
   {
    "duration": 0,
    "start_time": "2024-04-21T12:24:54.565Z"
   },
   {
    "duration": 0,
    "start_time": "2024-04-21T12:24:54.566Z"
   },
   {
    "duration": 0,
    "start_time": "2024-04-21T12:24:54.568Z"
   },
   {
    "duration": 3,
    "start_time": "2024-04-21T12:25:20.181Z"
   },
   {
    "duration": 78,
    "start_time": "2024-04-21T12:25:20.663Z"
   },
   {
    "duration": 3,
    "start_time": "2024-04-21T12:25:22.652Z"
   },
   {
    "duration": 18,
    "start_time": "2024-04-21T13:12:26.284Z"
   },
   {
    "duration": 19,
    "start_time": "2024-04-21T13:12:28.163Z"
   },
   {
    "duration": 192,
    "start_time": "2024-04-21T13:12:30.455Z"
   },
   {
    "duration": 29,
    "start_time": "2024-04-21T13:12:46.541Z"
   },
   {
    "duration": 171,
    "start_time": "2024-04-21T13:13:06.574Z"
   },
   {
    "duration": 170,
    "start_time": "2024-04-21T13:13:10.121Z"
   },
   {
    "duration": 182,
    "start_time": "2024-04-21T13:28:20.692Z"
   },
   {
    "duration": 212,
    "start_time": "2024-04-21T13:43:03.644Z"
   },
   {
    "duration": 171,
    "start_time": "2024-04-21T13:43:18.581Z"
   },
   {
    "duration": 174,
    "start_time": "2024-04-21T13:43:36.428Z"
   },
   {
    "duration": 172,
    "start_time": "2024-04-21T13:45:06.192Z"
   },
   {
    "duration": 258,
    "start_time": "2024-04-21T13:45:16.711Z"
   },
   {
    "duration": 204,
    "start_time": "2024-04-21T13:45:31.665Z"
   },
   {
    "duration": 163,
    "start_time": "2024-04-21T13:56:51.475Z"
   },
   {
    "duration": 167,
    "start_time": "2024-04-21T13:57:10.416Z"
   },
   {
    "duration": 163,
    "start_time": "2024-04-21T13:59:31.213Z"
   },
   {
    "duration": 182,
    "start_time": "2024-04-21T14:00:14.928Z"
   },
   {
    "duration": 165,
    "start_time": "2024-04-21T14:00:21.088Z"
   },
   {
    "duration": 26,
    "start_time": "2024-04-21T14:39:46.651Z"
   },
   {
    "duration": 166,
    "start_time": "2024-04-21T14:40:33.891Z"
   },
   {
    "duration": 89,
    "start_time": "2024-04-21T15:03:08.979Z"
   },
   {
    "duration": 23,
    "start_time": "2024-04-21T15:03:21.960Z"
   },
   {
    "duration": 28,
    "start_time": "2024-04-21T15:03:40.622Z"
   },
   {
    "duration": 15,
    "start_time": "2024-04-21T15:04:23.212Z"
   },
   {
    "duration": 14,
    "start_time": "2024-04-21T15:04:41.330Z"
   },
   {
    "duration": 26,
    "start_time": "2024-04-21T15:05:07.065Z"
   },
   {
    "duration": 10,
    "start_time": "2024-04-21T15:05:25.297Z"
   },
   {
    "duration": 17,
    "start_time": "2024-04-21T15:05:33.670Z"
   },
   {
    "duration": 18,
    "start_time": "2024-04-21T15:05:46.844Z"
   },
   {
    "duration": 20,
    "start_time": "2024-04-21T15:08:48.605Z"
   },
   {
    "duration": 20,
    "start_time": "2024-04-21T15:08:58.087Z"
   },
   {
    "duration": 214,
    "start_time": "2024-04-21T15:09:38.559Z"
   },
   {
    "duration": 29,
    "start_time": "2024-04-21T15:09:42.651Z"
   },
   {
    "duration": 23,
    "start_time": "2024-04-21T15:11:56.341Z"
   },
   {
    "duration": 28,
    "start_time": "2024-04-21T15:12:05.749Z"
   },
   {
    "duration": 1146,
    "start_time": "2024-04-21T15:12:38.341Z"
   },
   {
    "duration": 80,
    "start_time": "2024-04-21T15:12:39.489Z"
   },
   {
    "duration": 3,
    "start_time": "2024-04-21T15:12:39.570Z"
   },
   {
    "duration": 32,
    "start_time": "2024-04-21T15:12:39.575Z"
   },
   {
    "duration": 25,
    "start_time": "2024-04-21T15:12:39.609Z"
   },
   {
    "duration": 18,
    "start_time": "2024-04-21T15:12:39.636Z"
   },
   {
    "duration": 249,
    "start_time": "2024-04-21T15:12:39.656Z"
   },
   {
    "duration": 158,
    "start_time": "2024-04-21T15:12:39.907Z"
   },
   {
    "duration": 169,
    "start_time": "2024-04-21T15:12:40.067Z"
   },
   {
    "duration": 2,
    "start_time": "2024-04-21T15:12:40.238Z"
   },
   {
    "duration": 41,
    "start_time": "2024-04-21T15:12:40.248Z"
   },
   {
    "duration": 25,
    "start_time": "2024-04-21T15:12:40.291Z"
   },
   {
    "duration": 184,
    "start_time": "2024-04-21T15:12:40.318Z"
   },
   {
    "duration": 136,
    "start_time": "2024-04-21T15:12:40.504Z"
   },
   {
    "duration": 8,
    "start_time": "2024-04-21T15:12:40.642Z"
   },
   {
    "duration": 19,
    "start_time": "2024-04-21T15:12:40.651Z"
   },
   {
    "duration": 2,
    "start_time": "2024-04-21T15:12:40.672Z"
   },
   {
    "duration": 1993,
    "start_time": "2024-04-21T15:12:40.676Z"
   },
   {
    "duration": 1240,
    "start_time": "2024-04-21T15:12:42.672Z"
   },
   {
    "duration": 11,
    "start_time": "2024-04-21T15:12:43.913Z"
   },
   {
    "duration": 1231,
    "start_time": "2024-04-21T15:12:43.925Z"
   },
   {
    "duration": 7,
    "start_time": "2024-04-21T15:12:45.158Z"
   },
   {
    "duration": 828,
    "start_time": "2024-04-21T15:12:45.167Z"
   },
   {
    "duration": 207,
    "start_time": "2024-04-21T15:12:45.997Z"
   },
   {
    "duration": 3,
    "start_time": "2024-04-21T15:12:46.205Z"
   },
   {
    "duration": 18,
    "start_time": "2024-04-21T15:12:46.209Z"
   },
   {
    "duration": 187,
    "start_time": "2024-04-21T15:12:46.229Z"
   },
   {
    "duration": 5,
    "start_time": "2024-04-21T15:12:46.420Z"
   },
   {
    "duration": 74,
    "start_time": "2024-04-21T15:12:46.427Z"
   },
   {
    "duration": 18,
    "start_time": "2024-04-21T15:12:46.503Z"
   },
   {
    "duration": 46,
    "start_time": "2024-04-21T15:12:46.523Z"
   },
   {
    "duration": 109,
    "start_time": "2024-04-21T15:45:48.282Z"
   },
   {
    "duration": 544,
    "start_time": "2024-04-21T15:48:18.470Z"
   },
   {
    "duration": 217,
    "start_time": "2024-04-21T16:00:43.244Z"
   },
   {
    "duration": 206,
    "start_time": "2024-04-21T16:02:29.237Z"
   },
   {
    "duration": 7,
    "start_time": "2024-04-21T16:03:57.217Z"
   },
   {
    "duration": 385,
    "start_time": "2024-04-21T16:07:28.746Z"
   },
   {
    "duration": 237,
    "start_time": "2024-04-21T16:07:41.828Z"
   },
   {
    "duration": 272,
    "start_time": "2024-04-21T16:07:55.923Z"
   },
   {
    "duration": 487,
    "start_time": "2024-04-21T16:09:46.679Z"
   },
   {
    "duration": 437,
    "start_time": "2024-04-21T16:30:41.918Z"
   },
   {
    "duration": 716,
    "start_time": "2024-04-21T16:31:02.109Z"
   },
   {
    "duration": 537,
    "start_time": "2024-04-21T16:31:12.127Z"
   },
   {
    "duration": 188,
    "start_time": "2024-04-21T16:42:04.341Z"
   },
   {
    "duration": 206,
    "start_time": "2024-04-21T16:42:25.744Z"
   },
   {
    "duration": 263,
    "start_time": "2024-04-21T16:42:48.818Z"
   },
   {
    "duration": 194,
    "start_time": "2024-04-21T16:43:36.663Z"
   },
   {
    "duration": 309,
    "start_time": "2024-04-21T16:44:39.436Z"
   },
   {
    "duration": 427,
    "start_time": "2024-04-21T16:47:08.970Z"
   },
   {
    "duration": 300,
    "start_time": "2024-04-21T16:47:59.703Z"
   },
   {
    "duration": 364,
    "start_time": "2024-04-21T16:48:52.984Z"
   },
   {
    "duration": 199,
    "start_time": "2024-04-21T16:49:17.438Z"
   },
   {
    "duration": 185,
    "start_time": "2024-04-21T16:49:44.574Z"
   },
   {
    "duration": 1129,
    "start_time": "2024-04-21T16:50:15.869Z"
   },
   {
    "duration": 80,
    "start_time": "2024-04-21T16:50:17.000Z"
   },
   {
    "duration": 3,
    "start_time": "2024-04-21T16:50:17.082Z"
   },
   {
    "duration": 15,
    "start_time": "2024-04-21T16:50:17.087Z"
   },
   {
    "duration": 31,
    "start_time": "2024-04-21T16:50:17.104Z"
   },
   {
    "duration": 30,
    "start_time": "2024-04-21T16:50:17.136Z"
   },
   {
    "duration": 201,
    "start_time": "2024-04-21T16:50:17.167Z"
   },
   {
    "duration": 168,
    "start_time": "2024-04-21T16:50:17.370Z"
   },
   {
    "duration": 189,
    "start_time": "2024-04-21T16:50:17.540Z"
   },
   {
    "duration": 3,
    "start_time": "2024-04-21T16:50:17.732Z"
   },
   {
    "duration": 62,
    "start_time": "2024-04-21T16:50:17.736Z"
   },
   {
    "duration": 36,
    "start_time": "2024-04-21T16:50:17.801Z"
   },
   {
    "duration": 191,
    "start_time": "2024-04-21T16:50:17.838Z"
   },
   {
    "duration": 146,
    "start_time": "2024-04-21T16:50:18.030Z"
   },
   {
    "duration": 9,
    "start_time": "2024-04-21T16:50:18.177Z"
   },
   {
    "duration": 8,
    "start_time": "2024-04-21T16:50:18.189Z"
   },
   {
    "duration": 2,
    "start_time": "2024-04-21T16:50:18.198Z"
   },
   {
    "duration": 1984,
    "start_time": "2024-04-21T16:50:18.202Z"
   },
   {
    "duration": 8,
    "start_time": "2024-04-21T16:50:20.188Z"
   },
   {
    "duration": 1220,
    "start_time": "2024-04-21T16:50:20.198Z"
   },
   {
    "duration": 8,
    "start_time": "2024-04-21T16:50:21.420Z"
   },
   {
    "duration": 354,
    "start_time": "2024-04-21T16:50:21.430Z"
   },
   {
    "duration": 3,
    "start_time": "2024-04-21T16:50:21.786Z"
   },
   {
    "duration": 654,
    "start_time": "2024-04-21T16:50:21.790Z"
   },
   {
    "duration": 203,
    "start_time": "2024-04-21T16:50:22.446Z"
   },
   {
    "duration": 3,
    "start_time": "2024-04-21T16:50:22.650Z"
   },
   {
    "duration": 15,
    "start_time": "2024-04-21T16:50:22.654Z"
   },
   {
    "duration": 196,
    "start_time": "2024-04-21T16:50:22.672Z"
   },
   {
    "duration": 5,
    "start_time": "2024-04-21T16:50:22.870Z"
   },
   {
    "duration": 47,
    "start_time": "2024-04-21T16:50:22.876Z"
   },
   {
    "duration": 48,
    "start_time": "2024-04-21T16:50:22.925Z"
   },
   {
    "duration": 17,
    "start_time": "2024-04-21T16:50:22.974Z"
   },
   {
    "duration": 187,
    "start_time": "2024-04-21T16:56:53.051Z"
   },
   {
    "duration": 218,
    "start_time": "2024-04-21T16:57:09.847Z"
   },
   {
    "duration": 238,
    "start_time": "2024-04-21T16:57:38.810Z"
   },
   {
    "duration": 35,
    "start_time": "2024-04-21T16:58:07.613Z"
   },
   {
    "duration": 215,
    "start_time": "2024-04-21T16:58:19.397Z"
   },
   {
    "duration": 988,
    "start_time": "2024-04-21T16:58:46.021Z"
   },
   {
    "duration": 207,
    "start_time": "2024-04-21T16:59:41.888Z"
   },
   {
    "duration": 213,
    "start_time": "2024-04-21T16:59:56.868Z"
   },
   {
    "duration": 311,
    "start_time": "2024-04-21T17:00:19.777Z"
   },
   {
    "duration": 201,
    "start_time": "2024-04-21T17:00:42.326Z"
   },
   {
    "duration": 217,
    "start_time": "2024-04-21T17:00:52.762Z"
   },
   {
    "duration": 192,
    "start_time": "2024-04-21T17:01:50.001Z"
   },
   {
    "duration": 1075,
    "start_time": "2024-04-21T17:04:24.422Z"
   },
   {
    "duration": 78,
    "start_time": "2024-04-21T17:04:25.499Z"
   },
   {
    "duration": 3,
    "start_time": "2024-04-21T17:04:25.581Z"
   },
   {
    "duration": 16,
    "start_time": "2024-04-21T17:04:25.585Z"
   },
   {
    "duration": 25,
    "start_time": "2024-04-21T17:04:25.603Z"
   },
   {
    "duration": 50,
    "start_time": "2024-04-21T17:04:25.630Z"
   },
   {
    "duration": 209,
    "start_time": "2024-04-21T17:04:25.682Z"
   },
   {
    "duration": 184,
    "start_time": "2024-04-21T17:04:25.893Z"
   },
   {
    "duration": 188,
    "start_time": "2024-04-21T17:04:26.080Z"
   },
   {
    "duration": 3,
    "start_time": "2024-04-21T17:04:26.269Z"
   },
   {
    "duration": 51,
    "start_time": "2024-04-21T17:04:26.273Z"
   },
   {
    "duration": 30,
    "start_time": "2024-04-21T17:04:26.326Z"
   },
   {
    "duration": 181,
    "start_time": "2024-04-21T17:04:26.365Z"
   },
   {
    "duration": 153,
    "start_time": "2024-04-21T17:04:26.547Z"
   },
   {
    "duration": 8,
    "start_time": "2024-04-21T17:04:26.703Z"
   },
   {
    "duration": 18,
    "start_time": "2024-04-21T17:04:26.713Z"
   },
   {
    "duration": 12,
    "start_time": "2024-04-21T17:04:26.733Z"
   },
   {
    "duration": 1952,
    "start_time": "2024-04-21T17:04:26.748Z"
   },
   {
    "duration": 8,
    "start_time": "2024-04-21T17:04:28.702Z"
   },
   {
    "duration": 1247,
    "start_time": "2024-04-21T17:04:28.711Z"
   },
   {
    "duration": 11,
    "start_time": "2024-04-21T17:04:29.959Z"
   },
   {
    "duration": 385,
    "start_time": "2024-04-21T17:04:29.971Z"
   },
   {
    "duration": 8,
    "start_time": "2024-04-21T17:04:30.357Z"
   },
   {
    "duration": 751,
    "start_time": "2024-04-21T17:04:30.366Z"
   },
   {
    "duration": 200,
    "start_time": "2024-04-21T17:04:31.118Z"
   },
   {
    "duration": 220,
    "start_time": "2024-04-21T17:04:31.320Z"
   },
   {
    "duration": 202,
    "start_time": "2024-04-21T17:04:31.544Z"
   },
   {
    "duration": 2,
    "start_time": "2024-04-21T17:04:31.748Z"
   },
   {
    "duration": 7,
    "start_time": "2024-04-21T17:04:31.765Z"
   },
   {
    "duration": 195,
    "start_time": "2024-04-21T17:04:31.773Z"
   },
   {
    "duration": 6,
    "start_time": "2024-04-21T17:04:31.969Z"
   },
   {
    "duration": 54,
    "start_time": "2024-04-21T17:04:31.976Z"
   },
   {
    "duration": 18,
    "start_time": "2024-04-21T17:04:32.065Z"
   },
   {
    "duration": 16,
    "start_time": "2024-04-21T17:04:32.085Z"
   },
   {
    "duration": 55,
    "start_time": "2024-04-21T17:09:17.576Z"
   },
   {
    "duration": 67,
    "start_time": "2024-04-21T17:09:31.198Z"
   },
   {
    "duration": 17,
    "start_time": "2024-04-21T17:10:32.311Z"
   },
   {
    "duration": 19,
    "start_time": "2024-04-21T17:10:41.835Z"
   },
   {
    "duration": 26,
    "start_time": "2024-04-21T17:10:57.076Z"
   },
   {
    "duration": 20,
    "start_time": "2024-04-21T17:11:01.707Z"
   },
   {
    "duration": 18,
    "start_time": "2024-04-21T17:11:10.552Z"
   },
   {
    "duration": 22,
    "start_time": "2024-04-21T17:11:34.712Z"
   },
   {
    "duration": 24,
    "start_time": "2024-04-21T17:12:00.988Z"
   },
   {
    "duration": 68,
    "start_time": "2024-04-21T17:12:29.291Z"
   },
   {
    "duration": 1271,
    "start_time": "2024-04-21T17:35:07.108Z"
   },
   {
    "duration": 858,
    "start_time": "2024-04-21T17:38:15.625Z"
   },
   {
    "duration": 317,
    "start_time": "2024-04-21T17:39:13.653Z"
   },
   {
    "duration": 984,
    "start_time": "2024-04-21T17:39:32.459Z"
   },
   {
    "duration": 879,
    "start_time": "2024-04-21T17:39:51.389Z"
   },
   {
    "duration": 10,
    "start_time": "2024-04-21T17:53:46.230Z"
   },
   {
    "duration": 188,
    "start_time": "2024-04-21T17:54:09.217Z"
   },
   {
    "duration": 9664,
    "start_time": "2024-04-21T17:57:35.274Z"
   },
   {
    "duration": 9753,
    "start_time": "2024-04-21T18:02:23.509Z"
   },
   {
    "duration": 9545,
    "start_time": "2024-04-21T18:03:54.007Z"
   },
   {
    "duration": 22,
    "start_time": "2024-04-21T18:04:21.348Z"
   },
   {
    "duration": 16,
    "start_time": "2024-04-21T18:05:22.503Z"
   },
   {
    "duration": 9681,
    "start_time": "2024-04-21T18:05:29.265Z"
   },
   {
    "duration": 9556,
    "start_time": "2024-04-21T18:06:30.203Z"
   },
   {
    "duration": 9426,
    "start_time": "2024-04-21T18:06:51.024Z"
   },
   {
    "duration": 9395,
    "start_time": "2024-04-21T18:08:41.600Z"
   },
   {
    "duration": 9598,
    "start_time": "2024-04-21T18:12:09.321Z"
   },
   {
    "duration": 9391,
    "start_time": "2024-04-21T18:13:23.989Z"
   },
   {
    "duration": 1159,
    "start_time": "2024-04-21T18:22:58.245Z"
   },
   {
    "duration": 82,
    "start_time": "2024-04-21T18:22:59.406Z"
   },
   {
    "duration": 3,
    "start_time": "2024-04-21T18:22:59.489Z"
   },
   {
    "duration": 21,
    "start_time": "2024-04-21T18:22:59.494Z"
   },
   {
    "duration": 45,
    "start_time": "2024-04-21T18:22:59.516Z"
   },
   {
    "duration": 20,
    "start_time": "2024-04-21T18:22:59.563Z"
   },
   {
    "duration": 265,
    "start_time": "2024-04-21T18:22:59.585Z"
   },
   {
    "duration": 186,
    "start_time": "2024-04-21T18:22:59.852Z"
   },
   {
    "duration": 179,
    "start_time": "2024-04-21T18:23:00.040Z"
   },
   {
    "duration": 3,
    "start_time": "2024-04-21T18:23:00.221Z"
   },
   {
    "duration": 89,
    "start_time": "2024-04-21T18:23:00.225Z"
   },
   {
    "duration": 122,
    "start_time": "2024-04-21T18:23:00.316Z"
   },
   {
    "duration": 239,
    "start_time": "2024-04-21T18:23:00.440Z"
   },
   {
    "duration": 148,
    "start_time": "2024-04-21T18:23:00.680Z"
   },
   {
    "duration": 9,
    "start_time": "2024-04-21T18:23:00.829Z"
   },
   {
    "duration": 69,
    "start_time": "2024-04-21T18:23:00.840Z"
   },
   {
    "duration": 67,
    "start_time": "2024-04-21T18:23:00.910Z"
   },
   {
    "duration": 2408,
    "start_time": "2024-04-21T18:23:00.979Z"
   },
   {
    "duration": 7,
    "start_time": "2024-04-21T18:23:03.388Z"
   },
   {
    "duration": 1245,
    "start_time": "2024-04-21T18:23:03.396Z"
   },
   {
    "duration": 8,
    "start_time": "2024-04-21T18:23:04.643Z"
   },
   {
    "duration": 338,
    "start_time": "2024-04-21T18:23:04.652Z"
   },
   {
    "duration": 2,
    "start_time": "2024-04-21T18:23:04.992Z"
   },
   {
    "duration": 658,
    "start_time": "2024-04-21T18:23:04.996Z"
   },
   {
    "duration": 221,
    "start_time": "2024-04-21T18:23:05.656Z"
   },
   {
    "duration": 238,
    "start_time": "2024-04-21T18:23:05.878Z"
   },
   {
    "duration": 196,
    "start_time": "2024-04-21T18:23:06.118Z"
   },
   {
    "duration": 2,
    "start_time": "2024-04-21T18:23:06.318Z"
   },
   {
    "duration": 13,
    "start_time": "2024-04-21T18:23:06.322Z"
   },
   {
    "duration": 195,
    "start_time": "2024-04-21T18:23:06.337Z"
   },
   {
    "duration": 9140,
    "start_time": "2024-04-21T18:23:06.533Z"
   },
   {
    "duration": 5,
    "start_time": "2024-04-21T18:23:15.675Z"
   },
   {
    "duration": 99,
    "start_time": "2024-04-21T18:23:15.683Z"
   },
   {
    "duration": 23,
    "start_time": "2024-04-21T18:23:15.783Z"
   },
   {
    "duration": 17,
    "start_time": "2024-04-21T18:23:15.808Z"
   },
   {
    "duration": 72,
    "start_time": "2024-04-21T18:23:40.464Z"
   },
   {
    "duration": 3,
    "start_time": "2024-04-21T18:23:42.991Z"
   },
   {
    "duration": 15,
    "start_time": "2024-04-21T18:23:44.003Z"
   },
   {
    "duration": 20,
    "start_time": "2024-04-21T18:23:44.245Z"
   },
   {
    "duration": 20,
    "start_time": "2024-04-21T18:23:44.452Z"
   },
   {
    "duration": 167,
    "start_time": "2024-04-21T18:23:44.647Z"
   },
   {
    "duration": 161,
    "start_time": "2024-04-21T18:23:44.822Z"
   },
   {
    "duration": 30,
    "start_time": "2024-04-21T18:23:50.714Z"
   },
   {
    "duration": 30,
    "start_time": "2024-04-21T18:23:58.308Z"
   },
   {
    "duration": 9,
    "start_time": "2024-04-21T18:24:04.546Z"
   },
   {
    "duration": 9,
    "start_time": "2024-04-21T18:24:13.327Z"
   },
   {
    "duration": 1963,
    "start_time": "2024-04-21T18:24:27.612Z"
   },
   {
    "duration": 1828,
    "start_time": "2024-04-21T18:24:36.151Z"
   },
   {
    "duration": 910,
    "start_time": "2024-04-21T18:29:37.925Z"
   },
   {
    "duration": 1113,
    "start_time": "2024-04-21T18:29:49.184Z"
   },
   {
    "duration": 79,
    "start_time": "2024-04-21T18:29:50.299Z"
   },
   {
    "duration": 3,
    "start_time": "2024-04-21T18:29:50.380Z"
   },
   {
    "duration": 28,
    "start_time": "2024-04-21T18:29:50.384Z"
   },
   {
    "duration": 18,
    "start_time": "2024-04-21T18:29:50.414Z"
   },
   {
    "duration": 33,
    "start_time": "2024-04-21T18:29:50.434Z"
   },
   {
    "duration": 220,
    "start_time": "2024-04-21T18:29:50.468Z"
   },
   {
    "duration": 165,
    "start_time": "2024-04-21T18:29:50.690Z"
   },
   {
    "duration": 198,
    "start_time": "2024-04-21T18:29:50.856Z"
   },
   {
    "duration": 8,
    "start_time": "2024-04-21T18:29:51.057Z"
   },
   {
    "duration": 64,
    "start_time": "2024-04-21T18:29:51.066Z"
   },
   {
    "duration": 28,
    "start_time": "2024-04-21T18:29:51.133Z"
   },
   {
    "duration": 190,
    "start_time": "2024-04-21T18:29:51.162Z"
   },
   {
    "duration": 148,
    "start_time": "2024-04-21T18:29:51.353Z"
   },
   {
    "duration": 8,
    "start_time": "2024-04-21T18:29:51.503Z"
   },
   {
    "duration": 17,
    "start_time": "2024-04-21T18:29:51.513Z"
   },
   {
    "duration": 9,
    "start_time": "2024-04-21T18:29:51.532Z"
   },
   {
    "duration": 1864,
    "start_time": "2024-04-21T18:29:51.543Z"
   },
   {
    "duration": 6,
    "start_time": "2024-04-21T18:29:53.408Z"
   },
   {
    "duration": 1200,
    "start_time": "2024-04-21T18:29:53.416Z"
   },
   {
    "duration": 8,
    "start_time": "2024-04-21T18:29:54.617Z"
   },
   {
    "duration": 332,
    "start_time": "2024-04-21T18:29:54.627Z"
   },
   {
    "duration": 2,
    "start_time": "2024-04-21T18:29:54.960Z"
   },
   {
    "duration": 675,
    "start_time": "2024-04-21T18:29:54.965Z"
   },
   {
    "duration": 234,
    "start_time": "2024-04-21T18:29:55.642Z"
   },
   {
    "duration": 211,
    "start_time": "2024-04-21T18:29:55.877Z"
   },
   {
    "duration": 198,
    "start_time": "2024-04-21T18:29:56.090Z"
   },
   {
    "duration": 3,
    "start_time": "2024-04-21T18:29:56.290Z"
   },
   {
    "duration": 13,
    "start_time": "2024-04-21T18:29:56.294Z"
   },
   {
    "duration": 217,
    "start_time": "2024-04-21T18:29:56.308Z"
   },
   {
    "duration": 9061,
    "start_time": "2024-04-21T18:29:56.526Z"
   },
   {
    "duration": 6,
    "start_time": "2024-04-21T18:30:05.589Z"
   },
   {
    "duration": 83,
    "start_time": "2024-04-21T18:30:05.597Z"
   },
   {
    "duration": 18,
    "start_time": "2024-04-21T18:30:05.682Z"
   },
   {
    "duration": 42,
    "start_time": "2024-04-21T18:30:05.701Z"
   },
   {
    "duration": 156,
    "start_time": "2024-04-21T18:39:30.146Z"
   },
   {
    "duration": 154,
    "start_time": "2024-04-21T18:39:44.927Z"
   },
   {
    "duration": 154,
    "start_time": "2024-04-21T18:39:45.862Z"
   },
   {
    "duration": 19,
    "start_time": "2024-04-21T18:42:32.962Z"
   },
   {
    "duration": 1136,
    "start_time": "2024-04-21T18:50:43.359Z"
   },
   {
    "duration": 77,
    "start_time": "2024-04-21T18:50:44.497Z"
   },
   {
    "duration": 3,
    "start_time": "2024-04-21T18:50:44.575Z"
   },
   {
    "duration": 16,
    "start_time": "2024-04-21T18:50:44.579Z"
   },
   {
    "duration": 20,
    "start_time": "2024-04-21T18:50:44.597Z"
   },
   {
    "duration": 19,
    "start_time": "2024-04-21T18:50:44.618Z"
   },
   {
    "duration": 259,
    "start_time": "2024-04-21T18:50:44.638Z"
   },
   {
    "duration": 180,
    "start_time": "2024-04-21T18:50:44.899Z"
   },
   {
    "duration": 179,
    "start_time": "2024-04-21T18:50:45.081Z"
   },
   {
    "duration": 2,
    "start_time": "2024-04-21T18:50:45.267Z"
   },
   {
    "duration": 64,
    "start_time": "2024-04-21T18:50:45.270Z"
   },
   {
    "duration": 34,
    "start_time": "2024-04-21T18:50:45.336Z"
   },
   {
    "duration": 96,
    "start_time": "2024-04-21T18:50:45.371Z"
   },
   {
    "duration": 0,
    "start_time": "2024-04-21T18:50:45.469Z"
   },
   {
    "duration": 0,
    "start_time": "2024-04-21T18:50:45.470Z"
   },
   {
    "duration": 0,
    "start_time": "2024-04-21T18:50:45.471Z"
   },
   {
    "duration": 0,
    "start_time": "2024-04-21T18:50:45.472Z"
   },
   {
    "duration": 0,
    "start_time": "2024-04-21T18:50:45.473Z"
   },
   {
    "duration": 0,
    "start_time": "2024-04-21T18:50:45.474Z"
   },
   {
    "duration": 0,
    "start_time": "2024-04-21T18:50:45.475Z"
   },
   {
    "duration": 0,
    "start_time": "2024-04-21T18:50:45.475Z"
   },
   {
    "duration": 0,
    "start_time": "2024-04-21T18:50:45.476Z"
   },
   {
    "duration": 0,
    "start_time": "2024-04-21T18:50:45.477Z"
   },
   {
    "duration": 0,
    "start_time": "2024-04-21T18:50:45.478Z"
   },
   {
    "duration": 0,
    "start_time": "2024-04-21T18:50:45.478Z"
   },
   {
    "duration": 1,
    "start_time": "2024-04-21T18:50:45.479Z"
   },
   {
    "duration": 0,
    "start_time": "2024-04-21T18:50:45.480Z"
   },
   {
    "duration": 0,
    "start_time": "2024-04-21T18:50:45.481Z"
   },
   {
    "duration": 0,
    "start_time": "2024-04-21T18:50:45.482Z"
   },
   {
    "duration": 0,
    "start_time": "2024-04-21T18:50:45.483Z"
   },
   {
    "duration": 0,
    "start_time": "2024-04-21T18:50:45.484Z"
   },
   {
    "duration": 0,
    "start_time": "2024-04-21T18:50:45.485Z"
   },
   {
    "duration": 0,
    "start_time": "2024-04-21T18:50:45.486Z"
   },
   {
    "duration": 0,
    "start_time": "2024-04-21T18:50:45.487Z"
   },
   {
    "duration": 0,
    "start_time": "2024-04-21T18:50:45.488Z"
   },
   {
    "duration": 169,
    "start_time": "2024-04-21T18:51:40.463Z"
   },
   {
    "duration": 156,
    "start_time": "2024-04-21T18:51:54.170Z"
   },
   {
    "duration": 159,
    "start_time": "2024-04-21T18:52:02.231Z"
   },
   {
    "duration": 175,
    "start_time": "2024-04-21T18:54:35.528Z"
   },
   {
    "duration": 1141,
    "start_time": "2024-04-21T18:54:42.566Z"
   },
   {
    "duration": 79,
    "start_time": "2024-04-21T18:54:43.709Z"
   },
   {
    "duration": 3,
    "start_time": "2024-04-21T18:54:43.790Z"
   },
   {
    "duration": 15,
    "start_time": "2024-04-21T18:54:43.795Z"
   },
   {
    "duration": 18,
    "start_time": "2024-04-21T18:54:43.812Z"
   },
   {
    "duration": 46,
    "start_time": "2024-04-21T18:54:43.832Z"
   },
   {
    "duration": 221,
    "start_time": "2024-04-21T18:54:43.879Z"
   },
   {
    "duration": 160,
    "start_time": "2024-04-21T18:54:44.102Z"
   },
   {
    "duration": 165,
    "start_time": "2024-04-21T18:54:44.265Z"
   },
   {
    "duration": 2,
    "start_time": "2024-04-21T18:54:44.432Z"
   },
   {
    "duration": 42,
    "start_time": "2024-04-21T18:54:44.436Z"
   },
   {
    "duration": 25,
    "start_time": "2024-04-21T18:54:44.480Z"
   },
   {
    "duration": 207,
    "start_time": "2024-04-21T18:54:44.507Z"
   },
   {
    "duration": 143,
    "start_time": "2024-04-21T18:54:44.715Z"
   },
   {
    "duration": 13,
    "start_time": "2024-04-21T18:54:44.860Z"
   },
   {
    "duration": 17,
    "start_time": "2024-04-21T18:54:44.875Z"
   },
   {
    "duration": 2,
    "start_time": "2024-04-21T18:54:44.894Z"
   },
   {
    "duration": 1870,
    "start_time": "2024-04-21T18:54:44.898Z"
   },
   {
    "duration": 8,
    "start_time": "2024-04-21T18:54:46.770Z"
   },
   {
    "duration": 1219,
    "start_time": "2024-04-21T18:54:46.780Z"
   },
   {
    "duration": 9,
    "start_time": "2024-04-21T18:54:48.001Z"
   },
   {
    "duration": 344,
    "start_time": "2024-04-21T18:54:48.012Z"
   },
   {
    "duration": 7,
    "start_time": "2024-04-21T18:54:48.358Z"
   },
   {
    "duration": 719,
    "start_time": "2024-04-21T18:54:48.366Z"
   },
   {
    "duration": 211,
    "start_time": "2024-04-21T18:54:49.087Z"
   },
   {
    "duration": 231,
    "start_time": "2024-04-21T18:54:49.300Z"
   },
   {
    "duration": 204,
    "start_time": "2024-04-21T18:54:49.532Z"
   },
   {
    "duration": 2,
    "start_time": "2024-04-21T18:54:49.739Z"
   },
   {
    "duration": 26,
    "start_time": "2024-04-21T18:54:49.743Z"
   },
   {
    "duration": 199,
    "start_time": "2024-04-21T18:54:49.771Z"
   },
   {
    "duration": 9018,
    "start_time": "2024-04-21T18:54:49.972Z"
   },
   {
    "duration": 7,
    "start_time": "2024-04-21T18:54:58.992Z"
   },
   {
    "duration": 78,
    "start_time": "2024-04-21T18:54:59.001Z"
   },
   {
    "duration": 17,
    "start_time": "2024-04-21T18:54:59.080Z"
   },
   {
    "duration": 17,
    "start_time": "2024-04-21T18:54:59.098Z"
   },
   {
    "duration": 142,
    "start_time": "2024-04-21T18:58:44.213Z"
   },
   {
    "duration": 1177,
    "start_time": "2024-04-21T19:00:34.629Z"
   },
   {
    "duration": 80,
    "start_time": "2024-04-21T19:00:35.808Z"
   },
   {
    "duration": 3,
    "start_time": "2024-04-21T19:00:35.890Z"
   },
   {
    "duration": 17,
    "start_time": "2024-04-21T19:00:35.895Z"
   },
   {
    "duration": 18,
    "start_time": "2024-04-21T19:00:35.914Z"
   },
   {
    "duration": 46,
    "start_time": "2024-04-21T19:00:35.933Z"
   },
   {
    "duration": 212,
    "start_time": "2024-04-21T19:00:35.981Z"
   },
   {
    "duration": 165,
    "start_time": "2024-04-21T19:00:36.194Z"
   },
   {
    "duration": 186,
    "start_time": "2024-04-21T19:00:36.361Z"
   },
   {
    "duration": 2,
    "start_time": "2024-04-21T19:00:36.550Z"
   },
   {
    "duration": 44,
    "start_time": "2024-04-21T19:00:36.554Z"
   },
   {
    "duration": 29,
    "start_time": "2024-04-21T19:00:36.600Z"
   },
   {
    "duration": 228,
    "start_time": "2024-04-21T19:00:36.630Z"
   },
   {
    "duration": 145,
    "start_time": "2024-04-21T19:00:36.865Z"
   },
   {
    "duration": 10,
    "start_time": "2024-04-21T19:00:37.012Z"
   },
   {
    "duration": 16,
    "start_time": "2024-04-21T19:00:37.024Z"
   },
   {
    "duration": 5,
    "start_time": "2024-04-21T19:00:37.042Z"
   },
   {
    "duration": 1827,
    "start_time": "2024-04-21T19:00:37.065Z"
   },
   {
    "duration": 7,
    "start_time": "2024-04-21T19:00:38.894Z"
   },
   {
    "duration": 1217,
    "start_time": "2024-04-21T19:00:38.903Z"
   },
   {
    "duration": 8,
    "start_time": "2024-04-21T19:00:40.121Z"
   },
   {
    "duration": 352,
    "start_time": "2024-04-21T19:00:40.130Z"
   },
   {
    "duration": 2,
    "start_time": "2024-04-21T19:00:40.483Z"
   },
   {
    "duration": 699,
    "start_time": "2024-04-21T19:00:40.487Z"
   },
   {
    "duration": 206,
    "start_time": "2024-04-21T19:00:41.188Z"
   },
   {
    "duration": 208,
    "start_time": "2024-04-21T19:00:41.395Z"
   },
   {
    "duration": 202,
    "start_time": "2024-04-21T19:00:41.605Z"
   },
   {
    "duration": 3,
    "start_time": "2024-04-21T19:00:41.810Z"
   },
   {
    "duration": 17,
    "start_time": "2024-04-21T19:00:41.814Z"
   },
   {
    "duration": 187,
    "start_time": "2024-04-21T19:00:41.833Z"
   },
   {
    "duration": 9128,
    "start_time": "2024-04-21T19:00:42.021Z"
   },
   {
    "duration": 6,
    "start_time": "2024-04-21T19:00:51.151Z"
   },
   {
    "duration": 56,
    "start_time": "2024-04-21T19:00:51.159Z"
   },
   {
    "duration": 51,
    "start_time": "2024-04-21T19:00:51.217Z"
   },
   {
    "duration": 17,
    "start_time": "2024-04-21T19:00:51.270Z"
   }
  ],
  "kernelspec": {
   "display_name": "Python 3 (ipykernel)",
   "language": "python",
   "name": "python3"
  },
  "language_info": {
   "codemirror_mode": {
    "name": "ipython",
    "version": 3
   },
   "file_extension": ".py",
   "mimetype": "text/x-python",
   "name": "python",
   "nbconvert_exporter": "python",
   "pygments_lexer": "ipython3",
   "version": "3.9.5"
  },
  "toc": {
   "base_numbering": 1,
   "nav_menu": {},
   "number_sections": true,
   "sideBar": true,
   "skip_h1_title": true,
   "title_cell": "Table of Contents",
   "title_sidebar": "Contents",
   "toc_cell": false,
   "toc_position": {
    "height": "calc(100% - 180px)",
    "left": "10px",
    "top": "150px",
    "width": "165px"
   },
   "toc_section_display": true,
   "toc_window_display": true
  }
 },
 "nbformat": 4,
 "nbformat_minor": 2
}
